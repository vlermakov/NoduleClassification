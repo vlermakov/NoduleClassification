{
 "cells": [
  {
   "cell_type": "code",
   "execution_count": 1,
   "id": "a7dfc817",
   "metadata": {},
   "outputs": [],
   "source": [
    "import glob\n",
    "import os\n",
    "import json\n",
    "import dpath\n",
    "import zlib\n",
    "import base64\n",
    "\n",
    "import numpy as np\n",
    "\n",
    "CANCER_NODULES_DATASET_DIR = '/media/vlermakov/data/UCSDNodules/Metastatic/'\n",
    "PHONETIC_ID = 'Prutigu'\n",
    "PATCH_ID = '62c10f05d4ca3408fb0fcfde-c42a3d86110532f3-1' \n",
    "# PHONETIC_ID = 'Gehienes'\n",
    "# PATCH_ID = '62c10f288b78c508ff535992-15f75695855943ff-1' \n",
    "\n",
    "# Get json files in the segmentation subfolder that start with the phonetic_id\n",
    "json_files = glob.glob(os.path.join(CANCER_NODULES_DATASET_DIR, \"segmentation\", PHONETIC_ID + \"*.json\"))\n",
    "\n",
    "patch_id_stub = PATCH_ID.rsplit(\"-\",1)[0]\n",
    "\n",
    "# Get the json file that has the patch_id_stub in it\n",
    "json_file = [json_file for json_file in json_files if patch_id_stub in open(json_file).read()][0]\n"
   ]
  },
  {
   "cell_type": "code",
   "execution_count": 2,
   "id": "302fa8ac",
   "metadata": {},
   "outputs": [
    {
     "name": "stdout",
     "output_type": "stream",
     "text": [
      "patch: 428,230,150\n"
     ]
    }
   ],
   "source": [
    "patch_data = None\n",
    "decompressed_data = None\n",
    "target_volume = np.zeros((512,512,512))\n",
    "tmp_buffer =None\n",
    "\n",
    "# Open the json file and parse it\n",
    "with open(json_file) as f:\n",
    "    data = json.load(f)\n",
    "\n",
    "    # Search for all occurrences of the key \"patches\" in the data\n",
    "    found = dpath.search(data, '**/patches', yielded=True)\n",
    "\n",
    "    # Iterate through all child elements of each \"patches\"\n",
    "    for path, patches in found:\n",
    "        for patch in patches:\n",
    "            # If fields are not defined then skip this patch\n",
    "            if patch['id'] is None or patch['height'] is None or patch['width'] is None or patch['depth'] is None:\n",
    "                continue\n",
    "                \n",
    "\n",
    "            # Get the center of the nodule in the target volume\n",
    "            x = int(patch[\"position\"][0])\n",
    "            y = int(patch[\"position\"][1])\n",
    "            z = int(patch[\"position\"][2])\n",
    "            \n",
    "            if patch['id'] == PATCH_ID:\n",
    "                print(f\"patch: {z},{y},{x}\")\n",
    "\n",
    "\n",
    "            # Decode the Base64 string to bytes\n",
    "            compressed_data = base64.b64decode(patch[\"binary\"])\n",
    "\n",
    "            # Decompress using zlib\n",
    "            decompressed_data = zlib.decompress(compressed_data)\n",
    "            decompressed_data = np.frombuffer(decompressed_data, dtype=np.uint8)\n",
    "\n",
    "            decompressed_data = np.array(decompressed_data > 0, dtype=np.int8)\n",
    "\n",
    "            # Reshape the data based on height, width and depth in the patch\n",
    "            patch_data = decompressed_data.reshape((patch['depth'],patch['height'],patch['width']))\n",
    "\n",
    "\n",
    "            # Inscribe the patch into the target volume, setting 1 where 1 is in the patch, making sure to not overwrite existing values\n",
    "            target_volume[z:z+patch['depth'],y:y+patch['height'],x:x+patch['width']] = np.maximum(target_volume[z:z+patch['depth'],y:y+patch['height'],x:x+patch['width']],patch_data)\n",
    "    \n",
    "            tmp_buffer = np.zeros(target_volume.shape,dtype=np.int8)\n",
    "            tmp_buffer[z:z+patch['depth'],y:y+patch['height'],x:x+patch['width']] = patch_data\n",
    "\n"
   ]
  },
  {
   "cell_type": "code",
   "execution_count": 3,
   "id": "004eac32",
   "metadata": {},
   "outputs": [],
   "source": [
    "display_volume = target_volume[428:428+64,230:230+64,150:150+64]"
   ]
  },
  {
   "cell_type": "code",
   "execution_count": 4,
   "id": "bf2bb34d",
   "metadata": {},
   "outputs": [
    {
     "data": {
      "image/png": "[encoded data removed]",
      "text/plain": [
       "<Figure size 1000x1000 with 1 Axes>"
      ]
     },
     "metadata": {},
     "output_type": "display_data"
    }
   ],
   "source": [
    "from monai.visualize.utils import matshow3d\n",
    "import matplotlib.pyplot as plt\n",
    "\n",
    "fig1 = plt.figure()\n",
    "matshow3d(display_volume, channel_dim = None, fig = fig1, frame_dim=-1)\n",
    "plt.show()"
   ]
  },
  {
   "cell_type": "code",
   "execution_count": null,
   "id": "43442673",
   "metadata": {},
   "outputs": [],
   "source": []
  }
 ],
 "metadata": {
  "kernelspec": {
   "display_name": "Python 3 (ipykernel)",
   "language": "python",
   "name": "python3"
  },
  "language_info": {
   "codemirror_mode": {
    "name": "ipython",
    "version": 3
   },
   "file_extension": ".py",
   "mimetype": "text/x-python",
   "name": "python",
   "nbconvert_exporter": "python",
   "pygments_lexer": "ipython3",
   "version": "3.11.5"
  }
 },
 "nbformat": 4,
 "nbformat_minor": 5
}
