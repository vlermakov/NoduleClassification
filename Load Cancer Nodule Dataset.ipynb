{
 "cells": [
  {
   "cell_type": "code",
   "execution_count": 2,
   "id": "32355a22",
   "metadata": {},
   "outputs": [
    {
     "name": "stdout",
     "output_type": "stream",
     "text": [
      "Processing MRN 32135581 Phonetic_ID Minfirag\n",
      "Processing MRN 32133264 Phonetic_ID Sopoopra\n",
      "Processing MRN 32130631 Phonetic_ID Tusliblu\n",
      "Processing MRN 32115674 Phonetic_ID Gunifa\n",
      "Processing MRN 32113418 Phonetic_ID Jasnuflo\n",
      "Processing MRN 32108403 Phonetic_ID Olcisof\n",
      "Processing MRN 32108403 Phonetic_ID Jebeemu\n",
      "Processing MRN 32104560 Phonetic_ID Ukebjiem\n",
      "Processing MRN 32093373 Phonetic_ID Socaba\n",
      "Processing MRN 32092400 Phonetic_ID Lorutink\n",
      "Processing MRN 32092400 Phonetic_ID Dihudi\n",
      "Processing MRN 32082883 Phonetic_ID Nidogek\n",
      "Processing MRN 32080054 Phonetic_ID Agunit\n",
      "Processing MRN 32075094 Phonetic_ID Bekubo\n",
      "Processing MRN 32072750 Phonetic_ID Jaquesif\n",
      "Processing MRN 32058379 Phonetic_ID Rakajid\n",
      "Processing MRN 32047099 Phonetic_ID Mohuteg\n",
      "Patch ID nan is not a string\n",
      "Processing MRN 32047002 Phonetic_ID Ridine\n",
      "Processing MRN 32043734 Phonetic_ID Swofeku\n",
      "Processing MRN 32023702 Phonetic_ID Tuerekom\n",
      "Processing MRN 31995447 Phonetic_ID Hakingques\n",
      "Processing MRN 31970139 Phonetic_ID Sracaqua\n",
      "Processing MRN 31959244 Phonetic_ID Pokuemo\n",
      "Processing MRN 31943848 Phonetic_ID Fabacou\n",
      "Processing MRN 31939873 Phonetic_ID Hilescuet\n",
      "Processing MRN 31890107 Phonetic_ID Figooso\n",
      "Processing MRN 31879714 Phonetic_ID Nuborif\n",
      "Processing MRN 31855984 Phonetic_ID Frequalad\n",
      "Processing MRN 31834300 Phonetic_ID Hehuji\n",
      "Processing MRN 31833573 Phonetic_ID Gojequa\n",
      "Processing MRN 31830723 Phonetic_ID Lorique\n",
      "Processing MRN 31791743 Phonetic_ID Lihamu\n",
      "Processing MRN 31743549 Phonetic_ID Jesbernan\n",
      "Processing MRN 31736736 Phonetic_ID Jugaso\n",
      "Processing MRN 31704994 Phonetic_ID Kajalol\n",
      "Processing MRN 31702391 Phonetic_ID Hesora\n",
      "Processing MRN 31649916 Phonetic_ID Hukliley\n",
      "Processing MRN 31633715 Phonetic_ID Masede\n",
      "Processing MRN 31630292 Phonetic_ID Kesuci\n",
      "Processing MRN 31582270 Phonetic_ID Tidona\n",
      "Processing MRN 31581009 Phonetic_ID Diplooreg\n",
      "Processing MRN 31511927 Phonetic_ID Riqueno\n",
      "Patch ID nan is not a string\n",
      "Processing MRN 31425952 Phonetic_ID Nuquesra\n",
      "Processing MRN 31401390 Phonetic_ID Bomima\n",
      "Processing MRN 31357215 Phonetic_ID Pumosue\n",
      "Processing MRN 31355714 Phonetic_ID Tedaque\n",
      "Processing MRN 31354284 Phonetic_ID Gireka\n",
      "Processing MRN 31352454 Phonetic_ID Quefiko\n",
      "Processing MRN 31301173 Phonetic_ID Eyuepen\n",
      "Processing MRN 31255526 Phonetic_ID Oduprug\n",
      "Processing MRN 31255526 Phonetic_ID Umkleegneg\n",
      "Processing MRN 31254623 Phonetic_ID Busikor\n",
      "Processing MRN 31233518 Phonetic_ID Quobosoo\n",
      "Processing MRN 31224404 Phonetic_ID Jametey\n",
      "Processing MRN 31144035 Phonetic_ID Romemud\n",
      "Processing MRN 31144035 Phonetic_ID Likalo\n",
      "Processing MRN 31088948 Phonetic_ID Finudouth\n",
      "Processing MRN 31087983 Phonetic_ID Otifnul\n",
      "Processing MRN 31085159 Phonetic_ID Dibafug\n",
      "Processing MRN 31050535 Phonetic_ID Gaqueque\n",
      "Processing MRN 31038634 Phonetic_ID Fajafu\n",
      "Processing MRN 31016346 Phonetic_ID Lolaru\n",
      "Processing MRN 30986490 Phonetic_ID Quakuro\n",
      "Processing MRN 30976519 Phonetic_ID Gruguka\n",
      "Processing MRN 30932458 Phonetic_ID Izeyag\n",
      "Processing MRN 30883124 Phonetic_ID Bedisi\n",
      "Processing MRN 30853227 Phonetic_ID Caquirib\n",
      "Processing MRN 30852756 Phonetic_ID Negoquof\n",
      "Processing MRN 30852756 Phonetic_ID Beprequi\n",
      "Processing MRN 30764249 Phonetic_ID Puetsoybad\n",
      "Processing MRN 30764249 Phonetic_ID Scentagack\n",
      "Processing MRN 30752018 Phonetic_ID Bupekuet\n",
      "Processing MRN 30745130 Phonetic_ID Keralud\n",
      "Processing MRN 30743937 Phonetic_ID Oyisok\n",
      "Processing MRN 30735338 Phonetic_ID Pibugon\n",
      "Processing MRN 30721351 Phonetic_ID Lomubroy\n",
      "Processing MRN 30705564 Phonetic_ID Lebsuneln\n",
      "Processing MRN 30690464 Phonetic_ID Inafom\n",
      "Processing MRN 30660126 Phonetic_ID Operil\n",
      "Processing MRN 30656195 Phonetic_ID Sesohi\n",
      "Processing MRN 30653551 Phonetic_ID Alueroof\n",
      "Processing MRN 30629271 Phonetic_ID Bitikek\n",
      "Processing MRN 30629089 Phonetic_ID Hekkletub\n",
      "Processing MRN 30479724 Phonetic_ID Cibami\n",
      "Processing MRN 30443791 Phonetic_ID Jezoni\n",
      "Processing MRN 30433678 Phonetic_ID Ceeporu\n",
      "Processing MRN 30396137 Phonetic_ID Helistbrey\n",
      "Processing MRN 30359346 Phonetic_ID Abirief\n",
      "Processing MRN 30325744 Phonetic_ID Ibapquif\n",
      "Processing MRN 30304453 Phonetic_ID Pokasol\n",
      "Processing MRN 30304453 Phonetic_ID Reetosee\n",
      "Processing MRN 30289286 Phonetic_ID Jablomi\n",
      "Processing MRN 30282037 Phonetic_ID Tobikod\n",
      "Processing MRN 30277230 Phonetic_ID Latuque\n",
      "Processing MRN 30243017 Phonetic_ID Nadiefi\n",
      "Processing MRN 30162554 Phonetic_ID Rumegud\n",
      "Processing MRN 30162554 Phonetic_ID Bluplugu\n",
      "Processing MRN 30111898 Phonetic_ID Tagoobam\n",
      "Processing MRN 30111898 Phonetic_ID Neyakbray\n",
      "Processing MRN 30088324 Phonetic_ID Jemorug\n",
      "Processing MRN 30071028 Phonetic_ID Roujinok\n",
      "Processing MRN 30026600 Phonetic_ID Leeklinum\n",
      "Processing MRN 30011957 Phonetic_ID Quebutout\n",
      "Processing MRN 26216135 Phonetic_ID Puhufub\n",
      "Processing MRN 25666728 Phonetic_ID Grujoli\n",
      "Processing MRN 25597840 Phonetic_ID Ulekod\n",
      "Processing MRN 24822587 Phonetic_ID Buroufueln\n",
      "Processing MRN 24622730 Phonetic_ID Hucoshe\n",
      "Processing MRN 24609208 Phonetic_ID Quekuedey\n",
      "Processing MRN 24281222 Phonetic_ID Nupodu\n",
      "Processing MRN 23666027 Phonetic_ID Firadek\n",
      "Processing MRN 23075591 Phonetic_ID Umeyat\n",
      "Processing MRN 22797237 Phonetic_ID Trasnoque\n",
      "Processing MRN 22594568 Phonetic_ID Delafi\n",
      "Processing MRN 22017180 Phonetic_ID Sukicuk\n",
      "Processing MRN 22006142 Phonetic_ID Quaniebuf\n",
      "Processing MRN 21296371 Phonetic_ID Enoyil\n",
      "Processing MRN 20953527 Phonetic_ID Hocapar\n",
      "Processing MRN 20821278 Phonetic_ID Ogdreyig\n",
      "Processing MRN 20192712 Phonetic_ID Loutupu\n",
      "Processing MRN 20151148 Phonetic_ID Kathucu\n",
      "Processing MRN 19930999 Phonetic_ID Eynoseb\n",
      "Processing MRN 19905587 Phonetic_ID Samatel\n",
      "Processing MRN 19285618 Phonetic_ID Isudkak\n",
      "Processing MRN 19112986 Phonetic_ID Sasigcuk\n",
      "Processing MRN 19055078 Phonetic_ID Febosi\n",
      "Processing MRN 19039551 Phonetic_ID Muklickas\n",
      "Processing MRN 18732883 Phonetic_ID Pageled\n",
      "Processing MRN 18571265 Phonetic_ID Rijokees\n",
      "Processing MRN 17911769 Phonetic_ID Snemuti\n",
      "Processing MRN 17894361 Phonetic_ID Humujo\n",
      "Processing MRN 17397217 Phonetic_ID Bayusha\n",
      "Processing MRN 16893752 Phonetic_ID Mosniegu\n",
      "Processing MRN 16668584 Phonetic_ID Nekledat\n",
      "Processing MRN 16192338 Phonetic_ID Agipkab\n",
      "Processing MRN 15323207 Phonetic_ID Maguda\n",
      "Processing MRN 15232432 Phonetic_ID Asuenak\n",
      "Processing MRN 15031933 Phonetic_ID Quimuque\n",
      "Processing MRN 14448369 Phonetic_ID Dubeepoo\n",
      "Processing MRN 14286041 Phonetic_ID Kujidu\n",
      "Processing MRN 14199541 Phonetic_ID Fagapgak\n",
      "Processing MRN 12413712 Phonetic_ID Golufa\n",
      "Processing MRN 11886637 Phonetic_ID Mibeese\n",
      "Processing MRN 8903346 Phonetic_ID Doduni\n",
      "Processing MRN 8344970 Phonetic_ID Foberer\n",
      "Processing MRN 8190753 Phonetic_ID Srostruesa\n",
      "Processing MRN 7830581 Phonetic_ID Trakefi\n",
      "Processing MRN 7396021 Phonetic_ID Nedacou\n",
      "Processing MRN 7280142 Phonetic_ID Dowohup\n",
      "Processing MRN 4198255 Phonetic_ID Tenilous\n",
      "Processing MRN 24919144 Phonetic_ID Bamoolu\n",
      "Processing MRN 24919144 Phonetic_ID Quorufi\n",
      "Processing MRN 30085399 Phonetic_ID Wiveda\n",
      "Processing MRN 30606286 Phonetic_ID Douzreley\n",
      "Processing MRN 30606286 Phonetic_ID Huebrabap\n",
      "Processing MRN 30606286 Phonetic_ID Gunaba\n",
      "Processing MRN 30805483 Phonetic_ID Ukushad\n",
      "Processing MRN 26472282 Phonetic_ID Lavuzi\n",
      "Processing MRN 26472282 Phonetic_ID Emiengum\n",
      "Processing MRN 26472282 Phonetic_ID Cesuse\n",
      "Processing MRN 30492331 Phonetic_ID Jouhuku\n",
      "Processing MRN 30492331 Phonetic_ID Cijife\n",
      "Processing MRN 30880662 Phonetic_ID Coquibe\n",
      "Processing MRN 8479172 Phonetic_ID Masati\n",
      "Processing MRN 8479172 Phonetic_ID Mubukes\n",
      "Processing MRN 30239012 Phonetic_ID Poojequi\n",
      "Processing MRN 30239012 Phonetic_ID Bagobod\n",
      "Processing MRN 30239012 Phonetic_ID Lapraso\n",
      "Processing MRN 30239012 Phonetic_ID Hifebog\n",
      "Processing MRN 30239012 Phonetic_ID Snohitu\n",
      "Processing MRN 25885690 Phonetic_ID Efascot\n",
      "Processing MRN 16705303 Phonetic_ID Jajitue\n",
      "Processing MRN 16705303 Phonetic_ID Mabili\n",
      "Processing MRN 30002520 Phonetic_ID Lobihef\n",
      "Processing MRN 30002520 Phonetic_ID Sofupu\n",
      "Processing MRN 30211690 Phonetic_ID Atiraf\n",
      "Processing MRN 30192707 Phonetic_ID Rademan\n",
      "Processing MRN 30192707 Phonetic_ID Ilayif\n",
      "Processing MRN 30192707 Phonetic_ID Bujadup\n",
      "Processing MRN 30789543 Phonetic_ID Berogo\n",
      "Processing MRN 30387335 Phonetic_ID Caroutey\n",
      "Processing MRN 6753255 Phonetic_ID Reneebus\n",
      "Processing MRN 6753255 Phonetic_ID Jecayap\n",
      "Processing MRN 6753255 Phonetic_ID Kukunab\n",
      "Processing MRN 20136941 Phonetic_ID Quicubli\n",
      "Processing MRN 5080213 Phonetic_ID Quosapu\n",
      "Processing MRN 5080213 Phonetic_ID Isutes\n",
      "Processing MRN 5080213 Phonetic_ID Swikrusu\n",
      "Processing MRN 5080213 Phonetic_ID Emangiet\n",
      "Processing MRN 5080213 Phonetic_ID Cugaju\n",
      "Processing MRN 19001247 Phonetic_ID Torotob\n",
      "Processing MRN 19001247 Phonetic_ID Wihotog\n",
      "Processing MRN 19001247 Phonetic_ID Pafuku\n",
      "Processing MRN 26604215 Phonetic_ID Ragili\n",
      "Processing MRN 26604215 Phonetic_ID Nebofe\n",
      "Processing MRN 30108464 Phonetic_ID Hobonug\n",
      "Processing MRN 30391880 Phonetic_ID Fatatu\n",
      "Processing MRN 24000911 Phonetic_ID Ofudil\n",
      "Processing MRN 24000911 Phonetic_ID Rehoule\n",
      "Processing MRN 24000911 Phonetic_ID Leponup\n",
      "Processing MRN 24000911 Phonetic_ID Kejieru\n",
      "Processing MRN 30725133 Phonetic_ID Prutigu\n",
      "Processing MRN 30725133 Phonetic_ID Gehienes\n",
      "Processing MRN 30071671 Phonetic_ID Akofek\n",
      "Processing MRN 30275628 Phonetic_ID Muesemgeen\n",
      "Processing MRN 30399456 Phonetic_ID Nestunesk\n",
      "Processing MRN 30399456 Phonetic_ID Dupana\n",
      "Processing MRN 30399456 Phonetic_ID Tagoulu\n",
      "Processing MRN 24256802 Phonetic_ID Dulakip\n",
      "Processing MRN 24256802 Phonetic_ID Gatusoup\n",
      "Processing MRN 24256802 Phonetic_ID Rapuha\n",
      "Processing MRN 31505289 Phonetic_ID Amuxos\n",
      "Processing MRN 31505289 Phonetic_ID Pigalu\n",
      "Processing MRN 31505289 Phonetic_ID Bokrofa\n",
      "Processing MRN 31505289 Phonetic_ID Rajife\n",
      "Processing MRN 30181696 Phonetic_ID Traluga\n",
      "Processing MRN 30181696 Phonetic_ID Nulogo\n",
      "Processing MRN 30181696 Phonetic_ID Rofoote\n",
      "Processing MRN 30181696 Phonetic_ID Pumeque\n",
      "Processing MRN 30494866 Phonetic_ID Erielep\n",
      "Processing MRN 30494866 Phonetic_ID Gacueru\n",
      "Processing MRN 30494866 Phonetic_ID Boyofem\n",
      "Processing MRN 30494866 Phonetic_ID Datenu\n",
      "Processing MRN 23641178 Phonetic_ID Jokeglie\n",
      "Processing MRN 23641178 Phonetic_ID Legakjop\n",
      "Processing MRN 23641178 Phonetic_ID Rafosur\n",
      "Processing MRN 30109258 Phonetic_ID Rabili\n"
     ]
    },
    {
     "name": "stdout",
     "output_type": "stream",
     "text": [
      "Processing MRN 30224087 Phonetic_ID Etolut\n",
      "Processing MRN 30224087 Phonetic_ID Froluju\n",
      "Processing MRN 30224087 Phonetic_ID Afomid\n",
      "Processing MRN 30224087 Phonetic_ID Jeyaros\n",
      "Processing MRN 30224087 Phonetic_ID Eyookir\n",
      "Processing MRN 30224087 Phonetic_ID Dooflaho\n",
      "Processing MRN 30224087 Phonetic_ID Ulekep\n",
      "Processing MRN 30989309 Phonetic_ID Frakapbad\n",
      "Processing MRN 21106539 Phonetic_ID Raswizu\n",
      "Processing MRN 21106539 Phonetic_ID Sufourog\n",
      "Processing MRN 31009039 Phonetic_ID Hadaseb\n",
      "Processing MRN 31009039 Phonetic_ID Phukrezee\n",
      "Processing MRN 22858260 Phonetic_ID Unoonur\n",
      "Processing MRN 22858260 Phonetic_ID Quecuge\n",
      "Processing MRN 22858260 Phonetic_ID Coofapas\n",
      "Processing MRN 30814084 Phonetic_ID Cooseero\n",
      "Processing MRN 30331711 Phonetic_ID Nadoji\n",
      "Processing MRN 8414286 Phonetic_ID Huciku\n",
      "Processing MRN 8414286 Phonetic_ID Dajica\n",
      "Processing MRN 8414286 Phonetic_ID Bunique\n",
      "Processing MRN 8414286 Phonetic_ID Bramanas\n",
      "Processing MRN 8414286 Phonetic_ID Quuquilep\n",
      "Processing MRN 17126632 Phonetic_ID Omlolit\n",
      "Processing MRN 17126632 Phonetic_ID Pihoko\n",
      "Processing MRN 17126632 Phonetic_ID Paparser\n",
      "Processing MRN 31070401 Phonetic_ID Beelelu\n",
      "Processing MRN 54708645 Phonetic_ID Alnpatik\n",
      "Processing MRN 54713254 Phonetic_ID Puguxiep\n",
      "Processing MRN 52920673 Phonetic_ID Loomako\n",
      "Processing MRN 52989161 Phonetic_ID Woroxof\n",
      "Processing MRN 53977243 Phonetic_ID Diclama\n",
      "Processing MRN 53336612 Phonetic_ID Togepel\n",
      "Processing MRN 53845765 Phonetic_ID Labfaljon\n",
      "Processing MRN 53874562 Phonetic_ID Miekefre\n",
      "Processing MRN 53155691 Phonetic_ID Barethue\n",
      "Processing MRN 53440056 Phonetic_ID Pejaru\n",
      "Processing MRN 53785768 Phonetic_ID Cretaha\n",
      "Processing MRN 53505783 Phonetic_ID Jenuda\n",
      "Processing MRN 52932836 Phonetic_ID Budueyi\n",
      "Processing MRN 52952194 Phonetic_ID Nousisig\n",
      "Processing MRN 53325013 Phonetic_ID Tudipi\n",
      "Processing MRN 9999900 Phonetic_ID Moyabdof\n",
      "Processing MRN 9999901 Phonetic_ID Jufueklip\n",
      "Processing MRN 53216237 Phonetic_ID Quekelurn\n",
      "Processing MRN 9999902 Phonetic_ID Quabemo\n",
      "Processing MRN 9998902 Phonetic_ID Fesaho\n"
     ]
    }
   ],
   "source": [
    "import tempfile\n",
    "\n",
    "from monai.visualize.utils import matshow3d\n",
    "from monai.data import CacheDataset, ThreadDataLoader, PersistentDataset\n",
    "from monai.transforms import (\n",
    "    Compose,\n",
    "    LoadImaged,\n",
    "    MapTransform,\n",
    "    ScaleIntensityRanged,\n",
    "    Orientationd,\n",
    "    Spacingd,\n",
    "    CropForegroundd,\n",
    "    SpatialCropd,\n",
    "    RandFlipd,\n",
    "    RandRotate90d,\n",
    "    RandShiftIntensityd,\n",
    "    EnsureTyped,\n",
    "    BorderPad,\n",
    "    SaveImaged,\n",
    "    Lambdad,\n",
    ")\n",
    "\n",
    "from monai.data import  decollate_batch\n",
    "\n",
    "import matplotlib.pyplot as plt\n",
    "from monai.networks.nets import SwinUNETR\n",
    "\n",
    "from monai.losses import DiceCELoss\n",
    "\n",
    "from monai.metrics import DiceMetric, ROCAUCMetric\n",
    "\n",
    "from monai.transforms import AsDiscrete\n",
    "\n",
    "from tqdm import tqdm\n",
    "\n",
    "from nodule_transforms.LoadArterysMaskd import LoadArterysMaskd\n",
    "from nodule_transforms.AddCustomerMetadatad import AddCustomerMetadatad\n",
    "from nodule_transforms.CropToNoduled import CropToNoduled\n",
    "\n",
    "\n",
    "\n",
    "import os\n",
    "import torch\n",
    "\n",
    "\n",
    "\n",
    "from data_tools.datatools import load_cancer_nodules_datalist, split_data\n",
    "\n",
    "\n",
    "directory = './monai_data'\n",
    "root_dir = tempfile.mkdtemp() if directory is None else directory\n",
    "cache_dir = './training_cache'\n",
    "\n",
    "CANCER_NODULES_DATASET_DIR = '/media/vlermakov/data/UCSDNodules/Metastatic/'\n",
    "PRE_PROCESSED_DIRECTORY = '/home/vlermakov/Development/Nodules/Nodule-Detection-LUNA2016/processed_data_full_range_075mm/'\n",
    "\n",
    "\n",
    "datalist = load_cancer_nodules_datalist(CANCER_NODULES_DATASET_DIR, PRE_PROCESSED_DIRECTORY)"
   ]
  },
  {
   "cell_type": "code",
   "execution_count": 3,
   "id": "16a271a5",
   "metadata": {},
   "outputs": [
    {
     "name": "stdout",
     "output_type": "stream",
     "text": [
      "607\n"
     ]
    }
   ],
   "source": [
    "processed_scans = []\n",
    "unprocessed_scans = []\n",
    "n_processed = 0\n",
    "for p in datalist:\n",
    "    if p['pre_processed']:\n",
    "        n_processed += 1 \n",
    "        processed_scans.append(p)\n",
    "    else:\n",
    "        unprocessed_scans.append(p)\n",
    "print(len(unprocessed_scans))"
   ]
  },
  {
   "cell_type": "code",
   "execution_count": null,
   "id": "2aded594",
   "metadata": {},
   "outputs": [],
   "source": [
    "train_data_list, val_data_list = split_data(datalist)"
   ]
  },
  {
   "cell_type": "code",
   "execution_count": null,
   "id": "c66a9351",
   "metadata": {},
   "outputs": [],
   "source": [
    "def get_data_list_stats(data_list):\n",
    "    n_pos = 0\n",
    "    n_neg = 0\n",
    "    n_total = 0\n",
    "    for l in data_list:\n",
    "        if(l['label'] == 0):\n",
    "            n_neg +=1\n",
    "        elif(l['label'] == 1):\n",
    "            n_pos += 1\n",
    "            \n",
    "        n_total += 1\n",
    "        \n",
    "    print(f\"P:{n_pos} N:{n_neg} T:{n_total} %pos: {n_pos/n_total:.2f}\")\n",
    "\n"
   ]
  },
  {
   "cell_type": "code",
   "execution_count": null,
   "id": "20e31079",
   "metadata": {},
   "outputs": [],
   "source": [
    "get_data_list_stats(train_data_list)"
   ]
  },
  {
   "cell_type": "code",
   "execution_count": null,
   "id": "32e8525d",
   "metadata": {},
   "outputs": [],
   "source": [
    "get_data_list_stats(val_data_list)"
   ]
  },
  {
   "cell_type": "code",
   "execution_count": 4,
   "id": "71190da8",
   "metadata": {
    "scrolled": true
   },
   "outputs": [
    {
     "name": "stderr",
     "output_type": "stream",
     "text": [
      "\r",
      "Loading dataset:   0%|                                                                                                                                                                                                                                          | 0/606 [00:00<?, ?it/s]"
     ]
    },
    {
     "name": "stdout",
     "output_type": "stream",
     "text": [
      "2023-10-13 12:51:20,542 INFO image_writer.py:197 - writing: /home/vlermakov/Development/Nodules/Nodule-Detection-LUNA2016/processed_data_full_range_075mm/Sopoopra__63979710b75a1a0997e54f40-5f10b4917eccbda0-3/Sopoopra__63979710b75a1a0997e54f40-5f10b4917eccbda0-3_image_0.nii.gz\n",
      "2023-10-13 12:51:20,681 INFO image_writer.py:197 - writing: /home/vlermakov/Development/Nodules/Nodule-Detection-LUNA2016/processed_data_full_range_075mm/Sopoopra__63979710b75a1a0997e54f40-5f10b4917eccbda0-3/Sopoopra__63979710b75a1a0997e54f40-5f10b4917eccbda0-3_mask_0.nii.gz\n",
      "2023-10-13 12:51:28,626 INFO image_writer.py:197 - writing: /home/vlermakov/Development/Nodules/Nodule-Detection-LUNA2016/processed_data_full_range_075mm/Sopoopra__63979710b75a1a0997e54f40-5f10b4917eccbda0-1/Sopoopra__63979710b75a1a0997e54f40-5f10b4917eccbda0-1_image_0.nii.gz\n",
      "2023-10-13 12:51:28,749 INFO image_writer.py:197 - writing: /home/vlermakov/Development/Nodules/Nodule-Detection-LUNA2016/processed_data_full_range_075mm/Sopoopra__63979710b75a1a0997e54f40-5f10b4917eccbda0-2/Sopoopra__63979710b75a1a0997e54f40-5f10b4917eccbda0-2_image_0.nii.gz\n",
      "2023-10-13 12:51:28,976 INFO image_writer.py:197 - writing: /home/vlermakov/Development/Nodules/Nodule-Detection-LUNA2016/processed_data_full_range_075mm/Sopoopra__63979710b75a1a0997e54f40-5f10b4917eccbda0-1/Sopoopra__63979710b75a1a0997e54f40-5f10b4917eccbda0-1_mask_0.nii.gz\n",
      "2023-10-13 12:51:28,986 INFO image_writer.py:197 - writing: /home/vlermakov/Development/Nodules/Nodule-Detection-LUNA2016/processed_data_full_range_075mm/Sopoopra__63979710b75a1a0997e54f40-5f10b4917eccbda0-12/Sopoopra__63979710b75a1a0997e54f40-5f10b4917eccbda0-12_image_0.nii.gz\n",
      "2023-10-13 12:51:29,052 INFO image_writer.py:197 - writing: /home/vlermakov/Development/Nodules/Nodule-Detection-LUNA2016/processed_data_full_range_075mm/Sopoopra__63979710b75a1a0997e54f40-5f10b4917eccbda0-2/Sopoopra__63979710b75a1a0997e54f40-5f10b4917eccbda0-2_mask_0.nii.gz\n",
      "2023-10-13 12:51:29,105 INFO image_writer.py:197 - writing: /home/vlermakov/Development/Nodules/Nodule-Detection-LUNA2016/processed_data_full_range_075mm/Sopoopra__63979710b75a1a0997e54f40-5f10b4917eccbda0-12/Sopoopra__63979710b75a1a0997e54f40-5f10b4917eccbda0-12_mask_0.nii.gz\n"
     ]
    },
    {
     "name": "stderr",
     "output_type": "stream",
     "text": [
      "Loading dataset:   0%|▋                                                                                                                                                                                                                               | 2/606 [01:21<5:45:11, 34.29s/it]"
     ]
    },
    {
     "name": "stdout",
     "output_type": "stream",
     "text": [
      "2023-10-13 12:51:59,456 INFO image_writer.py:197 - writing: /home/vlermakov/Development/Nodules/Nodule-Detection-LUNA2016/processed_data_full_range_075mm/Tusliblu__639d0eea65dc5409534a9682-ed7d5ece31464573-16/Tusliblu__639d0eea65dc5409534a9682-ed7d5ece31464573-16_image_0.nii.gz\n",
      "2023-10-13 12:51:59,753 INFO image_writer.py:197 - writing: /home/vlermakov/Development/Nodules/Nodule-Detection-LUNA2016/processed_data_full_range_075mm/Tusliblu__639d0eea65dc5409534a9682-ed7d5ece31464573-16/Tusliblu__639d0eea65dc5409534a9682-ed7d5ece31464573-16_mask_0.nii.gz\n",
      "2023-10-13 12:51:59,818 INFO image_writer.py:197 - writing: /home/vlermakov/Development/Nodules/Nodule-Detection-LUNA2016/processed_data_full_range_075mm/Tusliblu__639d0eea65dc5409534a9682-ed7d5ece31464573-7/Tusliblu__639d0eea65dc5409534a9682-ed7d5ece31464573-7_image_0.nii.gz\n"
     ]
    },
    {
     "name": "stderr",
     "output_type": "stream",
     "text": [
      "\r",
      "Loading dataset:   1%|█▊                                                                                                                                                                                                                              | 5/606 [01:42<2:27:17, 14.70s/it]"
     ]
    },
    {
     "name": "stdout",
     "output_type": "stream",
     "text": [
      "2023-10-13 12:52:05,649 INFO image_writer.py:197 - writing: /home/vlermakov/Development/Nodules/Nodule-Detection-LUNA2016/processed_data_full_range_075mm/Tusliblu__639d0eea65dc5409534a9682-ed7d5ece31464573-7/Tusliblu__639d0eea65dc5409534a9682-ed7d5ece31464573-7_mask_0.nii.gz\n",
      "2023-10-13 12:52:11,425 INFO image_writer.py:197 - writing: /home/vlermakov/Development/Nodules/Nodule-Detection-LUNA2016/processed_data_full_range_075mm/Tusliblu__639d0eea65dc5409534a9682-ed7d5ece31464573-4/Tusliblu__639d0eea65dc5409534a9682-ed7d5ece31464573-4_image_0.nii.gz\n",
      "2023-10-13 12:52:11,977 INFO image_writer.py:197 - writing: /home/vlermakov/Development/Nodules/Nodule-Detection-LUNA2016/processed_data_full_range_075mm/Tusliblu__639d0eea65dc5409534a9682-ed7d5ece31464573-1/Tusliblu__639d0eea65dc5409534a9682-ed7d5ece31464573-1_image_0.nii.gz\n",
      "2023-10-13 12:52:12,158 INFO image_writer.py:197 - writing: /home/vlermakov/Development/Nodules/Nodule-Detection-LUNA2016/processed_data_full_range_075mm/Tusliblu__639d0eea65dc5409534a9682-ed7d5ece31464573-4/Tusliblu__639d0eea65dc5409534a9682-ed7d5ece31464573-4_mask_0.nii.gz\n",
      "2023-10-13 12:52:12,605 INFO image_writer.py:197 - writing: /home/vlermakov/Development/Nodules/Nodule-Detection-LUNA2016/processed_data_full_range_075mm/Tusliblu__639d0eea65dc5409534a9682-ed7d5ece31464573-1/Tusliblu__639d0eea65dc5409534a9682-ed7d5ece31464573-1_mask_0.nii.gz\n"
     ]
    },
    {
     "name": "stderr",
     "output_type": "stream",
     "text": [
      "Loading dataset:   1%|██▉                                                                                                                                                                                                                             | 8/606 [02:14<1:54:27, 11.48s/it]"
     ]
    },
    {
     "name": "stdout",
     "output_type": "stream",
     "text": [
      "2023-10-13 12:52:37,055 INFO image_writer.py:197 - writing: /home/vlermakov/Development/Nodules/Nodule-Detection-LUNA2016/processed_data_full_range_075mm/Gunifa__636b3a60f9a65d09d5dbe1f2-e5b414d812e2abbf-3/Gunifa__636b3a60f9a65d09d5dbe1f2-e5b414d812e2abbf-3_image_0.nii.gz\n",
      "2023-10-13 12:52:38,347 INFO image_writer.py:197 - writing: /home/vlermakov/Development/Nodules/Nodule-Detection-LUNA2016/processed_data_full_range_075mm/Gunifa__636b3a60f9a65d09d5dbe1f2-e5b414d812e2abbf-3/Gunifa__636b3a60f9a65d09d5dbe1f2-e5b414d812e2abbf-3_mask_0.nii.gz\n"
     ]
    },
    {
     "name": "stderr",
     "output_type": "stream",
     "text": [
      "\r",
      "Loading dataset:   1%|███▎                                                                                                                                                                                                                            | 9/606 [02:19<1:35:16,  9.58s/it]"
     ]
    },
    {
     "name": "stdout",
     "output_type": "stream",
     "text": [
      "2023-10-13 12:52:52,045 INFO image_writer.py:197 - writing: /home/vlermakov/Development/Nodules/Nodule-Detection-LUNA2016/processed_data_full_range_075mm/Gunifa__636b3a60f9a65d09d5dbe1f2-e5b414d812e2abbf-2/Gunifa__636b3a60f9a65d09d5dbe1f2-e5b414d812e2abbf-2_image_0.nii.gz\n",
      "2023-10-13 12:52:52,079 INFO image_writer.py:197 - writing: /home/vlermakov/Development/Nodules/Nodule-Detection-LUNA2016/processed_data_full_range_075mm/Gunifa__636b3a60f9a65d09d5dbe1f2-e5b414d812e2abbf-4/Gunifa__636b3a60f9a65d09d5dbe1f2-e5b414d812e2abbf-4_image_0.nii.gz\n",
      "2023-10-13 12:52:52,141 INFO image_writer.py:197 - writing: /home/vlermakov/Development/Nodules/Nodule-Detection-LUNA2016/processed_data_full_range_075mm/Gunifa__636b3a60f9a65d09d5dbe1f2-e5b414d812e2abbf-1/Gunifa__636b3a60f9a65d09d5dbe1f2-e5b414d812e2abbf-1_image_0.nii.gz\n",
      "2023-10-13 12:52:52,689 INFO image_writer.py:197 - writing: /home/vlermakov/Development/Nodules/Nodule-Detection-LUNA2016/processed_data_full_range_075mm/Gunifa__636b3a60f9a65d09d5dbe1f2-e5b414d812e2abbf-2/Gunifa__636b3a60f9a65d09d5dbe1f2-e5b414d812e2abbf-2_mask_0.nii.gz\n",
      "2023-10-13 12:52:52,880 INFO image_writer.py:197 - writing: /home/vlermakov/Development/Nodules/Nodule-Detection-LUNA2016/processed_data_full_range_075mm/Gunifa__636b3a60f9a65d09d5dbe1f2-e5b414d812e2abbf-4/Gunifa__636b3a60f9a65d09d5dbe1f2-e5b414d812e2abbf-4_mask_0.nii.gz\n",
      "2023-10-13 12:52:59,284 INFO image_writer.py:197 - writing: /home/vlermakov/Development/Nodules/Nodule-Detection-LUNA2016/processed_data_full_range_075mm/Gunifa__636b3a60f9a65d09d5dbe1f2-e5b414d812e2abbf-1/Gunifa__636b3a60f9a65d09d5dbe1f2-e5b414d812e2abbf-1_mask_0.nii.gz\n"
     ]
    },
    {
     "name": "stderr",
     "output_type": "stream",
     "text": [
      "Loading dataset:   2%|████                                                                                                                                                                                                                           | 11/606 [02:48<1:54:31, 11.55s/it]"
     ]
    },
    {
     "name": "stdout",
     "output_type": "stream",
     "text": [
      "2023-10-13 12:53:09,283 INFO image_writer.py:197 - writing: /home/vlermakov/Development/Nodules/Nodule-Detection-LUNA2016/processed_data_full_range_075mm/Jasnuflo__6397c2e2cd336609a6555a6a-4dd9c1cba146dfb4-3/Jasnuflo__6397c2e2cd336609a6555a6a-4dd9c1cba146dfb4-3_image_0.nii.gz\n",
      "2023-10-13 12:53:09,773 INFO image_writer.py:197 - writing: /home/vlermakov/Development/Nodules/Nodule-Detection-LUNA2016/processed_data_full_range_075mm/Jasnuflo__6397c2e2cd336609a6555a6a-4dd9c1cba146dfb4-3/Jasnuflo__6397c2e2cd336609a6555a6a-4dd9c1cba146dfb4-3_mask_0.nii.gz\n"
     ]
    },
    {
     "name": "stderr",
     "output_type": "stream",
     "text": [
      "\r",
      "Loading dataset:   2%|████▊                                                                                                                                                                                                                          | 13/606 [02:52<1:10:30,  7.13s/it]"
     ]
    },
    {
     "name": "stdout",
     "output_type": "stream",
     "text": [
      "2023-10-13 12:53:24,835 INFO image_writer.py:197 - writing: /home/vlermakov/Development/Nodules/Nodule-Detection-LUNA2016/processed_data_full_range_075mm/Olcisof__637168b46ff93909bff3b504-92d60ae0d61b1ede-5/Olcisof__637168b46ff93909bff3b504-92d60ae0d61b1ede-5_image_0.nii.gz\n",
      "2023-10-13 12:53:24,979 INFO image_writer.py:197 - writing: /home/vlermakov/Development/Nodules/Nodule-Detection-LUNA2016/processed_data_full_range_075mm/Olcisof__637168b46ff93909bff3b504-92d60ae0d61b1ede-5/Olcisof__637168b46ff93909bff3b504-92d60ae0d61b1ede-5_mask_0.nii.gz\n"
     ]
    },
    {
     "name": "stderr",
     "output_type": "stream",
     "text": [
      "\r",
      "Loading dataset:   2%|█████▏                                                                                                                                                                                                                         | 14/606 [03:05<1:25:01,  8.62s/it]"
     ]
    },
    {
     "name": "stdout",
     "output_type": "stream",
     "text": [
      "2023-10-13 12:53:38,614 INFO image_writer.py:197 - writing: /home/vlermakov/Development/Nodules/Nodule-Detection-LUNA2016/processed_data_full_range_075mm/Ukebjiem__635fdb2ff274cb09b785cf7d-252336a4cd0f589a-3/Ukebjiem__635fdb2ff274cb09b785cf7d-252336a4cd0f589a-3_image_0.nii.gz\n",
      "2023-10-13 12:53:38,645 INFO image_writer.py:197 - writing: /home/vlermakov/Development/Nodules/Nodule-Detection-LUNA2016/processed_data_full_range_075mm/Ukebjiem__635fdb2ff274cb09b785cf7d-252336a4cd0f589a-5/Ukebjiem__635fdb2ff274cb09b785cf7d-252336a4cd0f589a-5_image_0.nii.gz\n",
      "2023-10-13 12:53:38,694 INFO image_writer.py:197 - writing: /home/vlermakov/Development/Nodules/Nodule-Detection-LUNA2016/processed_data_full_range_075mm/Ukebjiem__635fdb2ff274cb09b785cf7d-252336a4cd0f589a-4/Ukebjiem__635fdb2ff274cb09b785cf7d-252336a4cd0f589a-4_image_0.nii.gz\n",
      "2023-10-13 12:53:38,759 INFO image_writer.py:197 - writing: /home/vlermakov/Development/Nodules/Nodule-Detection-LUNA2016/processed_data_full_range_075mm/Ukebjiem__635fdb2ff274cb09b785cf7d-252336a4cd0f589a-3/Ukebjiem__635fdb2ff274cb09b785cf7d-252336a4cd0f589a-3_mask_0.nii.gz\n",
      "2023-10-13 12:53:38,825 INFO image_writer.py:197 - writing: /home/vlermakov/Development/Nodules/Nodule-Detection-LUNA2016/processed_data_full_range_075mm/Ukebjiem__635fdb2ff274cb09b785cf7d-252336a4cd0f589a-5/Ukebjiem__635fdb2ff274cb09b785cf7d-252336a4cd0f589a-5_mask_0.nii.gz\n",
      "2023-10-13 12:53:38,854 INFO image_writer.py:197 - writing: /home/vlermakov/Development/Nodules/Nodule-Detection-LUNA2016/processed_data_full_range_075mm/Ukebjiem__635fdb2ff274cb09b785cf7d-252336a4cd0f589a-4/Ukebjiem__635fdb2ff274cb09b785cf7d-252336a4cd0f589a-4_mask_0.nii.gz\n",
      "2023-10-13 12:54:15,342 INFO image_writer.py:197 - writing: /home/vlermakov/Development/Nodules/Nodule-Detection-LUNA2016/processed_data_full_range_075mm/Socaba__634f75973d4cd80a563b3648-5058755badbc1fdb-2/Socaba__634f75973d4cd80a563b3648-5058755badbc1fdb-2_image_0.nii.gz\n",
      "2023-10-13 12:54:15,516 INFO image_writer.py:197 - writing: /home/vlermakov/Development/Nodules/Nodule-Detection-LUNA2016/processed_data_full_range_075mm/Socaba__634f75973d4cd80a563b3648-5058755badbc1fdb-2/Socaba__634f75973d4cd80a563b3648-5058755badbc1fdb-2_mask_0.nii.gz\n",
      "2023-10-13 12:54:19,496 INFO image_writer.py:197 - writing: /home/vlermakov/Development/Nodules/Nodule-Detection-LUNA2016/processed_data_full_range_075mm/Jebeemu__635d55d2437ad10a1985c268-050545ecfa7512b4-2/Jebeemu__635d55d2437ad10a1985c268-050545ecfa7512b4-2_image_0.nii.gz\n",
      "2023-10-13 12:54:19,588 INFO image_writer.py:197 - writing: /home/vlermakov/Development/Nodules/Nodule-Detection-LUNA2016/processed_data_full_range_075mm/Jebeemu__635d55d2437ad10a1985c268-050545ecfa7512b4-2/Jebeemu__635d55d2437ad10a1985c268-050545ecfa7512b4-2_mask_0.nii.gz\n"
     ]
    },
    {
     "name": "stderr",
     "output_type": "stream",
     "text": [
      "\r",
      "Loading dataset:   2%|█████▌                                                                                                                                                                                                                         | 15/606 [04:00<3:22:12, 20.53s/it]"
     ]
    },
    {
     "name": "stdout",
     "output_type": "stream",
     "text": [
      "2023-10-13 12:54:24,275 INFO image_writer.py:197 - writing: /home/vlermakov/Development/Nodules/Nodule-Detection-LUNA2016/processed_data_full_range_075mm/Jebeemu__635d55d2437ad10a1985c268-050545ecfa7512b4-3/Jebeemu__635d55d2437ad10a1985c268-050545ecfa7512b4-3_image_0.nii.gz\n",
      "2023-10-13 12:54:24,688 INFO image_writer.py:197 - writing: /home/vlermakov/Development/Nodules/Nodule-Detection-LUNA2016/processed_data_full_range_075mm/Jebeemu__635d55d2437ad10a1985c268-050545ecfa7512b4-3/Jebeemu__635d55d2437ad10a1985c268-050545ecfa7512b4-3_mask_0.nii.gz\n"
     ]
    },
    {
     "name": "stderr",
     "output_type": "stream",
     "text": [
      "\r",
      "Loading dataset:   3%|█████▉                                                                                                                                                                                                                         | 16/606 [04:10<2:55:37, 17.86s/it]"
     ]
    },
    {
     "name": "stdout",
     "output_type": "stream",
     "text": [
      "2023-10-13 12:54:30,536 INFO image_writer.py:197 - writing: /home/vlermakov/Development/Nodules/Nodule-Detection-LUNA2016/processed_data_full_range_075mm/Jebeemu__635d55d2437ad10a1985c268-050545ecfa7512b4-43/Jebeemu__635d55d2437ad10a1985c268-050545ecfa7512b4-43_image_0.nii.gz\n",
      "2023-10-13 12:54:30,551 INFO image_writer.py:197 - writing: /home/vlermakov/Development/Nodules/Nodule-Detection-LUNA2016/processed_data_full_range_075mm/Socaba__634f75973d4cd80a563b3648-5058755badbc1fdb-26/Socaba__634f75973d4cd80a563b3648-5058755badbc1fdb-26_image_0.nii.gz\n",
      "2023-10-13 12:54:30,694 INFO image_writer.py:197 - writing: /home/vlermakov/Development/Nodules/Nodule-Detection-LUNA2016/processed_data_full_range_075mm/Jebeemu__635d55d2437ad10a1985c268-050545ecfa7512b4-43/Jebeemu__635d55d2437ad10a1985c268-050545ecfa7512b4-43_mask_0.nii.gz\n",
      "2023-10-13 12:54:30,815 INFO image_writer.py:197 - writing: /home/vlermakov/Development/Nodules/Nodule-Detection-LUNA2016/processed_data_full_range_075mm/Socaba__634f75973d4cd80a563b3648-5058755badbc1fdb-26/Socaba__634f75973d4cd80a563b3648-5058755badbc1fdb-26_mask_0.nii.gz\n"
     ]
    },
    {
     "name": "stderr",
     "output_type": "stream",
     "text": [
      "Loading dataset:   3%|███████▎                                                                                                                                                                                                                       | 20/606 [04:21<1:03:12,  6.47s/it]"
     ]
    },
    {
     "name": "stdout",
     "output_type": "stream",
     "text": [
      "2023-10-13 12:54:42,523 INFO image_writer.py:197 - writing: /home/vlermakov/Development/Nodules/Nodule-Detection-LUNA2016/processed_data_full_range_075mm/Socaba__634f75973d4cd80a563b3648-5058755badbc1fdb-10/Socaba__634f75973d4cd80a563b3648-5058755badbc1fdb-10_image_0.nii.gz\n",
      "2023-10-13 12:54:42,565 INFO image_writer.py:197 - writing: /home/vlermakov/Development/Nodules/Nodule-Detection-LUNA2016/processed_data_full_range_075mm/Socaba__634f75973d4cd80a563b3648-5058755badbc1fdb-27/Socaba__634f75973d4cd80a563b3648-5058755badbc1fdb-27_image_0.nii.gz\n",
      "2023-10-13 12:54:43,338 INFO image_writer.py:197 - writing: /home/vlermakov/Development/Nodules/Nodule-Detection-LUNA2016/processed_data_full_range_075mm/Socaba__634f75973d4cd80a563b3648-5058755badbc1fdb-10/Socaba__634f75973d4cd80a563b3648-5058755badbc1fdb-10_mask_0.nii.gz\n",
      "2023-10-13 12:54:43,434 INFO image_writer.py:197 - writing: /home/vlermakov/Development/Nodules/Nodule-Detection-LUNA2016/processed_data_full_range_075mm/Socaba__634f75973d4cd80a563b3648-5058755badbc1fdb-27/Socaba__634f75973d4cd80a563b3648-5058755badbc1fdb-27_mask_0.nii.gz\n"
     ]
    },
    {
     "name": "stderr",
     "output_type": "stream",
     "text": [
      "Loading dataset:   4%|████████▉                                                                                                                                                                                                                        | 24/606 [04:34<42:23,  4.37s/it]"
     ]
    },
    {
     "name": "stdout",
     "output_type": "stream",
     "text": [
      "2023-10-13 12:54:55,006 INFO image_writer.py:197 - writing: /home/vlermakov/Development/Nodules/Nodule-Detection-LUNA2016/processed_data_full_range_075mm/Lorutink__63a5d070e433dc09846b1cae-7fa14ee9b10204f2-1/Lorutink__63a5d070e433dc09846b1cae-7fa14ee9b10204f2-1_image_0.nii.gz\n",
      "2023-10-13 12:54:55,134 INFO image_writer.py:197 - writing: /home/vlermakov/Development/Nodules/Nodule-Detection-LUNA2016/processed_data_full_range_075mm/Lorutink__63a5d070e433dc09846b1cae-7fa14ee9b10204f2-1/Lorutink__63a5d070e433dc09846b1cae-7fa14ee9b10204f2-1_mask_0.nii.gz\n"
     ]
    },
    {
     "name": "stderr",
     "output_type": "stream",
     "text": [
      "\r",
      "Loading dataset:   4%|█████████▎                                                                                                                                                                                                                       | 25/606 [04:37<39:48,  4.11s/it]"
     ]
    },
    {
     "name": "stdout",
     "output_type": "stream",
     "text": [
      "2023-10-13 12:55:22,599 INFO image_writer.py:197 - writing: /home/vlermakov/Development/Nodules/Nodule-Detection-LUNA2016/processed_data_full_range_075mm/Agunit__635c5d82411cc509bbd4adb1-285bd90aae01c143-2/Agunit__635c5d82411cc509bbd4adb1-285bd90aae01c143-2_image_0.nii.gz\n",
      "2023-10-13 12:55:23,101 INFO image_writer.py:197 - writing: /home/vlermakov/Development/Nodules/Nodule-Detection-LUNA2016/processed_data_full_range_075mm/Agunit__635c5d82411cc509bbd4adb1-285bd90aae01c143-2/Agunit__635c5d82411cc509bbd4adb1-285bd90aae01c143-2_mask_0.nii.gz\n",
      "2023-10-13 12:55:31,499 INFO image_writer.py:197 - writing: /home/vlermakov/Development/Nodules/Nodule-Detection-LUNA2016/processed_data_full_range_075mm/Lorutink__63a5d070e433dc09846b1cae-7fa14ee9b10204f2-22/Lorutink__63a5d070e433dc09846b1cae-7fa14ee9b10204f2-22_image_0.nii.gz\n",
      "2023-10-13 12:55:31,516 INFO image_writer.py:197 - writing: /home/vlermakov/Development/Nodules/Nodule-Detection-LUNA2016/processed_data_full_range_075mm/Lorutink__63a5d070e433dc09846b1cae-7fa14ee9b10204f2-20/Lorutink__63a5d070e433dc09846b1cae-7fa14ee9b10204f2-20_image_0.nii.gz\n",
      "2023-10-13 12:55:31,533 INFO image_writer.py:197 - writing: /home/vlermakov/Development/Nodules/Nodule-Detection-LUNA2016/processed_data_full_range_075mm/Lorutink__63a5d070e433dc09846b1cae-7fa14ee9b10204f2-45/Lorutink__63a5d070e433dc09846b1cae-7fa14ee9b10204f2-45_image_0.nii.gz\n",
      "2023-10-13 12:55:31,664 INFO image_writer.py:197 - writing: /home/vlermakov/Development/Nodules/Nodule-Detection-LUNA2016/processed_data_full_range_075mm/Nidogek__6365bdfc0dee27099135d96a-c364fa6109e8e920-1/Nidogek__6365bdfc0dee27099135d96a-c364fa6109e8e920-1_image_0.nii.gz\n",
      "2023-10-13 12:55:31,689 INFO image_writer.py:197 - writing: /home/vlermakov/Development/Nodules/Nodule-Detection-LUNA2016/processed_data_full_range_075mm/Lorutink__63a5d070e433dc09846b1cae-7fa14ee9b10204f2-5/Lorutink__63a5d070e433dc09846b1cae-7fa14ee9b10204f2-5_image_0.nii.gz\n",
      "2023-10-13 12:55:32,042 INFO image_writer.py:197 - writing: /home/vlermakov/Development/Nodules/Nodule-Detection-LUNA2016/processed_data_full_range_075mm/Lorutink__63a5d070e433dc09846b1cae-7fa14ee9b10204f2-22/Lorutink__63a5d070e433dc09846b1cae-7fa14ee9b10204f2-22_mask_0.nii.gz\n",
      "2023-10-13 12:55:32,138 INFO image_writer.py:197 - writing: /home/vlermakov/Development/Nodules/Nodule-Detection-LUNA2016/processed_data_full_range_075mm/Lorutink__63a5d070e433dc09846b1cae-7fa14ee9b10204f2-45/Lorutink__63a5d070e433dc09846b1cae-7fa14ee9b10204f2-45_mask_0.nii.gz\n",
      "2023-10-13 12:55:32,176 INFO image_writer.py:197 - writing: /home/vlermakov/Development/Nodules/Nodule-Detection-LUNA2016/processed_data_full_range_075mm/Lorutink__63a5d070e433dc09846b1cae-7fa14ee9b10204f2-20/Lorutink__63a5d070e433dc09846b1cae-7fa14ee9b10204f2-20_mask_0.nii.gz\n",
      "2023-10-13 12:55:32,327 INFO image_writer.py:197 - writing: /home/vlermakov/Development/Nodules/Nodule-Detection-LUNA2016/processed_data_full_range_075mm/Nidogek__6365bdfc0dee27099135d96a-c364fa6109e8e920-1/Nidogek__6365bdfc0dee27099135d96a-c364fa6109e8e920-1_mask_0.nii.gz\n",
      "2023-10-13 12:55:32,529 INFO image_writer.py:197 - writing: /home/vlermakov/Development/Nodules/Nodule-Detection-LUNA2016/processed_data_full_range_075mm/Lorutink__63a5d070e433dc09846b1cae-7fa14ee9b10204f2-5/Lorutink__63a5d070e433dc09846b1cae-7fa14ee9b10204f2-5_mask_0.nii.gz\n"
     ]
    },
    {
     "name": "stderr",
     "output_type": "stream",
     "text": [
      "Loading dataset:   5%|██████████▎                                                                                                                                                                                                                    | 28/606 [05:28<1:29:34,  9.30s/it]"
     ]
    },
    {
     "name": "stdout",
     "output_type": "stream",
     "text": [
      "2023-10-13 12:55:49,662 INFO image_writer.py:197 - writing: /home/vlermakov/Development/Nodules/Nodule-Detection-LUNA2016/processed_data_full_range_075mm/Dihudi__6364ef416c3bc909b9dd7a4d-70420073126caf60-1/Dihudi__6364ef416c3bc909b9dd7a4d-70420073126caf60-1_image_0.nii.gz\n",
      "2023-10-13 12:55:50,405 INFO image_writer.py:197 - writing: /home/vlermakov/Development/Nodules/Nodule-Detection-LUNA2016/processed_data_full_range_075mm/Dihudi__6364ef416c3bc909b9dd7a4d-70420073126caf60-1/Dihudi__6364ef416c3bc909b9dd7a4d-70420073126caf60-1_mask_0.nii.gz\n"
     ]
    },
    {
     "name": "stderr",
     "output_type": "stream",
     "text": [
      "Loading dataset:   5%|███████████▉                                                                                                                                                                                                                     | 32/606 [05:34<37:29,  3.92s/it]"
     ]
    },
    {
     "name": "stdout",
     "output_type": "stream",
     "text": [
      "2023-10-13 12:56:17,108 INFO image_writer.py:197 - writing: /home/vlermakov/Development/Nodules/Nodule-Detection-LUNA2016/processed_data_full_range_075mm/Jaquesif__635c0883f0d71409e69ab6ee-2614ffcc9569efdb-30/Jaquesif__635c0883f0d71409e69ab6ee-2614ffcc9569efdb-30_image_0.nii.gz\n",
      "2023-10-13 12:56:17,177 INFO image_writer.py:197 - writing: /home/vlermakov/Development/Nodules/Nodule-Detection-LUNA2016/processed_data_full_range_075mm/Jaquesif__635c0883f0d71409e69ab6ee-2614ffcc9569efdb-24/Jaquesif__635c0883f0d71409e69ab6ee-2614ffcc9569efdb-24_image_0.nii.gz\n",
      "2023-10-13 12:56:17,755 INFO image_writer.py:197 - writing: /home/vlermakov/Development/Nodules/Nodule-Detection-LUNA2016/processed_data_full_range_075mm/Jaquesif__635c0883f0d71409e69ab6ee-2614ffcc9569efdb-30/Jaquesif__635c0883f0d71409e69ab6ee-2614ffcc9569efdb-30_mask_0.nii.gz\n",
      "2023-10-13 12:56:17,932 INFO image_writer.py:197 - writing: /home/vlermakov/Development/Nodules/Nodule-Detection-LUNA2016/processed_data_full_range_075mm/Jaquesif__635c0883f0d71409e69ab6ee-2614ffcc9569efdb-24/Jaquesif__635c0883f0d71409e69ab6ee-2614ffcc9569efdb-24_mask_0.nii.gz\n",
      "2023-10-13 12:56:27,532 INFO image_writer.py:197 - writing: /home/vlermakov/Development/Nodules/Nodule-Detection-LUNA2016/processed_data_full_range_075mm/Jaquesif__635c0883f0d71409e69ab6ee-2614ffcc9569efdb-16/Jaquesif__635c0883f0d71409e69ab6ee-2614ffcc9569efdb-16_image_0.nii.gz\n",
      "2023-10-13 12:56:27,722 INFO image_writer.py:197 - writing: /home/vlermakov/Development/Nodules/Nodule-Detection-LUNA2016/processed_data_full_range_075mm/Jaquesif__635c0883f0d71409e69ab6ee-2614ffcc9569efdb-16/Jaquesif__635c0883f0d71409e69ab6ee-2614ffcc9569efdb-16_mask_0.nii.gz\n",
      "2023-10-13 12:56:33,326 INFO image_writer.py:197 - writing: /home/vlermakov/Development/Nodules/Nodule-Detection-LUNA2016/processed_data_full_range_075mm/Jaquesif__635c0883f0d71409e69ab6ee-2614ffcc9569efdb-38/Jaquesif__635c0883f0d71409e69ab6ee-2614ffcc9569efdb-38_image_0.nii.gz\n",
      "2023-10-13 12:56:33,453 INFO image_writer.py:197 - writing: /home/vlermakov/Development/Nodules/Nodule-Detection-LUNA2016/processed_data_full_range_075mm/Jaquesif__635c0883f0d71409e69ab6ee-2614ffcc9569efdb-10/Jaquesif__635c0883f0d71409e69ab6ee-2614ffcc9569efdb-10_image_0.nii.gz\n",
      "2023-10-13 12:56:33,687 INFO image_writer.py:197 - writing: /home/vlermakov/Development/Nodules/Nodule-Detection-LUNA2016/processed_data_full_range_075mm/Jaquesif__635c0883f0d71409e69ab6ee-2614ffcc9569efdb-38/Jaquesif__635c0883f0d71409e69ab6ee-2614ffcc9569efdb-38_mask_0.nii.gz\n",
      "2023-10-13 12:56:33,847 INFO image_writer.py:197 - writing: /home/vlermakov/Development/Nodules/Nodule-Detection-LUNA2016/processed_data_full_range_075mm/Jaquesif__635c0883f0d71409e69ab6ee-2614ffcc9569efdb-10/Jaquesif__635c0883f0d71409e69ab6ee-2614ffcc9569efdb-10_mask_0.nii.gz\n",
      "2023-10-13 12:56:33,973 INFO image_writer.py:197 - writing: /home/vlermakov/Development/Nodules/Nodule-Detection-LUNA2016/processed_data_full_range_075mm/Bekubo__63b458eee4a5ca0a6692aabc-962fc29302464333-3/Bekubo__63b458eee4a5ca0a6692aabc-962fc29302464333-3_image_0.nii.gz\n",
      "2023-10-13 12:56:34,080 INFO image_writer.py:197 - writing: /home/vlermakov/Development/Nodules/Nodule-Detection-LUNA2016/processed_data_full_range_075mm/Bekubo__63b458eee4a5ca0a6692aabc-962fc29302464333-3/Bekubo__63b458eee4a5ca0a6692aabc-962fc29302464333-3_mask_0.nii.gz\n"
     ]
    },
    {
     "name": "stderr",
     "output_type": "stream",
     "text": [
      "\r",
      "Loading dataset:   5%|████████████▏                                                                                                                                                                                                                  | 33/606 [06:22<2:29:40, 15.67s/it]"
     ]
    },
    {
     "name": "stdout",
     "output_type": "stream",
     "text": [
      "2023-10-13 12:56:46,609 INFO image_writer.py:197 - writing: /home/vlermakov/Development/Nodules/Nodule-Detection-LUNA2016/processed_data_full_range_075mm/Bekubo__63b458eee4a5ca0a6692aabc-962fc29302464333-10/Bekubo__63b458eee4a5ca0a6692aabc-962fc29302464333-10_image_0.nii.gz\n",
      "2023-10-13 12:56:46,833 INFO image_writer.py:197 - writing: /home/vlermakov/Development/Nodules/Nodule-Detection-LUNA2016/processed_data_full_range_075mm/Bekubo__63b458eee4a5ca0a6692aabc-962fc29302464333-10/Bekubo__63b458eee4a5ca0a6692aabc-962fc29302464333-10_mask_0.nii.gz\n"
     ]
    },
    {
     "name": "stderr",
     "output_type": "stream",
     "text": [
      "Loading dataset:   6%|████████████▉                                                                                                                                                                                                                  | 35/606 [06:31<1:37:43, 10.27s/it]"
     ]
    },
    {
     "name": "stdout",
     "output_type": "stream",
     "text": [
      "2023-10-13 12:56:51,518 INFO image_writer.py:197 - writing: /home/vlermakov/Development/Nodules/Nodule-Detection-LUNA2016/processed_data_full_range_075mm/Jaquesif__635c0883f0d71409e69ab6ee-2614ffcc9569efdb-3/Jaquesif__635c0883f0d71409e69ab6ee-2614ffcc9569efdb-3_image_0.nii.gz\n",
      "2023-10-13 12:56:51,889 INFO image_writer.py:197 - writing: /home/vlermakov/Development/Nodules/Nodule-Detection-LUNA2016/processed_data_full_range_075mm/Jaquesif__635c0883f0d71409e69ab6ee-2614ffcc9569efdb-3/Jaquesif__635c0883f0d71409e69ab6ee-2614ffcc9569efdb-3_mask_0.nii.gz\n"
     ]
    },
    {
     "name": "stderr",
     "output_type": "stream",
     "text": [
      "\r",
      "Loading dataset:   7%|██████████████▊                                                                                                                                                                                                                  | 40/606 [06:37<38:44,  4.11s/it]"
     ]
    },
    {
     "name": "stdout",
     "output_type": "stream",
     "text": [
      "2023-10-13 12:57:20,947 INFO image_writer.py:197 - writing: /home/vlermakov/Development/Nodules/Nodule-Detection-LUNA2016/processed_data_full_range_075mm/Rakajid__634734d423189d0d837fa1e5-b543170c298db5fe-2/Rakajid__634734d423189d0d837fa1e5-b543170c298db5fe-2_image_0.nii.gz\n",
      "2023-10-13 12:57:21,216 INFO image_writer.py:197 - writing: /home/vlermakov/Development/Nodules/Nodule-Detection-LUNA2016/processed_data_full_range_075mm/Rakajid__634734d423189d0d837fa1e5-b543170c298db5fe-2/Rakajid__634734d423189d0d837fa1e5-b543170c298db5fe-2_mask_0.nii.gz\n",
      "2023-10-13 12:57:25,918 INFO image_writer.py:197 - writing: /home/vlermakov/Development/Nodules/Nodule-Detection-LUNA2016/processed_data_full_range_075mm/Jaquesif__635c0883f0d71409e69ab6ee-2614ffcc9569efdb-6/Jaquesif__635c0883f0d71409e69ab6ee-2614ffcc9569efdb-6_image_0.nii.gz\n",
      "2023-10-13 12:57:25,942 INFO image_writer.py:197 - writing: /home/vlermakov/Development/Nodules/Nodule-Detection-LUNA2016/processed_data_full_range_075mm/Rakajid__634734d423189d0d837fa1e5-b543170c298db5fe-4/Rakajid__634734d423189d0d837fa1e5-b543170c298db5fe-4_image_0.nii.gz\n",
      "2023-10-13 12:57:26,012 INFO image_writer.py:197 - writing: /home/vlermakov/Development/Nodules/Nodule-Detection-LUNA2016/processed_data_full_range_075mm/Rakajid__634734d423189d0d837fa1e5-b543170c298db5fe-10/Rakajid__634734d423189d0d837fa1e5-b543170c298db5fe-10_image_0.nii.gz\n",
      "2023-10-13 12:57:26,127 INFO image_writer.py:197 - writing: /home/vlermakov/Development/Nodules/Nodule-Detection-LUNA2016/processed_data_full_range_075mm/Rakajid__634734d423189d0d837fa1e5-b543170c298db5fe-6/Rakajid__634734d423189d0d837fa1e5-b543170c298db5fe-6_image_0.nii.gz\n",
      "2023-10-13 12:57:26,420 INFO image_writer.py:197 - writing: /home/vlermakov/Development/Nodules/Nodule-Detection-LUNA2016/processed_data_full_range_075mm/Rakajid__634734d423189d0d837fa1e5-b543170c298db5fe-4/Rakajid__634734d423189d0d837fa1e5-b543170c298db5fe-4_mask_0.nii.gz\n",
      "2023-10-13 12:57:26,421 INFO image_writer.py:197 - writing: /home/vlermakov/Development/Nodules/Nodule-Detection-LUNA2016/processed_data_full_range_075mm/Jaquesif__635c0883f0d71409e69ab6ee-2614ffcc9569efdb-6/Jaquesif__635c0883f0d71409e69ab6ee-2614ffcc9569efdb-6_mask_0.nii.gz\n",
      "2023-10-13 12:57:26,602 INFO image_writer.py:197 - writing: /home/vlermakov/Development/Nodules/Nodule-Detection-LUNA2016/processed_data_full_range_075mm/Rakajid__634734d423189d0d837fa1e5-b543170c298db5fe-9/Rakajid__634734d423189d0d837fa1e5-b543170c298db5fe-9_image_0.nii.gz\n",
      "2023-10-13 12:57:26,605 INFO image_writer.py:197 - writing: /home/vlermakov/Development/Nodules/Nodule-Detection-LUNA2016/processed_data_full_range_075mm/Rakajid__634734d423189d0d837fa1e5-b543170c298db5fe-11/Rakajid__634734d423189d0d837fa1e5-b543170c298db5fe-11_image_0.nii.gz\n",
      "2023-10-13 12:57:26,630 INFO image_writer.py:197 - writing: /home/vlermakov/Development/Nodules/Nodule-Detection-LUNA2016/processed_data_full_range_075mm/Rakajid__634734d423189d0d837fa1e5-b543170c298db5fe-10/Rakajid__634734d423189d0d837fa1e5-b543170c298db5fe-10_mask_0.nii.gz\n",
      "2023-10-13 12:57:26,643 INFO image_writer.py:197 - writing: /home/vlermakov/Development/Nodules/Nodule-Detection-LUNA2016/processed_data_full_range_075mm/Rakajid__634734d423189d0d837fa1e5-b543170c298db5fe-6/Rakajid__634734d423189d0d837fa1e5-b543170c298db5fe-6_mask_0.nii.gz\n",
      "2023-10-13 12:57:26,710 INFO image_writer.py:197 - writing: /home/vlermakov/Development/Nodules/Nodule-Detection-LUNA2016/processed_data_full_range_075mm/Rakajid__634734d423189d0d837fa1e5-b543170c298db5fe-9/Rakajid__634734d423189d0d837fa1e5-b543170c298db5fe-9_mask_0.nii.gz\n",
      "2023-10-13 12:57:26,723 INFO image_writer.py:197 - writing: /home/vlermakov/Development/Nodules/Nodule-Detection-LUNA2016/processed_data_full_range_075mm/Rakajid__634734d423189d0d837fa1e5-b543170c298db5fe-11/Rakajid__634734d423189d0d837fa1e5-b543170c298db5fe-11_mask_0.nii.gz\n"
     ]
    },
    {
     "name": "stderr",
     "output_type": "stream",
     "text": [
      "Loading dataset:   7%|███████████████▊                                                                                                                                                                                                               | 43/606 [07:34<1:24:52,  9.05s/it]"
     ]
    },
    {
     "name": "stdout",
     "output_type": "stream",
     "text": [
      "2023-10-13 12:57:55,059 INFO image_writer.py:197 - writing: /home/vlermakov/Development/Nodules/Nodule-Detection-LUNA2016/processed_data_full_range_075mm/Mohuteg__635da13e20a87a09e9c7f4e5-20cf4fd4a848af48-2/Mohuteg__635da13e20a87a09e9c7f4e5-20cf4fd4a848af48-2_image_0.nii.gz\n",
      "2023-10-13 12:57:55,246 INFO image_writer.py:197 - writing: /home/vlermakov/Development/Nodules/Nodule-Detection-LUNA2016/processed_data_full_range_075mm/Mohuteg__635da13e20a87a09e9c7f4e5-20cf4fd4a848af48-2/Mohuteg__635da13e20a87a09e9c7f4e5-20cf4fd4a848af48-2_mask_0.nii.gz\n"
     ]
    },
    {
     "name": "stderr",
     "output_type": "stream",
     "text": [
      "\r",
      "Loading dataset:   8%|█████████████████▊                                                                                                                                                                                                               | 48/606 [07:35<34:56,  3.76s/it]"
     ]
    },
    {
     "name": "stdout",
     "output_type": "stream",
     "text": [
      "2023-10-13 12:58:20,342 INFO image_writer.py:197 - writing: /home/vlermakov/Development/Nodules/Nodule-Detection-LUNA2016/processed_data_full_range_075mm/Mohuteg__635da13e20a87a09e9c7f4e5-20cf4fd4a848af48-3/Mohuteg__635da13e20a87a09e9c7f4e5-20cf4fd4a848af48-3_image_0.nii.gz\n",
      "2023-10-13 12:58:21,014 INFO image_writer.py:197 - writing: /home/vlermakov/Development/Nodules/Nodule-Detection-LUNA2016/processed_data_full_range_075mm/Mohuteg__635da13e20a87a09e9c7f4e5-20cf4fd4a848af48-3/Mohuteg__635da13e20a87a09e9c7f4e5-20cf4fd4a848af48-3_mask_0.nii.gz\n"
     ]
    },
    {
     "name": "stderr",
     "output_type": "stream",
     "text": [
      "\r",
      "Loading dataset:   8%|██████████████████                                                                                                                                                                                                             | 49/606 [08:03<1:06:52,  7.20s/it]"
     ]
    },
    {
     "name": "stdout",
     "output_type": "stream",
     "text": [
      "2023-10-13 12:58:31,733 INFO image_writer.py:197 - writing: /home/vlermakov/Development/Nodules/Nodule-Detection-LUNA2016/processed_data_full_range_075mm/Ridine__6356ce11082a7209e4cc413e-424ba96559bd619a-3/Ridine__6356ce11082a7209e4cc413e-424ba96559bd619a-3_image_0.nii.gz\n",
      "2023-10-13 12:58:31,751 INFO image_writer.py:197 - writing: /home/vlermakov/Development/Nodules/Nodule-Detection-LUNA2016/processed_data_full_range_075mm/Ridine__6356ce11082a7209e4cc413e-424ba96559bd619a-4/Ridine__6356ce11082a7209e4cc413e-424ba96559bd619a-4_image_0.nii.gz\n",
      "2023-10-13 12:58:31,821 INFO image_writer.py:197 - writing: /home/vlermakov/Development/Nodules/Nodule-Detection-LUNA2016/processed_data_full_range_075mm/Ridine__6356ce11082a7209e4cc413e-424ba96559bd619a-2/Ridine__6356ce11082a7209e4cc413e-424ba96559bd619a-2_image_0.nii.gz\n",
      "2023-10-13 12:58:31,925 INFO image_writer.py:197 - writing: /home/vlermakov/Development/Nodules/Nodule-Detection-LUNA2016/processed_data_full_range_075mm/Swofeku__63497e5b37d35c0b08218363-394918f06c4dfb49-1/Swofeku__63497e5b37d35c0b08218363-394918f06c4dfb49-1_image_0.nii.gz\n",
      "2023-10-13 12:58:32,368 INFO image_writer.py:197 - writing: /home/vlermakov/Development/Nodules/Nodule-Detection-LUNA2016/processed_data_full_range_075mm/Ridine__6356ce11082a7209e4cc413e-424ba96559bd619a-4/Ridine__6356ce11082a7209e4cc413e-424ba96559bd619a-4_mask_0.nii.gz\n",
      "2023-10-13 12:58:32,373 INFO image_writer.py:197 - writing: /home/vlermakov/Development/Nodules/Nodule-Detection-LUNA2016/processed_data_full_range_075mm/Ridine__6356ce11082a7209e4cc413e-424ba96559bd619a-3/Ridine__6356ce11082a7209e4cc413e-424ba96559bd619a-3_mask_0.nii.gz\n",
      "2023-10-13 12:58:32,456 INFO image_writer.py:197 - writing: /home/vlermakov/Development/Nodules/Nodule-Detection-LUNA2016/processed_data_full_range_075mm/Ridine__6356ce11082a7209e4cc413e-424ba96559bd619a-2/Ridine__6356ce11082a7209e4cc413e-424ba96559bd619a-2_mask_0.nii.gz\n",
      "2023-10-13 12:58:32,486 INFO image_writer.py:197 - writing: /home/vlermakov/Development/Nodules/Nodule-Detection-LUNA2016/processed_data_full_range_075mm/Swofeku__63497e5b37d35c0b08218363-394918f06c4dfb49-1/Swofeku__63497e5b37d35c0b08218363-394918f06c4dfb49-1_mask_0.nii.gz\n"
     ]
    },
    {
     "name": "stderr",
     "output_type": "stream",
     "text": [
      "Loading dataset:   9%|███████████████████▏                                                                                                                                                                                                           | 52/606 [08:30<1:07:17,  7.29s/it]"
     ]
    },
    {
     "name": "stdout",
     "output_type": "stream",
     "text": [
      "2023-10-13 12:58:51,960 INFO image_writer.py:197 - writing: /home/vlermakov/Development/Nodules/Nodule-Detection-LUNA2016/processed_data_full_range_075mm/Tuerekom__6398de01880d6509ab81113a-ebe7fd1520882b2a-1/Tuerekom__6398de01880d6509ab81113a-ebe7fd1520882b2a-1_image_0.nii.gz\n",
      "2023-10-13 12:58:52,013 INFO image_writer.py:197 - writing: /home/vlermakov/Development/Nodules/Nodule-Detection-LUNA2016/processed_data_full_range_075mm/Ridine__6356ce11082a7209e4cc413e-424ba96559bd619a-12/Ridine__6356ce11082a7209e4cc413e-424ba96559bd619a-12_image_0.nii.gz\n",
      "2023-10-13 12:58:52,233 INFO image_writer.py:197 - writing: /home/vlermakov/Development/Nodules/Nodule-Detection-LUNA2016/processed_data_full_range_075mm/Ridine__6356ce11082a7209e4cc413e-424ba96559bd619a-12/Ridine__6356ce11082a7209e4cc413e-424ba96559bd619a-12_mask_0.nii.gz\n",
      "2023-10-13 12:58:52,317 INFO image_writer.py:197 - writing: /home/vlermakov/Development/Nodules/Nodule-Detection-LUNA2016/processed_data_full_range_075mm/Tuerekom__6398de01880d6509ab81113a-ebe7fd1520882b2a-1/Tuerekom__6398de01880d6509ab81113a-ebe7fd1520882b2a-1_mask_0.nii.gz\n"
     ]
    },
    {
     "name": "stderr",
     "output_type": "stream",
     "text": [
      "Loading dataset:   9%|████████████████████▍                                                                                                                                                                                                            | 55/606 [08:41<44:51,  4.88s/it]"
     ]
    },
    {
     "name": "stdout",
     "output_type": "stream",
     "text": [
      "2023-10-13 12:59:13,630 INFO image_writer.py:197 - writing: /home/vlermakov/Development/Nodules/Nodule-Detection-LUNA2016/processed_data_full_range_075mm/Hakingques__63ab9e53eac577093e72750f-bc45f1bc3c72596f-1/Hakingques__63ab9e53eac577093e72750f-bc45f1bc3c72596f-1_image_0.nii.gz\n",
      "2023-10-13 12:59:13,727 INFO image_writer.py:197 - writing: /home/vlermakov/Development/Nodules/Nodule-Detection-LUNA2016/processed_data_full_range_075mm/Hakingques__63ab9e53eac577093e72750f-bc45f1bc3c72596f-1/Hakingques__63ab9e53eac577093e72750f-bc45f1bc3c72596f-1_mask_0.nii.gz\n"
     ]
    },
    {
     "name": "stderr",
     "output_type": "stream",
     "text": [
      "\r",
      "Loading dataset:   9%|████████████████████▌                                                                                                                                                                                                          | 56/606 [08:54<1:04:36,  7.05s/it]"
     ]
    },
    {
     "name": "stdout",
     "output_type": "stream",
     "text": [
      "2023-10-13 12:59:28,026 INFO image_writer.py:197 - writing: /home/vlermakov/Development/Nodules/Nodule-Detection-LUNA2016/processed_data_full_range_075mm/Sracaqua__63a2590a35c1960a20ae7267-58dc95391afae226-2/Sracaqua__63a2590a35c1960a20ae7267-58dc95391afae226-2_image_0.nii.gz\n",
      "2023-10-13 12:59:28,594 INFO image_writer.py:197 - writing: /home/vlermakov/Development/Nodules/Nodule-Detection-LUNA2016/processed_data_full_range_075mm/Sracaqua__63a2590a35c1960a20ae7267-58dc95391afae226-2/Sracaqua__63a2590a35c1960a20ae7267-58dc95391afae226-2_mask_0.nii.gz\n",
      "2023-10-13 12:59:28,859 INFO image_writer.py:197 - writing: /home/vlermakov/Development/Nodules/Nodule-Detection-LUNA2016/processed_data_full_range_075mm/Sracaqua__63a2590a35c1960a20ae7267-58dc95391afae226-3/Sracaqua__63a2590a35c1960a20ae7267-58dc95391afae226-3_image_0.nii.gz\n",
      "2023-10-13 12:59:28,932 INFO image_writer.py:197 - writing: /home/vlermakov/Development/Nodules/Nodule-Detection-LUNA2016/processed_data_full_range_075mm/Sracaqua__63a2590a35c1960a20ae7267-58dc95391afae226-4/Sracaqua__63a2590a35c1960a20ae7267-58dc95391afae226-4_image_0.nii.gz\n",
      "2023-10-13 12:59:29,068 INFO image_writer.py:197 - writing: /home/vlermakov/Development/Nodules/Nodule-Detection-LUNA2016/processed_data_full_range_075mm/Sracaqua__63a2590a35c1960a20ae7267-58dc95391afae226-3/Sracaqua__63a2590a35c1960a20ae7267-58dc95391afae226-3_mask_0.nii.gz\n",
      "2023-10-13 12:59:37,605 INFO image_writer.py:197 - writing: /home/vlermakov/Development/Nodules/Nodule-Detection-LUNA2016/processed_data_full_range_075mm/Sracaqua__63a2590a35c1960a20ae7267-58dc95391afae226-4/Sracaqua__63a2590a35c1960a20ae7267-58dc95391afae226-4_mask_0.nii.gz\n",
      "2023-10-13 12:59:45,810 INFO image_writer.py:197 - writing: /home/vlermakov/Development/Nodules/Nodule-Detection-LUNA2016/processed_data_full_range_075mm/Hakingques__63ab9e53eac577093e72750f-bc45f1bc3c72596f-3/Hakingques__63ab9e53eac577093e72750f-bc45f1bc3c72596f-3_image_0.nii.gz\n",
      "2023-10-13 12:59:45,851 INFO image_writer.py:197 - writing: /home/vlermakov/Development/Nodules/Nodule-Detection-LUNA2016/processed_data_full_range_075mm/Hakingques__63ab9e53eac577093e72750f-bc45f1bc3c72596f-2/Hakingques__63ab9e53eac577093e72750f-bc45f1bc3c72596f-2_image_0.nii.gz\n",
      "2023-10-13 12:59:46,618 INFO image_writer.py:197 - writing: /home/vlermakov/Development/Nodules/Nodule-Detection-LUNA2016/processed_data_full_range_075mm/Hakingques__63ab9e53eac577093e72750f-bc45f1bc3c72596f-3/Hakingques__63ab9e53eac577093e72750f-bc45f1bc3c72596f-3_mask_0.nii.gz\n",
      "2023-10-13 12:59:46,738 INFO image_writer.py:197 - writing: /home/vlermakov/Development/Nodules/Nodule-Detection-LUNA2016/processed_data_full_range_075mm/Hakingques__63ab9e53eac577093e72750f-bc45f1bc3c72596f-2/Hakingques__63ab9e53eac577093e72750f-bc45f1bc3c72596f-2_mask_0.nii.gz\n"
     ]
    },
    {
     "name": "stderr",
     "output_type": "stream",
     "text": [
      "Loading dataset:  10%|█████████████████████▎                                                                                                                                                                                                         | 58/606 [09:35<1:54:52, 12.58s/it]"
     ]
    },
    {
     "name": "stdout",
     "output_type": "stream",
     "text": [
      "2023-10-13 12:59:56,258 INFO image_writer.py:197 - writing: /home/vlermakov/Development/Nodules/Nodule-Detection-LUNA2016/processed_data_full_range_075mm/Sracaqua__63a2590a35c1960a20ae7267-58dc95391afae226-9/Sracaqua__63a2590a35c1960a20ae7267-58dc95391afae226-9_image_0.nii.gz\n",
      "2023-10-13 12:59:56,329 INFO image_writer.py:197 - writing: /home/vlermakov/Development/Nodules/Nodule-Detection-LUNA2016/processed_data_full_range_075mm/Sracaqua__63a2590a35c1960a20ae7267-58dc95391afae226-7/Sracaqua__63a2590a35c1960a20ae7267-58dc95391afae226-7_image_0.nii.gz\n",
      "2023-10-13 12:59:56,788 INFO image_writer.py:197 - writing: /home/vlermakov/Development/Nodules/Nodule-Detection-LUNA2016/processed_data_full_range_075mm/Sracaqua__63a2590a35c1960a20ae7267-58dc95391afae226-9/Sracaqua__63a2590a35c1960a20ae7267-58dc95391afae226-9_mask_0.nii.gz\n",
      "2023-10-13 12:59:56,805 INFO image_writer.py:197 - writing: /home/vlermakov/Development/Nodules/Nodule-Detection-LUNA2016/processed_data_full_range_075mm/Sracaqua__63a2590a35c1960a20ae7267-58dc95391afae226-7/Sracaqua__63a2590a35c1960a20ae7267-58dc95391afae226-7_mask_0.nii.gz\n"
     ]
    },
    {
     "name": "stderr",
     "output_type": "stream",
     "text": [
      "Loading dataset:  10%|███████████████████████▍                                                                                                                                                                                                         | 63/606 [09:44<47:36,  5.26s/it]"
     ]
    },
    {
     "name": "stdout",
     "output_type": "stream",
     "text": [
      "2023-10-13 13:00:25,335 INFO image_writer.py:197 - writing: /home/vlermakov/Development/Nodules/Nodule-Detection-LUNA2016/processed_data_full_range_075mm/Sracaqua__63a2590a35c1960a20ae7267-58dc95391afae226-15/Sracaqua__63a2590a35c1960a20ae7267-58dc95391afae226-15_image_0.nii.gz\n",
      "2023-10-13 13:00:26,083 INFO image_writer.py:197 - writing: /home/vlermakov/Development/Nodules/Nodule-Detection-LUNA2016/processed_data_full_range_075mm/Sracaqua__63a2590a35c1960a20ae7267-58dc95391afae226-12/Sracaqua__63a2590a35c1960a20ae7267-58dc95391afae226-12_image_0.nii.gz\n",
      "2023-10-13 13:00:26,168 INFO image_writer.py:197 - writing: /home/vlermakov/Development/Nodules/Nodule-Detection-LUNA2016/processed_data_full_range_075mm/Sracaqua__63a2590a35c1960a20ae7267-58dc95391afae226-15/Sracaqua__63a2590a35c1960a20ae7267-58dc95391afae226-15_mask_0.nii.gz\n",
      "2023-10-13 13:00:26,458 INFO image_writer.py:197 - writing: /home/vlermakov/Development/Nodules/Nodule-Detection-LUNA2016/processed_data_full_range_075mm/Sracaqua__63a2590a35c1960a20ae7267-58dc95391afae226-12/Sracaqua__63a2590a35c1960a20ae7267-58dc95391afae226-12_mask_0.nii.gz\n"
     ]
    },
    {
     "name": "stderr",
     "output_type": "stream",
     "text": [
      "Loading dataset:  11%|███████████████████████▉                                                                                                                                                                                                       | 65/606 [10:15<1:15:51,  8.41s/it]"
     ]
    },
    {
     "name": "stdout",
     "output_type": "stream",
     "text": [
      "2023-10-13 13:00:37,487 INFO image_writer.py:197 - writing: /home/vlermakov/Development/Nodules/Nodule-Detection-LUNA2016/processed_data_full_range_075mm/Sracaqua__63a2590a35c1960a20ae7267-58dc95391afae226-16/Sracaqua__63a2590a35c1960a20ae7267-58dc95391afae226-16_image_0.nii.gz\n",
      "2023-10-13 13:00:37,575 INFO image_writer.py:197 - writing: /home/vlermakov/Development/Nodules/Nodule-Detection-LUNA2016/processed_data_full_range_075mm/Fabacou__63489701cc4e4c0afa55a3c9-1f1d94b82720a83d-2/Fabacou__63489701cc4e4c0afa55a3c9-1f1d94b82720a83d-2_image_0.nii.gz\n",
      "2023-10-13 13:00:37,617 INFO image_writer.py:197 - writing: /home/vlermakov/Development/Nodules/Nodule-Detection-LUNA2016/processed_data_full_range_075mm/Fabacou__63489701cc4e4c0afa55a3c9-1f1d94b82720a83d-1/Fabacou__63489701cc4e4c0afa55a3c9-1f1d94b82720a83d-1_image_0.nii.gz\n",
      "2023-10-13 13:00:38,459 INFO image_writer.py:197 - writing: /home/vlermakov/Development/Nodules/Nodule-Detection-LUNA2016/processed_data_full_range_075mm/Pokuemo__6348a963004b070db768786b-20bbabab099ef565-1/Pokuemo__6348a963004b070db768786b-20bbabab099ef565-1_image_0.nii.gz\n",
      "2023-10-13 13:00:38,865 INFO image_writer.py:197 - writing: /home/vlermakov/Development/Nodules/Nodule-Detection-LUNA2016/processed_data_full_range_075mm/Sracaqua__63a2590a35c1960a20ae7267-58dc95391afae226-16/Sracaqua__63a2590a35c1960a20ae7267-58dc95391afae226-16_mask_0.nii.gz\n",
      "2023-10-13 13:00:38,924 INFO image_writer.py:197 - writing: /home/vlermakov/Development/Nodules/Nodule-Detection-LUNA2016/processed_data_full_range_075mm/Fabacou__63489701cc4e4c0afa55a3c9-1f1d94b82720a83d-1/Fabacou__63489701cc4e4c0afa55a3c9-1f1d94b82720a83d-1_mask_0.nii.gz\n",
      "2023-10-13 13:00:39,023 INFO image_writer.py:197 - writing: /home/vlermakov/Development/Nodules/Nodule-Detection-LUNA2016/processed_data_full_range_075mm/Fabacou__63489701cc4e4c0afa55a3c9-1f1d94b82720a83d-2/Fabacou__63489701cc4e4c0afa55a3c9-1f1d94b82720a83d-2_mask_0.nii.gz\n",
      "2023-10-13 13:00:39,335 INFO image_writer.py:197 - writing: /home/vlermakov/Development/Nodules/Nodule-Detection-LUNA2016/processed_data_full_range_075mm/Pokuemo__6348a963004b070db768786b-20bbabab099ef565-1/Pokuemo__6348a963004b070db768786b-20bbabab099ef565-1_mask_0.nii.gz\n"
     ]
    },
    {
     "name": "stderr",
     "output_type": "stream",
     "text": [
      "Loading dataset:  11%|████████████████████████▋                                                                                                                                                                                                      | 67/606 [10:37<1:30:00, 10.02s/it]"
     ]
    },
    {
     "name": "stdout",
     "output_type": "stream",
     "text": [
      "2023-10-13 13:00:58,152 INFO image_writer.py:197 - writing: /home/vlermakov/Development/Nodules/Nodule-Detection-LUNA2016/processed_data_full_range_075mm/Fabacou__63489701cc4e4c0afa55a3c9-1f1d94b82720a83d-4/Fabacou__63489701cc4e4c0afa55a3c9-1f1d94b82720a83d-4_image_0.nii.gz\n",
      "2023-10-13 13:00:58,181 INFO image_writer.py:197 - writing: /home/vlermakov/Development/Nodules/Nodule-Detection-LUNA2016/processed_data_full_range_075mm/Fabacou__63489701cc4e4c0afa55a3c9-1f1d94b82720a83d-6/Fabacou__63489701cc4e4c0afa55a3c9-1f1d94b82720a83d-6_image_0.nii.gz\n",
      "2023-10-13 13:00:58,389 INFO image_writer.py:197 - writing: /home/vlermakov/Development/Nodules/Nodule-Detection-LUNA2016/processed_data_full_range_075mm/Fabacou__63489701cc4e4c0afa55a3c9-1f1d94b82720a83d-4/Fabacou__63489701cc4e4c0afa55a3c9-1f1d94b82720a83d-4_mask_0.nii.gz\n",
      "2023-10-13 13:00:58,403 INFO image_writer.py:197 - writing: /home/vlermakov/Development/Nodules/Nodule-Detection-LUNA2016/processed_data_full_range_075mm/Fabacou__63489701cc4e4c0afa55a3c9-1f1d94b82720a83d-6/Fabacou__63489701cc4e4c0afa55a3c9-1f1d94b82720a83d-6_mask_0.nii.gz\n"
     ]
    },
    {
     "name": "stderr",
     "output_type": "stream",
     "text": [
      "Loading dataset:  12%|██████████████████████████▎                                                                                                                                                                                                      | 71/606 [10:48<50:58,  5.72s/it]"
     ]
    },
    {
     "name": "stdout",
     "output_type": "stream",
     "text": [
      "2023-10-13 13:01:33,903 INFO image_writer.py:197 - writing: /home/vlermakov/Development/Nodules/Nodule-Detection-LUNA2016/processed_data_full_range_075mm/Figooso__639a65a687b85209d3e6b589-ce202533fa3580c2-6/Figooso__639a65a687b85209d3e6b589-ce202533fa3580c2-6_image_0.nii.gz\n",
      "2023-10-13 13:01:34,077 INFO image_writer.py:197 - writing: /home/vlermakov/Development/Nodules/Nodule-Detection-LUNA2016/processed_data_full_range_075mm/Figooso__639a65a687b85209d3e6b589-ce202533fa3580c2-6/Figooso__639a65a687b85209d3e6b589-ce202533fa3580c2-6_mask_0.nii.gz\n",
      "2023-10-13 13:01:41,745 INFO image_writer.py:197 - writing: /home/vlermakov/Development/Nodules/Nodule-Detection-LUNA2016/processed_data_full_range_075mm/Hilescuet__636a7af7f14ec60bf5d0cd39-867016c8501a13d6-42/Hilescuet__636a7af7f14ec60bf5d0cd39-867016c8501a13d6-42_image_0.nii.gz\n",
      "2023-10-13 13:01:41,900 INFO image_writer.py:197 - writing: /home/vlermakov/Development/Nodules/Nodule-Detection-LUNA2016/processed_data_full_range_075mm/Hilescuet__636a7af7f14ec60bf5d0cd39-867016c8501a13d6-4/Hilescuet__636a7af7f14ec60bf5d0cd39-867016c8501a13d6-4_image_0.nii.gz\n",
      "2023-10-13 13:01:41,926 INFO image_writer.py:197 - writing: /home/vlermakov/Development/Nodules/Nodule-Detection-LUNA2016/processed_data_full_range_075mm/Figooso__639a65a687b85209d3e6b589-ce202533fa3580c2-5/Figooso__639a65a687b85209d3e6b589-ce202533fa3580c2-5_image_0.nii.gz\n",
      "2023-10-13 13:01:42,021 INFO image_writer.py:197 - writing: /home/vlermakov/Development/Nodules/Nodule-Detection-LUNA2016/processed_data_full_range_075mm/Figooso__639a65a687b85209d3e6b589-ce202533fa3580c2-1/Figooso__639a65a687b85209d3e6b589-ce202533fa3580c2-1_image_0.nii.gz\n",
      "2023-10-13 13:01:42,025 INFO image_writer.py:197 - writing: /home/vlermakov/Development/Nodules/Nodule-Detection-LUNA2016/processed_data_full_range_075mm/Figooso__639a65a687b85209d3e6b589-ce202533fa3580c2-2/Figooso__639a65a687b85209d3e6b589-ce202533fa3580c2-2_image_0.nii.gz\n",
      "2023-10-13 13:01:42,268 INFO image_writer.py:197 - writing: /home/vlermakov/Development/Nodules/Nodule-Detection-LUNA2016/processed_data_full_range_075mm/Hilescuet__636a7af7f14ec60bf5d0cd39-867016c8501a13d6-42/Hilescuet__636a7af7f14ec60bf5d0cd39-867016c8501a13d6-42_mask_0.nii.gz\n",
      "2023-10-13 13:01:42,343 INFO image_writer.py:197 - writing: /home/vlermakov/Development/Nodules/Nodule-Detection-LUNA2016/processed_data_full_range_075mm/Hilescuet__636a7af7f14ec60bf5d0cd39-867016c8501a13d6-4/Hilescuet__636a7af7f14ec60bf5d0cd39-867016c8501a13d6-4_mask_0.nii.gz\n",
      "2023-10-13 13:01:42,408 INFO image_writer.py:197 - writing: /home/vlermakov/Development/Nodules/Nodule-Detection-LUNA2016/processed_data_full_range_075mm/Figooso__639a65a687b85209d3e6b589-ce202533fa3580c2-5/Figooso__639a65a687b85209d3e6b589-ce202533fa3580c2-5_mask_0.nii.gz\n",
      "2023-10-13 13:01:42,415 INFO image_writer.py:197 - writing: /home/vlermakov/Development/Nodules/Nodule-Detection-LUNA2016/processed_data_full_range_075mm/Figooso__639a65a687b85209d3e6b589-ce202533fa3580c2-1/Figooso__639a65a687b85209d3e6b589-ce202533fa3580c2-1_mask_0.nii.gz\n",
      "2023-10-13 13:01:42,473 INFO image_writer.py:197 - writing: /home/vlermakov/Development/Nodules/Nodule-Detection-LUNA2016/processed_data_full_range_075mm/Figooso__639a65a687b85209d3e6b589-ce202533fa3580c2-2/Figooso__639a65a687b85209d3e6b589-ce202533fa3580c2-2_mask_0.nii.gz\n"
     ]
    },
    {
     "name": "stderr",
     "output_type": "stream",
     "text": [
      "\r",
      "Loading dataset:  12%|██████████████████████████▍                                                                                                                                                                                                    | 72/606 [11:43<2:28:58, 16.74s/it]"
     ]
    },
    {
     "name": "stdout",
     "output_type": "stream",
     "text": [
      "2023-10-13 13:02:16,174 INFO image_writer.py:197 - writing: /home/vlermakov/Development/Nodules/Nodule-Detection-LUNA2016/processed_data_full_range_075mm/Nuborif__634f39759b64a8098e3728de-00809d65299fc510-51/Nuborif__634f39759b64a8098e3728de-00809d65299fc510-51_image_0.nii.gz\n",
      "2023-10-13 13:02:16,540 INFO image_writer.py:197 - writing: /home/vlermakov/Development/Nodules/Nodule-Detection-LUNA2016/processed_data_full_range_075mm/Nuborif__634f39759b64a8098e3728de-00809d65299fc510-51/Nuborif__634f39759b64a8098e3728de-00809d65299fc510-51_mask_0.nii.gz\n",
      "2023-10-13 13:02:16,681 INFO image_writer.py:197 - writing: /home/vlermakov/Development/Nodules/Nodule-Detection-LUNA2016/processed_data_full_range_075mm/Nuborif__634f39759b64a8098e3728de-00809d65299fc510-33/Nuborif__634f39759b64a8098e3728de-00809d65299fc510-33_image_0.nii.gz\n"
     ]
    },
    {
     "name": "stderr",
     "output_type": "stream",
     "text": [
      "\r",
      "Loading dataset:  13%|████████████████████████████▋                                                                                                                                                                                                  | 78/606 [12:03<1:09:38,  7.91s/it]"
     ]
    },
    {
     "name": "stdout",
     "output_type": "stream",
     "text": [
      "2023-10-13 13:02:22,801 INFO image_writer.py:197 - writing: /home/vlermakov/Development/Nodules/Nodule-Detection-LUNA2016/processed_data_full_range_075mm/Nuborif__634f39759b64a8098e3728de-00809d65299fc510-33/Nuborif__634f39759b64a8098e3728de-00809d65299fc510-33_mask_0.nii.gz\n"
     ]
    },
    {
     "name": "stderr",
     "output_type": "stream",
     "text": [
      "\r",
      "Loading dataset:  13%|█████████████████████████████                                                                                                                                                                                                  | 79/606 [12:08<1:06:21,  7.56s/it]"
     ]
    },
    {
     "name": "stdout",
     "output_type": "stream",
     "text": [
      "2023-10-13 13:02:29,318 INFO image_writer.py:197 - writing: /home/vlermakov/Development/Nodules/Nodule-Detection-LUNA2016/processed_data_full_range_075mm/Frequalad__639a973d8cd370094ba5327f-ad6d500e3658fd69-2/Frequalad__639a973d8cd370094ba5327f-ad6d500e3658fd69-2_image_0.nii.gz\n",
      "2023-10-13 13:02:31,773 INFO image_writer.py:197 - writing: /home/vlermakov/Development/Nodules/Nodule-Detection-LUNA2016/processed_data_full_range_075mm/Frequalad__639a973d8cd370094ba5327f-ad6d500e3658fd69-2/Frequalad__639a973d8cd370094ba5327f-ad6d500e3658fd69-2_mask_0.nii.gz\n"
     ]
    },
    {
     "name": "stderr",
     "output_type": "stream",
     "text": [
      "\r",
      "Loading dataset:  13%|█████████████████████████████▍                                                                                                                                                                                                 | 80/606 [12:13<1:02:17,  7.11s/it]"
     ]
    },
    {
     "name": "stdout",
     "output_type": "stream",
     "text": [
      "2023-10-13 13:02:39,293 INFO image_writer.py:197 - writing: /home/vlermakov/Development/Nodules/Nodule-Detection-LUNA2016/processed_data_full_range_075mm/Frequalad__639a973d8cd370094ba5327f-ad6d500e3658fd69-4/Frequalad__639a973d8cd370094ba5327f-ad6d500e3658fd69-4_image_0.nii.gz\n",
      "2023-10-13 13:02:39,327 INFO image_writer.py:197 - writing: /home/vlermakov/Development/Nodules/Nodule-Detection-LUNA2016/processed_data_full_range_075mm/Frequalad__639a973d8cd370094ba5327f-ad6d500e3658fd69-9/Frequalad__639a973d8cd370094ba5327f-ad6d500e3658fd69-9_image_0.nii.gz\n",
      "2023-10-13 13:02:39,924 INFO image_writer.py:197 - writing: /home/vlermakov/Development/Nodules/Nodule-Detection-LUNA2016/processed_data_full_range_075mm/Frequalad__639a973d8cd370094ba5327f-ad6d500e3658fd69-4/Frequalad__639a973d8cd370094ba5327f-ad6d500e3658fd69-4_mask_0.nii.gz\n",
      "2023-10-13 13:02:40,017 INFO image_writer.py:197 - writing: /home/vlermakov/Development/Nodules/Nodule-Detection-LUNA2016/processed_data_full_range_075mm/Frequalad__639a973d8cd370094ba5327f-ad6d500e3658fd69-9/Frequalad__639a973d8cd370094ba5327f-ad6d500e3658fd69-9_mask_0.nii.gz\n",
      "2023-10-13 13:02:48,913 INFO image_writer.py:197 - writing: /home/vlermakov/Development/Nodules/Nodule-Detection-LUNA2016/processed_data_full_range_075mm/Frequalad__639a973d8cd370094ba5327f-ad6d500e3658fd69-5/Frequalad__639a973d8cd370094ba5327f-ad6d500e3658fd69-5_image_0.nii.gz\n",
      "2023-10-13 13:02:48,952 INFO image_writer.py:197 - writing: /home/vlermakov/Development/Nodules/Nodule-Detection-LUNA2016/processed_data_full_range_075mm/Frequalad__639a973d8cd370094ba5327f-ad6d500e3658fd69-7/Frequalad__639a973d8cd370094ba5327f-ad6d500e3658fd69-7_image_0.nii.gz\n",
      "2023-10-13 13:02:49,028 INFO image_writer.py:197 - writing: /home/vlermakov/Development/Nodules/Nodule-Detection-LUNA2016/processed_data_full_range_075mm/Frequalad__639a973d8cd370094ba5327f-ad6d500e3658fd69-5/Frequalad__639a973d8cd370094ba5327f-ad6d500e3658fd69-5_mask_0.nii.gz\n",
      "2023-10-13 13:02:49,105 INFO image_writer.py:197 - writing: /home/vlermakov/Development/Nodules/Nodule-Detection-LUNA2016/processed_data_full_range_075mm/Frequalad__639a973d8cd370094ba5327f-ad6d500e3658fd69-7/Frequalad__639a973d8cd370094ba5327f-ad6d500e3658fd69-7_mask_0.nii.gz\n"
     ]
    },
    {
     "name": "stderr",
     "output_type": "stream",
     "text": [
      "Loading dataset:  14%|██████████████████████████████▌                                                                                                                                                                                                | 83/606 [12:39<1:00:19,  6.92s/it]"
     ]
    },
    {
     "name": "stdout",
     "output_type": "stream",
     "text": [
      "2023-10-13 13:03:16,197 INFO image_writer.py:197 - writing: /home/vlermakov/Development/Nodules/Nodule-Detection-LUNA2016/processed_data_full_range_075mm/Gojequa__63ab3b8cce2962090bbf7e6c-6dce6de3decf286f-1/Gojequa__63ab3b8cce2962090bbf7e6c-6dce6de3decf286f-1_image_0.nii.gz\n",
      "2023-10-13 13:03:16,409 INFO image_writer.py:197 - writing: /home/vlermakov/Development/Nodules/Nodule-Detection-LUNA2016/processed_data_full_range_075mm/Gojequa__63ab3b8cce2962090bbf7e6c-6dce6de3decf286f-1/Gojequa__63ab3b8cce2962090bbf7e6c-6dce6de3decf286f-1_mask_0.nii.gz\n",
      "2023-10-13 13:03:21,015 INFO image_writer.py:197 - writing: /home/vlermakov/Development/Nodules/Nodule-Detection-LUNA2016/processed_data_full_range_075mm/Gojequa__63ab3b8cce2962090bbf7e6c-6dce6de3decf286f-5/Gojequa__63ab3b8cce2962090bbf7e6c-6dce6de3decf286f-5_image_0.nii.gz\n",
      "2023-10-13 13:03:21,229 INFO image_writer.py:197 - writing: /home/vlermakov/Development/Nodules/Nodule-Detection-LUNA2016/processed_data_full_range_075mm/Gojequa__63ab3b8cce2962090bbf7e6c-6dce6de3decf286f-5/Gojequa__63ab3b8cce2962090bbf7e6c-6dce6de3decf286f-5_mask_0.nii.gz\n",
      "2023-10-13 13:03:21,248 INFO image_writer.py:197 - writing: /home/vlermakov/Development/Nodules/Nodule-Detection-LUNA2016/processed_data_full_range_075mm/Gojequa__63ab3b8cce2962090bbf7e6c-6dce6de3decf286f-6/Gojequa__63ab3b8cce2962090bbf7e6c-6dce6de3decf286f-6_image_0.nii.gz\n",
      "2023-10-13 13:03:21,408 INFO image_writer.py:197 - writing: /home/vlermakov/Development/Nodules/Nodule-Detection-LUNA2016/processed_data_full_range_075mm/Gojequa__63ab3b8cce2962090bbf7e6c-6dce6de3decf286f-6/Gojequa__63ab3b8cce2962090bbf7e6c-6dce6de3decf286f-6_mask_0.nii.gz\n",
      "2023-10-13 13:03:44,921 INFO image_writer.py:197 - writing: /home/vlermakov/Development/Nodules/Nodule-Detection-LUNA2016/processed_data_full_range_075mm/Gojequa__63ab3b8cce2962090bbf7e6c-6dce6de3decf286f-3/Gojequa__63ab3b8cce2962090bbf7e6c-6dce6de3decf286f-3_image_0.nii.gz\n",
      "2023-10-13 13:03:45,390 INFO image_writer.py:197 - writing: /home/vlermakov/Development/Nodules/Nodule-Detection-LUNA2016/processed_data_full_range_075mm/Gojequa__63ab3b8cce2962090bbf7e6c-6dce6de3decf286f-3/Gojequa__63ab3b8cce2962090bbf7e6c-6dce6de3decf286f-3_mask_0.nii.gz\n",
      "2023-10-13 13:04:01,879 INFO image_writer.py:197 - writing: /home/vlermakov/Development/Nodules/Nodule-Detection-LUNA2016/processed_data_full_range_075mm/Hehuji__6392026756acb209ebd5bff0-6fb12e3cd42670f2-55/Hehuji__6392026756acb209ebd5bff0-6fb12e3cd42670f2-55_image_0.nii.gz\n",
      "2023-10-13 13:04:01,898 INFO image_writer.py:197 - writing: /home/vlermakov/Development/Nodules/Nodule-Detection-LUNA2016/processed_data_full_range_075mm/Hehuji__6392026756acb209ebd5bff0-6fb12e3cd42670f2-28/Hehuji__6392026756acb209ebd5bff0-6fb12e3cd42670f2-28_image_0.nii.gz\n",
      "2023-10-13 13:04:02,048 INFO image_writer.py:197 - writing: /home/vlermakov/Development/Nodules/Nodule-Detection-LUNA2016/processed_data_full_range_075mm/Hehuji__6392026756acb209ebd5bff0-6fb12e3cd42670f2-55/Hehuji__6392026756acb209ebd5bff0-6fb12e3cd42670f2-55_mask_0.nii.gz\n",
      "2023-10-13 13:04:02,117 INFO image_writer.py:197 - writing: /home/vlermakov/Development/Nodules/Nodule-Detection-LUNA2016/processed_data_full_range_075mm/Hehuji__6392026756acb209ebd5bff0-6fb12e3cd42670f2-28/Hehuji__6392026756acb209ebd5bff0-6fb12e3cd42670f2-28_mask_0.nii.gz\n",
      "2023-10-13 13:04:02,174 INFO image_writer.py:197 - writing: /home/vlermakov/Development/Nodules/Nodule-Detection-LUNA2016/processed_data_full_range_075mm/Hehuji__6392026756acb209ebd5bff0-6fb12e3cd42670f2-30/Hehuji__6392026756acb209ebd5bff0-6fb12e3cd42670f2-30_image_0.nii.gz\n",
      "2023-10-13 13:04:11,575 INFO image_writer.py:197 - writing: /home/vlermakov/Development/Nodules/Nodule-Detection-LUNA2016/processed_data_full_range_075mm/Hehuji__6392026756acb209ebd5bff0-6fb12e3cd42670f2-30/Hehuji__6392026756acb209ebd5bff0-6fb12e3cd42670f2-30_mask_0.nii.gz\n"
     ]
    },
    {
     "name": "stderr",
     "output_type": "stream",
     "text": [
      "Loading dataset:  14%|███████████████████████████████▋                                                                                                                                                                                               | 86/606 [13:57<2:17:12, 15.83s/it]"
     ]
    },
    {
     "name": "stdout",
     "output_type": "stream",
     "text": [
      "2023-10-13 13:04:18,795 INFO image_writer.py:197 - writing: /home/vlermakov/Development/Nodules/Nodule-Detection-LUNA2016/processed_data_full_range_075mm/Lorique__635b71a787a98d0a0cb13f40-9a489ba16be03eb3-1/Lorique__635b71a787a98d0a0cb13f40-9a489ba16be03eb3-1_image_0.nii.gz\n",
      "2023-10-13 13:04:20,692 INFO image_writer.py:197 - writing: /home/vlermakov/Development/Nodules/Nodule-Detection-LUNA2016/processed_data_full_range_075mm/Lorique__635b71a787a98d0a0cb13f40-9a489ba16be03eb3-1/Lorique__635b71a787a98d0a0cb13f40-9a489ba16be03eb3-1_mask_0.nii.gz\n"
     ]
    },
    {
     "name": "stderr",
     "output_type": "stream",
     "text": [
      "\r",
      "Loading dataset:  15%|██████████████████████████████████▏                                                                                                                                                                                              | 92/606 [14:07<55:54,  6.53s/it]"
     ]
    },
    {
     "name": "stdout",
     "output_type": "stream",
     "text": [
      "2023-10-13 13:04:28,892 INFO image_writer.py:197 - writing: /home/vlermakov/Development/Nodules/Nodule-Detection-LUNA2016/processed_data_full_range_075mm/Lorique__635b71a787a98d0a0cb13f40-9a489ba16be03eb3-5/Lorique__635b71a787a98d0a0cb13f40-9a489ba16be03eb3-5_image_0.nii.gz\n",
      "2023-10-13 13:04:29,316 INFO image_writer.py:197 - writing: /home/vlermakov/Development/Nodules/Nodule-Detection-LUNA2016/processed_data_full_range_075mm/Lorique__635b71a787a98d0a0cb13f40-9a489ba16be03eb3-5/Lorique__635b71a787a98d0a0cb13f40-9a489ba16be03eb3-5_mask_0.nii.gz\n",
      "2023-10-13 13:04:36,219 INFO image_writer.py:197 - writing: /home/vlermakov/Development/Nodules/Nodule-Detection-LUNA2016/processed_data_full_range_075mm/Lorique__635b71a787a98d0a0cb13f40-9a489ba16be03eb3-3/Lorique__635b71a787a98d0a0cb13f40-9a489ba16be03eb3-3_image_0.nii.gz\n",
      "2023-10-13 13:04:36,368 INFO image_writer.py:197 - writing: /home/vlermakov/Development/Nodules/Nodule-Detection-LUNA2016/processed_data_full_range_075mm/Lorique__635b71a787a98d0a0cb13f40-9a489ba16be03eb3-2/Lorique__635b71a787a98d0a0cb13f40-9a489ba16be03eb3-2_image_0.nii.gz\n",
      "2023-10-13 13:04:36,403 INFO image_writer.py:197 - writing: /home/vlermakov/Development/Nodules/Nodule-Detection-LUNA2016/processed_data_full_range_075mm/Lorique__635b71a787a98d0a0cb13f40-9a489ba16be03eb3-3/Lorique__635b71a787a98d0a0cb13f40-9a489ba16be03eb3-3_mask_0.nii.gz\n",
      "2023-10-13 13:04:36,534 INFO image_writer.py:197 - writing: /home/vlermakov/Development/Nodules/Nodule-Detection-LUNA2016/processed_data_full_range_075mm/Lorique__635b71a787a98d0a0cb13f40-9a489ba16be03eb3-2/Lorique__635b71a787a98d0a0cb13f40-9a489ba16be03eb3-2_mask_0.nii.gz\n"
     ]
    },
    {
     "name": "stderr",
     "output_type": "stream",
     "text": [
      "Loading dataset:  16%|██████████████████████████████████▌                                                                                                                                                                                            | 94/606 [14:28<1:03:10,  7.40s/it]"
     ]
    },
    {
     "name": "stdout",
     "output_type": "stream",
     "text": [
      "2023-10-13 13:05:15,678 INFO image_writer.py:197 - writing: /home/vlermakov/Development/Nodules/Nodule-Detection-LUNA2016/processed_data_full_range_075mm/Jesbernan__6398b75cf8bb2309b6ba2fdd-e08370d10c0030e5-19/Jesbernan__6398b75cf8bb2309b6ba2fdd-e08370d10c0030e5-19_image_0.nii.gz\n",
      "2023-10-13 13:05:15,841 INFO image_writer.py:197 - writing: /home/vlermakov/Development/Nodules/Nodule-Detection-LUNA2016/processed_data_full_range_075mm/Jugaso__63b72f191c45af091cd59b07-8b6d9d13ee798805-2/Jugaso__63b72f191c45af091cd59b07-8b6d9d13ee798805-2_image_0.nii.gz\n",
      "2023-10-13 13:05:16,199 INFO image_writer.py:197 - writing: /home/vlermakov/Development/Nodules/Nodule-Detection-LUNA2016/processed_data_full_range_075mm/Jesbernan__6398b75cf8bb2309b6ba2fdd-e08370d10c0030e5-19/Jesbernan__6398b75cf8bb2309b6ba2fdd-e08370d10c0030e5-19_mask_0.nii.gz\n",
      "2023-10-13 13:05:16,660 INFO image_writer.py:197 - writing: /home/vlermakov/Development/Nodules/Nodule-Detection-LUNA2016/processed_data_full_range_075mm/Jugaso__63b72f191c45af091cd59b07-8b6d9d13ee798805-2/Jugaso__63b72f191c45af091cd59b07-8b6d9d13ee798805-2_mask_0.nii.gz\n",
      "2023-10-13 13:05:28,195 INFO image_writer.py:197 - writing: /home/vlermakov/Development/Nodules/Nodule-Detection-LUNA2016/processed_data_full_range_075mm/Lorique__635b71a787a98d0a0cb13f40-9a489ba16be03eb3-4/Lorique__635b71a787a98d0a0cb13f40-9a489ba16be03eb3-4_image_0.nii.gz\n",
      "2023-10-13 13:05:28,260 INFO image_writer.py:197 - writing: /home/vlermakov/Development/Nodules/Nodule-Detection-LUNA2016/processed_data_full_range_075mm/Jesbernan__6398b75cf8bb2309b6ba2fdd-e08370d10c0030e5-32/Jesbernan__6398b75cf8bb2309b6ba2fdd-e08370d10c0030e5-32_image_0.nii.gz\n",
      "2023-10-13 13:05:28,362 INFO image_writer.py:197 - writing: /home/vlermakov/Development/Nodules/Nodule-Detection-LUNA2016/processed_data_full_range_075mm/Jesbernan__6398b75cf8bb2309b6ba2fdd-e08370d10c0030e5-2/Jesbernan__6398b75cf8bb2309b6ba2fdd-e08370d10c0030e5-2_image_0.nii.gz\n",
      "2023-10-13 13:05:29,036 INFO image_writer.py:197 - writing: /home/vlermakov/Development/Nodules/Nodule-Detection-LUNA2016/processed_data_full_range_075mm/Lorique__635b71a787a98d0a0cb13f40-9a489ba16be03eb3-4/Lorique__635b71a787a98d0a0cb13f40-9a489ba16be03eb3-4_mask_0.nii.gz\n",
      "2023-10-13 13:05:29,232 INFO image_writer.py:197 - writing: /home/vlermakov/Development/Nodules/Nodule-Detection-LUNA2016/processed_data_full_range_075mm/Jesbernan__6398b75cf8bb2309b6ba2fdd-e08370d10c0030e5-32/Jesbernan__6398b75cf8bb2309b6ba2fdd-e08370d10c0030e5-32_mask_0.nii.gz\n",
      "2023-10-13 13:05:29,655 INFO image_writer.py:197 - writing: /home/vlermakov/Development/Nodules/Nodule-Detection-LUNA2016/processed_data_full_range_075mm/Jesbernan__6398b75cf8bb2309b6ba2fdd-e08370d10c0030e5-2/Jesbernan__6398b75cf8bb2309b6ba2fdd-e08370d10c0030e5-2_mask_0.nii.gz\n"
     ]
    },
    {
     "name": "stderr",
     "output_type": "stream",
     "text": [
      "\r",
      "Loading dataset:  16%|███████████████████████████████████▎                                                                                                                                                                                           | 96/606 [15:11<1:40:45, 11.85s/it]"
     ]
    },
    {
     "name": "stdout",
     "output_type": "stream",
     "text": [
      "2023-10-13 13:05:46,732 INFO image_writer.py:197 - writing: /home/vlermakov/Development/Nodules/Nodule-Detection-LUNA2016/processed_data_full_range_075mm/Kajalol__6361874fa8b6a00997fefe86-6ab193bc23e7f852-1/Kajalol__6361874fa8b6a00997fefe86-6ab193bc23e7f852-1_image_0.nii.gz\n",
      "2023-10-13 13:05:46,775 INFO image_writer.py:197 - writing: /home/vlermakov/Development/Nodules/Nodule-Detection-LUNA2016/processed_data_full_range_075mm/Lihamu__63aba3d3973f3c0907870ef2-ae24dc30402edae8-1/Lihamu__63aba3d3973f3c0907870ef2-ae24dc30402edae8-1_image_0.nii.gz\n",
      "2023-10-13 13:05:46,844 INFO image_writer.py:197 - writing: /home/vlermakov/Development/Nodules/Nodule-Detection-LUNA2016/processed_data_full_range_075mm/Lihamu__63aba3d3973f3c0907870ef2-ae24dc30402edae8-2/Lihamu__63aba3d3973f3c0907870ef2-ae24dc30402edae8-2_image_0.nii.gz\n",
      "2023-10-13 13:05:46,923 INFO image_writer.py:197 - writing: /home/vlermakov/Development/Nodules/Nodule-Detection-LUNA2016/processed_data_full_range_075mm/Kajalol__6361874fa8b6a00997fefe86-6ab193bc23e7f852-1/Kajalol__6361874fa8b6a00997fefe86-6ab193bc23e7f852-1_mask_0.nii.gz\n",
      "2023-10-13 13:05:46,988 INFO image_writer.py:197 - writing: /home/vlermakov/Development/Nodules/Nodule-Detection-LUNA2016/processed_data_full_range_075mm/Lihamu__63aba3d3973f3c0907870ef2-ae24dc30402edae8-1/Lihamu__63aba3d3973f3c0907870ef2-ae24dc30402edae8-1_mask_0.nii.gz\n",
      "2023-10-13 13:05:47,052 INFO image_writer.py:197 - writing: /home/vlermakov/Development/Nodules/Nodule-Detection-LUNA2016/processed_data_full_range_075mm/Lihamu__63aba3d3973f3c0907870ef2-ae24dc30402edae8-2/Lihamu__63aba3d3973f3c0907870ef2-ae24dc30402edae8-2_mask_0.nii.gz\n"
     ]
    },
    {
     "name": "stderr",
     "output_type": "stream",
     "text": [
      "Loading dataset:  16%|████████████████████████████████████                                                                                                                                                                                           | 98/606 [15:41<1:43:27, 12.22s/it]"
     ]
    },
    {
     "name": "stdout",
     "output_type": "stream",
     "text": [
      "2023-10-13 13:06:22,681 INFO image_writer.py:197 - writing: /home/vlermakov/Development/Nodules/Nodule-Detection-LUNA2016/processed_data_full_range_075mm/Hukliley__636d23df4d8eaa09f2bbd622-20ebb456d139291a-1/Hukliley__636d23df4d8eaa09f2bbd622-20ebb456d139291a-1_image_0.nii.gz\n",
      "2023-10-13 13:06:22,934 INFO image_writer.py:197 - writing: /home/vlermakov/Development/Nodules/Nodule-Detection-LUNA2016/processed_data_full_range_075mm/Hukliley__636d23df4d8eaa09f2bbd622-20ebb456d139291a-1/Hukliley__636d23df4d8eaa09f2bbd622-20ebb456d139291a-1_mask_0.nii.gz\n",
      "2023-10-13 13:06:30,680 INFO image_writer.py:197 - writing: /home/vlermakov/Development/Nodules/Nodule-Detection-LUNA2016/processed_data_full_range_075mm/Hesora__636ce03a6dc45409b0d40b01-9f3e7b64b9696b29-11/Hesora__636ce03a6dc45409b0d40b01-9f3e7b64b9696b29-11_image_0.nii.gz\n",
      "2023-10-13 13:06:30,722 INFO image_writer.py:197 - writing: /home/vlermakov/Development/Nodules/Nodule-Detection-LUNA2016/processed_data_full_range_075mm/Hesora__636ce03a6dc45409b0d40b01-9f3e7b64b9696b29-3/Hesora__636ce03a6dc45409b0d40b01-9f3e7b64b9696b29-3_image_0.nii.gz\n",
      "2023-10-13 13:06:30,823 INFO image_writer.py:197 - writing: /home/vlermakov/Development/Nodules/Nodule-Detection-LUNA2016/processed_data_full_range_075mm/Kajalol__6361874fa8b6a00997fefe86-6ab193bc23e7f852-4/Kajalol__6361874fa8b6a00997fefe86-6ab193bc23e7f852-4_image_0.nii.gz\n",
      "2023-10-13 13:06:30,842 INFO image_writer.py:197 - writing: /home/vlermakov/Development/Nodules/Nodule-Detection-LUNA2016/processed_data_full_range_075mm/Hesora__636ce03a6dc45409b0d40b01-9f3e7b64b9696b29-11/Hesora__636ce03a6dc45409b0d40b01-9f3e7b64b9696b29-11_mask_0.nii.gz\n",
      "2023-10-13 13:06:30,871 INFO image_writer.py:197 - writing: /home/vlermakov/Development/Nodules/Nodule-Detection-LUNA2016/processed_data_full_range_075mm/Hesora__636ce03a6dc45409b0d40b01-9f3e7b64b9696b29-2/Hesora__636ce03a6dc45409b0d40b01-9f3e7b64b9696b29-2_image_0.nii.gz\n",
      "2023-10-13 13:06:30,903 INFO image_writer.py:197 - writing: /home/vlermakov/Development/Nodules/Nodule-Detection-LUNA2016/processed_data_full_range_075mm/Hesora__636ce03a6dc45409b0d40b01-9f3e7b64b9696b29-3/Hesora__636ce03a6dc45409b0d40b01-9f3e7b64b9696b29-3_mask_0.nii.gz\n",
      "2023-10-13 13:06:37,121 INFO image_writer.py:197 - writing: /home/vlermakov/Development/Nodules/Nodule-Detection-LUNA2016/processed_data_full_range_075mm/Kajalol__6361874fa8b6a00997fefe86-6ab193bc23e7f852-4/Kajalol__6361874fa8b6a00997fefe86-6ab193bc23e7f852-4_mask_0.nii.gz\n",
      "2023-10-13 13:06:37,155 INFO image_writer.py:197 - writing: /home/vlermakov/Development/Nodules/Nodule-Detection-LUNA2016/processed_data_full_range_075mm/Hesora__636ce03a6dc45409b0d40b01-9f3e7b64b9696b29-2/Hesora__636ce03a6dc45409b0d40b01-9f3e7b64b9696b29-2_mask_0.nii.gz\n"
     ]
    },
    {
     "name": "stderr",
     "output_type": "stream",
     "text": [
      "\r",
      "Loading dataset:  17%|██████████████████████████████████████                                                                                                                                                                                        | 104/606 [16:21<1:12:58,  8.72s/it]"
     ]
    },
    {
     "name": "stdout",
     "output_type": "stream",
     "text": [
      "2023-10-13 13:06:50,164 INFO image_writer.py:197 - writing: /home/vlermakov/Development/Nodules/Nodule-Detection-LUNA2016/processed_data_full_range_075mm/Kajalol__6361874fa8b6a00997fefe86-6ab193bc23e7f852-2/Kajalol__6361874fa8b6a00997fefe86-6ab193bc23e7f852-2_image_0.nii.gz\n",
      "2023-10-13 13:06:50,322 INFO image_writer.py:197 - writing: /home/vlermakov/Development/Nodules/Nodule-Detection-LUNA2016/processed_data_full_range_075mm/Kajalol__6361874fa8b6a00997fefe86-6ab193bc23e7f852-2/Kajalol__6361874fa8b6a00997fefe86-6ab193bc23e7f852-2_mask_0.nii.gz\n"
     ]
    },
    {
     "name": "stderr",
     "output_type": "stream",
     "text": [
      "Loading dataset:  18%|███████████████████████████████████████▌                                                                                                                                                                                        | 107/606 [16:35<54:22,  6.54s/it]"
     ]
    },
    {
     "name": "stdout",
     "output_type": "stream",
     "text": [
      "2023-10-13 13:07:11,950 INFO image_writer.py:197 - writing: /home/vlermakov/Development/Nodules/Nodule-Detection-LUNA2016/processed_data_full_range_075mm/Masede__63a4a470d58e2309eb5255be-6f138f8dc9262964-3/Masede__63a4a470d58e2309eb5255be-6f138f8dc9262964-3_image_0.nii.gz\n",
      "2023-10-13 13:07:12,149 INFO image_writer.py:197 - writing: /home/vlermakov/Development/Nodules/Nodule-Detection-LUNA2016/processed_data_full_range_075mm/Masede__63a4a470d58e2309eb5255be-6f138f8dc9262964-3/Masede__63a4a470d58e2309eb5255be-6f138f8dc9262964-3_mask_0.nii.gz\n"
     ]
    },
    {
     "name": "stderr",
     "output_type": "stream",
     "text": [
      "\r",
      "Loading dataset:  18%|████████████████████████████████████████▋                                                                                                                                                                                       | 110/606 [16:52<51:56,  6.28s/it]"
     ]
    },
    {
     "name": "stdout",
     "output_type": "stream",
     "text": [
      "2023-10-13 13:07:18,802 INFO image_writer.py:197 - writing: /home/vlermakov/Development/Nodules/Nodule-Detection-LUNA2016/processed_data_full_range_075mm/Masede__63a4a470d58e2309eb5255be-6f138f8dc9262964-19/Masede__63a4a470d58e2309eb5255be-6f138f8dc9262964-19_image_0.nii.gz\n",
      "2023-10-13 13:07:20,539 INFO image_writer.py:197 - writing: /home/vlermakov/Development/Nodules/Nodule-Detection-LUNA2016/processed_data_full_range_075mm/Masede__63a4a470d58e2309eb5255be-6f138f8dc9262964-19/Masede__63a4a470d58e2309eb5255be-6f138f8dc9262964-19_mask_0.nii.gz\n"
     ]
    },
    {
     "name": "stderr",
     "output_type": "stream",
     "text": [
      "\r",
      "Loading dataset:  18%|█████████████████████████████████████████                                                                                                                                                                                       | 111/606 [17:02<56:32,  6.85s/it]"
     ]
    },
    {
     "name": "stdout",
     "output_type": "stream",
     "text": [
      "2023-10-13 13:07:31,285 INFO image_writer.py:197 - writing: /home/vlermakov/Development/Nodules/Nodule-Detection-LUNA2016/processed_data_full_range_075mm/Masede__63a4a470d58e2309eb5255be-6f138f8dc9262964-6/Masede__63a4a470d58e2309eb5255be-6f138f8dc9262964-6_image_0.nii.gz\n",
      "2023-10-13 13:07:31,880 INFO image_writer.py:197 - writing: /home/vlermakov/Development/Nodules/Nodule-Detection-LUNA2016/processed_data_full_range_075mm/Kesuci__636da0766237ce09a1193e6d-89b9604376531827-9/Kesuci__636da0766237ce09a1193e6d-89b9604376531827-9_image_0.nii.gz\n",
      "2023-10-13 13:07:31,891 INFO image_writer.py:197 - writing: /home/vlermakov/Development/Nodules/Nodule-Detection-LUNA2016/processed_data_full_range_075mm/Masede__63a4a470d58e2309eb5255be-6f138f8dc9262964-6/Masede__63a4a470d58e2309eb5255be-6f138f8dc9262964-6_mask_0.nii.gz\n",
      "2023-10-13 13:07:31,912 INFO image_writer.py:197 - writing: /home/vlermakov/Development/Nodules/Nodule-Detection-LUNA2016/processed_data_full_range_075mm/Kesuci__636da0766237ce09a1193e6d-89b9604376531827-13/Kesuci__636da0766237ce09a1193e6d-89b9604376531827-13_image_0.nii.gz\n",
      "2023-10-13 13:07:31,934 INFO image_writer.py:197 - writing: /home/vlermakov/Development/Nodules/Nodule-Detection-LUNA2016/processed_data_full_range_075mm/Kesuci__636da0766237ce09a1193e6d-89b9604376531827-7/Kesuci__636da0766237ce09a1193e6d-89b9604376531827-7_image_0.nii.gz\n",
      "2023-10-13 13:07:31,965 INFO image_writer.py:197 - writing: /home/vlermakov/Development/Nodules/Nodule-Detection-LUNA2016/processed_data_full_range_075mm/Kesuci__636da0766237ce09a1193e6d-89b9604376531827-24/Kesuci__636da0766237ce09a1193e6d-89b9604376531827-24_image_0.nii.gz\n",
      "2023-10-13 13:07:32,000 INFO image_writer.py:197 - writing: /home/vlermakov/Development/Nodules/Nodule-Detection-LUNA2016/processed_data_full_range_075mm/Kesuci__636da0766237ce09a1193e6d-89b9604376531827-9/Kesuci__636da0766237ce09a1193e6d-89b9604376531827-9_mask_0.nii.gz\n"
     ]
    },
    {
     "name": "stderr",
     "output_type": "stream",
     "text": [
      "\r",
      "Loading dataset:  18%|█████████████████████████████████████████                                                                                                                                                                                     | 112/606 [17:12<1:01:46,  7.50s/it]"
     ]
    },
    {
     "name": "stdout",
     "output_type": "stream",
     "text": [
      "2023-10-13 13:07:35,510 INFO image_writer.py:197 - writing: /home/vlermakov/Development/Nodules/Nodule-Detection-LUNA2016/processed_data_full_range_075mm/Kesuci__636da0766237ce09a1193e6d-89b9604376531827-13/Kesuci__636da0766237ce09a1193e6d-89b9604376531827-13_mask_0.nii.gz\n"
     ]
    },
    {
     "name": "stderr",
     "output_type": "stream",
     "text": [
      "Loading dataset:  19%|██████████████████████████████████████████▏                                                                                                                                                                                     | 114/606 [17:24<55:19,  6.75s/it]"
     ]
    },
    {
     "name": "stdout",
     "output_type": "stream",
     "text": [
      "2023-10-13 13:07:44,440 INFO image_writer.py:197 - writing: /home/vlermakov/Development/Nodules/Nodule-Detection-LUNA2016/processed_data_full_range_075mm/Kesuci__636da0766237ce09a1193e6d-89b9604376531827-7/Kesuci__636da0766237ce09a1193e6d-89b9604376531827-7_mask_0.nii.gz\n",
      "2023-10-13 13:07:44,602 INFO image_writer.py:197 - writing: /home/vlermakov/Development/Nodules/Nodule-Detection-LUNA2016/processed_data_full_range_075mm/Kesuci__636da0766237ce09a1193e6d-89b9604376531827-24/Kesuci__636da0766237ce09a1193e6d-89b9604376531827-24_mask_0.nii.gz\n"
     ]
    },
    {
     "name": "stderr",
     "output_type": "stream",
     "text": [
      "Loading dataset:  19%|██████████████████████████████████████████▉                                                                                                                                                                                     | 116/606 [17:33<49:08,  6.02s/it]"
     ]
    },
    {
     "name": "stdout",
     "output_type": "stream",
     "text": [
      "2023-10-13 13:08:14,891 INFO image_writer.py:197 - writing: /home/vlermakov/Development/Nodules/Nodule-Detection-LUNA2016/processed_data_full_range_075mm/Tidona__63b5f19da68aaf092ce477e6-755091a8ee94936e-2/Tidona__63b5f19da68aaf092ce477e6-755091a8ee94936e-2_image_0.nii.gz\n",
      "2023-10-13 13:08:15,030 INFO image_writer.py:197 - writing: /home/vlermakov/Development/Nodules/Nodule-Detection-LUNA2016/processed_data_full_range_075mm/Tidona__63b5f19da68aaf092ce477e6-755091a8ee94936e-2/Tidona__63b5f19da68aaf092ce477e6-755091a8ee94936e-2_mask_0.nii.gz\n",
      "2023-10-13 13:08:19,749 INFO image_writer.py:197 - writing: /home/vlermakov/Development/Nodules/Nodule-Detection-LUNA2016/processed_data_full_range_075mm/Tidona__63b5f19da68aaf092ce477e6-755091a8ee94936e-1/Tidona__63b5f19da68aaf092ce477e6-755091a8ee94936e-1_image_0.nii.gz\n",
      "2023-10-13 13:08:19,834 INFO image_writer.py:197 - writing: /home/vlermakov/Development/Nodules/Nodule-Detection-LUNA2016/processed_data_full_range_075mm/Tidona__63b5f19da68aaf092ce477e6-755091a8ee94936e-6/Tidona__63b5f19da68aaf092ce477e6-755091a8ee94936e-6_image_0.nii.gz\n",
      "2023-10-13 13:08:20,104 INFO image_writer.py:197 - writing: /home/vlermakov/Development/Nodules/Nodule-Detection-LUNA2016/processed_data_full_range_075mm/Tidona__63b5f19da68aaf092ce477e6-755091a8ee94936e-1/Tidona__63b5f19da68aaf092ce477e6-755091a8ee94936e-1_mask_0.nii.gz\n",
      "2023-10-13 13:08:24,254 INFO image_writer.py:197 - writing: /home/vlermakov/Development/Nodules/Nodule-Detection-LUNA2016/processed_data_full_range_075mm/Tidona__63b5f19da68aaf092ce477e6-755091a8ee94936e-6/Tidona__63b5f19da68aaf092ce477e6-755091a8ee94936e-6_mask_0.nii.gz\n",
      "2023-10-13 13:08:24,289 INFO image_writer.py:197 - writing: /home/vlermakov/Development/Nodules/Nodule-Detection-LUNA2016/processed_data_full_range_075mm/Kesuci__636da0766237ce09a1193e6d-89b9604376531827-2/Kesuci__636da0766237ce09a1193e6d-89b9604376531827-2_image_0.nii.gz\n",
      "2023-10-13 13:08:29,636 INFO image_writer.py:197 - writing: /home/vlermakov/Development/Nodules/Nodule-Detection-LUNA2016/processed_data_full_range_075mm/Kesuci__636da0766237ce09a1193e6d-89b9604376531827-2/Kesuci__636da0766237ce09a1193e6d-89b9604376531827-2_mask_0.nii.gz\n"
     ]
    },
    {
     "name": "stderr",
     "output_type": "stream",
     "text": [
      "\r",
      "Loading dataset:  19%|██████████████████████████████████████████▊                                                                                                                                                                                   | 117/606 [18:10<1:57:21, 14.40s/it]"
     ]
    },
    {
     "name": "stdout",
     "output_type": "stream",
     "text": [
      "2023-10-13 13:08:35,091 INFO image_writer.py:197 - writing: /home/vlermakov/Development/Nodules/Nodule-Detection-LUNA2016/processed_data_full_range_075mm/Kesuci__636da0766237ce09a1193e6d-89b9604376531827-1/Kesuci__636da0766237ce09a1193e6d-89b9604376531827-1_image_0.nii.gz\n",
      "2023-10-13 13:08:36,149 INFO image_writer.py:197 - writing: /home/vlermakov/Development/Nodules/Nodule-Detection-LUNA2016/processed_data_full_range_075mm/Kesuci__636da0766237ce09a1193e6d-89b9604376531827-1/Kesuci__636da0766237ce09a1193e6d-89b9604376531827-1_mask_0.nii.gz\n"
     ]
    },
    {
     "name": "stderr",
     "output_type": "stream",
     "text": [
      "Loading dataset:  20%|███████████████████████████████████████████▌                                                                                                                                                                                  | 119/606 [18:21<1:20:21,  9.90s/it]"
     ]
    },
    {
     "name": "stdout",
     "output_type": "stream",
     "text": [
      "2023-10-13 13:08:42,058 INFO image_writer.py:197 - writing: /home/vlermakov/Development/Nodules/Nodule-Detection-LUNA2016/processed_data_full_range_075mm/Diplooreg__6398ba8a5b4c5209c019280c-d72ac9d8d8154150-87/Diplooreg__6398ba8a5b4c5209c019280c-d72ac9d8d8154150-87_image_0.nii.gz\n",
      "2023-10-13 13:08:42,293 INFO image_writer.py:197 - writing: /home/vlermakov/Development/Nodules/Nodule-Detection-LUNA2016/processed_data_full_range_075mm/Diplooreg__6398ba8a5b4c5209c019280c-d72ac9d8d8154150-87/Diplooreg__6398ba8a5b4c5209c019280c-d72ac9d8d8154150-87_mask_0.nii.gz\n"
     ]
    },
    {
     "name": "stderr",
     "output_type": "stream",
     "text": [
      "\r",
      "Loading dataset:  20%|█████████████████████████████████████████████                                                                                                                                                                                   | 122/606 [18:22<38:09,  4.73s/it]"
     ]
    },
    {
     "name": "stdout",
     "output_type": "stream",
     "text": [
      "2023-10-13 13:08:59,378 INFO image_writer.py:197 - writing: /home/vlermakov/Development/Nodules/Nodule-Detection-LUNA2016/processed_data_full_range_075mm/Riqueno__63594fab818afa09d12ea932-78b9b57a5179bccc-1/Riqueno__63594fab818afa09d12ea932-78b9b57a5179bccc-1_image_0.nii.gz\n",
      "2023-10-13 13:08:59,557 INFO image_writer.py:197 - writing: /home/vlermakov/Development/Nodules/Nodule-Detection-LUNA2016/processed_data_full_range_075mm/Riqueno__63594fab818afa09d12ea932-78b9b57a5179bccc-1/Riqueno__63594fab818afa09d12ea932-78b9b57a5179bccc-1_mask_0.nii.gz\n",
      "2023-10-13 13:09:07,932 INFO image_writer.py:197 - writing: /home/vlermakov/Development/Nodules/Nodule-Detection-LUNA2016/processed_data_full_range_075mm/Riqueno__63594fab818afa09d12ea932-78b9b57a5179bccc-4/Riqueno__63594fab818afa09d12ea932-78b9b57a5179bccc-4_image_0.nii.gz\n",
      "2023-10-13 13:09:09,436 INFO image_writer.py:197 - writing: /home/vlermakov/Development/Nodules/Nodule-Detection-LUNA2016/processed_data_full_range_075mm/Riqueno__63594fab818afa09d12ea932-78b9b57a5179bccc-4/Riqueno__63594fab818afa09d12ea932-78b9b57a5179bccc-4_mask_0.nii.gz\n",
      "2023-10-13 13:09:29,944 INFO image_writer.py:197 - writing: /home/vlermakov/Development/Nodules/Nodule-Detection-LUNA2016/processed_data_full_range_075mm/Diplooreg__6398ba8a5b4c5209c019280c-d72ac9d8d8154150-18/Diplooreg__6398ba8a5b4c5209c019280c-d72ac9d8d8154150-18_image_0.nii.gz\n",
      "2023-10-13 13:09:29,982 INFO image_writer.py:197 - writing: /home/vlermakov/Development/Nodules/Nodule-Detection-LUNA2016/processed_data_full_range_075mm/Diplooreg__6398ba8a5b4c5209c019280c-d72ac9d8d8154150-33/Diplooreg__6398ba8a5b4c5209c019280c-d72ac9d8d8154150-33_image_0.nii.gz\n",
      "2023-10-13 13:09:30,084 INFO image_writer.py:197 - writing: /home/vlermakov/Development/Nodules/Nodule-Detection-LUNA2016/processed_data_full_range_075mm/Diplooreg__6398ba8a5b4c5209c019280c-d72ac9d8d8154150-18/Diplooreg__6398ba8a5b4c5209c019280c-d72ac9d8d8154150-18_mask_0.nii.gz\n",
      "2023-10-13 13:09:30,116 INFO image_writer.py:197 - writing: /home/vlermakov/Development/Nodules/Nodule-Detection-LUNA2016/processed_data_full_range_075mm/Diplooreg__6398ba8a5b4c5209c019280c-d72ac9d8d8154150-33/Diplooreg__6398ba8a5b4c5209c019280c-d72ac9d8d8154150-33_mask_0.nii.gz\n"
     ]
    },
    {
     "name": "stderr",
     "output_type": "stream",
     "text": [
      "Loading dataset:  20%|█████████████████████████████████████████████▍                                                                                                                                                                                | 124/606 [19:19<1:38:24, 12.25s/it]"
     ]
    },
    {
     "name": "stdout",
     "output_type": "stream",
     "text": [
      "2023-10-13 13:09:51,862 INFO image_writer.py:197 - writing: /home/vlermakov/Development/Nodules/Nodule-Detection-LUNA2016/processed_data_full_range_075mm/Riqueno__63594fab818afa09d12ea932-78b9b57a5179bccc-5/Riqueno__63594fab818afa09d12ea932-78b9b57a5179bccc-5_image_0.nii.gz\n",
      "2023-10-13 13:09:51,885 INFO image_writer.py:197 - writing: /home/vlermakov/Development/Nodules/Nodule-Detection-LUNA2016/processed_data_full_range_075mm/Diplooreg__6398ba8a5b4c5209c019280c-d72ac9d8d8154150-12/Diplooreg__6398ba8a5b4c5209c019280c-d72ac9d8d8154150-12_image_0.nii.gz\n",
      "2023-10-13 13:09:51,912 INFO image_writer.py:197 - writing: /home/vlermakov/Development/Nodules/Nodule-Detection-LUNA2016/processed_data_full_range_075mm/Diplooreg__6398ba8a5b4c5209c019280c-d72ac9d8d8154150-83/Diplooreg__6398ba8a5b4c5209c019280c-d72ac9d8d8154150-83_image_0.nii.gz\n",
      "2023-10-13 13:09:51,959 INFO image_writer.py:197 - writing: /home/vlermakov/Development/Nodules/Nodule-Detection-LUNA2016/processed_data_full_range_075mm/Diplooreg__6398ba8a5b4c5209c019280c-d72ac9d8d8154150-4/Diplooreg__6398ba8a5b4c5209c019280c-d72ac9d8d8154150-4_image_0.nii.gz\n",
      "2023-10-13 13:09:51,985 INFO image_writer.py:197 - writing: /home/vlermakov/Development/Nodules/Nodule-Detection-LUNA2016/processed_data_full_range_075mm/Riqueno__63594fab818afa09d12ea932-78b9b57a5179bccc-5/Riqueno__63594fab818afa09d12ea932-78b9b57a5179bccc-5_mask_0.nii.gz\n",
      "2023-10-13 13:09:52,001 INFO image_writer.py:197 - writing: /home/vlermakov/Development/Nodules/Nodule-Detection-LUNA2016/processed_data_full_range_075mm/Diplooreg__6398ba8a5b4c5209c019280c-d72ac9d8d8154150-12/Diplooreg__6398ba8a5b4c5209c019280c-d72ac9d8d8154150-12_mask_0.nii.gz\n",
      "2023-10-13 13:09:52,070 INFO image_writer.py:197 - writing: /home/vlermakov/Development/Nodules/Nodule-Detection-LUNA2016/processed_data_full_range_075mm/Diplooreg__6398ba8a5b4c5209c019280c-d72ac9d8d8154150-83/Diplooreg__6398ba8a5b4c5209c019280c-d72ac9d8d8154150-83_mask_0.nii.gz\n"
     ]
    },
    {
     "name": "stderr",
     "output_type": "stream",
     "text": [
      "\r",
      "Loading dataset:  21%|█████████████████████████████████████████████▊                                                                                                                                                                                | 125/606 [19:36<1:47:36, 13.42s/it]"
     ]
    },
    {
     "name": "stdout",
     "output_type": "stream",
     "text": [
      "2023-10-13 13:10:06,267 INFO image_writer.py:197 - writing: /home/vlermakov/Development/Nodules/Nodule-Detection-LUNA2016/processed_data_full_range_075mm/Diplooreg__6398ba8a5b4c5209c019280c-d72ac9d8d8154150-4/Diplooreg__6398ba8a5b4c5209c019280c-d72ac9d8d8154150-4_mask_0.nii.gz\n"
     ]
    },
    {
     "name": "stderr",
     "output_type": "stream",
     "text": [
      "Loading dataset:  21%|██████████████████████████████████████████████▌                                                                                                                                                                               | 127/606 [19:51<1:22:45, 10.37s/it]"
     ]
    },
    {
     "name": "stdout",
     "output_type": "stream",
     "text": [
      "2023-10-13 13:10:21,262 INFO image_writer.py:197 - writing: /home/vlermakov/Development/Nodules/Nodule-Detection-LUNA2016/processed_data_full_range_075mm/Nuquesra__635c78291c136209dc64e818-946cdc532c28e6cb-1/Nuquesra__635c78291c136209dc64e818-946cdc532c28e6cb-1_image_0.nii.gz\n",
      "2023-10-13 13:10:21,378 INFO image_writer.py:197 - writing: /home/vlermakov/Development/Nodules/Nodule-Detection-LUNA2016/processed_data_full_range_075mm/Nuquesra__635c78291c136209dc64e818-946cdc532c28e6cb-1/Nuquesra__635c78291c136209dc64e818-946cdc532c28e6cb-1_mask_0.nii.gz\n"
     ]
    },
    {
     "name": "stderr",
     "output_type": "stream",
     "text": [
      "\r",
      "Loading dataset:  22%|████████████████████████████████████████████████▍                                                                                                                                                                               | 131/606 [20:02<45:15,  5.72s/it]"
     ]
    },
    {
     "name": "stdout",
     "output_type": "stream",
     "text": [
      "2023-10-13 13:10:41,144 INFO image_writer.py:197 - writing: /home/vlermakov/Development/Nodules/Nodule-Detection-LUNA2016/processed_data_full_range_075mm/Bomima__63adb5ff260d28093c203105-8ba5c33318bcd4de-3/Bomima__63adb5ff260d28093c203105-8ba5c33318bcd4de-3_image_0.nii.gz\n",
      "2023-10-13 13:10:41,389 INFO image_writer.py:197 - writing: /home/vlermakov/Development/Nodules/Nodule-Detection-LUNA2016/processed_data_full_range_075mm/Bomima__63adb5ff260d28093c203105-8ba5c33318bcd4de-3/Bomima__63adb5ff260d28093c203105-8ba5c33318bcd4de-3_mask_0.nii.gz\n",
      "2023-10-13 13:10:48,386 INFO image_writer.py:197 - writing: /home/vlermakov/Development/Nodules/Nodule-Detection-LUNA2016/processed_data_full_range_075mm/Nuquesra__635c78291c136209dc64e818-946cdc532c28e6cb-2/Nuquesra__635c78291c136209dc64e818-946cdc532c28e6cb-2_image_0.nii.gz\n",
      "2023-10-13 13:10:48,496 INFO image_writer.py:197 - writing: /home/vlermakov/Development/Nodules/Nodule-Detection-LUNA2016/processed_data_full_range_075mm/Nuquesra__635c78291c136209dc64e818-946cdc532c28e6cb-2/Nuquesra__635c78291c136209dc64e818-946cdc532c28e6cb-2_mask_0.nii.gz\n",
      "2023-10-13 13:10:48,540 INFO image_writer.py:197 - writing: /home/vlermakov/Development/Nodules/Nodule-Detection-LUNA2016/processed_data_full_range_075mm/Nuquesra__635c78291c136209dc64e818-946cdc532c28e6cb-3/Nuquesra__635c78291c136209dc64e818-946cdc532c28e6cb-3_image_0.nii.gz\n",
      "2023-10-13 13:10:48,680 INFO image_writer.py:197 - writing: /home/vlermakov/Development/Nodules/Nodule-Detection-LUNA2016/processed_data_full_range_075mm/Nuquesra__635c78291c136209dc64e818-946cdc532c28e6cb-3/Nuquesra__635c78291c136209dc64e818-946cdc532c28e6cb-3_mask_0.nii.gz\n"
     ]
    },
    {
     "name": "stderr",
     "output_type": "stream",
     "text": [
      "Loading dataset:  22%|████████████████████████████████████████████████▋                                                                                                                                                                             | 133/606 [20:33<1:06:48,  8.47s/it]"
     ]
    },
    {
     "name": "stdout",
     "output_type": "stream",
     "text": [
      "2023-10-13 13:11:10,589 INFO image_writer.py:197 - writing: /home/vlermakov/Development/Nodules/Nodule-Detection-LUNA2016/processed_data_full_range_075mm/Bomima__63adb5ff260d28093c203105-8ba5c33318bcd4de-1/Bomima__63adb5ff260d28093c203105-8ba5c33318bcd4de-1_image_0.nii.gz\n",
      "2023-10-13 13:11:10,638 INFO image_writer.py:197 - writing: /home/vlermakov/Development/Nodules/Nodule-Detection-LUNA2016/processed_data_full_range_075mm/Bomima__63adb5ff260d28093c203105-8ba5c33318bcd4de-2/Bomima__63adb5ff260d28093c203105-8ba5c33318bcd4de-2_image_0.nii.gz\n",
      "2023-10-13 13:11:10,766 INFO image_writer.py:197 - writing: /home/vlermakov/Development/Nodules/Nodule-Detection-LUNA2016/processed_data_full_range_075mm/Bomima__63adb5ff260d28093c203105-8ba5c33318bcd4de-1/Bomima__63adb5ff260d28093c203105-8ba5c33318bcd4de-1_mask_0.nii.gz\n",
      "2023-10-13 13:11:10,969 INFO image_writer.py:197 - writing: /home/vlermakov/Development/Nodules/Nodule-Detection-LUNA2016/processed_data_full_range_075mm/Bomima__63adb5ff260d28093c203105-8ba5c33318bcd4de-2/Bomima__63adb5ff260d28093c203105-8ba5c33318bcd4de-2_mask_0.nii.gz\n",
      "2023-10-13 13:11:21,617 INFO image_writer.py:197 - writing: /home/vlermakov/Development/Nodules/Nodule-Detection-LUNA2016/processed_data_full_range_075mm/Nuquesra__635c78291c136209dc64e818-946cdc532c28e6cb-5/Nuquesra__635c78291c136209dc64e818-946cdc532c28e6cb-5_image_0.nii.gz\n",
      "2023-10-13 13:11:22,267 INFO image_writer.py:197 - writing: /home/vlermakov/Development/Nodules/Nodule-Detection-LUNA2016/processed_data_full_range_075mm/Nuquesra__635c78291c136209dc64e818-946cdc532c28e6cb-4/Nuquesra__635c78291c136209dc64e818-946cdc532c28e6cb-4_image_0.nii.gz\n",
      "2023-10-13 13:11:22,442 INFO image_writer.py:197 - writing: /home/vlermakov/Development/Nodules/Nodule-Detection-LUNA2016/processed_data_full_range_075mm/Nuquesra__635c78291c136209dc64e818-946cdc532c28e6cb-5/Nuquesra__635c78291c136209dc64e818-946cdc532c28e6cb-5_mask_0.nii.gz\n",
      "2023-10-13 13:11:23,128 INFO image_writer.py:197 - writing: /home/vlermakov/Development/Nodules/Nodule-Detection-LUNA2016/processed_data_full_range_075mm/Nuquesra__635c78291c136209dc64e818-946cdc532c28e6cb-4/Nuquesra__635c78291c136209dc64e818-946cdc532c28e6cb-4_mask_0.nii.gz\n"
     ]
    },
    {
     "name": "stderr",
     "output_type": "stream",
     "text": [
      "Loading dataset:  23%|██████████████████████████████████████████████████▋                                                                                                                                                                             | 137/606 [21:14<52:00,  6.65s/it]"
     ]
    },
    {
     "name": "stdout",
     "output_type": "stream",
     "text": [
      "2023-10-13 13:11:34,966 INFO image_writer.py:197 - writing: /home/vlermakov/Development/Nodules/Nodule-Detection-LUNA2016/processed_data_full_range_075mm/Bomima__63adb5ff260d28093c203105-8ba5c33318bcd4de-6/Bomima__63adb5ff260d28093c203105-8ba5c33318bcd4de-6_image_0.nii.gz\n",
      "2023-10-13 13:11:35,015 INFO image_writer.py:197 - writing: /home/vlermakov/Development/Nodules/Nodule-Detection-LUNA2016/processed_data_full_range_075mm/Pumosue__6352b5ed5f5df308fca86f85-b2cb34796bc7190e-3/Pumosue__6352b5ed5f5df308fca86f85-b2cb34796bc7190e-3_image_0.nii.gz\n",
      "2023-10-13 13:11:35,531 INFO image_writer.py:197 - writing: /home/vlermakov/Development/Nodules/Nodule-Detection-LUNA2016/processed_data_full_range_075mm/Bomima__63adb5ff260d28093c203105-8ba5c33318bcd4de-6/Bomima__63adb5ff260d28093c203105-8ba5c33318bcd4de-6_mask_0.nii.gz\n",
      "2023-10-13 13:11:35,785 INFO image_writer.py:197 - writing: /home/vlermakov/Development/Nodules/Nodule-Detection-LUNA2016/processed_data_full_range_075mm/Pumosue__6352b5ed5f5df308fca86f85-b2cb34796bc7190e-3/Pumosue__6352b5ed5f5df308fca86f85-b2cb34796bc7190e-3_mask_0.nii.gz\n"
     ]
    },
    {
     "name": "stderr",
     "output_type": "stream",
     "text": [
      "Loading dataset:  23%|███████████████████████████████████████████████████▋                                                                                                                                                                            | 140/606 [21:21<35:11,  4.53s/it]"
     ]
    },
    {
     "name": "stdout",
     "output_type": "stream",
     "text": [
      "2023-10-13 13:11:51,597 INFO image_writer.py:197 - writing: /home/vlermakov/Development/Nodules/Nodule-Detection-LUNA2016/processed_data_full_range_075mm/Pumosue__6352b5ed5f5df308fca86f85-b2cb34796bc7190e-6/Pumosue__6352b5ed5f5df308fca86f85-b2cb34796bc7190e-6_image_0.nii.gz\n",
      "2023-10-13 13:11:51,743 INFO image_writer.py:197 - writing: /home/vlermakov/Development/Nodules/Nodule-Detection-LUNA2016/processed_data_full_range_075mm/Pumosue__6352b5ed5f5df308fca86f85-b2cb34796bc7190e-6/Pumosue__6352b5ed5f5df308fca86f85-b2cb34796bc7190e-6_mask_0.nii.gz\n"
     ]
    },
    {
     "name": "stderr",
     "output_type": "stream",
     "text": [
      "\r",
      "Loading dataset:  23%|████████████████████████████████████████████████████                                                                                                                                                                            | 141/606 [21:32<47:23,  6.12s/it]"
     ]
    },
    {
     "name": "stdout",
     "output_type": "stream",
     "text": [
      "2023-10-13 13:12:18,724 INFO image_writer.py:197 - writing: /home/vlermakov/Development/Nodules/Nodule-Detection-LUNA2016/processed_data_full_range_075mm/Gireka__635c46f1f32c3409fd451ac3-628f238e04a2f13a-1/Gireka__635c46f1f32c3409fd451ac3-628f238e04a2f13a-1_image_0.nii.gz\n",
      "2023-10-13 13:12:18,889 INFO image_writer.py:197 - writing: /home/vlermakov/Development/Nodules/Nodule-Detection-LUNA2016/processed_data_full_range_075mm/Gireka__635c46f1f32c3409fd451ac3-628f238e04a2f13a-1/Gireka__635c46f1f32c3409fd451ac3-628f238e04a2f13a-1_mask_0.nii.gz\n",
      "2023-10-13 13:12:36,445 INFO image_writer.py:197 - writing: /home/vlermakov/Development/Nodules/Nodule-Detection-LUNA2016/processed_data_full_range_075mm/Gireka__635c46f1f32c3409fd451ac3-628f238e04a2f13a-2/Gireka__635c46f1f32c3409fd451ac3-628f238e04a2f13a-2_image_0.nii.gz\n",
      "2023-10-13 13:12:36,579 INFO image_writer.py:197 - writing: /home/vlermakov/Development/Nodules/Nodule-Detection-LUNA2016/processed_data_full_range_075mm/Gireka__635c46f1f32c3409fd451ac3-628f238e04a2f13a-2/Gireka__635c46f1f32c3409fd451ac3-628f238e04a2f13a-2_mask_0.nii.gz\n",
      "2023-10-13 13:12:45,568 INFO image_writer.py:197 - writing: /home/vlermakov/Development/Nodules/Nodule-Detection-LUNA2016/processed_data_full_range_075mm/Tedaque__634da01b13eba109fca48ec1-5d3f1f79c6d8bf73-5/Tedaque__634da01b13eba109fca48ec1-5d3f1f79c6d8bf73-5_image_0.nii.gz\n",
      "2023-10-13 13:12:45,592 INFO image_writer.py:197 - writing: /home/vlermakov/Development/Nodules/Nodule-Detection-LUNA2016/processed_data_full_range_075mm/Tedaque__634da01b13eba109fca48ec1-5d3f1f79c6d8bf73-32/Tedaque__634da01b13eba109fca48ec1-5d3f1f79c6d8bf73-32_image_0.nii.gz\n",
      "2023-10-13 13:12:45,608 INFO image_writer.py:197 - writing: /home/vlermakov/Development/Nodules/Nodule-Detection-LUNA2016/processed_data_full_range_075mm/Tedaque__634da01b13eba109fca48ec1-5d3f1f79c6d8bf73-2/Tedaque__634da01b13eba109fca48ec1-5d3f1f79c6d8bf73-2_image_0.nii.gz\n",
      "2023-10-13 13:12:45,600 INFO image_writer.py:197 - writing: /home/vlermakov/Development/Nodules/Nodule-Detection-LUNA2016/processed_data_full_range_075mm/Tedaque__634da01b13eba109fca48ec1-5d3f1f79c6d8bf73-4/Tedaque__634da01b13eba109fca48ec1-5d3f1f79c6d8bf73-4_image_0.nii.gz\n",
      "2023-10-13 13:12:45,599 INFO image_writer.py:197 - writing: /home/vlermakov/Development/Nodules/Nodule-Detection-LUNA2016/processed_data_full_range_075mm/Tedaque__634da01b13eba109fca48ec1-5d3f1f79c6d8bf73-18/Tedaque__634da01b13eba109fca48ec1-5d3f1f79c6d8bf73-18_image_0.nii.gz\n",
      "2023-10-13 13:12:45,898 INFO image_writer.py:197 - writing: /home/vlermakov/Development/Nodules/Nodule-Detection-LUNA2016/processed_data_full_range_075mm/Tedaque__634da01b13eba109fca48ec1-5d3f1f79c6d8bf73-18/Tedaque__634da01b13eba109fca48ec1-5d3f1f79c6d8bf73-18_mask_0.nii.gz\n",
      "2023-10-13 13:12:45,912 INFO image_writer.py:197 - writing: /home/vlermakov/Development/Nodules/Nodule-Detection-LUNA2016/processed_data_full_range_075mm/Tedaque__634da01b13eba109fca48ec1-5d3f1f79c6d8bf73-32/Tedaque__634da01b13eba109fca48ec1-5d3f1f79c6d8bf73-32_mask_0.nii.gz\n",
      "2023-10-13 13:12:45,915 INFO image_writer.py:197 - writing: /home/vlermakov/Development/Nodules/Nodule-Detection-LUNA2016/processed_data_full_range_075mm/Tedaque__634da01b13eba109fca48ec1-5d3f1f79c6d8bf73-4/Tedaque__634da01b13eba109fca48ec1-5d3f1f79c6d8bf73-4_mask_0.nii.gz\n",
      "2023-10-13 13:12:45,927 INFO image_writer.py:197 - writing: /home/vlermakov/Development/Nodules/Nodule-Detection-LUNA2016/processed_data_full_range_075mm/Tedaque__634da01b13eba109fca48ec1-5d3f1f79c6d8bf73-2/Tedaque__634da01b13eba109fca48ec1-5d3f1f79c6d8bf73-2_mask_0.nii.gz\n",
      "2023-10-13 13:12:45,933 INFO image_writer.py:197 - writing: /home/vlermakov/Development/Nodules/Nodule-Detection-LUNA2016/processed_data_full_range_075mm/Tedaque__634da01b13eba109fca48ec1-5d3f1f79c6d8bf73-5/Tedaque__634da01b13eba109fca48ec1-5d3f1f79c6d8bf73-5_mask_0.nii.gz\n"
     ]
    },
    {
     "name": "stderr",
     "output_type": "stream",
     "text": [
      "Loading dataset:  24%|████████████████████████████████████████████████████▍                                                                                                                                                                         | 143/606 [22:46<2:21:06, 18.29s/it]"
     ]
    },
    {
     "name": "stdout",
     "output_type": "stream",
     "text": [
      "2023-10-13 13:13:19,805 INFO image_writer.py:197 - writing: /home/vlermakov/Development/Nodules/Nodule-Detection-LUNA2016/processed_data_full_range_075mm/Gireka__635c46f1f32c3409fd451ac3-628f238e04a2f13a-3/Gireka__635c46f1f32c3409fd451ac3-628f238e04a2f13a-3_image_0.nii.gz\n",
      "2023-10-13 13:13:20,167 INFO image_writer.py:197 - writing: /home/vlermakov/Development/Nodules/Nodule-Detection-LUNA2016/processed_data_full_range_075mm/Gireka__635c46f1f32c3409fd451ac3-628f238e04a2f13a-3/Gireka__635c46f1f32c3409fd451ac3-628f238e04a2f13a-3_mask_0.nii.gz\n"
     ]
    },
    {
     "name": "stderr",
     "output_type": "stream",
     "text": [
      "\r",
      "Loading dataset:  25%|███████████████████████████████████████████████████████                                                                                                                                                                         | 149/606 [23:00<54:14,  7.12s/it]"
     ]
    },
    {
     "name": "stdout",
     "output_type": "stream",
     "text": [
      "2023-10-13 13:13:38,630 INFO image_writer.py:197 - writing: /home/vlermakov/Development/Nodules/Nodule-Detection-LUNA2016/processed_data_full_range_075mm/Gireka__635c46f1f32c3409fd451ac3-628f238e04a2f13a-5/Gireka__635c46f1f32c3409fd451ac3-628f238e04a2f13a-5_image_0.nii.gz\n",
      "2023-10-13 13:13:38,664 INFO image_writer.py:197 - writing: /home/vlermakov/Development/Nodules/Nodule-Detection-LUNA2016/processed_data_full_range_075mm/Eyuepen__63581104c9c11e0a188fd449-28ee6a1ae8fb9f9a-2/Eyuepen__63581104c9c11e0a188fd449-28ee6a1ae8fb9f9a-2_image_0.nii.gz\n",
      "2023-10-13 13:13:38,740 INFO image_writer.py:197 - writing: /home/vlermakov/Development/Nodules/Nodule-Detection-LUNA2016/processed_data_full_range_075mm/Gireka__635c46f1f32c3409fd451ac3-628f238e04a2f13a-5/Gireka__635c46f1f32c3409fd451ac3-628f238e04a2f13a-5_mask_0.nii.gz\n",
      "2023-10-13 13:13:38,793 INFO image_writer.py:197 - writing: /home/vlermakov/Development/Nodules/Nodule-Detection-LUNA2016/processed_data_full_range_075mm/Eyuepen__63581104c9c11e0a188fd449-28ee6a1ae8fb9f9a-2/Eyuepen__63581104c9c11e0a188fd449-28ee6a1ae8fb9f9a-2_mask_0.nii.gz\n"
     ]
    },
    {
     "name": "stderr",
     "output_type": "stream",
     "text": [
      "\r",
      "Loading dataset:  25%|██████████████████████████████████████████████████████▉                                                                                                                                                                       | 150/606 [23:19<1:06:30,  8.75s/it]"
     ]
    },
    {
     "name": "stdout",
     "output_type": "stream",
     "text": [
      "2023-10-13 13:13:50,691 INFO image_writer.py:197 - writing: /home/vlermakov/Development/Nodules/Nodule-Detection-LUNA2016/processed_data_full_range_075mm/Quefiko__6370841bc41c42091ba564d2-981bef99c6fb7283-2/Quefiko__6370841bc41c42091ba564d2-981bef99c6fb7283-2_image_0.nii.gz\n",
      "2023-10-13 13:13:51,028 INFO image_writer.py:197 - writing: /home/vlermakov/Development/Nodules/Nodule-Detection-LUNA2016/processed_data_full_range_075mm/Quefiko__6370841bc41c42091ba564d2-981bef99c6fb7283-5/Quefiko__6370841bc41c42091ba564d2-981bef99c6fb7283-5_image_0.nii.gz\n",
      "2023-10-13 13:13:51,454 INFO image_writer.py:197 - writing: /home/vlermakov/Development/Nodules/Nodule-Detection-LUNA2016/processed_data_full_range_075mm/Quefiko__6370841bc41c42091ba564d2-981bef99c6fb7283-1/Quefiko__6370841bc41c42091ba564d2-981bef99c6fb7283-1_image_0.nii.gz\n",
      "2023-10-13 13:13:51,883 INFO image_writer.py:197 - writing: /home/vlermakov/Development/Nodules/Nodule-Detection-LUNA2016/processed_data_full_range_075mm/Quefiko__6370841bc41c42091ba564d2-981bef99c6fb7283-2/Quefiko__6370841bc41c42091ba564d2-981bef99c6fb7283-2_mask_0.nii.gz\n",
      "2023-10-13 13:13:52,287 INFO image_writer.py:197 - writing: /home/vlermakov/Development/Nodules/Nodule-Detection-LUNA2016/processed_data_full_range_075mm/Quefiko__6370841bc41c42091ba564d2-981bef99c6fb7283-5/Quefiko__6370841bc41c42091ba564d2-981bef99c6fb7283-5_mask_0.nii.gz\n"
     ]
    },
    {
     "name": "stderr",
     "output_type": "stream",
     "text": [
      "\r",
      "Loading dataset:  25%|███████████████████████████████████████████████████████▎                                                                                                                                                                      | 151/606 [23:39<1:21:06, 10.70s/it]"
     ]
    },
    {
     "name": "stdout",
     "output_type": "stream",
     "text": [
      "2023-10-13 13:14:02,990 INFO image_writer.py:197 - writing: /home/vlermakov/Development/Nodules/Nodule-Detection-LUNA2016/processed_data_full_range_075mm/Quefiko__6370841bc41c42091ba564d2-981bef99c6fb7283-1/Quefiko__6370841bc41c42091ba564d2-981bef99c6fb7283-1_mask_0.nii.gz\n"
     ]
    },
    {
     "name": "stderr",
     "output_type": "stream",
     "text": [
      "Loading dataset:  25%|████████████████████████████████████████████████████████▌                                                                                                                                                                       | 153/606 [23:45<59:29,  7.88s/it]"
     ]
    },
    {
     "name": "stdout",
     "output_type": "stream",
     "text": [
      "2023-10-13 13:14:09,558 INFO image_writer.py:197 - writing: /home/vlermakov/Development/Nodules/Nodule-Detection-LUNA2016/processed_data_full_range_075mm/Eyuepen__63581104c9c11e0a188fd449-28ee6a1ae8fb9f9a-3/Eyuepen__63581104c9c11e0a188fd449-28ee6a1ae8fb9f9a-3_image_0.nii.gz\n",
      "2023-10-13 13:14:09,687 INFO image_writer.py:197 - writing: /home/vlermakov/Development/Nodules/Nodule-Detection-LUNA2016/processed_data_full_range_075mm/Eyuepen__63581104c9c11e0a188fd449-28ee6a1ae8fb9f9a-1/Eyuepen__63581104c9c11e0a188fd449-28ee6a1ae8fb9f9a-1_image_0.nii.gz\n",
      "2023-10-13 13:14:10,662 INFO image_writer.py:197 - writing: /home/vlermakov/Development/Nodules/Nodule-Detection-LUNA2016/processed_data_full_range_075mm/Eyuepen__63581104c9c11e0a188fd449-28ee6a1ae8fb9f9a-3/Eyuepen__63581104c9c11e0a188fd449-28ee6a1ae8fb9f9a-3_mask_0.nii.gz\n",
      "2023-10-13 13:14:10,846 INFO image_writer.py:197 - writing: /home/vlermakov/Development/Nodules/Nodule-Detection-LUNA2016/processed_data_full_range_075mm/Eyuepen__63581104c9c11e0a188fd449-28ee6a1ae8fb9f9a-1/Eyuepen__63581104c9c11e0a188fd449-28ee6a1ae8fb9f9a-1_mask_0.nii.gz\n"
     ]
    },
    {
     "name": "stderr",
     "output_type": "stream",
     "text": [
      "\r",
      "Loading dataset:  25%|████████████████████████████████████████████████████████▍                                                                                                                                                                     | 154/606 [24:00<1:11:28,  9.49s/it]"
     ]
    },
    {
     "name": "stdout",
     "output_type": "stream",
     "text": [
      "2023-10-13 13:14:32,186 INFO image_writer.py:197 - writing: /home/vlermakov/Development/Nodules/Nodule-Detection-LUNA2016/processed_data_full_range_075mm/Oduprug__6398b20a190f7d09dfeb4cd2-57d0161faab3f2c4-1/Oduprug__6398b20a190f7d09dfeb4cd2-57d0161faab3f2c4-1_image_0.nii.gz\n",
      "2023-10-13 13:14:32,325 INFO image_writer.py:197 - writing: /home/vlermakov/Development/Nodules/Nodule-Detection-LUNA2016/processed_data_full_range_075mm/Oduprug__6398b20a190f7d09dfeb4cd2-57d0161faab3f2c4-1/Oduprug__6398b20a190f7d09dfeb4cd2-57d0161faab3f2c4-1_mask_0.nii.gz\n"
     ]
    },
    {
     "name": "stderr",
     "output_type": "stream",
     "text": [
      "\r",
      "Loading dataset:  26%|██████████████████████████████████████████████████████████                                                                                                                                                                      | 157/606 [24:12<50:35,  6.76s/it]"
     ]
    },
    {
     "name": "stdout",
     "output_type": "stream",
     "text": [
      "2023-10-13 13:14:50,662 INFO image_writer.py:197 - writing: /home/vlermakov/Development/Nodules/Nodule-Detection-LUNA2016/processed_data_full_range_075mm/Busikor__6398a4fe346dc809c056d549-5e477d68497b3342-20/Busikor__6398a4fe346dc809c056d549-5e477d68497b3342-20_image_0.nii.gz\n",
      "2023-10-13 13:14:51,013 INFO image_writer.py:197 - writing: /home/vlermakov/Development/Nodules/Nodule-Detection-LUNA2016/processed_data_full_range_075mm/Umkleegneg__6345eded5d2d1d0ae1157d50-9b0f52e4b4545675-2/Umkleegneg__6345eded5d2d1d0ae1157d50-9b0f52e4b4545675-2_image_0.nii.gz\n",
      "2023-10-13 13:14:51,084 INFO image_writer.py:197 - writing: /home/vlermakov/Development/Nodules/Nodule-Detection-LUNA2016/processed_data_full_range_075mm/Busikor__6398a4fe346dc809c056d549-5e477d68497b3342-20/Busikor__6398a4fe346dc809c056d549-5e477d68497b3342-20_mask_0.nii.gz\n",
      "2023-10-13 13:14:51,188 INFO image_writer.py:197 - writing: /home/vlermakov/Development/Nodules/Nodule-Detection-LUNA2016/processed_data_full_range_075mm/Oduprug__6398b20a190f7d09dfeb4cd2-57d0161faab3f2c4-2/Oduprug__6398b20a190f7d09dfeb4cd2-57d0161faab3f2c4-2_image_0.nii.gz\n",
      "2023-10-13 13:14:51,206 INFO image_writer.py:197 - writing: /home/vlermakov/Development/Nodules/Nodule-Detection-LUNA2016/processed_data_full_range_075mm/Umkleegneg__6345eded5d2d1d0ae1157d50-9b0f52e4b4545675-1/Umkleegneg__6345eded5d2d1d0ae1157d50-9b0f52e4b4545675-1_image_0.nii.gz\n",
      "2023-10-13 13:14:51,296 INFO image_writer.py:197 - writing: /home/vlermakov/Development/Nodules/Nodule-Detection-LUNA2016/processed_data_full_range_075mm/Oduprug__6398b20a190f7d09dfeb4cd2-57d0161faab3f2c4-3/Oduprug__6398b20a190f7d09dfeb4cd2-57d0161faab3f2c4-3_image_0.nii.gz\n",
      "2023-10-13 13:14:51,463 INFO image_writer.py:197 - writing: /home/vlermakov/Development/Nodules/Nodule-Detection-LUNA2016/processed_data_full_range_075mm/Umkleegneg__6345eded5d2d1d0ae1157d50-9b0f52e4b4545675-2/Umkleegneg__6345eded5d2d1d0ae1157d50-9b0f52e4b4545675-2_mask_0.nii.gz\n",
      "2023-10-13 13:15:00,040 INFO image_writer.py:197 - writing: /home/vlermakov/Development/Nodules/Nodule-Detection-LUNA2016/processed_data_full_range_075mm/Umkleegneg__6345eded5d2d1d0ae1157d50-9b0f52e4b4545675-1/Umkleegneg__6345eded5d2d1d0ae1157d50-9b0f52e4b4545675-1_mask_0.nii.gz\n",
      "2023-10-13 13:15:00,043 INFO image_writer.py:197 - writing: /home/vlermakov/Development/Nodules/Nodule-Detection-LUNA2016/processed_data_full_range_075mm/Oduprug__6398b20a190f7d09dfeb4cd2-57d0161faab3f2c4-2/Oduprug__6398b20a190f7d09dfeb4cd2-57d0161faab3f2c4-2_mask_0.nii.gz\n",
      "2023-10-13 13:15:00,125 INFO image_writer.py:197 - writing: /home/vlermakov/Development/Nodules/Nodule-Detection-LUNA2016/processed_data_full_range_075mm/Oduprug__6398b20a190f7d09dfeb4cd2-57d0161faab3f2c4-3/Oduprug__6398b20a190f7d09dfeb4cd2-57d0161faab3f2c4-3_mask_0.nii.gz\n"
     ]
    },
    {
     "name": "stderr",
     "output_type": "stream",
     "text": [
      "Loading dataset:  26%|██████████████████████████████████████████████████████████▏                                                                                                                                                                   | 159/606 [24:54<1:20:50, 10.85s/it]"
     ]
    },
    {
     "name": "stdout",
     "output_type": "stream",
     "text": [
      "2023-10-13 13:15:20,032 INFO image_writer.py:197 - writing: /home/vlermakov/Development/Nodules/Nodule-Detection-LUNA2016/processed_data_full_range_075mm/Busikor__6398a4fe346dc809c056d549-5e477d68497b3342-3/Busikor__6398a4fe346dc809c056d549-5e477d68497b3342-3_image_0.nii.gz\n",
      "2023-10-13 13:15:20,072 INFO image_writer.py:197 - writing: /home/vlermakov/Development/Nodules/Nodule-Detection-LUNA2016/processed_data_full_range_075mm/Busikor__6398a4fe346dc809c056d549-5e477d68497b3342-5/Busikor__6398a4fe346dc809c056d549-5e477d68497b3342-5_image_0.nii.gz\n",
      "2023-10-13 13:15:20,144 INFO image_writer.py:197 - writing: /home/vlermakov/Development/Nodules/Nodule-Detection-LUNA2016/processed_data_full_range_075mm/Busikor__6398a4fe346dc809c056d549-5e477d68497b3342-3/Busikor__6398a4fe346dc809c056d549-5e477d68497b3342-3_mask_0.nii.gz\n",
      "2023-10-13 13:15:20,190 INFO image_writer.py:197 - writing: /home/vlermakov/Development/Nodules/Nodule-Detection-LUNA2016/processed_data_full_range_075mm/Busikor__6398a4fe346dc809c056d549-5e477d68497b3342-5/Busikor__6398a4fe346dc809c056d549-5e477d68497b3342-5_mask_0.nii.gz\n"
     ]
    },
    {
     "name": "stderr",
     "output_type": "stream",
     "text": [
      "Loading dataset:  27%|████████████████████████████████████████████████████████████▌                                                                                                                                                                   | 164/606 [25:12<49:10,  6.68s/it]"
     ]
    },
    {
     "name": "stdout",
     "output_type": "stream",
     "text": [
      "2023-10-13 13:15:50,230 INFO image_writer.py:197 - writing: /home/vlermakov/Development/Nodules/Nodule-Detection-LUNA2016/processed_data_full_range_075mm/Quobosoo__63b71a8b2176ab0918829213-f8187597f182dfe2-12/Quobosoo__63b71a8b2176ab0918829213-f8187597f182dfe2-12_image_0.nii.gz\n",
      "2023-10-13 13:15:50,259 INFO image_writer.py:197 - writing: /home/vlermakov/Development/Nodules/Nodule-Detection-LUNA2016/processed_data_full_range_075mm/Quobosoo__63b71a8b2176ab0918829213-f8187597f182dfe2-7/Quobosoo__63b71a8b2176ab0918829213-f8187597f182dfe2-7_image_0.nii.gz\n",
      "2023-10-13 13:15:50,337 INFO image_writer.py:197 - writing: /home/vlermakov/Development/Nodules/Nodule-Detection-LUNA2016/processed_data_full_range_075mm/Quobosoo__63b71a8b2176ab0918829213-f8187597f182dfe2-12/Quobosoo__63b71a8b2176ab0918829213-f8187597f182dfe2-12_mask_0.nii.gz\n",
      "2023-10-13 13:15:50,400 INFO image_writer.py:197 - writing: /home/vlermakov/Development/Nodules/Nodule-Detection-LUNA2016/processed_data_full_range_075mm/Quobosoo__63b71a8b2176ab0918829213-f8187597f182dfe2-7/Quobosoo__63b71a8b2176ab0918829213-f8187597f182dfe2-7_mask_0.nii.gz\n"
     ]
    },
    {
     "name": "stderr",
     "output_type": "stream",
     "text": [
      "Loading dataset:  27%|████████████████████████████████████████████████████████████▊                                                                                                                                                                 | 166/606 [25:38<1:02:06,  8.47s/it]"
     ]
    },
    {
     "name": "stdout",
     "output_type": "stream",
     "text": [
      "2023-10-13 13:16:00,168 INFO image_writer.py:197 - writing: /home/vlermakov/Development/Nodules/Nodule-Detection-LUNA2016/processed_data_full_range_075mm/Quobosoo__63b71a8b2176ab0918829213-f8187597f182dfe2-26/Quobosoo__63b71a8b2176ab0918829213-f8187597f182dfe2-26_image_0.nii.gz\n",
      "2023-10-13 13:16:02,270 INFO image_writer.py:197 - writing: /home/vlermakov/Development/Nodules/Nodule-Detection-LUNA2016/processed_data_full_range_075mm/Quobosoo__63b71a8b2176ab0918829213-f8187597f182dfe2-26/Quobosoo__63b71a8b2176ab0918829213-f8187597f182dfe2-26_mask_0.nii.gz\n"
     ]
    },
    {
     "name": "stderr",
     "output_type": "stream",
     "text": [
      "\r",
      "Loading dataset:  28%|█████████████████████████████████████████████████████████████▋                                                                                                                                                                  | 167/606 [25:43<54:45,  7.49s/it]"
     ]
    },
    {
     "name": "stdout",
     "output_type": "stream",
     "text": [
      "2023-10-13 13:16:10,051 INFO image_writer.py:197 - writing: /home/vlermakov/Development/Nodules/Nodule-Detection-LUNA2016/processed_data_full_range_075mm/Quobosoo__63b71a8b2176ab0918829213-f8187597f182dfe2-10/Quobosoo__63b71a8b2176ab0918829213-f8187597f182dfe2-10_image_0.nii.gz\n",
      "2023-10-13 13:16:10,140 INFO image_writer.py:197 - writing: /home/vlermakov/Development/Nodules/Nodule-Detection-LUNA2016/processed_data_full_range_075mm/Jametey__63b71d162176ab0918829214-1f06b7e0dad05d8d-10/Jametey__63b71d162176ab0918829214-1f06b7e0dad05d8d-10_image_0.nii.gz\n",
      "2023-10-13 13:16:10,234 INFO image_writer.py:197 - writing: /home/vlermakov/Development/Nodules/Nodule-Detection-LUNA2016/processed_data_full_range_075mm/Jametey__63b71d162176ab0918829214-1f06b7e0dad05d8d-3/Jametey__63b71d162176ab0918829214-1f06b7e0dad05d8d-3_image_0.nii.gz\n",
      "2023-10-13 13:16:10,636 INFO image_writer.py:197 - writing: /home/vlermakov/Development/Nodules/Nodule-Detection-LUNA2016/processed_data_full_range_075mm/Quobosoo__63b71a8b2176ab0918829213-f8187597f182dfe2-10/Quobosoo__63b71a8b2176ab0918829213-f8187597f182dfe2-10_mask_0.nii.gz\n",
      "2023-10-13 13:16:11,058 INFO image_writer.py:197 - writing: /home/vlermakov/Development/Nodules/Nodule-Detection-LUNA2016/processed_data_full_range_075mm/Jametey__63b71d162176ab0918829214-1f06b7e0dad05d8d-10/Jametey__63b71d162176ab0918829214-1f06b7e0dad05d8d-10_mask_0.nii.gz\n",
      "2023-10-13 13:16:11,105 INFO image_writer.py:197 - writing: /home/vlermakov/Development/Nodules/Nodule-Detection-LUNA2016/processed_data_full_range_075mm/Jametey__63b71d162176ab0918829214-1f06b7e0dad05d8d-3/Jametey__63b71d162176ab0918829214-1f06b7e0dad05d8d-3_mask_0.nii.gz\n"
     ]
    },
    {
     "name": "stderr",
     "output_type": "stream",
     "text": [
      "Loading dataset:  28%|██████████████████████████████████████████████████████████████▊                                                                                                                                                                 | 170/606 [26:08<58:10,  8.01s/it]"
     ]
    },
    {
     "name": "stdout",
     "output_type": "stream",
     "text": [
      "2023-10-13 13:16:39,416 INFO image_writer.py:197 - writing: /home/vlermakov/Development/Nodules/Nodule-Detection-LUNA2016/processed_data_full_range_075mm/Likalo__634879c547a4350af93788fb-e80898b53c66d12b-1/Likalo__634879c547a4350af93788fb-e80898b53c66d12b-1_image_0.nii.gz\n",
      "2023-10-13 13:16:39,696 INFO image_writer.py:197 - writing: /home/vlermakov/Development/Nodules/Nodule-Detection-LUNA2016/processed_data_full_range_075mm/Romemud__63a0d6b2fae9df0903a7ff80-ea2169468bf63e30-4/Romemud__63a0d6b2fae9df0903a7ff80-ea2169468bf63e30-4_image_0.nii.gz\n",
      "2023-10-13 13:16:40,181 INFO image_writer.py:197 - writing: /home/vlermakov/Development/Nodules/Nodule-Detection-LUNA2016/processed_data_full_range_075mm/Likalo__634879c547a4350af93788fb-e80898b53c66d12b-1/Likalo__634879c547a4350af93788fb-e80898b53c66d12b-1_mask_0.nii.gz\n",
      "2023-10-13 13:16:40,211 INFO image_writer.py:197 - writing: /home/vlermakov/Development/Nodules/Nodule-Detection-LUNA2016/processed_data_full_range_075mm/Romemud__63a0d6b2fae9df0903a7ff80-ea2169468bf63e30-4/Romemud__63a0d6b2fae9df0903a7ff80-ea2169468bf63e30-4_mask_0.nii.gz\n"
     ]
    },
    {
     "name": "stderr",
     "output_type": "stream",
     "text": [
      "\r",
      "Loading dataset:  28%|██████████████████████████████████████████████████████████████▋                                                                                                                                                               | 171/606 [26:28<1:23:10, 11.47s/it]"
     ]
    },
    {
     "name": "stdout",
     "output_type": "stream",
     "text": [
      "2023-10-13 13:17:01,685 INFO image_writer.py:197 - writing: /home/vlermakov/Development/Nodules/Nodule-Detection-LUNA2016/processed_data_full_range_075mm/Likalo__634879c547a4350af93788fb-e80898b53c66d12b-3/Likalo__634879c547a4350af93788fb-e80898b53c66d12b-3_image_0.nii.gz\n",
      "2023-10-13 13:17:02,038 INFO image_writer.py:197 - writing: /home/vlermakov/Development/Nodules/Nodule-Detection-LUNA2016/processed_data_full_range_075mm/Likalo__634879c547a4350af93788fb-e80898b53c66d12b-3/Likalo__634879c547a4350af93788fb-e80898b53c66d12b-3_mask_0.nii.gz\n",
      "2023-10-13 13:17:02,124 INFO image_writer.py:197 - writing: /home/vlermakov/Development/Nodules/Nodule-Detection-LUNA2016/processed_data_full_range_075mm/Likalo__634879c547a4350af93788fb-e80898b53c66d12b-7/Likalo__634879c547a4350af93788fb-e80898b53c66d12b-7_image_0.nii.gz\n",
      "2023-10-13 13:17:02,190 INFO image_writer.py:197 - writing: /home/vlermakov/Development/Nodules/Nodule-Detection-LUNA2016/processed_data_full_range_075mm/Likalo__634879c547a4350af93788fb-e80898b53c66d12b-2/Likalo__634879c547a4350af93788fb-e80898b53c66d12b-2_image_0.nii.gz\n",
      "2023-10-13 13:17:02,259 INFO image_writer.py:197 - writing: /home/vlermakov/Development/Nodules/Nodule-Detection-LUNA2016/processed_data_full_range_075mm/Likalo__634879c547a4350af93788fb-e80898b53c66d12b-7/Likalo__634879c547a4350af93788fb-e80898b53c66d12b-7_mask_0.nii.gz\n",
      "2023-10-13 13:17:11,654 INFO image_writer.py:197 - writing: /home/vlermakov/Development/Nodules/Nodule-Detection-LUNA2016/processed_data_full_range_075mm/Likalo__634879c547a4350af93788fb-e80898b53c66d12b-2/Likalo__634879c547a4350af93788fb-e80898b53c66d12b-2_mask_0.nii.gz\n"
     ]
    },
    {
     "name": "stderr",
     "output_type": "stream",
     "text": [
      "Loading dataset:  29%|███████████████████████████████████████████████████████████████▋                                                                                                                                                              | 174/606 [26:57<1:12:04, 10.01s/it]"
     ]
    },
    {
     "name": "stdout",
     "output_type": "stream",
     "text": [
      "2023-10-13 13:17:28,137 INFO image_writer.py:197 - writing: /home/vlermakov/Development/Nodules/Nodule-Detection-LUNA2016/processed_data_full_range_075mm/Otifnul__639c9413c8f93e08dd3aefe8-9c3eecbac4237a2c-1/Otifnul__639c9413c8f93e08dd3aefe8-9c3eecbac4237a2c-1_image_0.nii.gz\n",
      "2023-10-13 13:17:28,248 INFO image_writer.py:197 - writing: /home/vlermakov/Development/Nodules/Nodule-Detection-LUNA2016/processed_data_full_range_075mm/Otifnul__639c9413c8f93e08dd3aefe8-9c3eecbac4237a2c-1/Otifnul__639c9413c8f93e08dd3aefe8-9c3eecbac4237a2c-1_mask_0.nii.gz\n",
      "2023-10-13 13:17:35,680 INFO image_writer.py:197 - writing: /home/vlermakov/Development/Nodules/Nodule-Detection-LUNA2016/processed_data_full_range_075mm/Finudouth__6366171865912609e6b25e31-9c894693436a6e08-2/Finudouth__6366171865912609e6b25e31-9c894693436a6e08-2_image_0.nii.gz\n",
      "2023-10-13 13:17:36,136 INFO image_writer.py:197 - writing: /home/vlermakov/Development/Nodules/Nodule-Detection-LUNA2016/processed_data_full_range_075mm/Likalo__634879c547a4350af93788fb-e80898b53c66d12b-13/Likalo__634879c547a4350af93788fb-e80898b53c66d12b-13_image_0.nii.gz\n",
      "2023-10-13 13:17:37,296 INFO image_writer.py:197 - writing: /home/vlermakov/Development/Nodules/Nodule-Detection-LUNA2016/processed_data_full_range_075mm/Finudouth__6366171865912609e6b25e31-9c894693436a6e08-2/Finudouth__6366171865912609e6b25e31-9c894693436a6e08-2_mask_0.nii.gz\n",
      "2023-10-13 13:17:37,504 INFO image_writer.py:197 - writing: /home/vlermakov/Development/Nodules/Nodule-Detection-LUNA2016/processed_data_full_range_075mm/Likalo__634879c547a4350af93788fb-e80898b53c66d12b-13/Likalo__634879c547a4350af93788fb-e80898b53c66d12b-13_mask_0.nii.gz\n"
     ]
    },
    {
     "name": "stderr",
     "output_type": "stream",
     "text": [
      "Loading dataset:  29%|█████████████████████████████████████████████████████████████████▊                                                                                                                                                              | 178/606 [27:27<53:13,  7.46s/it]"
     ]
    },
    {
     "name": "stdout",
     "output_type": "stream",
     "text": [
      "2023-10-13 13:17:48,181 INFO image_writer.py:197 - writing: /home/vlermakov/Development/Nodules/Nodule-Detection-LUNA2016/processed_data_full_range_075mm/Otifnul__639c9413c8f93e08dd3aefe8-9c3eecbac4237a2c-4/Otifnul__639c9413c8f93e08dd3aefe8-9c3eecbac4237a2c-4_image_0.nii.gz\n",
      "2023-10-13 13:17:48,197 INFO image_writer.py:197 - writing: /home/vlermakov/Development/Nodules/Nodule-Detection-LUNA2016/processed_data_full_range_075mm/Otifnul__639c9413c8f93e08dd3aefe8-9c3eecbac4237a2c-2/Otifnul__639c9413c8f93e08dd3aefe8-9c3eecbac4237a2c-2_image_0.nii.gz\n",
      "2023-10-13 13:17:48,218 INFO image_writer.py:197 - writing: /home/vlermakov/Development/Nodules/Nodule-Detection-LUNA2016/processed_data_full_range_075mm/Dibafug__63b5f75903d1fe08ee2c8a10-c790619240b48a78-2/Dibafug__63b5f75903d1fe08ee2c8a10-c790619240b48a78-2_image_0.nii.gz\n",
      "2023-10-13 13:17:48,247 INFO image_writer.py:197 - writing: /home/vlermakov/Development/Nodules/Nodule-Detection-LUNA2016/processed_data_full_range_075mm/Otifnul__639c9413c8f93e08dd3aefe8-9c3eecbac4237a2c-3/Otifnul__639c9413c8f93e08dd3aefe8-9c3eecbac4237a2c-3_image_0.nii.gz\n",
      "2023-10-13 13:17:48,273 INFO image_writer.py:197 - writing: /home/vlermakov/Development/Nodules/Nodule-Detection-LUNA2016/processed_data_full_range_075mm/Otifnul__639c9413c8f93e08dd3aefe8-9c3eecbac4237a2c-4/Otifnul__639c9413c8f93e08dd3aefe8-9c3eecbac4237a2c-4_mask_0.nii.gz\n",
      "2023-10-13 13:17:48,319 INFO image_writer.py:197 - writing: /home/vlermakov/Development/Nodules/Nodule-Detection-LUNA2016/processed_data_full_range_075mm/Otifnul__639c9413c8f93e08dd3aefe8-9c3eecbac4237a2c-2/Otifnul__639c9413c8f93e08dd3aefe8-9c3eecbac4237a2c-2_mask_0.nii.gz\n",
      "2023-10-13 13:17:48,357 INFO image_writer.py:197 - writing: /home/vlermakov/Development/Nodules/Nodule-Detection-LUNA2016/processed_data_full_range_075mm/Dibafug__63b5f75903d1fe08ee2c8a10-c790619240b48a78-2/Dibafug__63b5f75903d1fe08ee2c8a10-c790619240b48a78-2_mask_0.nii.gz\n",
      "2023-10-13 13:17:54,231 INFO image_writer.py:197 - writing: /home/vlermakov/Development/Nodules/Nodule-Detection-LUNA2016/processed_data_full_range_075mm/Otifnul__639c9413c8f93e08dd3aefe8-9c3eecbac4237a2c-3/Otifnul__639c9413c8f93e08dd3aefe8-9c3eecbac4237a2c-3_mask_0.nii.gz\n"
     ]
    },
    {
     "name": "stderr",
     "output_type": "stream",
     "text": [
      "Loading dataset:  30%|█████████████████████████████████████████████████████████████████▉                                                                                                                                                            | 180/606 [27:47<1:01:50,  8.71s/it]"
     ]
    },
    {
     "name": "stdout",
     "output_type": "stream",
     "text": [
      "2023-10-13 13:18:31,357 INFO image_writer.py:197 - writing: /home/vlermakov/Development/Nodules/Nodule-Detection-LUNA2016/processed_data_full_range_075mm/Gaqueque__6365f98a1669b90a81dec415-5038988cad8a01c7-4/Gaqueque__6365f98a1669b90a81dec415-5038988cad8a01c7-4_image_0.nii.gz\n",
      "2023-10-13 13:18:31,683 INFO image_writer.py:197 - writing: /home/vlermakov/Development/Nodules/Nodule-Detection-LUNA2016/processed_data_full_range_075mm/Gaqueque__6365f98a1669b90a81dec415-5038988cad8a01c7-4/Gaqueque__6365f98a1669b90a81dec415-5038988cad8a01c7-4_mask_0.nii.gz\n"
     ]
    },
    {
     "name": "stderr",
     "output_type": "stream",
     "text": [
      "\r",
      "Loading dataset:  30%|███████████████████████████████████████████████████████████████████                                                                                                                                                           | 183/606 [28:12<1:00:32,  8.59s/it]"
     ]
    },
    {
     "name": "stdout",
     "output_type": "stream",
     "text": [
      "2023-10-13 13:18:40,762 INFO image_writer.py:197 - writing: /home/vlermakov/Development/Nodules/Nodule-Detection-LUNA2016/processed_data_full_range_075mm/Lolaru__63a083b1d6468309ee278d3d-c1c3413da4e0107a-1/Lolaru__63a083b1d6468309ee278d3d-c1c3413da4e0107a-1_image_0.nii.gz\n",
      "2023-10-13 13:18:40,945 INFO image_writer.py:197 - writing: /home/vlermakov/Development/Nodules/Nodule-Detection-LUNA2016/processed_data_full_range_075mm/Gaqueque__6365f98a1669b90a81dec415-5038988cad8a01c7-1/Gaqueque__6365f98a1669b90a81dec415-5038988cad8a01c7-1_image_0.nii.gz\n",
      "2023-10-13 13:18:41,104 INFO image_writer.py:197 - writing: /home/vlermakov/Development/Nodules/Nodule-Detection-LUNA2016/processed_data_full_range_075mm/Gaqueque__6365f98a1669b90a81dec415-5038988cad8a01c7-10/Gaqueque__6365f98a1669b90a81dec415-5038988cad8a01c7-10_image_0.nii.gz\n",
      "2023-10-13 13:18:41,112 INFO image_writer.py:197 - writing: /home/vlermakov/Development/Nodules/Nodule-Detection-LUNA2016/processed_data_full_range_075mm/Lolaru__63a083b1d6468309ee278d3d-c1c3413da4e0107a-1/Lolaru__63a083b1d6468309ee278d3d-c1c3413da4e0107a-1_mask_0.nii.gz\n",
      "2023-10-13 13:18:41,195 INFO image_writer.py:197 - writing: /home/vlermakov/Development/Nodules/Nodule-Detection-LUNA2016/processed_data_full_range_075mm/Gaqueque__6365f98a1669b90a81dec415-5038988cad8a01c7-1/Gaqueque__6365f98a1669b90a81dec415-5038988cad8a01c7-1_mask_0.nii.gz\n"
     ]
    },
    {
     "name": "stderr",
     "output_type": "stream",
     "text": [
      "\r",
      "Loading dataset:  30%|███████████████████████████████████████████████████████████████████▍                                                                                                                                                          | 184/606 [28:32<1:16:13, 10.84s/it]"
     ]
    },
    {
     "name": "stdout",
     "output_type": "stream",
     "text": [
      "2023-10-13 13:18:52,027 INFO image_writer.py:197 - writing: /home/vlermakov/Development/Nodules/Nodule-Detection-LUNA2016/processed_data_full_range_075mm/Gaqueque__6365f98a1669b90a81dec415-5038988cad8a01c7-10/Gaqueque__6365f98a1669b90a81dec415-5038988cad8a01c7-10_mask_0.nii.gz\n"
     ]
    },
    {
     "name": "stderr",
     "output_type": "stream",
     "text": [
      "\r",
      "Loading dataset:  31%|████████████████████████████████████████████████████████████████████▍                                                                                                                                                           | 185/606 [28:32<59:41,  8.51s/it]"
     ]
    },
    {
     "name": "stdout",
     "output_type": "stream",
     "text": [
      "2023-10-13 13:18:57,061 INFO image_writer.py:197 - writing: /home/vlermakov/Development/Nodules/Nodule-Detection-LUNA2016/processed_data_full_range_075mm/Fajafu__6352c10e2aae5609f03b4717-a2c3cea203d456a9-18/Fajafu__6352c10e2aae5609f03b4717-a2c3cea203d456a9-18_image_0.nii.gz\n",
      "2023-10-13 13:18:57,111 INFO image_writer.py:197 - writing: /home/vlermakov/Development/Nodules/Nodule-Detection-LUNA2016/processed_data_full_range_075mm/Lolaru__63a083b1d6468309ee278d3d-c1c3413da4e0107a-2/Lolaru__63a083b1d6468309ee278d3d-c1c3413da4e0107a-2_image_0.nii.gz\n",
      "2023-10-13 13:18:57,534 INFO image_writer.py:197 - writing: /home/vlermakov/Development/Nodules/Nodule-Detection-LUNA2016/processed_data_full_range_075mm/Fajafu__6352c10e2aae5609f03b4717-a2c3cea203d456a9-18/Fajafu__6352c10e2aae5609f03b4717-a2c3cea203d456a9-18_mask_0.nii.gz\n",
      "2023-10-13 13:18:57,591 INFO image_writer.py:197 - writing: /home/vlermakov/Development/Nodules/Nodule-Detection-LUNA2016/processed_data_full_range_075mm/Lolaru__63a083b1d6468309ee278d3d-c1c3413da4e0107a-4/Lolaru__63a083b1d6468309ee278d3d-c1c3413da4e0107a-4_image_0.nii.gz\n",
      "2023-10-13 13:18:57,642 INFO image_writer.py:197 - writing: /home/vlermakov/Development/Nodules/Nodule-Detection-LUNA2016/processed_data_full_range_075mm/Lolaru__63a083b1d6468309ee278d3d-c1c3413da4e0107a-2/Lolaru__63a083b1d6468309ee278d3d-c1c3413da4e0107a-2_mask_0.nii.gz\n"
     ]
    },
    {
     "name": "stderr",
     "output_type": "stream",
     "text": [
      "Loading dataset:  31%|█████████████████████████████████████████████████████████████████████▍                                                                                                                                                          | 188/606 [28:45<39:58,  5.74s/it]"
     ]
    },
    {
     "name": "stdout",
     "output_type": "stream",
     "text": [
      "2023-10-13 13:19:05,011 INFO image_writer.py:197 - writing: /home/vlermakov/Development/Nodules/Nodule-Detection-LUNA2016/processed_data_full_range_075mm/Lolaru__63a083b1d6468309ee278d3d-c1c3413da4e0107a-4/Lolaru__63a083b1d6468309ee278d3d-c1c3413da4e0107a-4_mask_0.nii.gz\n",
      "2023-10-13 13:19:08,660 INFO image_writer.py:197 - writing: /home/vlermakov/Development/Nodules/Nodule-Detection-LUNA2016/processed_data_full_range_075mm/Lolaru__63a083b1d6468309ee278d3d-c1c3413da4e0107a-3/Lolaru__63a083b1d6468309ee278d3d-c1c3413da4e0107a-3_image_0.nii.gz\n",
      "2023-10-13 13:19:09,139 INFO image_writer.py:197 - writing: /home/vlermakov/Development/Nodules/Nodule-Detection-LUNA2016/processed_data_full_range_075mm/Lolaru__63a083b1d6468309ee278d3d-c1c3413da4e0107a-3/Lolaru__63a083b1d6468309ee278d3d-c1c3413da4e0107a-3_mask_0.nii.gz\n"
     ]
    },
    {
     "name": "stderr",
     "output_type": "stream",
     "text": [
      "Loading dataset:  31%|██████████████████████████████████████████████████████████████████████▏                                                                                                                                                         | 190/606 [28:55<38:06,  5.50s/it]"
     ]
    },
    {
     "name": "stdout",
     "output_type": "stream",
     "text": [
      "2023-10-13 13:19:27,285 INFO image_writer.py:197 - writing: /home/vlermakov/Development/Nodules/Nodule-Detection-LUNA2016/processed_data_full_range_075mm/Quakuro__6362d776697c1b0908491ff4-4d7deecb53db0e14-1/Quakuro__6362d776697c1b0908491ff4-4d7deecb53db0e14-1_image_0.nii.gz\n",
      "2023-10-13 13:19:27,558 INFO image_writer.py:197 - writing: /home/vlermakov/Development/Nodules/Nodule-Detection-LUNA2016/processed_data_full_range_075mm/Quakuro__6362d776697c1b0908491ff4-4d7deecb53db0e14-3/Quakuro__6362d776697c1b0908491ff4-4d7deecb53db0e14-3_image_0.nii.gz\n",
      "2023-10-13 13:19:28,473 INFO image_writer.py:197 - writing: /home/vlermakov/Development/Nodules/Nodule-Detection-LUNA2016/processed_data_full_range_075mm/Quakuro__6362d776697c1b0908491ff4-4d7deecb53db0e14-1/Quakuro__6362d776697c1b0908491ff4-4d7deecb53db0e14-1_mask_0.nii.gz\n",
      "2023-10-13 13:19:28,909 INFO image_writer.py:197 - writing: /home/vlermakov/Development/Nodules/Nodule-Detection-LUNA2016/processed_data_full_range_075mm/Quakuro__6362d776697c1b0908491ff4-4d7deecb53db0e14-3/Quakuro__6362d776697c1b0908491ff4-4d7deecb53db0e14-3_mask_0.nii.gz\n",
      "2023-10-13 13:19:41,678 INFO image_writer.py:197 - writing: /home/vlermakov/Development/Nodules/Nodule-Detection-LUNA2016/processed_data_full_range_075mm/Lolaru__63a083b1d6468309ee278d3d-c1c3413da4e0107a-5/Lolaru__63a083b1d6468309ee278d3d-c1c3413da4e0107a-5_image_0.nii.gz\n",
      "2023-10-13 13:19:43,726 INFO image_writer.py:197 - writing: /home/vlermakov/Development/Nodules/Nodule-Detection-LUNA2016/processed_data_full_range_075mm/Lolaru__63a083b1d6468309ee278d3d-c1c3413da4e0107a-5/Lolaru__63a083b1d6468309ee278d3d-c1c3413da4e0107a-5_mask_0.nii.gz\n"
     ]
    },
    {
     "name": "stderr",
     "output_type": "stream",
     "text": [
      "Loading dataset:  32%|██████████████████████████████████████████████████████████████████████▎                                                                                                                                                       | 192/606 [29:29<1:09:26, 10.06s/it]"
     ]
    },
    {
     "name": "stdout",
     "output_type": "stream",
     "text": [
      "2023-10-13 13:19:50,681 INFO image_writer.py:197 - writing: /home/vlermakov/Development/Nodules/Nodule-Detection-LUNA2016/processed_data_full_range_075mm/Gruguka__6358b1e189f9070a39696bac-02bb99915a3c1f8c-37/Gruguka__6358b1e189f9070a39696bac-02bb99915a3c1f8c-37_image_0.nii.gz\n",
      "2023-10-13 13:19:50,816 INFO image_writer.py:197 - writing: /home/vlermakov/Development/Nodules/Nodule-Detection-LUNA2016/processed_data_full_range_075mm/Gruguka__6358b1e189f9070a39696bac-02bb99915a3c1f8c-7/Gruguka__6358b1e189f9070a39696bac-02bb99915a3c1f8c-7_image_0.nii.gz\n",
      "2023-10-13 13:19:51,114 INFO image_writer.py:197 - writing: /home/vlermakov/Development/Nodules/Nodule-Detection-LUNA2016/processed_data_full_range_075mm/Gruguka__6358b1e189f9070a39696bac-02bb99915a3c1f8c-51/Gruguka__6358b1e189f9070a39696bac-02bb99915a3c1f8c-51_image_0.nii.gz\n",
      "2023-10-13 13:19:51,400 INFO image_writer.py:197 - writing: /home/vlermakov/Development/Nodules/Nodule-Detection-LUNA2016/processed_data_full_range_075mm/Gruguka__6358b1e189f9070a39696bac-02bb99915a3c1f8c-37/Gruguka__6358b1e189f9070a39696bac-02bb99915a3c1f8c-37_mask_0.nii.gz\n",
      "2023-10-13 13:19:51,547 INFO image_writer.py:197 - writing: /home/vlermakov/Development/Nodules/Nodule-Detection-LUNA2016/processed_data_full_range_075mm/Gruguka__6358b1e189f9070a39696bac-02bb99915a3c1f8c-7/Gruguka__6358b1e189f9070a39696bac-02bb99915a3c1f8c-7_mask_0.nii.gz\n",
      "2023-10-13 13:19:51,707 INFO image_writer.py:197 - writing: /home/vlermakov/Development/Nodules/Nodule-Detection-LUNA2016/processed_data_full_range_075mm/Gruguka__6358b1e189f9070a39696bac-02bb99915a3c1f8c-51/Gruguka__6358b1e189f9070a39696bac-02bb99915a3c1f8c-51_mask_0.nii.gz\n"
     ]
    },
    {
     "name": "stderr",
     "output_type": "stream",
     "text": [
      "Loading dataset:  32%|████████████████████████████████████████████████████████████████████████                                                                                                                                                        | 195/606 [29:45<50:40,  7.40s/it]"
     ]
    },
    {
     "name": "stdout",
     "output_type": "stream",
     "text": [
      "2023-10-13 13:20:05,679 INFO image_writer.py:197 - writing: /home/vlermakov/Development/Nodules/Nodule-Detection-LUNA2016/processed_data_full_range_075mm/Gruguka__6358b1e189f9070a39696bac-02bb99915a3c1f8c-3/Gruguka__6358b1e189f9070a39696bac-02bb99915a3c1f8c-3_image_0.nii.gz\n",
      "2023-10-13 13:20:05,802 INFO image_writer.py:197 - writing: /home/vlermakov/Development/Nodules/Nodule-Detection-LUNA2016/processed_data_full_range_075mm/Gruguka__6358b1e189f9070a39696bac-02bb99915a3c1f8c-3/Gruguka__6358b1e189f9070a39696bac-02bb99915a3c1f8c-3_mask_0.nii.gz\n"
     ]
    },
    {
     "name": "stderr",
     "output_type": "stream",
     "text": [
      "\r",
      "Loading dataset:  33%|████████████████████████████████████████████████████████████████████████▊                                                                                                                                                       | 197/606 [29:46<30:55,  4.54s/it]"
     ]
    },
    {
     "name": "stdout",
     "output_type": "stream",
     "text": [
      "2023-10-13 13:20:38,100 INFO image_writer.py:197 - writing: /home/vlermakov/Development/Nodules/Nodule-Detection-LUNA2016/processed_data_full_range_075mm/Bedisi__6349e9e60729640d01850aa3-f778a93bacec4124-1/Bedisi__6349e9e60729640d01850aa3-f778a93bacec4124-1_image_0.nii.gz\n",
      "2023-10-13 13:20:38,361 INFO image_writer.py:197 - writing: /home/vlermakov/Development/Nodules/Nodule-Detection-LUNA2016/processed_data_full_range_075mm/Bedisi__6349e9e60729640d01850aa3-f778a93bacec4124-1/Bedisi__6349e9e60729640d01850aa3-f778a93bacec4124-1_mask_0.nii.gz\n",
      "2023-10-13 13:21:01,405 INFO image_writer.py:197 - writing: /home/vlermakov/Development/Nodules/Nodule-Detection-LUNA2016/processed_data_full_range_075mm/Bedisi__6349e9e60729640d01850aa3-f778a93bacec4124-13/Bedisi__6349e9e60729640d01850aa3-f778a93bacec4124-13_image_0.nii.gz\n",
      "2023-10-13 13:21:01,588 INFO image_writer.py:197 - writing: /home/vlermakov/Development/Nodules/Nodule-Detection-LUNA2016/processed_data_full_range_075mm/Bedisi__6349e9e60729640d01850aa3-f778a93bacec4124-13/Bedisi__6349e9e60729640d01850aa3-f778a93bacec4124-13_mask_0.nii.gz\n",
      "2023-10-13 13:21:06,399 INFO image_writer.py:197 - writing: /home/vlermakov/Development/Nodules/Nodule-Detection-LUNA2016/processed_data_full_range_075mm/Izeyag__63a3402b167c5d09157b26a2-18ca029921401196-25/Izeyag__63a3402b167c5d09157b26a2-18ca029921401196-25_image_0.nii.gz\n",
      "2023-10-13 13:21:06,399 INFO image_writer.py:197 - writing: /home/vlermakov/Development/Nodules/Nodule-Detection-LUNA2016/processed_data_full_range_075mm/Izeyag__63a3402b167c5d09157b26a2-18ca029921401196-2/Izeyag__63a3402b167c5d09157b26a2-18ca029921401196-2_image_0.nii.gz\n",
      "2023-10-13 13:21:06,817 INFO image_writer.py:197 - writing: /home/vlermakov/Development/Nodules/Nodule-Detection-LUNA2016/processed_data_full_range_075mm/Izeyag__63a3402b167c5d09157b26a2-18ca029921401196-2/Izeyag__63a3402b167c5d09157b26a2-18ca029921401196-2_mask_0.nii.gz\n",
      "2023-10-13 13:21:06,824 INFO image_writer.py:197 - writing: /home/vlermakov/Development/Nodules/Nodule-Detection-LUNA2016/processed_data_full_range_075mm/Izeyag__63a3402b167c5d09157b26a2-18ca029921401196-25/Izeyag__63a3402b167c5d09157b26a2-18ca029921401196-25_mask_0.nii.gz\n"
     ]
    },
    {
     "name": "stderr",
     "output_type": "stream",
     "text": [
      "Loading dataset:  33%|████████████████████████████████████████████████████████████████████████▉                                                                                                                                                     | 199/606 [30:57<1:45:03, 15.49s/it]"
     ]
    },
    {
     "name": "stdout",
     "output_type": "stream",
     "text": [
      "2023-10-13 13:21:18,655 INFO image_writer.py:197 - writing: /home/vlermakov/Development/Nodules/Nodule-Detection-LUNA2016/processed_data_full_range_075mm/Izeyag__63a3402b167c5d09157b26a2-18ca029921401196-8/Izeyag__63a3402b167c5d09157b26a2-18ca029921401196-8_image_0.nii.gz\n",
      "2023-10-13 13:21:18,688 INFO image_writer.py:197 - writing: /home/vlermakov/Development/Nodules/Nodule-Detection-LUNA2016/processed_data_full_range_075mm/Izeyag__63a3402b167c5d09157b26a2-18ca029921401196-29/Izeyag__63a3402b167c5d09157b26a2-18ca029921401196-29_image_0.nii.gz\n",
      "2023-10-13 13:21:19,036 INFO image_writer.py:197 - writing: /home/vlermakov/Development/Nodules/Nodule-Detection-LUNA2016/processed_data_full_range_075mm/Izeyag__63a3402b167c5d09157b26a2-18ca029921401196-8/Izeyag__63a3402b167c5d09157b26a2-18ca029921401196-8_mask_0.nii.gz\n",
      "2023-10-13 13:21:19,133 INFO image_writer.py:197 - writing: /home/vlermakov/Development/Nodules/Nodule-Detection-LUNA2016/processed_data_full_range_075mm/Izeyag__63a3402b167c5d09157b26a2-18ca029921401196-29/Izeyag__63a3402b167c5d09157b26a2-18ca029921401196-29_mask_0.nii.gz\n",
      "2023-10-13 13:21:19,303 INFO image_writer.py:197 - writing: /home/vlermakov/Development/Nodules/Nodule-Detection-LUNA2016/processed_data_full_range_075mm/Izeyag__63a3402b167c5d09157b26a2-18ca029921401196-1/Izeyag__63a3402b167c5d09157b26a2-18ca029921401196-1_image_0.nii.gz\n",
      "2023-10-13 13:21:19,345 INFO image_writer.py:197 - writing: /home/vlermakov/Development/Nodules/Nodule-Detection-LUNA2016/processed_data_full_range_075mm/Izeyag__63a3402b167c5d09157b26a2-18ca029921401196-7/Izeyag__63a3402b167c5d09157b26a2-18ca029921401196-7_image_0.nii.gz\n"
     ]
    },
    {
     "name": "stderr",
     "output_type": "stream",
     "text": [
      "\r",
      "Loading dataset:  33%|█████████████████████████████████████████████████████████████████████████▎                                                                                                                                                    | 200/606 [31:00<1:21:21, 12.02s/it]"
     ]
    },
    {
     "name": "stdout",
     "output_type": "stream",
     "text": [
      "2023-10-13 13:21:28,943 INFO image_writer.py:197 - writing: /home/vlermakov/Development/Nodules/Nodule-Detection-LUNA2016/processed_data_full_range_075mm/Izeyag__63a3402b167c5d09157b26a2-18ca029921401196-1/Izeyag__63a3402b167c5d09157b26a2-18ca029921401196-1_mask_0.nii.gz\n",
      "2023-10-13 13:21:29,054 INFO image_writer.py:197 - writing: /home/vlermakov/Development/Nodules/Nodule-Detection-LUNA2016/processed_data_full_range_075mm/Izeyag__63a3402b167c5d09157b26a2-18ca029921401196-7/Izeyag__63a3402b167c5d09157b26a2-18ca029921401196-7_mask_0.nii.gz\n"
     ]
    },
    {
     "name": "stderr",
     "output_type": "stream",
     "text": [
      "Loading dataset:  33%|██████████████████████████████████████████████████████████████████████████                                                                                                                                                    | 202/606 [31:17<1:09:16, 10.29s/it]"
     ]
    },
    {
     "name": "stdout",
     "output_type": "stream",
     "text": [
      "2023-10-13 13:22:04,924 INFO image_writer.py:197 - writing: /home/vlermakov/Development/Nodules/Nodule-Detection-LUNA2016/processed_data_full_range_075mm/Bedisi__6349e9e60729640d01850aa3-f778a93bacec4124-9/Bedisi__6349e9e60729640d01850aa3-f778a93bacec4124-9_image_0.nii.gz\n",
      "2023-10-13 13:22:04,941 INFO image_writer.py:197 - writing: /home/vlermakov/Development/Nodules/Nodule-Detection-LUNA2016/processed_data_full_range_075mm/Bedisi__6349e9e60729640d01850aa3-f778a93bacec4124-10/Bedisi__6349e9e60729640d01850aa3-f778a93bacec4124-10_image_0.nii.gz\n",
      "2023-10-13 13:22:05,024 INFO image_writer.py:197 - writing: /home/vlermakov/Development/Nodules/Nodule-Detection-LUNA2016/processed_data_full_range_075mm/Bedisi__6349e9e60729640d01850aa3-f778a93bacec4124-9/Bedisi__6349e9e60729640d01850aa3-f778a93bacec4124-9_mask_0.nii.gz\n",
      "2023-10-13 13:22:05,035 INFO image_writer.py:197 - writing: /home/vlermakov/Development/Nodules/Nodule-Detection-LUNA2016/processed_data_full_range_075mm/Bedisi__6349e9e60729640d01850aa3-f778a93bacec4124-10/Bedisi__6349e9e60729640d01850aa3-f778a93bacec4124-10_mask_0.nii.gz\n",
      "2023-10-13 13:22:05,146 INFO image_writer.py:197 - writing: /home/vlermakov/Development/Nodules/Nodule-Detection-LUNA2016/processed_data_full_range_075mm/Caquirib__635059a1a5c9ac091275fb42-a39a2ca509a42b23-5/Caquirib__635059a1a5c9ac091275fb42-a39a2ca509a42b23-5_image_0.nii.gz\n"
     ]
    },
    {
     "name": "stderr",
     "output_type": "stream",
     "text": [
      "Loading dataset:  34%|████████████████████████████████████████████████████████████████████████████▌                                                                                                                                                   | 207/606 [31:54<53:08,  7.99s/it]"
     ]
    },
    {
     "name": "stdout",
     "output_type": "stream",
     "text": [
      "2023-10-13 13:22:14,366 INFO image_writer.py:197 - writing: /home/vlermakov/Development/Nodules/Nodule-Detection-LUNA2016/processed_data_full_range_075mm/Caquirib__635059a1a5c9ac091275fb42-a39a2ca509a42b23-2/Caquirib__635059a1a5c9ac091275fb42-a39a2ca509a42b23-2_image_0.nii.gz\n",
      "2023-10-13 13:22:14,605 INFO image_writer.py:197 - writing: /home/vlermakov/Development/Nodules/Nodule-Detection-LUNA2016/processed_data_full_range_075mm/Caquirib__635059a1a5c9ac091275fb42-a39a2ca509a42b23-5/Caquirib__635059a1a5c9ac091275fb42-a39a2ca509a42b23-5_mask_0.nii.gz\n",
      "2023-10-13 13:22:14,773 INFO image_writer.py:197 - writing: /home/vlermakov/Development/Nodules/Nodule-Detection-LUNA2016/processed_data_full_range_075mm/Caquirib__635059a1a5c9ac091275fb42-a39a2ca509a42b23-2/Caquirib__635059a1a5c9ac091275fb42-a39a2ca509a42b23-2_mask_0.nii.gz\n"
     ]
    },
    {
     "name": "stderr",
     "output_type": "stream",
     "text": [
      "Loading dataset:  34%|█████████████████████████████████████████████████████████████████████████████▎                                                                                                                                                  | 209/606 [32:06<47:52,  7.23s/it]"
     ]
    },
    {
     "name": "stdout",
     "output_type": "stream",
     "text": [
      "2023-10-13 13:22:25,944 INFO image_writer.py:197 - writing: /home/vlermakov/Development/Nodules/Nodule-Detection-LUNA2016/processed_data_full_range_075mm/Caquirib__635059a1a5c9ac091275fb42-a39a2ca509a42b23-3/Caquirib__635059a1a5c9ac091275fb42-a39a2ca509a42b23-3_image_0.nii.gz\n",
      "2023-10-13 13:22:26,215 INFO image_writer.py:197 - writing: /home/vlermakov/Development/Nodules/Nodule-Detection-LUNA2016/processed_data_full_range_075mm/Caquirib__635059a1a5c9ac091275fb42-a39a2ca509a42b23-3/Caquirib__635059a1a5c9ac091275fb42-a39a2ca509a42b23-3_mask_0.nii.gz\n"
     ]
    },
    {
     "name": "stderr",
     "output_type": "stream",
     "text": [
      "\r",
      "Loading dataset:  35%|█████████████████████████████████████████████████████████████████████████████▌                                                                                                                                                  | 210/606 [32:06<37:08,  5.63s/it]"
     ]
    },
    {
     "name": "stdout",
     "output_type": "stream",
     "text": [
      "2023-10-13 13:22:30,918 INFO image_writer.py:197 - writing: /home/vlermakov/Development/Nodules/Nodule-Detection-LUNA2016/processed_data_full_range_075mm/Negoquof__639c0414668b9d08de9ff5a2-e4950f84c0405373-32/Negoquof__639c0414668b9d08de9ff5a2-e4950f84c0405373-32_image_0.nii.gz\n",
      "2023-10-13 13:22:31,274 INFO image_writer.py:197 - writing: /home/vlermakov/Development/Nodules/Nodule-Detection-LUNA2016/processed_data_full_range_075mm/Negoquof__639c0414668b9d08de9ff5a2-e4950f84c0405373-32/Negoquof__639c0414668b9d08de9ff5a2-e4950f84c0405373-32_mask_0.nii.gz\n",
      "2023-10-13 13:22:31,447 INFO image_writer.py:197 - writing: /home/vlermakov/Development/Nodules/Nodule-Detection-LUNA2016/processed_data_full_range_075mm/Negoquof__639c0414668b9d08de9ff5a2-e4950f84c0405373-23/Negoquof__639c0414668b9d08de9ff5a2-e4950f84c0405373-23_image_0.nii.gz\n",
      "2023-10-13 13:22:31,539 INFO image_writer.py:197 - writing: /home/vlermakov/Development/Nodules/Nodule-Detection-LUNA2016/processed_data_full_range_075mm/Negoquof__639c0414668b9d08de9ff5a2-e4950f84c0405373-23/Negoquof__639c0414668b9d08de9ff5a2-e4950f84c0405373-23_mask_0.nii.gz\n"
     ]
    },
    {
     "name": "stderr",
     "output_type": "stream",
     "text": [
      "Loading dataset:  35%|██████████████████████████████████████████████████████████████████████████████▎                                                                                                                                                 | 212/606 [32:20<39:07,  5.96s/it]"
     ]
    },
    {
     "name": "stdout",
     "output_type": "stream",
     "text": [
      "2023-10-13 13:23:08,543 INFO image_writer.py:197 - writing: /home/vlermakov/Development/Nodules/Nodule-Detection-LUNA2016/processed_data_full_range_075mm/Negoquof__639c0414668b9d08de9ff5a2-e4950f84c0405373-1/Negoquof__639c0414668b9d08de9ff5a2-e4950f84c0405373-1_image_0.nii.gz\n",
      "2023-10-13 13:23:09,029 INFO image_writer.py:197 - writing: /home/vlermakov/Development/Nodules/Nodule-Detection-LUNA2016/processed_data_full_range_075mm/Negoquof__639c0414668b9d08de9ff5a2-e4950f84c0405373-1/Negoquof__639c0414668b9d08de9ff5a2-e4950f84c0405373-1_mask_0.nii.gz\n"
     ]
    },
    {
     "name": "stderr",
     "output_type": "stream",
     "text": [
      "\r",
      "Loading dataset:  35%|██████████████████████████████████████████████████████████████████████████████                                                                                                                                                | 213/606 [32:49<1:20:33, 12.30s/it]"
     ]
    },
    {
     "name": "stdout",
     "output_type": "stream",
     "text": [
      "2023-10-13 13:23:17,967 INFO image_writer.py:197 - writing: /home/vlermakov/Development/Nodules/Nodule-Detection-LUNA2016/processed_data_full_range_075mm/Beprequi__6363155dd8eaa50923c133e8-818b86a23baa186a-4/Beprequi__6363155dd8eaa50923c133e8-818b86a23baa186a-4_image_0.nii.gz\n",
      "2023-10-13 13:23:18,120 INFO image_writer.py:197 - writing: /home/vlermakov/Development/Nodules/Nodule-Detection-LUNA2016/processed_data_full_range_075mm/Beprequi__6363155dd8eaa50923c133e8-818b86a23baa186a-64/Beprequi__6363155dd8eaa50923c133e8-818b86a23baa186a-64_image_0.nii.gz\n",
      "2023-10-13 13:23:18,196 INFO image_writer.py:197 - writing: /home/vlermakov/Development/Nodules/Nodule-Detection-LUNA2016/processed_data_full_range_075mm/Beprequi__6363155dd8eaa50923c133e8-818b86a23baa186a-4/Beprequi__6363155dd8eaa50923c133e8-818b86a23baa186a-4_mask_0.nii.gz\n",
      "2023-10-13 13:23:18,315 INFO image_writer.py:197 - writing: /home/vlermakov/Development/Nodules/Nodule-Detection-LUNA2016/processed_data_full_range_075mm/Beprequi__6363155dd8eaa50923c133e8-818b86a23baa186a-47/Beprequi__6363155dd8eaa50923c133e8-818b86a23baa186a-47_image_0.nii.gz\n",
      "2023-10-13 13:23:18,798 INFO image_writer.py:197 - writing: /home/vlermakov/Development/Nodules/Nodule-Detection-LUNA2016/processed_data_full_range_075mm/Beprequi__6363155dd8eaa50923c133e8-818b86a23baa186a-64/Beprequi__6363155dd8eaa50923c133e8-818b86a23baa186a-64_mask_0.nii.gz\n",
      "2023-10-13 13:23:26,304 INFO image_writer.py:197 - writing: /home/vlermakov/Development/Nodules/Nodule-Detection-LUNA2016/processed_data_full_range_075mm/Beprequi__6363155dd8eaa50923c133e8-818b86a23baa186a-47/Beprequi__6363155dd8eaa50923c133e8-818b86a23baa186a-47_mask_0.nii.gz\n"
     ]
    },
    {
     "name": "stderr",
     "output_type": "stream",
     "text": [
      "\r",
      "Loading dataset:  35%|██████████████████████████████████████████████████████████████████████████████▍                                                                                                                                               | 214/606 [33:10<1:36:38, 14.79s/it]"
     ]
    },
    {
     "name": "stdout",
     "output_type": "stream",
     "text": [
      "2023-10-13 13:23:35,286 INFO image_writer.py:197 - writing: /home/vlermakov/Development/Nodules/Nodule-Detection-LUNA2016/processed_data_full_range_075mm/Beprequi__6363155dd8eaa50923c133e8-818b86a23baa186a-7/Beprequi__6363155dd8eaa50923c133e8-818b86a23baa186a-7_image_0.nii.gz\n",
      "2023-10-13 13:23:35,310 INFO image_writer.py:197 - writing: /home/vlermakov/Development/Nodules/Nodule-Detection-LUNA2016/processed_data_full_range_075mm/Beprequi__6363155dd8eaa50923c133e8-818b86a23baa186a-1/Beprequi__6363155dd8eaa50923c133e8-818b86a23baa186a-1_image_0.nii.gz\n",
      "2023-10-13 13:23:35,336 INFO image_writer.py:197 - writing: /home/vlermakov/Development/Nodules/Nodule-Detection-LUNA2016/processed_data_full_range_075mm/Puetsoybad__63b6f27d2cb36d09226854d1-cfc2e668209c9703-3/Puetsoybad__63b6f27d2cb36d09226854d1-cfc2e668209c9703-3_image_0.nii.gz\n",
      "2023-10-13 13:23:35,379 INFO image_writer.py:197 - writing: /home/vlermakov/Development/Nodules/Nodule-Detection-LUNA2016/processed_data_full_range_075mm/Beprequi__6363155dd8eaa50923c133e8-818b86a23baa186a-18/Beprequi__6363155dd8eaa50923c133e8-818b86a23baa186a-18_image_0.nii.gz\n",
      "2023-10-13 13:23:35,405 INFO image_writer.py:197 - writing: /home/vlermakov/Development/Nodules/Nodule-Detection-LUNA2016/processed_data_full_range_075mm/Beprequi__6363155dd8eaa50923c133e8-818b86a23baa186a-7/Beprequi__6363155dd8eaa50923c133e8-818b86a23baa186a-7_mask_0.nii.gz\n",
      "2023-10-13 13:23:35,430 INFO image_writer.py:197 - writing: /home/vlermakov/Development/Nodules/Nodule-Detection-LUNA2016/processed_data_full_range_075mm/Beprequi__6363155dd8eaa50923c133e8-818b86a23baa186a-1/Beprequi__6363155dd8eaa50923c133e8-818b86a23baa186a-1_mask_0.nii.gz\n",
      "2023-10-13 13:23:35,489 INFO image_writer.py:197 - writing: /home/vlermakov/Development/Nodules/Nodule-Detection-LUNA2016/processed_data_full_range_075mm/Puetsoybad__63b6f27d2cb36d09226854d1-cfc2e668209c9703-3/Puetsoybad__63b6f27d2cb36d09226854d1-cfc2e668209c9703-3_mask_0.nii.gz\n",
      "2023-10-13 13:23:47,986 INFO image_writer.py:197 - writing: /home/vlermakov/Development/Nodules/Nodule-Detection-LUNA2016/processed_data_full_range_075mm/Beprequi__6363155dd8eaa50923c133e8-818b86a23baa186a-18/Beprequi__6363155dd8eaa50923c133e8-818b86a23baa186a-18_mask_0.nii.gz\n"
     ]
    },
    {
     "name": "stderr",
     "output_type": "stream",
     "text": [
      "Loading dataset:  36%|████████████████████████████████████████████████████████████████████████████████▉                                                                                                                                               | 219/606 [33:34<39:04,  6.06s/it]"
     ]
    },
    {
     "name": "stdout",
     "output_type": "stream",
     "text": [
      "2023-10-13 13:24:15,309 INFO image_writer.py:197 - writing: /home/vlermakov/Development/Nodules/Nodule-Detection-LUNA2016/processed_data_full_range_075mm/Scentagack__6346f09244ad990a25e02b29-42516c0c3f6c8086-9/Scentagack__6346f09244ad990a25e02b29-42516c0c3f6c8086-9_image_0.nii.gz\n",
      "2023-10-13 13:24:15,466 INFO image_writer.py:197 - writing: /home/vlermakov/Development/Nodules/Nodule-Detection-LUNA2016/processed_data_full_range_075mm/Scentagack__6346f09244ad990a25e02b29-42516c0c3f6c8086-9/Scentagack__6346f09244ad990a25e02b29-42516c0c3f6c8086-9_mask_0.nii.gz\n",
      "2023-10-13 13:24:15,597 INFO image_writer.py:197 - writing: /home/vlermakov/Development/Nodules/Nodule-Detection-LUNA2016/processed_data_full_range_075mm/Scentagack__6346f09244ad990a25e02b29-42516c0c3f6c8086-3/Scentagack__6346f09244ad990a25e02b29-42516c0c3f6c8086-3_image_0.nii.gz\n",
      "2023-10-13 13:24:19,823 INFO image_writer.py:197 - writing: /home/vlermakov/Development/Nodules/Nodule-Detection-LUNA2016/processed_data_full_range_075mm/Scentagack__6346f09244ad990a25e02b29-42516c0c3f6c8086-3/Scentagack__6346f09244ad990a25e02b29-42516c0c3f6c8086-3_mask_0.nii.gz\n",
      "2023-10-13 13:24:25,708 INFO image_writer.py:197 - writing: /home/vlermakov/Development/Nodules/Nodule-Detection-LUNA2016/processed_data_full_range_075mm/Scentagack__6346f09244ad990a25e02b29-42516c0c3f6c8086-4/Scentagack__6346f09244ad990a25e02b29-42516c0c3f6c8086-4_image_0.nii.gz\n",
      "2023-10-13 13:24:25,864 INFO image_writer.py:197 - writing: /home/vlermakov/Development/Nodules/Nodule-Detection-LUNA2016/processed_data_full_range_075mm/Scentagack__6346f09244ad990a25e02b29-42516c0c3f6c8086-13/Scentagack__6346f09244ad990a25e02b29-42516c0c3f6c8086-13_image_0.nii.gz\n",
      "2023-10-13 13:24:25,879 INFO image_writer.py:197 - writing: /home/vlermakov/Development/Nodules/Nodule-Detection-LUNA2016/processed_data_full_range_075mm/Scentagack__6346f09244ad990a25e02b29-42516c0c3f6c8086-4/Scentagack__6346f09244ad990a25e02b29-42516c0c3f6c8086-4_mask_0.nii.gz\n",
      "2023-10-13 13:24:25,977 INFO image_writer.py:197 - writing: /home/vlermakov/Development/Nodules/Nodule-Detection-LUNA2016/processed_data_full_range_075mm/Scentagack__6346f09244ad990a25e02b29-42516c0c3f6c8086-7/Scentagack__6346f09244ad990a25e02b29-42516c0c3f6c8086-7_image_0.nii.gz\n",
      "2023-10-13 13:24:26,072 INFO image_writer.py:197 - writing: /home/vlermakov/Development/Nodules/Nodule-Detection-LUNA2016/processed_data_full_range_075mm/Puetsoybad__63b6f27d2cb36d09226854d1-cfc2e668209c9703-2/Puetsoybad__63b6f27d2cb36d09226854d1-cfc2e668209c9703-2_image_0.nii.gz\n",
      "2023-10-13 13:24:26,268 INFO image_writer.py:197 - writing: /home/vlermakov/Development/Nodules/Nodule-Detection-LUNA2016/processed_data_full_range_075mm/Scentagack__6346f09244ad990a25e02b29-42516c0c3f6c8086-13/Scentagack__6346f09244ad990a25e02b29-42516c0c3f6c8086-13_mask_0.nii.gz\n",
      "2023-10-13 13:24:30,396 INFO image_writer.py:197 - writing: /home/vlermakov/Development/Nodules/Nodule-Detection-LUNA2016/processed_data_full_range_075mm/Scentagack__6346f09244ad990a25e02b29-42516c0c3f6c8086-7/Scentagack__6346f09244ad990a25e02b29-42516c0c3f6c8086-7_mask_0.nii.gz\n",
      "2023-10-13 13:24:30,403 INFO image_writer.py:197 - writing: /home/vlermakov/Development/Nodules/Nodule-Detection-LUNA2016/processed_data_full_range_075mm/Puetsoybad__63b6f27d2cb36d09226854d1-cfc2e668209c9703-2/Puetsoybad__63b6f27d2cb36d09226854d1-cfc2e668209c9703-2_mask_0.nii.gz\n"
     ]
    },
    {
     "name": "stderr",
     "output_type": "stream",
     "text": [
      "Loading dataset:  37%|█████████████████████████████████████████████████████████████████████████████████▎                                                                                                                                            | 222/606 [34:25<1:11:54, 11.24s/it]"
     ]
    },
    {
     "name": "stdout",
     "output_type": "stream",
     "text": [
      "2023-10-13 13:24:45,693 INFO image_writer.py:197 - writing: /home/vlermakov/Development/Nodules/Nodule-Detection-LUNA2016/processed_data_full_range_075mm/Bupekuet__63acf26b8266cc0972498835-57b9113858dfa0de-7/Bupekuet__63acf26b8266cc0972498835-57b9113858dfa0de-7_image_0.nii.gz\n",
      "2023-10-13 13:24:46,039 INFO image_writer.py:197 - writing: /home/vlermakov/Development/Nodules/Nodule-Detection-LUNA2016/processed_data_full_range_075mm/Bupekuet__63acf26b8266cc0972498835-57b9113858dfa0de-7/Bupekuet__63acf26b8266cc0972498835-57b9113858dfa0de-7_mask_0.nii.gz\n"
     ]
    },
    {
     "name": "stderr",
     "output_type": "stream",
     "text": [
      "\r",
      "Loading dataset:  37%|███████████████████████████████████████████████████████████████████████████████████▉                                                                                                                                            | 227/606 [34:27<28:02,  4.44s/it]"
     ]
    },
    {
     "name": "stdout",
     "output_type": "stream",
     "text": [
      "2023-10-13 13:25:11,908 INFO image_writer.py:197 - writing: /home/vlermakov/Development/Nodules/Nodule-Detection-LUNA2016/processed_data_full_range_075mm/Keralud__63695ce3476a8c0923afd4df-e6de3c43e62ae678-1/Keralud__63695ce3476a8c0923afd4df-e6de3c43e62ae678-1_image_0.nii.gz\n",
      "2023-10-13 13:25:12,582 INFO image_writer.py:197 - writing: /home/vlermakov/Development/Nodules/Nodule-Detection-LUNA2016/processed_data_full_range_075mm/Keralud__63695ce3476a8c0923afd4df-e6de3c43e62ae678-1/Keralud__63695ce3476a8c0923afd4df-e6de3c43e62ae678-1_mask_0.nii.gz\n"
     ]
    },
    {
     "name": "stderr",
     "output_type": "stream",
     "text": [
      "\r",
      "Loading dataset:  38%|████████████████████████████████████████████████████████████████████████████████████▎                                                                                                                                           | 228/606 [35:00<55:48,  8.86s/it]"
     ]
    },
    {
     "name": "stdout",
     "output_type": "stream",
     "text": [
      "2023-10-13 13:25:22,598 INFO image_writer.py:197 - writing: /home/vlermakov/Development/Nodules/Nodule-Detection-LUNA2016/processed_data_full_range_075mm/Keralud__63695ce3476a8c0923afd4df-e6de3c43e62ae678-2/Keralud__63695ce3476a8c0923afd4df-e6de3c43e62ae678-2_image_0.nii.gz\n",
      "2023-10-13 13:25:23,309 INFO image_writer.py:197 - writing: /home/vlermakov/Development/Nodules/Nodule-Detection-LUNA2016/processed_data_full_range_075mm/Keralud__63695ce3476a8c0923afd4df-e6de3c43e62ae678-2/Keralud__63695ce3476a8c0923afd4df-e6de3c43e62ae678-2_mask_0.nii.gz\n"
     ]
    },
    {
     "name": "stderr",
     "output_type": "stream",
     "text": [
      "\r",
      "Loading dataset:  38%|████████████████████████████████████████████████████████████████████████████████████▋                                                                                                                                           | 229/606 [35:10<56:09,  8.94s/it]"
     ]
    },
    {
     "name": "stdout",
     "output_type": "stream",
     "text": [
      "2023-10-13 13:25:31,959 INFO image_writer.py:197 - writing: /home/vlermakov/Development/Nodules/Nodule-Detection-LUNA2016/processed_data_full_range_075mm/Keralud__63695ce3476a8c0923afd4df-e6de3c43e62ae678-9/Keralud__63695ce3476a8c0923afd4df-e6de3c43e62ae678-9_image_0.nii.gz\n",
      "2023-10-13 13:25:31,990 INFO image_writer.py:197 - writing: /home/vlermakov/Development/Nodules/Nodule-Detection-LUNA2016/processed_data_full_range_075mm/Keralud__63695ce3476a8c0923afd4df-e6de3c43e62ae678-4/Keralud__63695ce3476a8c0923afd4df-e6de3c43e62ae678-4_image_0.nii.gz\n",
      "2023-10-13 13:25:32,182 INFO image_writer.py:197 - writing: /home/vlermakov/Development/Nodules/Nodule-Detection-LUNA2016/processed_data_full_range_075mm/Keralud__63695ce3476a8c0923afd4df-e6de3c43e62ae678-9/Keralud__63695ce3476a8c0923afd4df-e6de3c43e62ae678-9_mask_0.nii.gz\n",
      "2023-10-13 13:25:32,189 INFO image_writer.py:197 - writing: /home/vlermakov/Development/Nodules/Nodule-Detection-LUNA2016/processed_data_full_range_075mm/Keralud__63695ce3476a8c0923afd4df-e6de3c43e62ae678-3/Keralud__63695ce3476a8c0923afd4df-e6de3c43e62ae678-3_image_0.nii.gz\n",
      "2023-10-13 13:25:32,467 INFO image_writer.py:197 - writing: /home/vlermakov/Development/Nodules/Nodule-Detection-LUNA2016/processed_data_full_range_075mm/Keralud__63695ce3476a8c0923afd4df-e6de3c43e62ae678-4/Keralud__63695ce3476a8c0923afd4df-e6de3c43e62ae678-4_mask_0.nii.gz\n",
      "2023-10-13 13:25:32,611 INFO image_writer.py:197 - writing: /home/vlermakov/Development/Nodules/Nodule-Detection-LUNA2016/processed_data_full_range_075mm/Keralud__63695ce3476a8c0923afd4df-e6de3c43e62ae678-3/Keralud__63695ce3476a8c0923afd4df-e6de3c43e62ae678-3_mask_0.nii.gz\n"
     ]
    },
    {
     "name": "stderr",
     "output_type": "stream",
     "text": [
      "Loading dataset:  38%|█████████████████████████████████████████████████████████████████████████████████████▍                                                                                                                                          | 231/606 [35:24<51:05,  8.17s/it]"
     ]
    },
    {
     "name": "stdout",
     "output_type": "stream",
     "text": [
      "2023-10-13 13:25:45,221 INFO image_writer.py:197 - writing: /home/vlermakov/Development/Nodules/Nodule-Detection-LUNA2016/processed_data_full_range_075mm/Oyisok__6358666125643909d0d3215b-f7ab8d3fe9f14deb-4/Oyisok__6358666125643909d0d3215b-f7ab8d3fe9f14deb-4_image_0.nii.gz\n",
      "2023-10-13 13:25:45,366 INFO image_writer.py:197 - writing: /home/vlermakov/Development/Nodules/Nodule-Detection-LUNA2016/processed_data_full_range_075mm/Oyisok__6358666125643909d0d3215b-f7ab8d3fe9f14deb-1/Oyisok__6358666125643909d0d3215b-f7ab8d3fe9f14deb-1_image_0.nii.gz\n",
      "2023-10-13 13:25:45,957 INFO image_writer.py:197 - writing: /home/vlermakov/Development/Nodules/Nodule-Detection-LUNA2016/processed_data_full_range_075mm/Oyisok__6358666125643909d0d3215b-f7ab8d3fe9f14deb-4/Oyisok__6358666125643909d0d3215b-f7ab8d3fe9f14deb-4_mask_0.nii.gz\n",
      "2023-10-13 13:25:46,130 INFO image_writer.py:197 - writing: /home/vlermakov/Development/Nodules/Nodule-Detection-LUNA2016/processed_data_full_range_075mm/Oyisok__6358666125643909d0d3215b-f7ab8d3fe9f14deb-1/Oyisok__6358666125643909d0d3215b-f7ab8d3fe9f14deb-1_mask_0.nii.gz\n"
     ]
    },
    {
     "name": "stderr",
     "output_type": "stream",
     "text": [
      "Loading dataset:  39%|██████████████████████████████████████████████████████████████████████████████████████▍                                                                                                                                         | 234/606 [35:33<34:23,  5.55s/it]"
     ]
    },
    {
     "name": "stdout",
     "output_type": "stream",
     "text": [
      "2023-10-13 13:25:54,614 INFO image_writer.py:197 - writing: /home/vlermakov/Development/Nodules/Nodule-Detection-LUNA2016/processed_data_full_range_075mm/Pibugon__6345d37e143e690af7bfb444-a50c5072fdc377f3-2/Pibugon__6345d37e143e690af7bfb444-a50c5072fdc377f3-2_image_0.nii.gz\n",
      "2023-10-13 13:25:55,561 INFO image_writer.py:197 - writing: /home/vlermakov/Development/Nodules/Nodule-Detection-LUNA2016/processed_data_full_range_075mm/Pibugon__6345d37e143e690af7bfb444-a50c5072fdc377f3-2/Pibugon__6345d37e143e690af7bfb444-a50c5072fdc377f3-2_mask_0.nii.gz\n"
     ]
    },
    {
     "name": "stderr",
     "output_type": "stream",
     "text": [
      "\r",
      "Loading dataset:  39%|██████████████████████████████████████████████████████████████████████████████████████▊                                                                                                                                         | 235/606 [35:36<30:34,  4.94s/it]"
     ]
    },
    {
     "name": "stdout",
     "output_type": "stream",
     "text": [
      "2023-10-13 13:26:10,545 INFO image_writer.py:197 - writing: /home/vlermakov/Development/Nodules/Nodule-Detection-LUNA2016/processed_data_full_range_075mm/Lomubroy__63518eef39ed0a09aea74943-dbedb9e5d8f6f18d-3/Lomubroy__63518eef39ed0a09aea74943-dbedb9e5d8f6f18d-3_image_0.nii.gz\n",
      "2023-10-13 13:26:10,695 INFO image_writer.py:197 - writing: /home/vlermakov/Development/Nodules/Nodule-Detection-LUNA2016/processed_data_full_range_075mm/Lomubroy__63518eef39ed0a09aea74943-dbedb9e5d8f6f18d-3/Lomubroy__63518eef39ed0a09aea74943-dbedb9e5d8f6f18d-3_mask_0.nii.gz\n",
      "2023-10-13 13:26:26,424 INFO image_writer.py:197 - writing: /home/vlermakov/Development/Nodules/Nodule-Detection-LUNA2016/processed_data_full_range_075mm/Pibugon__6345d37e143e690af7bfb444-a50c5072fdc377f3-1/Pibugon__6345d37e143e690af7bfb444-a50c5072fdc377f3-1_image_0.nii.gz\n",
      "2023-10-13 13:26:26,443 INFO image_writer.py:197 - writing: /home/vlermakov/Development/Nodules/Nodule-Detection-LUNA2016/processed_data_full_range_075mm/Lebsuneln__6366c0e3a7f60e0b5f531a3b-0e40ec6935c8b09f-4/Lebsuneln__6366c0e3a7f60e0b5f531a3b-0e40ec6935c8b09f-4_image_0.nii.gz\n",
      "2023-10-13 13:26:26,459 INFO image_writer.py:197 - writing: /home/vlermakov/Development/Nodules/Nodule-Detection-LUNA2016/processed_data_full_range_075mm/Lebsuneln__6366c0e3a7f60e0b5f531a3b-0e40ec6935c8b09f-3/Lebsuneln__6366c0e3a7f60e0b5f531a3b-0e40ec6935c8b09f-3_image_0.nii.gz\n",
      "2023-10-13 13:26:26,524 INFO image_writer.py:197 - writing: /home/vlermakov/Development/Nodules/Nodule-Detection-LUNA2016/processed_data_full_range_075mm/Lebsuneln__6366c0e3a7f60e0b5f531a3b-0e40ec6935c8b09f-15/Lebsuneln__6366c0e3a7f60e0b5f531a3b-0e40ec6935c8b09f-15_image_0.nii.gz\n",
      "2023-10-13 13:26:26,701 INFO image_writer.py:197 - writing: /home/vlermakov/Development/Nodules/Nodule-Detection-LUNA2016/processed_data_full_range_075mm/Lebsuneln__6366c0e3a7f60e0b5f531a3b-0e40ec6935c8b09f-10/Lebsuneln__6366c0e3a7f60e0b5f531a3b-0e40ec6935c8b09f-10_image_0.nii.gz\n",
      "2023-10-13 13:26:26,793 INFO image_writer.py:197 - writing: /home/vlermakov/Development/Nodules/Nodule-Detection-LUNA2016/processed_data_full_range_075mm/Pibugon__6345d37e143e690af7bfb444-a50c5072fdc377f3-1/Pibugon__6345d37e143e690af7bfb444-a50c5072fdc377f3-1_mask_0.nii.gz\n",
      "2023-10-13 13:26:26,883 INFO image_writer.py:197 - writing: /home/vlermakov/Development/Nodules/Nodule-Detection-LUNA2016/processed_data_full_range_075mm/Lebsuneln__6366c0e3a7f60e0b5f531a3b-0e40ec6935c8b09f-22/Lebsuneln__6366c0e3a7f60e0b5f531a3b-0e40ec6935c8b09f-22_image_0.nii.gz\n",
      "2023-10-13 13:26:27,062 INFO image_writer.py:197 - writing: /home/vlermakov/Development/Nodules/Nodule-Detection-LUNA2016/processed_data_full_range_075mm/Lebsuneln__6366c0e3a7f60e0b5f531a3b-0e40ec6935c8b09f-4/Lebsuneln__6366c0e3a7f60e0b5f531a3b-0e40ec6935c8b09f-4_mask_0.nii.gz\n"
     ]
    },
    {
     "name": "stderr",
     "output_type": "stream",
     "text": [
      "Loading dataset:  39%|██████████████████████████████████████████████████████████████████████████████████████▊                                                                                                                                       | 237/606 [36:13<1:00:12,  9.79s/it]"
     ]
    },
    {
     "name": "stdout",
     "output_type": "stream",
     "text": [
      "2023-10-13 13:26:32,921 INFO image_writer.py:197 - writing: /home/vlermakov/Development/Nodules/Nodule-Detection-LUNA2016/processed_data_full_range_075mm/Lebsuneln__6366c0e3a7f60e0b5f531a3b-0e40ec6935c8b09f-15/Lebsuneln__6366c0e3a7f60e0b5f531a3b-0e40ec6935c8b09f-15_mask_0.nii.gz\n",
      "2023-10-13 13:26:32,936 INFO image_writer.py:197 - writing: /home/vlermakov/Development/Nodules/Nodule-Detection-LUNA2016/processed_data_full_range_075mm/Lebsuneln__6366c0e3a7f60e0b5f531a3b-0e40ec6935c8b09f-3/Lebsuneln__6366c0e3a7f60e0b5f531a3b-0e40ec6935c8b09f-3_mask_0.nii.gz\n",
      "2023-10-13 13:26:32,941 INFO image_writer.py:197 - writing: /home/vlermakov/Development/Nodules/Nodule-Detection-LUNA2016/processed_data_full_range_075mm/Lebsuneln__6366c0e3a7f60e0b5f531a3b-0e40ec6935c8b09f-10/Lebsuneln__6366c0e3a7f60e0b5f531a3b-0e40ec6935c8b09f-10_mask_0.nii.gz\n",
      "2023-10-13 13:26:49,914 INFO image_writer.py:197 - writing: /home/vlermakov/Development/Nodules/Nodule-Detection-LUNA2016/processed_data_full_range_075mm/Lebsuneln__6366c0e3a7f60e0b5f531a3b-0e40ec6935c8b09f-22/Lebsuneln__6366c0e3a7f60e0b5f531a3b-0e40ec6935c8b09f-22_mask_0.nii.gz\n"
     ]
    },
    {
     "name": "stderr",
     "output_type": "stream",
     "text": [
      "Loading dataset:  39%|███████████████████████████████████████████████████████████████████████████████████████▌                                                                                                                                      | 239/606 [36:37<1:03:28, 10.38s/it]"
     ]
    },
    {
     "name": "stdout",
     "output_type": "stream",
     "text": [
      "2023-10-13 13:27:00,457 INFO image_writer.py:197 - writing: /home/vlermakov/Development/Nodules/Nodule-Detection-LUNA2016/processed_data_full_range_075mm/Lebsuneln__6366c0e3a7f60e0b5f531a3b-0e40ec6935c8b09f-16/Lebsuneln__6366c0e3a7f60e0b5f531a3b-0e40ec6935c8b09f-16_image_0.nii.gz\n",
      "2023-10-13 13:27:01,020 INFO image_writer.py:197 - writing: /home/vlermakov/Development/Nodules/Nodule-Detection-LUNA2016/processed_data_full_range_075mm/Lebsuneln__6366c0e3a7f60e0b5f531a3b-0e40ec6935c8b09f-16/Lebsuneln__6366c0e3a7f60e0b5f531a3b-0e40ec6935c8b09f-16_mask_0.nii.gz\n"
     ]
    },
    {
     "name": "stderr",
     "output_type": "stream",
     "text": [
      "\r",
      "Loading dataset:  40%|█████████████████████████████████████████████████████████████████████████████████████████▊                                                                                                                                      | 243/606 [36:42<28:43,  4.75s/it]"
     ]
    },
    {
     "name": "stdout",
     "output_type": "stream",
     "text": [
      "2023-10-13 13:27:21,905 INFO image_writer.py:197 - writing: /home/vlermakov/Development/Nodules/Nodule-Detection-LUNA2016/processed_data_full_range_075mm/Inafom__636437190e8c650908ce83da-6241368516c25566-4/Inafom__636437190e8c650908ce83da-6241368516c25566-4_image_0.nii.gz\n",
      "2023-10-13 13:27:22,515 INFO image_writer.py:197 - writing: /home/vlermakov/Development/Nodules/Nodule-Detection-LUNA2016/processed_data_full_range_075mm/Inafom__636437190e8c650908ce83da-6241368516c25566-4/Inafom__636437190e8c650908ce83da-6241368516c25566-4_mask_0.nii.gz\n",
      "2023-10-13 13:27:22,630 INFO image_writer.py:197 - writing: /home/vlermakov/Development/Nodules/Nodule-Detection-LUNA2016/processed_data_full_range_075mm/Inafom__636437190e8c650908ce83da-6241368516c25566-1/Inafom__636437190e8c650908ce83da-6241368516c25566-1_image_0.nii.gz\n",
      "2023-10-13 13:27:22,926 INFO image_writer.py:197 - writing: /home/vlermakov/Development/Nodules/Nodule-Detection-LUNA2016/processed_data_full_range_075mm/Inafom__636437190e8c650908ce83da-6241368516c25566-1/Inafom__636437190e8c650908ce83da-6241368516c25566-1_mask_0.nii.gz\n",
      "2023-10-13 13:27:34,224 INFO image_writer.py:197 - writing: /home/vlermakov/Development/Nodules/Nodule-Detection-LUNA2016/processed_data_full_range_075mm/Lebsuneln__6366c0e3a7f60e0b5f531a3b-0e40ec6935c8b09f-2/Lebsuneln__6366c0e3a7f60e0b5f531a3b-0e40ec6935c8b09f-2_image_0.nii.gz\n",
      "2023-10-13 13:27:34,633 INFO image_writer.py:197 - writing: /home/vlermakov/Development/Nodules/Nodule-Detection-LUNA2016/processed_data_full_range_075mm/Lebsuneln__6366c0e3a7f60e0b5f531a3b-0e40ec6935c8b09f-2/Lebsuneln__6366c0e3a7f60e0b5f531a3b-0e40ec6935c8b09f-2_mask_0.nii.gz\n"
     ]
    },
    {
     "name": "stderr",
     "output_type": "stream",
     "text": [
      "Loading dataset:  41%|██████████████████████████████████████████████████████████████████████████████████████████▉                                                                                                                                     | 246/606 [37:24<44:49,  7.47s/it]"
     ]
    },
    {
     "name": "stdout",
     "output_type": "stream",
     "text": [
      "2023-10-13 13:27:45,609 INFO image_writer.py:197 - writing: /home/vlermakov/Development/Nodules/Nodule-Detection-LUNA2016/processed_data_full_range_075mm/Inafom__636437190e8c650908ce83da-6241368516c25566-7/Inafom__636437190e8c650908ce83da-6241368516c25566-7_image_0.nii.gz\n",
      "2023-10-13 13:27:45,660 INFO image_writer.py:197 - writing: /home/vlermakov/Development/Nodules/Nodule-Detection-LUNA2016/processed_data_full_range_075mm/Inafom__636437190e8c650908ce83da-6241368516c25566-5/Inafom__636437190e8c650908ce83da-6241368516c25566-5_image_0.nii.gz\n",
      "2023-10-13 13:27:45,812 INFO image_writer.py:197 - writing: /home/vlermakov/Development/Nodules/Nodule-Detection-LUNA2016/processed_data_full_range_075mm/Inafom__636437190e8c650908ce83da-6241368516c25566-7/Inafom__636437190e8c650908ce83da-6241368516c25566-7_mask_0.nii.gz\n",
      "2023-10-13 13:27:45,975 INFO image_writer.py:197 - writing: /home/vlermakov/Development/Nodules/Nodule-Detection-LUNA2016/processed_data_full_range_075mm/Inafom__636437190e8c650908ce83da-6241368516c25566-5/Inafom__636437190e8c650908ce83da-6241368516c25566-5_mask_0.nii.gz\n"
     ]
    },
    {
     "name": "stderr",
     "output_type": "stream",
     "text": [
      "Loading dataset:  41%|███████████████████████████████████████████████████████████████████████████████████████████▋                                                                                                                                    | 248/606 [37:35<38:20,  6.43s/it]"
     ]
    },
    {
     "name": "stdout",
     "output_type": "stream",
     "text": [
      "2023-10-13 13:27:56,412 INFO image_writer.py:197 - writing: /home/vlermakov/Development/Nodules/Nodule-Detection-LUNA2016/processed_data_full_range_075mm/Operil__63b6eff47ee6e2094cef706c-754dbf7fc997b340-5/Operil__63b6eff47ee6e2094cef706c-754dbf7fc997b340-5_image_0.nii.gz\n",
      "2023-10-13 13:27:56,628 INFO image_writer.py:197 - writing: /home/vlermakov/Development/Nodules/Nodule-Detection-LUNA2016/processed_data_full_range_075mm/Inafom__636437190e8c650908ce83da-6241368516c25566-10/Inafom__636437190e8c650908ce83da-6241368516c25566-10_image_0.nii.gz\n",
      "2023-10-13 13:27:56,659 INFO image_writer.py:197 - writing: /home/vlermakov/Development/Nodules/Nodule-Detection-LUNA2016/processed_data_full_range_075mm/Operil__63b6eff47ee6e2094cef706c-754dbf7fc997b340-5/Operil__63b6eff47ee6e2094cef706c-754dbf7fc997b340-5_mask_0.nii.gz\n",
      "2023-10-13 13:27:57,023 INFO image_writer.py:197 - writing: /home/vlermakov/Development/Nodules/Nodule-Detection-LUNA2016/processed_data_full_range_075mm/Inafom__636437190e8c650908ce83da-6241368516c25566-10/Inafom__636437190e8c650908ce83da-6241368516c25566-10_mask_0.nii.gz\n"
     ]
    },
    {
     "name": "stderr",
     "output_type": "stream",
     "text": [
      "Loading dataset:  41%|████████████████████████████████████████████████████████████████████████████████████████████▍                                                                                                                                   | 250/606 [37:42<28:58,  4.88s/it]"
     ]
    },
    {
     "name": "stdout",
     "output_type": "stream",
     "text": [
      "2023-10-13 13:28:18,784 INFO image_writer.py:197 - writing: /home/vlermakov/Development/Nodules/Nodule-Detection-LUNA2016/processed_data_full_range_075mm/Operil__63b6eff47ee6e2094cef706c-754dbf7fc997b340-4/Operil__63b6eff47ee6e2094cef706c-754dbf7fc997b340-4_image_0.nii.gz\n",
      "2023-10-13 13:28:18,919 INFO image_writer.py:197 - writing: /home/vlermakov/Development/Nodules/Nodule-Detection-LUNA2016/processed_data_full_range_075mm/Operil__63b6eff47ee6e2094cef706c-754dbf7fc997b340-4/Operil__63b6eff47ee6e2094cef706c-754dbf7fc997b340-4_mask_0.nii.gz\n"
     ]
    },
    {
     "name": "stderr",
     "output_type": "stream",
     "text": [
      "\r",
      "Loading dataset:  41%|████████████████████████████████████████████████████████████████████████████████████████████▊                                                                                                                                   | 251/606 [37:59<48:58,  8.28s/it]"
     ]
    },
    {
     "name": "stdout",
     "output_type": "stream",
     "text": [
      "2023-10-13 13:28:34,186 INFO image_writer.py:197 - writing: /home/vlermakov/Development/Nodules/Nodule-Detection-LUNA2016/processed_data_full_range_075mm/Sesohi__6349fe832845520d526c888b-f0be251376613eae-1/Sesohi__6349fe832845520d526c888b-f0be251376613eae-1_image_0.nii.gz\n",
      "2023-10-13 13:28:34,317 INFO image_writer.py:197 - writing: /home/vlermakov/Development/Nodules/Nodule-Detection-LUNA2016/processed_data_full_range_075mm/Sesohi__6349fe832845520d526c888b-f0be251376613eae-1/Sesohi__6349fe832845520d526c888b-f0be251376613eae-1_mask_0.nii.gz\n",
      "2023-10-13 13:28:40,691 INFO image_writer.py:197 - writing: /home/vlermakov/Development/Nodules/Nodule-Detection-LUNA2016/processed_data_full_range_075mm/Operil__63b6eff47ee6e2094cef706c-754dbf7fc997b340-11/Operil__63b6eff47ee6e2094cef706c-754dbf7fc997b340-11_image_0.nii.gz\n",
      "2023-10-13 13:28:40,807 INFO image_writer.py:197 - writing: /home/vlermakov/Development/Nodules/Nodule-Detection-LUNA2016/processed_data_full_range_075mm/Operil__63b6eff47ee6e2094cef706c-754dbf7fc997b340-8/Operil__63b6eff47ee6e2094cef706c-754dbf7fc997b340-8_image_0.nii.gz\n",
      "2023-10-13 13:28:40,949 INFO image_writer.py:197 - writing: /home/vlermakov/Development/Nodules/Nodule-Detection-LUNA2016/processed_data_full_range_075mm/Operil__63b6eff47ee6e2094cef706c-754dbf7fc997b340-2/Operil__63b6eff47ee6e2094cef706c-754dbf7fc997b340-2_image_0.nii.gz\n",
      "2023-10-13 13:28:40,967 INFO image_writer.py:197 - writing: /home/vlermakov/Development/Nodules/Nodule-Detection-LUNA2016/processed_data_full_range_075mm/Operil__63b6eff47ee6e2094cef706c-754dbf7fc997b340-11/Operil__63b6eff47ee6e2094cef706c-754dbf7fc997b340-11_mask_0.nii.gz\n",
      "2023-10-13 13:28:40,973 INFO image_writer.py:197 - writing: /home/vlermakov/Development/Nodules/Nodule-Detection-LUNA2016/processed_data_full_range_075mm/Operil__63b6eff47ee6e2094cef706c-754dbf7fc997b340-8/Operil__63b6eff47ee6e2094cef706c-754dbf7fc997b340-8_mask_0.nii.gz\n",
      "2023-10-13 13:28:40,979 INFO image_writer.py:197 - writing: /home/vlermakov/Development/Nodules/Nodule-Detection-LUNA2016/processed_data_full_range_075mm/Operil__63b6eff47ee6e2094cef706c-754dbf7fc997b340-6/Operil__63b6eff47ee6e2094cef706c-754dbf7fc997b340-6_image_0.nii.gz\n",
      "2023-10-13 13:28:41,018 INFO image_writer.py:197 - writing: /home/vlermakov/Development/Nodules/Nodule-Detection-LUNA2016/processed_data_full_range_075mm/Operil__63b6eff47ee6e2094cef706c-754dbf7fc997b340-7/Operil__63b6eff47ee6e2094cef706c-754dbf7fc997b340-7_image_0.nii.gz\n",
      "2023-10-13 13:28:41,099 INFO image_writer.py:197 - writing: /home/vlermakov/Development/Nodules/Nodule-Detection-LUNA2016/processed_data_full_range_075mm/Operil__63b6eff47ee6e2094cef706c-754dbf7fc997b340-2/Operil__63b6eff47ee6e2094cef706c-754dbf7fc997b340-2_mask_0.nii.gz\n",
      "2023-10-13 13:28:51,352 INFO image_writer.py:197 - writing: /home/vlermakov/Development/Nodules/Nodule-Detection-LUNA2016/processed_data_full_range_075mm/Operil__63b6eff47ee6e2094cef706c-754dbf7fc997b340-6/Operil__63b6eff47ee6e2094cef706c-754dbf7fc997b340-6_mask_0.nii.gz\n",
      "2023-10-13 13:28:51,355 INFO image_writer.py:197 - writing: /home/vlermakov/Development/Nodules/Nodule-Detection-LUNA2016/processed_data_full_range_075mm/Operil__63b6eff47ee6e2094cef706c-754dbf7fc997b340-7/Operil__63b6eff47ee6e2094cef706c-754dbf7fc997b340-7_mask_0.nii.gz\n"
     ]
    },
    {
     "name": "stderr",
     "output_type": "stream",
     "text": [
      "Loading dataset:  42%|████████████████████████████████████████████████████████████████████████████████████████████▋                                                                                                                                 | 253/606 [38:40<1:17:59, 13.26s/it]"
     ]
    },
    {
     "name": "stdout",
     "output_type": "stream",
     "text": [
      "2023-10-13 13:29:01,141 INFO image_writer.py:197 - writing: /home/vlermakov/Development/Nodules/Nodule-Detection-LUNA2016/processed_data_full_range_075mm/Sesohi__6349fe832845520d526c888b-f0be251376613eae-2/Sesohi__6349fe832845520d526c888b-f0be251376613eae-2_image_0.nii.gz\n",
      "2023-10-13 13:29:01,344 INFO image_writer.py:197 - writing: /home/vlermakov/Development/Nodules/Nodule-Detection-LUNA2016/processed_data_full_range_075mm/Sesohi__6349fe832845520d526c888b-f0be251376613eae-2/Sesohi__6349fe832845520d526c888b-f0be251376613eae-2_mask_0.nii.gz\n"
     ]
    },
    {
     "name": "stderr",
     "output_type": "stream",
     "text": [
      "\r",
      "Loading dataset:  43%|███████████████████████████████████████████████████████████████████████████████████████████████▎                                                                                                                                | 258/606 [38:42<26:01,  4.49s/it]"
     ]
    },
    {
     "name": "stdout",
     "output_type": "stream",
     "text": [
      "2023-10-13 13:29:22,279 INFO image_writer.py:197 - writing: /home/vlermakov/Development/Nodules/Nodule-Detection-LUNA2016/processed_data_full_range_075mm/Sesohi__6349fe832845520d526c888b-f0be251376613eae-5/Sesohi__6349fe832845520d526c888b-f0be251376613eae-5_image_0.nii.gz\n",
      "2023-10-13 13:29:22,684 INFO image_writer.py:197 - writing: /home/vlermakov/Development/Nodules/Nodule-Detection-LUNA2016/processed_data_full_range_075mm/Sesohi__6349fe832845520d526c888b-f0be251376613eae-5/Sesohi__6349fe832845520d526c888b-f0be251376613eae-5_mask_0.nii.gz\n"
     ]
    },
    {
     "name": "stderr",
     "output_type": "stream",
     "text": [
      "\r",
      "Loading dataset:  43%|███████████████████████████████████████████████████████████████████████████████████████████████▋                                                                                                                                | 259/606 [39:06<44:04,  7.62s/it]"
     ]
    },
    {
     "name": "stdout",
     "output_type": "stream",
     "text": [
      "2023-10-13 13:29:30,857 INFO image_writer.py:197 - writing: /home/vlermakov/Development/Nodules/Nodule-Detection-LUNA2016/processed_data_full_range_075mm/Sesohi__6349fe832845520d526c888b-f0be251376613eae-3/Sesohi__6349fe832845520d526c888b-f0be251376613eae-3_image_0.nii.gz\n",
      "2023-10-13 13:29:30,870 INFO image_writer.py:197 - writing: /home/vlermakov/Development/Nodules/Nodule-Detection-LUNA2016/processed_data_full_range_075mm/Sesohi__6349fe832845520d526c888b-f0be251376613eae-10/Sesohi__6349fe832845520d526c888b-f0be251376613eae-10_image_0.nii.gz\n",
      "2023-10-13 13:29:30,896 INFO image_writer.py:197 - writing: /home/vlermakov/Development/Nodules/Nodule-Detection-LUNA2016/processed_data_full_range_075mm/Sesohi__6349fe832845520d526c888b-f0be251376613eae-6/Sesohi__6349fe832845520d526c888b-f0be251376613eae-6_image_0.nii.gz\n",
      "2023-10-13 13:29:30,901 INFO image_writer.py:197 - writing: /home/vlermakov/Development/Nodules/Nodule-Detection-LUNA2016/processed_data_full_range_075mm/Sesohi__6349fe832845520d526c888b-f0be251376613eae-8/Sesohi__6349fe832845520d526c888b-f0be251376613eae-8_image_0.nii.gz\n",
      "2023-10-13 13:29:31,007 INFO image_writer.py:197 - writing: /home/vlermakov/Development/Nodules/Nodule-Detection-LUNA2016/processed_data_full_range_075mm/Sesohi__6349fe832845520d526c888b-f0be251376613eae-3/Sesohi__6349fe832845520d526c888b-f0be251376613eae-3_mask_0.nii.gz\n",
      "2023-10-13 13:29:31,016 INFO image_writer.py:197 - writing: /home/vlermakov/Development/Nodules/Nodule-Detection-LUNA2016/processed_data_full_range_075mm/Sesohi__6349fe832845520d526c888b-f0be251376613eae-10/Sesohi__6349fe832845520d526c888b-f0be251376613eae-10_mask_0.nii.gz\n",
      "2023-10-13 13:29:31,043 INFO image_writer.py:197 - writing: /home/vlermakov/Development/Nodules/Nodule-Detection-LUNA2016/processed_data_full_range_075mm/Sesohi__6349fe832845520d526c888b-f0be251376613eae-6/Sesohi__6349fe832845520d526c888b-f0be251376613eae-6_mask_0.nii.gz\n",
      "2023-10-13 13:29:31,068 INFO image_writer.py:197 - writing: /home/vlermakov/Development/Nodules/Nodule-Detection-LUNA2016/processed_data_full_range_075mm/Sesohi__6349fe832845520d526c888b-f0be251376613eae-8/Sesohi__6349fe832845520d526c888b-f0be251376613eae-8_mask_0.nii.gz\n"
     ]
    },
    {
     "name": "stderr",
     "output_type": "stream",
     "text": [
      "Loading dataset:  43%|█████████████████████████████████████████████████████████████████████████████████████████████████▏                                                                                                                              | 263/606 [39:28<32:35,  5.70s/it]"
     ]
    },
    {
     "name": "stdout",
     "output_type": "stream",
     "text": [
      "2023-10-13 13:29:49,471 INFO image_writer.py:197 - writing: /home/vlermakov/Development/Nodules/Nodule-Detection-LUNA2016/processed_data_full_range_075mm/Alueroof__63618a171442a409c89dd26e-ce8afefe698e7611-5/Alueroof__63618a171442a409c89dd26e-ce8afefe698e7611-5_image_0.nii.gz\n",
      "2023-10-13 13:29:49,534 INFO image_writer.py:197 - writing: /home/vlermakov/Development/Nodules/Nodule-Detection-LUNA2016/processed_data_full_range_075mm/Alueroof__63618a171442a409c89dd26e-ce8afefe698e7611-1/Alueroof__63618a171442a409c89dd26e-ce8afefe698e7611-1_image_0.nii.gz\n",
      "2023-10-13 13:29:50,067 INFO image_writer.py:197 - writing: /home/vlermakov/Development/Nodules/Nodule-Detection-LUNA2016/processed_data_full_range_075mm/Alueroof__63618a171442a409c89dd26e-ce8afefe698e7611-5/Alueroof__63618a171442a409c89dd26e-ce8afefe698e7611-5_mask_0.nii.gz\n",
      "2023-10-13 13:29:50,256 INFO image_writer.py:197 - writing: /home/vlermakov/Development/Nodules/Nodule-Detection-LUNA2016/processed_data_full_range_075mm/Alueroof__63618a171442a409c89dd26e-ce8afefe698e7611-1/Alueroof__63618a171442a409c89dd26e-ce8afefe698e7611-1_mask_0.nii.gz\n"
     ]
    },
    {
     "name": "stderr",
     "output_type": "stream",
     "text": [
      "Loading dataset:  44%|█████████████████████████████████████████████████████████████████████████████████████████████████▉                                                                                                                              | 265/606 [39:42<34:02,  5.99s/it]"
     ]
    },
    {
     "name": "stdout",
     "output_type": "stream",
     "text": [
      "2023-10-13 13:30:11,388 INFO image_writer.py:197 - writing: /home/vlermakov/Development/Nodules/Nodule-Detection-LUNA2016/processed_data_full_range_075mm/Alueroof__63618a171442a409c89dd26e-ce8afefe698e7611-2/Alueroof__63618a171442a409c89dd26e-ce8afefe698e7611-2_image_0.nii.gz\n",
      "2023-10-13 13:30:11,615 INFO image_writer.py:197 - writing: /home/vlermakov/Development/Nodules/Nodule-Detection-LUNA2016/processed_data_full_range_075mm/Alueroof__63618a171442a409c89dd26e-ce8afefe698e7611-2/Alueroof__63618a171442a409c89dd26e-ce8afefe698e7611-2_mask_0.nii.gz\n"
     ]
    },
    {
     "name": "stderr",
     "output_type": "stream",
     "text": [
      "\r",
      "Loading dataset:  44%|██████████████████████████████████████████████████████████████████████████████████████████████████▎                                                                                                                             | 266/606 [39:52<40:07,  7.08s/it]"
     ]
    },
    {
     "name": "stdout",
     "output_type": "stream",
     "text": [
      "2023-10-13 13:30:31,022 INFO image_writer.py:197 - writing: /home/vlermakov/Development/Nodules/Nodule-Detection-LUNA2016/processed_data_full_range_075mm/Bitikek__634dbdce2dbb1b09a5b051d8-669391d6f6592d55-9/Bitikek__634dbdce2dbb1b09a5b051d8-669391d6f6592d55-9_image_0.nii.gz\n",
      "2023-10-13 13:30:31,141 INFO image_writer.py:197 - writing: /home/vlermakov/Development/Nodules/Nodule-Detection-LUNA2016/processed_data_full_range_075mm/Bitikek__634dbdce2dbb1b09a5b051d8-669391d6f6592d55-4/Bitikek__634dbdce2dbb1b09a5b051d8-669391d6f6592d55-4_image_0.nii.gz\n",
      "2023-10-13 13:30:31,157 INFO image_writer.py:197 - writing: /home/vlermakov/Development/Nodules/Nodule-Detection-LUNA2016/processed_data_full_range_075mm/Bitikek__634dbdce2dbb1b09a5b051d8-669391d6f6592d55-1/Bitikek__634dbdce2dbb1b09a5b051d8-669391d6f6592d55-1_image_0.nii.gz\n",
      "2023-10-13 13:30:31,277 INFO image_writer.py:197 - writing: /home/vlermakov/Development/Nodules/Nodule-Detection-LUNA2016/processed_data_full_range_075mm/Bitikek__634dbdce2dbb1b09a5b051d8-669391d6f6592d55-9/Bitikek__634dbdce2dbb1b09a5b051d8-669391d6f6592d55-9_mask_0.nii.gz\n",
      "2023-10-13 13:30:31,335 INFO image_writer.py:197 - writing: /home/vlermakov/Development/Nodules/Nodule-Detection-LUNA2016/processed_data_full_range_075mm/Bitikek__634dbdce2dbb1b09a5b051d8-669391d6f6592d55-4/Bitikek__634dbdce2dbb1b09a5b051d8-669391d6f6592d55-4_mask_0.nii.gz\n",
      "2023-10-13 13:30:31,354 INFO image_writer.py:197 - writing: /home/vlermakov/Development/Nodules/Nodule-Detection-LUNA2016/processed_data_full_range_075mm/Bitikek__634dbdce2dbb1b09a5b051d8-669391d6f6592d55-5/Bitikek__634dbdce2dbb1b09a5b051d8-669391d6f6592d55-5_image_0.nii.gz\n",
      "2023-10-13 13:30:31,393 INFO image_writer.py:197 - writing: /home/vlermakov/Development/Nodules/Nodule-Detection-LUNA2016/processed_data_full_range_075mm/Bitikek__634dbdce2dbb1b09a5b051d8-669391d6f6592d55-1/Bitikek__634dbdce2dbb1b09a5b051d8-669391d6f6592d55-1_mask_0.nii.gz\n",
      "2023-10-13 13:30:42,383 INFO image_writer.py:197 - writing: /home/vlermakov/Development/Nodules/Nodule-Detection-LUNA2016/processed_data_full_range_075mm/Bitikek__634dbdce2dbb1b09a5b051d8-669391d6f6592d55-5/Bitikek__634dbdce2dbb1b09a5b051d8-669391d6f6592d55-5_mask_0.nii.gz\n"
     ]
    },
    {
     "name": "stderr",
     "output_type": "stream",
     "text": [
      "\r",
      "Loading dataset:  44%|█████████████████████████████████████████████████████████████████████████████████████████████████▊                                                                                                                            | 267/606 [40:23<1:18:34, 13.91s/it]"
     ]
    },
    {
     "name": "stdout",
     "output_type": "stream",
     "text": [
      "2023-10-13 13:30:53,297 INFO image_writer.py:197 - writing: /home/vlermakov/Development/Nodules/Nodule-Detection-LUNA2016/processed_data_full_range_075mm/Hekkletub__636740a4a53f0e097775353c-64532eae9addf3cf-7/Hekkletub__636740a4a53f0e097775353c-64532eae9addf3cf-7_image_0.nii.gz\n",
      "2023-10-13 13:30:53,602 INFO image_writer.py:197 - writing: /home/vlermakov/Development/Nodules/Nodule-Detection-LUNA2016/processed_data_full_range_075mm/Hekkletub__636740a4a53f0e097775353c-64532eae9addf3cf-7/Hekkletub__636740a4a53f0e097775353c-64532eae9addf3cf-7_mask_0.nii.gz\n"
     ]
    },
    {
     "name": "stderr",
     "output_type": "stream",
     "text": [
      "\r",
      "Loading dataset:  45%|████████████████████████████████████████████████████████████████████████████████████████████████████▏                                                                                                                           | 271/606 [40:34<39:05,  7.00s/it]"
     ]
    },
    {
     "name": "stdout",
     "output_type": "stream",
     "text": [
      "2023-10-13 13:31:02,842 INFO image_writer.py:197 - writing: /home/vlermakov/Development/Nodules/Nodule-Detection-LUNA2016/processed_data_full_range_075mm/Cibami__635ab5b3cf95cd0a0267742d-cd900e4ec572b468-1/Cibami__635ab5b3cf95cd0a0267742d-cd900e4ec572b468-1_image_0.nii.gz\n",
      "2023-10-13 13:31:02,985 INFO image_writer.py:197 - writing: /home/vlermakov/Development/Nodules/Nodule-Detection-LUNA2016/processed_data_full_range_075mm/Cibami__635ab5b3cf95cd0a0267742d-cd900e4ec572b468-3/Cibami__635ab5b3cf95cd0a0267742d-cd900e4ec572b468-3_image_0.nii.gz\n",
      "2023-10-13 13:31:03,413 INFO image_writer.py:197 - writing: /home/vlermakov/Development/Nodules/Nodule-Detection-LUNA2016/processed_data_full_range_075mm/Cibami__635ab5b3cf95cd0a0267742d-cd900e4ec572b468-3/Cibami__635ab5b3cf95cd0a0267742d-cd900e4ec572b468-3_mask_0.nii.gz\n",
      "2023-10-13 13:31:03,542 INFO image_writer.py:197 - writing: /home/vlermakov/Development/Nodules/Nodule-Detection-LUNA2016/processed_data_full_range_075mm/Cibami__635ab5b3cf95cd0a0267742d-cd900e4ec572b468-1/Cibami__635ab5b3cf95cd0a0267742d-cd900e4ec572b468-1_mask_0.nii.gz\n"
     ]
    },
    {
     "name": "stderr",
     "output_type": "stream",
     "text": [
      "Loading dataset:  45%|████████████████████████████████████████████████████████████████████████████████████████████████████▉                                                                                                                           | 273/606 [40:52<41:10,  7.42s/it]"
     ]
    },
    {
     "name": "stdout",
     "output_type": "stream",
     "text": [
      "2023-10-13 13:31:22,779 INFO image_writer.py:197 - writing: /home/vlermakov/Development/Nodules/Nodule-Detection-LUNA2016/processed_data_full_range_075mm/Jezoni__634a0b722845520d526c8893-d2fcfb4c589c59ec-4/Jezoni__634a0b722845520d526c8893-d2fcfb4c589c59ec-4_image_0.nii.gz\n",
      "2023-10-13 13:31:22,823 INFO image_writer.py:197 - writing: /home/vlermakov/Development/Nodules/Nodule-Detection-LUNA2016/processed_data_full_range_075mm/Jezoni__634a0b722845520d526c8893-d2fcfb4c589c59ec-5/Jezoni__634a0b722845520d526c8893-d2fcfb4c589c59ec-5_image_0.nii.gz\n",
      "2023-10-13 13:31:22,887 INFO image_writer.py:197 - writing: /home/vlermakov/Development/Nodules/Nodule-Detection-LUNA2016/processed_data_full_range_075mm/Jezoni__634a0b722845520d526c8893-d2fcfb4c589c59ec-1/Jezoni__634a0b722845520d526c8893-d2fcfb4c589c59ec-1_image_0.nii.gz\n",
      "2023-10-13 13:31:22,971 INFO image_writer.py:197 - writing: /home/vlermakov/Development/Nodules/Nodule-Detection-LUNA2016/processed_data_full_range_075mm/Jezoni__634a0b722845520d526c8893-d2fcfb4c589c59ec-3/Jezoni__634a0b722845520d526c8893-d2fcfb4c589c59ec-3_image_0.nii.gz\n",
      "2023-10-13 13:31:22,979 INFO image_writer.py:197 - writing: /home/vlermakov/Development/Nodules/Nodule-Detection-LUNA2016/processed_data_full_range_075mm/Jezoni__634a0b722845520d526c8893-d2fcfb4c589c59ec-4/Jezoni__634a0b722845520d526c8893-d2fcfb4c589c59ec-4_mask_0.nii.gz\n",
      "2023-10-13 13:31:23,023 INFO image_writer.py:197 - writing: /home/vlermakov/Development/Nodules/Nodule-Detection-LUNA2016/processed_data_full_range_075mm/Jezoni__634a0b722845520d526c8893-d2fcfb4c589c59ec-5/Jezoni__634a0b722845520d526c8893-d2fcfb4c589c59ec-5_mask_0.nii.gz\n",
      "2023-10-13 13:31:23,069 INFO image_writer.py:197 - writing: /home/vlermakov/Development/Nodules/Nodule-Detection-LUNA2016/processed_data_full_range_075mm/Jezoni__634a0b722845520d526c8893-d2fcfb4c589c59ec-1/Jezoni__634a0b722845520d526c8893-d2fcfb4c589c59ec-1_mask_0.nii.gz\n"
     ]
    },
    {
     "name": "stderr",
     "output_type": "stream",
     "text": [
      "Loading dataset:  45%|█████████████████████████████████████████████████████████████████████████████████████████████████████▋                                                                                                                          | 275/606 [41:15<49:14,  8.93s/it]"
     ]
    },
    {
     "name": "stdout",
     "output_type": "stream",
     "text": [
      "2023-10-13 13:31:35,618 INFO image_writer.py:197 - writing: /home/vlermakov/Development/Nodules/Nodule-Detection-LUNA2016/processed_data_full_range_075mm/Jezoni__634a0b722845520d526c8893-d2fcfb4c589c59ec-3/Jezoni__634a0b722845520d526c8893-d2fcfb4c589c59ec-3_mask_0.nii.gz\n"
     ]
    },
    {
     "name": "stderr",
     "output_type": "stream",
     "text": [
      "Loading dataset:  46%|██████████████████████████████████████████████████████████████████████████████████████████████████████▍                                                                                                                         | 277/606 [41:21<34:03,  6.21s/it]"
     ]
    },
    {
     "name": "stdout",
     "output_type": "stream",
     "text": [
      "2023-10-13 13:31:45,761 INFO image_writer.py:197 - writing: /home/vlermakov/Development/Nodules/Nodule-Detection-LUNA2016/processed_data_full_range_075mm/Jezoni__634a0b722845520d526c8893-d2fcfb4c589c59ec-2/Jezoni__634a0b722845520d526c8893-d2fcfb4c589c59ec-2_image_0.nii.gz\n",
      "2023-10-13 13:31:45,880 INFO image_writer.py:197 - writing: /home/vlermakov/Development/Nodules/Nodule-Detection-LUNA2016/processed_data_full_range_075mm/Jezoni__634a0b722845520d526c8893-d2fcfb4c589c59ec-2/Jezoni__634a0b722845520d526c8893-d2fcfb4c589c59ec-2_mask_0.nii.gz\n"
     ]
    },
    {
     "name": "stderr",
     "output_type": "stream",
     "text": [
      "\r",
      "Loading dataset:  46%|██████████████████████████████████████████████████████████████████████████████████████████████████████▊                                                                                                                         | 278/606 [41:26<32:38,  5.97s/it]"
     ]
    },
    {
     "name": "stdout",
     "output_type": "stream",
     "text": [
      "2023-10-13 13:31:57,712 INFO image_writer.py:197 - writing: /home/vlermakov/Development/Nodules/Nodule-Detection-LUNA2016/processed_data_full_range_075mm/Ceeporu__639d1d420a684d09fd8b2b10-d1543343abaf3866-3/Ceeporu__639d1d420a684d09fd8b2b10-d1543343abaf3866-3_image_0.nii.gz\n",
      "2023-10-13 13:31:57,791 INFO image_writer.py:197 - writing: /home/vlermakov/Development/Nodules/Nodule-Detection-LUNA2016/processed_data_full_range_075mm/Ceeporu__639d1d420a684d09fd8b2b10-d1543343abaf3866-1/Ceeporu__639d1d420a684d09fd8b2b10-d1543343abaf3866-1_image_0.nii.gz\n",
      "2023-10-13 13:31:58,194 INFO image_writer.py:197 - writing: /home/vlermakov/Development/Nodules/Nodule-Detection-LUNA2016/processed_data_full_range_075mm/Ceeporu__639d1d420a684d09fd8b2b10-d1543343abaf3866-3/Ceeporu__639d1d420a684d09fd8b2b10-d1543343abaf3866-3_mask_0.nii.gz\n",
      "2023-10-13 13:31:58,304 INFO image_writer.py:197 - writing: /home/vlermakov/Development/Nodules/Nodule-Detection-LUNA2016/processed_data_full_range_075mm/Ceeporu__639d1d420a684d09fd8b2b10-d1543343abaf3866-1/Ceeporu__639d1d420a684d09fd8b2b10-d1543343abaf3866-1_mask_0.nii.gz\n"
     ]
    },
    {
     "name": "stderr",
     "output_type": "stream",
     "text": [
      "Loading dataset:  46%|███████████████████████████████████████████████████████████████████████████████████████████████████████▍                                                                                                                        | 280/606 [41:49<42:59,  7.91s/it]"
     ]
    },
    {
     "name": "stdout",
     "output_type": "stream",
     "text": [
      "2023-10-13 13:32:17,315 INFO image_writer.py:197 - writing: /home/vlermakov/Development/Nodules/Nodule-Detection-LUNA2016/processed_data_full_range_075mm/Ceeporu__639d1d420a684d09fd8b2b10-d1543343abaf3866-5/Ceeporu__639d1d420a684d09fd8b2b10-d1543343abaf3866-5_image_0.nii.gz\n",
      "2023-10-13 13:32:18,096 INFO image_writer.py:197 - writing: /home/vlermakov/Development/Nodules/Nodule-Detection-LUNA2016/processed_data_full_range_075mm/Ceeporu__639d1d420a684d09fd8b2b10-d1543343abaf3866-5/Ceeporu__639d1d420a684d09fd8b2b10-d1543343abaf3866-5_mask_0.nii.gz\n",
      "2023-10-13 13:32:26,324 INFO image_writer.py:197 - writing: /home/vlermakov/Development/Nodules/Nodule-Detection-LUNA2016/processed_data_full_range_075mm/Ceeporu__639d1d420a684d09fd8b2b10-d1543343abaf3866-4/Ceeporu__639d1d420a684d09fd8b2b10-d1543343abaf3866-4_image_0.nii.gz\n",
      "2023-10-13 13:32:29,036 INFO image_writer.py:197 - writing: /home/vlermakov/Development/Nodules/Nodule-Detection-LUNA2016/processed_data_full_range_075mm/Ceeporu__639d1d420a684d09fd8b2b10-d1543343abaf3866-4/Ceeporu__639d1d420a684d09fd8b2b10-d1543343abaf3866-4_mask_0.nii.gz\n"
     ]
    },
    {
     "name": "stderr",
     "output_type": "stream",
     "text": [
      "\r",
      "Loading dataset:  46%|██████████████████████████████████████████████████████████████████████████████████████████████████████▉                                                                                                                       | 281/606 [42:14<1:10:55, 13.09s/it]"
     ]
    },
    {
     "name": "stdout",
     "output_type": "stream",
     "text": [
      "2023-10-13 13:32:35,569 INFO image_writer.py:197 - writing: /home/vlermakov/Development/Nodules/Nodule-Detection-LUNA2016/processed_data_full_range_075mm/Abirief__639509265dd6b409c81ccbc9-fbfa15ed1f7b14ea-10/Abirief__639509265dd6b409c81ccbc9-fbfa15ed1f7b14ea-10_image_0.nii.gz\n",
      "2023-10-13 13:32:35,761 INFO image_writer.py:197 - writing: /home/vlermakov/Development/Nodules/Nodule-Detection-LUNA2016/processed_data_full_range_075mm/Ceeporu__639d1d420a684d09fd8b2b10-d1543343abaf3866-7/Ceeporu__639d1d420a684d09fd8b2b10-d1543343abaf3866-7_image_0.nii.gz\n",
      "2023-10-13 13:32:36,018 INFO image_writer.py:197 - writing: /home/vlermakov/Development/Nodules/Nodule-Detection-LUNA2016/processed_data_full_range_075mm/Abirief__639509265dd6b409c81ccbc9-fbfa15ed1f7b14ea-10/Abirief__639509265dd6b409c81ccbc9-fbfa15ed1f7b14ea-10_mask_0.nii.gz\n",
      "2023-10-13 13:32:36,125 INFO image_writer.py:197 - writing: /home/vlermakov/Development/Nodules/Nodule-Detection-LUNA2016/processed_data_full_range_075mm/Ceeporu__639d1d420a684d09fd8b2b10-d1543343abaf3866-7/Ceeporu__639d1d420a684d09fd8b2b10-d1543343abaf3866-7_mask_0.nii.gz\n"
     ]
    },
    {
     "name": "stderr",
     "output_type": "stream",
     "text": [
      "\r",
      "Loading dataset:  47%|████████████████████████████████████████████████████████████████████████████████████████████████████████▌                                                                                                                       | 283/606 [42:21<46:19,  8.61s/it]"
     ]
    },
    {
     "name": "stdout",
     "output_type": "stream",
     "text": [
      "2023-10-13 13:32:47,826 INFO image_writer.py:197 - writing: /home/vlermakov/Development/Nodules/Nodule-Detection-LUNA2016/processed_data_full_range_075mm/Ibapquif__63995fcb65341909bf8fb3c7-f9c6948151cf1a05-1/Ibapquif__63995fcb65341909bf8fb3c7-f9c6948151cf1a05-1_image_0.nii.gz\n",
      "2023-10-13 13:32:48,581 INFO image_writer.py:197 - writing: /home/vlermakov/Development/Nodules/Nodule-Detection-LUNA2016/processed_data_full_range_075mm/Ibapquif__63995fcb65341909bf8fb3c7-f9c6948151cf1a05-1/Ibapquif__63995fcb65341909bf8fb3c7-f9c6948151cf1a05-1_mask_0.nii.gz\n",
      "2023-10-13 13:32:48,652 INFO image_writer.py:197 - writing: /home/vlermakov/Development/Nodules/Nodule-Detection-LUNA2016/processed_data_full_range_075mm/Helistbrey__634f41931f5d7a09bb888fae-3dc8c0b9f8d95a2f-8/Helistbrey__634f41931f5d7a09bb888fae-3dc8c0b9f8d95a2f-8_image_0.nii.gz\n",
      "2023-10-13 13:32:54,722 INFO image_writer.py:197 - writing: /home/vlermakov/Development/Nodules/Nodule-Detection-LUNA2016/processed_data_full_range_075mm/Helistbrey__634f41931f5d7a09bb888fae-3dc8c0b9f8d95a2f-8/Helistbrey__634f41931f5d7a09bb888fae-3dc8c0b9f8d95a2f-8_mask_0.nii.gz\n"
     ]
    },
    {
     "name": "stderr",
     "output_type": "stream",
     "text": [
      "\r",
      "Loading dataset:  47%|████████████████████████████████████████████████████████████████████████████████████████████████████████▉                                                                                                                       | 284/606 [42:35<53:35,  9.99s/it]"
     ]
    },
    {
     "name": "stdout",
     "output_type": "stream",
     "text": [
      "2023-10-13 13:33:02,250 INFO image_writer.py:197 - writing: /home/vlermakov/Development/Nodules/Nodule-Detection-LUNA2016/processed_data_full_range_075mm/Helistbrey__634f41931f5d7a09bb888fae-3dc8c0b9f8d95a2f-19/Helistbrey__634f41931f5d7a09bb888fae-3dc8c0b9f8d95a2f-19_image_0.nii.gz\n",
      "2023-10-13 13:33:03,059 INFO image_writer.py:197 - writing: /home/vlermakov/Development/Nodules/Nodule-Detection-LUNA2016/processed_data_full_range_075mm/Helistbrey__634f41931f5d7a09bb888fae-3dc8c0b9f8d95a2f-19/Helistbrey__634f41931f5d7a09bb888fae-3dc8c0b9f8d95a2f-19_mask_0.nii.gz\n"
     ]
    },
    {
     "name": "stderr",
     "output_type": "stream",
     "text": [
      "Loading dataset:  47%|██████████████████████████████████████████████████████████████████████████████████████████████████████████                                                                                                                      | 287/606 [42:50<32:38,  6.14s/it]"
     ]
    },
    {
     "name": "stdout",
     "output_type": "stream",
     "text": [
      "2023-10-13 13:33:16,788 INFO image_writer.py:197 - writing: /home/vlermakov/Development/Nodules/Nodule-Detection-LUNA2016/processed_data_full_range_075mm/Ibapquif__63995fcb65341909bf8fb3c7-f9c6948151cf1a05-3/Ibapquif__63995fcb65341909bf8fb3c7-f9c6948151cf1a05-3_image_0.nii.gz\n",
      "2023-10-13 13:33:16,908 INFO image_writer.py:197 - writing: /home/vlermakov/Development/Nodules/Nodule-Detection-LUNA2016/processed_data_full_range_075mm/Ibapquif__63995fcb65341909bf8fb3c7-f9c6948151cf1a05-3/Ibapquif__63995fcb65341909bf8fb3c7-f9c6948151cf1a05-3_mask_0.nii.gz\n"
     ]
    },
    {
     "name": "stderr",
     "output_type": "stream",
     "text": [
      "\r",
      "Loading dataset:  48%|██████████████████████████████████████████████████████████████████████████████████████████████████████████▍                                                                                                                     | 288/606 [42:57<34:27,  6.50s/it]"
     ]
    },
    {
     "name": "stdout",
     "output_type": "stream",
     "text": [
      "2023-10-13 13:33:40,932 INFO image_writer.py:197 - writing: /home/vlermakov/Development/Nodules/Nodule-Detection-LUNA2016/processed_data_full_range_075mm/Jablomi__63703b5bf3dfc10a08168731-f9267d1ecbafd8ec-1/Jablomi__63703b5bf3dfc10a08168731-f9267d1ecbafd8ec-1_image_0.nii.gz\n",
      "2023-10-13 13:33:40,987 INFO image_writer.py:197 - writing: /home/vlermakov/Development/Nodules/Nodule-Detection-LUNA2016/processed_data_full_range_075mm/Pokasol__63a361ddb7173909c54c2132-5d701ce098b9a018-14/Pokasol__63a361ddb7173909c54c2132-5d701ce098b9a018-14_image_0.nii.gz\n",
      "2023-10-13 13:33:41,102 INFO image_writer.py:197 - writing: /home/vlermakov/Development/Nodules/Nodule-Detection-LUNA2016/processed_data_full_range_075mm/Jablomi__63703b5bf3dfc10a08168731-f9267d1ecbafd8ec-1/Jablomi__63703b5bf3dfc10a08168731-f9267d1ecbafd8ec-1_mask_0.nii.gz\n",
      "2023-10-13 13:33:41,274 INFO image_writer.py:197 - writing: /home/vlermakov/Development/Nodules/Nodule-Detection-LUNA2016/processed_data_full_range_075mm/Pokasol__63a361ddb7173909c54c2132-5d701ce098b9a018-14/Pokasol__63a361ddb7173909c54c2132-5d701ce098b9a018-14_mask_0.nii.gz\n"
     ]
    },
    {
     "name": "stderr",
     "output_type": "stream",
     "text": [
      "\r",
      "Loading dataset:  48%|█████████████████████████████████████████████████████████████████████████████████████████████████████████▊                                                                                                                    | 289/606 [43:27<1:10:27, 13.34s/it]"
     ]
    },
    {
     "name": "stdout",
     "output_type": "stream",
     "text": [
      "2023-10-13 13:33:50,974 INFO image_writer.py:197 - writing: /home/vlermakov/Development/Nodules/Nodule-Detection-LUNA2016/processed_data_full_range_075mm/Pokasol__63a361ddb7173909c54c2132-5d701ce098b9a018-3/Pokasol__63a361ddb7173909c54c2132-5d701ce098b9a018-3_image_0.nii.gz\n",
      "2023-10-13 13:33:50,991 INFO image_writer.py:197 - writing: /home/vlermakov/Development/Nodules/Nodule-Detection-LUNA2016/processed_data_full_range_075mm/Pokasol__63a361ddb7173909c54c2132-5d701ce098b9a018-7/Pokasol__63a361ddb7173909c54c2132-5d701ce098b9a018-7_image_0.nii.gz\n",
      "2023-10-13 13:33:51,668 INFO image_writer.py:197 - writing: /home/vlermakov/Development/Nodules/Nodule-Detection-LUNA2016/processed_data_full_range_075mm/Pokasol__63a361ddb7173909c54c2132-5d701ce098b9a018-7/Pokasol__63a361ddb7173909c54c2132-5d701ce098b9a018-7_mask_0.nii.gz\n",
      "2023-10-13 13:33:51,704 INFO image_writer.py:197 - writing: /home/vlermakov/Development/Nodules/Nodule-Detection-LUNA2016/processed_data_full_range_075mm/Pokasol__63a361ddb7173909c54c2132-5d701ce098b9a018-3/Pokasol__63a361ddb7173909c54c2132-5d701ce098b9a018-3_mask_0.nii.gz\n"
     ]
    },
    {
     "name": "stderr",
     "output_type": "stream",
     "text": [
      "Loading dataset:  48%|███████████████████████████████████████████████████████████████████████████████████████████████████████████▌                                                                                                                    | 291/606 [43:45<55:33, 10.58s/it]"
     ]
    },
    {
     "name": "stdout",
     "output_type": "stream",
     "text": [
      "2023-10-13 13:34:06,429 INFO image_writer.py:197 - writing: /home/vlermakov/Development/Nodules/Nodule-Detection-LUNA2016/processed_data_full_range_075mm/Reetosee__636abfe5f5121d09858b501b-30bfc1407ff6db2d-3/Reetosee__636abfe5f5121d09858b501b-30bfc1407ff6db2d-3_image_0.nii.gz\n",
      "2023-10-13 13:34:06,598 INFO image_writer.py:197 - writing: /home/vlermakov/Development/Nodules/Nodule-Detection-LUNA2016/processed_data_full_range_075mm/Reetosee__636abfe5f5121d09858b501b-30bfc1407ff6db2d-10/Reetosee__636abfe5f5121d09858b501b-30bfc1407ff6db2d-10_image_0.nii.gz\n",
      "2023-10-13 13:34:06,645 INFO image_writer.py:197 - writing: /home/vlermakov/Development/Nodules/Nodule-Detection-LUNA2016/processed_data_full_range_075mm/Jablomi__63703b5bf3dfc10a08168731-f9267d1ecbafd8ec-6/Jablomi__63703b5bf3dfc10a08168731-f9267d1ecbafd8ec-6_image_0.nii.gz\n",
      "2023-10-13 13:34:06,777 INFO image_writer.py:197 - writing: /home/vlermakov/Development/Nodules/Nodule-Detection-LUNA2016/processed_data_full_range_075mm/Reetosee__636abfe5f5121d09858b501b-30bfc1407ff6db2d-3/Reetosee__636abfe5f5121d09858b501b-30bfc1407ff6db2d-3_mask_0.nii.gz\n",
      "2023-10-13 13:34:06,962 INFO image_writer.py:197 - writing: /home/vlermakov/Development/Nodules/Nodule-Detection-LUNA2016/processed_data_full_range_075mm/Reetosee__636abfe5f5121d09858b501b-30bfc1407ff6db2d-10/Reetosee__636abfe5f5121d09858b501b-30bfc1407ff6db2d-10_mask_0.nii.gz\n",
      "2023-10-13 13:34:07,043 INFO image_writer.py:197 - writing: /home/vlermakov/Development/Nodules/Nodule-Detection-LUNA2016/processed_data_full_range_075mm/Jablomi__63703b5bf3dfc10a08168731-f9267d1ecbafd8ec-6/Jablomi__63703b5bf3dfc10a08168731-f9267d1ecbafd8ec-6_mask_0.nii.gz\n"
     ]
    },
    {
     "name": "stderr",
     "output_type": "stream",
     "text": [
      "Loading dataset:  48%|████████████████████████████████████████████████████████████████████████████████████████████████████████████▎                                                                                                                   | 293/606 [43:54<40:56,  7.85s/it]"
     ]
    },
    {
     "name": "stdout",
     "output_type": "stream",
     "text": [
      "2023-10-13 13:34:36,366 INFO image_writer.py:197 - writing: /home/vlermakov/Development/Nodules/Nodule-Detection-LUNA2016/processed_data_full_range_075mm/Latuque__63a5e9bc1c6c060977cfb03f-e525c52f29f25102-2/Latuque__63a5e9bc1c6c060977cfb03f-e525c52f29f25102-2_image_0.nii.gz\n",
      "2023-10-13 13:34:36,404 INFO image_writer.py:197 - writing: /home/vlermakov/Development/Nodules/Nodule-Detection-LUNA2016/processed_data_full_range_075mm/Latuque__63a5e9bc1c6c060977cfb03f-e525c52f29f25102-16/Latuque__63a5e9bc1c6c060977cfb03f-e525c52f29f25102-16_image_0.nii.gz\n",
      "2023-10-13 13:34:36,890 INFO image_writer.py:197 - writing: /home/vlermakov/Development/Nodules/Nodule-Detection-LUNA2016/processed_data_full_range_075mm/Latuque__63a5e9bc1c6c060977cfb03f-e525c52f29f25102-16/Latuque__63a5e9bc1c6c060977cfb03f-e525c52f29f25102-16_mask_0.nii.gz\n",
      "2023-10-13 13:34:36,904 INFO image_writer.py:197 - writing: /home/vlermakov/Development/Nodules/Nodule-Detection-LUNA2016/processed_data_full_range_075mm/Latuque__63a5e9bc1c6c060977cfb03f-e525c52f29f25102-2/Latuque__63a5e9bc1c6c060977cfb03f-e525c52f29f25102-2_mask_0.nii.gz\n",
      "2023-10-13 13:34:48,499 INFO image_writer.py:197 - writing: /home/vlermakov/Development/Nodules/Nodule-Detection-LUNA2016/processed_data_full_range_075mm/Jablomi__63703b5bf3dfc10a08168731-f9267d1ecbafd8ec-3/Jablomi__63703b5bf3dfc10a08168731-f9267d1ecbafd8ec-3_image_0.nii.gz\n",
      "2023-10-13 13:34:51,190 INFO image_writer.py:197 - writing: /home/vlermakov/Development/Nodules/Nodule-Detection-LUNA2016/processed_data_full_range_075mm/Jablomi__63703b5bf3dfc10a08168731-f9267d1ecbafd8ec-3/Jablomi__63703b5bf3dfc10a08168731-f9267d1ecbafd8ec-3_mask_0.nii.gz\n"
     ]
    },
    {
     "name": "stderr",
     "output_type": "stream",
     "text": [
      "\r",
      "Loading dataset:  49%|█████████████████████████████████████████████████████████████████████████████████████████████████████████████▍                                                                                                                  | 296/606 [44:32<53:54, 10.43s/it]"
     ]
    },
    {
     "name": "stdout",
     "output_type": "stream",
     "text": [
      "2023-10-13 13:34:58,449 INFO image_writer.py:197 - writing: /home/vlermakov/Development/Nodules/Nodule-Detection-LUNA2016/processed_data_full_range_075mm/Tobikod__6397c11ecd336609a6555a68-2947be13ce08a651-3/Tobikod__6397c11ecd336609a6555a68-2947be13ce08a651-3_image_0.nii.gz\n",
      "2023-10-13 13:34:58,681 INFO image_writer.py:197 - writing: /home/vlermakov/Development/Nodules/Nodule-Detection-LUNA2016/processed_data_full_range_075mm/Tobikod__6397c11ecd336609a6555a68-2947be13ce08a651-3/Tobikod__6397c11ecd336609a6555a68-2947be13ce08a651-3_mask_0.nii.gz\n",
      "2023-10-13 13:35:04,253 INFO image_writer.py:197 - writing: /home/vlermakov/Development/Nodules/Nodule-Detection-LUNA2016/processed_data_full_range_075mm/Latuque__63a5e9bc1c6c060977cfb03f-e525c52f29f25102-10/Latuque__63a5e9bc1c6c060977cfb03f-e525c52f29f25102-10_image_0.nii.gz\n",
      "2023-10-13 13:35:04,669 INFO image_writer.py:197 - writing: /home/vlermakov/Development/Nodules/Nodule-Detection-LUNA2016/processed_data_full_range_075mm/Tobikod__6397c11ecd336609a6555a68-2947be13ce08a651-1/Tobikod__6397c11ecd336609a6555a68-2947be13ce08a651-1_image_0.nii.gz\n",
      "2023-10-13 13:35:04,897 INFO image_writer.py:197 - writing: /home/vlermakov/Development/Nodules/Nodule-Detection-LUNA2016/processed_data_full_range_075mm/Tobikod__6397c11ecd336609a6555a68-2947be13ce08a651-5/Tobikod__6397c11ecd336609a6555a68-2947be13ce08a651-5_image_0.nii.gz\n",
      "2023-10-13 13:35:04,940 INFO image_writer.py:197 - writing: /home/vlermakov/Development/Nodules/Nodule-Detection-LUNA2016/processed_data_full_range_075mm/Latuque__63a5e9bc1c6c060977cfb03f-e525c52f29f25102-10/Latuque__63a5e9bc1c6c060977cfb03f-e525c52f29f25102-10_mask_0.nii.gz\n",
      "2023-10-13 13:35:11,430 INFO image_writer.py:197 - writing: /home/vlermakov/Development/Nodules/Nodule-Detection-LUNA2016/processed_data_full_range_075mm/Tobikod__6397c11ecd336609a6555a68-2947be13ce08a651-5/Tobikod__6397c11ecd336609a6555a68-2947be13ce08a651-5_mask_0.nii.gz\n",
      "2023-10-13 13:35:11,480 INFO image_writer.py:197 - writing: /home/vlermakov/Development/Nodules/Nodule-Detection-LUNA2016/processed_data_full_range_075mm/Tobikod__6397c11ecd336609a6555a68-2947be13ce08a651-1/Tobikod__6397c11ecd336609a6555a68-2947be13ce08a651-1_mask_0.nii.gz\n"
     ]
    },
    {
     "name": "stderr",
     "output_type": "stream",
     "text": [
      "Loading dataset:  49%|██████████████████████████████████████████████████████████████████████████████████████████████████████████████▌                                                                                                                 | 299/606 [45:01<45:25,  8.88s/it]"
     ]
    },
    {
     "name": "stdout",
     "output_type": "stream",
     "text": [
      "2023-10-13 13:35:22,475 INFO image_writer.py:197 - writing: /home/vlermakov/Development/Nodules/Nodule-Detection-LUNA2016/processed_data_full_range_075mm/Latuque__63a5e9bc1c6c060977cfb03f-e525c52f29f25102-14/Latuque__63a5e9bc1c6c060977cfb03f-e525c52f29f25102-14_image_0.nii.gz\n",
      "2023-10-13 13:35:22,824 INFO image_writer.py:197 - writing: /home/vlermakov/Development/Nodules/Nodule-Detection-LUNA2016/processed_data_full_range_075mm/Latuque__63a5e9bc1c6c060977cfb03f-e525c52f29f25102-14/Latuque__63a5e9bc1c6c060977cfb03f-e525c52f29f25102-14_mask_0.nii.gz\n"
     ]
    },
    {
     "name": "stderr",
     "output_type": "stream",
     "text": [
      "Loading dataset:  50%|████████████████████████████████████████████████████████████████████████████████████████████████████████████████                                                                                                                | 303/606 [45:05<19:58,  3.95s/it]"
     ]
    },
    {
     "name": "stdout",
     "output_type": "stream",
     "text": [
      "2023-10-13 13:35:37,004 INFO image_writer.py:197 - writing: /home/vlermakov/Development/Nodules/Nodule-Detection-LUNA2016/processed_data_full_range_075mm/Latuque__63a5e9bc1c6c060977cfb03f-e525c52f29f25102-3/Latuque__63a5e9bc1c6c060977cfb03f-e525c52f29f25102-3_image_0.nii.gz\n",
      "2023-10-13 13:35:37,177 INFO image_writer.py:197 - writing: /home/vlermakov/Development/Nodules/Nodule-Detection-LUNA2016/processed_data_full_range_075mm/Latuque__63a5e9bc1c6c060977cfb03f-e525c52f29f25102-3/Latuque__63a5e9bc1c6c060977cfb03f-e525c52f29f25102-3_mask_0.nii.gz\n"
     ]
    },
    {
     "name": "stderr",
     "output_type": "stream",
     "text": [
      "\r",
      "Loading dataset:  50%|████████████████████████████████████████████████████████████████████████████████████████████████████████████████▎                                                                                                               | 304/606 [45:17<29:37,  5.88s/it]"
     ]
    },
    {
     "name": "stdout",
     "output_type": "stream",
     "text": [
      "2023-10-13 13:35:42,883 INFO image_writer.py:197 - writing: /home/vlermakov/Development/Nodules/Nodule-Detection-LUNA2016/processed_data_full_range_075mm/Latuque__63a5e9bc1c6c060977cfb03f-e525c52f29f25102-12/Latuque__63a5e9bc1c6c060977cfb03f-e525c52f29f25102-12_image_0.nii.gz\n",
      "2023-10-13 13:35:43,132 INFO image_writer.py:197 - writing: /home/vlermakov/Development/Nodules/Nodule-Detection-LUNA2016/processed_data_full_range_075mm/Latuque__63a5e9bc1c6c060977cfb03f-e525c52f29f25102-12/Latuque__63a5e9bc1c6c060977cfb03f-e525c52f29f25102-12_mask_0.nii.gz\n"
     ]
    },
    {
     "name": "stderr",
     "output_type": "stream",
     "text": [
      "\r",
      "Loading dataset:  50%|████████████████████████████████████████████████████████████████████████████████████████████████████████████████▋                                                                                                               | 305/606 [45:24<30:06,  6.00s/it]"
     ]
    },
    {
     "name": "stdout",
     "output_type": "stream",
     "text": [
      "2023-10-13 13:35:53,831 INFO image_writer.py:197 - writing: /home/vlermakov/Development/Nodules/Nodule-Detection-LUNA2016/processed_data_full_range_075mm/Latuque__63a5e9bc1c6c060977cfb03f-e525c52f29f25102-6/Latuque__63a5e9bc1c6c060977cfb03f-e525c52f29f25102-6_image_0.nii.gz\n",
      "2023-10-13 13:35:53,854 INFO image_writer.py:197 - writing: /home/vlermakov/Development/Nodules/Nodule-Detection-LUNA2016/processed_data_full_range_075mm/Latuque__63a5e9bc1c6c060977cfb03f-e525c52f29f25102-5/Latuque__63a5e9bc1c6c060977cfb03f-e525c52f29f25102-5_image_0.nii.gz\n",
      "2023-10-13 13:35:54,277 INFO image_writer.py:197 - writing: /home/vlermakov/Development/Nodules/Nodule-Detection-LUNA2016/processed_data_full_range_075mm/Latuque__63a5e9bc1c6c060977cfb03f-e525c52f29f25102-6/Latuque__63a5e9bc1c6c060977cfb03f-e525c52f29f25102-6_mask_0.nii.gz\n",
      "2023-10-13 13:35:54,349 INFO image_writer.py:197 - writing: /home/vlermakov/Development/Nodules/Nodule-Detection-LUNA2016/processed_data_full_range_075mm/Nadiefi__63b5f737889c670962f585ec-b6f1a36cef14e6d3-1/Nadiefi__63b5f737889c670962f585ec-b6f1a36cef14e6d3-1_image_0.nii.gz\n",
      "2023-10-13 13:35:54,691 INFO image_writer.py:197 - writing: /home/vlermakov/Development/Nodules/Nodule-Detection-LUNA2016/processed_data_full_range_075mm/Latuque__63a5e9bc1c6c060977cfb03f-e525c52f29f25102-5/Latuque__63a5e9bc1c6c060977cfb03f-e525c52f29f25102-5_mask_0.nii.gz\n",
      "2023-10-13 13:35:55,031 INFO image_writer.py:197 - writing: /home/vlermakov/Development/Nodules/Nodule-Detection-LUNA2016/processed_data_full_range_075mm/Nadiefi__63b5f737889c670962f585ec-b6f1a36cef14e6d3-1/Nadiefi__63b5f737889c670962f585ec-b6f1a36cef14e6d3-1_mask_0.nii.gz\n"
     ]
    },
    {
     "name": "stderr",
     "output_type": "stream",
     "text": [
      "Loading dataset:  51%|█████████████████████████████████████████████████████████████████████████████████████████████████████████████████▍                                                                                                              | 307/606 [45:43<36:02,  7.23s/it]"
     ]
    },
    {
     "name": "stdout",
     "output_type": "stream",
     "text": [
      "2023-10-13 13:36:10,959 INFO image_writer.py:197 - writing: /home/vlermakov/Development/Nodules/Nodule-Detection-LUNA2016/processed_data_full_range_075mm/Nadiefi__63b5f737889c670962f585ec-b6f1a36cef14e6d3-2/Nadiefi__63b5f737889c670962f585ec-b6f1a36cef14e6d3-2_image_0.nii.gz\n",
      "2023-10-13 13:36:11,717 INFO image_writer.py:197 - writing: /home/vlermakov/Development/Nodules/Nodule-Detection-LUNA2016/processed_data_full_range_075mm/Nadiefi__63b5f737889c670962f585ec-b6f1a36cef14e6d3-2/Nadiefi__63b5f737889c670962f585ec-b6f1a36cef14e6d3-2_mask_0.nii.gz\n"
     ]
    },
    {
     "name": "stderr",
     "output_type": "stream",
     "text": [
      "Loading dataset:  51%|██████████████████████████████████████████████████████████████████████████████████████████████████████████████████▏                                                                                                             | 309/606 [45:58<35:27,  7.16s/it]"
     ]
    },
    {
     "name": "stdout",
     "output_type": "stream",
     "text": [
      "2023-10-13 13:36:20,510 INFO image_writer.py:197 - writing: /home/vlermakov/Development/Nodules/Nodule-Detection-LUNA2016/processed_data_full_range_075mm/Rumegud__6399edd1a332880990fb194c-3ea420ba383d61dd-32/Rumegud__6399edd1a332880990fb194c-3ea420ba383d61dd-32_image_0.nii.gz\n",
      "2023-10-13 13:36:21,701 INFO image_writer.py:197 - writing: /home/vlermakov/Development/Nodules/Nodule-Detection-LUNA2016/processed_data_full_range_075mm/Rumegud__6399edd1a332880990fb194c-3ea420ba383d61dd-32/Rumegud__6399edd1a332880990fb194c-3ea420ba383d61dd-32_mask_0.nii.gz\n"
     ]
    },
    {
     "name": "stderr",
     "output_type": "stream",
     "text": [
      "\r",
      "Loading dataset:  51%|██████████████████████████████████████████████████████████████████████████████████████████████████████████████████▌                                                                                                             | 310/606 [46:03<31:34,  6.40s/it]"
     ]
    },
    {
     "name": "stdout",
     "output_type": "stream",
     "text": [
      "2023-10-13 13:36:28,049 INFO image_writer.py:197 - writing: /home/vlermakov/Development/Nodules/Nodule-Detection-LUNA2016/processed_data_full_range_075mm/Bluplugu__6356a12c9846c7098da55273-2820719388ad13c0-2/Bluplugu__6356a12c9846c7098da55273-2820719388ad13c0-2_image_0.nii.gz\n",
      "2023-10-13 13:36:29,030 INFO image_writer.py:197 - writing: /home/vlermakov/Development/Nodules/Nodule-Detection-LUNA2016/processed_data_full_range_075mm/Bluplugu__6356a12c9846c7098da55273-2820719388ad13c0-2/Bluplugu__6356a12c9846c7098da55273-2820719388ad13c0-2_mask_0.nii.gz\n",
      "2023-10-13 13:36:40,463 INFO image_writer.py:197 - writing: /home/vlermakov/Development/Nodules/Nodule-Detection-LUNA2016/processed_data_full_range_075mm/Neyakbray__63504cd166c41709abccd379-5769b5c17b3d3ce9-1/Neyakbray__63504cd166c41709abccd379-5769b5c17b3d3ce9-1_image_0.nii.gz\n",
      "2023-10-13 13:36:43,495 INFO image_writer.py:197 - writing: /home/vlermakov/Development/Nodules/Nodule-Detection-LUNA2016/processed_data_full_range_075mm/Neyakbray__63504cd166c41709abccd379-5769b5c17b3d3ce9-1/Neyakbray__63504cd166c41709abccd379-5769b5c17b3d3ce9-1_mask_0.nii.gz\n",
      "2023-10-13 13:36:52,221 INFO image_writer.py:197 - writing: /home/vlermakov/Development/Nodules/Nodule-Detection-LUNA2016/processed_data_full_range_075mm/Tagoobam__63b4858ddde35f09102ff9a1-021a919af627ed6d-3/Tagoobam__63b4858ddde35f09102ff9a1-021a919af627ed6d-3_image_0.nii.gz\n",
      "2023-10-13 13:36:52,519 INFO image_writer.py:197 - writing: /home/vlermakov/Development/Nodules/Nodule-Detection-LUNA2016/processed_data_full_range_075mm/Neyakbray__63504cd166c41709abccd379-5769b5c17b3d3ce9-2/Neyakbray__63504cd166c41709abccd379-5769b5c17b3d3ce9-2_image_0.nii.gz\n",
      "2023-10-13 13:36:52,656 INFO image_writer.py:197 - writing: /home/vlermakov/Development/Nodules/Nodule-Detection-LUNA2016/processed_data_full_range_075mm/Rumegud__6399edd1a332880990fb194c-3ea420ba383d61dd-26/Rumegud__6399edd1a332880990fb194c-3ea420ba383d61dd-26_image_0.nii.gz\n",
      "2023-10-13 13:36:53,020 INFO image_writer.py:197 - writing: /home/vlermakov/Development/Nodules/Nodule-Detection-LUNA2016/processed_data_full_range_075mm/Tagoobam__63b4858ddde35f09102ff9a1-021a919af627ed6d-3/Tagoobam__63b4858ddde35f09102ff9a1-021a919af627ed6d-3_mask_0.nii.gz\n",
      "2023-10-13 13:36:53,114 INFO image_writer.py:197 - writing: /home/vlermakov/Development/Nodules/Nodule-Detection-LUNA2016/processed_data_full_range_075mm/Neyakbray__63504cd166c41709abccd379-5769b5c17b3d3ce9-2/Neyakbray__63504cd166c41709abccd379-5769b5c17b3d3ce9-2_mask_0.nii.gz\n",
      "2023-10-13 13:36:53,293 INFO image_writer.py:197 - writing: /home/vlermakov/Development/Nodules/Nodule-Detection-LUNA2016/processed_data_full_range_075mm/Rumegud__6399edd1a332880990fb194c-3ea420ba383d61dd-26/Rumegud__6399edd1a332880990fb194c-3ea420ba383d61dd-26_mask_0.nii.gz\n"
     ]
    },
    {
     "name": "stderr",
     "output_type": "stream",
     "text": [
      "Loading dataset:  51%|███████████████████████████████████████████████████████████████████████████████████████████████████████████████████▎                                                                                                            | 312/606 [46:43<56:50, 11.60s/it]"
     ]
    },
    {
     "name": "stdout",
     "output_type": "stream",
     "text": [
      "2023-10-13 13:37:08,815 INFO image_writer.py:197 - writing: /home/vlermakov/Development/Nodules/Nodule-Detection-LUNA2016/processed_data_full_range_075mm/Bluplugu__6356a12c9846c7098da55273-2820719388ad13c0-1/Bluplugu__6356a12c9846c7098da55273-2820719388ad13c0-1_image_0.nii.gz\n",
      "2023-10-13 13:37:09,358 INFO image_writer.py:197 - writing: /home/vlermakov/Development/Nodules/Nodule-Detection-LUNA2016/processed_data_full_range_075mm/Bluplugu__6356a12c9846c7098da55273-2820719388ad13c0-1/Bluplugu__6356a12c9846c7098da55273-2820719388ad13c0-1_mask_0.nii.gz\n"
     ]
    },
    {
     "name": "stderr",
     "output_type": "stream",
     "text": [
      "Loading dataset:  52%|████████████████████████████████████████████████████████████████████████████████████████████████████████████████████                                                                                                            | 314/606 [46:55<42:12,  8.67s/it]"
     ]
    },
    {
     "name": "stdout",
     "output_type": "stream",
     "text": [
      "2023-10-13 13:37:21,534 INFO image_writer.py:197 - writing: /home/vlermakov/Development/Nodules/Nodule-Detection-LUNA2016/processed_data_full_range_075mm/Jemorug__63489a65cc4e4c0afa55a3cd-edbfb106ee649e27-1/Jemorug__63489a65cc4e4c0afa55a3cd-edbfb106ee649e27-1_image_0.nii.gz\n",
      "2023-10-13 13:37:21,586 INFO image_writer.py:197 - writing: /home/vlermakov/Development/Nodules/Nodule-Detection-LUNA2016/processed_data_full_range_075mm/Jemorug__63489a65cc4e4c0afa55a3cd-edbfb106ee649e27-2/Jemorug__63489a65cc4e4c0afa55a3cd-edbfb106ee649e27-2_image_0.nii.gz\n",
      "2023-10-13 13:37:22,179 INFO image_writer.py:197 - writing: /home/vlermakov/Development/Nodules/Nodule-Detection-LUNA2016/processed_data_full_range_075mm/Jemorug__63489a65cc4e4c0afa55a3cd-edbfb106ee649e27-1/Jemorug__63489a65cc4e4c0afa55a3cd-edbfb106ee649e27-1_mask_0.nii.gz\n",
      "2023-10-13 13:37:22,357 INFO image_writer.py:197 - writing: /home/vlermakov/Development/Nodules/Nodule-Detection-LUNA2016/processed_data_full_range_075mm/Jemorug__63489a65cc4e4c0afa55a3cd-edbfb106ee649e27-2/Jemorug__63489a65cc4e4c0afa55a3cd-edbfb106ee649e27-2_mask_0.nii.gz\n"
     ]
    },
    {
     "name": "stderr",
     "output_type": "stream",
     "text": [
      "Loading dataset:  52%|█████████████████████████████████████████████████████████████████████████████████████████████████████████████████████▌                                                                                                          | 318/606 [47:08<23:31,  4.90s/it]"
     ]
    },
    {
     "name": "stdout",
     "output_type": "stream",
     "text": [
      "2023-10-13 13:37:42,887 INFO image_writer.py:197 - writing: /home/vlermakov/Development/Nodules/Nodule-Detection-LUNA2016/processed_data_full_range_075mm/Jemorug__63489a65cc4e4c0afa55a3cd-edbfb106ee649e27-4/Jemorug__63489a65cc4e4c0afa55a3cd-edbfb106ee649e27-4_image_0.nii.gz\n",
      "2023-10-13 13:37:42,910 INFO image_writer.py:197 - writing: /home/vlermakov/Development/Nodules/Nodule-Detection-LUNA2016/processed_data_full_range_075mm/Jemorug__63489a65cc4e4c0afa55a3cd-edbfb106ee649e27-3/Jemorug__63489a65cc4e4c0afa55a3cd-edbfb106ee649e27-3_image_0.nii.gz\n",
      "2023-10-13 13:37:43,072 INFO image_writer.py:197 - writing: /home/vlermakov/Development/Nodules/Nodule-Detection-LUNA2016/processed_data_full_range_075mm/Jemorug__63489a65cc4e4c0afa55a3cd-edbfb106ee649e27-5/Jemorug__63489a65cc4e4c0afa55a3cd-edbfb106ee649e27-5_image_0.nii.gz\n",
      "2023-10-13 13:37:43,114 INFO image_writer.py:197 - writing: /home/vlermakov/Development/Nodules/Nodule-Detection-LUNA2016/processed_data_full_range_075mm/Jemorug__63489a65cc4e4c0afa55a3cd-edbfb106ee649e27-4/Jemorug__63489a65cc4e4c0afa55a3cd-edbfb106ee649e27-4_mask_0.nii.gz\n",
      "2023-10-13 13:37:43,130 INFO image_writer.py:197 - writing: /home/vlermakov/Development/Nodules/Nodule-Detection-LUNA2016/processed_data_full_range_075mm/Jemorug__63489a65cc4e4c0afa55a3cd-edbfb106ee649e27-3/Jemorug__63489a65cc4e4c0afa55a3cd-edbfb106ee649e27-3_mask_0.nii.gz\n",
      "2023-10-13 13:37:43,194 INFO image_writer.py:197 - writing: /home/vlermakov/Development/Nodules/Nodule-Detection-LUNA2016/processed_data_full_range_075mm/Jemorug__63489a65cc4e4c0afa55a3cd-edbfb106ee649e27-5/Jemorug__63489a65cc4e4c0afa55a3cd-edbfb106ee649e27-5_mask_0.nii.gz\n"
     ]
    },
    {
     "name": "stderr",
     "output_type": "stream",
     "text": [
      "Loading dataset:  53%|██████████████████████████████████████████████████████████████████████████████████████████████████████████████████████▎                                                                                                         | 320/606 [47:33<36:49,  7.73s/it]"
     ]
    },
    {
     "name": "stdout",
     "output_type": "stream",
     "text": [
      "2023-10-13 13:37:55,831 INFO image_writer.py:197 - writing: /home/vlermakov/Development/Nodules/Nodule-Detection-LUNA2016/processed_data_full_range_075mm/Roujinok__63ab8d14a87923093a43bb45-636f01f778400ae7-1/Roujinok__63ab8d14a87923093a43bb45-636f01f778400ae7-1_image_0.nii.gz\n",
      "2023-10-13 13:37:55,880 INFO image_writer.py:197 - writing: /home/vlermakov/Development/Nodules/Nodule-Detection-LUNA2016/processed_data_full_range_075mm/Roujinok__63ab8d14a87923093a43bb45-636f01f778400ae7-2/Roujinok__63ab8d14a87923093a43bb45-636f01f778400ae7-2_image_0.nii.gz\n",
      "2023-10-13 13:37:56,284 INFO image_writer.py:197 - writing: /home/vlermakov/Development/Nodules/Nodule-Detection-LUNA2016/processed_data_full_range_075mm/Roujinok__63ab8d14a87923093a43bb45-636f01f778400ae7-1/Roujinok__63ab8d14a87923093a43bb45-636f01f778400ae7-1_mask_0.nii.gz\n",
      "2023-10-13 13:37:56,427 INFO image_writer.py:197 - writing: /home/vlermakov/Development/Nodules/Nodule-Detection-LUNA2016/processed_data_full_range_075mm/Roujinok__63ab8d14a87923093a43bb45-636f01f778400ae7-2/Roujinok__63ab8d14a87923093a43bb45-636f01f778400ae7-2_mask_0.nii.gz\n"
     ]
    },
    {
     "name": "stderr",
     "output_type": "stream",
     "text": [
      "Loading dataset:  53%|███████████████████████████████████████████████████████████████████████████████████████████████████████████████████████▍                                                                                                        | 323/606 [47:41<23:05,  4.90s/it]"
     ]
    },
    {
     "name": "stdout",
     "output_type": "stream",
     "text": [
      "2023-10-13 13:38:04,326 INFO image_writer.py:197 - writing: /home/vlermakov/Development/Nodules/Nodule-Detection-LUNA2016/processed_data_full_range_075mm/Leeklinum__639df0788e0456092589d72d-88e7c1a628f6080c-3/Leeklinum__639df0788e0456092589d72d-88e7c1a628f6080c-3_image_0.nii.gz\n",
      "2023-10-13 13:38:04,380 INFO image_writer.py:197 - writing: /home/vlermakov/Development/Nodules/Nodule-Detection-LUNA2016/processed_data_full_range_075mm/Leeklinum__639df0788e0456092589d72d-88e7c1a628f6080c-2/Leeklinum__639df0788e0456092589d72d-88e7c1a628f6080c-2_image_0.nii.gz\n",
      "2023-10-13 13:38:04,647 INFO image_writer.py:197 - writing: /home/vlermakov/Development/Nodules/Nodule-Detection-LUNA2016/processed_data_full_range_075mm/Leeklinum__639df0788e0456092589d72d-88e7c1a628f6080c-3/Leeklinum__639df0788e0456092589d72d-88e7c1a628f6080c-3_mask_0.nii.gz\n",
      "2023-10-13 13:38:04,695 INFO image_writer.py:197 - writing: /home/vlermakov/Development/Nodules/Nodule-Detection-LUNA2016/processed_data_full_range_075mm/Leeklinum__639df0788e0456092589d72d-88e7c1a628f6080c-2/Leeklinum__639df0788e0456092589d72d-88e7c1a628f6080c-2_mask_0.nii.gz\n"
     ]
    },
    {
     "name": "stderr",
     "output_type": "stream",
     "text": [
      "Loading dataset:  54%|████████████████████████████████████████████████████████████████████████████████████████████████████████████████████████▏                                                                                                       | 325/606 [47:51<21:44,  4.64s/it]"
     ]
    },
    {
     "name": "stdout",
     "output_type": "stream",
     "text": [
      "2023-10-13 13:38:24,271 INFO image_writer.py:197 - writing: /home/vlermakov/Development/Nodules/Nodule-Detection-LUNA2016/processed_data_full_range_075mm/Leeklinum__639df0788e0456092589d72d-88e7c1a628f6080c-4/Leeklinum__639df0788e0456092589d72d-88e7c1a628f6080c-4_image_0.nii.gz\n",
      "2023-10-13 13:38:24,571 INFO image_writer.py:197 - writing: /home/vlermakov/Development/Nodules/Nodule-Detection-LUNA2016/processed_data_full_range_075mm/Leeklinum__639df0788e0456092589d72d-88e7c1a628f6080c-4/Leeklinum__639df0788e0456092589d72d-88e7c1a628f6080c-4_mask_0.nii.gz\n"
     ]
    },
    {
     "name": "stderr",
     "output_type": "stream",
     "text": [
      "\r",
      "Loading dataset:  54%|████████████████████████████████████████████████████████████████████████████████████████████████████████████████████████▌                                                                                                       | 326/606 [48:05<33:29,  7.18s/it]"
     ]
    },
    {
     "name": "stdout",
     "output_type": "stream",
     "text": [
      "2023-10-13 13:38:38,464 INFO image_writer.py:197 - writing: /home/vlermakov/Development/Nodules/Nodule-Detection-LUNA2016/processed_data_full_range_075mm/Leeklinum__639df0788e0456092589d72d-88e7c1a628f6080c-5/Leeklinum__639df0788e0456092589d72d-88e7c1a628f6080c-5_image_0.nii.gz\n",
      "2023-10-13 13:38:38,476 INFO image_writer.py:197 - writing: /home/vlermakov/Development/Nodules/Nodule-Detection-LUNA2016/processed_data_full_range_075mm/Leeklinum__639df0788e0456092589d72d-88e7c1a628f6080c-7/Leeklinum__639df0788e0456092589d72d-88e7c1a628f6080c-7_image_0.nii.gz\n",
      "2023-10-13 13:38:38,530 INFO image_writer.py:197 - writing: /home/vlermakov/Development/Nodules/Nodule-Detection-LUNA2016/processed_data_full_range_075mm/Leeklinum__639df0788e0456092589d72d-88e7c1a628f6080c-9/Leeklinum__639df0788e0456092589d72d-88e7c1a628f6080c-9_image_0.nii.gz\n",
      "2023-10-13 13:38:38,821 INFO image_writer.py:197 - writing: /home/vlermakov/Development/Nodules/Nodule-Detection-LUNA2016/processed_data_full_range_075mm/Leeklinum__639df0788e0456092589d72d-88e7c1a628f6080c-6/Leeklinum__639df0788e0456092589d72d-88e7c1a628f6080c-6_image_0.nii.gz\n",
      "2023-10-13 13:38:38,921 INFO image_writer.py:197 - writing: /home/vlermakov/Development/Nodules/Nodule-Detection-LUNA2016/processed_data_full_range_075mm/Leeklinum__639df0788e0456092589d72d-88e7c1a628f6080c-8/Leeklinum__639df0788e0456092589d72d-88e7c1a628f6080c-8_image_0.nii.gz\n",
      "2023-10-13 13:38:38,986 INFO image_writer.py:197 - writing: /home/vlermakov/Development/Nodules/Nodule-Detection-LUNA2016/processed_data_full_range_075mm/Leeklinum__639df0788e0456092589d72d-88e7c1a628f6080c-5/Leeklinum__639df0788e0456092589d72d-88e7c1a628f6080c-5_mask_0.nii.gz\n",
      "2023-10-13 13:38:39,004 INFO image_writer.py:197 - writing: /home/vlermakov/Development/Nodules/Nodule-Detection-LUNA2016/processed_data_full_range_075mm/Leeklinum__639df0788e0456092589d72d-88e7c1a628f6080c-9/Leeklinum__639df0788e0456092589d72d-88e7c1a628f6080c-9_mask_0.nii.gz\n",
      "2023-10-13 13:38:39,008 INFO image_writer.py:197 - writing: /home/vlermakov/Development/Nodules/Nodule-Detection-LUNA2016/processed_data_full_range_075mm/Leeklinum__639df0788e0456092589d72d-88e7c1a628f6080c-7/Leeklinum__639df0788e0456092589d72d-88e7c1a628f6080c-7_mask_0.nii.gz\n",
      "2023-10-13 13:38:39,128 INFO image_writer.py:197 - writing: /home/vlermakov/Development/Nodules/Nodule-Detection-LUNA2016/processed_data_full_range_075mm/Leeklinum__639df0788e0456092589d72d-88e7c1a628f6080c-6/Leeklinum__639df0788e0456092589d72d-88e7c1a628f6080c-6_mask_0.nii.gz\n",
      "2023-10-13 13:38:39,130 INFO image_writer.py:197 - writing: /home/vlermakov/Development/Nodules/Nodule-Detection-LUNA2016/processed_data_full_range_075mm/Leeklinum__639df0788e0456092589d72d-88e7c1a628f6080c-8/Leeklinum__639df0788e0456092589d72d-88e7c1a628f6080c-8_mask_0.nii.gz\n"
     ]
    },
    {
     "name": "stderr",
     "output_type": "stream",
     "text": [
      "Loading dataset:  54%|█████████████████████████████████████████████████████████████████████████████████████████████████████████████████████████▌                                                                                                      | 329/606 [48:44<45:58,  9.96s/it]"
     ]
    },
    {
     "name": "stdout",
     "output_type": "stream",
     "text": [
      "2023-10-13 13:39:05,439 INFO image_writer.py:197 - writing: /home/vlermakov/Development/Nodules/Nodule-Detection-LUNA2016/processed_data_full_range_075mm/Quebutout__63b47cb4e32643091cd764b0-08004216ffa44f00-5/Quebutout__63b47cb4e32643091cd764b0-08004216ffa44f00-5_image_0.nii.gz\n",
      "2023-10-13 13:39:06,373 INFO image_writer.py:197 - writing: /home/vlermakov/Development/Nodules/Nodule-Detection-LUNA2016/processed_data_full_range_075mm/Quebutout__63b47cb4e32643091cd764b0-08004216ffa44f00-5/Quebutout__63b47cb4e32643091cd764b0-08004216ffa44f00-5_mask_0.nii.gz\n"
     ]
    },
    {
     "name": "stderr",
     "output_type": "stream",
     "text": [
      "\r",
      "Loading dataset:  55%|██████████████████████████████████████████████████████████████████████████████████████████████████████████████████████████▋                                                                                                     | 332/606 [48:49<23:58,  5.25s/it]"
     ]
    },
    {
     "name": "stdout",
     "output_type": "stream",
     "text": [
      "2023-10-13 13:39:15,220 INFO image_writer.py:197 - writing: /home/vlermakov/Development/Nodules/Nodule-Detection-LUNA2016/processed_data_full_range_075mm/Quebutout__63b47cb4e32643091cd764b0-08004216ffa44f00-7/Quebutout__63b47cb4e32643091cd764b0-08004216ffa44f00-7_image_0.nii.gz\n",
      "2023-10-13 13:39:15,503 INFO image_writer.py:197 - writing: /home/vlermakov/Development/Nodules/Nodule-Detection-LUNA2016/processed_data_full_range_075mm/Quebutout__63b47cb4e32643091cd764b0-08004216ffa44f00-7/Quebutout__63b47cb4e32643091cd764b0-08004216ffa44f00-7_mask_0.nii.gz\n"
     ]
    },
    {
     "name": "stderr",
     "output_type": "stream",
     "text": [
      "\r",
      "Loading dataset:  55%|███████████████████████████████████████████████████████████████████████████████████████████████████████████████████████████                                                                                                     | 333/606 [48:59<28:27,  6.25s/it]"
     ]
    },
    {
     "name": "stdout",
     "output_type": "stream",
     "text": [
      "2023-10-13 13:39:39,840 INFO image_writer.py:197 - writing: /home/vlermakov/Development/Nodules/Nodule-Detection-LUNA2016/processed_data_full_range_075mm/Puhufub__63ab93c6d5121109d50d4f68-80c285e471db0c45-2/Puhufub__63ab93c6d5121109d50d4f68-80c285e471db0c45-2_image_0.nii.gz\n",
      "2023-10-13 13:39:40,107 INFO image_writer.py:197 - writing: /home/vlermakov/Development/Nodules/Nodule-Detection-LUNA2016/processed_data_full_range_075mm/Puhufub__63ab93c6d5121109d50d4f68-80c285e471db0c45-1/Puhufub__63ab93c6d5121109d50d4f68-80c285e471db0c45-1_image_0.nii.gz\n",
      "2023-10-13 13:39:40,209 INFO image_writer.py:197 - writing: /home/vlermakov/Development/Nodules/Nodule-Detection-LUNA2016/processed_data_full_range_075mm/Puhufub__63ab93c6d5121109d50d4f68-80c285e471db0c45-2/Puhufub__63ab93c6d5121109d50d4f68-80c285e471db0c45-2_mask_0.nii.gz\n",
      "2023-10-13 13:39:40,329 INFO image_writer.py:197 - writing: /home/vlermakov/Development/Nodules/Nodule-Detection-LUNA2016/processed_data_full_range_075mm/Puhufub__63ab93c6d5121109d50d4f68-80c285e471db0c45-1/Puhufub__63ab93c6d5121109d50d4f68-80c285e471db0c45-1_mask_0.nii.gz\n",
      "2023-10-13 13:39:49,164 INFO image_writer.py:197 - writing: /home/vlermakov/Development/Nodules/Nodule-Detection-LUNA2016/processed_data_full_range_075mm/Quebutout__63b47cb4e32643091cd764b0-08004216ffa44f00-9/Quebutout__63b47cb4e32643091cd764b0-08004216ffa44f00-9_image_0.nii.gz\n",
      "2023-10-13 13:39:49,517 INFO image_writer.py:197 - writing: /home/vlermakov/Development/Nodules/Nodule-Detection-LUNA2016/processed_data_full_range_075mm/Quebutout__63b47cb4e32643091cd764b0-08004216ffa44f00-9/Quebutout__63b47cb4e32643091cd764b0-08004216ffa44f00-9_mask_0.nii.gz\n"
     ]
    },
    {
     "name": "stderr",
     "output_type": "stream",
     "text": [
      "Loading dataset:  55%|███████████████████████████████████████████████████████████████████████████████████████████████████████████████████████████▊                                                                                                    | 335/606 [49:35<46:07, 10.21s/it]"
     ]
    },
    {
     "name": "stdout",
     "output_type": "stream",
     "text": [
      "2023-10-13 13:39:55,457 INFO image_writer.py:197 - writing: /home/vlermakov/Development/Nodules/Nodule-Detection-LUNA2016/processed_data_full_range_075mm/Puhufub__63ab93c6d5121109d50d4f68-80c285e471db0c45-3/Puhufub__63ab93c6d5121109d50d4f68-80c285e471db0c45-3_image_0.nii.gz\n",
      "2023-10-13 13:39:55,786 INFO image_writer.py:197 - writing: /home/vlermakov/Development/Nodules/Nodule-Detection-LUNA2016/processed_data_full_range_075mm/Puhufub__63ab93c6d5121109d50d4f68-80c285e471db0c45-3/Puhufub__63ab93c6d5121109d50d4f68-80c285e471db0c45-3_mask_0.nii.gz\n",
      "2023-10-13 13:39:56,007 INFO image_writer.py:197 - writing: /home/vlermakov/Development/Nodules/Nodule-Detection-LUNA2016/processed_data_full_range_075mm/Grujoli__63982cc76d702b09bbb9d959-98004da4452fa2e6-6/Grujoli__63982cc76d702b09bbb9d959-98004da4452fa2e6-6_image_0.nii.gz\n",
      "2023-10-13 13:39:56,167 INFO image_writer.py:197 - writing: /home/vlermakov/Development/Nodules/Nodule-Detection-LUNA2016/processed_data_full_range_075mm/Grujoli__63982cc76d702b09bbb9d959-98004da4452fa2e6-6/Grujoli__63982cc76d702b09bbb9d959-98004da4452fa2e6-6_mask_0.nii.gz\n"
     ]
    },
    {
     "name": "stderr",
     "output_type": "stream",
     "text": [
      "Loading dataset:  56%|████████████████████████████████████████████████████████████████████████████████████████████████████████████████████████████▉                                                                                                   | 338/606 [49:41<26:45,  5.99s/it]"
     ]
    },
    {
     "name": "stdout",
     "output_type": "stream",
     "text": [
      "2023-10-13 13:40:06,629 INFO image_writer.py:197 - writing: /home/vlermakov/Development/Nodules/Nodule-Detection-LUNA2016/processed_data_full_range_075mm/Buroufueln__639de30275b6a2097167b17c-77ede34aaf37df2d-2/Buroufueln__639de30275b6a2097167b17c-77ede34aaf37df2d-2_image_0.nii.gz\n",
      "2023-10-13 13:40:06,966 INFO image_writer.py:197 - writing: /home/vlermakov/Development/Nodules/Nodule-Detection-LUNA2016/processed_data_full_range_075mm/Buroufueln__639de30275b6a2097167b17c-77ede34aaf37df2d-2/Buroufueln__639de30275b6a2097167b17c-77ede34aaf37df2d-2_mask_0.nii.gz\n",
      "2023-10-13 13:40:26,914 INFO image_writer.py:197 - writing: /home/vlermakov/Development/Nodules/Nodule-Detection-LUNA2016/processed_data_full_range_075mm/Hucoshe__634e213e979b4509f9e3a1a5-e759fbbaa1ed6b4b-1/Hucoshe__634e213e979b4509f9e3a1a5-e759fbbaa1ed6b4b-1_image_0.nii.gz\n",
      "2023-10-13 13:40:27,092 INFO image_writer.py:197 - writing: /home/vlermakov/Development/Nodules/Nodule-Detection-LUNA2016/processed_data_full_range_075mm/Hucoshe__634e213e979b4509f9e3a1a5-e759fbbaa1ed6b4b-1/Hucoshe__634e213e979b4509f9e3a1a5-e759fbbaa1ed6b4b-1_mask_0.nii.gz\n",
      "2023-10-13 13:40:41,326 INFO image_writer.py:197 - writing: /home/vlermakov/Development/Nodules/Nodule-Detection-LUNA2016/processed_data_full_range_075mm/Buroufueln__639de30275b6a2097167b17c-77ede34aaf37df2d-4/Buroufueln__639de30275b6a2097167b17c-77ede34aaf37df2d-4_image_0.nii.gz\n",
      "2023-10-13 13:40:43,941 INFO image_writer.py:197 - writing: /home/vlermakov/Development/Nodules/Nodule-Detection-LUNA2016/processed_data_full_range_075mm/Buroufueln__639de30275b6a2097167b17c-77ede34aaf37df2d-4/Buroufueln__639de30275b6a2097167b17c-77ede34aaf37df2d-4_mask_0.nii.gz\n",
      "2023-10-13 13:40:57,822 INFO image_writer.py:197 - writing: /home/vlermakov/Development/Nodules/Nodule-Detection-LUNA2016/processed_data_full_range_075mm/Ulekod__634ef318ddae5a0918affb75-c4d0d94b3a5650aa-10/Ulekod__634ef318ddae5a0918affb75-c4d0d94b3a5650aa-10_image_0.nii.gz\n",
      "2023-10-13 13:40:57,910 INFO image_writer.py:197 - writing: /home/vlermakov/Development/Nodules/Nodule-Detection-LUNA2016/processed_data_full_range_075mm/Quekuedey__6361968e0f707c0b3815819a-5ec0b8ecb29f3ba4-11/Quekuedey__6361968e0f707c0b3815819a-5ec0b8ecb29f3ba4-11_image_0.nii.gz\n",
      "2023-10-13 13:40:58,030 INFO image_writer.py:197 - writing: /home/vlermakov/Development/Nodules/Nodule-Detection-LUNA2016/processed_data_full_range_075mm/Buroufueln__639de30275b6a2097167b17c-77ede34aaf37df2d-8/Buroufueln__639de30275b6a2097167b17c-77ede34aaf37df2d-8_image_0.nii.gz\n",
      "2023-10-13 13:40:58,151 INFO image_writer.py:197 - writing: /home/vlermakov/Development/Nodules/Nodule-Detection-LUNA2016/processed_data_full_range_075mm/Ulekod__634ef318ddae5a0918affb75-c4d0d94b3a5650aa-10/Ulekod__634ef318ddae5a0918affb75-c4d0d94b3a5650aa-10_mask_0.nii.gz\n",
      "2023-10-13 13:40:58,263 INFO image_writer.py:197 - writing: /home/vlermakov/Development/Nodules/Nodule-Detection-LUNA2016/processed_data_full_range_075mm/Buroufueln__639de30275b6a2097167b17c-77ede34aaf37df2d-12/Buroufueln__639de30275b6a2097167b17c-77ede34aaf37df2d-12_image_0.nii.gz\n",
      "2023-10-13 13:40:58,322 INFO image_writer.py:197 - writing: /home/vlermakov/Development/Nodules/Nodule-Detection-LUNA2016/processed_data_full_range_075mm/Buroufueln__639de30275b6a2097167b17c-77ede34aaf37df2d-8/Buroufueln__639de30275b6a2097167b17c-77ede34aaf37df2d-8_mask_0.nii.gz\n",
      "2023-10-13 13:40:58,325 INFO image_writer.py:197 - writing: /home/vlermakov/Development/Nodules/Nodule-Detection-LUNA2016/processed_data_full_range_075mm/Buroufueln__639de30275b6a2097167b17c-77ede34aaf37df2d-9/Buroufueln__639de30275b6a2097167b17c-77ede34aaf37df2d-9_image_0.nii.gz\n",
      "2023-10-13 13:40:58,372 INFO image_writer.py:197 - writing: /home/vlermakov/Development/Nodules/Nodule-Detection-LUNA2016/processed_data_full_range_075mm/Quekuedey__6361968e0f707c0b3815819a-5ec0b8ecb29f3ba4-11/Quekuedey__6361968e0f707c0b3815819a-5ec0b8ecb29f3ba4-11_mask_0.nii.gz\n"
     ]
    },
    {
     "name": "stderr",
     "output_type": "stream",
     "text": [
      "Loading dataset:  56%|██████████████████████████████████████████████████████████████████████████████████████████████████████████████████████████████                                                                                                  | 341/606 [50:53<59:19, 13.43s/it]"
     ]
    },
    {
     "name": "stdout",
     "output_type": "stream",
     "text": [
      "2023-10-13 13:41:13,177 INFO image_writer.py:197 - writing: /home/vlermakov/Development/Nodules/Nodule-Detection-LUNA2016/processed_data_full_range_075mm/Buroufueln__639de30275b6a2097167b17c-77ede34aaf37df2d-12/Buroufueln__639de30275b6a2097167b17c-77ede34aaf37df2d-12_mask_0.nii.gz\n",
      "2023-10-13 13:41:13,186 INFO image_writer.py:197 - writing: /home/vlermakov/Development/Nodules/Nodule-Detection-LUNA2016/processed_data_full_range_075mm/Buroufueln__639de30275b6a2097167b17c-77ede34aaf37df2d-9/Buroufueln__639de30275b6a2097167b17c-77ede34aaf37df2d-9_mask_0.nii.gz\n"
     ]
    },
    {
     "name": "stderr",
     "output_type": "stream",
     "text": [
      "Loading dataset:  57%|███████████████████████████████████████████████████████████████████████████████████████████████████████████████████████████████▏                                                                                                | 344/606 [51:02<33:13,  7.61s/it]"
     ]
    },
    {
     "name": "stdout",
     "output_type": "stream",
     "text": [
      "2023-10-13 13:41:22,683 INFO image_writer.py:197 - writing: /home/vlermakov/Development/Nodules/Nodule-Detection-LUNA2016/processed_data_full_range_075mm/Quekuedey__6361968e0f707c0b3815819a-5ec0b8ecb29f3ba4-1/Quekuedey__6361968e0f707c0b3815819a-5ec0b8ecb29f3ba4-1_image_0.nii.gz\n",
      "2023-10-13 13:41:22,898 INFO image_writer.py:197 - writing: /home/vlermakov/Development/Nodules/Nodule-Detection-LUNA2016/processed_data_full_range_075mm/Quekuedey__6361968e0f707c0b3815819a-5ec0b8ecb29f3ba4-1/Quekuedey__6361968e0f707c0b3815819a-5ec0b8ecb29f3ba4-1_mask_0.nii.gz\n"
     ]
    },
    {
     "name": "stderr",
     "output_type": "stream",
     "text": [
      "\r",
      "Loading dataset:  57%|████████████████████████████████████████████████████████████████████████████████████████████████████████████████████████████████▎                                                                                               | 347/606 [51:03<17:11,  3.98s/it]"
     ]
    },
    {
     "name": "stdout",
     "output_type": "stream",
     "text": [
      "2023-10-13 13:41:55,451 INFO image_writer.py:197 - writing: /home/vlermakov/Development/Nodules/Nodule-Detection-LUNA2016/processed_data_full_range_075mm/Nupodu__639fe9a862156208f39054bf-199612c6a509ec9c-3/Nupodu__639fe9a862156208f39054bf-199612c6a509ec9c-3_image_0.nii.gz\n",
      "2023-10-13 13:41:55,579 INFO image_writer.py:197 - writing: /home/vlermakov/Development/Nodules/Nodule-Detection-LUNA2016/processed_data_full_range_075mm/Nupodu__639fe9a862156208f39054bf-199612c6a509ec9c-6/Nupodu__639fe9a862156208f39054bf-199612c6a509ec9c-6_image_0.nii.gz\n",
      "2023-10-13 13:41:56,302 INFO image_writer.py:197 - writing: /home/vlermakov/Development/Nodules/Nodule-Detection-LUNA2016/processed_data_full_range_075mm/Nupodu__639fe9a862156208f39054bf-199612c6a509ec9c-6/Nupodu__639fe9a862156208f39054bf-199612c6a509ec9c-6_mask_0.nii.gz\n",
      "2023-10-13 13:41:56,395 INFO image_writer.py:197 - writing: /home/vlermakov/Development/Nodules/Nodule-Detection-LUNA2016/processed_data_full_range_075mm/Nupodu__639fe9a862156208f39054bf-199612c6a509ec9c-3/Nupodu__639fe9a862156208f39054bf-199612c6a509ec9c-3_mask_0.nii.gz\n"
     ]
    },
    {
     "name": "stderr",
     "output_type": "stream",
     "text": [
      "Loading dataset:  58%|█████████████████████████████████████████████████████████████████████████████████████████████████████████████████████████████████                                                                                               | 349/606 [51:47<41:55,  9.79s/it]"
     ]
    },
    {
     "name": "stdout",
     "output_type": "stream",
     "text": [
      "2023-10-13 13:42:10,530 INFO image_writer.py:197 - writing: /home/vlermakov/Development/Nodules/Nodule-Detection-LUNA2016/processed_data_full_range_075mm/Firadek__634b0e48cbdf0709a84dd309-2c4f36219a249715-25/Firadek__634b0e48cbdf0709a84dd309-2c4f36219a249715-25_image_0.nii.gz\n",
      "2023-10-13 13:42:10,754 INFO image_writer.py:197 - writing: /home/vlermakov/Development/Nodules/Nodule-Detection-LUNA2016/processed_data_full_range_075mm/Firadek__634b0e48cbdf0709a84dd309-2c4f36219a249715-21/Firadek__634b0e48cbdf0709a84dd309-2c4f36219a249715-21_image_0.nii.gz\n",
      "2023-10-13 13:42:11,021 INFO image_writer.py:197 - writing: /home/vlermakov/Development/Nodules/Nodule-Detection-LUNA2016/processed_data_full_range_075mm/Firadek__634b0e48cbdf0709a84dd309-2c4f36219a249715-20/Firadek__634b0e48cbdf0709a84dd309-2c4f36219a249715-20_image_0.nii.gz\n",
      "2023-10-13 13:42:12,037 INFO image_writer.py:197 - writing: /home/vlermakov/Development/Nodules/Nodule-Detection-LUNA2016/processed_data_full_range_075mm/Firadek__634b0e48cbdf0709a84dd309-2c4f36219a249715-21/Firadek__634b0e48cbdf0709a84dd309-2c4f36219a249715-21_mask_0.nii.gz\n",
      "2023-10-13 13:42:12,234 INFO image_writer.py:197 - writing: /home/vlermakov/Development/Nodules/Nodule-Detection-LUNA2016/processed_data_full_range_075mm/Firadek__634b0e48cbdf0709a84dd309-2c4f36219a249715-25/Firadek__634b0e48cbdf0709a84dd309-2c4f36219a249715-25_mask_0.nii.gz\n",
      "2023-10-13 13:42:12,893 INFO image_writer.py:197 - writing: /home/vlermakov/Development/Nodules/Nodule-Detection-LUNA2016/processed_data_full_range_075mm/Firadek__634b0e48cbdf0709a84dd309-2c4f36219a249715-20/Firadek__634b0e48cbdf0709a84dd309-2c4f36219a249715-20_mask_0.nii.gz\n"
     ]
    },
    {
     "name": "stderr",
     "output_type": "stream",
     "text": [
      "Loading dataset:  58%|██████████████████████████████████████████████████████████████████████████████████████████████████████████████████████████████████                                                                                              | 352/606 [52:06<31:57,  7.55s/it]"
     ]
    },
    {
     "name": "stdout",
     "output_type": "stream",
     "text": [
      "2023-10-13 13:42:27,329 INFO image_writer.py:197 - writing: /home/vlermakov/Development/Nodules/Nodule-Detection-LUNA2016/processed_data_full_range_075mm/Firadek__634b0e48cbdf0709a84dd309-2c4f36219a249715-10/Firadek__634b0e48cbdf0709a84dd309-2c4f36219a249715-10_image_0.nii.gz\n",
      "2023-10-13 13:42:27,473 INFO image_writer.py:197 - writing: /home/vlermakov/Development/Nodules/Nodule-Detection-LUNA2016/processed_data_full_range_075mm/Firadek__634b0e48cbdf0709a84dd309-2c4f36219a249715-8/Firadek__634b0e48cbdf0709a84dd309-2c4f36219a249715-8_image_0.nii.gz\n",
      "2023-10-13 13:42:28,112 INFO image_writer.py:197 - writing: /home/vlermakov/Development/Nodules/Nodule-Detection-LUNA2016/processed_data_full_range_075mm/Firadek__634b0e48cbdf0709a84dd309-2c4f36219a249715-10/Firadek__634b0e48cbdf0709a84dd309-2c4f36219a249715-10_mask_0.nii.gz\n",
      "2023-10-13 13:42:28,212 INFO image_writer.py:197 - writing: /home/vlermakov/Development/Nodules/Nodule-Detection-LUNA2016/processed_data_full_range_075mm/Firadek__634b0e48cbdf0709a84dd309-2c4f36219a249715-8/Firadek__634b0e48cbdf0709a84dd309-2c4f36219a249715-8_mask_0.nii.gz\n"
     ]
    },
    {
     "name": "stderr",
     "output_type": "stream",
     "text": [
      "Loading dataset:  58%|██████████████████████████████████████████████████████████████████████████████████████████████████████████████████████████████████▊                                                                                             | 354/606 [52:18<27:58,  6.66s/it]"
     ]
    },
    {
     "name": "stdout",
     "output_type": "stream",
     "text": [
      "2023-10-13 13:42:38,917 INFO image_writer.py:197 - writing: /home/vlermakov/Development/Nodules/Nodule-Detection-LUNA2016/processed_data_full_range_075mm/Firadek__634b0e48cbdf0709a84dd309-2c4f36219a249715-9/Firadek__634b0e48cbdf0709a84dd309-2c4f36219a249715-9_image_0.nii.gz\n",
      "2023-10-13 13:42:39,061 INFO image_writer.py:197 - writing: /home/vlermakov/Development/Nodules/Nodule-Detection-LUNA2016/processed_data_full_range_075mm/Firadek__634b0e48cbdf0709a84dd309-2c4f36219a249715-9/Firadek__634b0e48cbdf0709a84dd309-2c4f36219a249715-9_mask_0.nii.gz\n"
     ]
    },
    {
     "name": "stderr",
     "output_type": "stream",
     "text": [
      "\r",
      "Loading dataset:  59%|███████████████████████████████████████████████████████████████████████████████████████████████████████████████████████████████████▏                                                                                            | 355/606 [52:20<21:45,  5.20s/it]"
     ]
    },
    {
     "name": "stdout",
     "output_type": "stream",
     "text": [
      "2023-10-13 13:43:12,680 INFO image_writer.py:197 - writing: /home/vlermakov/Development/Nodules/Nodule-Detection-LUNA2016/processed_data_full_range_075mm/Trasnoque__63a2429d35c1960a20ae725e-7be97e2bdd6ef8cb-5/Trasnoque__63a2429d35c1960a20ae725e-7be97e2bdd6ef8cb-5_image_0.nii.gz\n",
      "2023-10-13 13:43:12,802 INFO image_writer.py:197 - writing: /home/vlermakov/Development/Nodules/Nodule-Detection-LUNA2016/processed_data_full_range_075mm/Trasnoque__63a2429d35c1960a20ae725e-7be97e2bdd6ef8cb-5/Trasnoque__63a2429d35c1960a20ae725e-7be97e2bdd6ef8cb-5_mask_0.nii.gz\n",
      "2023-10-13 13:43:19,582 INFO image_writer.py:197 - writing: /home/vlermakov/Development/Nodules/Nodule-Detection-LUNA2016/processed_data_full_range_075mm/Umeyat__63b709157d208f0915cbfb01-dd79ea6daf97b8e5-15/Umeyat__63b709157d208f0915cbfb01-dd79ea6daf97b8e5-15_image_0.nii.gz\n",
      "2023-10-13 13:43:19,601 INFO image_writer.py:197 - writing: /home/vlermakov/Development/Nodules/Nodule-Detection-LUNA2016/processed_data_full_range_075mm/Umeyat__63b709157d208f0915cbfb01-dd79ea6daf97b8e5-8/Umeyat__63b709157d208f0915cbfb01-dd79ea6daf97b8e5-8_image_0.nii.gz\n",
      "2023-10-13 13:43:19,704 INFO image_writer.py:197 - writing: /home/vlermakov/Development/Nodules/Nodule-Detection-LUNA2016/processed_data_full_range_075mm/Umeyat__63b709157d208f0915cbfb01-dd79ea6daf97b8e5-1/Umeyat__63b709157d208f0915cbfb01-dd79ea6daf97b8e5-1_image_0.nii.gz\n",
      "2023-10-13 13:43:19,850 INFO image_writer.py:197 - writing: /home/vlermakov/Development/Nodules/Nodule-Detection-LUNA2016/processed_data_full_range_075mm/Umeyat__63b709157d208f0915cbfb01-dd79ea6daf97b8e5-2/Umeyat__63b709157d208f0915cbfb01-dd79ea6daf97b8e5-2_image_0.nii.gz\n",
      "2023-10-13 13:43:19,954 INFO image_writer.py:197 - writing: /home/vlermakov/Development/Nodules/Nodule-Detection-LUNA2016/processed_data_full_range_075mm/Trasnoque__63a2429d35c1960a20ae725e-7be97e2bdd6ef8cb-3/Trasnoque__63a2429d35c1960a20ae725e-7be97e2bdd6ef8cb-3_image_0.nii.gz\n",
      "2023-10-13 13:43:20,059 INFO image_writer.py:197 - writing: /home/vlermakov/Development/Nodules/Nodule-Detection-LUNA2016/processed_data_full_range_075mm/Firadek__634b0e48cbdf0709a84dd309-2c4f36219a249715-5/Firadek__634b0e48cbdf0709a84dd309-2c4f36219a249715-5_image_0.nii.gz\n",
      "2023-10-13 13:43:20,077 INFO image_writer.py:197 - writing: /home/vlermakov/Development/Nodules/Nodule-Detection-LUNA2016/processed_data_full_range_075mm/Umeyat__63b709157d208f0915cbfb01-dd79ea6daf97b8e5-15/Umeyat__63b709157d208f0915cbfb01-dd79ea6daf97b8e5-15_mask_0.nii.gz\n",
      "2023-10-13 13:43:20,279 INFO image_writer.py:197 - writing: /home/vlermakov/Development/Nodules/Nodule-Detection-LUNA2016/processed_data_full_range_075mm/Umeyat__63b709157d208f0915cbfb01-dd79ea6daf97b8e5-8/Umeyat__63b709157d208f0915cbfb01-dd79ea6daf97b8e5-8_mask_0.nii.gz\n",
      "2023-10-13 13:43:20,452 INFO image_writer.py:197 - writing: /home/vlermakov/Development/Nodules/Nodule-Detection-LUNA2016/processed_data_full_range_075mm/Umeyat__63b709157d208f0915cbfb01-dd79ea6daf97b8e5-1/Umeyat__63b709157d208f0915cbfb01-dd79ea6daf97b8e5-1_mask_0.nii.gz\n",
      "2023-10-13 13:43:20,580 INFO image_writer.py:197 - writing: /home/vlermakov/Development/Nodules/Nodule-Detection-LUNA2016/processed_data_full_range_075mm/Umeyat__63b709157d208f0915cbfb01-dd79ea6daf97b8e5-2/Umeyat__63b709157d208f0915cbfb01-dd79ea6daf97b8e5-2_mask_0.nii.gz\n",
      "2023-10-13 13:43:36,740 INFO image_writer.py:197 - writing: /home/vlermakov/Development/Nodules/Nodule-Detection-LUNA2016/processed_data_full_range_075mm/Trasnoque__63a2429d35c1960a20ae725e-7be97e2bdd6ef8cb-3/Trasnoque__63a2429d35c1960a20ae725e-7be97e2bdd6ef8cb-3_mask_0.nii.gz\n",
      "2023-10-13 13:43:36,751 INFO image_writer.py:197 - writing: /home/vlermakov/Development/Nodules/Nodule-Detection-LUNA2016/processed_data_full_range_075mm/Firadek__634b0e48cbdf0709a84dd309-2c4f36219a249715-5/Firadek__634b0e48cbdf0709a84dd309-2c4f36219a249715-5_mask_0.nii.gz\n"
     ]
    },
    {
     "name": "stderr",
     "output_type": "stream",
     "text": [
      "Loading dataset:  59%|██████████████████████████████████████████████████████████████████████████████████████████████████████████████████████████████████▊                                                                                           | 357/606 [53:24<1:08:19, 16.46s/it]"
     ]
    },
    {
     "name": "stdout",
     "output_type": "stream",
     "text": [
      "2023-10-13 13:43:44,419 INFO image_writer.py:197 - writing: /home/vlermakov/Development/Nodules/Nodule-Detection-LUNA2016/processed_data_full_range_075mm/Trasnoque__63a2429d35c1960a20ae725e-7be97e2bdd6ef8cb-1/Trasnoque__63a2429d35c1960a20ae725e-7be97e2bdd6ef8cb-1_image_0.nii.gz\n",
      "2023-10-13 13:43:44,580 INFO image_writer.py:197 - writing: /home/vlermakov/Development/Nodules/Nodule-Detection-LUNA2016/processed_data_full_range_075mm/Trasnoque__63a2429d35c1960a20ae725e-7be97e2bdd6ef8cb-1/Trasnoque__63a2429d35c1960a20ae725e-7be97e2bdd6ef8cb-1_mask_0.nii.gz\n"
     ]
    },
    {
     "name": "stderr",
     "output_type": "stream",
     "text": [
      "\r",
      "Loading dataset:  60%|██████████████████████████████████████████████████████████████████████████████████████████████████████████████████████████████████████▏                                                                                         | 363/606 [53:25<19:22,  4.78s/it]"
     ]
    },
    {
     "name": "stdout",
     "output_type": "stream",
     "text": [
      "2023-10-13 13:44:07,993 INFO image_writer.py:197 - writing: /home/vlermakov/Development/Nodules/Nodule-Detection-LUNA2016/processed_data_full_range_075mm/Sukicuk__6348583863a34a0a3c1da9fb-64d758bb37b661b3-5/Sukicuk__6348583863a34a0a3c1da9fb-64d758bb37b661b3-5_image_0.nii.gz\n",
      "2023-10-13 13:44:08,549 INFO image_writer.py:197 - writing: /home/vlermakov/Development/Nodules/Nodule-Detection-LUNA2016/processed_data_full_range_075mm/Sukicuk__6348583863a34a0a3c1da9fb-64d758bb37b661b3-3/Sukicuk__6348583863a34a0a3c1da9fb-64d758bb37b661b3-3_image_0.nii.gz\n",
      "2023-10-13 13:44:08,631 INFO image_writer.py:197 - writing: /home/vlermakov/Development/Nodules/Nodule-Detection-LUNA2016/processed_data_full_range_075mm/Sukicuk__6348583863a34a0a3c1da9fb-64d758bb37b661b3-5/Sukicuk__6348583863a34a0a3c1da9fb-64d758bb37b661b3-5_mask_0.nii.gz\n",
      "2023-10-13 13:44:09,009 INFO image_writer.py:197 - writing: /home/vlermakov/Development/Nodules/Nodule-Detection-LUNA2016/processed_data_full_range_075mm/Delafi__636c200705db0809dbf91912-375db301d7d628f7-1/Delafi__636c200705db0809dbf91912-375db301d7d628f7-1_image_0.nii.gz\n",
      "2023-10-13 13:44:09,468 INFO image_writer.py:197 - writing: /home/vlermakov/Development/Nodules/Nodule-Detection-LUNA2016/processed_data_full_range_075mm/Sukicuk__6348583863a34a0a3c1da9fb-64d758bb37b661b3-3/Sukicuk__6348583863a34a0a3c1da9fb-64d758bb37b661b3-3_mask_0.nii.gz\n",
      "2023-10-13 13:44:18,220 INFO image_writer.py:197 - writing: /home/vlermakov/Development/Nodules/Nodule-Detection-LUNA2016/processed_data_full_range_075mm/Delafi__636c200705db0809dbf91912-375db301d7d628f7-1/Delafi__636c200705db0809dbf91912-375db301d7d628f7-1_mask_0.nii.gz\n",
      "2023-10-13 13:44:25,982 INFO image_writer.py:197 - writing: /home/vlermakov/Development/Nodules/Nodule-Detection-LUNA2016/processed_data_full_range_075mm/Delafi__636c200705db0809dbf91912-375db301d7d628f7-2/Delafi__636c200705db0809dbf91912-375db301d7d628f7-2_image_0.nii.gz\n",
      "2023-10-13 13:44:26,075 INFO image_writer.py:197 - writing: /home/vlermakov/Development/Nodules/Nodule-Detection-LUNA2016/processed_data_full_range_075mm/Delafi__636c200705db0809dbf91912-375db301d7d628f7-3/Delafi__636c200705db0809dbf91912-375db301d7d628f7-3_image_0.nii.gz\n",
      "2023-10-13 13:44:26,202 INFO image_writer.py:197 - writing: /home/vlermakov/Development/Nodules/Nodule-Detection-LUNA2016/processed_data_full_range_075mm/Trasnoque__63a2429d35c1960a20ae725e-7be97e2bdd6ef8cb-2/Trasnoque__63a2429d35c1960a20ae725e-7be97e2bdd6ef8cb-2_image_0.nii.gz\n",
      "2023-10-13 13:44:26,298 INFO image_writer.py:197 - writing: /home/vlermakov/Development/Nodules/Nodule-Detection-LUNA2016/processed_data_full_range_075mm/Trasnoque__63a2429d35c1960a20ae725e-7be97e2bdd6ef8cb-10/Trasnoque__63a2429d35c1960a20ae725e-7be97e2bdd6ef8cb-10_image_0.nii.gz\n",
      "2023-10-13 13:44:26,633 INFO image_writer.py:197 - writing: /home/vlermakov/Development/Nodules/Nodule-Detection-LUNA2016/processed_data_full_range_075mm/Delafi__636c200705db0809dbf91912-375db301d7d628f7-2/Delafi__636c200705db0809dbf91912-375db301d7d628f7-2_mask_0.nii.gz\n",
      "2023-10-13 13:44:26,786 INFO image_writer.py:197 - writing: /home/vlermakov/Development/Nodules/Nodule-Detection-LUNA2016/processed_data_full_range_075mm/Delafi__636c200705db0809dbf91912-375db301d7d628f7-3/Delafi__636c200705db0809dbf91912-375db301d7d628f7-3_mask_0.nii.gz\n",
      "2023-10-13 13:44:26,788 INFO image_writer.py:197 - writing: /home/vlermakov/Development/Nodules/Nodule-Detection-LUNA2016/processed_data_full_range_075mm/Trasnoque__63a2429d35c1960a20ae725e-7be97e2bdd6ef8cb-10/Trasnoque__63a2429d35c1960a20ae725e-7be97e2bdd6ef8cb-10_mask_0.nii.gz\n",
      "2023-10-13 13:44:26,788 INFO image_writer.py:197 - writing: /home/vlermakov/Development/Nodules/Nodule-Detection-LUNA2016/processed_data_full_range_075mm/Trasnoque__63a2429d35c1960a20ae725e-7be97e2bdd6ef8cb-2/Trasnoque__63a2429d35c1960a20ae725e-7be97e2bdd6ef8cb-2_mask_0.nii.gz\n"
     ]
    },
    {
     "name": "stderr",
     "output_type": "stream",
     "text": [
      "Loading dataset:  60%|██████████████████████████████████████████████████████████████████████████████████████████████████████████████████████████████████████▉                                                                                         | 365/606 [54:28<44:52, 11.17s/it]"
     ]
    },
    {
     "name": "stdout",
     "output_type": "stream",
     "text": [
      "2023-10-13 13:44:48,246 INFO image_writer.py:197 - writing: /home/vlermakov/Development/Nodules/Nodule-Detection-LUNA2016/processed_data_full_range_075mm/Sukicuk__6348583863a34a0a3c1da9fb-64d758bb37b661b3-4/Sukicuk__6348583863a34a0a3c1da9fb-64d758bb37b661b3-4_image_0.nii.gz\n",
      "2023-10-13 13:44:48,664 INFO image_writer.py:197 - writing: /home/vlermakov/Development/Nodules/Nodule-Detection-LUNA2016/processed_data_full_range_075mm/Sukicuk__6348583863a34a0a3c1da9fb-64d758bb37b661b3-4/Sukicuk__6348583863a34a0a3c1da9fb-64d758bb37b661b3-4_mask_0.nii.gz\n"
     ]
    },
    {
     "name": "stderr",
     "output_type": "stream",
     "text": [
      "\r",
      "Loading dataset:  61%|█████████████████████████████████████████████████████████████████████████████████████████████████████████████████████████████████████████▏                                                                                      | 371/606 [54:29<18:18,  4.68s/it]"
     ]
    },
    {
     "name": "stdout",
     "output_type": "stream",
     "text": [
      "2023-10-13 13:45:13,486 INFO image_writer.py:197 - writing: /home/vlermakov/Development/Nodules/Nodule-Detection-LUNA2016/processed_data_full_range_075mm/Quaniebuf__63959e38d7944009e2ae23da-6627a3dda50429aa-6/Quaniebuf__63959e38d7944009e2ae23da-6627a3dda50429aa-6_image_0.nii.gz\n",
      "2023-10-13 13:45:13,576 INFO image_writer.py:197 - writing: /home/vlermakov/Development/Nodules/Nodule-Detection-LUNA2016/processed_data_full_range_075mm/Quaniebuf__63959e38d7944009e2ae23da-6627a3dda50429aa-6/Quaniebuf__63959e38d7944009e2ae23da-6627a3dda50429aa-6_mask_0.nii.gz\n"
     ]
    },
    {
     "name": "stderr",
     "output_type": "stream",
     "text": [
      "\r",
      "Loading dataset:  61%|█████████████████████████████████████████████████████████████████████████████████████████████████████████████████████████████████████████▌                                                                                      | 372/606 [54:58<29:43,  7.62s/it]"
     ]
    },
    {
     "name": "stdout",
     "output_type": "stream",
     "text": [
      "2023-10-13 13:45:33,793 INFO image_writer.py:197 - writing: /home/vlermakov/Development/Nodules/Nodule-Detection-LUNA2016/processed_data_full_range_075mm/Enoyil__63b081db6012a8095bc6549a-185f2f5044fb777a-2/Enoyil__63b081db6012a8095bc6549a-185f2f5044fb777a-2_image_0.nii.gz\n",
      "2023-10-13 13:45:34,069 INFO image_writer.py:197 - writing: /home/vlermakov/Development/Nodules/Nodule-Detection-LUNA2016/processed_data_full_range_075mm/Enoyil__63b081db6012a8095bc6549a-185f2f5044fb777a-2/Enoyil__63b081db6012a8095bc6549a-185f2f5044fb777a-2_mask_0.nii.gz\n",
      "2023-10-13 13:45:34,193 INFO image_writer.py:197 - writing: /home/vlermakov/Development/Nodules/Nodule-Detection-LUNA2016/processed_data_full_range_075mm/Enoyil__63b081db6012a8095bc6549a-185f2f5044fb777a-3/Enoyil__63b081db6012a8095bc6549a-185f2f5044fb777a-3_image_0.nii.gz\n",
      "2023-10-13 13:45:34,377 INFO image_writer.py:197 - writing: /home/vlermakov/Development/Nodules/Nodule-Detection-LUNA2016/processed_data_full_range_075mm/Enoyil__63b081db6012a8095bc6549a-185f2f5044fb777a-3/Enoyil__63b081db6012a8095bc6549a-185f2f5044fb777a-3_mask_0.nii.gz\n",
      "2023-10-13 13:45:34,387 INFO image_writer.py:197 - writing: /home/vlermakov/Development/Nodules/Nodule-Detection-LUNA2016/processed_data_full_range_075mm/Enoyil__63b081db6012a8095bc6549a-185f2f5044fb777a-8/Enoyil__63b081db6012a8095bc6549a-185f2f5044fb777a-8_image_0.nii.gz\n"
     ]
    },
    {
     "name": "stderr",
     "output_type": "stream",
     "text": [
      "\r",
      "Loading dataset:  62%|█████████████████████████████████████████████████████████████████████████████████████████████████████████████████████████████████████████▊                                                                                      | 373/606 [55:21<38:39,  9.96s/it]"
     ]
    },
    {
     "name": "stdout",
     "output_type": "stream",
     "text": [
      "2023-10-13 13:45:44,082 INFO image_writer.py:197 - writing: /home/vlermakov/Development/Nodules/Nodule-Detection-LUNA2016/processed_data_full_range_075mm/Ogdreyig__6366a662e5820b09e16ff422-e42b049e039f0df6-6/Ogdreyig__6366a662e5820b09e16ff422-e42b049e039f0df6-6_image_0.nii.gz\n",
      "2023-10-13 13:45:44,096 INFO image_writer.py:197 - writing: /home/vlermakov/Development/Nodules/Nodule-Detection-LUNA2016/processed_data_full_range_075mm/Enoyil__63b081db6012a8095bc6549a-185f2f5044fb777a-8/Enoyil__63b081db6012a8095bc6549a-185f2f5044fb777a-8_mask_0.nii.gz\n",
      "2023-10-13 13:45:44,438 INFO image_writer.py:197 - writing: /home/vlermakov/Development/Nodules/Nodule-Detection-LUNA2016/processed_data_full_range_075mm/Ogdreyig__6366a662e5820b09e16ff422-e42b049e039f0df6-6/Ogdreyig__6366a662e5820b09e16ff422-e42b049e039f0df6-6_mask_0.nii.gz\n"
     ]
    },
    {
     "name": "stderr",
     "output_type": "stream",
     "text": [
      "Loading dataset:  62%|██████████████████████████████████████████████████████████████████████████████████████████████████████████████████████████████████████████▌                                                                                     | 375/606 [55:34<31:47,  8.26s/it]"
     ]
    },
    {
     "name": "stdout",
     "output_type": "stream",
     "text": [
      "2023-10-13 13:45:54,417 INFO image_writer.py:197 - writing: /home/vlermakov/Development/Nodules/Nodule-Detection-LUNA2016/processed_data_full_range_075mm/Ogdreyig__6366a662e5820b09e16ff422-e42b049e039f0df6-4/Ogdreyig__6366a662e5820b09e16ff422-e42b049e039f0df6-4_image_0.nii.gz\n",
      "2023-10-13 13:45:55,334 INFO image_writer.py:197 - writing: /home/vlermakov/Development/Nodules/Nodule-Detection-LUNA2016/processed_data_full_range_075mm/Hocapar__63b640255d73490a09f3d83a-f47256ea28d6511b-1/Hocapar__63b640255d73490a09f3d83a-f47256ea28d6511b-1_image_0.nii.gz\n",
      "2023-10-13 13:45:55,848 INFO image_writer.py:197 - writing: /home/vlermakov/Development/Nodules/Nodule-Detection-LUNA2016/processed_data_full_range_075mm/Ogdreyig__6366a662e5820b09e16ff422-e42b049e039f0df6-4/Ogdreyig__6366a662e5820b09e16ff422-e42b049e039f0df6-4_mask_0.nii.gz\n",
      "2023-10-13 13:45:56,144 INFO image_writer.py:197 - writing: /home/vlermakov/Development/Nodules/Nodule-Detection-LUNA2016/processed_data_full_range_075mm/Hocapar__63b640255d73490a09f3d83a-f47256ea28d6511b-1/Hocapar__63b640255d73490a09f3d83a-f47256ea28d6511b-1_mask_0.nii.gz\n"
     ]
    },
    {
     "name": "stderr",
     "output_type": "stream",
     "text": [
      "Loading dataset:  62%|███████████████████████████████████████████████████████████████████████████████████████████████████████████████████████████████████████████▎                                                                                    | 377/606 [55:46<30:03,  7.88s/it]"
     ]
    },
    {
     "name": "stdout",
     "output_type": "stream",
     "text": [
      "2023-10-13 13:46:07,166 INFO image_writer.py:197 - writing: /home/vlermakov/Development/Nodules/Nodule-Detection-LUNA2016/processed_data_full_range_075mm/Loutupu__6349e812d574340ab06e86f0-eef6e516990bbc4e-2/Loutupu__6349e812d574340ab06e86f0-eef6e516990bbc4e-2_image_0.nii.gz\n",
      "2023-10-13 13:46:07,294 INFO image_writer.py:197 - writing: /home/vlermakov/Development/Nodules/Nodule-Detection-LUNA2016/processed_data_full_range_075mm/Loutupu__6349e812d574340ab06e86f0-eef6e516990bbc4e-2/Loutupu__6349e812d574340ab06e86f0-eef6e516990bbc4e-2_mask_0.nii.gz\n"
     ]
    },
    {
     "name": "stderr",
     "output_type": "stream",
     "text": [
      "\r",
      "Loading dataset:  63%|████████████████████████████████████████████████████████████████████████████████████████████████████████████████████████████████████████████                                                                                    | 379/606 [55:48<18:41,  4.94s/it]"
     ]
    },
    {
     "name": "stdout",
     "output_type": "stream",
     "text": [
      "2023-10-13 13:46:40,663 INFO image_writer.py:197 - writing: /home/vlermakov/Development/Nodules/Nodule-Detection-LUNA2016/processed_data_full_range_075mm/Loutupu__6349e812d574340ab06e86f0-eef6e516990bbc4e-4/Loutupu__6349e812d574340ab06e86f0-eef6e516990bbc4e-4_image_0.nii.gz\n",
      "2023-10-13 13:46:40,758 INFO image_writer.py:197 - writing: /home/vlermakov/Development/Nodules/Nodule-Detection-LUNA2016/processed_data_full_range_075mm/Loutupu__6349e812d574340ab06e86f0-eef6e516990bbc4e-4/Loutupu__6349e812d574340ab06e86f0-eef6e516990bbc4e-4_mask_0.nii.gz\n"
     ]
    },
    {
     "name": "stderr",
     "output_type": "stream",
     "text": [
      "\r",
      "Loading dataset:  63%|████████████████████████████████████████████████████████████████████████████████████████████████████████████████████████████████████████████▍                                                                                   | 380/606 [56:21<42:50, 11.38s/it]"
     ]
    },
    {
     "name": "stdout",
     "output_type": "stream",
     "text": [
      "2023-10-13 13:46:47,890 INFO image_writer.py:197 - writing: /home/vlermakov/Development/Nodules/Nodule-Detection-LUNA2016/processed_data_full_range_075mm/Eynoseb__63699f72598a69091c200fa4-b632148cb38a3495-2/Eynoseb__63699f72598a69091c200fa4-b632148cb38a3495-2_image_0.nii.gz\n",
      "2023-10-13 13:46:48,128 INFO image_writer.py:197 - writing: /home/vlermakov/Development/Nodules/Nodule-Detection-LUNA2016/processed_data_full_range_075mm/Eynoseb__63699f72598a69091c200fa4-b632148cb38a3495-3/Eynoseb__63699f72598a69091c200fa4-b632148cb38a3495-3_image_0.nii.gz\n",
      "2023-10-13 13:46:48,182 INFO image_writer.py:197 - writing: /home/vlermakov/Development/Nodules/Nodule-Detection-LUNA2016/processed_data_full_range_075mm/Kathucu__63a4e8cefbb282091b74ac0b-c7a945a073a02f05-14/Kathucu__63a4e8cefbb282091b74ac0b-c7a945a073a02f05-14_image_0.nii.gz\n",
      "2023-10-13 13:46:48,248 INFO image_writer.py:197 - writing: /home/vlermakov/Development/Nodules/Nodule-Detection-LUNA2016/processed_data_full_range_075mm/Kathucu__63a4e8cefbb282091b74ac0b-c7a945a073a02f05-7/Kathucu__63a4e8cefbb282091b74ac0b-c7a945a073a02f05-7_image_0.nii.gz\n",
      "2023-10-13 13:46:48,300 INFO image_writer.py:197 - writing: /home/vlermakov/Development/Nodules/Nodule-Detection-LUNA2016/processed_data_full_range_075mm/Eynoseb__63699f72598a69091c200fa4-b632148cb38a3495-2/Eynoseb__63699f72598a69091c200fa4-b632148cb38a3495-2_mask_0.nii.gz\n",
      "2023-10-13 13:46:48,811 INFO image_writer.py:197 - writing: /home/vlermakov/Development/Nodules/Nodule-Detection-LUNA2016/processed_data_full_range_075mm/Eynoseb__63699f72598a69091c200fa4-b632148cb38a3495-3/Eynoseb__63699f72598a69091c200fa4-b632148cb38a3495-3_mask_0.nii.gz\n",
      "2023-10-13 13:46:49,155 INFO image_writer.py:197 - writing: /home/vlermakov/Development/Nodules/Nodule-Detection-LUNA2016/processed_data_full_range_075mm/Kathucu__63a4e8cefbb282091b74ac0b-c7a945a073a02f05-14/Kathucu__63a4e8cefbb282091b74ac0b-c7a945a073a02f05-14_mask_0.nii.gz\n",
      "2023-10-13 13:47:04,688 INFO image_writer.py:197 - writing: /home/vlermakov/Development/Nodules/Nodule-Detection-LUNA2016/processed_data_full_range_075mm/Kathucu__63a4e8cefbb282091b74ac0b-c7a945a073a02f05-7/Kathucu__63a4e8cefbb282091b74ac0b-c7a945a073a02f05-7_mask_0.nii.gz\n"
     ]
    },
    {
     "name": "stderr",
     "output_type": "stream",
     "text": [
      "\r",
      "Loading dataset:  63%|████████████████████████████████████████████████████████████████████████████████████████████████████████████████████████████████████████████▊                                                                                   | 381/606 [56:45<53:52, 14.37s/it]"
     ]
    },
    {
     "name": "stdout",
     "output_type": "stream",
     "text": [
      "2023-10-13 13:47:09,594 INFO image_writer.py:197 - writing: /home/vlermakov/Development/Nodules/Nodule-Detection-LUNA2016/processed_data_full_range_075mm/Samatel__636dc41fdbc6e30a082e346d-29fa30ae7de81817-66/Samatel__636dc41fdbc6e30a082e346d-29fa30ae7de81817-66_image_0.nii.gz\n",
      "2023-10-13 13:47:09,623 INFO image_writer.py:197 - writing: /home/vlermakov/Development/Nodules/Nodule-Detection-LUNA2016/processed_data_full_range_075mm/Samatel__636dc41fdbc6e30a082e346d-29fa30ae7de81817-20/Samatel__636dc41fdbc6e30a082e346d-29fa30ae7de81817-20_image_0.nii.gz\n",
      "2023-10-13 13:47:09,793 INFO image_writer.py:197 - writing: /home/vlermakov/Development/Nodules/Nodule-Detection-LUNA2016/processed_data_full_range_075mm/Samatel__636dc41fdbc6e30a082e346d-29fa30ae7de81817-66/Samatel__636dc41fdbc6e30a082e346d-29fa30ae7de81817-66_mask_0.nii.gz\n",
      "2023-10-13 13:47:09,835 INFO image_writer.py:197 - writing: /home/vlermakov/Development/Nodules/Nodule-Detection-LUNA2016/processed_data_full_range_075mm/Samatel__636dc41fdbc6e30a082e346d-29fa30ae7de81817-20/Samatel__636dc41fdbc6e30a082e346d-29fa30ae7de81817-20_mask_0.nii.gz\n"
     ]
    },
    {
     "name": "stderr",
     "output_type": "stream",
     "text": [
      "Loading dataset:  64%|██████████████████████████████████████████████████████████████████████████████████████████████████████████████████████████████████████████████▋                                                                                 | 386/606 [56:56<23:03,  6.29s/it]"
     ]
    },
    {
     "name": "stdout",
     "output_type": "stream",
     "text": [
      "2023-10-13 13:47:47,380 INFO image_writer.py:197 - writing: /home/vlermakov/Development/Nodules/Nodule-Detection-LUNA2016/processed_data_full_range_075mm/Isudkak__63473afe14ce250ae6a62835-9a9e13266df0ed2d-1/Isudkak__63473afe14ce250ae6a62835-9a9e13266df0ed2d-1_image_0.nii.gz\n",
      "2023-10-13 13:47:47,495 INFO image_writer.py:197 - writing: /home/vlermakov/Development/Nodules/Nodule-Detection-LUNA2016/processed_data_full_range_075mm/Isudkak__63473afe14ce250ae6a62835-9a9e13266df0ed2d-1/Isudkak__63473afe14ce250ae6a62835-9a9e13266df0ed2d-1_mask_0.nii.gz\n",
      "2023-10-13 13:47:55,689 INFO image_writer.py:197 - writing: /home/vlermakov/Development/Nodules/Nodule-Detection-LUNA2016/processed_data_full_range_075mm/Sasigcuk__6393a7357371fa0922d45a25-d490666e0f89e0af-4/Sasigcuk__6393a7357371fa0922d45a25-d490666e0f89e0af-4_image_0.nii.gz\n",
      "2023-10-13 13:47:55,706 INFO image_writer.py:197 - writing: /home/vlermakov/Development/Nodules/Nodule-Detection-LUNA2016/processed_data_full_range_075mm/Isudkak__63473afe14ce250ae6a62835-9a9e13266df0ed2d-2/Isudkak__63473afe14ce250ae6a62835-9a9e13266df0ed2d-2_image_0.nii.gz\n",
      "2023-10-13 13:47:55,773 INFO image_writer.py:197 - writing: /home/vlermakov/Development/Nodules/Nodule-Detection-LUNA2016/processed_data_full_range_075mm/Isudkak__63473afe14ce250ae6a62835-9a9e13266df0ed2d-4/Isudkak__63473afe14ce250ae6a62835-9a9e13266df0ed2d-4_image_0.nii.gz\n",
      "2023-10-13 13:47:55,999 INFO image_writer.py:197 - writing: /home/vlermakov/Development/Nodules/Nodule-Detection-LUNA2016/processed_data_full_range_075mm/Isudkak__63473afe14ce250ae6a62835-9a9e13266df0ed2d-3/Isudkak__63473afe14ce250ae6a62835-9a9e13266df0ed2d-3_image_0.nii.gz\n",
      "2023-10-13 13:47:56,454 INFO image_writer.py:197 - writing: /home/vlermakov/Development/Nodules/Nodule-Detection-LUNA2016/processed_data_full_range_075mm/Samatel__636dc41fdbc6e30a082e346d-29fa30ae7de81817-2/Samatel__636dc41fdbc6e30a082e346d-29fa30ae7de81817-2_image_0.nii.gz\n",
      "2023-10-13 13:47:56,575 INFO image_writer.py:197 - writing: /home/vlermakov/Development/Nodules/Nodule-Detection-LUNA2016/processed_data_full_range_075mm/Sasigcuk__6393a7357371fa0922d45a25-d490666e0f89e0af-4/Sasigcuk__6393a7357371fa0922d45a25-d490666e0f89e0af-4_mask_0.nii.gz\n",
      "2023-10-13 13:47:56,867 INFO image_writer.py:197 - writing: /home/vlermakov/Development/Nodules/Nodule-Detection-LUNA2016/processed_data_full_range_075mm/Isudkak__63473afe14ce250ae6a62835-9a9e13266df0ed2d-2/Isudkak__63473afe14ce250ae6a62835-9a9e13266df0ed2d-2_mask_0.nii.gz\n",
      "2023-10-13 13:48:07,602 INFO image_writer.py:197 - writing: /home/vlermakov/Development/Nodules/Nodule-Detection-LUNA2016/processed_data_full_range_075mm/Isudkak__63473afe14ce250ae6a62835-9a9e13266df0ed2d-4/Isudkak__63473afe14ce250ae6a62835-9a9e13266df0ed2d-4_mask_0.nii.gz\n",
      "2023-10-13 13:48:07,609 INFO image_writer.py:197 - writing: /home/vlermakov/Development/Nodules/Nodule-Detection-LUNA2016/processed_data_full_range_075mm/Isudkak__63473afe14ce250ae6a62835-9a9e13266df0ed2d-3/Isudkak__63473afe14ce250ae6a62835-9a9e13266df0ed2d-3_mask_0.nii.gz\n",
      "2023-10-13 13:48:07,617 INFO image_writer.py:197 - writing: /home/vlermakov/Development/Nodules/Nodule-Detection-LUNA2016/processed_data_full_range_075mm/Samatel__636dc41fdbc6e30a082e346d-29fa30ae7de81817-2/Samatel__636dc41fdbc6e30a082e346d-29fa30ae7de81817-2_mask_0.nii.gz\n"
     ]
    },
    {
     "name": "stderr",
     "output_type": "stream",
     "text": [
      "\r",
      "Loading dataset:  64%|█████████████████████████████████████████████████████████████████████████████████████████████████████████████████████████████████████████████▊                                                                                | 387/606 [57:58<1:03:17, 17.34s/it]"
     ]
    },
    {
     "name": "stdout",
     "output_type": "stream",
     "text": [
      "2023-10-13 13:48:22,113 INFO image_writer.py:197 - writing: /home/vlermakov/Development/Nodules/Nodule-Detection-LUNA2016/processed_data_full_range_075mm/Samatel__636dc41fdbc6e30a082e346d-29fa30ae7de81817-21/Samatel__636dc41fdbc6e30a082e346d-29fa30ae7de81817-21_image_0.nii.gz\n",
      "2023-10-13 13:48:23,124 INFO image_writer.py:197 - writing: /home/vlermakov/Development/Nodules/Nodule-Detection-LUNA2016/processed_data_full_range_075mm/Samatel__636dc41fdbc6e30a082e346d-29fa30ae7de81817-21/Samatel__636dc41fdbc6e30a082e346d-29fa30ae7de81817-21_mask_0.nii.gz\n"
     ]
    },
    {
     "name": "stderr",
     "output_type": "stream",
     "text": [
      "Loading dataset:  64%|███████████████████████████████████████████████████████████████████████████████████████████████████████████████████████████████████████████████▊                                                                                | 389/606 [58:07<43:43, 12.09s/it]"
     ]
    },
    {
     "name": "stdout",
     "output_type": "stream",
     "text": [
      "2023-10-13 13:48:31,206 INFO image_writer.py:197 - writing: /home/vlermakov/Development/Nodules/Nodule-Detection-LUNA2016/processed_data_full_range_075mm/Sasigcuk__6393a7357371fa0922d45a25-d490666e0f89e0af-10/Sasigcuk__6393a7357371fa0922d45a25-d490666e0f89e0af-10_image_0.nii.gz\n",
      "2023-10-13 13:48:31,626 INFO image_writer.py:197 - writing: /home/vlermakov/Development/Nodules/Nodule-Detection-LUNA2016/processed_data_full_range_075mm/Sasigcuk__6393a7357371fa0922d45a25-d490666e0f89e0af-10/Sasigcuk__6393a7357371fa0922d45a25-d490666e0f89e0af-10_mask_0.nii.gz\n"
     ]
    },
    {
     "name": "stderr",
     "output_type": "stream",
     "text": [
      "\r",
      "Loading dataset:  65%|█████████████████████████████████████████████████████████████████████████████████████████████████████████████████████████████████████████████████▋                                                                              | 394/606 [58:13<18:10,  5.15s/it]"
     ]
    },
    {
     "name": "stdout",
     "output_type": "stream",
     "text": [
      "2023-10-13 13:48:43,662 INFO image_writer.py:197 - writing: /home/vlermakov/Development/Nodules/Nodule-Detection-LUNA2016/processed_data_full_range_075mm/Febosi__63706ae74f743709f10ede46-ae3ea75861c763d7-2/Febosi__63706ae74f743709f10ede46-ae3ea75861c763d7-2_image_0.nii.gz\n",
      "2023-10-13 13:48:44,165 INFO image_writer.py:197 - writing: /home/vlermakov/Development/Nodules/Nodule-Detection-LUNA2016/processed_data_full_range_075mm/Febosi__63706ae74f743709f10ede46-ae3ea75861c763d7-2/Febosi__63706ae74f743709f10ede46-ae3ea75861c763d7-2_mask_0.nii.gz\n"
     ]
    },
    {
     "name": "stderr",
     "output_type": "stream",
     "text": [
      "\r",
      "Loading dataset:  65%|██████████████████████████████████████████████████████████████████████████████████████████████████████████████████████████████████████████████████                                                                              | 395/606 [58:24<21:37,  6.15s/it]"
     ]
    },
    {
     "name": "stdout",
     "output_type": "stream",
     "text": [
      "2023-10-13 13:48:50,815 INFO image_writer.py:197 - writing: /home/vlermakov/Development/Nodules/Nodule-Detection-LUNA2016/processed_data_full_range_075mm/Pageled__6345b3f50533e20adaa36f2b-90a5d297f0106a4b-2/Pageled__6345b3f50533e20adaa36f2b-90a5d297f0106a4b-2_image_0.nii.gz\n",
      "2023-10-13 13:48:51,135 INFO image_writer.py:197 - writing: /home/vlermakov/Development/Nodules/Nodule-Detection-LUNA2016/processed_data_full_range_075mm/Pageled__6345b3f50533e20adaa36f2b-90a5d297f0106a4b-2/Pageled__6345b3f50533e20adaa36f2b-90a5d297f0106a4b-2_mask_0.nii.gz\n",
      "2023-10-13 13:49:00,782 INFO image_writer.py:197 - writing: /home/vlermakov/Development/Nodules/Nodule-Detection-LUNA2016/processed_data_full_range_075mm/Pageled__6345b3f50533e20adaa36f2b-90a5d297f0106a4b-3/Pageled__6345b3f50533e20adaa36f2b-90a5d297f0106a4b-3_image_0.nii.gz\n",
      "2023-10-13 13:49:01,552 INFO image_writer.py:197 - writing: /home/vlermakov/Development/Nodules/Nodule-Detection-LUNA2016/processed_data_full_range_075mm/Pageled__6345b3f50533e20adaa36f2b-90a5d297f0106a4b-3/Pageled__6345b3f50533e20adaa36f2b-90a5d297f0106a4b-3_mask_0.nii.gz\n",
      "2023-10-13 13:49:15,851 INFO image_writer.py:197 - writing: /home/vlermakov/Development/Nodules/Nodule-Detection-LUNA2016/processed_data_full_range_075mm/Muklickas__6352f6ac1d2d2109a5d9a28e-47636e5a811ed08e-42/Muklickas__6352f6ac1d2d2109a5d9a28e-47636e5a811ed08e-42_image_0.nii.gz\n",
      "2023-10-13 13:49:16,012 INFO image_writer.py:197 - writing: /home/vlermakov/Development/Nodules/Nodule-Detection-LUNA2016/processed_data_full_range_075mm/Muklickas__6352f6ac1d2d2109a5d9a28e-47636e5a811ed08e-36/Muklickas__6352f6ac1d2d2109a5d9a28e-47636e5a811ed08e-36_image_0.nii.gz\n",
      "2023-10-13 13:49:16,012 INFO image_writer.py:197 - writing: /home/vlermakov/Development/Nodules/Nodule-Detection-LUNA2016/processed_data_full_range_075mm/Muklickas__6352f6ac1d2d2109a5d9a28e-47636e5a811ed08e-42/Muklickas__6352f6ac1d2d2109a5d9a28e-47636e5a811ed08e-42_mask_0.nii.gz\n",
      "2023-10-13 13:49:23,869 INFO image_writer.py:197 - writing: /home/vlermakov/Development/Nodules/Nodule-Detection-LUNA2016/processed_data_full_range_075mm/Muklickas__6352f6ac1d2d2109a5d9a28e-47636e5a811ed08e-36/Muklickas__6352f6ac1d2d2109a5d9a28e-47636e5a811ed08e-36_mask_0.nii.gz\n"
     ]
    },
    {
     "name": "stderr",
     "output_type": "stream",
     "text": [
      "\r",
      "Loading dataset:  65%|██████████████████████████████████████████████████████████████████████████████████████████████████████████████████████████████████████████████████▍                                                                             | 396/606 [59:09<45:29, 13.00s/it]"
     ]
    },
    {
     "name": "stdout",
     "output_type": "stream",
     "text": [
      "2023-10-13 13:49:31,248 INFO image_writer.py:197 - writing: /home/vlermakov/Development/Nodules/Nodule-Detection-LUNA2016/processed_data_full_range_075mm/Muklickas__6352f6ac1d2d2109a5d9a28e-47636e5a811ed08e-4/Muklickas__6352f6ac1d2d2109a5d9a28e-47636e5a811ed08e-4_image_0.nii.gz\n",
      "2023-10-13 13:49:31,309 INFO image_writer.py:197 - writing: /home/vlermakov/Development/Nodules/Nodule-Detection-LUNA2016/processed_data_full_range_075mm/Muklickas__6352f6ac1d2d2109a5d9a28e-47636e5a811ed08e-10/Muklickas__6352f6ac1d2d2109a5d9a28e-47636e5a811ed08e-10_image_0.nii.gz\n",
      "2023-10-13 13:49:31,656 INFO image_writer.py:197 - writing: /home/vlermakov/Development/Nodules/Nodule-Detection-LUNA2016/processed_data_full_range_075mm/Muklickas__6352f6ac1d2d2109a5d9a28e-47636e5a811ed08e-4/Muklickas__6352f6ac1d2d2109a5d9a28e-47636e5a811ed08e-4_mask_0.nii.gz\n",
      "2023-10-13 13:49:31,944 INFO image_writer.py:197 - writing: /home/vlermakov/Development/Nodules/Nodule-Detection-LUNA2016/processed_data_full_range_075mm/Muklickas__6352f6ac1d2d2109a5d9a28e-47636e5a811ed08e-10/Muklickas__6352f6ac1d2d2109a5d9a28e-47636e5a811ed08e-10_mask_0.nii.gz\n"
     ]
    },
    {
     "name": "stderr",
     "output_type": "stream",
     "text": [
      "Loading dataset:  66%|███████████████████████████████████████████████████████████████████████████████████████████████████████████████████████████████████████████████████▊                                                                            | 400/606 [59:20<22:42,  6.61s/it]"
     ]
    },
    {
     "name": "stdout",
     "output_type": "stream",
     "text": [
      "2023-10-13 13:49:41,794 INFO image_writer.py:197 - writing: /home/vlermakov/Development/Nodules/Nodule-Detection-LUNA2016/processed_data_full_range_075mm/Pageled__6345b3f50533e20adaa36f2b-90a5d297f0106a4b-4/Pageled__6345b3f50533e20adaa36f2b-90a5d297f0106a4b-4_image_0.nii.gz\n",
      "2023-10-13 13:49:42,637 INFO image_writer.py:197 - writing: /home/vlermakov/Development/Nodules/Nodule-Detection-LUNA2016/processed_data_full_range_075mm/Pageled__6345b3f50533e20adaa36f2b-90a5d297f0106a4b-4/Pageled__6345b3f50533e20adaa36f2b-90a5d297f0106a4b-4_mask_0.nii.gz\n"
     ]
    },
    {
     "name": "stderr",
     "output_type": "stream",
     "text": [
      "\r",
      "Loading dataset:  66%|████████████████████████████████████████████████████████████████████████████████████████████████████████████████████████████████████████████████████▌                                                                           | 402/606 [59:26<18:13,  5.36s/it]"
     ]
    },
    {
     "name": "stdout",
     "output_type": "stream",
     "text": [
      "2023-10-13 13:49:51,853 INFO image_writer.py:197 - writing: /home/vlermakov/Development/Nodules/Nodule-Detection-LUNA2016/processed_data_full_range_075mm/Pageled__6345b3f50533e20adaa36f2b-90a5d297f0106a4b-1/Pageled__6345b3f50533e20adaa36f2b-90a5d297f0106a4b-1_image_0.nii.gz\n",
      "2023-10-13 13:49:52,866 INFO image_writer.py:197 - writing: /home/vlermakov/Development/Nodules/Nodule-Detection-LUNA2016/processed_data_full_range_075mm/Pageled__6345b3f50533e20adaa36f2b-90a5d297f0106a4b-1/Pageled__6345b3f50533e20adaa36f2b-90a5d297f0106a4b-1_mask_0.nii.gz\n"
     ]
    },
    {
     "name": "stderr",
     "output_type": "stream",
     "text": [
      "\r",
      "Loading dataset:  67%|████████████████████████████████████████████████████████████████████████████████████████████████████████████████████████████████████████████████████▉                                                                           | 403/606 [59:35<20:14,  5.98s/it]"
     ]
    },
    {
     "name": "stdout",
     "output_type": "stream",
     "text": [
      "2023-10-13 13:50:04,495 INFO image_writer.py:197 - writing: /home/vlermakov/Development/Nodules/Nodule-Detection-LUNA2016/processed_data_full_range_075mm/Pageled__6345b3f50533e20adaa36f2b-90a5d297f0106a4b-5/Pageled__6345b3f50533e20adaa36f2b-90a5d297f0106a4b-5_image_0.nii.gz\n",
      "2023-10-13 13:50:04,787 INFO image_writer.py:197 - writing: /home/vlermakov/Development/Nodules/Nodule-Detection-LUNA2016/processed_data_full_range_075mm/Rijokees__636a85765236610902d25c1d-4b3c44624fca84ca-4/Rijokees__636a85765236610902d25c1d-4b3c44624fca84ca-4_image_0.nii.gz\n",
      "2023-10-13 13:50:04,942 INFO image_writer.py:197 - writing: /home/vlermakov/Development/Nodules/Nodule-Detection-LUNA2016/processed_data_full_range_075mm/Rijokees__636a85765236610902d25c1d-4b3c44624fca84ca-2/Rijokees__636a85765236610902d25c1d-4b3c44624fca84ca-2_image_0.nii.gz\n",
      "2023-10-13 13:50:05,277 INFO image_writer.py:197 - writing: /home/vlermakov/Development/Nodules/Nodule-Detection-LUNA2016/processed_data_full_range_075mm/Pageled__6345b3f50533e20adaa36f2b-90a5d297f0106a4b-5/Pageled__6345b3f50533e20adaa36f2b-90a5d297f0106a4b-5_mask_0.nii.gz\n",
      "2023-10-13 13:50:06,213 INFO image_writer.py:197 - writing: /home/vlermakov/Development/Nodules/Nodule-Detection-LUNA2016/processed_data_full_range_075mm/Rijokees__636a85765236610902d25c1d-4b3c44624fca84ca-4/Rijokees__636a85765236610902d25c1d-4b3c44624fca84ca-4_mask_0.nii.gz\n",
      "2023-10-13 13:50:06,405 INFO image_writer.py:197 - writing: /home/vlermakov/Development/Nodules/Nodule-Detection-LUNA2016/processed_data_full_range_075mm/Rijokees__636a85765236610902d25c1d-4b3c44624fca84ca-2/Rijokees__636a85765236610902d25c1d-4b3c44624fca84ca-2_mask_0.nii.gz\n"
     ]
    },
    {
     "name": "stderr",
     "output_type": "stream",
     "text": [
      "Loading dataset:  67%|██████████████████████████████████████████████████████████████████████████████████████████████████████████████████████████████████████████████████████                                                                          | 406/606 [59:56<20:24,  6.12s/it]"
     ]
    },
    {
     "name": "stdout",
     "output_type": "stream",
     "text": [
      "2023-10-13 13:50:21,313 INFO image_writer.py:197 - writing: /home/vlermakov/Development/Nodules/Nodule-Detection-LUNA2016/processed_data_full_range_075mm/Snemuti__636aefe92bc40e09a24e84db-745df24d9c1ea430-5/Snemuti__636aefe92bc40e09a24e84db-745df24d9c1ea430-5_image_0.nii.gz\n",
      "2023-10-13 13:50:23,705 INFO image_writer.py:197 - writing: /home/vlermakov/Development/Nodules/Nodule-Detection-LUNA2016/processed_data_full_range_075mm/Snemuti__636aefe92bc40e09a24e84db-745df24d9c1ea430-5/Snemuti__636aefe92bc40e09a24e84db-745df24d9c1ea430-5_mask_0.nii.gz\n"
     ]
    },
    {
     "name": "stderr",
     "output_type": "stream",
     "text": [
      "\r",
      "Loading dataset:  67%|█████████████████████████████████████████████████████████████████████████████████████████████████████████████████████████████████████████████████████                                                                         | 407/606 [1:00:04<21:59,  6.63s/it]"
     ]
    },
    {
     "name": "stdout",
     "output_type": "stream",
     "text": [
      "2023-10-13 13:50:30,427 INFO image_writer.py:197 - writing: /home/vlermakov/Development/Nodules/Nodule-Detection-LUNA2016/processed_data_full_range_075mm/Snemuti__636aefe92bc40e09a24e84db-745df24d9c1ea430-4/Snemuti__636aefe92bc40e09a24e84db-745df24d9c1ea430-4_image_0.nii.gz\n",
      "2023-10-13 13:50:30,488 INFO image_writer.py:197 - writing: /home/vlermakov/Development/Nodules/Nodule-Detection-LUNA2016/processed_data_full_range_075mm/Snemuti__636aefe92bc40e09a24e84db-745df24d9c1ea430-2/Snemuti__636aefe92bc40e09a24e84db-745df24d9c1ea430-2_image_0.nii.gz\n",
      "2023-10-13 13:50:31,336 INFO image_writer.py:197 - writing: /home/vlermakov/Development/Nodules/Nodule-Detection-LUNA2016/processed_data_full_range_075mm/Snemuti__636aefe92bc40e09a24e84db-745df24d9c1ea430-4/Snemuti__636aefe92bc40e09a24e84db-745df24d9c1ea430-4_mask_0.nii.gz\n",
      "2023-10-13 13:50:31,526 INFO image_writer.py:197 - writing: /home/vlermakov/Development/Nodules/Nodule-Detection-LUNA2016/processed_data_full_range_075mm/Snemuti__636aefe92bc40e09a24e84db-745df24d9c1ea430-2/Snemuti__636aefe92bc40e09a24e84db-745df24d9c1ea430-2_mask_0.nii.gz\n"
     ]
    },
    {
     "name": "stderr",
     "output_type": "stream",
     "text": [
      "Loading dataset:  67%|█████████████████████████████████████████████████████████████████████████████████████████████████████████████████████████████████████████████████████▊                                                                        | 409/606 [1:00:20<22:09,  6.75s/it]"
     ]
    },
    {
     "name": "stdout",
     "output_type": "stream",
     "text": [
      "2023-10-13 13:50:40,440 INFO image_writer.py:197 - writing: /home/vlermakov/Development/Nodules/Nodule-Detection-LUNA2016/processed_data_full_range_075mm/Snemuti__636aefe92bc40e09a24e84db-745df24d9c1ea430-1/Snemuti__636aefe92bc40e09a24e84db-745df24d9c1ea430-1_image_0.nii.gz\n",
      "2023-10-13 13:50:40,564 INFO image_writer.py:197 - writing: /home/vlermakov/Development/Nodules/Nodule-Detection-LUNA2016/processed_data_full_range_075mm/Snemuti__636aefe92bc40e09a24e84db-745df24d9c1ea430-1/Snemuti__636aefe92bc40e09a24e84db-745df24d9c1ea430-1_mask_0.nii.gz\n"
     ]
    },
    {
     "name": "stderr",
     "output_type": "stream",
     "text": [
      "\r",
      "Loading dataset:  68%|██████████████████████████████████████████████████████████████████████████████████████████████████████████████████████████████████████████████████████▏                                                                       | 410/606 [1:00:21<16:57,  5.19s/it]"
     ]
    },
    {
     "name": "stdout",
     "output_type": "stream",
     "text": [
      "2023-10-13 13:51:03,290 INFO image_writer.py:197 - writing: /home/vlermakov/Development/Nodules/Nodule-Detection-LUNA2016/processed_data_full_range_075mm/Humujo__63633dcbc0eb1d0a3d68aec9-a7cdfa772f3c8bbb-6/Humujo__63633dcbc0eb1d0a3d68aec9-a7cdfa772f3c8bbb-6_image_0.nii.gz\n",
      "2023-10-13 13:51:03,488 INFO image_writer.py:197 - writing: /home/vlermakov/Development/Nodules/Nodule-Detection-LUNA2016/processed_data_full_range_075mm/Humujo__63633dcbc0eb1d0a3d68aec9-a7cdfa772f3c8bbb-6/Humujo__63633dcbc0eb1d0a3d68aec9-a7cdfa772f3c8bbb-6_mask_0.nii.gz\n"
     ]
    },
    {
     "name": "stderr",
     "output_type": "stream",
     "text": [
      "\r",
      "Loading dataset:  68%|██████████████████████████████████████████████████████████████████████████████████████████████████████████████████████████████████████████████████████▌                                                                       | 411/606 [1:00:44<33:50, 10.41s/it]"
     ]
    },
    {
     "name": "stdout",
     "output_type": "stream",
     "text": [
      "2023-10-13 13:51:09,582 INFO image_writer.py:197 - writing: /home/vlermakov/Development/Nodules/Nodule-Detection-LUNA2016/processed_data_full_range_075mm/Mosniegu__63ad23e1169c2a0926c89275-07276a5e0aa97b02-5/Mosniegu__63ad23e1169c2a0926c89275-07276a5e0aa97b02-5_image_0.nii.gz\n",
      "2023-10-13 13:51:09,710 INFO image_writer.py:197 - writing: /home/vlermakov/Development/Nodules/Nodule-Detection-LUNA2016/processed_data_full_range_075mm/Mosniegu__63ad23e1169c2a0926c89275-07276a5e0aa97b02-11/Mosniegu__63ad23e1169c2a0926c89275-07276a5e0aa97b02-11_image_0.nii.gz\n",
      "2023-10-13 13:51:11,062 INFO image_writer.py:197 - writing: /home/vlermakov/Development/Nodules/Nodule-Detection-LUNA2016/processed_data_full_range_075mm/Mosniegu__63ad23e1169c2a0926c89275-07276a5e0aa97b02-11/Mosniegu__63ad23e1169c2a0926c89275-07276a5e0aa97b02-11_mask_0.nii.gz\n",
      "2023-10-13 13:51:11,153 INFO image_writer.py:197 - writing: /home/vlermakov/Development/Nodules/Nodule-Detection-LUNA2016/processed_data_full_range_075mm/Mosniegu__63ad23e1169c2a0926c89275-07276a5e0aa97b02-5/Mosniegu__63ad23e1169c2a0926c89275-07276a5e0aa97b02-5_mask_0.nii.gz\n",
      "2023-10-13 13:51:22,455 INFO image_writer.py:197 - writing: /home/vlermakov/Development/Nodules/Nodule-Detection-LUNA2016/processed_data_full_range_075mm/Bayusha__635ca31e614af409ec8a96f6-498ffb13cfd9426f-4/Bayusha__635ca31e614af409ec8a96f6-498ffb13cfd9426f-4_image_0.nii.gz\n",
      "2023-10-13 13:51:22,498 INFO image_writer.py:197 - writing: /home/vlermakov/Development/Nodules/Nodule-Detection-LUNA2016/processed_data_full_range_075mm/Bayusha__635ca31e614af409ec8a96f6-498ffb13cfd9426f-1/Bayusha__635ca31e614af409ec8a96f6-498ffb13cfd9426f-1_image_0.nii.gz\n",
      "2023-10-13 13:51:22,512 INFO image_writer.py:197 - writing: /home/vlermakov/Development/Nodules/Nodule-Detection-LUNA2016/processed_data_full_range_075mm/Bayusha__635ca31e614af409ec8a96f6-498ffb13cfd9426f-17/Bayusha__635ca31e614af409ec8a96f6-498ffb13cfd9426f-17_image_0.nii.gz\n",
      "2023-10-13 13:51:22,591 INFO image_writer.py:197 - writing: /home/vlermakov/Development/Nodules/Nodule-Detection-LUNA2016/processed_data_full_range_075mm/Bayusha__635ca31e614af409ec8a96f6-498ffb13cfd9426f-25/Bayusha__635ca31e614af409ec8a96f6-498ffb13cfd9426f-25_image_0.nii.gz\n",
      "2023-10-13 13:51:22,638 INFO image_writer.py:197 - writing: /home/vlermakov/Development/Nodules/Nodule-Detection-LUNA2016/processed_data_full_range_075mm/Bayusha__635ca31e614af409ec8a96f6-498ffb13cfd9426f-4/Bayusha__635ca31e614af409ec8a96f6-498ffb13cfd9426f-4_mask_0.nii.gz\n",
      "2023-10-13 13:51:22,792 INFO image_writer.py:197 - writing: /home/vlermakov/Development/Nodules/Nodule-Detection-LUNA2016/processed_data_full_range_075mm/Bayusha__635ca31e614af409ec8a96f6-498ffb13cfd9426f-1/Bayusha__635ca31e614af409ec8a96f6-498ffb13cfd9426f-1_mask_0.nii.gz\n",
      "2023-10-13 13:51:22,794 INFO image_writer.py:197 - writing: /home/vlermakov/Development/Nodules/Nodule-Detection-LUNA2016/processed_data_full_range_075mm/Bayusha__635ca31e614af409ec8a96f6-498ffb13cfd9426f-17/Bayusha__635ca31e614af409ec8a96f6-498ffb13cfd9426f-17_mask_0.nii.gz\n",
      "2023-10-13 13:51:28,951 INFO image_writer.py:197 - writing: /home/vlermakov/Development/Nodules/Nodule-Detection-LUNA2016/processed_data_full_range_075mm/Bayusha__635ca31e614af409ec8a96f6-498ffb13cfd9426f-25/Bayusha__635ca31e614af409ec8a96f6-498ffb13cfd9426f-25_mask_0.nii.gz\n"
     ]
    },
    {
     "name": "stderr",
     "output_type": "stream",
     "text": [
      "Loading dataset:  68%|███████████████████████████████████████████████████████████████████████████████████████████████████████████████████████████████████████████████████████▋                                                                      | 414/606 [1:01:21<32:15, 10.08s/it]"
     ]
    },
    {
     "name": "stdout",
     "output_type": "stream",
     "text": [
      "2023-10-13 13:51:47,038 INFO image_writer.py:197 - writing: /home/vlermakov/Development/Nodules/Nodule-Detection-LUNA2016/processed_data_full_range_075mm/Mosniegu__63ad23e1169c2a0926c89275-07276a5e0aa97b02-2/Mosniegu__63ad23e1169c2a0926c89275-07276a5e0aa97b02-2_image_0.nii.gz\n",
      "2023-10-13 13:51:47,619 INFO image_writer.py:197 - writing: /home/vlermakov/Development/Nodules/Nodule-Detection-LUNA2016/processed_data_full_range_075mm/Mosniegu__63ad23e1169c2a0926c89275-07276a5e0aa97b02-2/Mosniegu__63ad23e1169c2a0926c89275-07276a5e0aa97b02-2_mask_0.nii.gz\n"
     ]
    },
    {
     "name": "stderr",
     "output_type": "stream",
     "text": [
      "\r",
      "Loading dataset:  69%|█████████████████████████████████████████████████████████████████████████████████████████████████████████████████████████████████████████████████████████▏                                                                    | 418/606 [1:01:28<15:03,  4.81s/it]"
     ]
    },
    {
     "name": "stdout",
     "output_type": "stream",
     "text": [
      "2023-10-13 13:52:03,129 INFO image_writer.py:197 - writing: /home/vlermakov/Development/Nodules/Nodule-Detection-LUNA2016/processed_data_full_range_075mm/Maguda__636f3e0239f01912fa7dd0ec-2f37b3cbd0667fec-3/Maguda__636f3e0239f01912fa7dd0ec-2f37b3cbd0667fec-3_image_0.nii.gz\n",
      "2023-10-13 13:52:03,280 INFO image_writer.py:197 - writing: /home/vlermakov/Development/Nodules/Nodule-Detection-LUNA2016/processed_data_full_range_075mm/Maguda__636f3e0239f01912fa7dd0ec-2f37b3cbd0667fec-3/Maguda__636f3e0239f01912fa7dd0ec-2f37b3cbd0667fec-3_mask_0.nii.gz\n",
      "2023-10-13 13:52:10,691 INFO image_writer.py:197 - writing: /home/vlermakov/Development/Nodules/Nodule-Detection-LUNA2016/processed_data_full_range_075mm/Nekledat__63ae34950203e409471b177f-c5cea3df5116924a-9/Nekledat__63ae34950203e409471b177f-c5cea3df5116924a-9_image_0.nii.gz\n",
      "2023-10-13 13:52:11,868 INFO image_writer.py:197 - writing: /home/vlermakov/Development/Nodules/Nodule-Detection-LUNA2016/processed_data_full_range_075mm/Nekledat__63ae34950203e409471b177f-c5cea3df5116924a-9/Nekledat__63ae34950203e409471b177f-c5cea3df5116924a-9_mask_0.nii.gz\n",
      "2023-10-13 13:52:18,074 INFO image_writer.py:197 - writing: /home/vlermakov/Development/Nodules/Nodule-Detection-LUNA2016/processed_data_full_range_075mm/Mosniegu__63ad23e1169c2a0926c89275-07276a5e0aa97b02-7/Mosniegu__63ad23e1169c2a0926c89275-07276a5e0aa97b02-7_image_0.nii.gz\n",
      "2023-10-13 13:52:18,094 INFO image_writer.py:197 - writing: /home/vlermakov/Development/Nodules/Nodule-Detection-LUNA2016/processed_data_full_range_075mm/Mosniegu__63ad23e1169c2a0926c89275-07276a5e0aa97b02-1/Mosniegu__63ad23e1169c2a0926c89275-07276a5e0aa97b02-1_image_0.nii.gz\n",
      "2023-10-13 13:52:18,119 INFO image_writer.py:197 - writing: /home/vlermakov/Development/Nodules/Nodule-Detection-LUNA2016/processed_data_full_range_075mm/Maguda__636f3e0239f01912fa7dd0ec-2f37b3cbd0667fec-2/Maguda__636f3e0239f01912fa7dd0ec-2f37b3cbd0667fec-2_image_0.nii.gz\n",
      "2023-10-13 13:52:18,253 INFO image_writer.py:197 - writing: /home/vlermakov/Development/Nodules/Nodule-Detection-LUNA2016/processed_data_full_range_075mm/Mosniegu__63ad23e1169c2a0926c89275-07276a5e0aa97b02-7/Mosniegu__63ad23e1169c2a0926c89275-07276a5e0aa97b02-7_mask_0.nii.gz\n",
      "2023-10-13 13:52:18,293 INFO image_writer.py:197 - writing: /home/vlermakov/Development/Nodules/Nodule-Detection-LUNA2016/processed_data_full_range_075mm/Mosniegu__63ad23e1169c2a0926c89275-07276a5e0aa97b02-1/Mosniegu__63ad23e1169c2a0926c89275-07276a5e0aa97b02-1_mask_0.nii.gz\n",
      "2023-10-13 13:52:18,297 INFO image_writer.py:197 - writing: /home/vlermakov/Development/Nodules/Nodule-Detection-LUNA2016/processed_data_full_range_075mm/Maguda__636f3e0239f01912fa7dd0ec-2f37b3cbd0667fec-2/Maguda__636f3e0239f01912fa7dd0ec-2f37b3cbd0667fec-2_mask_0.nii.gz\n"
     ]
    },
    {
     "name": "stderr",
     "output_type": "stream",
     "text": [
      "Loading dataset:  69%|█████████████████████████████████████████████████████████████████████████████████████████████████████████████████████████████████████████████████████████▊                                                                    | 420/606 [1:02:10<28:53,  9.32s/it]"
     ]
    },
    {
     "name": "stdout",
     "output_type": "stream",
     "text": [
      "2023-10-13 13:52:31,006 INFO image_writer.py:197 - writing: /home/vlermakov/Development/Nodules/Nodule-Detection-LUNA2016/processed_data_full_range_075mm/Maguda__636f3e0239f01912fa7dd0ec-2f37b3cbd0667fec-1/Maguda__636f3e0239f01912fa7dd0ec-2f37b3cbd0667fec-1_image_0.nii.gz\n",
      "2023-10-13 13:52:31,295 INFO image_writer.py:197 - writing: /home/vlermakov/Development/Nodules/Nodule-Detection-LUNA2016/processed_data_full_range_075mm/Maguda__636f3e0239f01912fa7dd0ec-2f37b3cbd0667fec-1/Maguda__636f3e0239f01912fa7dd0ec-2f37b3cbd0667fec-1_mask_0.nii.gz\n",
      "2023-10-13 13:53:01,881 INFO image_writer.py:197 - writing: /home/vlermakov/Development/Nodules/Nodule-Detection-LUNA2016/processed_data_full_range_075mm/Quimuque__63ae43492ceaca096c4c283e-64c7e060be18f0c3-4/Quimuque__63ae43492ceaca096c4c283e-64c7e060be18f0c3-4_image_0.nii.gz\n",
      "2023-10-13 13:53:02,277 INFO image_writer.py:197 - writing: /home/vlermakov/Development/Nodules/Nodule-Detection-LUNA2016/processed_data_full_range_075mm/Quimuque__63ae43492ceaca096c4c283e-64c7e060be18f0c3-4/Quimuque__63ae43492ceaca096c4c283e-64c7e060be18f0c3-4_mask_0.nii.gz\n",
      "2023-10-13 13:53:06,450 INFO image_writer.py:197 - writing: /home/vlermakov/Development/Nodules/Nodule-Detection-LUNA2016/processed_data_full_range_075mm/Quimuque__63ae43492ceaca096c4c283e-64c7e060be18f0c3-19/Quimuque__63ae43492ceaca096c4c283e-64c7e060be18f0c3-19_image_0.nii.gz\n",
      "2023-10-13 13:53:06,751 INFO image_writer.py:197 - writing: /home/vlermakov/Development/Nodules/Nodule-Detection-LUNA2016/processed_data_full_range_075mm/Quimuque__63ae43492ceaca096c4c283e-64c7e060be18f0c3-19/Quimuque__63ae43492ceaca096c4c283e-64c7e060be18f0c3-19_mask_0.nii.gz\n",
      "2023-10-13 13:53:11,455 INFO image_writer.py:197 - writing: /home/vlermakov/Development/Nodules/Nodule-Detection-LUNA2016/processed_data_full_range_075mm/Asuenak__635afe0c30a74e09a7a90a2c-670a0de1058ab138-29/Asuenak__635afe0c30a74e09a7a90a2c-670a0de1058ab138-29_image_0.nii.gz\n",
      "2023-10-13 13:53:11,783 INFO image_writer.py:197 - writing: /home/vlermakov/Development/Nodules/Nodule-Detection-LUNA2016/processed_data_full_range_075mm/Asuenak__635afe0c30a74e09a7a90a2c-670a0de1058ab138-29/Asuenak__635afe0c30a74e09a7a90a2c-670a0de1058ab138-29_mask_0.nii.gz\n",
      "2023-10-13 13:53:19,186 INFO image_writer.py:197 - writing: /home/vlermakov/Development/Nodules/Nodule-Detection-LUNA2016/processed_data_full_range_075mm/Agipkab__6394ae8d4ee9a509bba939e4-b64e22e055657caf-43/Agipkab__6394ae8d4ee9a509bba939e4-b64e22e055657caf-43_image_0.nii.gz\n",
      "2023-10-13 13:53:19,511 INFO image_writer.py:197 - writing: /home/vlermakov/Development/Nodules/Nodule-Detection-LUNA2016/processed_data_full_range_075mm/Agipkab__6394ae8d4ee9a509bba939e4-b64e22e055657caf-43/Agipkab__6394ae8d4ee9a509bba939e4-b64e22e055657caf-43_mask_0.nii.gz\n"
     ]
    },
    {
     "name": "stderr",
     "output_type": "stream",
     "text": [
      "Loading dataset:  70%|██████████████████████████████████████████████████████████████████████████████████████████████████████████████████████████████████████████████████████████▉                                                                   | 423/606 [1:03:04<38:44, 12.70s/it]"
     ]
    },
    {
     "name": "stdout",
     "output_type": "stream",
     "text": [
      "2023-10-13 13:53:23,765 INFO image_writer.py:197 - writing: /home/vlermakov/Development/Nodules/Nodule-Detection-LUNA2016/processed_data_full_range_075mm/Asuenak__635afe0c30a74e09a7a90a2c-670a0de1058ab138-2/Asuenak__635afe0c30a74e09a7a90a2c-670a0de1058ab138-2_image_0.nii.gz\n",
      "2023-10-13 13:53:24,199 INFO image_writer.py:197 - writing: /home/vlermakov/Development/Nodules/Nodule-Detection-LUNA2016/processed_data_full_range_075mm/Asuenak__635afe0c30a74e09a7a90a2c-670a0de1058ab138-1/Asuenak__635afe0c30a74e09a7a90a2c-670a0de1058ab138-1_image_0.nii.gz\n",
      "2023-10-13 13:53:24,258 INFO image_writer.py:197 - writing: /home/vlermakov/Development/Nodules/Nodule-Detection-LUNA2016/processed_data_full_range_075mm/Asuenak__635afe0c30a74e09a7a90a2c-670a0de1058ab138-2/Asuenak__635afe0c30a74e09a7a90a2c-670a0de1058ab138-2_mask_0.nii.gz\n",
      "2023-10-13 13:53:24,525 INFO image_writer.py:197 - writing: /home/vlermakov/Development/Nodules/Nodule-Detection-LUNA2016/processed_data_full_range_075mm/Asuenak__635afe0c30a74e09a7a90a2c-670a0de1058ab138-1/Asuenak__635afe0c30a74e09a7a90a2c-670a0de1058ab138-1_mask_0.nii.gz\n",
      "2023-10-13 13:53:24,581 INFO image_writer.py:197 - writing: /home/vlermakov/Development/Nodules/Nodule-Detection-LUNA2016/processed_data_full_range_075mm/Asuenak__635afe0c30a74e09a7a90a2c-670a0de1058ab138-9/Asuenak__635afe0c30a74e09a7a90a2c-670a0de1058ab138-9_image_0.nii.gz\n",
      "2023-10-13 13:53:24,603 INFO image_writer.py:197 - writing: /home/vlermakov/Development/Nodules/Nodule-Detection-LUNA2016/processed_data_full_range_075mm/Quimuque__63ae43492ceaca096c4c283e-64c7e060be18f0c3-1/Quimuque__63ae43492ceaca096c4c283e-64c7e060be18f0c3-1_image_0.nii.gz\n"
     ]
    },
    {
     "name": "stderr",
     "output_type": "stream",
     "text": [
      "Loading dataset:  71%|████████████████████████████████████████████████████████████████████████████████████████████████████████████████████████████████████████████████████████████▊                                                                 | 428/606 [1:03:12<17:39,  5.95s/it]"
     ]
    },
    {
     "name": "stdout",
     "output_type": "stream",
     "text": [
      "2023-10-13 13:53:32,283 INFO image_writer.py:197 - writing: /home/vlermakov/Development/Nodules/Nodule-Detection-LUNA2016/processed_data_full_range_075mm/Asuenak__635afe0c30a74e09a7a90a2c-670a0de1058ab138-9/Asuenak__635afe0c30a74e09a7a90a2c-670a0de1058ab138-9_mask_0.nii.gz\n",
      "2023-10-13 13:53:32,358 INFO image_writer.py:197 - writing: /home/vlermakov/Development/Nodules/Nodule-Detection-LUNA2016/processed_data_full_range_075mm/Quimuque__63ae43492ceaca096c4c283e-64c7e060be18f0c3-1/Quimuque__63ae43492ceaca096c4c283e-64c7e060be18f0c3-1_mask_0.nii.gz\n"
     ]
    },
    {
     "name": "stderr",
     "output_type": "stream",
     "text": [
      "Loading dataset:  71%|██████████████████████████████████████████████████████████████████████████████████████████████████████████████████████████████████████████████████████████████▎                                                               | 432/606 [1:03:16<09:02,  3.12s/it]"
     ]
    },
    {
     "name": "stdout",
     "output_type": "stream",
     "text": [
      "2023-10-13 13:54:02,530 INFO image_writer.py:197 - writing: /home/vlermakov/Development/Nodules/Nodule-Detection-LUNA2016/processed_data_full_range_075mm/Quimuque__63ae43492ceaca096c4c283e-64c7e060be18f0c3-2/Quimuque__63ae43492ceaca096c4c283e-64c7e060be18f0c3-2_image_0.nii.gz\n",
      "2023-10-13 13:54:02,764 INFO image_writer.py:197 - writing: /home/vlermakov/Development/Nodules/Nodule-Detection-LUNA2016/processed_data_full_range_075mm/Quimuque__63ae43492ceaca096c4c283e-64c7e060be18f0c3-8/Quimuque__63ae43492ceaca096c4c283e-64c7e060be18f0c3-8_image_0.nii.gz\n",
      "2023-10-13 13:54:02,791 INFO image_writer.py:197 - writing: /home/vlermakov/Development/Nodules/Nodule-Detection-LUNA2016/processed_data_full_range_075mm/Quimuque__63ae43492ceaca096c4c283e-64c7e060be18f0c3-2/Quimuque__63ae43492ceaca096c4c283e-64c7e060be18f0c3-2_mask_0.nii.gz\n",
      "2023-10-13 13:54:02,876 INFO image_writer.py:197 - writing: /home/vlermakov/Development/Nodules/Nodule-Detection-LUNA2016/processed_data_full_range_075mm/Quimuque__63ae43492ceaca096c4c283e-64c7e060be18f0c3-8/Quimuque__63ae43492ceaca096c4c283e-64c7e060be18f0c3-8_mask_0.nii.gz\n"
     ]
    },
    {
     "name": "stderr",
     "output_type": "stream",
     "text": [
      "Loading dataset:  72%|██████████████████████████████████████████████████████████████████████████████████████████████████████████████████████████████████████████████████████████████▉                                                               | 434/606 [1:03:47<19:07,  6.67s/it]"
     ]
    },
    {
     "name": "stdout",
     "output_type": "stream",
     "text": [
      "2023-10-13 13:54:20,820 INFO image_writer.py:197 - writing: /home/vlermakov/Development/Nodules/Nodule-Detection-LUNA2016/processed_data_full_range_075mm/Dubeepoo__6359de9b65e98c0944599dfa-e12ffe11a525cfed-60/Dubeepoo__6359de9b65e98c0944599dfa-e12ffe11a525cfed-60_image_0.nii.gz\n",
      "2023-10-13 13:54:20,890 INFO image_writer.py:197 - writing: /home/vlermakov/Development/Nodules/Nodule-Detection-LUNA2016/processed_data_full_range_075mm/Dubeepoo__6359de9b65e98c0944599dfa-e12ffe11a525cfed-1/Dubeepoo__6359de9b65e98c0944599dfa-e12ffe11a525cfed-1_image_0.nii.gz\n",
      "2023-10-13 13:54:21,052 INFO image_writer.py:197 - writing: /home/vlermakov/Development/Nodules/Nodule-Detection-LUNA2016/processed_data_full_range_075mm/Dubeepoo__6359de9b65e98c0944599dfa-e12ffe11a525cfed-41/Dubeepoo__6359de9b65e98c0944599dfa-e12ffe11a525cfed-41_image_0.nii.gz\n",
      "2023-10-13 13:54:21,129 INFO image_writer.py:197 - writing: /home/vlermakov/Development/Nodules/Nodule-Detection-LUNA2016/processed_data_full_range_075mm/Dubeepoo__6359de9b65e98c0944599dfa-e12ffe11a525cfed-13/Dubeepoo__6359de9b65e98c0944599dfa-e12ffe11a525cfed-13_image_0.nii.gz\n",
      "2023-10-13 13:54:21,167 INFO image_writer.py:197 - writing: /home/vlermakov/Development/Nodules/Nodule-Detection-LUNA2016/processed_data_full_range_075mm/Dubeepoo__6359de9b65e98c0944599dfa-e12ffe11a525cfed-60/Dubeepoo__6359de9b65e98c0944599dfa-e12ffe11a525cfed-60_mask_0.nii.gz\n",
      "2023-10-13 13:54:21,176 INFO image_writer.py:197 - writing: /home/vlermakov/Development/Nodules/Nodule-Detection-LUNA2016/processed_data_full_range_075mm/Dubeepoo__6359de9b65e98c0944599dfa-e12ffe11a525cfed-4/Dubeepoo__6359de9b65e98c0944599dfa-e12ffe11a525cfed-4_image_0.nii.gz\n",
      "2023-10-13 13:54:21,195 INFO image_writer.py:197 - writing: /home/vlermakov/Development/Nodules/Nodule-Detection-LUNA2016/processed_data_full_range_075mm/Dubeepoo__6359de9b65e98c0944599dfa-e12ffe11a525cfed-1/Dubeepoo__6359de9b65e98c0944599dfa-e12ffe11a525cfed-1_mask_0.nii.gz\n",
      "2023-10-13 13:54:21,256 INFO image_writer.py:197 - writing: /home/vlermakov/Development/Nodules/Nodule-Detection-LUNA2016/processed_data_full_range_075mm/Dubeepoo__6359de9b65e98c0944599dfa-e12ffe11a525cfed-41/Dubeepoo__6359de9b65e98c0944599dfa-e12ffe11a525cfed-41_mask_0.nii.gz\n"
     ]
    },
    {
     "name": "stderr",
     "output_type": "stream",
     "text": [
      "Loading dataset:  72%|███████████████████████████████████████████████████████████████████████████████████████████████████████████████████████████████████████████████████████████████▋                                                              | 436/606 [1:04:17<27:02,  9.54s/it]"
     ]
    },
    {
     "name": "stdout",
     "output_type": "stream",
     "text": [
      "2023-10-13 13:54:36,986 INFO image_writer.py:197 - writing: /home/vlermakov/Development/Nodules/Nodule-Detection-LUNA2016/processed_data_full_range_075mm/Dubeepoo__6359de9b65e98c0944599dfa-e12ffe11a525cfed-13/Dubeepoo__6359de9b65e98c0944599dfa-e12ffe11a525cfed-13_mask_0.nii.gz\n",
      "2023-10-13 13:54:37,214 INFO image_writer.py:197 - writing: /home/vlermakov/Development/Nodules/Nodule-Detection-LUNA2016/processed_data_full_range_075mm/Dubeepoo__6359de9b65e98c0944599dfa-e12ffe11a525cfed-4/Dubeepoo__6359de9b65e98c0944599dfa-e12ffe11a525cfed-4_mask_0.nii.gz\n"
     ]
    },
    {
     "name": "stderr",
     "output_type": "stream",
     "text": [
      "Loading dataset:  72%|████████████████████████████████████████████████████████████████████████████████████████████████████████████████████████████████████████████████████████████████▍                                                             | 438/606 [1:04:24<19:23,  6.92s/it]"
     ]
    },
    {
     "name": "stdout",
     "output_type": "stream",
     "text": [
      "2023-10-13 13:55:02,754 INFO image_writer.py:197 - writing: /home/vlermakov/Development/Nodules/Nodule-Detection-LUNA2016/processed_data_full_range_075mm/Dubeepoo__6359de9b65e98c0944599dfa-e12ffe11a525cfed-62/Dubeepoo__6359de9b65e98c0944599dfa-e12ffe11a525cfed-62_image_0.nii.gz\n",
      "2023-10-13 13:55:03,234 INFO image_writer.py:197 - writing: /home/vlermakov/Development/Nodules/Nodule-Detection-LUNA2016/processed_data_full_range_075mm/Dubeepoo__6359de9b65e98c0944599dfa-e12ffe11a525cfed-62/Dubeepoo__6359de9b65e98c0944599dfa-e12ffe11a525cfed-62_mask_0.nii.gz\n"
     ]
    },
    {
     "name": "stderr",
     "output_type": "stream",
     "text": [
      "\r",
      "Loading dataset:  73%|█████████████████████████████████████████████████████████████████████████████████████████████████████████████████████████████████████████████████████████████████▏                                                            | 440/606 [1:04:48<24:56,  9.01s/it]"
     ]
    },
    {
     "name": "stdout",
     "output_type": "stream",
     "text": [
      "2023-10-13 13:55:10,644 INFO image_writer.py:197 - writing: /home/vlermakov/Development/Nodules/Nodule-Detection-LUNA2016/processed_data_full_range_075mm/Dubeepoo__6359de9b65e98c0944599dfa-e12ffe11a525cfed-64/Dubeepoo__6359de9b65e98c0944599dfa-e12ffe11a525cfed-64_image_0.nii.gz\n",
      "2023-10-13 13:55:10,662 INFO image_writer.py:197 - writing: /home/vlermakov/Development/Nodules/Nodule-Detection-LUNA2016/processed_data_full_range_075mm/Fagapgak__63a0bbfecc9b3d090b1f71fc-d02eed16252e1877-1/Fagapgak__63a0bbfecc9b3d090b1f71fc-d02eed16252e1877-1_image_0.nii.gz\n",
      "2023-10-13 13:55:10,752 INFO image_writer.py:197 - writing: /home/vlermakov/Development/Nodules/Nodule-Detection-LUNA2016/processed_data_full_range_075mm/Kujidu__63b4d2ca25327108cce00602-2e10145f0a75ac40-6/Kujidu__63b4d2ca25327108cce00602-2e10145f0a75ac40-6_image_0.nii.gz\n",
      "2023-10-13 13:55:10,896 INFO image_writer.py:197 - writing: /home/vlermakov/Development/Nodules/Nodule-Detection-LUNA2016/processed_data_full_range_075mm/Kujidu__63b4d2ca25327108cce00602-2e10145f0a75ac40-2/Kujidu__63b4d2ca25327108cce00602-2e10145f0a75ac40-2_image_0.nii.gz\n",
      "2023-10-13 13:55:11,572 INFO image_writer.py:197 - writing: /home/vlermakov/Development/Nodules/Nodule-Detection-LUNA2016/processed_data_full_range_075mm/Dubeepoo__6359de9b65e98c0944599dfa-e12ffe11a525cfed-64/Dubeepoo__6359de9b65e98c0944599dfa-e12ffe11a525cfed-64_mask_0.nii.gz\n",
      "2023-10-13 13:55:12,153 INFO image_writer.py:197 - writing: /home/vlermakov/Development/Nodules/Nodule-Detection-LUNA2016/processed_data_full_range_075mm/Fagapgak__63a0bbfecc9b3d090b1f71fc-d02eed16252e1877-1/Fagapgak__63a0bbfecc9b3d090b1f71fc-d02eed16252e1877-1_mask_0.nii.gz\n",
      "2023-10-13 13:55:12,241 INFO image_writer.py:197 - writing: /home/vlermakov/Development/Nodules/Nodule-Detection-LUNA2016/processed_data_full_range_075mm/Kujidu__63b4d2ca25327108cce00602-2e10145f0a75ac40-6/Kujidu__63b4d2ca25327108cce00602-2e10145f0a75ac40-6_mask_0.nii.gz\n",
      "2023-10-13 13:55:12,329 INFO image_writer.py:197 - writing: /home/vlermakov/Development/Nodules/Nodule-Detection-LUNA2016/processed_data_full_range_075mm/Kujidu__63b4d2ca25327108cce00602-2e10145f0a75ac40-2/Kujidu__63b4d2ca25327108cce00602-2e10145f0a75ac40-2_mask_0.nii.gz\n"
     ]
    },
    {
     "name": "stderr",
     "output_type": "stream",
     "text": [
      "\r",
      "Loading dataset:  73%|█████████████████████████████████████████████████████████████████████████████████████████████████████████████████████████████████████████████████████████████████▌                                                            | 441/606 [1:04:59<26:26,  9.61s/it]"
     ]
    },
    {
     "name": "stdout",
     "output_type": "stream",
     "text": [
      "2023-10-13 13:55:42,755 INFO image_writer.py:197 - writing: /home/vlermakov/Development/Nodules/Nodule-Detection-LUNA2016/processed_data_full_range_075mm/Fagapgak__63a0bbfecc9b3d090b1f71fc-d02eed16252e1877-4/Fagapgak__63a0bbfecc9b3d090b1f71fc-d02eed16252e1877-4_image_0.nii.gz\n",
      "2023-10-13 13:55:42,755 INFO image_writer.py:197 - writing: /home/vlermakov/Development/Nodules/Nodule-Detection-LUNA2016/processed_data_full_range_075mm/Dubeepoo__6359de9b65e98c0944599dfa-e12ffe11a525cfed-67/Dubeepoo__6359de9b65e98c0944599dfa-e12ffe11a525cfed-67_image_0.nii.gz\n",
      "2023-10-13 13:55:42,855 INFO image_writer.py:197 - writing: /home/vlermakov/Development/Nodules/Nodule-Detection-LUNA2016/processed_data_full_range_075mm/Fagapgak__63a0bbfecc9b3d090b1f71fc-d02eed16252e1877-2/Fagapgak__63a0bbfecc9b3d090b1f71fc-d02eed16252e1877-2_image_0.nii.gz\n",
      "2023-10-13 13:55:43,438 INFO image_writer.py:197 - writing: /home/vlermakov/Development/Nodules/Nodule-Detection-LUNA2016/processed_data_full_range_075mm/Fagapgak__63a0bbfecc9b3d090b1f71fc-d02eed16252e1877-4/Fagapgak__63a0bbfecc9b3d090b1f71fc-d02eed16252e1877-4_mask_0.nii.gz\n",
      "2023-10-13 13:55:43,649 INFO image_writer.py:197 - writing: /home/vlermakov/Development/Nodules/Nodule-Detection-LUNA2016/processed_data_full_range_075mm/Dubeepoo__6359de9b65e98c0944599dfa-e12ffe11a525cfed-67/Dubeepoo__6359de9b65e98c0944599dfa-e12ffe11a525cfed-67_mask_0.nii.gz\n",
      "2023-10-13 13:55:43,705 INFO image_writer.py:197 - writing: /home/vlermakov/Development/Nodules/Nodule-Detection-LUNA2016/processed_data_full_range_075mm/Fagapgak__63a0bbfecc9b3d090b1f71fc-d02eed16252e1877-2/Fagapgak__63a0bbfecc9b3d090b1f71fc-d02eed16252e1877-2_mask_0.nii.gz\n"
     ]
    },
    {
     "name": "stderr",
     "output_type": "stream",
     "text": [
      "Loading dataset:  73%|██████████████████████████████████████████████████████████████████████████████████████████████████████████████████████████████████████████████████████████████████▎                                                           | 443/606 [1:05:39<35:01, 12.89s/it]"
     ]
    },
    {
     "name": "stdout",
     "output_type": "stream",
     "text": [
      "2023-10-13 13:56:12,629 INFO image_writer.py:197 - writing: /home/vlermakov/Development/Nodules/Nodule-Detection-LUNA2016/processed_data_full_range_075mm/Fagapgak__63a0bbfecc9b3d090b1f71fc-d02eed16252e1877-6/Fagapgak__63a0bbfecc9b3d090b1f71fc-d02eed16252e1877-6_image_0.nii.gz\n",
      "2023-10-13 13:56:12,864 INFO image_writer.py:197 - writing: /home/vlermakov/Development/Nodules/Nodule-Detection-LUNA2016/processed_data_full_range_075mm/Fagapgak__63a0bbfecc9b3d090b1f71fc-d02eed16252e1877-6/Fagapgak__63a0bbfecc9b3d090b1f71fc-d02eed16252e1877-6_mask_0.nii.gz\n"
     ]
    },
    {
     "name": "stderr",
     "output_type": "stream",
     "text": [
      "\r",
      "Loading dataset:  74%|████████████████████████████████████████████████████████████████████████████████████████████████████████████████████████████████████████████████████████████████████                                                          | 448/606 [1:06:01<19:10,  7.28s/it]"
     ]
    },
    {
     "name": "stdout",
     "output_type": "stream",
     "text": [
      "2023-10-13 13:56:24,435 INFO image_writer.py:197 - writing: /home/vlermakov/Development/Nodules/Nodule-Detection-LUNA2016/processed_data_full_range_075mm/Golufa__636acd95c5159a09b98884bb-166fa65368579abb-7/Golufa__636acd95c5159a09b98884bb-166fa65368579abb-7_image_0.nii.gz\n",
      "2023-10-13 13:56:24,542 INFO image_writer.py:197 - writing: /home/vlermakov/Development/Nodules/Nodule-Detection-LUNA2016/processed_data_full_range_075mm/Golufa__636acd95c5159a09b98884bb-166fa65368579abb-11/Golufa__636acd95c5159a09b98884bb-166fa65368579abb-11_image_0.nii.gz\n",
      "2023-10-13 13:56:24,877 INFO image_writer.py:197 - writing: /home/vlermakov/Development/Nodules/Nodule-Detection-LUNA2016/processed_data_full_range_075mm/Golufa__636acd95c5159a09b98884bb-166fa65368579abb-7/Golufa__636acd95c5159a09b98884bb-166fa65368579abb-7_mask_0.nii.gz\n",
      "2023-10-13 13:56:25,073 INFO image_writer.py:197 - writing: /home/vlermakov/Development/Nodules/Nodule-Detection-LUNA2016/processed_data_full_range_075mm/Golufa__636acd95c5159a09b98884bb-166fa65368579abb-11/Golufa__636acd95c5159a09b98884bb-166fa65368579abb-11_mask_0.nii.gz\n"
     ]
    },
    {
     "name": "stderr",
     "output_type": "stream",
     "text": [
      "Loading dataset:  74%|████████████████████████████████████████████████████████████████████████████████████████████████████████████████████████████████████████████████████████████████████▊                                                         | 450/606 [1:06:14<18:06,  6.96s/it]"
     ]
    },
    {
     "name": "stdout",
     "output_type": "stream",
     "text": [
      "2023-10-13 13:56:35,802 INFO image_writer.py:197 - writing: /home/vlermakov/Development/Nodules/Nodule-Detection-LUNA2016/processed_data_full_range_075mm/Mibeese__639b759f3a663f09483036b7-e7b6cb8906fcba88-1/Mibeese__639b759f3a663f09483036b7-e7b6cb8906fcba88-1_image_0.nii.gz\n",
      "2023-10-13 13:56:35,861 INFO image_writer.py:197 - writing: /home/vlermakov/Development/Nodules/Nodule-Detection-LUNA2016/processed_data_full_range_075mm/Mibeese__639b759f3a663f09483036b7-e7b6cb8906fcba88-4/Mibeese__639b759f3a663f09483036b7-e7b6cb8906fcba88-4_image_0.nii.gz\n",
      "2023-10-13 13:56:36,478 INFO image_writer.py:197 - writing: /home/vlermakov/Development/Nodules/Nodule-Detection-LUNA2016/processed_data_full_range_075mm/Mibeese__639b759f3a663f09483036b7-e7b6cb8906fcba88-1/Mibeese__639b759f3a663f09483036b7-e7b6cb8906fcba88-1_mask_0.nii.gz\n",
      "2023-10-13 13:56:36,490 INFO image_writer.py:197 - writing: /home/vlermakov/Development/Nodules/Nodule-Detection-LUNA2016/processed_data_full_range_075mm/Mibeese__639b759f3a663f09483036b7-e7b6cb8906fcba88-4/Mibeese__639b759f3a663f09483036b7-e7b6cb8906fcba88-4_mask_0.nii.gz\n",
      "2023-10-13 13:56:54,647 INFO image_writer.py:197 - writing: /home/vlermakov/Development/Nodules/Nodule-Detection-LUNA2016/processed_data_full_range_075mm/Golufa__636acd95c5159a09b98884bb-166fa65368579abb-9/Golufa__636acd95c5159a09b98884bb-166fa65368579abb-9_image_0.nii.gz\n",
      "2023-10-13 13:56:54,778 INFO image_writer.py:197 - writing: /home/vlermakov/Development/Nodules/Nodule-Detection-LUNA2016/processed_data_full_range_075mm/Golufa__636acd95c5159a09b98884bb-166fa65368579abb-5/Golufa__636acd95c5159a09b98884bb-166fa65368579abb-5_image_0.nii.gz\n",
      "2023-10-13 13:56:55,126 INFO image_writer.py:197 - writing: /home/vlermakov/Development/Nodules/Nodule-Detection-LUNA2016/processed_data_full_range_075mm/Golufa__636acd95c5159a09b98884bb-166fa65368579abb-9/Golufa__636acd95c5159a09b98884bb-166fa65368579abb-9_mask_0.nii.gz\n",
      "2023-10-13 13:56:55,247 INFO image_writer.py:197 - writing: /home/vlermakov/Development/Nodules/Nodule-Detection-LUNA2016/processed_data_full_range_075mm/Golufa__636acd95c5159a09b98884bb-166fa65368579abb-5/Golufa__636acd95c5159a09b98884bb-166fa65368579abb-5_mask_0.nii.gz\n"
     ]
    },
    {
     "name": "stderr",
     "output_type": "stream",
     "text": [
      "Loading dataset:  75%|█████████████████████████████████████████████████████████████████████████████████████████████████████████████████████████████████████████████████████████████████████▉                                                        | 453/606 [1:06:46<20:13,  7.93s/it]"
     ]
    },
    {
     "name": "stdout",
     "output_type": "stream",
     "text": [
      "2023-10-13 13:57:07,183 INFO image_writer.py:197 - writing: /home/vlermakov/Development/Nodules/Nodule-Detection-LUNA2016/processed_data_full_range_075mm/Mibeese__639b759f3a663f09483036b7-e7b6cb8906fcba88-9/Mibeese__639b759f3a663f09483036b7-e7b6cb8906fcba88-9_image_0.nii.gz\n",
      "2023-10-13 13:57:07,928 INFO image_writer.py:197 - writing: /home/vlermakov/Development/Nodules/Nodule-Detection-LUNA2016/processed_data_full_range_075mm/Mibeese__639b759f3a663f09483036b7-e7b6cb8906fcba88-9/Mibeese__639b759f3a663f09483036b7-e7b6cb8906fcba88-9_mask_0.nii.gz\n"
     ]
    },
    {
     "name": "stderr",
     "output_type": "stream",
     "text": [
      "\r",
      "Loading dataset:  75%|██████████████████████████████████████████████████████████████████████████████████████████████████████████████████████████████████████████████████████████████████████▋                                                       | 455/606 [1:06:48<12:48,  5.09s/it]"
     ]
    },
    {
     "name": "stdout",
     "output_type": "stream",
     "text": [
      "2023-10-13 13:57:13,511 INFO image_writer.py:197 - writing: /home/vlermakov/Development/Nodules/Nodule-Detection-LUNA2016/processed_data_full_range_075mm/Mibeese__639b759f3a663f09483036b7-e7b6cb8906fcba88-8/Mibeese__639b759f3a663f09483036b7-e7b6cb8906fcba88-8_image_0.nii.gz\n",
      "2023-10-13 13:57:13,789 INFO image_writer.py:197 - writing: /home/vlermakov/Development/Nodules/Nodule-Detection-LUNA2016/processed_data_full_range_075mm/Mibeese__639b759f3a663f09483036b7-e7b6cb8906fcba88-8/Mibeese__639b759f3a663f09483036b7-e7b6cb8906fcba88-8_mask_0.nii.gz\n"
     ]
    },
    {
     "name": "stderr",
     "output_type": "stream",
     "text": [
      "\r",
      "Loading dataset:  75%|███████████████████████████████████████████████████████████████████████████████████████████████████████████████████████████████████████████████████████████████████████                                                       | 456/606 [1:06:54<13:05,  5.24s/it]"
     ]
    },
    {
     "name": "stdout",
     "output_type": "stream",
     "text": [
      "2023-10-13 13:57:43,646 INFO image_writer.py:197 - writing: /home/vlermakov/Development/Nodules/Nodule-Detection-LUNA2016/processed_data_full_range_075mm/Doduni__635869885d1ede09b73e6a9b-a8f36eddbc7b8c51-7/Doduni__635869885d1ede09b73e6a9b-a8f36eddbc7b8c51-7_image_0.nii.gz\n",
      "2023-10-13 13:57:44,933 INFO image_writer.py:197 - writing: /home/vlermakov/Development/Nodules/Nodule-Detection-LUNA2016/processed_data_full_range_075mm/Doduni__635869885d1ede09b73e6a9b-a8f36eddbc7b8c51-19/Doduni__635869885d1ede09b73e6a9b-a8f36eddbc7b8c51-19_image_0.nii.gz\n",
      "2023-10-13 13:57:45,120 INFO image_writer.py:197 - writing: /home/vlermakov/Development/Nodules/Nodule-Detection-LUNA2016/processed_data_full_range_075mm/Doduni__635869885d1ede09b73e6a9b-a8f36eddbc7b8c51-7/Doduni__635869885d1ede09b73e6a9b-a8f36eddbc7b8c51-7_mask_0.nii.gz\n",
      "2023-10-13 13:57:45,315 INFO image_writer.py:197 - writing: /home/vlermakov/Development/Nodules/Nodule-Detection-LUNA2016/processed_data_full_range_075mm/Doduni__635869885d1ede09b73e6a9b-a8f36eddbc7b8c51-19/Doduni__635869885d1ede09b73e6a9b-a8f36eddbc7b8c51-19_mask_0.nii.gz\n"
     ]
    },
    {
     "name": "stderr",
     "output_type": "stream",
     "text": [
      "Loading dataset:  76%|███████████████████████████████████████████████████████████████████████████████████████████████████████████████████████████████████████████████████████████████████████▊                                                      | 458/606 [1:07:31<24:37,  9.98s/it]"
     ]
    },
    {
     "name": "stdout",
     "output_type": "stream",
     "text": [
      "2023-10-13 13:57:54,974 INFO image_writer.py:197 - writing: /home/vlermakov/Development/Nodules/Nodule-Detection-LUNA2016/processed_data_full_range_075mm/Doduni__635869885d1ede09b73e6a9b-a8f36eddbc7b8c51-1/Doduni__635869885d1ede09b73e6a9b-a8f36eddbc7b8c51-1_image_0.nii.gz\n",
      "2023-10-13 13:57:55,394 INFO image_writer.py:197 - writing: /home/vlermakov/Development/Nodules/Nodule-Detection-LUNA2016/processed_data_full_range_075mm/Doduni__635869885d1ede09b73e6a9b-a8f36eddbc7b8c51-1/Doduni__635869885d1ede09b73e6a9b-a8f36eddbc7b8c51-1_mask_0.nii.gz\n"
     ]
    },
    {
     "name": "stderr",
     "output_type": "stream",
     "text": [
      "\r",
      "Loading dataset:  76%|████████████████████████████████████████████████████████████████████████████████████████████████████████████████████████████████████████████████████████████████████████▏                                                     | 459/606 [1:07:36<21:24,  8.74s/it]"
     ]
    },
    {
     "name": "stdout",
     "output_type": "stream",
     "text": [
      "2023-10-13 13:58:02,189 INFO image_writer.py:197 - writing: /home/vlermakov/Development/Nodules/Nodule-Detection-LUNA2016/processed_data_full_range_075mm/Srostruesa__636d3ff044015609cd37973f-75b89477458f011a-4/Srostruesa__636d3ff044015609cd37973f-75b89477458f011a-4_image_0.nii.gz\n",
      "2023-10-13 13:58:02,190 INFO image_writer.py:197 - writing: /home/vlermakov/Development/Nodules/Nodule-Detection-LUNA2016/processed_data_full_range_075mm/Srostruesa__636d3ff044015609cd37973f-75b89477458f011a-3/Srostruesa__636d3ff044015609cd37973f-75b89477458f011a-3_image_0.nii.gz\n",
      "2023-10-13 13:58:02,191 INFO image_writer.py:197 - writing: /home/vlermakov/Development/Nodules/Nodule-Detection-LUNA2016/processed_data_full_range_075mm/Foberer__63ae6fcef2ba83097b0cd464-2f666ecc7487d0e4-6/Foberer__63ae6fcef2ba83097b0cd464-2f666ecc7487d0e4-6_image_0.nii.gz\n",
      "2023-10-13 13:58:02,384 INFO image_writer.py:197 - writing: /home/vlermakov/Development/Nodules/Nodule-Detection-LUNA2016/processed_data_full_range_075mm/Foberer__63ae6fcef2ba83097b0cd464-2f666ecc7487d0e4-6/Foberer__63ae6fcef2ba83097b0cd464-2f666ecc7487d0e4-6_mask_0.nii.gz\n",
      "2023-10-13 13:58:02,410 INFO image_writer.py:197 - writing: /home/vlermakov/Development/Nodules/Nodule-Detection-LUNA2016/processed_data_full_range_075mm/Srostruesa__636d3ff044015609cd37973f-75b89477458f011a-4/Srostruesa__636d3ff044015609cd37973f-75b89477458f011a-4_mask_0.nii.gz\n",
      "2023-10-13 13:58:02,411 INFO image_writer.py:197 - writing: /home/vlermakov/Development/Nodules/Nodule-Detection-LUNA2016/processed_data_full_range_075mm/Srostruesa__636d3ff044015609cd37973f-75b89477458f011a-3/Srostruesa__636d3ff044015609cd37973f-75b89477458f011a-3_mask_0.nii.gz\n"
     ]
    },
    {
     "name": "stderr",
     "output_type": "stream",
     "text": [
      "Loading dataset:  76%|█████████████████████████████████████████████████████████████████████████████████████████████████████████████████████████████████████████████████████████████████████████▏                                                    | 462/606 [1:07:56<16:43,  6.97s/it]"
     ]
    },
    {
     "name": "stdout",
     "output_type": "stream",
     "text": [
      "2023-10-13 13:58:17,089 INFO image_writer.py:197 - writing: /home/vlermakov/Development/Nodules/Nodule-Detection-LUNA2016/processed_data_full_range_075mm/Trakefi__635c07f12ec4180a0bf0fd61-2578f361dd2b8f33-1/Trakefi__635c07f12ec4180a0bf0fd61-2578f361dd2b8f33-1_image_0.nii.gz\n",
      "2023-10-13 13:58:17,390 INFO image_writer.py:197 - writing: /home/vlermakov/Development/Nodules/Nodule-Detection-LUNA2016/processed_data_full_range_075mm/Trakefi__635c07f12ec4180a0bf0fd61-2578f361dd2b8f33-1/Trakefi__635c07f12ec4180a0bf0fd61-2578f361dd2b8f33-1_mask_0.nii.gz\n",
      "2023-10-13 13:58:17,563 INFO image_writer.py:197 - writing: /home/vlermakov/Development/Nodules/Nodule-Detection-LUNA2016/processed_data_full_range_075mm/Srostruesa__636d3ff044015609cd37973f-75b89477458f011a-1/Srostruesa__636d3ff044015609cd37973f-75b89477458f011a-1_image_0.nii.gz\n",
      "2023-10-13 13:58:17,742 INFO image_writer.py:197 - writing: /home/vlermakov/Development/Nodules/Nodule-Detection-LUNA2016/processed_data_full_range_075mm/Srostruesa__636d3ff044015609cd37973f-75b89477458f011a-1/Srostruesa__636d3ff044015609cd37973f-75b89477458f011a-1_mask_0.nii.gz\n"
     ]
    },
    {
     "name": "stderr",
     "output_type": "stream",
     "text": [
      "Loading dataset:  77%|█████████████████████████████████████████████████████████████████████████████████████████████████████████████████████████████████████████████████████████████████████████▉                                                    | 464/606 [1:08:09<15:28,  6.54s/it]"
     ]
    },
    {
     "name": "stdout",
     "output_type": "stream",
     "text": [
      "2023-10-13 13:58:50,090 INFO image_writer.py:197 - writing: /home/vlermakov/Development/Nodules/Nodule-Detection-LUNA2016/processed_data_full_range_075mm/Trakefi__635c07f12ec4180a0bf0fd61-2578f361dd2b8f33-2/Trakefi__635c07f12ec4180a0bf0fd61-2578f361dd2b8f33-2_image_0.nii.gz\n",
      "2023-10-13 13:58:50,242 INFO image_writer.py:197 - writing: /home/vlermakov/Development/Nodules/Nodule-Detection-LUNA2016/processed_data_full_range_075mm/Trakefi__635c07f12ec4180a0bf0fd61-2578f361dd2b8f33-2/Trakefi__635c07f12ec4180a0bf0fd61-2578f361dd2b8f33-2_mask_0.nii.gz\n"
     ]
    },
    {
     "name": "stderr",
     "output_type": "stream",
     "text": [
      "\r",
      "Loading dataset:  77%|██████████████████████████████████████████████████████████████████████████████████████████████████████████████████████████████████████████████████████████████████████████▎                                                   | 465/606 [1:08:31<25:49, 10.99s/it]"
     ]
    },
    {
     "name": "stdout",
     "output_type": "stream",
     "text": [
      "2023-10-13 13:58:55,949 INFO image_writer.py:197 - writing: /home/vlermakov/Development/Nodules/Nodule-Detection-LUNA2016/processed_data_full_range_075mm/Trakefi__635c07f12ec4180a0bf0fd61-2578f361dd2b8f33-3/Trakefi__635c07f12ec4180a0bf0fd61-2578f361dd2b8f33-3_image_0.nii.gz\n",
      "2023-10-13 13:58:56,758 INFO image_writer.py:197 - writing: /home/vlermakov/Development/Nodules/Nodule-Detection-LUNA2016/processed_data_full_range_075mm/Trakefi__635c07f12ec4180a0bf0fd61-2578f361dd2b8f33-5/Trakefi__635c07f12ec4180a0bf0fd61-2578f361dd2b8f33-5_image_0.nii.gz\n",
      "2023-10-13 13:58:56,828 INFO image_writer.py:197 - writing: /home/vlermakov/Development/Nodules/Nodule-Detection-LUNA2016/processed_data_full_range_075mm/Trakefi__635c07f12ec4180a0bf0fd61-2578f361dd2b8f33-3/Trakefi__635c07f12ec4180a0bf0fd61-2578f361dd2b8f33-3_mask_0.nii.gz\n",
      "2023-10-13 13:58:56,923 INFO image_writer.py:197 - writing: /home/vlermakov/Development/Nodules/Nodule-Detection-LUNA2016/processed_data_full_range_075mm/Trakefi__635c07f12ec4180a0bf0fd61-2578f361dd2b8f33-4/Trakefi__635c07f12ec4180a0bf0fd61-2578f361dd2b8f33-4_image_0.nii.gz\n",
      "2023-10-13 13:58:57,078 INFO image_writer.py:197 - writing: /home/vlermakov/Development/Nodules/Nodule-Detection-LUNA2016/processed_data_full_range_075mm/Trakefi__635c07f12ec4180a0bf0fd61-2578f361dd2b8f33-5/Trakefi__635c07f12ec4180a0bf0fd61-2578f361dd2b8f33-5_mask_0.nii.gz\n"
     ]
    },
    {
     "name": "stderr",
     "output_type": "stream",
     "text": [
      "\r",
      "Loading dataset:  77%|██████████████████████████████████████████████████████████████████████████████████████████████████████████████████████████████████████████████████████████████████████████▋                                                   | 466/606 [1:08:45<28:09, 12.07s/it]"
     ]
    },
    {
     "name": "stdout",
     "output_type": "stream",
     "text": [
      "2023-10-13 13:59:09,331 INFO image_writer.py:197 - writing: /home/vlermakov/Development/Nodules/Nodule-Detection-LUNA2016/processed_data_full_range_075mm/Trakefi__635c07f12ec4180a0bf0fd61-2578f361dd2b8f33-4/Trakefi__635c07f12ec4180a0bf0fd61-2578f361dd2b8f33-4_mask_0.nii.gz\n"
     ]
    },
    {
     "name": "stderr",
     "output_type": "stream",
     "text": [
      "Loading dataset:  77%|███████████████████████████████████████████████████████████████████████████████████████████████████████████████████████████████████████████████████████████████████████████▍                                                  | 468/606 [1:08:56<20:21,  8.85s/it]"
     ]
    },
    {
     "name": "stdout",
     "output_type": "stream",
     "text": [
      "2023-10-13 13:59:18,064 INFO image_writer.py:197 - writing: /home/vlermakov/Development/Nodules/Nodule-Detection-LUNA2016/processed_data_full_range_075mm/Nedacou__63a0d676ff97f50918961be7-57ba2df121c512d5-1/Nedacou__63a0d676ff97f50918961be7-57ba2df121c512d5-1_image_0.nii.gz\n",
      "2023-10-13 13:59:18,198 INFO image_writer.py:197 - writing: /home/vlermakov/Development/Nodules/Nodule-Detection-LUNA2016/processed_data_full_range_075mm/Nedacou__63a0d676ff97f50918961be7-57ba2df121c512d5-4/Nedacou__63a0d676ff97f50918961be7-57ba2df121c512d5-4_image_0.nii.gz\n",
      "2023-10-13 13:59:18,457 INFO image_writer.py:197 - writing: /home/vlermakov/Development/Nodules/Nodule-Detection-LUNA2016/processed_data_full_range_075mm/Dowohup__63ace9285fdc6008fd6cd77b-134ea6db24b4ed27-5/Dowohup__63ace9285fdc6008fd6cd77b-134ea6db24b4ed27-5_image_0.nii.gz\n",
      "2023-10-13 13:59:18,692 INFO image_writer.py:197 - writing: /home/vlermakov/Development/Nodules/Nodule-Detection-LUNA2016/processed_data_full_range_075mm/Nedacou__63a0d676ff97f50918961be7-57ba2df121c512d5-4/Nedacou__63a0d676ff97f50918961be7-57ba2df121c512d5-4_mask_0.nii.gz\n",
      "2023-10-13 13:59:18,728 INFO image_writer.py:197 - writing: /home/vlermakov/Development/Nodules/Nodule-Detection-LUNA2016/processed_data_full_range_075mm/Nedacou__63a0d676ff97f50918961be7-57ba2df121c512d5-1/Nedacou__63a0d676ff97f50918961be7-57ba2df121c512d5-1_mask_0.nii.gz\n",
      "2023-10-13 13:59:18,861 INFO image_writer.py:197 - writing: /home/vlermakov/Development/Nodules/Nodule-Detection-LUNA2016/processed_data_full_range_075mm/Dowohup__63ace9285fdc6008fd6cd77b-134ea6db24b4ed27-5/Dowohup__63ace9285fdc6008fd6cd77b-134ea6db24b4ed27-5_mask_0.nii.gz\n"
     ]
    },
    {
     "name": "stderr",
     "output_type": "stream",
     "text": [
      "Loading dataset:  78%|████████████████████████████████████████████████████████████████████████████████████████████████████████████████████████████████████████████████████████████████████████████▌                                                 | 471/606 [1:09:18<17:06,  7.60s/it]"
     ]
    },
    {
     "name": "stdout",
     "output_type": "stream",
     "text": [
      "2023-10-13 13:59:53,519 INFO image_writer.py:197 - writing: /home/vlermakov/Development/Nodules/Nodule-Detection-LUNA2016/processed_data_full_range_075mm/Tenilous__636c4b81885b5809d0ac564d-59b5d7a05419ae71-8/Tenilous__636c4b81885b5809d0ac564d-59b5d7a05419ae71-8_image_0.nii.gz\n",
      "2023-10-13 13:59:53,623 INFO image_writer.py:197 - writing: /home/vlermakov/Development/Nodules/Nodule-Detection-LUNA2016/processed_data_full_range_075mm/Tenilous__636c4b81885b5809d0ac564d-59b5d7a05419ae71-8/Tenilous__636c4b81885b5809d0ac564d-59b5d7a05419ae71-8_mask_0.nii.gz\n"
     ]
    },
    {
     "name": "stderr",
     "output_type": "stream",
     "text": [
      "\r",
      "Loading dataset:  78%|████████████████████████████████████████████████████████████████████████████████████████████████████████████████████████████████████████████████████████████████████████████▉                                                 | 472/606 [1:09:34<22:27, 10.06s/it]"
     ]
    },
    {
     "name": "stdout",
     "output_type": "stream",
     "text": [
      "2023-10-13 14:00:16,304 INFO image_writer.py:197 - writing: /home/vlermakov/Development/Nodules/Nodule-Detection-LUNA2016/processed_data_full_range_075mm/Wiveda__62a77a983376af0968a69e8e-0a5771ba971c6f80-1/Wiveda__62a77a983376af0968a69e8e-0a5771ba971c6f80-1_image_0.nii.gz\n",
      "2023-10-13 14:00:16,446 INFO image_writer.py:197 - writing: /home/vlermakov/Development/Nodules/Nodule-Detection-LUNA2016/processed_data_full_range_075mm/Tenilous__636c4b81885b5809d0ac564d-59b5d7a05419ae71-9/Tenilous__636c4b81885b5809d0ac564d-59b5d7a05419ae71-9_image_0.nii.gz\n",
      "2023-10-13 14:00:16,724 INFO image_writer.py:197 - writing: /home/vlermakov/Development/Nodules/Nodule-Detection-LUNA2016/processed_data_full_range_075mm/Wiveda__62a77a983376af0968a69e8e-0a5771ba971c6f80-1/Wiveda__62a77a983376af0968a69e8e-0a5771ba971c6f80-1_mask_0.nii.gz\n",
      "2023-10-13 14:00:16,754 INFO image_writer.py:197 - writing: /home/vlermakov/Development/Nodules/Nodule-Detection-LUNA2016/processed_data_full_range_075mm/Tenilous__636c4b81885b5809d0ac564d-59b5d7a05419ae71-7/Tenilous__636c4b81885b5809d0ac564d-59b5d7a05419ae71-7_image_0.nii.gz\n",
      "2023-10-13 14:00:16,921 INFO image_writer.py:197 - writing: /home/vlermakov/Development/Nodules/Nodule-Detection-LUNA2016/processed_data_full_range_075mm/Tenilous__636c4b81885b5809d0ac564d-59b5d7a05419ae71-9/Tenilous__636c4b81885b5809d0ac564d-59b5d7a05419ae71-9_mask_0.nii.gz\n",
      "2023-10-13 14:00:30,232 INFO image_writer.py:197 - writing: /home/vlermakov/Development/Nodules/Nodule-Detection-LUNA2016/processed_data_full_range_075mm/Tenilous__636c4b81885b5809d0ac564d-59b5d7a05419ae71-7/Tenilous__636c4b81885b5809d0ac564d-59b5d7a05419ae71-7_mask_0.nii.gz\n",
      "2023-10-13 14:00:30,314 INFO image_writer.py:197 - writing: /home/vlermakov/Development/Nodules/Nodule-Detection-LUNA2016/processed_data_full_range_075mm/Tenilous__636c4b81885b5809d0ac564d-59b5d7a05419ae71-6/Tenilous__636c4b81885b5809d0ac564d-59b5d7a05419ae71-6_image_0.nii.gz\n"
     ]
    },
    {
     "name": "stderr",
     "output_type": "stream",
     "text": [
      "\r",
      "Loading dataset:  78%|█████████████████████████████████████████████████████████████████████████████████████████████████████████████████████████████████████████████████████████████████████████████▎                                                | 473/606 [1:10:22<47:46, 21.55s/it]"
     ]
    },
    {
     "name": "stdout",
     "output_type": "stream",
     "text": [
      "2023-10-13 14:00:42,434 INFO image_writer.py:197 - writing: /home/vlermakov/Development/Nodules/Nodule-Detection-LUNA2016/processed_data_full_range_075mm/Tenilous__636c4b81885b5809d0ac564d-59b5d7a05419ae71-6/Tenilous__636c4b81885b5809d0ac564d-59b5d7a05419ae71-6_mask_0.nii.gz\n",
      "2023-10-13 14:00:42,918 INFO image_writer.py:197 - writing: /home/vlermakov/Development/Nodules/Nodule-Detection-LUNA2016/processed_data_full_range_075mm/Bamoolu__62a7a20cd3ca6309ab7ae9f7-2e8f38e55cb9bef8-1/Bamoolu__62a7a20cd3ca6309ab7ae9f7-2e8f38e55cb9bef8-1_image_0.nii.gz\n"
     ]
    },
    {
     "name": "stderr",
     "output_type": "stream",
     "text": [
      "\r",
      "Loading dataset:  78%|██████████████████████████████████████████████████████████████████████████████████████████████████████████████████████████████████████████████████████████████████████████████                                                | 475/606 [1:10:23<25:46, 11.80s/it]"
     ]
    },
    {
     "name": "stdout",
     "output_type": "stream",
     "text": [
      "2023-10-13 14:00:49,443 INFO image_writer.py:197 - writing: /home/vlermakov/Development/Nodules/Nodule-Detection-LUNA2016/processed_data_full_range_075mm/Bamoolu__62a7a20cd3ca6309ab7ae9f7-2e8f38e55cb9bef8-1/Bamoolu__62a7a20cd3ca6309ab7ae9f7-2e8f38e55cb9bef8-1_mask_0.nii.gz\n",
      "2023-10-13 14:00:49,540 INFO image_writer.py:197 - writing: /home/vlermakov/Development/Nodules/Nodule-Detection-LUNA2016/processed_data_full_range_075mm/Quorufi__62a7a26adf0edc09ba0a5601-f264c9254e91d858-1/Quorufi__62a7a26adf0edc09ba0a5601-f264c9254e91d858-1_image_0.nii.gz\n"
     ]
    },
    {
     "name": "stderr",
     "output_type": "stream",
     "text": [
      "\r",
      "Loading dataset:  79%|██████████████████████████████████████████████████████████████████████████████████████████████████████████████████████████████████████████████████████████████████████████████▍                                               | 476/606 [1:10:30<22:54, 10.57s/it]"
     ]
    },
    {
     "name": "stdout",
     "output_type": "stream",
     "text": [
      "2023-10-13 14:00:55,421 INFO image_writer.py:197 - writing: /home/vlermakov/Development/Nodules/Nodule-Detection-LUNA2016/processed_data_full_range_075mm/Quorufi__62a7a26adf0edc09ba0a5601-f264c9254e91d858-1/Quorufi__62a7a26adf0edc09ba0a5601-f264c9254e91d858-1_mask_0.nii.gz\n"
     ]
    },
    {
     "name": "stderr",
     "output_type": "stream",
     "text": [
      "\r",
      "Loading dataset:  79%|██████████████████████████████████████████████████████████████████████████████████████████████████████████████████████████████████████████████████████████████████████████████▋                                               | 477/606 [1:10:36<20:03,  9.33s/it]"
     ]
    },
    {
     "name": "stdout",
     "output_type": "stream",
     "text": [
      "2023-10-13 14:01:02,864 INFO image_writer.py:197 - writing: /home/vlermakov/Development/Nodules/Nodule-Detection-LUNA2016/processed_data_full_range_075mm/Douzreley__62a7d9c22a843d099a890404-6a70e5427651e02b-1/Douzreley__62a7d9c22a843d099a890404-6a70e5427651e02b-1_image_0.nii.gz\n",
      "2023-10-13 14:01:03,408 INFO image_writer.py:197 - writing: /home/vlermakov/Development/Nodules/Nodule-Detection-LUNA2016/processed_data_full_range_075mm/Douzreley__62a7d9c22a843d099a890404-6a70e5427651e02b-1/Douzreley__62a7d9c22a843d099a890404-6a70e5427651e02b-1_mask_0.nii.gz\n"
     ]
    },
    {
     "name": "stderr",
     "output_type": "stream",
     "text": [
      "\r",
      "Loading dataset:  79%|███████████████████████████████████████████████████████████████████████████████████████████████████████████████████████████████████████████████████████████████████████████████▍                                              | 479/606 [1:10:44<15:07,  7.15s/it]"
     ]
    },
    {
     "name": "stdout",
     "output_type": "stream",
     "text": [
      "2023-10-13 14:01:24,633 INFO image_writer.py:197 - writing: /home/vlermakov/Development/Nodules/Nodule-Detection-LUNA2016/processed_data_full_range_075mm/Ukushad__5cc10b2422eefe5981bbcf65-94ff058af30cac36-1/Ukushad__5cc10b2422eefe5981bbcf65-94ff058af30cac36-1_image_0.nii.gz\n",
      "2023-10-13 14:01:24,765 INFO image_writer.py:197 - writing: /home/vlermakov/Development/Nodules/Nodule-Detection-LUNA2016/processed_data_full_range_075mm/Ukushad__5cc10b2422eefe5981bbcf65-94ff058af30cac36-1/Ukushad__5cc10b2422eefe5981bbcf65-94ff058af30cac36-1_mask_0.nii.gz\n",
      "2023-10-13 14:01:44,926 INFO image_writer.py:197 - writing: /home/vlermakov/Development/Nodules/Nodule-Detection-LUNA2016/processed_data_full_range_075mm/Jouhuku__62a800bdd384dc09aee05e69-d627a05012b06530-1/Jouhuku__62a800bdd384dc09aee05e69-d627a05012b06530-1_image_0.nii.gz\n",
      "2023-10-13 14:01:45,089 INFO image_writer.py:197 - writing: /home/vlermakov/Development/Nodules/Nodule-Detection-LUNA2016/processed_data_full_range_075mm/Jouhuku__62a800bdd384dc09aee05e69-d627a05012b06530-1/Jouhuku__62a800bdd384dc09aee05e69-d627a05012b06530-1_mask_0.nii.gz\n",
      "2023-10-13 14:01:50,001 INFO image_writer.py:197 - writing: /home/vlermakov/Development/Nodules/Nodule-Detection-LUNA2016/processed_data_full_range_075mm/Cesuse__62b0a63551a8740a155adbbf-f91c9ad22bd27b43-1/Cesuse__62b0a63551a8740a155adbbf-f91c9ad22bd27b43-1_image_0.nii.gz\n",
      "2023-10-13 14:01:50,094 INFO image_writer.py:197 - writing: /home/vlermakov/Development/Nodules/Nodule-Detection-LUNA2016/processed_data_full_range_075mm/Cesuse__62b0a63551a8740a155adbbf-f91c9ad22bd27b43-1/Cesuse__62b0a63551a8740a155adbbf-f91c9ad22bd27b43-1_mask_0.nii.gz\n",
      "2023-10-13 14:01:50,138 INFO image_writer.py:197 - writing: /home/vlermakov/Development/Nodules/Nodule-Detection-LUNA2016/processed_data_full_range_075mm/Lavuzi__5c883abad64ecfd97c055509-75652f6d1d36686c-2/Lavuzi__5c883abad64ecfd97c055509-75652f6d1d36686c-2_image_0.nii.gz\n",
      "2023-10-13 14:01:50,157 INFO image_writer.py:197 - writing: /home/vlermakov/Development/Nodules/Nodule-Detection-LUNA2016/processed_data_full_range_075mm/Emiengum__5c8838ccd64ecfd97c055503-7ec3f07bf4d89dbf-2/Emiengum__5c8838ccd64ecfd97c055503-7ec3f07bf4d89dbf-2_image_0.nii.gz\n",
      "2023-10-13 14:01:50,382 INFO image_writer.py:197 - writing: /home/vlermakov/Development/Nodules/Nodule-Detection-LUNA2016/processed_data_full_range_075mm/Emiengum__5c8838ccd64ecfd97c055503-7ec3f07bf4d89dbf-2/Emiengum__5c8838ccd64ecfd97c055503-7ec3f07bf4d89dbf-2_mask_0.nii.gz\n",
      "2023-10-13 14:02:00,662 INFO image_writer.py:197 - writing: /home/vlermakov/Development/Nodules/Nodule-Detection-LUNA2016/processed_data_full_range_075mm/Lavuzi__5c883abad64ecfd97c055509-75652f6d1d36686c-2/Lavuzi__5c883abad64ecfd97c055509-75652f6d1d36686c-2_mask_0.nii.gz\n",
      "2023-10-13 14:02:06,566 INFO image_writer.py:197 - writing: /home/vlermakov/Development/Nodules/Nodule-Detection-LUNA2016/processed_data_full_range_075mm/Huebrabap__62a7d9c5921bac0ad16fc135-a765174c30e137ee-1/Huebrabap__62a7d9c5921bac0ad16fc135-a765174c30e137ee-1_image_0.nii.gz\n",
      "2023-10-13 14:02:06,782 INFO image_writer.py:197 - writing: /home/vlermakov/Development/Nodules/Nodule-Detection-LUNA2016/processed_data_full_range_075mm/Huebrabap__62a7d9c5921bac0ad16fc135-a765174c30e137ee-1/Huebrabap__62a7d9c5921bac0ad16fc135-a765174c30e137ee-1_mask_0.nii.gz\n"
     ]
    },
    {
     "name": "stderr",
     "output_type": "stream",
     "text": [
      "\r",
      "Loading dataset:  79%|███████████████████████████████████████████████████████████████████████████████████████████████████████████████████████████████████████████████████████████████████████████████▊                                              | 480/606 [1:11:49<43:22, 20.66s/it]"
     ]
    },
    {
     "name": "stdout",
     "output_type": "stream",
     "text": [
      "2023-10-13 14:02:12,325 INFO image_writer.py:197 - writing: /home/vlermakov/Development/Nodules/Nodule-Detection-LUNA2016/processed_data_full_range_075mm/Gunaba__62a7d9cb2c039d09aa6aed59-47d544f796a329a6-1/Gunaba__62a7d9cb2c039d09aa6aed59-47d544f796a329a6-1_image_0.nii.gz\n",
      "2023-10-13 14:02:12,875 INFO image_writer.py:197 - writing: /home/vlermakov/Development/Nodules/Nodule-Detection-LUNA2016/processed_data_full_range_075mm/Gunaba__62a7d9cb2c039d09aa6aed59-47d544f796a329a6-1/Gunaba__62a7d9cb2c039d09aa6aed59-47d544f796a329a6-1_mask_0.nii.gz\n"
     ]
    },
    {
     "name": "stderr",
     "output_type": "stream",
     "text": [
      "Loading dataset:  80%|████████████████████████████████████████████████████████████████████████████████████████████████████████████████████████████████████████████████████████████████████████████████▌                                             | 482/606 [1:11:58<27:52, 13.49s/it]"
     ]
    },
    {
     "name": "stdout",
     "output_type": "stream",
     "text": [
      "2023-10-13 14:02:18,402 INFO image_writer.py:197 - writing: /home/vlermakov/Development/Nodules/Nodule-Detection-LUNA2016/processed_data_full_range_075mm/Cijife__62a801bf6d5e7208ffb294ef-46352e373d4f516b-1/Cijife__62a801bf6d5e7208ffb294ef-46352e373d4f516b-1_image_0.nii.gz\n",
      "2023-10-13 14:02:18,569 INFO image_writer.py:197 - writing: /home/vlermakov/Development/Nodules/Nodule-Detection-LUNA2016/processed_data_full_range_075mm/Cijife__62a801bf6d5e7208ffb294ef-46352e373d4f516b-1/Cijife__62a801bf6d5e7208ffb294ef-46352e373d4f516b-1_mask_0.nii.gz\n"
     ]
    },
    {
     "name": "stderr",
     "output_type": "stream",
     "text": [
      "\r",
      "Loading dataset:  80%|██████████████████████████████████████████████████████████████████████████████████████████████████████████████████████████████████████████████████████████████████████████████████▍                                           | 487/606 [1:12:01<10:07,  5.11s/it]"
     ]
    },
    {
     "name": "stdout",
     "output_type": "stream",
     "text": [
      "2023-10-13 14:02:47,246 INFO image_writer.py:197 - writing: /home/vlermakov/Development/Nodules/Nodule-Detection-LUNA2016/processed_data_full_range_075mm/Poojequi__62ab9482cdf7fa099d0a5a81-c528c6b689a8aec1-1/Poojequi__62ab9482cdf7fa099d0a5a81-c528c6b689a8aec1-1_image_0.nii.gz\n",
      "2023-10-13 14:02:47,355 INFO image_writer.py:197 - writing: /home/vlermakov/Development/Nodules/Nodule-Detection-LUNA2016/processed_data_full_range_075mm/Poojequi__62ab9482cdf7fa099d0a5a81-c528c6b689a8aec1-1/Poojequi__62ab9482cdf7fa099d0a5a81-c528c6b689a8aec1-1_mask_0.nii.gz\n",
      "2023-10-13 14:02:56,210 INFO image_writer.py:197 - writing: /home/vlermakov/Development/Nodules/Nodule-Detection-LUNA2016/processed_data_full_range_075mm/Masati__62ab941ecdf7fa099d0a5a80-c1dc1464449e5409-1/Masati__62ab941ecdf7fa099d0a5a80-c1dc1464449e5409-1_image_0.nii.gz\n",
      "2023-10-13 14:02:56,304 INFO image_writer.py:197 - writing: /home/vlermakov/Development/Nodules/Nodule-Detection-LUNA2016/processed_data_full_range_075mm/Hifebog__62ab94e154f28f09238455a7-a5aa7d83ffec058a-3/Hifebog__62ab94e154f28f09238455a7-a5aa7d83ffec058a-3_image_0.nii.gz\n",
      "2023-10-13 14:02:56,502 INFO image_writer.py:197 - writing: /home/vlermakov/Development/Nodules/Nodule-Detection-LUNA2016/processed_data_full_range_075mm/Coquibe__5cbf8fe722eefe5981bbcb0a-4f575a482eb8ee8d-1/Coquibe__5cbf8fe722eefe5981bbcb0a-4f575a482eb8ee8d-1_image_0.nii.gz\n",
      "2023-10-13 14:02:56,640 INFO image_writer.py:197 - writing: /home/vlermakov/Development/Nodules/Nodule-Detection-LUNA2016/processed_data_full_range_075mm/Bagobod__62ab94a359b7ae094e7ac48b-3fb477de0dd5dcb6-1/Bagobod__62ab94a359b7ae094e7ac48b-3fb477de0dd5dcb6-1_image_0.nii.gz\n",
      "2023-10-13 14:02:56,734 INFO image_writer.py:197 - writing: /home/vlermakov/Development/Nodules/Nodule-Detection-LUNA2016/processed_data_full_range_075mm/Lapraso__62ab94d7b8e1e609f6b236b4-9095817a7fb24f68-1/Lapraso__62ab94d7b8e1e609f6b236b4-9095817a7fb24f68-1_image_0.nii.gz\n",
      "2023-10-13 14:02:56,781 INFO image_writer.py:197 - writing: /home/vlermakov/Development/Nodules/Nodule-Detection-LUNA2016/processed_data_full_range_075mm/Masati__62ab941ecdf7fa099d0a5a80-c1dc1464449e5409-1/Masati__62ab941ecdf7fa099d0a5a80-c1dc1464449e5409-1_mask_0.nii.gz\n",
      "2023-10-13 14:02:56,867 INFO image_writer.py:197 - writing: /home/vlermakov/Development/Nodules/Nodule-Detection-LUNA2016/processed_data_full_range_075mm/Mubukes__62ab944247dfa609e4d4a344-6cc4c1f2253c469d-1/Mubukes__62ab944247dfa609e4d4a344-6cc4c1f2253c469d-1_image_0.nii.gz\n",
      "2023-10-13 14:02:56,914 INFO image_writer.py:197 - writing: /home/vlermakov/Development/Nodules/Nodule-Detection-LUNA2016/processed_data_full_range_075mm/Hifebog__62ab94e154f28f09238455a7-a5aa7d83ffec058a-3/Hifebog__62ab94e154f28f09238455a7-a5aa7d83ffec058a-3_mask_0.nii.gz\n",
      "2023-10-13 14:02:57,214 INFO image_writer.py:197 - writing: /home/vlermakov/Development/Nodules/Nodule-Detection-LUNA2016/processed_data_full_range_075mm/Bagobod__62ab94a359b7ae094e7ac48b-3fb477de0dd5dcb6-1/Bagobod__62ab94a359b7ae094e7ac48b-3fb477de0dd5dcb6-1_mask_0.nii.gz\n",
      "2023-10-13 14:02:57,324 INFO image_writer.py:197 - writing: /home/vlermakov/Development/Nodules/Nodule-Detection-LUNA2016/processed_data_full_range_075mm/Coquibe__5cbf8fe722eefe5981bbcb0a-4f575a482eb8ee8d-1/Coquibe__5cbf8fe722eefe5981bbcb0a-4f575a482eb8ee8d-1_mask_0.nii.gz\n",
      "2023-10-13 14:03:08,949 INFO image_writer.py:197 - writing: /home/vlermakov/Development/Nodules/Nodule-Detection-LUNA2016/processed_data_full_range_075mm/Lapraso__62ab94d7b8e1e609f6b236b4-9095817a7fb24f68-1/Lapraso__62ab94d7b8e1e609f6b236b4-9095817a7fb24f68-1_mask_0.nii.gz\n",
      "2023-10-13 14:03:09,027 INFO image_writer.py:197 - writing: /home/vlermakov/Development/Nodules/Nodule-Detection-LUNA2016/processed_data_full_range_075mm/Mubukes__62ab944247dfa609e4d4a344-6cc4c1f2253c469d-1/Mubukes__62ab944247dfa609e4d4a344-6cc4c1f2253c469d-1_mask_0.nii.gz\n"
     ]
    },
    {
     "name": "stderr",
     "output_type": "stream",
     "text": [
      "Loading dataset:  81%|███████████████████████████████████████████████████████████████████████████████████████████████████████████████████████████████████████████████████████████████████████████████████▏                                          | 489/606 [1:13:13<26:37, 13.66s/it]"
     ]
    },
    {
     "name": "stdout",
     "output_type": "stream",
     "text": [
      "2023-10-13 14:03:44,474 INFO image_writer.py:197 - writing: /home/vlermakov/Development/Nodules/Nodule-Detection-LUNA2016/processed_data_full_range_075mm/Snohitu__62ab94f3cbcf9009d753abd0-14a1fcbfb8ec124e-1/Snohitu__62ab94f3cbcf9009d753abd0-14a1fcbfb8ec124e-1_image_0.nii.gz\n",
      "2023-10-13 14:03:44,727 INFO image_writer.py:197 - writing: /home/vlermakov/Development/Nodules/Nodule-Detection-LUNA2016/processed_data_full_range_075mm/Snohitu__62ab94f3cbcf9009d753abd0-14a1fcbfb8ec124e-1/Snohitu__62ab94f3cbcf9009d753abd0-14a1fcbfb8ec124e-1_mask_0.nii.gz\n"
     ]
    },
    {
     "name": "stderr",
     "output_type": "stream",
     "text": [
      "\r",
      "Loading dataset:  82%|█████████████████████████████████████████████████████████████████████████████████████████████████████████████████████████████████████████████████████████████████████████████████████▎                                        | 495/606 [1:13:25<12:00,  6.49s/it]"
     ]
    },
    {
     "name": "stdout",
     "output_type": "stream",
     "text": [
      "2023-10-13 14:03:53,019 INFO image_writer.py:197 - writing: /home/vlermakov/Development/Nodules/Nodule-Detection-LUNA2016/processed_data_full_range_075mm/Jajitue__62aa294319daf2099fa95940-c129895b33019bfb-1/Jajitue__62aa294319daf2099fa95940-c129895b33019bfb-1_image_0.nii.gz\n",
      "2023-10-13 14:03:54,099 INFO image_writer.py:197 - writing: /home/vlermakov/Development/Nodules/Nodule-Detection-LUNA2016/processed_data_full_range_075mm/Jajitue__62aa294319daf2099fa95940-c129895b33019bfb-1/Jajitue__62aa294319daf2099fa95940-c129895b33019bfb-1_mask_0.nii.gz\n",
      "2023-10-13 14:04:04,716 INFO image_writer.py:197 - writing: /home/vlermakov/Development/Nodules/Nodule-Detection-LUNA2016/processed_data_full_range_075mm/Efascot__62aa042bc9f07b0a289cf327-2a2c9475a95fff48-1/Efascot__62aa042bc9f07b0a289cf327-2a2c9475a95fff48-1_image_0.nii.gz\n",
      "2023-10-13 14:04:04,993 INFO image_writer.py:197 - writing: /home/vlermakov/Development/Nodules/Nodule-Detection-LUNA2016/processed_data_full_range_075mm/Lobihef__62aa30b3e632310a28838998-e454482c29f5f427-3/Lobihef__62aa30b3e632310a28838998-e454482c29f5f427-3_image_0.nii.gz\n",
      "2023-10-13 14:04:05,218 INFO image_writer.py:197 - writing: /home/vlermakov/Development/Nodules/Nodule-Detection-LUNA2016/processed_data_full_range_075mm/Mabili__62aa2abedebfef09ab7bbe3e-b1f53fc697a8cb40-3/Mabili__62aa2abedebfef09ab7bbe3e-b1f53fc697a8cb40-3_image_0.nii.gz\n",
      "2023-10-13 14:04:05,557 INFO image_writer.py:197 - writing: /home/vlermakov/Development/Nodules/Nodule-Detection-LUNA2016/processed_data_full_range_075mm/Efascot__62aa042bc9f07b0a289cf327-2a2c9475a95fff48-1/Efascot__62aa042bc9f07b0a289cf327-2a2c9475a95fff48-1_mask_0.nii.gz\n",
      "2023-10-13 14:04:05,886 INFO image_writer.py:197 - writing: /home/vlermakov/Development/Nodules/Nodule-Detection-LUNA2016/processed_data_full_range_075mm/Lobihef__62aa30b3e632310a28838998-e454482c29f5f427-3/Lobihef__62aa30b3e632310a28838998-e454482c29f5f427-3_mask_0.nii.gz\n",
      "2023-10-13 14:04:06,021 INFO image_writer.py:197 - writing: /home/vlermakov/Development/Nodules/Nodule-Detection-LUNA2016/processed_data_full_range_075mm/Mabili__62aa2abedebfef09ab7bbe3e-b1f53fc697a8cb40-3/Mabili__62aa2abedebfef09ab7bbe3e-b1f53fc697a8cb40-3_mask_0.nii.gz\n"
     ]
    },
    {
     "name": "stderr",
     "output_type": "stream",
     "text": [
      "Loading dataset:  82%|█████████████████████████████████████████████████████████████████████████████████████████████████████████████████████████████████████████████████████████████████████████████████████▋                                        | 496/606 [1:13:46<15:19,  8.36s/it]IOStream.flush timed out\n",
      "Loading dataset:  82%|██████████████████████████████████████████████████████████████████████████████████████████████████████████████████████████████████████████████████████████████████████████████████████▍                                       | 498/606 [1:14:06<14:53,  8.27s/it]"
     ]
    },
    {
     "name": "stdout",
     "output_type": "stream",
     "text": [
      "2023-10-13 14:04:35,833 INFO image_writer.py:197 - writing: /home/vlermakov/Development/Nodules/Nodule-Detection-LUNA2016/processed_data_full_range_075mm/Sofupu__62aa3079d705530a2cdce806-fbc1167557cce3dc-2/Sofupu__62aa3079d705530a2cdce806-fbc1167557cce3dc-2_image_0.nii.gz\n",
      "2023-10-13 14:04:35,938 INFO image_writer.py:197 - writing: /home/vlermakov/Development/Nodules/Nodule-Detection-LUNA2016/processed_data_full_range_075mm/Sofupu__62aa3079d705530a2cdce806-fbc1167557cce3dc-2/Sofupu__62aa3079d705530a2cdce806-fbc1167557cce3dc-2_mask_0.nii.gz\n"
     ]
    },
    {
     "name": "stderr",
     "output_type": "stream",
     "text": [
      "\r",
      "Loading dataset:  83%|███████████████████████████████████████████████████████████████████████████████████████████████████████████████████████████████████████████████████████████████████████████████████████▏                                      | 500/606 [1:14:16<12:45,  7.22s/it]"
     ]
    },
    {
     "name": "stdout",
     "output_type": "stream",
     "text": [
      "2023-10-13 14:04:45,426 INFO image_writer.py:197 - writing: /home/vlermakov/Development/Nodules/Nodule-Detection-LUNA2016/processed_data_full_range_075mm/Rademan__62aa5da7e3d3d809967a686b-24183a6d742f93ad-1/Rademan__62aa5da7e3d3d809967a686b-24183a6d742f93ad-1_image_0.nii.gz\n",
      "2023-10-13 14:04:46,088 INFO image_writer.py:197 - writing: /home/vlermakov/Development/Nodules/Nodule-Detection-LUNA2016/processed_data_full_range_075mm/Rademan__62aa5da7e3d3d809967a686b-24183a6d742f93ad-1/Rademan__62aa5da7e3d3d809967a686b-24183a6d742f93ad-1_mask_0.nii.gz\n",
      "2023-10-13 14:04:56,748 INFO image_writer.py:197 - writing: /home/vlermakov/Development/Nodules/Nodule-Detection-LUNA2016/processed_data_full_range_075mm/Ilayif__62aa5d95cf2cdc0a244689ab-da4c48a80cf49126-1/Ilayif__62aa5d95cf2cdc0a244689ab-da4c48a80cf49126-1_image_0.nii.gz\n",
      "2023-10-13 14:04:57,283 INFO image_writer.py:197 - writing: /home/vlermakov/Development/Nodules/Nodule-Detection-LUNA2016/processed_data_full_range_075mm/Atiraf__62ab5b40b8e1e609f6b23691-5212264a46aea22b-4/Atiraf__62ab5b40b8e1e609f6b23691-5212264a46aea22b-4_image_0.nii.gz\n",
      "2023-10-13 14:04:57,449 INFO image_writer.py:197 - writing: /home/vlermakov/Development/Nodules/Nodule-Detection-LUNA2016/processed_data_full_range_075mm/Bujadup__62aa5e18debfef09ab7bbe46-bbac692d1b2a49a5-1/Bujadup__62aa5e18debfef09ab7bbe46-bbac692d1b2a49a5-1_image_0.nii.gz\n",
      "2023-10-13 14:04:58,277 INFO image_writer.py:197 - writing: /home/vlermakov/Development/Nodules/Nodule-Detection-LUNA2016/processed_data_full_range_075mm/Ilayif__62aa5d95cf2cdc0a244689ab-da4c48a80cf49126-1/Ilayif__62aa5d95cf2cdc0a244689ab-da4c48a80cf49126-1_mask_0.nii.gz\n",
      "2023-10-13 14:04:58,976 INFO image_writer.py:197 - writing: /home/vlermakov/Development/Nodules/Nodule-Detection-LUNA2016/processed_data_full_range_075mm/Bujadup__62aa5e18debfef09ab7bbe46-bbac692d1b2a49a5-1/Bujadup__62aa5e18debfef09ab7bbe46-bbac692d1b2a49a5-1_mask_0.nii.gz\n",
      "2023-10-13 14:04:58,980 INFO image_writer.py:197 - writing: /home/vlermakov/Development/Nodules/Nodule-Detection-LUNA2016/processed_data_full_range_075mm/Atiraf__62ab5b40b8e1e609f6b23691-5212264a46aea22b-4/Atiraf__62ab5b40b8e1e609f6b23691-5212264a46aea22b-4_mask_0.nii.gz\n"
     ]
    },
    {
     "name": "stderr",
     "output_type": "stream",
     "text": [
      "Loading dataset:  83%|███████████████████████████████████████████████████████████████████████████████████████████████████████████████████████████████████████████████████████████████████████████████████████▉                                      | 502/606 [1:14:57<19:18, 11.14s/it]"
     ]
    },
    {
     "name": "stdout",
     "output_type": "stream",
     "text": [
      "2023-10-13 14:05:28,474 INFO image_writer.py:197 - writing: /home/vlermakov/Development/Nodules/Nodule-Detection-LUNA2016/processed_data_full_range_075mm/Reneebus__62ab6d239c4c44093167ff1b-034dc9e99af9e677-1/Reneebus__62ab6d239c4c44093167ff1b-034dc9e99af9e677-1_image_0.nii.gz\n",
      "2023-10-13 14:05:28,814 INFO image_writer.py:197 - writing: /home/vlermakov/Development/Nodules/Nodule-Detection-LUNA2016/processed_data_full_range_075mm/Reneebus__62ab6d239c4c44093167ff1b-034dc9e99af9e677-1/Reneebus__62ab6d239c4c44093167ff1b-034dc9e99af9e677-1_mask_0.nii.gz\n",
      "2023-10-13 14:05:28,885 INFO image_writer.py:197 - writing: /home/vlermakov/Development/Nodules/Nodule-Detection-LUNA2016/processed_data_full_range_075mm/Caroutey__62ab6151b8e1e609f6b23693-5c4a074820a87023-1/Caroutey__62ab6151b8e1e609f6b23693-5c4a074820a87023-1_image_0.nii.gz\n",
      "2023-10-13 14:05:34,831 INFO image_writer.py:197 - writing: /home/vlermakov/Development/Nodules/Nodule-Detection-LUNA2016/processed_data_full_range_075mm/Caroutey__62ab6151b8e1e609f6b23693-5c4a074820a87023-1/Caroutey__62ab6151b8e1e609f6b23693-5c4a074820a87023-1_mask_0.nii.gz\n",
      "2023-10-13 14:05:41,303 INFO image_writer.py:197 - writing: /home/vlermakov/Development/Nodules/Nodule-Detection-LUNA2016/processed_data_full_range_075mm/Berogo__62ab614d15840609f6bb3e33-1d1b4e84aa8c73fa-1/Berogo__62ab614d15840609f6bb3e33-1d1b4e84aa8c73fa-1_image_0.nii.gz\n",
      "2023-10-13 14:05:42,233 INFO image_writer.py:197 - writing: /home/vlermakov/Development/Nodules/Nodule-Detection-LUNA2016/processed_data_full_range_075mm/Berogo__62ab614d15840609f6bb3e33-1d1b4e84aa8c73fa-1/Berogo__62ab614d15840609f6bb3e33-1d1b4e84aa8c73fa-1_mask_0.nii.gz\n"
     ]
    },
    {
     "name": "stderr",
     "output_type": "stream",
     "text": [
      "\r",
      "Loading dataset:  83%|█████████████████████████████████████████████████████████████████████████████████████████████████████████████████████████████████████████████████████████████████████████████████████████                                     | 505/606 [1:15:23<16:54, 10.05s/it]"
     ]
    },
    {
     "name": "stdout",
     "output_type": "stream",
     "text": [
      "2023-10-13 14:05:52,452 INFO image_writer.py:197 - writing: /home/vlermakov/Development/Nodules/Nodule-Detection-LUNA2016/processed_data_full_range_075mm/Kukunab__62ab6d5287a66f0a549f8077-d394a50fc98d11b8-1/Kukunab__62ab6d5287a66f0a549f8077-d394a50fc98d11b8-1_image_0.nii.gz\n",
      "2023-10-13 14:05:52,470 INFO image_writer.py:197 - writing: /home/vlermakov/Development/Nodules/Nodule-Detection-LUNA2016/processed_data_full_range_075mm/Jecayap__62ab6d1400a008095d8edc47-e44cf0df98838fa5-1/Jecayap__62ab6d1400a008095d8edc47-e44cf0df98838fa5-1_image_0.nii.gz\n",
      "2023-10-13 14:05:52,538 INFO image_writer.py:197 - writing: /home/vlermakov/Development/Nodules/Nodule-Detection-LUNA2016/processed_data_full_range_075mm/Quicubli__62ab8613b8e1e609f6b2369f-b5fc329511c7b724-1/Quicubli__62ab8613b8e1e609f6b2369f-b5fc329511c7b724-1_image_0.nii.gz\n",
      "2023-10-13 14:05:52,940 INFO image_writer.py:197 - writing: /home/vlermakov/Development/Nodules/Nodule-Detection-LUNA2016/processed_data_full_range_075mm/Kukunab__62ab6d5287a66f0a549f8077-d394a50fc98d11b8-1/Kukunab__62ab6d5287a66f0a549f8077-d394a50fc98d11b8-1_mask_0.nii.gz\n",
      "2023-10-13 14:05:53,196 INFO image_writer.py:197 - writing: /home/vlermakov/Development/Nodules/Nodule-Detection-LUNA2016/processed_data_full_range_075mm/Jecayap__62ab6d1400a008095d8edc47-e44cf0df98838fa5-1/Jecayap__62ab6d1400a008095d8edc47-e44cf0df98838fa5-1_mask_0.nii.gz\n",
      "2023-10-13 14:05:53,571 INFO image_writer.py:197 - writing: /home/vlermakov/Development/Nodules/Nodule-Detection-LUNA2016/processed_data_full_range_075mm/Quicubli__62ab8613b8e1e609f6b2369f-b5fc329511c7b724-1/Quicubli__62ab8613b8e1e609f6b2369f-b5fc329511c7b724-1_mask_0.nii.gz\n"
     ]
    },
    {
     "name": "stderr",
     "output_type": "stream",
     "text": [
      "Loading dataset:  84%|██████████████████████████████████████████████████████████████████████████████████████████████████████████████████████████████████████████████████████████████████████████████████████████▊                                   | 510/606 [1:15:53<11:38,  7.28s/it]"
     ]
    },
    {
     "name": "stdout",
     "output_type": "stream",
     "text": [
      "2023-10-13 14:06:24,118 INFO image_writer.py:197 - writing: /home/vlermakov/Development/Nodules/Nodule-Detection-LUNA2016/processed_data_full_range_075mm/Swikrusu__62ab8778cdf7fa099d0a5a69-55140a50f81c82bc-1/Swikrusu__62ab8778cdf7fa099d0a5a69-55140a50f81c82bc-1_image_0.nii.gz\n",
      "2023-10-13 14:06:24,243 INFO image_writer.py:197 - writing: /home/vlermakov/Development/Nodules/Nodule-Detection-LUNA2016/processed_data_full_range_075mm/Quosapu__62ab873ecbcf9009d753abb8-53b09a81fa4152bb-1/Quosapu__62ab873ecbcf9009d753abb8-53b09a81fa4152bb-1_image_0.nii.gz\n",
      "2023-10-13 14:06:24,326 INFO image_writer.py:197 - writing: /home/vlermakov/Development/Nodules/Nodule-Detection-LUNA2016/processed_data_full_range_075mm/Swikrusu__62ab8778cdf7fa099d0a5a69-55140a50f81c82bc-1/Swikrusu__62ab8778cdf7fa099d0a5a69-55140a50f81c82bc-1_mask_0.nii.gz\n",
      "2023-10-13 14:06:24,381 INFO image_writer.py:197 - writing: /home/vlermakov/Development/Nodules/Nodule-Detection-LUNA2016/processed_data_full_range_075mm/Quosapu__62ab873ecbcf9009d753abb8-53b09a81fa4152bb-1/Quosapu__62ab873ecbcf9009d753abb8-53b09a81fa4152bb-1_mask_0.nii.gz\n"
     ]
    },
    {
     "name": "stderr",
     "output_type": "stream",
     "text": [
      "\r",
      "Loading dataset:  84%|███████████████████████████████████████████████████████████████████████████████████████████████████████████████████████████████████████████████████████████████████████████████████████████▏                                  | 511/606 [1:16:13<15:53, 10.04s/it]"
     ]
    },
    {
     "name": "stdout",
     "output_type": "stream",
     "text": [
      "2023-10-13 14:06:38,058 INFO image_writer.py:197 - writing: /home/vlermakov/Development/Nodules/Nodule-Detection-LUNA2016/processed_data_full_range_075mm/Isutes__62ab874459b7ae094e7ac477-bc3f64b8ad4a60c9-1/Isutes__62ab874459b7ae094e7ac477-bc3f64b8ad4a60c9-1_image_0.nii.gz\n",
      "2023-10-13 14:06:38,601 INFO image_writer.py:197 - writing: /home/vlermakov/Development/Nodules/Nodule-Detection-LUNA2016/processed_data_full_range_075mm/Isutes__62ab874459b7ae094e7ac477-bc3f64b8ad4a60c9-1/Isutes__62ab874459b7ae094e7ac477-bc3f64b8ad4a60c9-1_mask_0.nii.gz\n"
     ]
    },
    {
     "name": "stderr",
     "output_type": "stream",
     "text": [
      "Loading dataset:  85%|███████████████████████████████████████████████████████████████████████████████████████████████████████████████████████████████████████████████████████████████████████████████████████████▉                                  | 513/606 [1:16:28<14:08,  9.13s/it]"
     ]
    },
    {
     "name": "stdout",
     "output_type": "stream",
     "text": [
      "2023-10-13 14:06:49,994 INFO image_writer.py:197 - writing: /home/vlermakov/Development/Nodules/Nodule-Detection-LUNA2016/processed_data_full_range_075mm/Emangiet__62ab877cc23026090ba2701c-7de99c4c27c682b8-1/Emangiet__62ab877cc23026090ba2701c-7de99c4c27c682b8-1_image_0.nii.gz\n",
      "2023-10-13 14:06:50,179 INFO image_writer.py:197 - writing: /home/vlermakov/Development/Nodules/Nodule-Detection-LUNA2016/processed_data_full_range_075mm/Cugaju__62ab877e87a66f0a549f8085-6cb6f1d6391e29e0-1/Cugaju__62ab877e87a66f0a549f8085-6cb6f1d6391e29e0-1_image_0.nii.gz\n",
      "2023-10-13 14:06:50,405 INFO image_writer.py:197 - writing: /home/vlermakov/Development/Nodules/Nodule-Detection-LUNA2016/processed_data_full_range_075mm/Emangiet__62ab877cc23026090ba2701c-7de99c4c27c682b8-1/Emangiet__62ab877cc23026090ba2701c-7de99c4c27c682b8-1_mask_0.nii.gz\n",
      "2023-10-13 14:06:51,486 INFO image_writer.py:197 - writing: /home/vlermakov/Development/Nodules/Nodule-Detection-LUNA2016/processed_data_full_range_075mm/Cugaju__62ab877e87a66f0a549f8085-6cb6f1d6391e29e0-1/Cugaju__62ab877e87a66f0a549f8085-6cb6f1d6391e29e0-1_mask_0.nii.gz\n"
     ]
    },
    {
     "name": "stderr",
     "output_type": "stream",
     "text": [
      "Loading dataset:  85%|████████████████████████████████████████████████████████████████████████████████████████████████████████████████████████████████████████████████████████████████████████████████████████████▋                                 | 515/606 [1:16:38<10:55,  7.20s/it]"
     ]
    },
    {
     "name": "stdout",
     "output_type": "stream",
     "text": [
      "2023-10-13 14:07:06,077 INFO image_writer.py:197 - writing: /home/vlermakov/Development/Nodules/Nodule-Detection-LUNA2016/processed_data_full_range_075mm/Torotob__62aac56028be8e0a3b91c1e8-dcf759681f032ec2-1/Torotob__62aac56028be8e0a3b91c1e8-dcf759681f032ec2-1_image_0.nii.gz\n",
      "2023-10-13 14:07:07,569 INFO image_writer.py:197 - writing: /home/vlermakov/Development/Nodules/Nodule-Detection-LUNA2016/processed_data_full_range_075mm/Torotob__62aac56028be8e0a3b91c1e8-dcf759681f032ec2-1/Torotob__62aac56028be8e0a3b91c1e8-dcf759681f032ec2-1_mask_0.nii.gz\n"
     ]
    },
    {
     "name": "stderr",
     "output_type": "stream",
     "text": [
      "\r",
      "Loading dataset:  85%|█████████████████████████████████████████████████████████████████████████████████████████████████████████████████████████████████████████████████████████████████████████████████████████████                                 | 516/606 [1:16:56<15:24, 10.27s/it]"
     ]
    },
    {
     "name": "stdout",
     "output_type": "stream",
     "text": [
      "2023-10-13 14:07:16,888 INFO image_writer.py:197 - writing: /home/vlermakov/Development/Nodules/Nodule-Detection-LUNA2016/processed_data_full_range_075mm/Pafuku__62aac5599bb9b909a02710fd-4e153b7fff319e05-1/Pafuku__62aac5599bb9b909a02710fd-4e153b7fff319e05-1_image_0.nii.gz\n",
      "2023-10-13 14:07:17,159 INFO image_writer.py:197 - writing: /home/vlermakov/Development/Nodules/Nodule-Detection-LUNA2016/processed_data_full_range_075mm/Pafuku__62aac5599bb9b909a02710fd-4e153b7fff319e05-1/Pafuku__62aac5599bb9b909a02710fd-4e153b7fff319e05-1_mask_0.nii.gz\n",
      "2023-10-13 14:07:26,345 INFO image_writer.py:197 - writing: /home/vlermakov/Development/Nodules/Nodule-Detection-LUNA2016/processed_data_full_range_075mm/Wihotog__62aac543f620a60a313cb09e-a231b39ef10456cc-1/Wihotog__62aac543f620a60a313cb09e-a231b39ef10456cc-1_image_0.nii.gz\n",
      "2023-10-13 14:07:27,667 INFO image_writer.py:197 - writing: /home/vlermakov/Development/Nodules/Nodule-Detection-LUNA2016/processed_data_full_range_075mm/Wihotog__62aac543f620a60a313cb09e-a231b39ef10456cc-1/Wihotog__62aac543f620a60a313cb09e-a231b39ef10456cc-1_mask_0.nii.gz\n"
     ]
    },
    {
     "name": "stderr",
     "output_type": "stream",
     "text": [
      "Loading dataset:  85%|█████████████████████████████████████████████████████████████████████████████████████████████████████████████████████████████████████████████████████████████████████████████████████████████▊                                | 518/606 [1:17:15<13:49,  9.42s/it]"
     ]
    },
    {
     "name": "stdout",
     "output_type": "stream",
     "text": [
      "2023-10-13 14:07:37,827 INFO image_writer.py:197 - writing: /home/vlermakov/Development/Nodules/Nodule-Detection-LUNA2016/processed_data_full_range_075mm/Ragili__62ab91e9348f6e09c2dc6203-37ce927bda060d16-1/Ragili__62ab91e9348f6e09c2dc6203-37ce927bda060d16-1_image_0.nii.gz\n",
      "2023-10-13 14:07:38,338 INFO image_writer.py:197 - writing: /home/vlermakov/Development/Nodules/Nodule-Detection-LUNA2016/processed_data_full_range_075mm/Ragili__62ab91e9348f6e09c2dc6203-37ce927bda060d16-1/Ragili__62ab91e9348f6e09c2dc6203-37ce927bda060d16-1_mask_0.nii.gz\n",
      "2023-10-13 14:07:38,917 INFO image_writer.py:197 - writing: /home/vlermakov/Development/Nodules/Nodule-Detection-LUNA2016/processed_data_full_range_075mm/Nebofe__62ab8e5847dfa609e4d4a338-11c7c5d8f35a65c0-2/Nebofe__62ab8e5847dfa609e4d4a338-11c7c5d8f35a65c0-2_image_0.nii.gz\n"
     ]
    },
    {
     "name": "stderr",
     "output_type": "stream",
     "text": [
      "\r",
      "Loading dataset:  86%|██████████████████████████████████████████████████████████████████████████████████████████████████████████████████████████████████████████████████████████████████████████████████████████████▏                               | 519/606 [1:17:26<14:15,  9.83s/it]"
     ]
    },
    {
     "name": "stdout",
     "output_type": "stream",
     "text": [
      "2023-10-13 14:07:46,230 INFO image_writer.py:197 - writing: /home/vlermakov/Development/Nodules/Nodule-Detection-LUNA2016/processed_data_full_range_075mm/Nebofe__62ab8e5847dfa609e4d4a338-11c7c5d8f35a65c0-2/Nebofe__62ab8e5847dfa609e4d4a338-11c7c5d8f35a65c0-2_mask_0.nii.gz\n"
     ]
    },
    {
     "name": "stderr",
     "output_type": "stream",
     "text": [
      "\r",
      "Loading dataset:  86%|██████████████████████████████████████████████████████████████████████████████████████████████████████████████████████████████████████████████████████████████████████████████████████████████▍                               | 520/606 [1:17:26<10:03,  7.02s/it]"
     ]
    },
    {
     "name": "stdout",
     "output_type": "stream",
     "text": [
      "2023-10-13 14:07:52,859 INFO image_writer.py:197 - writing: /home/vlermakov/Development/Nodules/Nodule-Detection-LUNA2016/processed_data_full_range_075mm/Hobonug__6350a6ea05afd609fb663423-e683c3e63e67c134-1/Hobonug__6350a6ea05afd609fb663423-e683c3e63e67c134-1_image_0.nii.gz\n",
      "2023-10-13 14:07:53,878 INFO image_writer.py:197 - writing: /home/vlermakov/Development/Nodules/Nodule-Detection-LUNA2016/processed_data_full_range_075mm/Fatatu__62ab903ab8e1e609f6b236ad-5a650b18b17b48a6-1/Fatatu__62ab903ab8e1e609f6b236ad-5a650b18b17b48a6-1_image_0.nii.gz\n",
      "2023-10-13 14:07:54,323 INFO image_writer.py:197 - writing: /home/vlermakov/Development/Nodules/Nodule-Detection-LUNA2016/processed_data_full_range_075mm/Hobonug__6350a6ea05afd609fb663423-e683c3e63e67c134-1/Hobonug__6350a6ea05afd609fb663423-e683c3e63e67c134-1_mask_0.nii.gz\n",
      "2023-10-13 14:07:54,581 INFO image_writer.py:197 - writing: /home/vlermakov/Development/Nodules/Nodule-Detection-LUNA2016/processed_data_full_range_075mm/Fatatu__62ab903ab8e1e609f6b236ad-5a650b18b17b48a6-1/Fatatu__62ab903ab8e1e609f6b236ad-5a650b18b17b48a6-1_mask_0.nii.gz\n"
     ]
    },
    {
     "name": "stderr",
     "output_type": "stream",
     "text": [
      "Loading dataset:  86%|███████████████████████████████████████████████████████████████████████████████████████████████████████████████████████████████████████████████████████████████████████████████████████████████▏                              | 522/606 [1:17:46<11:31,  8.23s/it]"
     ]
    },
    {
     "name": "stdout",
     "output_type": "stream",
     "text": [
      "2023-10-13 14:08:07,869 INFO image_writer.py:197 - writing: /home/vlermakov/Development/Nodules/Nodule-Detection-LUNA2016/processed_data_full_range_075mm/Ofudil__5cfe92421402981327718830-915bf499772afeb2-4/Ofudil__5cfe92421402981327718830-915bf499772afeb2-4_image_0.nii.gz\n",
      "2023-10-13 14:08:08,216 INFO image_writer.py:197 - writing: /home/vlermakov/Development/Nodules/Nodule-Detection-LUNA2016/processed_data_full_range_075mm/Ofudil__5cfe92421402981327718830-915bf499772afeb2-4/Ofudil__5cfe92421402981327718830-915bf499772afeb2-4_mask_0.nii.gz\n"
     ]
    },
    {
     "name": "stderr",
     "output_type": "stream",
     "text": [
      "\r",
      "Loading dataset:  86%|███████████████████████████████████████████████████████████████████████████████████████████████████████████████████████████████████████████████████████████████████████████████████████████████▌                              | 523/606 [1:17:52<10:47,  7.80s/it]"
     ]
    },
    {
     "name": "stdout",
     "output_type": "stream",
     "text": [
      "2023-10-13 14:08:19,092 INFO image_writer.py:197 - writing: /home/vlermakov/Development/Nodules/Nodule-Detection-LUNA2016/processed_data_full_range_075mm/Rehoule__62c10c3f2baab10936a5184e-d0365fcb13ed8ed1-4/Rehoule__62c10c3f2baab10936a5184e-d0365fcb13ed8ed1-4_image_0.nii.gz\n",
      "2023-10-13 14:08:20,857 INFO image_writer.py:197 - writing: /home/vlermakov/Development/Nodules/Nodule-Detection-LUNA2016/processed_data_full_range_075mm/Rehoule__62c10c3f2baab10936a5184e-d0365fcb13ed8ed1-4/Rehoule__62c10c3f2baab10936a5184e-d0365fcb13ed8ed1-4_mask_0.nii.gz\n"
     ]
    },
    {
     "name": "stderr",
     "output_type": "stream",
     "text": [
      "\r",
      "Loading dataset:  86%|███████████████████████████████████████████████████████████████████████████████████████████████████████████████████████████████████████████████████████████████████████████████████████████████▉                              | 524/606 [1:18:01<11:09,  8.17s/it]"
     ]
    },
    {
     "name": "stdout",
     "output_type": "stream",
     "text": [
      "2023-10-13 14:08:31,541 INFO image_writer.py:197 - writing: /home/vlermakov/Development/Nodules/Nodule-Detection-LUNA2016/processed_data_full_range_075mm/Prutigu__62c10f05d4ca3408fb0fcfde-c42a3d86110532f3-1/Prutigu__62c10f05d4ca3408fb0fcfde-c42a3d86110532f3-1_image_0.nii.gz\n",
      "2023-10-13 14:08:33,383 INFO image_writer.py:197 - writing: /home/vlermakov/Development/Nodules/Nodule-Detection-LUNA2016/processed_data_full_range_075mm/Prutigu__62c10f05d4ca3408fb0fcfde-c42a3d86110532f3-1/Prutigu__62c10f05d4ca3408fb0fcfde-c42a3d86110532f3-1_mask_0.nii.gz\n",
      "2023-10-13 14:08:44,361 INFO image_writer.py:197 - writing: /home/vlermakov/Development/Nodules/Nodule-Detection-LUNA2016/processed_data_full_range_075mm/Gehienes__62c10f288b78c508ff535992-15f75695855943ff-1/Gehienes__62c10f288b78c508ff535992-15f75695855943ff-1_image_0.nii.gz\n",
      "2023-10-13 14:08:44,427 INFO image_writer.py:197 - writing: /home/vlermakov/Development/Nodules/Nodule-Detection-LUNA2016/processed_data_full_range_075mm/Kejieru__5cfe861614029813277187f7-c008801bc60fab4c-3/Kejieru__5cfe861614029813277187f7-c008801bc60fab4c-3_image_0.nii.gz\n",
      "2023-10-13 14:08:44,591 INFO image_writer.py:197 - writing: /home/vlermakov/Development/Nodules/Nodule-Detection-LUNA2016/processed_data_full_range_075mm/Leponup__5cfe91d6140298132771882c-b97da66701efde46-3/Leponup__5cfe91d6140298132771882c-b97da66701efde46-3_image_0.nii.gz\n",
      "2023-10-13 14:08:45,456 INFO image_writer.py:197 - writing: /home/vlermakov/Development/Nodules/Nodule-Detection-LUNA2016/processed_data_full_range_075mm/Gehienes__62c10f288b78c508ff535992-15f75695855943ff-1/Gehienes__62c10f288b78c508ff535992-15f75695855943ff-1_mask_0.nii.gz\n",
      "2023-10-13 14:08:45,949 INFO image_writer.py:197 - writing: /home/vlermakov/Development/Nodules/Nodule-Detection-LUNA2016/processed_data_full_range_075mm/Kejieru__5cfe861614029813277187f7-c008801bc60fab4c-3/Kejieru__5cfe861614029813277187f7-c008801bc60fab4c-3_mask_0.nii.gz\n",
      "2023-10-13 14:08:46,141 INFO image_writer.py:197 - writing: /home/vlermakov/Development/Nodules/Nodule-Detection-LUNA2016/processed_data_full_range_075mm/Leponup__5cfe91d6140298132771882c-b97da66701efde46-3/Leponup__5cfe91d6140298132771882c-b97da66701efde46-3_mask_0.nii.gz\n"
     ]
    },
    {
     "name": "stderr",
     "output_type": "stream",
     "text": [
      "Loading dataset:  87%|████████████████████████████████████████████████████████████████████████████████████████████████████████████████████████████████████████████████████████████████████████████████████████████████▋                             | 526/606 [1:18:44<18:21, 13.77s/it]"
     ]
    },
    {
     "name": "stdout",
     "output_type": "stream",
     "text": [
      "2023-10-13 14:09:05,878 INFO image_writer.py:197 - writing: /home/vlermakov/Development/Nodules/Nodule-Detection-LUNA2016/processed_data_full_range_075mm/Akofek__635311c1d3196809e23acb40-de7f55c2692c043e-2/Akofek__635311c1d3196809e23acb40-de7f55c2692c043e-2_image_0.nii.gz\n",
      "2023-10-13 14:09:06,220 INFO image_writer.py:197 - writing: /home/vlermakov/Development/Nodules/Nodule-Detection-LUNA2016/processed_data_full_range_075mm/Akofek__635311c1d3196809e23acb40-de7f55c2692c043e-1/Akofek__635311c1d3196809e23acb40-de7f55c2692c043e-1_image_0.nii.gz\n",
      "2023-10-13 14:09:06,353 INFO image_writer.py:197 - writing: /home/vlermakov/Development/Nodules/Nodule-Detection-LUNA2016/processed_data_full_range_075mm/Akofek__635311c1d3196809e23acb40-de7f55c2692c043e-2/Akofek__635311c1d3196809e23acb40-de7f55c2692c043e-2_mask_0.nii.gz\n",
      "2023-10-13 14:09:06,849 INFO image_writer.py:197 - writing: /home/vlermakov/Development/Nodules/Nodule-Detection-LUNA2016/processed_data_full_range_075mm/Akofek__635311c1d3196809e23acb40-de7f55c2692c043e-1/Akofek__635311c1d3196809e23acb40-de7f55c2692c043e-1_mask_0.nii.gz\n"
     ]
    },
    {
     "name": "stderr",
     "output_type": "stream",
     "text": [
      "Loading dataset:  87%|██████████████████████████████████████████████████████████████████████████████████████████████████████████████████████████████████████████████████████████████████████████████████████████████████▏                           | 530/606 [1:18:59<09:12,  7.27s/it]"
     ]
    },
    {
     "name": "stdout",
     "output_type": "stream",
     "text": [
      "2023-10-13 14:09:22,049 INFO image_writer.py:197 - writing: /home/vlermakov/Development/Nodules/Nodule-Detection-LUNA2016/processed_data_full_range_075mm/Muesemgeen__635316b451652c09fa1a3dd2-81686b1cfd9472fe-1/Muesemgeen__635316b451652c09fa1a3dd2-81686b1cfd9472fe-1_image_0.nii.gz\n",
      "2023-10-13 14:09:23,876 INFO image_writer.py:197 - writing: /home/vlermakov/Development/Nodules/Nodule-Detection-LUNA2016/processed_data_full_range_075mm/Muesemgeen__635316b451652c09fa1a3dd2-81686b1cfd9472fe-1/Muesemgeen__635316b451652c09fa1a3dd2-81686b1cfd9472fe-1_mask_0.nii.gz\n"
     ]
    },
    {
     "name": "stderr",
     "output_type": "stream",
     "text": [
      "\r",
      "Loading dataset:  88%|██████████████████████████████████████████████████████████████████████████████████████████████████████████████████████████████████████████████████████████████████████████████████████████████████▌                           | 531/606 [1:19:08<09:37,  7.70s/it]"
     ]
    },
    {
     "name": "stdout",
     "output_type": "stream",
     "text": [
      "2023-10-13 14:09:34,729 INFO image_writer.py:197 - writing: /home/vlermakov/Development/Nodules/Nodule-Detection-LUNA2016/processed_data_full_range_075mm/Nestunesk__635316474d61f4090341aa45-2ba4cbc1a511a401-5/Nestunesk__635316474d61f4090341aa45-2ba4cbc1a511a401-5_image_0.nii.gz\n",
      "2023-10-13 14:09:36,590 INFO image_writer.py:197 - writing: /home/vlermakov/Development/Nodules/Nodule-Detection-LUNA2016/processed_data_full_range_075mm/Nestunesk__635316474d61f4090341aa45-2ba4cbc1a511a401-5/Nestunesk__635316474d61f4090341aa45-2ba4cbc1a511a401-5_mask_0.nii.gz\n"
     ]
    },
    {
     "name": "stderr",
     "output_type": "stream",
     "text": [
      "\r",
      "Loading dataset:  88%|██████████████████████████████████████████████████████████████████████████████████████████████████████████████████████████████████████████████████████████████████████████████████████████████████▉                           | 532/606 [1:19:19<10:18,  8.35s/it]"
     ]
    },
    {
     "name": "stdout",
     "output_type": "stream",
     "text": [
      "2023-10-13 14:09:53,519 INFO image_writer.py:197 - writing: /home/vlermakov/Development/Nodules/Nodule-Detection-LUNA2016/processed_data_full_range_075mm/Tagoulu__635316674d61f4090341aa46-5900b4e91f18ebc6-1/Tagoulu__635316674d61f4090341aa46-5900b4e91f18ebc6-1_image_0.nii.gz\n",
      "2023-10-13 14:09:53,664 INFO image_writer.py:197 - writing: /home/vlermakov/Development/Nodules/Nodule-Detection-LUNA2016/processed_data_full_range_075mm/Tagoulu__635316674d61f4090341aa46-5900b4e91f18ebc6-1/Tagoulu__635316674d61f4090341aa46-5900b4e91f18ebc6-1_mask_0.nii.gz\n",
      "2023-10-13 14:10:01,464 INFO image_writer.py:197 - writing: /home/vlermakov/Development/Nodules/Nodule-Detection-LUNA2016/processed_data_full_range_075mm/Dupana__6353165c4746f609d601948f-eeb1565dc0696a3a-3/Dupana__6353165c4746f609d601948f-eeb1565dc0696a3a-3_image_0.nii.gz\n",
      "2023-10-13 14:10:01,816 INFO image_writer.py:197 - writing: /home/vlermakov/Development/Nodules/Nodule-Detection-LUNA2016/processed_data_full_range_075mm/Dupana__6353165c4746f609d601948f-eeb1565dc0696a3a-3/Dupana__6353165c4746f609d601948f-eeb1565dc0696a3a-3_mask_0.nii.gz\n"
     ]
    },
    {
     "name": "stderr",
     "output_type": "stream",
     "text": [
      "Loading dataset:  88%|███████████████████████████████████████████████████████████████████████████████████████████████████████████████████████████████████████████████████████████████████████████████████████████████████▌                          | 534/606 [1:19:47<12:17, 10.24s/it]"
     ]
    },
    {
     "name": "stdout",
     "output_type": "stream",
     "text": [
      "2023-10-13 14:10:07,757 INFO image_writer.py:197 - writing: /home/vlermakov/Development/Nodules/Nodule-Detection-LUNA2016/processed_data_full_range_075mm/Gatusoup__5d2d10eb5a72dad59db78ac8-dbbdccecbd92530b-1/Gatusoup__5d2d10eb5a72dad59db78ac8-dbbdccecbd92530b-1_image_0.nii.gz\n",
      "2023-10-13 14:10:07,862 INFO image_writer.py:197 - writing: /home/vlermakov/Development/Nodules/Nodule-Detection-LUNA2016/processed_data_full_range_075mm/Rapuha__6353194a4d61f4090341aa49-92e3696a19e65554-1/Rapuha__6353194a4d61f4090341aa49-92e3696a19e65554-1_image_0.nii.gz\n",
      "2023-10-13 14:10:07,917 INFO image_writer.py:197 - writing: /home/vlermakov/Development/Nodules/Nodule-Detection-LUNA2016/processed_data_full_range_075mm/Dulakip__635318b34d61f4090341aa48-a6d7ca8c0ab352c5-1/Dulakip__635318b34d61f4090341aa48-a6d7ca8c0ab352c5-1_image_0.nii.gz\n",
      "2023-10-13 14:10:08,382 INFO image_writer.py:197 - writing: /home/vlermakov/Development/Nodules/Nodule-Detection-LUNA2016/processed_data_full_range_075mm/Gatusoup__5d2d10eb5a72dad59db78ac8-dbbdccecbd92530b-1/Gatusoup__5d2d10eb5a72dad59db78ac8-dbbdccecbd92530b-1_mask_0.nii.gz\n",
      "2023-10-13 14:10:09,127 INFO image_writer.py:197 - writing: /home/vlermakov/Development/Nodules/Nodule-Detection-LUNA2016/processed_data_full_range_075mm/Rapuha__6353194a4d61f4090341aa49-92e3696a19e65554-1/Rapuha__6353194a4d61f4090341aa49-92e3696a19e65554-1_mask_0.nii.gz\n",
      "2023-10-13 14:10:09,180 INFO image_writer.py:197 - writing: /home/vlermakov/Development/Nodules/Nodule-Detection-LUNA2016/processed_data_full_range_075mm/Dulakip__635318b34d61f4090341aa48-a6d7ca8c0ab352c5-1/Dulakip__635318b34d61f4090341aa48-a6d7ca8c0ab352c5-1_mask_0.nii.gz\n"
     ]
    },
    {
     "name": "stderr",
     "output_type": "stream",
     "text": [
      "Loading dataset:  88%|████████████████████████████████████████████████████████████████████████████████████████████████████████████████████████████████████████████████████████████████████████████████████████████████████▎                         | 536/606 [1:20:08<11:30,  9.87s/it]"
     ]
    },
    {
     "name": "stdout",
     "output_type": "stream",
     "text": [
      "2023-10-13 14:10:29,185 INFO image_writer.py:197 - writing: /home/vlermakov/Development/Nodules/Nodule-Detection-LUNA2016/processed_data_full_range_075mm/Amuxos__63531925eb8f6009ab0fb1da-8de248c7c2d2292f-1/Amuxos__63531925eb8f6009ab0fb1da-8de248c7c2d2292f-1_image_0.nii.gz\n",
      "2023-10-13 14:10:29,771 INFO image_writer.py:197 - writing: /home/vlermakov/Development/Nodules/Nodule-Detection-LUNA2016/processed_data_full_range_075mm/Amuxos__63531925eb8f6009ab0fb1da-8de248c7c2d2292f-1/Amuxos__63531925eb8f6009ab0fb1da-8de248c7c2d2292f-1_mask_0.nii.gz\n",
      "2023-10-13 14:10:30,034 INFO image_writer.py:197 - writing: /home/vlermakov/Development/Nodules/Nodule-Detection-LUNA2016/processed_data_full_range_075mm/Pigalu__6109a4ca6583e70a166a4639-ce8335541f4473b3-1/Pigalu__6109a4ca6583e70a166a4639-ce8335541f4473b3-1_image_0.nii.gz\n"
     ]
    },
    {
     "name": "stderr",
     "output_type": "stream",
     "text": [
      "\r",
      "Loading dataset:  89%|█████████████████████████████████████████████████████████████████████████████████████████████████████████████████████████████████████████████████████████████████████████████████████████████████████                         | 538/606 [1:20:12<07:09,  6.32s/it]"
     ]
    },
    {
     "name": "stdout",
     "output_type": "stream",
     "text": [
      "2023-10-13 14:10:36,551 INFO image_writer.py:197 - writing: /home/vlermakov/Development/Nodules/Nodule-Detection-LUNA2016/processed_data_full_range_075mm/Pigalu__6109a4ca6583e70a166a4639-ce8335541f4473b3-1/Pigalu__6109a4ca6583e70a166a4639-ce8335541f4473b3-1_mask_0.nii.gz\n"
     ]
    },
    {
     "name": "stderr",
     "output_type": "stream",
     "text": [
      "Loading dataset:  89%|█████████████████████████████████████████████████████████████████████████████████████████████████████████████████████████████████████████████████████████████████████████████████████████████████████▍                        | 539/606 [1:20:17<06:36,  5.91s/it]IOStream.flush timed out\n"
     ]
    },
    {
     "name": "stdout",
     "output_type": "stream",
     "text": [
      "2023-10-13 14:11:00,225 INFO image_writer.py:197 - writing: /home/vlermakov/Development/Nodules/Nodule-Detection-LUNA2016/processed_data_full_range_075mm/Bokrofa__619d85afd33cd60d09d141e1-3dd48176fb2fb9dc-1/Bokrofa__619d85afd33cd60d09d141e1-3dd48176fb2fb9dc-1_image_0.nii.gz\n",
      "2023-10-13 14:11:00,436 INFO image_writer.py:197 - writing: /home/vlermakov/Development/Nodules/Nodule-Detection-LUNA2016/processed_data_full_range_075mm/Bokrofa__619d85afd33cd60d09d141e1-3dd48176fb2fb9dc-1/Bokrofa__619d85afd33cd60d09d141e1-3dd48176fb2fb9dc-1_mask_0.nii.gz\n"
     ]
    },
    {
     "name": "stderr",
     "output_type": "stream",
     "text": [
      "\r",
      "Loading dataset:  89%|█████████████████████████████████████████████████████████████████████████████████████████████████████████████████████████████████████████████████████████████████████████████████████████████████████▊                        | 540/606 [1:20:41<11:34, 10.52s/it]"
     ]
    },
    {
     "name": "stdout",
     "output_type": "stream",
     "text": [
      "2023-10-13 14:11:11,573 INFO image_writer.py:197 - writing: /home/vlermakov/Development/Nodules/Nodule-Detection-LUNA2016/processed_data_full_range_075mm/Rajife__635319b84d61f4090341aa4a-4d678da916261284-1/Rajife__635319b84d61f4090341aa4a-4d678da916261284-1_image_0.nii.gz\n",
      "2023-10-13 14:11:12,460 INFO image_writer.py:197 - writing: /home/vlermakov/Development/Nodules/Nodule-Detection-LUNA2016/processed_data_full_range_075mm/Rajife__635319b84d61f4090341aa4a-4d678da916261284-1/Rajife__635319b84d61f4090341aa4a-4d678da916261284-1_mask_0.nii.gz\n"
     ]
    },
    {
     "name": "stderr",
     "output_type": "stream",
     "text": [
      "\r",
      "Loading dataset:  89%|██████████████████████████████████████████████████████████████████████████████████████████████████████████████████████████████████████████████████████████████████████████████████████████████████████▏                       | 541/606 [1:21:00<13:58, 12.90s/it]"
     ]
    },
    {
     "name": "stdout",
     "output_type": "stream",
     "text": [
      "2023-10-13 14:11:21,855 INFO image_writer.py:197 - writing: /home/vlermakov/Development/Nodules/Nodule-Detection-LUNA2016/processed_data_full_range_075mm/Traluga__635303194ea5be09b7ad9637-d8a908c2ebf0eea6-1/Traluga__635303194ea5be09b7ad9637-d8a908c2ebf0eea6-1_image_0.nii.gz\n",
      "2023-10-13 14:11:22,082 INFO image_writer.py:197 - writing: /home/vlermakov/Development/Nodules/Nodule-Detection-LUNA2016/processed_data_full_range_075mm/Rofoote__635304efeb8f6009ab0fb1ca-7a55bfc2e2a1b9d9-1/Rofoote__635304efeb8f6009ab0fb1ca-7a55bfc2e2a1b9d9-1_image_0.nii.gz\n",
      "2023-10-13 14:11:22,246 INFO image_writer.py:197 - writing: /home/vlermakov/Development/Nodules/Nodule-Detection-LUNA2016/processed_data_full_range_075mm/Pumeque__635305c2dfcb030a164b26aa-451ba555abecf74f-1/Pumeque__635305c2dfcb030a164b26aa-451ba555abecf74f-1_image_0.nii.gz\n",
      "2023-10-13 14:11:22,262 INFO image_writer.py:197 - writing: /home/vlermakov/Development/Nodules/Nodule-Detection-LUNA2016/processed_data_full_range_075mm/Traluga__635303194ea5be09b7ad9637-d8a908c2ebf0eea6-1/Traluga__635303194ea5be09b7ad9637-d8a908c2ebf0eea6-1_mask_0.nii.gz\n",
      "2023-10-13 14:11:22,288 INFO image_writer.py:197 - writing: /home/vlermakov/Development/Nodules/Nodule-Detection-LUNA2016/processed_data_full_range_075mm/Nulogo__6353040ddfcb030a164b26a9-da54974f0e64a44e-1/Nulogo__6353040ddfcb030a164b26a9-da54974f0e64a44e-1_image_0.nii.gz\n",
      "2023-10-13 14:11:22,341 INFO image_writer.py:197 - writing: /home/vlermakov/Development/Nodules/Nodule-Detection-LUNA2016/processed_data_full_range_075mm/Rofoote__635304efeb8f6009ab0fb1ca-7a55bfc2e2a1b9d9-1/Rofoote__635304efeb8f6009ab0fb1ca-7a55bfc2e2a1b9d9-1_mask_0.nii.gz\n"
     ]
    },
    {
     "name": "stderr",
     "output_type": "stream",
     "text": [
      "\r",
      "Loading dataset:  89%|██████████████████████████████████████████████████████████████████████████████████████████████████████████████████████████████████████████████████████████████████████████████████████████████████████▌                       | 542/606 [1:21:02<10:32,  9.89s/it]"
     ]
    },
    {
     "name": "stdout",
     "output_type": "stream",
     "text": [
      "2023-10-13 14:11:31,286 INFO image_writer.py:197 - writing: /home/vlermakov/Development/Nodules/Nodule-Detection-LUNA2016/processed_data_full_range_075mm/Pumeque__635305c2dfcb030a164b26aa-451ba555abecf74f-1/Pumeque__635305c2dfcb030a164b26aa-451ba555abecf74f-1_mask_0.nii.gz\n",
      "2023-10-13 14:11:31,354 INFO image_writer.py:197 - writing: /home/vlermakov/Development/Nodules/Nodule-Detection-LUNA2016/processed_data_full_range_075mm/Nulogo__6353040ddfcb030a164b26a9-da54974f0e64a44e-1/Nulogo__6353040ddfcb030a164b26a9-da54974f0e64a44e-1_mask_0.nii.gz\n"
     ]
    },
    {
     "name": "stderr",
     "output_type": "stream",
     "text": [
      "\r",
      "Loading dataset:  90%|██████████████████████████████████████████████████████████████████████████████████████████████████████████████████████████████████████████████████████████████████████████████████████████████████████▉                       | 543/606 [1:21:21<12:55, 12.31s/it]"
     ]
    },
    {
     "name": "stdout",
     "output_type": "stream",
     "text": [
      "2023-10-13 14:11:41,956 INFO image_writer.py:197 - writing: /home/vlermakov/Development/Nodules/Nodule-Detection-LUNA2016/processed_data_full_range_075mm/Erielep__63530843dfcb030a164b26ab-c84ec9a2a390303e-2/Erielep__63530843dfcb030a164b26ab-c84ec9a2a390303e-2_image_0.nii.gz\n",
      "2023-10-13 14:11:42,378 INFO image_writer.py:197 - writing: /home/vlermakov/Development/Nodules/Nodule-Detection-LUNA2016/processed_data_full_range_075mm/Erielep__63530843dfcb030a164b26ab-c84ec9a2a390303e-2/Erielep__63530843dfcb030a164b26ab-c84ec9a2a390303e-2_mask_0.nii.gz\n"
     ]
    },
    {
     "name": "stderr",
     "output_type": "stream",
     "text": [
      "\r",
      "Loading dataset:  90%|████████████████████████████████████████████████████████████████████████████████████████████████████████████████████████████████████████████████████████████████████████████████████████████████████████                      | 546/606 [1:21:22<05:52,  5.88s/it]"
     ]
    },
    {
     "name": "stdout",
     "output_type": "stream",
     "text": [
      "2023-10-13 14:12:00,611 INFO image_writer.py:197 - writing: /home/vlermakov/Development/Nodules/Nodule-Detection-LUNA2016/processed_data_full_range_075mm/Boyofem__635307ebe95b41097bc09ada-dd3073766f9fe17f-3/Boyofem__635307ebe95b41097bc09ada-dd3073766f9fe17f-3_image_0.nii.gz\n",
      "2023-10-13 14:12:00,758 INFO image_writer.py:197 - writing: /home/vlermakov/Development/Nodules/Nodule-Detection-LUNA2016/processed_data_full_range_075mm/Boyofem__635307ebe95b41097bc09ada-dd3073766f9fe17f-3/Boyofem__635307ebe95b41097bc09ada-dd3073766f9fe17f-3_mask_0.nii.gz\n",
      "2023-10-13 14:12:07,770 INFO image_writer.py:197 - writing: /home/vlermakov/Development/Nodules/Nodule-Detection-LUNA2016/processed_data_full_range_075mm/Gacueru__635307d33382f209c06bb2cd-3a8219982131dade-2/Gacueru__635307d33382f209c06bb2cd-3a8219982131dade-2_image_0.nii.gz\n",
      "2023-10-13 14:12:08,064 INFO image_writer.py:197 - writing: /home/vlermakov/Development/Nodules/Nodule-Detection-LUNA2016/processed_data_full_range_075mm/Gacueru__635307d33382f209c06bb2cd-3a8219982131dade-2/Gacueru__635307d33382f209c06bb2cd-3a8219982131dade-2_mask_0.nii.gz\n"
     ]
    },
    {
     "name": "stderr",
     "output_type": "stream",
     "text": [
      "Loading dataset:  90%|████████████████████████████████████████████████████████████████████████████████████████████████████████████████████████████████████████████████████████████████████████████████████████████████████████▊                     | 548/606 [1:21:56<09:07,  9.43s/it]"
     ]
    },
    {
     "name": "stdout",
     "output_type": "stream",
     "text": [
      "2023-10-13 14:12:17,849 INFO image_writer.py:197 - writing: /home/vlermakov/Development/Nodules/Nodule-Detection-LUNA2016/processed_data_full_range_075mm/Datenu__6353091e3382f209c06bb2cf-be0f0957e0355444-2/Datenu__6353091e3382f209c06bb2cf-be0f0957e0355444-2_image_0.nii.gz\n",
      "2023-10-13 14:12:18,199 INFO image_writer.py:197 - writing: /home/vlermakov/Development/Nodules/Nodule-Detection-LUNA2016/processed_data_full_range_075mm/Datenu__6353091e3382f209c06bb2cf-be0f0957e0355444-2/Datenu__6353091e3382f209c06bb2cf-be0f0957e0355444-2_mask_0.nii.gz\n"
     ]
    },
    {
     "name": "stderr",
     "output_type": "stream",
     "text": [
      "\r",
      "Loading dataset:  91%|█████████████████████████████████████████████████████████████████████████████████████████████████████████████████████████████████████████████████████████████████████████████████████████████████████████                     | 549/606 [1:21:59<07:28,  7.87s/it]"
     ]
    },
    {
     "name": "stdout",
     "output_type": "stream",
     "text": [
      "2023-10-13 14:12:37,601 INFO image_writer.py:197 - writing: /home/vlermakov/Development/Nodules/Nodule-Detection-LUNA2016/processed_data_full_range_075mm/Rabili__63530d11eb8f6009ab0fb1cb-2cb41eefc5bc161b-1/Rabili__63530d11eb8f6009ab0fb1cb-2cb41eefc5bc161b-1_image_0.nii.gz\n",
      "2023-10-13 14:12:38,432 INFO image_writer.py:197 - writing: /home/vlermakov/Development/Nodules/Nodule-Detection-LUNA2016/processed_data_full_range_075mm/Rabili__63530d11eb8f6009ab0fb1cb-2cb41eefc5bc161b-1/Rabili__63530d11eb8f6009ab0fb1cb-2cb41eefc5bc161b-1_mask_0.nii.gz\n",
      "2023-10-13 14:13:01,537 INFO image_writer.py:197 - writing: /home/vlermakov/Development/Nodules/Nodule-Detection-LUNA2016/processed_data_full_range_075mm/Legakjop__63530c033382f209c06bb2d0-dc6221634618c972-16/Legakjop__63530c033382f209c06bb2d0-dc6221634618c972-16_image_0.nii.gz\n",
      "2023-10-13 14:13:01,592 INFO image_writer.py:197 - writing: /home/vlermakov/Development/Nodules/Nodule-Detection-LUNA2016/processed_data_full_range_075mm/Legakjop__63530c033382f209c06bb2d0-dc6221634618c972-10/Legakjop__63530c033382f209c06bb2d0-dc6221634618c972-10_image_0.nii.gz\n",
      "2023-10-13 14:13:01,685 INFO image_writer.py:197 - writing: /home/vlermakov/Development/Nodules/Nodule-Detection-LUNA2016/processed_data_full_range_075mm/Legakjop__63530c033382f209c06bb2d0-dc6221634618c972-16/Legakjop__63530c033382f209c06bb2d0-dc6221634618c972-16_mask_0.nii.gz\n",
      "2023-10-13 14:13:01,742 INFO image_writer.py:197 - writing: /home/vlermakov/Development/Nodules/Nodule-Detection-LUNA2016/processed_data_full_range_075mm/Legakjop__63530c033382f209c06bb2d0-dc6221634618c972-10/Legakjop__63530c033382f209c06bb2d0-dc6221634618c972-10_mask_0.nii.gz\n",
      "2023-10-13 14:13:24,553 INFO image_writer.py:197 - writing: /home/vlermakov/Development/Nodules/Nodule-Detection-LUNA2016/processed_data_full_range_075mm/Jokeglie__63530b98e95b41097bc09adb-d41431a43b2da981-18/Jokeglie__63530b98e95b41097bc09adb-d41431a43b2da981-18_image_0.nii.gz\n",
      "2023-10-13 14:13:24,987 INFO image_writer.py:197 - writing: /home/vlermakov/Development/Nodules/Nodule-Detection-LUNA2016/processed_data_full_range_075mm/Jokeglie__63530b98e95b41097bc09adb-d41431a43b2da981-100/Jokeglie__63530b98e95b41097bc09adb-d41431a43b2da981-100_image_0.nii.gz\n",
      "2023-10-13 14:13:25,259 INFO image_writer.py:197 - writing: /home/vlermakov/Development/Nodules/Nodule-Detection-LUNA2016/processed_data_full_range_075mm/Jokeglie__63530b98e95b41097bc09adb-d41431a43b2da981-18/Jokeglie__63530b98e95b41097bc09adb-d41431a43b2da981-18_mask_0.nii.gz\n",
      "2023-10-13 14:13:25,285 INFO image_writer.py:197 - writing: /home/vlermakov/Development/Nodules/Nodule-Detection-LUNA2016/processed_data_full_range_075mm/Rafosur__63530b62c0271909c1499bbf-5a89e35f08f37727-21/Rafosur__63530b62c0271909c1499bbf-5a89e35f08f37727-21_image_0.nii.gz\n",
      "2023-10-13 14:13:25,614 INFO image_writer.py:197 - writing: /home/vlermakov/Development/Nodules/Nodule-Detection-LUNA2016/processed_data_full_range_075mm/Jokeglie__63530b98e95b41097bc09adb-d41431a43b2da981-100/Jokeglie__63530b98e95b41097bc09adb-d41431a43b2da981-100_mask_0.nii.gz\n",
      "2023-10-13 14:13:25,759 INFO image_writer.py:197 - writing: /home/vlermakov/Development/Nodules/Nodule-Detection-LUNA2016/processed_data_full_range_075mm/Rafosur__63530b62c0271909c1499bbf-5a89e35f08f37727-21/Rafosur__63530b62c0271909c1499bbf-5a89e35f08f37727-21_mask_0.nii.gz\n"
     ]
    },
    {
     "name": "stderr",
     "output_type": "stream",
     "text": [
      "Loading dataset:  91%|██████████████████████████████████████████████████████████████████████████████████████████████████████████████████████████████████████████████████████████████████████████████████████████████████████████▌                   | 553/606 [1:23:26<10:56, 12.38s/it]"
     ]
    },
    {
     "name": "stdout",
     "output_type": "stream",
     "text": [
      "2023-10-13 14:13:46,320 INFO image_writer.py:197 - writing: /home/vlermakov/Development/Nodules/Nodule-Detection-LUNA2016/processed_data_full_range_075mm/Etolut__63530d246d8ba20945492860-19e395f543b91db5-1/Etolut__63530d246d8ba20945492860-19e395f543b91db5-1_image_0.nii.gz\n",
      "2023-10-13 14:13:46,591 INFO image_writer.py:197 - writing: /home/vlermakov/Development/Nodules/Nodule-Detection-LUNA2016/processed_data_full_range_075mm/Etolut__63530d246d8ba20945492860-19e395f543b91db5-1/Etolut__63530d246d8ba20945492860-19e395f543b91db5-1_mask_0.nii.gz\n"
     ]
    },
    {
     "name": "stderr",
     "output_type": "stream",
     "text": [
      "\r",
      "Loading dataset:  92%|███████████████████████████████████████████████████████████████████████████████████████████████████████████████████████████████████████████████████████████████████████████████████████████████████████████▋                  | 556/606 [1:23:27<04:47,  5.75s/it]"
     ]
    },
    {
     "name": "stdout",
     "output_type": "stream",
     "text": [
      "2023-10-13 14:13:53,346 INFO image_writer.py:197 - writing: /home/vlermakov/Development/Nodules/Nodule-Detection-LUNA2016/processed_data_full_range_075mm/Froluju__63530e4fc0271909c1499bc1-e5d07572adebbdf3-1/Froluju__63530e4fc0271909c1499bc1-e5d07572adebbdf3-1_image_0.nii.gz\n",
      "2023-10-13 14:13:53,881 INFO image_writer.py:197 - writing: /home/vlermakov/Development/Nodules/Nodule-Detection-LUNA2016/processed_data_full_range_075mm/Froluju__63530e4fc0271909c1499bc1-e5d07572adebbdf3-1/Froluju__63530e4fc0271909c1499bc1-e5d07572adebbdf3-1_mask_0.nii.gz\n"
     ]
    },
    {
     "name": "stderr",
     "output_type": "stream",
     "text": [
      "\r",
      "Loading dataset:  92%|████████████████████████████████████████████████████████████████████████████████████████████████████████████████████████████████████████████████████████████████████████████████████████████████████████████                  | 557/606 [1:23:34<04:55,  6.03s/it]"
     ]
    },
    {
     "name": "stdout",
     "output_type": "stream",
     "text": [
      "2023-10-13 14:14:31,450 INFO image_writer.py:197 - writing: /home/vlermakov/Development/Nodules/Nodule-Detection-LUNA2016/processed_data_full_range_075mm/Afomid__63530d7c597a240925ac2548-875f2eacbe3313c0-1/Afomid__63530d7c597a240925ac2548-875f2eacbe3313c0-1_image_0.nii.gz\n",
      "2023-10-13 14:14:31,732 INFO image_writer.py:197 - writing: /home/vlermakov/Development/Nodules/Nodule-Detection-LUNA2016/processed_data_full_range_075mm/Afomid__63530d7c597a240925ac2548-875f2eacbe3313c0-1/Afomid__63530d7c597a240925ac2548-875f2eacbe3313c0-1_mask_0.nii.gz\n"
     ]
    },
    {
     "name": "stderr",
     "output_type": "stream",
     "text": [
      "\r",
      "Loading dataset:  92%|████████████████████████████████████████████████████████████████████████████████████████████████████████████████████████████████████████████████████████████████████████████████████████████████████████████▍                 | 558/606 [1:24:12<10:40, 13.34s/it]"
     ]
    },
    {
     "name": "stdout",
     "output_type": "stream",
     "text": [
      "2023-10-13 14:14:42,077 INFO image_writer.py:197 - writing: /home/vlermakov/Development/Nodules/Nodule-Detection-LUNA2016/processed_data_full_range_075mm/Raswizu__63531192a7e5600a0338d705-a35561487dff4e1c-1/Raswizu__63531192a7e5600a0338d705-a35561487dff4e1c-1_image_0.nii.gz\n",
      "2023-10-13 14:14:42,211 INFO image_writer.py:197 - writing: /home/vlermakov/Development/Nodules/Nodule-Detection-LUNA2016/processed_data_full_range_075mm/Ulekep__63530f19c0271909c1499bc2-e79e9a6918ae41c1-1/Ulekep__63530f19c0271909c1499bc2-e79e9a6918ae41c1-1_image_0.nii.gz\n",
      "2023-10-13 14:14:42,365 INFO image_writer.py:197 - writing: /home/vlermakov/Development/Nodules/Nodule-Detection-LUNA2016/processed_data_full_range_075mm/Raswizu__63531192a7e5600a0338d705-a35561487dff4e1c-1/Raswizu__63531192a7e5600a0338d705-a35561487dff4e1c-1_mask_0.nii.gz\n",
      "2023-10-13 14:14:42,644 INFO image_writer.py:197 - writing: /home/vlermakov/Development/Nodules/Nodule-Detection-LUNA2016/processed_data_full_range_075mm/Jeyaros__635310212de2980a3869a005-ab09b7e07fc358a5-1/Jeyaros__635310212de2980a3869a005-ab09b7e07fc358a5-1_image_0.nii.gz\n",
      "2023-10-13 14:14:42,654 INFO image_writer.py:197 - writing: /home/vlermakov/Development/Nodules/Nodule-Detection-LUNA2016/processed_data_full_range_075mm/Ulekep__63530f19c0271909c1499bc2-e79e9a6918ae41c1-1/Ulekep__63530f19c0271909c1499bc2-e79e9a6918ae41c1-1_mask_0.nii.gz\n",
      "2023-10-13 14:14:42,671 INFO image_writer.py:197 - writing: /home/vlermakov/Development/Nodules/Nodule-Detection-LUNA2016/processed_data_full_range_075mm/Frakapbad__63530fc5eb8f6009ab0fb1ce-49aaf835d941fba4-2/Frakapbad__63530fc5eb8f6009ab0fb1ce-49aaf835d941fba4-2_image_0.nii.gz\n",
      "2023-10-13 14:14:42,696 INFO image_writer.py:197 - writing: /home/vlermakov/Development/Nodules/Nodule-Detection-LUNA2016/processed_data_full_range_075mm/Frakapbad__63530fc5eb8f6009ab0fb1ce-49aaf835d941fba4-7/Frakapbad__63530fc5eb8f6009ab0fb1ce-49aaf835d941fba4-7_image_0.nii.gz\n",
      "2023-10-13 14:14:56,406 INFO image_writer.py:197 - writing: /home/vlermakov/Development/Nodules/Nodule-Detection-LUNA2016/processed_data_full_range_075mm/Jeyaros__635310212de2980a3869a005-ab09b7e07fc358a5-1/Jeyaros__635310212de2980a3869a005-ab09b7e07fc358a5-1_mask_0.nii.gz\n",
      "2023-10-13 14:14:56,429 INFO image_writer.py:197 - writing: /home/vlermakov/Development/Nodules/Nodule-Detection-LUNA2016/processed_data_full_range_075mm/Frakapbad__63530fc5eb8f6009ab0fb1ce-49aaf835d941fba4-2/Frakapbad__63530fc5eb8f6009ab0fb1ce-49aaf835d941fba4-2_mask_0.nii.gz\n",
      "2023-10-13 14:14:56,441 INFO image_writer.py:197 - writing: /home/vlermakov/Development/Nodules/Nodule-Detection-LUNA2016/processed_data_full_range_075mm/Eyookir__63530ec56d8ba20945492861-de328763596a11a8-1/Eyookir__63530ec56d8ba20945492861-de328763596a11a8-1_image_0.nii.gz\n",
      "2023-10-13 14:14:56,516 INFO image_writer.py:197 - writing: /home/vlermakov/Development/Nodules/Nodule-Detection-LUNA2016/processed_data_full_range_075mm/Dooflaho__63530f806d8ba20945492862-072689b5ca85d0a2-1/Dooflaho__63530f806d8ba20945492862-072689b5ca85d0a2-1_image_0.nii.gz\n",
      "2023-10-13 14:14:56,519 INFO image_writer.py:197 - writing: /home/vlermakov/Development/Nodules/Nodule-Detection-LUNA2016/processed_data_full_range_075mm/Frakapbad__63530fc5eb8f6009ab0fb1ce-49aaf835d941fba4-7/Frakapbad__63530fc5eb8f6009ab0fb1ce-49aaf835d941fba4-7_mask_0.nii.gz\n"
     ]
    },
    {
     "name": "stderr",
     "output_type": "stream",
     "text": [
      "\r",
      "Loading dataset:  92%|████████████████████████████████████████████████████████████████████████████████████████████████████████████████████████████████████████████████████████████████████████████████████████████████████████████▊                 | 559/606 [1:24:36<12:33, 16.03s/it]"
     ]
    },
    {
     "name": "stdout",
     "output_type": "stream",
     "text": [
      "2023-10-13 14:15:15,938 INFO image_writer.py:197 - writing: /home/vlermakov/Development/Nodules/Nodule-Detection-LUNA2016/processed_data_full_range_075mm/Eyookir__63530ec56d8ba20945492861-de328763596a11a8-1/Eyookir__63530ec56d8ba20945492861-de328763596a11a8-1_mask_0.nii.gz\n"
     ]
    },
    {
     "name": "stderr",
     "output_type": "stream",
     "text": [
      "IOStream.flush timed out\n"
     ]
    },
    {
     "name": "stdout",
     "output_type": "stream",
     "text": [
      "2023-10-13 14:15:15,958 INFO image_writer.py:197 - writing: /home/vlermakov/Development/Nodules/Nodule-Detection-LUNA2016/processed_data_full_range_075mm/Dooflaho__63530f806d8ba20945492862-072689b5ca85d0a2-1/Dooflaho__63530f806d8ba20945492862-072689b5ca85d0a2-1_mask_0.nii.gz\n"
     ]
    },
    {
     "name": "stderr",
     "output_type": "stream",
     "text": [
      "Loading dataset:  93%|█████████████████████████████████████████████████████████████████████████████████████████████████████████████████████████████████████████████████████████████████████████████████████████████████████████████▉                | 562/606 [1:25:08<08:32, 11.65s/it]"
     ]
    },
    {
     "name": "stdout",
     "output_type": "stream",
     "text": [
      "2023-10-13 14:15:50,869 INFO image_writer.py:197 - writing: /home/vlermakov/Development/Nodules/Nodule-Detection-LUNA2016/processed_data_full_range_075mm/Hadaseb__63532b486d8ba20945492871-cea5c802b75e489a-1/Hadaseb__63532b486d8ba20945492871-cea5c802b75e489a-1_image_0.nii.gz\n",
      "2023-10-13 14:15:51,470 INFO image_writer.py:197 - writing: /home/vlermakov/Development/Nodules/Nodule-Detection-LUNA2016/processed_data_full_range_075mm/Hadaseb__63532b486d8ba20945492871-cea5c802b75e489a-1/Hadaseb__63532b486d8ba20945492871-cea5c802b75e489a-1_mask_0.nii.gz\n",
      "2023-10-13 14:15:51,708 INFO image_writer.py:197 - writing: /home/vlermakov/Development/Nodules/Nodule-Detection-LUNA2016/processed_data_full_range_075mm/Sufourog__635311d4c0271909c1499bc4-abaf860bda383fc8-1/Sufourog__635311d4c0271909c1499bc4-abaf860bda383fc8-1_image_0.nii.gz\n",
      "2023-10-13 14:15:57,964 INFO image_writer.py:197 - writing: /home/vlermakov/Development/Nodules/Nodule-Detection-LUNA2016/processed_data_full_range_075mm/Sufourog__635311d4c0271909c1499bc4-abaf860bda383fc8-1/Sufourog__635311d4c0271909c1499bc4-abaf860bda383fc8-1_mask_0.nii.gz\n"
     ]
    },
    {
     "name": "stderr",
     "output_type": "stream",
     "text": [
      "Loading dataset:  94%|███████████████████████████████████████████████████████████████████████████████████████████████████████████████████████████████████████████████████████████████████████████████████████████████████████████████▋              | 567/606 [1:25:44<05:31,  8.51s/it]"
     ]
    },
    {
     "name": "stdout",
     "output_type": "stream",
     "text": [
      "2023-10-13 14:16:06,397 INFO image_writer.py:197 - writing: /home/vlermakov/Development/Nodules/Nodule-Detection-LUNA2016/processed_data_full_range_075mm/Unoonur__6355a7ea8ccb640a52e9458a-1b9d030d032f708f-3/Unoonur__6355a7ea8ccb640a52e9458a-1b9d030d032f708f-3_image_0.nii.gz\n",
      "2023-10-13 14:16:06,559 INFO image_writer.py:197 - writing: /home/vlermakov/Development/Nodules/Nodule-Detection-LUNA2016/processed_data_full_range_075mm/Phukrezee__63532c73e6c80f09b2414b92-8c65ba4e5ff96ad4-1/Phukrezee__63532c73e6c80f09b2414b92-8c65ba4e5ff96ad4-1_image_0.nii.gz\n",
      "2023-10-13 14:16:07,528 INFO image_writer.py:197 - writing: /home/vlermakov/Development/Nodules/Nodule-Detection-LUNA2016/processed_data_full_range_075mm/Unoonur__6355a7ea8ccb640a52e9458a-1b9d030d032f708f-3/Unoonur__6355a7ea8ccb640a52e9458a-1b9d030d032f708f-3_mask_0.nii.gz\n",
      "2023-10-13 14:16:08,132 INFO image_writer.py:197 - writing: /home/vlermakov/Development/Nodules/Nodule-Detection-LUNA2016/processed_data_full_range_075mm/Phukrezee__63532c73e6c80f09b2414b92-8c65ba4e5ff96ad4-1/Phukrezee__63532c73e6c80f09b2414b92-8c65ba4e5ff96ad4-1_mask_0.nii.gz\n"
     ]
    },
    {
     "name": "stderr",
     "output_type": "stream",
     "text": [
      "Loading dataset:  94%|████████████████████████████████████████████████████████████████████████████████████████████████████████████████████████████████████████████████████████████████████████████████████████████████████████████████▍             | 569/606 [1:26:01<04:54,  7.96s/it]"
     ]
    },
    {
     "name": "stdout",
     "output_type": "stream",
     "text": [
      "2023-10-13 14:16:23,561 INFO image_writer.py:197 - writing: /home/vlermakov/Development/Nodules/Nodule-Detection-LUNA2016/processed_data_full_range_075mm/Nadoji__62ab91eab8e1e609f6b236b0-e89dc6d69096f5b5-1/Nadoji__62ab91eab8e1e609f6b236b0-e89dc6d69096f5b5-1_image_0.nii.gz\n",
      "2023-10-13 14:16:23,775 INFO image_writer.py:197 - writing: /home/vlermakov/Development/Nodules/Nodule-Detection-LUNA2016/processed_data_full_range_075mm/Coofapas__6355a8a4fa791c099aa28b37-d0c28a26af8e2699-3/Coofapas__6355a8a4fa791c099aa28b37-d0c28a26af8e2699-3_image_0.nii.gz\n",
      "2023-10-13 14:16:23,813 INFO image_writer.py:197 - writing: /home/vlermakov/Development/Nodules/Nodule-Detection-LUNA2016/processed_data_full_range_075mm/Quecuge__6355a89d95024c09500a02cd-8d0b514601b6dd5f-2/Quecuge__6355a89d95024c09500a02cd-8d0b514601b6dd5f-2_image_0.nii.gz\n",
      "2023-10-13 14:16:23,922 INFO image_writer.py:197 - writing: /home/vlermakov/Development/Nodules/Nodule-Detection-LUNA2016/processed_data_full_range_075mm/Cooseero__62a838189b340a097e1aea12-cfc0327071c0901c-1/Cooseero__62a838189b340a097e1aea12-cfc0327071c0901c-1_image_0.nii.gz\n",
      "2023-10-13 14:16:24,593 INFO image_writer.py:197 - writing: /home/vlermakov/Development/Nodules/Nodule-Detection-LUNA2016/processed_data_full_range_075mm/Nadoji__62ab91eab8e1e609f6b236b0-e89dc6d69096f5b5-1/Nadoji__62ab91eab8e1e609f6b236b0-e89dc6d69096f5b5-1_mask_0.nii.gz\n",
      "2023-10-13 14:16:24,858 INFO image_writer.py:197 - writing: /home/vlermakov/Development/Nodules/Nodule-Detection-LUNA2016/processed_data_full_range_075mm/Coofapas__6355a8a4fa791c099aa28b37-d0c28a26af8e2699-3/Coofapas__6355a8a4fa791c099aa28b37-d0c28a26af8e2699-3_mask_0.nii.gz\n",
      "2023-10-13 14:16:24,918 INFO image_writer.py:197 - writing: /home/vlermakov/Development/Nodules/Nodule-Detection-LUNA2016/processed_data_full_range_075mm/Cooseero__62a838189b340a097e1aea12-cfc0327071c0901c-1/Cooseero__62a838189b340a097e1aea12-cfc0327071c0901c-1_mask_0.nii.gz\n",
      "2023-10-13 14:16:24,944 INFO image_writer.py:197 - writing: /home/vlermakov/Development/Nodules/Nodule-Detection-LUNA2016/processed_data_full_range_075mm/Quecuge__6355a89d95024c09500a02cd-8d0b514601b6dd5f-2/Quecuge__6355a89d95024c09500a02cd-8d0b514601b6dd5f-2_mask_0.nii.gz\n"
     ]
    },
    {
     "name": "stderr",
     "output_type": "stream",
     "text": [
      "Loading dataset:  94%|█████████████████████████████████████████████████████████████████████████████████████████████████████████████████████████████████████████████████████████████████████████████████████████████████████████████████▌            | 572/606 [1:26:25<03:58,  7.02s/it]"
     ]
    },
    {
     "name": "stdout",
     "output_type": "stream",
     "text": [
      "2023-10-13 14:16:53,346 INFO image_writer.py:197 - writing: /home/vlermakov/Development/Nodules/Nodule-Detection-LUNA2016/processed_data_full_range_075mm/Nadoji__62ab91eab8e1e609f6b236b0-e89dc6d69096f5b5-2/Nadoji__62ab91eab8e1e609f6b236b0-e89dc6d69096f5b5-2_image_0.nii.gz\n",
      "2023-10-13 14:16:53,465 INFO image_writer.py:197 - writing: /home/vlermakov/Development/Nodules/Nodule-Detection-LUNA2016/processed_data_full_range_075mm/Nadoji__62ab91eab8e1e609f6b236b0-e89dc6d69096f5b5-2/Nadoji__62ab91eab8e1e609f6b236b0-e89dc6d69096f5b5-2_mask_0.nii.gz\n"
     ]
    },
    {
     "name": "stderr",
     "output_type": "stream",
     "text": [
      "\r",
      "Loading dataset:  95%|██████████████████████████████████████████████████████████████████████████████████████████████████████████████████████████████████████████████████████████████████████████████████████████████████████████████████▎           | 574/606 [1:26:33<03:07,  5.87s/it]"
     ]
    },
    {
     "name": "stdout",
     "output_type": "stream",
     "text": [
      "2023-10-13 14:17:11,765 INFO image_writer.py:197 - writing: /home/vlermakov/Development/Nodules/Nodule-Detection-LUNA2016/processed_data_full_range_075mm/Dajica__63530902aa4c9209d34e681a-732762133acc424e-1/Dajica__63530902aa4c9209d34e681a-732762133acc424e-1_image_0.nii.gz\n",
      "2023-10-13 14:17:11,765 INFO image_writer.py:197 - writing: /home/vlermakov/Development/Nodules/Nodule-Detection-LUNA2016/processed_data_full_range_075mm/Huciku__635309d9a7e5600a0338d703-07af53888498ca85-1/Huciku__635309d9a7e5600a0338d703-07af53888498ca85-1_image_0.nii.gz\n",
      "2023-10-13 14:17:11,980 INFO image_writer.py:197 - writing: /home/vlermakov/Development/Nodules/Nodule-Detection-LUNA2016/processed_data_full_range_075mm/Dajica__63530902aa4c9209d34e681a-732762133acc424e-1/Dajica__63530902aa4c9209d34e681a-732762133acc424e-1_mask_0.nii.gz\n",
      "2023-10-13 14:17:12,029 INFO image_writer.py:197 - writing: /home/vlermakov/Development/Nodules/Nodule-Detection-LUNA2016/processed_data_full_range_075mm/Huciku__635309d9a7e5600a0338d703-07af53888498ca85-1/Huciku__635309d9a7e5600a0338d703-07af53888498ca85-1_mask_0.nii.gz\n",
      "2023-10-13 14:17:24,571 INFO image_writer.py:197 - writing: /home/vlermakov/Development/Nodules/Nodule-Detection-LUNA2016/processed_data_full_range_075mm/Huciku__635309d9a7e5600a0338d703-07af53888498ca85-2/Huciku__635309d9a7e5600a0338d703-07af53888498ca85-2_image_0.nii.gz\n",
      "2023-10-13 14:17:25,192 INFO image_writer.py:197 - writing: /home/vlermakov/Development/Nodules/Nodule-Detection-LUNA2016/processed_data_full_range_075mm/Huciku__635309d9a7e5600a0338d703-07af53888498ca85-2/Huciku__635309d9a7e5600a0338d703-07af53888498ca85-2_mask_0.nii.gz\n"
     ]
    },
    {
     "name": "stderr",
     "output_type": "stream",
     "text": [
      "Loading dataset:  95%|███████████████████████████████████████████████████████████████████████████████████████████████████████████████████████████████████████████████████████████████████████████████████████████████████████████████████           | 576/606 [1:27:15<05:44, 11.50s/it]"
     ]
    },
    {
     "name": "stdout",
     "output_type": "stream",
     "text": [
      "2023-10-13 14:17:36,774 INFO image_writer.py:197 - writing: /home/vlermakov/Development/Nodules/Nodule-Detection-LUNA2016/processed_data_full_range_075mm/Bunique__6353092aaa4c9209d34e681b-7bddb5a38e1fd5a9-2/Bunique__6353092aaa4c9209d34e681b-7bddb5a38e1fd5a9-2_image_0.nii.gz\n",
      "2023-10-13 14:17:36,800 INFO image_writer.py:197 - writing: /home/vlermakov/Development/Nodules/Nodule-Detection-LUNA2016/processed_data_full_range_075mm/Bunique__6353092aaa4c9209d34e681b-7bddb5a38e1fd5a9-1/Bunique__6353092aaa4c9209d34e681b-7bddb5a38e1fd5a9-1_image_0.nii.gz\n",
      "2023-10-13 14:17:37,122 INFO image_writer.py:197 - writing: /home/vlermakov/Development/Nodules/Nodule-Detection-LUNA2016/processed_data_full_range_075mm/Bunique__6353092aaa4c9209d34e681b-7bddb5a38e1fd5a9-2/Bunique__6353092aaa4c9209d34e681b-7bddb5a38e1fd5a9-2_mask_0.nii.gz\n",
      "2023-10-13 14:17:37,124 INFO image_writer.py:197 - writing: /home/vlermakov/Development/Nodules/Nodule-Detection-LUNA2016/processed_data_full_range_075mm/Dajica__63530902aa4c9209d34e681a-732762133acc424e-2/Dajica__63530902aa4c9209d34e681a-732762133acc424e-2_image_0.nii.gz\n",
      "2023-10-13 14:17:37,152 INFO image_writer.py:197 - writing: /home/vlermakov/Development/Nodules/Nodule-Detection-LUNA2016/processed_data_full_range_075mm/Bunique__6353092aaa4c9209d34e681b-7bddb5a38e1fd5a9-1/Bunique__6353092aaa4c9209d34e681b-7bddb5a38e1fd5a9-1_mask_0.nii.gz\n",
      "2023-10-13 14:17:37,246 INFO image_writer.py:197 - writing: /home/vlermakov/Development/Nodules/Nodule-Detection-LUNA2016/processed_data_full_range_075mm/Dajica__63530902aa4c9209d34e681a-732762133acc424e-2/Dajica__63530902aa4c9209d34e681a-732762133acc424e-2_mask_0.nii.gz\n"
     ]
    },
    {
     "name": "stderr",
     "output_type": "stream",
     "text": [
      "Loading dataset:  96%|████████████████████████████████████████████████████████████████████████████████████████████████████████████████████████████████████████████████████████████████████████████████████████████████████████████████████▍         | 580/606 [1:27:33<02:42,  6.25s/it]"
     ]
    },
    {
     "name": "stdout",
     "output_type": "stream",
     "text": [
      "2023-10-13 14:17:54,522 INFO image_writer.py:197 - writing: /home/vlermakov/Development/Nodules/Nodule-Detection-LUNA2016/processed_data_full_range_075mm/Bramanas__635309eeaa4c9209d34e681d-26e73116101ae708-1/Bramanas__635309eeaa4c9209d34e681d-26e73116101ae708-1_image_0.nii.gz\n",
      "2023-10-13 14:17:54,828 INFO image_writer.py:197 - writing: /home/vlermakov/Development/Nodules/Nodule-Detection-LUNA2016/processed_data_full_range_075mm/Bramanas__635309eeaa4c9209d34e681d-26e73116101ae708-1/Bramanas__635309eeaa4c9209d34e681d-26e73116101ae708-1_mask_0.nii.gz\n"
     ]
    },
    {
     "name": "stderr",
     "output_type": "stream",
     "text": [
      "\r",
      "Loading dataset:  96%|████████████████████████████████████████████████████████████████████████████████████████████████████████████████████████████████████████████████████████████████████████████████████████████████████████████████████▊         | 581/606 [1:27:38<02:27,  5.89s/it]"
     ]
    },
    {
     "name": "stdout",
     "output_type": "stream",
     "text": [
      "2023-10-13 14:18:15,189 INFO image_writer.py:197 - writing: /home/vlermakov/Development/Nodules/Nodule-Detection-LUNA2016/processed_data_full_range_075mm/Quuquilep__6353097aaa4c9209d34e681c-7f73f357d70dd009-1/Quuquilep__6353097aaa4c9209d34e681c-7f73f357d70dd009-1_image_0.nii.gz\n",
      "2023-10-13 14:18:15,293 INFO image_writer.py:197 - writing: /home/vlermakov/Development/Nodules/Nodule-Detection-LUNA2016/processed_data_full_range_075mm/Quuquilep__6353097aaa4c9209d34e681c-7f73f357d70dd009-1/Quuquilep__6353097aaa4c9209d34e681c-7f73f357d70dd009-1_mask_0.nii.gz\n"
     ]
    },
    {
     "name": "stderr",
     "output_type": "stream",
     "text": [
      "\r",
      "Loading dataset:  96%|█████████████████████████████████████████████████████████████████████████████████████████████████████████████████████████████████████████████████████████████████████████████████████████████████████████████████████▏        | 582/606 [1:27:55<03:37,  9.07s/it]"
     ]
    },
    {
     "name": "stdout",
     "output_type": "stream",
     "text": [
      "2023-10-13 14:18:38,688 INFO image_writer.py:197 - writing: /home/vlermakov/Development/Nodules/Nodule-Detection-LUNA2016/processed_data_full_range_075mm/Beelelu__6355ba43598190094ceca607-bcfda7a6b3538a9a-1/Beelelu__6355ba43598190094ceca607-bcfda7a6b3538a9a-1_image_0.nii.gz\n",
      "2023-10-13 14:18:38,837 INFO image_writer.py:197 - writing: /home/vlermakov/Development/Nodules/Nodule-Detection-LUNA2016/processed_data_full_range_075mm/Alnpatik__622a977367dfcd09d817fda8-b4299efea612b16c-1/Alnpatik__622a977367dfcd09d817fda8-b4299efea612b16c-1_image_0.nii.gz\n",
      "2023-10-13 14:18:38,839 INFO image_writer.py:197 - writing: /home/vlermakov/Development/Nodules/Nodule-Detection-LUNA2016/processed_data_full_range_075mm/Puguxiep__622c307ecdcbae0af0b121d6-80ca379e7737a178-1/Puguxiep__622c307ecdcbae0af0b121d6-80ca379e7737a178-1_image_0.nii.gz\n",
      "2023-10-13 14:18:39,021 INFO image_writer.py:197 - writing: /home/vlermakov/Development/Nodules/Nodule-Detection-LUNA2016/processed_data_full_range_075mm/Beelelu__6355ba43598190094ceca607-bcfda7a6b3538a9a-1/Beelelu__6355ba43598190094ceca607-bcfda7a6b3538a9a-1_mask_0.nii.gz\n",
      "2023-10-13 14:18:39,070 INFO image_writer.py:197 - writing: /home/vlermakov/Development/Nodules/Nodule-Detection-LUNA2016/processed_data_full_range_075mm/Puguxiep__622c307ecdcbae0af0b121d6-80ca379e7737a178-1/Puguxiep__622c307ecdcbae0af0b121d6-80ca379e7737a178-1_mask_0.nii.gz\n",
      "2023-10-13 14:18:39,085 INFO image_writer.py:197 - writing: /home/vlermakov/Development/Nodules/Nodule-Detection-LUNA2016/processed_data_full_range_075mm/Alnpatik__622a977367dfcd09d817fda8-b4299efea612b16c-1/Alnpatik__622a977367dfcd09d817fda8-b4299efea612b16c-1_mask_0.nii.gz\n",
      "2023-10-13 14:18:50,033 INFO image_writer.py:197 - writing: /home/vlermakov/Development/Nodules/Nodule-Detection-LUNA2016/processed_data_full_range_075mm/Paparser__6355b5aab94283092337778f-842bcbc8c871595f-1/Paparser__6355b5aab94283092337778f-842bcbc8c871595f-1_image_0.nii.gz\n",
      "2023-10-13 14:18:56,103 INFO image_writer.py:197 - writing: /home/vlermakov/Development/Nodules/Nodule-Detection-LUNA2016/processed_data_full_range_075mm/Paparser__6355b5aab94283092337778f-842bcbc8c871595f-1/Paparser__6355b5aab94283092337778f-842bcbc8c871595f-1_mask_0.nii.gz\n",
      "2023-10-13 14:19:04,564 INFO image_writer.py:197 - writing: /home/vlermakov/Development/Nodules/Nodule-Detection-LUNA2016/processed_data_full_range_075mm/Omlolit__6355b59fc7e6b9094adfc993-6990441f7eff0dca-1/Omlolit__6355b59fc7e6b9094adfc993-6990441f7eff0dca-1_image_0.nii.gz\n",
      "2023-10-13 14:19:05,162 INFO image_writer.py:197 - writing: /home/vlermakov/Development/Nodules/Nodule-Detection-LUNA2016/processed_data_full_range_075mm/Omlolit__6355b59fc7e6b9094adfc993-6990441f7eff0dca-1/Omlolit__6355b59fc7e6b9094adfc993-6990441f7eff0dca-1_mask_0.nii.gz\n",
      "2023-10-13 14:19:05,246 INFO image_writer.py:197 - writing: /home/vlermakov/Development/Nodules/Nodule-Detection-LUNA2016/processed_data_full_range_075mm/Pihoko__6355b5a1598190094ceca604-f1e95e570081e969-1/Pihoko__6355b5a1598190094ceca604-f1e95e570081e969-1_image_0.nii.gz\n",
      "2023-10-13 14:19:05,382 INFO image_writer.py:197 - writing: /home/vlermakov/Development/Nodules/Nodule-Detection-LUNA2016/processed_data_full_range_075mm/Pihoko__6355b5a1598190094ceca604-f1e95e570081e969-1/Pihoko__6355b5a1598190094ceca604-f1e95e570081e969-1_mask_0.nii.gz\n"
     ]
    },
    {
     "name": "stderr",
     "output_type": "stream",
     "text": [
      "Loading dataset:  96%|█████████████████████████████████████████████████████████████████████████████████████████████████████████████████████████████████████████████████████████████████████████████████████████████████████████████████████▉        | 584/606 [1:28:57<06:36, 18.03s/it]"
     ]
    },
    {
     "name": "stdout",
     "output_type": "stream",
     "text": [
      "2023-10-13 14:19:18,196 INFO image_writer.py:197 - writing: /home/vlermakov/Development/Nodules/Nodule-Detection-LUNA2016/processed_data_full_range_075mm/Loomako__651b8b6d885009ff8214da9c-4b40834adb8634d0-1/Loomako__651b8b6d885009ff8214da9c-4b40834adb8634d0-1_image_0.nii.gz\n",
      "2023-10-13 14:19:18,616 INFO image_writer.py:197 - writing: /home/vlermakov/Development/Nodules/Nodule-Detection-LUNA2016/processed_data_full_range_075mm/Loomako__651b8b6d885009ff8214da9c-4b40834adb8634d0-1/Loomako__651b8b6d885009ff8214da9c-4b40834adb8634d0-1_mask_0.nii.gz\n"
     ]
    },
    {
     "name": "stderr",
     "output_type": "stream",
     "text": [
      "Loading dataset:  97%|███████████████████████████████████████████████████████████████████████████████████████████████████████████████████████████████████████████████████████████████████████████████████████████████████████████████████████▊      | 589/606 [1:29:04<02:34,  9.07s/it]\n"
     ]
    },
    {
     "ename": "RuntimeError",
     "evalue": "applying transform <monai.transforms.io.dictionary.LoadImaged object at 0x7f8dc1066610>",
     "output_type": "error",
     "traceback": [
      "\u001b[0;31m---------------------------------------------------------------------------\u001b[0m",
      "\u001b[0;31mRuntimeError\u001b[0m                              Traceback (most recent call last)",
      "File \u001b[0;32m~/miniconda3/envs/nodules/lib/python3.11/site-packages/monai/transforms/transform.py:141\u001b[0m, in \u001b[0;36mapply_transform\u001b[0;34m(transform, data, map_items, unpack_items, log_stats, lazy, overrides)\u001b[0m\n\u001b[1;32m    140\u001b[0m         \u001b[38;5;28;01mreturn\u001b[39;00m [_apply_transform(transform, item, unpack_items, lazy, overrides, log_stats) \u001b[38;5;28;01mfor\u001b[39;00m item \u001b[38;5;129;01min\u001b[39;00m data]\n\u001b[0;32m--> 141\u001b[0m     \u001b[38;5;28;01mreturn\u001b[39;00m _apply_transform(transform, data, unpack_items, lazy, overrides, log_stats)\n\u001b[1;32m    142\u001b[0m \u001b[38;5;28;01mexcept\u001b[39;00m \u001b[38;5;167;01mException\u001b[39;00m \u001b[38;5;28;01mas\u001b[39;00m e:\n\u001b[1;32m    143\u001b[0m     \u001b[38;5;66;03m# if in debug mode, don't swallow exception so that the breakpoint\u001b[39;00m\n\u001b[1;32m    144\u001b[0m     \u001b[38;5;66;03m# appears where the exception was raised.\u001b[39;00m\n",
      "File \u001b[0;32m~/miniconda3/envs/nodules/lib/python3.11/site-packages/monai/transforms/transform.py:98\u001b[0m, in \u001b[0;36m_apply_transform\u001b[0;34m(transform, data, unpack_parameters, lazy, overrides, logger_name)\u001b[0m\n\u001b[1;32m     96\u001b[0m     \u001b[38;5;28;01mreturn\u001b[39;00m transform(\u001b[38;5;241m*\u001b[39mdata, lazy\u001b[38;5;241m=\u001b[39mlazy) \u001b[38;5;28;01mif\u001b[39;00m \u001b[38;5;28misinstance\u001b[39m(transform, LazyTrait) \u001b[38;5;28;01melse\u001b[39;00m transform(\u001b[38;5;241m*\u001b[39mdata)\n\u001b[0;32m---> 98\u001b[0m \u001b[38;5;28;01mreturn\u001b[39;00m transform(data, lazy\u001b[38;5;241m=\u001b[39mlazy) \u001b[38;5;28;01mif\u001b[39;00m \u001b[38;5;28misinstance\u001b[39m(transform, LazyTrait) \u001b[38;5;28;01melse\u001b[39;00m transform(data)\n",
      "File \u001b[0;32m~/miniconda3/envs/nodules/lib/python3.11/site-packages/monai/transforms/io/dictionary.py:164\u001b[0m, in \u001b[0;36mLoadImaged.__call__\u001b[0;34m(self, data, reader)\u001b[0m\n\u001b[1;32m    163\u001b[0m \u001b[38;5;28;01mfor\u001b[39;00m key, meta_key, meta_key_postfix \u001b[38;5;129;01min\u001b[39;00m \u001b[38;5;28mself\u001b[39m\u001b[38;5;241m.\u001b[39mkey_iterator(d, \u001b[38;5;28mself\u001b[39m\u001b[38;5;241m.\u001b[39mmeta_keys, \u001b[38;5;28mself\u001b[39m\u001b[38;5;241m.\u001b[39mmeta_key_postfix):\n\u001b[0;32m--> 164\u001b[0m     data \u001b[38;5;241m=\u001b[39m \u001b[38;5;28mself\u001b[39m\u001b[38;5;241m.\u001b[39m_loader(d[key], reader)\n\u001b[1;32m    165\u001b[0m     \u001b[38;5;28;01mif\u001b[39;00m \u001b[38;5;28mself\u001b[39m\u001b[38;5;241m.\u001b[39m_loader\u001b[38;5;241m.\u001b[39mimage_only:\n",
      "File \u001b[0;32m~/miniconda3/envs/nodules/lib/python3.11/site-packages/monai/transforms/io/array.py:263\u001b[0m, in \u001b[0;36mLoadImage.__call__\u001b[0;34m(self, filename, reader)\u001b[0m\n\u001b[1;32m    262\u001b[0m \u001b[38;5;28;01mif\u001b[39;00m reader\u001b[38;5;241m.\u001b[39mverify_suffix(filename):\n\u001b[0;32m--> 263\u001b[0m     img \u001b[38;5;241m=\u001b[39m reader\u001b[38;5;241m.\u001b[39mread(filename)\n\u001b[1;32m    264\u001b[0m     \u001b[38;5;28;01mbreak\u001b[39;00m\n",
      "File \u001b[0;32m~/miniconda3/envs/nodules/lib/python3.11/site-packages/monai/data/image_reader.py:257\u001b[0m, in \u001b[0;36mITKReader.read\u001b[0;34m(self, data, **kwargs)\u001b[0m\n\u001b[1;32m    256\u001b[0m     \u001b[38;5;28;01melse\u001b[39;00m:\n\u001b[0;32m--> 257\u001b[0m         img_\u001b[38;5;241m.\u001b[39mappend(itk\u001b[38;5;241m.\u001b[39mimread(name, \u001b[38;5;241m*\u001b[39m\u001b[38;5;241m*\u001b[39mkwargs_))\n\u001b[1;32m    258\u001b[0m \u001b[38;5;28;01mreturn\u001b[39;00m img_ \u001b[38;5;28;01mif\u001b[39;00m \u001b[38;5;28mlen\u001b[39m(filenames) \u001b[38;5;241m>\u001b[39m \u001b[38;5;241m1\u001b[39m \u001b[38;5;28;01melse\u001b[39;00m img_[\u001b[38;5;241m0\u001b[39m]\n",
      "File \u001b[0;32m~/miniconda3/envs/nodules/lib/python3.11/site-packages/itk/support/extras.py:1293\u001b[0m, in \u001b[0;36mimread\u001b[0;34m(filename, pixel_type, fallback_only, imageio)\u001b[0m\n\u001b[1;32m   1292\u001b[0m \u001b[38;5;28;01melse\u001b[39;00m:\n\u001b[0;32m-> 1293\u001b[0m     reader \u001b[38;5;241m=\u001b[39m template_reader_type\u001b[38;5;241m.\u001b[39mNew(\u001b[38;5;241m*\u001b[39m\u001b[38;5;241m*\u001b[39mkwargs)\n\u001b[1;32m   1294\u001b[0m reader\u001b[38;5;241m.\u001b[39mUpdate()\n",
      "File \u001b[0;32m~/miniconda3/envs/nodules/lib/python3.11/site-packages/itk/support/template_class.py:661\u001b[0m, in \u001b[0;36mitkTemplate.New\u001b[0;34m(self, *args, **kwargs)\u001b[0m\n\u001b[1;32m    660\u001b[0m \u001b[38;5;28;01mif\u001b[39;00m \u001b[38;5;28mself\u001b[39m\u001b[38;5;241m.\u001b[39m\u001b[38;5;18m__name__\u001b[39m \u001b[38;5;241m==\u001b[39m \u001b[38;5;124m\"\u001b[39m\u001b[38;5;124mitk::ImageFileReader\u001b[39m\u001b[38;5;124m\"\u001b[39m:\n\u001b[0;32m--> 661\u001b[0m     \u001b[38;5;28;01mreturn\u001b[39;00m \u001b[38;5;28mself\u001b[39m\u001b[38;5;241m.\u001b[39m_NewImageReader(\n\u001b[1;32m    662\u001b[0m         itk\u001b[38;5;241m.\u001b[39mImageFileReader, \u001b[38;5;28;01mFalse\u001b[39;00m, \u001b[38;5;124m\"\u001b[39m\u001b[38;5;124mFileName\u001b[39m\u001b[38;5;124m\"\u001b[39m, \u001b[38;5;241m*\u001b[39margs, \u001b[38;5;241m*\u001b[39m\u001b[38;5;241m*\u001b[39mkwargs\n\u001b[1;32m    663\u001b[0m     )\n\u001b[1;32m    664\u001b[0m \u001b[38;5;28;01melif\u001b[39;00m \u001b[38;5;28mself\u001b[39m\u001b[38;5;241m.\u001b[39m\u001b[38;5;18m__name__\u001b[39m \u001b[38;5;241m==\u001b[39m \u001b[38;5;124m\"\u001b[39m\u001b[38;5;124mitk::ImageSeriesReader\u001b[39m\u001b[38;5;124m\"\u001b[39m:\n\u001b[1;32m    665\u001b[0m     \u001b[38;5;66;03m# Only support `FileNames`, not `FileName`, to simplify the logic and avoid having\u001b[39;00m\n\u001b[1;32m    666\u001b[0m     \u001b[38;5;66;03m# to deal with checking if both keyword arguments are given.\u001b[39;00m\n",
      "File \u001b[0;32m~/miniconda3/envs/nodules/lib/python3.11/site-packages/itk/support/template_class.py:160\u001b[0m, in \u001b[0;36mitkTemplate._NewImageReader\u001b[0;34m(TemplateReaderType, increase_dimension, primaryInputMethod, *args, **kwargs)\u001b[0m\n\u001b[1;32m    159\u001b[0m         msg \u001b[38;5;241m+\u001b[39m\u001b[38;5;241m=\u001b[39m \u001b[38;5;124m\"\u001b[39m\u001b[38;5;130;01m\\n\u001b[39;00m\u001b[38;5;124mThe file doesn\u001b[39m\u001b[38;5;124m'\u001b[39m\u001b[38;5;124mt exist. \u001b[39m\u001b[38;5;130;01m\\n\u001b[39;00m\u001b[38;5;124m\"\u001b[39m \u001b[38;5;241m+\u001b[39m \u001b[38;5;124mf\u001b[39m\u001b[38;5;124m\"\u001b[39m\u001b[38;5;124mFilename = \u001b[39m\u001b[38;5;132;01m{\u001b[39;00minputFileName\u001b[38;5;132;01m}\u001b[39;00m\u001b[38;5;124m\"\u001b[39m\n\u001b[0;32m--> 160\u001b[0m     \u001b[38;5;28;01mraise\u001b[39;00m \u001b[38;5;167;01mRuntimeError\u001b[39;00m(\n\u001b[1;32m    161\u001b[0m         \u001b[38;5;124mf\u001b[39m\u001b[38;5;124m\"\u001b[39m\u001b[38;5;124mCould not create IO object for reading file \u001b[39m\u001b[38;5;132;01m{\u001b[39;00minputFileName\u001b[38;5;132;01m}\u001b[39;00m\u001b[38;5;124m\"\u001b[39m \u001b[38;5;241m+\u001b[39m msg\n\u001b[1;32m    162\u001b[0m     )\n\u001b[1;32m    163\u001b[0m \u001b[38;5;66;03m# Read the metadata from the image file.\u001b[39;00m\n",
      "\u001b[0;31mRuntimeError\u001b[0m: Could not create IO object for reading file /media/vlermakov/data/UCSDNodules/Metastatic/data/Woroxof__2.25.260876099222205460618271003114894681227/2.25.260876099222205460618271003114894681227/2.25.314316397946104988922756588776690923298\nThe file doesn't exist. \nFilename = /media/vlermakov/data/UCSDNodules/Metastatic/data/Woroxof__2.25.260876099222205460618271003114894681227/2.25.260876099222205460618271003114894681227/2.25.314316397946104988922756588776690923298",
      "\nThe above exception was the direct cause of the following exception:\n",
      "\u001b[0;31mRuntimeError\u001b[0m                              Traceback (most recent call last)",
      "Cell \u001b[0;32mIn[4], line 30\u001b[0m\n\u001b[1;32m      5\u001b[0m \u001b[38;5;28;01mif\u001b[39;00m(\u001b[38;5;28mlen\u001b[39m(unprocessed_scans) \u001b[38;5;241m>\u001b[39m \u001b[38;5;241m0\u001b[39m):\n\u001b[1;32m      6\u001b[0m     pre_process_transforms \u001b[38;5;241m=\u001b[39m Compose(\n\u001b[1;32m      7\u001b[0m         [\n\u001b[1;32m      8\u001b[0m             LoadImaged(keys\u001b[38;5;241m=\u001b[39m[\u001b[38;5;124m\"\u001b[39m\u001b[38;5;124mimage\u001b[39m\u001b[38;5;124m\"\u001b[39m], ensure_channel_first\u001b[38;5;241m=\u001b[39m\u001b[38;5;28;01mTrue\u001b[39;00m, image_only\u001b[38;5;241m=\u001b[39m\u001b[38;5;28;01mFalse\u001b[39;00m),\n\u001b[0;32m   (...)\u001b[0m\n\u001b[1;32m     27\u001b[0m         ]\n\u001b[1;32m     28\u001b[0m     )\n\u001b[0;32m---> 30\u001b[0m     train_ds \u001b[38;5;241m=\u001b[39m CacheDataset(\n\u001b[1;32m     31\u001b[0m         data\u001b[38;5;241m=\u001b[39munprocessed_scans[\u001b[38;5;241m1\u001b[39m:],\n\u001b[1;32m     32\u001b[0m         transform\u001b[38;5;241m=\u001b[39mpre_process_transforms,\n\u001b[1;32m     33\u001b[0m         cache_num\u001b[38;5;241m=\u001b[39m\u001b[38;5;28mlen\u001b[39m(unprocessed_scans[\u001b[38;5;241m1\u001b[39m:]),\n\u001b[1;32m     34\u001b[0m         cache_rate\u001b[38;5;241m=\u001b[39m\u001b[38;5;241m1.0\u001b[39m,\n\u001b[1;32m     35\u001b[0m         num_workers\u001b[38;5;241m=\u001b[39m\u001b[38;5;241m8\u001b[39m,\n\u001b[1;32m     36\u001b[0m     )\n",
      "File \u001b[0;32m~/miniconda3/envs/nodules/lib/python3.11/site-packages/monai/data/dataset.py:821\u001b[0m, in \u001b[0;36mCacheDataset.__init__\u001b[0;34m(self, data, transform, cache_num, cache_rate, num_workers, progress, copy_cache, as_contiguous, hash_as_key, hash_func, runtime_cache)\u001b[0m\n\u001b[1;32m    819\u001b[0m \u001b[38;5;28mself\u001b[39m\u001b[38;5;241m.\u001b[39m_cache: \u001b[38;5;28mlist\u001b[39m \u001b[38;5;241m|\u001b[39m ListProxy \u001b[38;5;241m=\u001b[39m []\n\u001b[1;32m    820\u001b[0m \u001b[38;5;28mself\u001b[39m\u001b[38;5;241m.\u001b[39m_hash_keys: \u001b[38;5;28mlist\u001b[39m \u001b[38;5;241m=\u001b[39m []\n\u001b[0;32m--> 821\u001b[0m \u001b[38;5;28mself\u001b[39m\u001b[38;5;241m.\u001b[39mset_data(data)\n",
      "File \u001b[0;32m~/miniconda3/envs/nodules/lib/python3.11/site-packages/monai/data/dataset.py:848\u001b[0m, in \u001b[0;36mCacheDataset.set_data\u001b[0;34m(self, data)\u001b[0m\n\u001b[1;32m    845\u001b[0m     indices \u001b[38;5;241m=\u001b[39m \u001b[38;5;28mlist\u001b[39m(\u001b[38;5;28mrange\u001b[39m(\u001b[38;5;28mself\u001b[39m\u001b[38;5;241m.\u001b[39mcache_num))\n\u001b[1;32m    847\u001b[0m \u001b[38;5;28;01mif\u001b[39;00m \u001b[38;5;28mself\u001b[39m\u001b[38;5;241m.\u001b[39mruntime_cache \u001b[38;5;129;01min\u001b[39;00m (\u001b[38;5;28;01mFalse\u001b[39;00m, \u001b[38;5;28;01mNone\u001b[39;00m):  \u001b[38;5;66;03m# prepare cache content immediately\u001b[39;00m\n\u001b[0;32m--> 848\u001b[0m     \u001b[38;5;28mself\u001b[39m\u001b[38;5;241m.\u001b[39m_cache \u001b[38;5;241m=\u001b[39m \u001b[38;5;28mself\u001b[39m\u001b[38;5;241m.\u001b[39m_fill_cache(indices)\n\u001b[1;32m    849\u001b[0m     \u001b[38;5;28;01mreturn\u001b[39;00m\n\u001b[1;32m    850\u001b[0m \u001b[38;5;28;01mif\u001b[39;00m \u001b[38;5;28misinstance\u001b[39m(\u001b[38;5;28mself\u001b[39m\u001b[38;5;241m.\u001b[39mruntime_cache, \u001b[38;5;28mstr\u001b[39m) \u001b[38;5;129;01mand\u001b[39;00m \u001b[38;5;124m\"\u001b[39m\u001b[38;5;124mprocess\u001b[39m\u001b[38;5;124m\"\u001b[39m \u001b[38;5;129;01min\u001b[39;00m \u001b[38;5;28mself\u001b[39m\u001b[38;5;241m.\u001b[39mruntime_cache:\n\u001b[1;32m    851\u001b[0m     \u001b[38;5;66;03m# this must be in the main process, not in dataloader's workers\u001b[39;00m\n",
      "File \u001b[0;32m~/miniconda3/envs/nodules/lib/python3.11/site-packages/monai/data/dataset.py:877\u001b[0m, in \u001b[0;36mCacheDataset._fill_cache\u001b[0;34m(self, indices)\u001b[0m\n\u001b[1;32m    875\u001b[0m \u001b[38;5;28;01mwith\u001b[39;00m ThreadPool(\u001b[38;5;28mself\u001b[39m\u001b[38;5;241m.\u001b[39mnum_workers) \u001b[38;5;28;01mas\u001b[39;00m p:\n\u001b[1;32m    876\u001b[0m     \u001b[38;5;28;01mif\u001b[39;00m \u001b[38;5;28mself\u001b[39m\u001b[38;5;241m.\u001b[39mprogress \u001b[38;5;129;01mand\u001b[39;00m has_tqdm:\n\u001b[0;32m--> 877\u001b[0m         \u001b[38;5;28;01mreturn\u001b[39;00m \u001b[38;5;28mlist\u001b[39m(tqdm(p\u001b[38;5;241m.\u001b[39mimap(\u001b[38;5;28mself\u001b[39m\u001b[38;5;241m.\u001b[39m_load_cache_item, indices), total\u001b[38;5;241m=\u001b[39m\u001b[38;5;28mlen\u001b[39m(indices), desc\u001b[38;5;241m=\u001b[39m\u001b[38;5;124m\"\u001b[39m\u001b[38;5;124mLoading dataset\u001b[39m\u001b[38;5;124m\"\u001b[39m))\n\u001b[1;32m    878\u001b[0m     \u001b[38;5;28;01mreturn\u001b[39;00m \u001b[38;5;28mlist\u001b[39m(p\u001b[38;5;241m.\u001b[39mimap(\u001b[38;5;28mself\u001b[39m\u001b[38;5;241m.\u001b[39m_load_cache_item, indices))\n",
      "File \u001b[0;32m~/miniconda3/envs/nodules/lib/python3.11/site-packages/tqdm/std.py:1182\u001b[0m, in \u001b[0;36mtqdm.__iter__\u001b[0;34m(self)\u001b[0m\n\u001b[1;32m   1179\u001b[0m time \u001b[38;5;241m=\u001b[39m \u001b[38;5;28mself\u001b[39m\u001b[38;5;241m.\u001b[39m_time\n\u001b[1;32m   1181\u001b[0m \u001b[38;5;28;01mtry\u001b[39;00m:\n\u001b[0;32m-> 1182\u001b[0m     \u001b[38;5;28;01mfor\u001b[39;00m obj \u001b[38;5;129;01min\u001b[39;00m iterable:\n\u001b[1;32m   1183\u001b[0m         \u001b[38;5;28;01myield\u001b[39;00m obj\n\u001b[1;32m   1184\u001b[0m         \u001b[38;5;66;03m# Update and possibly print the progressbar.\u001b[39;00m\n\u001b[1;32m   1185\u001b[0m         \u001b[38;5;66;03m# Note: does not call self.update(1) for speed optimisation.\u001b[39;00m\n",
      "File \u001b[0;32m~/miniconda3/envs/nodules/lib/python3.11/multiprocessing/pool.py:873\u001b[0m, in \u001b[0;36mIMapIterator.next\u001b[0;34m(self, timeout)\u001b[0m\n\u001b[1;32m    871\u001b[0m \u001b[38;5;28;01mif\u001b[39;00m success:\n\u001b[1;32m    872\u001b[0m     \u001b[38;5;28;01mreturn\u001b[39;00m value\n\u001b[0;32m--> 873\u001b[0m \u001b[38;5;28;01mraise\u001b[39;00m value\n",
      "File \u001b[0;32m~/miniconda3/envs/nodules/lib/python3.11/multiprocessing/pool.py:125\u001b[0m, in \u001b[0;36mworker\u001b[0;34m(inqueue, outqueue, initializer, initargs, maxtasks, wrap_exception)\u001b[0m\n\u001b[1;32m    123\u001b[0m job, i, func, args, kwds \u001b[38;5;241m=\u001b[39m task\n\u001b[1;32m    124\u001b[0m \u001b[38;5;28;01mtry\u001b[39;00m:\n\u001b[0;32m--> 125\u001b[0m     result \u001b[38;5;241m=\u001b[39m (\u001b[38;5;28;01mTrue\u001b[39;00m, func(\u001b[38;5;241m*\u001b[39margs, \u001b[38;5;241m*\u001b[39m\u001b[38;5;241m*\u001b[39mkwds))\n\u001b[1;32m    126\u001b[0m \u001b[38;5;28;01mexcept\u001b[39;00m \u001b[38;5;167;01mException\u001b[39;00m \u001b[38;5;28;01mas\u001b[39;00m e:\n\u001b[1;32m    127\u001b[0m     \u001b[38;5;28;01mif\u001b[39;00m wrap_exception \u001b[38;5;129;01mand\u001b[39;00m func \u001b[38;5;129;01mis\u001b[39;00m \u001b[38;5;129;01mnot\u001b[39;00m _helper_reraises_exception:\n",
      "File \u001b[0;32m~/miniconda3/envs/nodules/lib/python3.11/site-packages/monai/data/dataset.py:890\u001b[0m, in \u001b[0;36mCacheDataset._load_cache_item\u001b[0;34m(self, idx)\u001b[0m\n\u001b[1;32m    885\u001b[0m item \u001b[38;5;241m=\u001b[39m \u001b[38;5;28mself\u001b[39m\u001b[38;5;241m.\u001b[39mdata[idx]\n\u001b[1;32m    887\u001b[0m first_random \u001b[38;5;241m=\u001b[39m \u001b[38;5;28mself\u001b[39m\u001b[38;5;241m.\u001b[39mtransform\u001b[38;5;241m.\u001b[39mget_index_of_first(\n\u001b[1;32m    888\u001b[0m     \u001b[38;5;28;01mlambda\u001b[39;00m t: \u001b[38;5;28misinstance\u001b[39m(t, RandomizableTrait) \u001b[38;5;129;01mor\u001b[39;00m \u001b[38;5;129;01mnot\u001b[39;00m \u001b[38;5;28misinstance\u001b[39m(t, Transform)\n\u001b[1;32m    889\u001b[0m )\n\u001b[0;32m--> 890\u001b[0m item \u001b[38;5;241m=\u001b[39m \u001b[38;5;28mself\u001b[39m\u001b[38;5;241m.\u001b[39mtransform(item, end\u001b[38;5;241m=\u001b[39mfirst_random, threading\u001b[38;5;241m=\u001b[39m\u001b[38;5;28;01mTrue\u001b[39;00m)\n\u001b[1;32m    892\u001b[0m \u001b[38;5;28;01mif\u001b[39;00m \u001b[38;5;28mself\u001b[39m\u001b[38;5;241m.\u001b[39mas_contiguous:\n\u001b[1;32m    893\u001b[0m     item \u001b[38;5;241m=\u001b[39m convert_to_contiguous(item, memory_format\u001b[38;5;241m=\u001b[39mtorch\u001b[38;5;241m.\u001b[39mcontiguous_format)\n",
      "File \u001b[0;32m~/miniconda3/envs/nodules/lib/python3.11/site-packages/monai/transforms/compose.py:322\u001b[0m, in \u001b[0;36mCompose.__call__\u001b[0;34m(self, input_, start, end, threading, lazy)\u001b[0m\n\u001b[1;32m    321\u001b[0m \u001b[38;5;28;01mdef\u001b[39;00m \u001b[38;5;21m__call__\u001b[39m(\u001b[38;5;28mself\u001b[39m, input_, start\u001b[38;5;241m=\u001b[39m\u001b[38;5;241m0\u001b[39m, end\u001b[38;5;241m=\u001b[39m\u001b[38;5;28;01mNone\u001b[39;00m, threading\u001b[38;5;241m=\u001b[39m\u001b[38;5;28;01mFalse\u001b[39;00m, lazy: \u001b[38;5;28mbool\u001b[39m \u001b[38;5;241m|\u001b[39m \u001b[38;5;28;01mNone\u001b[39;00m \u001b[38;5;241m=\u001b[39m \u001b[38;5;28;01mNone\u001b[39;00m):\n\u001b[0;32m--> 322\u001b[0m     result \u001b[38;5;241m=\u001b[39m execute_compose(\n\u001b[1;32m    323\u001b[0m         input_,\n\u001b[1;32m    324\u001b[0m         transforms\u001b[38;5;241m=\u001b[39m\u001b[38;5;28mself\u001b[39m\u001b[38;5;241m.\u001b[39mtransforms,\n\u001b[1;32m    325\u001b[0m         start\u001b[38;5;241m=\u001b[39mstart,\n\u001b[1;32m    326\u001b[0m         end\u001b[38;5;241m=\u001b[39mend,\n\u001b[1;32m    327\u001b[0m         map_items\u001b[38;5;241m=\u001b[39m\u001b[38;5;28mself\u001b[39m\u001b[38;5;241m.\u001b[39mmap_items,\n\u001b[1;32m    328\u001b[0m         unpack_items\u001b[38;5;241m=\u001b[39m\u001b[38;5;28mself\u001b[39m\u001b[38;5;241m.\u001b[39munpack_items,\n\u001b[1;32m    329\u001b[0m         lazy\u001b[38;5;241m=\u001b[39m\u001b[38;5;28mself\u001b[39m\u001b[38;5;241m.\u001b[39mlazy,\n\u001b[1;32m    330\u001b[0m         overrides\u001b[38;5;241m=\u001b[39m\u001b[38;5;28mself\u001b[39m\u001b[38;5;241m.\u001b[39moverrides,\n\u001b[1;32m    331\u001b[0m         threading\u001b[38;5;241m=\u001b[39mthreading,\n\u001b[1;32m    332\u001b[0m         log_stats\u001b[38;5;241m=\u001b[39m\u001b[38;5;28mself\u001b[39m\u001b[38;5;241m.\u001b[39mlog_stats,\n\u001b[1;32m    333\u001b[0m     )\n\u001b[1;32m    335\u001b[0m     \u001b[38;5;28;01mreturn\u001b[39;00m result\n",
      "File \u001b[0;32m~/miniconda3/envs/nodules/lib/python3.11/site-packages/monai/transforms/compose.py:111\u001b[0m, in \u001b[0;36mexecute_compose\u001b[0;34m(data, transforms, map_items, unpack_items, start, end, lazy, overrides, threading, log_stats)\u001b[0m\n\u001b[1;32m    109\u001b[0m     \u001b[38;5;28;01mif\u001b[39;00m threading:\n\u001b[1;32m    110\u001b[0m         _transform \u001b[38;5;241m=\u001b[39m deepcopy(_transform) \u001b[38;5;28;01mif\u001b[39;00m \u001b[38;5;28misinstance\u001b[39m(_transform, ThreadUnsafe) \u001b[38;5;28;01melse\u001b[39;00m _transform\n\u001b[0;32m--> 111\u001b[0m     data \u001b[38;5;241m=\u001b[39m apply_transform(\n\u001b[1;32m    112\u001b[0m         _transform, data, map_items, unpack_items, lazy\u001b[38;5;241m=\u001b[39mlazy, overrides\u001b[38;5;241m=\u001b[39moverrides, log_stats\u001b[38;5;241m=\u001b[39mlog_stats\n\u001b[1;32m    113\u001b[0m     )\n\u001b[1;32m    114\u001b[0m data \u001b[38;5;241m=\u001b[39m apply_pending_transforms(data, \u001b[38;5;28;01mNone\u001b[39;00m, overrides, logger_name\u001b[38;5;241m=\u001b[39mlog_stats)\n\u001b[1;32m    115\u001b[0m \u001b[38;5;28;01mreturn\u001b[39;00m data\n",
      "File \u001b[0;32m~/miniconda3/envs/nodules/lib/python3.11/site-packages/monai/transforms/transform.py:171\u001b[0m, in \u001b[0;36mapply_transform\u001b[0;34m(transform, data, map_items, unpack_items, log_stats, lazy, overrides)\u001b[0m\n\u001b[1;32m    169\u001b[0m     \u001b[38;5;28;01melse\u001b[39;00m:\n\u001b[1;32m    170\u001b[0m         _log_stats(data\u001b[38;5;241m=\u001b[39mdata)\n\u001b[0;32m--> 171\u001b[0m \u001b[38;5;28;01mraise\u001b[39;00m \u001b[38;5;167;01mRuntimeError\u001b[39;00m(\u001b[38;5;124mf\u001b[39m\u001b[38;5;124m\"\u001b[39m\u001b[38;5;124mapplying transform \u001b[39m\u001b[38;5;132;01m{\u001b[39;00mtransform\u001b[38;5;132;01m}\u001b[39;00m\u001b[38;5;124m\"\u001b[39m) \u001b[38;5;28;01mfrom\u001b[39;00m \u001b[38;5;21;01me\u001b[39;00m\n",
      "\u001b[0;31mRuntimeError\u001b[0m: applying transform <monai.transforms.io.dictionary.LoadImaged object at 0x7f8dc1066610>"
     ]
    },
    {
     "name": "stdout",
     "output_type": "stream",
     "text": [
      "2023-10-13 14:19:46,561 INFO image_writer.py:197 - writing: /home/vlermakov/Development/Nodules/Nodule-Detection-LUNA2016/processed_data_full_range_075mm/Labfaljon__651b8db8b8a4cf7045c06ad8-740b5d2ce0b5bdda-1/Labfaljon__651b8db8b8a4cf7045c06ad8-740b5d2ce0b5bdda-1_image_0.nii.gz\n",
      "2023-10-13 14:19:46,780 INFO image_writer.py:197 - writing: /home/vlermakov/Development/Nodules/Nodule-Detection-LUNA2016/processed_data_full_range_075mm/Labfaljon__651b8db8b8a4cf7045c06ad8-740b5d2ce0b5bdda-1/Labfaljon__651b8db8b8a4cf7045c06ad8-740b5d2ce0b5bdda-1_mask_0.nii.gz\n",
      "2023-10-13 14:19:47,179 INFO image_writer.py:197 - writing: /home/vlermakov/Development/Nodules/Nodule-Detection-LUNA2016/processed_data_full_range_075mm/Togepel__601c3933d1c6c009b6c1181f-82da709b70e22cee-2/Togepel__601c3933d1c6c009b6c1181f-82da709b70e22cee-2_image_0.nii.gz\n",
      "2023-10-13 14:19:47,354 INFO image_writer.py:197 - writing: /home/vlermakov/Development/Nodules/Nodule-Detection-LUNA2016/processed_data_full_range_075mm/Togepel__601c3933d1c6c009b6c1181f-82da709b70e22cee-2/Togepel__601c3933d1c6c009b6c1181f-82da709b70e22cee-2_mask_0.nii.gz\n",
      "2023-10-13 14:19:49,930 INFO image_writer.py:197 - writing: /home/vlermakov/Development/Nodules/Nodule-Detection-LUNA2016/processed_data_full_range_075mm/Diclama__617c9593d7b6600ab876fb60-4394a50f1fd4dd2b-1/Diclama__617c9593d7b6600ab876fb60-4394a50f1fd4dd2b-1_image_0.nii.gz\n",
      "2023-10-13 14:19:50,143 INFO image_writer.py:197 - writing: /home/vlermakov/Development/Nodules/Nodule-Detection-LUNA2016/processed_data_full_range_075mm/Diclama__617c9593d7b6600ab876fb60-4394a50f1fd4dd2b-1/Diclama__617c9593d7b6600ab876fb60-4394a50f1fd4dd2b-1_mask_0.nii.gz\n",
      "2023-10-13 14:19:56,084 INFO image_writer.py:197 - writing: /home/vlermakov/Development/Nodules/Nodule-Detection-LUNA2016/processed_data_full_range_075mm/Miekefre__651b92ea6f609877efa47023-3132a6acf5120cfe-1/Miekefre__651b92ea6f609877efa47023-3132a6acf5120cfe-1_image_0.nii.gz\n",
      "2023-10-13 14:19:56,184 INFO image_writer.py:197 - writing: /home/vlermakov/Development/Nodules/Nodule-Detection-LUNA2016/processed_data_full_range_075mm/Miekefre__651b92ea6f609877efa47023-3132a6acf5120cfe-1/Miekefre__651b92ea6f609877efa47023-3132a6acf5120cfe-1_mask_0.nii.gz\n",
      "2023-10-13 14:19:56,635 INFO image_writer.py:197 - writing: /home/vlermakov/Development/Nodules/Nodule-Detection-LUNA2016/processed_data_full_range_075mm/Jenuda__651b97a3fc73e2c1f786496d-d06af05092aa9795-1/Jenuda__651b97a3fc73e2c1f786496d-d06af05092aa9795-1_image_0.nii.gz\n",
      "2023-10-13 14:19:56,731 INFO image_writer.py:197 - writing: /home/vlermakov/Development/Nodules/Nodule-Detection-LUNA2016/processed_data_full_range_075mm/Jenuda__651b97a3fc73e2c1f786496d-d06af05092aa9795-1/Jenuda__651b97a3fc73e2c1f786496d-d06af05092aa9795-1_mask_0.nii.gz\n",
      "2023-10-13 14:19:57,546 INFO image_writer.py:197 - writing: /home/vlermakov/Development/Nodules/Nodule-Detection-LUNA2016/processed_data_full_range_075mm/Cretaha__651b95b4885009ff8214daa1-82c40918d228626a-1/Cretaha__651b95b4885009ff8214daa1-82c40918d228626a-1_image_0.nii.gz\n",
      "2023-10-13 14:19:57,648 INFO image_writer.py:197 - writing: /home/vlermakov/Development/Nodules/Nodule-Detection-LUNA2016/processed_data_full_range_075mm/Cretaha__651b95b4885009ff8214daa1-82c40918d228626a-1/Cretaha__651b95b4885009ff8214daa1-82c40918d228626a-1_mask_0.nii.gz\n",
      "2023-10-13 14:19:58,353 INFO image_writer.py:197 - writing: /home/vlermakov/Development/Nodules/Nodule-Detection-LUNA2016/processed_data_full_range_075mm/Pejaru__604ac4ce4b663a0a8c99dabf-a76a28c557f6de10-1/Pejaru__604ac4ce4b663a0a8c99dabf-a76a28c557f6de10-1_image_0.nii.gz\n",
      "2023-10-13 14:19:58,450 INFO image_writer.py:197 - writing: /home/vlermakov/Development/Nodules/Nodule-Detection-LUNA2016/processed_data_full_range_075mm/Pejaru__604ac4ce4b663a0a8c99dabf-a76a28c557f6de10-1/Pejaru__604ac4ce4b663a0a8c99dabf-a76a28c557f6de10-1_mask_0.nii.gz\n",
      "2023-10-13 14:19:59,424 INFO image_writer.py:197 - writing: /home/vlermakov/Development/Nodules/Nodule-Detection-LUNA2016/processed_data_full_range_075mm/Barethue__5fcdf61f004dca09c597b385-9a3ef1a67cafec35-2/Barethue__5fcdf61f004dca09c597b385-9a3ef1a67cafec35-2_image_0.nii.gz\n",
      "2023-10-13 14:19:59,521 INFO image_writer.py:197 - writing: /home/vlermakov/Development/Nodules/Nodule-Detection-LUNA2016/processed_data_full_range_075mm/Barethue__5fcdf61f004dca09c597b385-9a3ef1a67cafec35-2/Barethue__5fcdf61f004dca09c597b385-9a3ef1a67cafec35-2_mask_0.nii.gz\n"
     ]
    }
   ],
   "source": [
    "def file_name_formatter(metadict: dict, saver) -> dict:\n",
    "    return {\"subject\": metadict['phonetic_id'] + \"__\" + metadict['patch_id'], \"idx\": 0}\n",
    "    \n",
    "    \n",
    "if(len(unprocessed_scans) > 0):\n",
    "    pre_process_transforms = Compose(\n",
    "        [\n",
    "            LoadImaged(keys=[\"image\"], ensure_channel_first=True, image_only=False),\n",
    "            LoadArterysMaskd(keys=[\"mask\"], ensure_channel_first=True),\n",
    "            AddCustomerMetadatad(keys=[\"image\",\"mask\"],meta_keys=[\"mrn\",\"phonetic_id\",\"patch_id\"]),\n",
    "            ScaleIntensityRanged(\n",
    "                keys=[\"image\"],\n",
    "                a_min=-1000,\n",
    "                a_max=400,\n",
    "                b_min=0.0,\n",
    "                b_max=1.0,\n",
    "                clip=True,\n",
    "            ),\n",
    "            Spacingd(\n",
    "                keys=[\"image\",\"mask\"],\n",
    "                pixdim=(0.75, 0.75, 0.75),\n",
    "                mode=(\"bilinear\",\"nearest\"),\n",
    "            ),\n",
    "            CropToNoduled(keys=[\"image\",\"mask\"]),\n",
    "            SaveImaged(keys=[\"image\"], output_name_formatter=file_name_formatter ,output_dir=PRE_PROCESSED_DIRECTORY, output_postfix=\"image\", output_ext=\".nii.gz\", resample=False),\n",
    "            SaveImaged(keys=[\"mask\"], output_name_formatter=file_name_formatter, output_dir=PRE_PROCESSED_DIRECTORY, output_postfix=\"mask\", output_ext=\".nii.gz\", resample=False)\n",
    "        ]\n",
    "    )\n",
    "\n",
    "    train_ds = CacheDataset(\n",
    "        data=unprocessed_scans[1:],\n",
    "        transform=pre_process_transforms,\n",
    "        cache_num=len(unprocessed_scans[1:]),\n",
    "        cache_rate=1.0,\n",
    "        num_workers=8,\n",
    "    )\n",
    "\n"
   ]
  },
  {
   "cell_type": "code",
   "execution_count": null,
   "id": "8f9c93c3",
   "metadata": {},
   "outputs": [],
   "source": [
    "fname = '/media/vlermakov/data/UCSDNodules/Metastatic/data/Sukicuk__2.25.113743471811282083585069081717620800044/2.25.113743471811282083585069081717620800044/2.25.326808598846151585390527901137079074435'"
   ]
  },
  {
   "cell_type": "code",
   "execution_count": null,
   "id": "3f218352",
   "metadata": {},
   "outputs": [],
   "source": [
    "import re\n",
    "\n",
    "\n",
    "match = re.search(r'/(\\w+__)\\d+\\.\\d+\\.\\d+/\\d+\\.\\d+\\.(\\d+)/\\d+\\.\\d+\\.(\\d+)', fname)\n",
    "\n",
    "if match:\n",
    "    result = match.group(1) + match.group(3)\n",
    "    print(result)"
   ]
  },
  {
   "cell_type": "code",
   "execution_count": null,
   "id": "14d8aa4f",
   "metadata": {},
   "outputs": [],
   "source": [
    "unprocessed_scans"
   ]
  },
  {
   "cell_type": "code",
   "execution_count": null,
   "id": "26d45f41",
   "metadata": {},
   "outputs": [],
   "source": []
  }
 ],
 "metadata": {
  "kernelspec": {
   "display_name": "Python 3 (ipykernel)",
   "language": "python",
   "name": "python3"
  },
  "language_info": {
   "codemirror_mode": {
    "name": "ipython",
    "version": 3
   },
   "file_extension": ".py",
   "mimetype": "text/x-python",
   "name": "python",
   "nbconvert_exporter": "python",
   "pygments_lexer": "ipython3",
   "version": "3.11.5"
  }
 },
 "nbformat": 4,
 "nbformat_minor": 5
}
