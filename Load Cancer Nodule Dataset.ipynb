{
 "cells": [
  {
   "cell_type": "code",
   "execution_count": 15,
   "id": "32355a22",
   "metadata": {},
   "outputs": [
    {
     "name": "stdout",
     "output_type": "stream",
     "text": [
      "Processing MRN 211 Phonetic_ID Fesaho\n",
      "Processing MRN 210 Phonetic_ID Quabemo\n",
      "Processing MRN 209 Phonetic_ID Quekelurn\n",
      "Processing MRN 208 Phonetic_ID Jufueklip\n",
      "Processing MRN 207 Phonetic_ID Moyabdof\n",
      "Processing MRN 206 Phonetic_ID Tudipi\n",
      "Processing MRN 205 Phonetic_ID Nousisig\n",
      "Processing MRN 204 Phonetic_ID Budueyi\n",
      "Processing MRN 203 Phonetic_ID Jenuda\n",
      "Processing MRN 202 Phonetic_ID Cretaha\n",
      "Processing MRN 201 Phonetic_ID Pejaru\n",
      "Processing MRN 200 Phonetic_ID Barethue\n",
      "Processing MRN 199 Phonetic_ID Miekefre\n",
      "Processing MRN 198 Phonetic_ID Labfaljon\n",
      "Processing MRN 196 Phonetic_ID Togepel\n",
      "Processing MRN 195 Phonetic_ID Diclama\n",
      "Processing MRN 194 Phonetic_ID Woroxof\n",
      "Processing MRN 193 Phonetic_ID Loomako\n",
      "Processing MRN 192 Phonetic_ID Puguxiep\n",
      "Processing MRN 191 Phonetic_ID Alnpatik\n",
      "Processing MRN 190 Phonetic_ID Beelelu\n",
      "Processing MRN 189 Phonetic_ID Omlolit\n",
      "Processing MRN 189 Phonetic_ID Pihoko\n",
      "Processing MRN 189 Phonetic_ID Paparser\n",
      "Processing MRN 187 Phonetic_ID Huciku\n",
      "Processing MRN 187 Phonetic_ID Dajica\n",
      "Processing MRN 187 Phonetic_ID Bunique\n",
      "Processing MRN 187 Phonetic_ID Bramanas\n",
      "Processing MRN 187 Phonetic_ID Quuquilep\n",
      "Processing MRN 186 Phonetic_ID Nadoji\n",
      "Processing MRN 184 Phonetic_ID Cooseero\n",
      "Processing MRN 180 Phonetic_ID Unoonur\n",
      "Processing MRN 180 Phonetic_ID Quecuge\n",
      "Processing MRN 180 Phonetic_ID Coofapas\n",
      "Processing MRN 179 Phonetic_ID Hadaseb\n",
      "Processing MRN 179 Phonetic_ID Phukrezee\n",
      "Processing MRN 178 Phonetic_ID Raswizu\n",
      "Processing MRN 178 Phonetic_ID Sufourog\n",
      "Processing MRN 177 Phonetic_ID Frakapbad\n",
      "Processing MRN 176 Phonetic_ID Etolut\n",
      "Processing MRN 176 Phonetic_ID Froluju\n",
      "Processing MRN 176 Phonetic_ID Afomid\n",
      "Processing MRN 176 Phonetic_ID Jeyaros\n",
      "Processing MRN 176 Phonetic_ID Eyookir\n",
      "Processing MRN 176 Phonetic_ID Dooflaho\n",
      "Processing MRN 176 Phonetic_ID Ulekep\n",
      "Processing MRN 175 Phonetic_ID Rabili\n",
      "Processing MRN 174 Phonetic_ID Jokeglie\n",
      "Processing MRN 174 Phonetic_ID Legakjop\n",
      "Processing MRN 174 Phonetic_ID Rafosur\n",
      "Processing MRN 173 Phonetic_ID Erielep\n",
      "Processing MRN 173 Phonetic_ID Gacueru\n",
      "Processing MRN 173 Phonetic_ID Boyofem\n",
      "Processing MRN 173 Phonetic_ID Datenu\n",
      "Processing MRN 172 Phonetic_ID Traluga\n",
      "Processing MRN 172 Phonetic_ID Nulogo\n",
      "Processing MRN 172 Phonetic_ID Rofoote\n",
      "Processing MRN 172 Phonetic_ID Pumeque\n",
      "Processing MRN 171 Phonetic_ID Amuxos\n",
      "Processing MRN 171 Phonetic_ID Pigalu\n",
      "Processing MRN 171 Phonetic_ID Bokrofa\n",
      "Processing MRN 171 Phonetic_ID Rajife\n",
      "Processing MRN 170 Phonetic_ID Dulakip\n",
      "Processing MRN 170 Phonetic_ID Gatusoup\n",
      "Processing MRN 170 Phonetic_ID Rapuha\n",
      "Processing MRN 169 Phonetic_ID Nestunesk\n",
      "Processing MRN 169 Phonetic_ID Dupana\n",
      "Processing MRN 169 Phonetic_ID Tagoulu\n",
      "Processing MRN 168 Phonetic_ID Muesemgeen\n",
      "Processing MRN 167 Phonetic_ID Akofek\n",
      "Processing MRN 166 Phonetic_ID Prutigu\n",
      "Processing MRN 166 Phonetic_ID Gehienes\n",
      "Processing MRN 165 Phonetic_ID Ofudil\n",
      "Processing MRN 165 Phonetic_ID Rehoule\n",
      "Processing MRN 165 Phonetic_ID Leponup\n",
      "Processing MRN 165 Phonetic_ID Kejieru\n",
      "Processing MRN 164 Phonetic_ID Fatatu\n",
      "Processing MRN 163 Phonetic_ID Hobonug\n",
      "Processing MRN 162 Phonetic_ID Ragili\n",
      "Processing MRN 162 Phonetic_ID Nebofe\n",
      "Processing MRN 161 Phonetic_ID Torotob\n",
      "Processing MRN 161 Phonetic_ID Wihotog\n",
      "Processing MRN 161 Phonetic_ID Pafuku\n",
      "Processing MRN 160 Phonetic_ID Quosapu\n",
      "Processing MRN 160 Phonetic_ID Isutes\n",
      "Processing MRN 160 Phonetic_ID Swikrusu\n",
      "Processing MRN 160 Phonetic_ID Emangiet\n",
      "Processing MRN 160 Phonetic_ID Cugaju\n",
      "Processing MRN 159 Phonetic_ID Quicubli\n",
      "Processing MRN 158 Phonetic_ID Reneebus\n",
      "Processing MRN 158 Phonetic_ID Jecayap\n",
      "Processing MRN 158 Phonetic_ID Kukunab\n",
      "Processing MRN 157 Phonetic_ID Caroutey\n",
      "Processing MRN 156 Phonetic_ID Berogo\n",
      "Processing MRN 155 Phonetic_ID Rademan\n",
      "Processing MRN 155 Phonetic_ID Ilayif\n",
      "Processing MRN 155 Phonetic_ID Bujadup\n",
      "Processing MRN 154 Phonetic_ID Atiraf\n",
      "Processing MRN 153 Phonetic_ID Lobihef\n",
      "Processing MRN 153 Phonetic_ID Sofupu\n",
      "Processing MRN 152 Phonetic_ID Jajitue\n",
      "Processing MRN 152 Phonetic_ID Mabili\n",
      "Processing MRN 151 Phonetic_ID Efascot\n",
      "Processing MRN 150 Phonetic_ID Poojequi\n",
      "Processing MRN 150 Phonetic_ID Bagobod\n",
      "Processing MRN 150 Phonetic_ID Lapraso\n",
      "Processing MRN 150 Phonetic_ID Hifebog\n",
      "Processing MRN 150 Phonetic_ID Snohitu\n",
      "Processing MRN 149 Phonetic_ID Masati\n",
      "Processing MRN 149 Phonetic_ID Mubukes\n",
      "Processing MRN 148 Phonetic_ID Coquibe\n",
      "Processing MRN 147 Phonetic_ID Jouhuku\n",
      "Processing MRN 147 Phonetic_ID Cijife\n",
      "Processing MRN 146 Phonetic_ID Lavuzi\n",
      "Processing MRN 146 Phonetic_ID Emiengum\n",
      "Processing MRN 146 Phonetic_ID Cesuse\n",
      "Processing MRN 145 Phonetic_ID Ukushad\n",
      "Processing MRN 144 Phonetic_ID Douzreley\n",
      "Processing MRN 144 Phonetic_ID Huebrabap\n",
      "Processing MRN 144 Phonetic_ID Gunaba\n",
      "Processing MRN 143 Phonetic_ID Wiveda\n",
      "Processing MRN 142 Phonetic_ID Bamoolu\n",
      "Processing MRN 142 Phonetic_ID Quorufi\n",
      "Processing MRN 141 Phonetic_ID Tenilous\n",
      "Processing MRN 140 Phonetic_ID Dowohup\n",
      "Processing MRN 139 Phonetic_ID Nedacou\n",
      "Processing MRN 138 Phonetic_ID Trakefi\n",
      "Processing MRN 137 Phonetic_ID Srostruesa\n",
      "Processing MRN 136 Phonetic_ID Foberer\n",
      "Processing MRN 135 Phonetic_ID Doduni\n",
      "Processing MRN 134 Phonetic_ID Mibeese\n",
      "Processing MRN 133 Phonetic_ID Golufa\n",
      "Processing MRN 132 Phonetic_ID Fagapgak\n",
      "Processing MRN 131 Phonetic_ID Kujidu\n",
      "Processing MRN 130 Phonetic_ID Dubeepoo\n",
      "Processing MRN 129 Phonetic_ID Quimuque\n",
      "Processing MRN 128 Phonetic_ID Asuenak\n",
      "Processing MRN 127 Phonetic_ID Maguda\n",
      "Processing MRN 126 Phonetic_ID Agipkab\n",
      "Processing MRN 125 Phonetic_ID Nekledat\n",
      "Processing MRN 124 Phonetic_ID Mosniegu\n",
      "Processing MRN 123 Phonetic_ID Bayusha\n",
      "Processing MRN 122 Phonetic_ID Humujo\n",
      "Processing MRN 121 Phonetic_ID Snemuti\n",
      "Processing MRN 120 Phonetic_ID Rijokees\n",
      "Processing MRN 119 Phonetic_ID Pageled\n",
      "Processing MRN 118 Phonetic_ID Muklickas\n",
      "Processing MRN 117 Phonetic_ID Febosi\n",
      "Processing MRN 116 Phonetic_ID Sasigcuk\n",
      "Processing MRN 115 Phonetic_ID Isudkak\n",
      "Processing MRN 114 Phonetic_ID Samatel\n",
      "Processing MRN 113 Phonetic_ID Eynoseb\n",
      "Processing MRN 112 Phonetic_ID Kathucu\n",
      "Processing MRN 111 Phonetic_ID Loutupu\n",
      "Processing MRN 110 Phonetic_ID Ogdreyig\n",
      "Processing MRN 109 Phonetic_ID Hocapar\n",
      "Processing MRN 108 Phonetic_ID Enoyil\n",
      "Processing MRN 107 Phonetic_ID Quaniebuf\n",
      "Processing MRN 106 Phonetic_ID Sukicuk\n",
      "Processing MRN 105 Phonetic_ID Delafi\n",
      "Processing MRN 104 Phonetic_ID Trasnoque\n",
      "Processing MRN 103 Phonetic_ID Umeyat\n",
      "Processing MRN 102 Phonetic_ID Firadek\n",
      "Processing MRN 101 Phonetic_ID Nupodu\n",
      "Processing MRN 100 Phonetic_ID Quekuedey\n",
      "Processing MRN 99 Phonetic_ID Hucoshe\n",
      "Processing MRN 98 Phonetic_ID Buroufueln\n",
      "Processing MRN 97 Phonetic_ID Ulekod\n",
      "Processing MRN 96 Phonetic_ID Grujoli\n",
      "Processing MRN 95 Phonetic_ID Puhufub\n",
      "Processing MRN 94 Phonetic_ID Quebutout\n",
      "Processing MRN 93 Phonetic_ID Leeklinum\n",
      "Processing MRN 92 Phonetic_ID Roujinok\n",
      "Processing MRN 91 Phonetic_ID Jemorug\n",
      "Processing MRN 90 Phonetic_ID Tagoobam\n",
      "Processing MRN 90 Phonetic_ID Neyakbray\n",
      "Processing MRN 89 Phonetic_ID Rumegud\n",
      "Processing MRN 89 Phonetic_ID Bluplugu\n",
      "Processing MRN 88 Phonetic_ID Nadiefi\n",
      "Processing MRN 87 Phonetic_ID Latuque\n",
      "Processing MRN 86 Phonetic_ID Tobikod\n",
      "Processing MRN 85 Phonetic_ID Jablomi\n",
      "Processing MRN 84 Phonetic_ID Pokasol\n",
      "Processing MRN 84 Phonetic_ID Reetosee\n",
      "Processing MRN 83 Phonetic_ID Ibapquif\n",
      "Processing MRN 82 Phonetic_ID Abirief\n",
      "Processing MRN 81 Phonetic_ID Helistbrey\n",
      "Processing MRN 80 Phonetic_ID Ceeporu\n",
      "Processing MRN 79 Phonetic_ID Jezoni\n",
      "Processing MRN 78 Phonetic_ID Cibami\n",
      "Processing MRN 77 Phonetic_ID Hekkletub\n",
      "Processing MRN 76 Phonetic_ID Bitikek\n",
      "Processing MRN 75 Phonetic_ID Alueroof\n",
      "Processing MRN 74 Phonetic_ID Sesohi\n",
      "Processing MRN 73 Phonetic_ID Operil\n",
      "Processing MRN 72 Phonetic_ID Inafom\n",
      "Processing MRN 71 Phonetic_ID Lebsuneln\n",
      "Processing MRN 70 Phonetic_ID Lomubroy\n",
      "Processing MRN 69 Phonetic_ID Pibugon\n",
      "Processing MRN 68 Phonetic_ID Oyisok\n",
      "Processing MRN 67 Phonetic_ID Keralud\n",
      "Processing MRN 66 Phonetic_ID Bupekuet\n",
      "Processing MRN 65 Phonetic_ID Puetsoybad\n",
      "Processing MRN 65 Phonetic_ID Scentagack\n",
      "Processing MRN 64 Phonetic_ID Negoquof\n",
      "Processing MRN 64 Phonetic_ID Beprequi\n",
      "Processing MRN 63 Phonetic_ID Caquirib\n",
      "Processing MRN 62 Phonetic_ID Bedisi\n",
      "Processing MRN 61 Phonetic_ID Izeyag\n",
      "Processing MRN 60 Phonetic_ID Gruguka\n",
      "Processing MRN 59 Phonetic_ID Quakuro\n",
      "Processing MRN 58 Phonetic_ID Lolaru\n",
      "Processing MRN 57 Phonetic_ID Fajafu\n",
      "Processing MRN 56 Phonetic_ID Gaqueque\n",
      "Processing MRN 55 Phonetic_ID Dibafug\n",
      "Processing MRN 54 Phonetic_ID Otifnul\n",
      "Processing MRN 53 Phonetic_ID Finudouth\n",
      "Processing MRN 52 Phonetic_ID Romemud\n",
      "Processing MRN 52 Phonetic_ID Likalo\n",
      "Processing MRN 51 Phonetic_ID Jametey\n",
      "Processing MRN 50 Phonetic_ID Quobosoo\n",
      "Processing MRN 49 Phonetic_ID Busikor\n",
      "Processing MRN 48 Phonetic_ID Oduprug\n",
      "Processing MRN 48 Phonetic_ID Umkleegneg\n",
      "Processing MRN 47 Phonetic_ID Eyuepen\n",
      "Processing MRN 46 Phonetic_ID Quefiko\n",
      "Processing MRN 45 Phonetic_ID Gireka\n",
      "Processing MRN 44 Phonetic_ID Tedaque\n",
      "Processing MRN 43 Phonetic_ID Pumosue\n",
      "Processing MRN 42 Phonetic_ID Bomima\n",
      "Processing MRN 41 Phonetic_ID Nuquesra\n",
      "Processing MRN 40 Phonetic_ID Riqueno\n",
      "Patch ID nan is not a string\n",
      "Processing MRN 39 Phonetic_ID Diplooreg\n",
      "Processing MRN 38 Phonetic_ID Tidona\n",
      "Processing MRN 37 Phonetic_ID Kesuci\n",
      "Processing MRN 36 Phonetic_ID Masede\n",
      "Processing MRN 35 Phonetic_ID Hukliley\n",
      "Processing MRN 34 Phonetic_ID Hesora\n",
      "Processing MRN 33 Phonetic_ID Kajalol\n",
      "Processing MRN 32 Phonetic_ID Jugaso\n",
      "Processing MRN 31 Phonetic_ID Jesbernan\n",
      "Processing MRN 30 Phonetic_ID Lihamu\n",
      "Processing MRN 29 Phonetic_ID Lorique\n",
      "Processing MRN 28 Phonetic_ID Gojequa\n"
     ]
    },
    {
     "name": "stdout",
     "output_type": "stream",
     "text": [
      "Processing MRN 27 Phonetic_ID Hehuji\n",
      "Processing MRN 26 Phonetic_ID Frequalad\n",
      "Processing MRN 25 Phonetic_ID Nuborif\n",
      "Processing MRN 24 Phonetic_ID Figooso\n",
      "Processing MRN 23 Phonetic_ID Hilescuet\n",
      "Processing MRN 22 Phonetic_ID Fabacou\n",
      "Processing MRN 21 Phonetic_ID Pokuemo\n",
      "Processing MRN 20 Phonetic_ID Sracaqua\n",
      "Processing MRN 19 Phonetic_ID Hakingques\n",
      "Processing MRN 18 Phonetic_ID Tuerekom\n",
      "Processing MRN 17 Phonetic_ID Swofeku\n",
      "Processing MRN 16 Phonetic_ID Ridine\n",
      "Processing MRN 15 Phonetic_ID Mohuteg\n",
      "Patch ID nan is not a string\n",
      "Processing MRN 14 Phonetic_ID Rakajid\n",
      "Processing MRN 13 Phonetic_ID Jaquesif\n",
      "Processing MRN 12 Phonetic_ID Bekubo\n",
      "Processing MRN 11 Phonetic_ID Agunit\n",
      "Processing MRN 10 Phonetic_ID Nidogek\n",
      "Processing MRN 9 Phonetic_ID Lorutink\n",
      "Processing MRN 9 Phonetic_ID Dihudi\n",
      "Processing MRN 8 Phonetic_ID Socaba\n",
      "Processing MRN 7 Phonetic_ID Ukebjiem\n",
      "Processing MRN 6 Phonetic_ID Olcisof\n",
      "Processing MRN 6 Phonetic_ID Jebeemu\n",
      "Processing MRN 5 Phonetic_ID Jasnuflo\n",
      "Processing MRN 4 Phonetic_ID Gunifa\n",
      "Processing MRN 3 Phonetic_ID Tusliblu\n",
      "Processing MRN 2 Phonetic_ID Sopoopra\n",
      "Processing MRN 1 Phonetic_ID Minfirag\n"
     ]
    }
   ],
   "source": [
    "import tempfile\n",
    "\n",
    "from monai.visualize.utils import matshow3d\n",
    "from monai.data import CacheDataset, ThreadDataLoader, PersistentDataset\n",
    "from monai.transforms import (\n",
    "    Compose,\n",
    "    LoadImaged,\n",
    "    MapTransform,\n",
    "    ScaleIntensityRanged,\n",
    "    Orientationd,\n",
    "    Spacingd,\n",
    "    CropForegroundd,\n",
    "    SpatialCropd,\n",
    "    RandFlipd,\n",
    "    RandRotate90d,\n",
    "    RandShiftIntensityd,\n",
    "    EnsureTyped,\n",
    "    BorderPad,\n",
    "    SaveImaged,\n",
    "    Lambdad,\n",
    ")\n",
    "\n",
    "from monai.data import  decollate_batch\n",
    "\n",
    "import matplotlib.pyplot as plt\n",
    "from monai.networks.nets import SwinUNETR\n",
    "\n",
    "from monai.losses import DiceCELoss\n",
    "\n",
    "from monai.metrics import DiceMetric, ROCAUCMetric\n",
    "\n",
    "from monai.transforms import AsDiscrete\n",
    "\n",
    "from tqdm import tqdm\n",
    "\n",
    "from nodule_transforms.LoadArterysMaskd import LoadArterysMaskd\n",
    "from nodule_transforms.AddCustomerMetadatad import AddCustomerMetadatad\n",
    "from nodule_transforms.CropToNoduled import CropToNoduled\n",
    "\n",
    "\n",
    "\n",
    "import os\n",
    "import torch\n",
    "\n",
    "\n",
    "\n",
    "from data_tools.datatools import load_cancer_nodules_datalist, split_data\n",
    "\n",
    "\n",
    "directory = './monai_data'\n",
    "root_dir = tempfile.mkdtemp() if directory is None else directory\n",
    "cache_dir = './training_cache'\n",
    "\n",
    "CANCER_NODULES_DATASET_DIR = '/media/vlermakov/data/UCSDNodules/Metastatic/'\n",
    "PRE_PROCESSED_DIRECTORY = '/home/vlermakov/Development/Nodules/Nodule-Detection-LUNA2016/processed_data_full_range_075mm_fixed/'\n",
    "\n",
    "\n",
    "datalist = load_cancer_nodules_datalist(CANCER_NODULES_DATASET_DIR, PRE_PROCESSED_DIRECTORY)"
   ]
  },
  {
   "cell_type": "code",
   "execution_count": 8,
   "id": "2f62b607",
   "metadata": {},
   "outputs": [
    {
     "name": "stderr",
     "output_type": "stream",
     "text": [
      "\u001b[34m\u001b[1mwandb\u001b[0m: \u001b[33mWARNING\u001b[0m Calling wandb.login() after wandb.init() has no effect.\n"
     ]
    },
    {
     "data": {
      "text/html": [
       "Finishing last run (ID:sdhawwyq) before initializing another..."
      ],
      "text/plain": [
       "<IPython.core.display.HTML object>"
      ]
     },
     "metadata": {},
     "output_type": "display_data"
    },
    {
     "data": {
      "text/html": [
       "Waiting for W&B process to finish... <strong style=\"color:green\">(success).</strong>"
      ],
      "text/plain": [
       "<IPython.core.display.HTML object>"
      ]
     },
     "metadata": {},
     "output_type": "display_data"
    },
    {
     "data": {
      "application/vnd.jupyter.widget-view+json": {
       "model_id": "a02fbedbdd194d8bba681dc73a6c2bc0",
       "version_major": 2,
       "version_minor": 0
      },
      "text/plain": [
       "VBox(children=(Label(value='0.956 MB of 0.956 MB uploaded (0.066 MB deduped)\\r'), FloatProgress(value=1.0, max…"
      ]
     },
     "metadata": {},
     "output_type": "display_data"
    },
    {
     "data": {
      "text/html": [
       " View run <strong style=\"color:#cdcd00\">PreprocessData</strong> at: <a href='https://wandb.ai/vladimire/NoduleClassification/runs/sdhawwyq' target=\"_blank\">https://wandb.ai/vladimire/NoduleClassification/runs/sdhawwyq</a><br/> View job at <a href='https://wandb.ai/vladimire/NoduleClassification/jobs/QXJ0aWZhY3RDb2xsZWN0aW9uOjEwNzEwNjkxNg==/version_details/v0' target=\"_blank\">https://wandb.ai/vladimire/NoduleClassification/jobs/QXJ0aWZhY3RDb2xsZWN0aW9uOjEwNzEwNjkxNg==/version_details/v0</a><br/>Synced 6 W&B file(s), 1 media file(s), 5 artifact file(s) and 0 other file(s)"
      ],
      "text/plain": [
       "<IPython.core.display.HTML object>"
      ]
     },
     "metadata": {},
     "output_type": "display_data"
    },
    {
     "data": {
      "text/html": [
       "Find logs at: <code>./wandb/run-20231016_001950-sdhawwyq/logs</code>"
      ],
      "text/plain": [
       "<IPython.core.display.HTML object>"
      ]
     },
     "metadata": {},
     "output_type": "display_data"
    },
    {
     "data": {
      "text/html": [
       "Successfully finished last run (ID:sdhawwyq). Initializing new run:<br/>"
      ],
      "text/plain": [
       "<IPython.core.display.HTML object>"
      ]
     },
     "metadata": {},
     "output_type": "display_data"
    },
    {
     "data": {
      "application/vnd.jupyter.widget-view+json": {
       "model_id": "aaa2817019f74e1581a214ea6948f0ae",
       "version_major": 2,
       "version_minor": 0
      },
      "text/plain": [
       "VBox(children=(Label(value='Waiting for wandb.init()...\\r'), FloatProgress(value=0.011112290488866469, max=1.0…"
      ]
     },
     "metadata": {},
     "output_type": "display_data"
    },
    {
     "data": {
      "text/html": [
       "Tracking run with wandb version 0.15.12"
      ],
      "text/plain": [
       "<IPython.core.display.HTML object>"
      ]
     },
     "metadata": {},
     "output_type": "display_data"
    },
    {
     "data": {
      "text/html": [
       "Run data is saved locally in <code>/home/vlermakov/Development/Nodules/CancerClassification/wandb/run-20231016_002020-bl9ir4zj</code>"
      ],
      "text/plain": [
       "<IPython.core.display.HTML object>"
      ]
     },
     "metadata": {},
     "output_type": "display_data"
    },
    {
     "data": {
      "text/html": [
       "Syncing run <strong><a href='https://wandb.ai/vladimire/NoduleClassification/runs/bl9ir4zj' target=\"_blank\">PreprocessData</a></strong> to <a href='https://wandb.ai/vladimire/NoduleClassification' target=\"_blank\">Weights & Biases</a> (<a href='https://wandb.me/run' target=\"_blank\">docs</a>)<br/>"
      ],
      "text/plain": [
       "<IPython.core.display.HTML object>"
      ]
     },
     "metadata": {},
     "output_type": "display_data"
    },
    {
     "data": {
      "text/html": [
       " View project at <a href='https://wandb.ai/vladimire/NoduleClassification' target=\"_blank\">https://wandb.ai/vladimire/NoduleClassification</a>"
      ],
      "text/plain": [
       "<IPython.core.display.HTML object>"
      ]
     },
     "metadata": {},
     "output_type": "display_data"
    },
    {
     "data": {
      "text/html": [
       " View run at <a href='https://wandb.ai/vladimire/NoduleClassification/runs/bl9ir4zj' target=\"_blank\">https://wandb.ai/vladimire/NoduleClassification/runs/bl9ir4zj</a>"
      ],
      "text/plain": [
       "<IPython.core.display.HTML object>"
      ]
     },
     "metadata": {},
     "output_type": "display_data"
    },
    {
     "data": {
      "text/plain": [
       "<Artifact datalist_table>"
      ]
     },
     "execution_count": 8,
     "metadata": {},
     "output_type": "execute_result"
    }
   ],
   "source": [
    "import wandb\n",
    "import pandas as pd\n",
    "\n",
    "WANDB_PROJECT_NAME = \"NoduleClassification\"\n",
    "\n",
    "#87e3b4f079c5a73e70e9ebd3bda9dc48ee553d9f\n",
    "wandb.login(key='87e3b4f079c5a73e70e9ebd3bda9dc48ee553d9f')\n",
    "\n",
    "run_parameters = {\n",
    "    \"dataset_folder\": CANCER_NODULES_DATASET_DIR,\n",
    "    \"pre_processed_folder\": PRE_PROCESSED_DIRECTORY,\n",
    "    \"resample_resolution\": 0.75,\n",
    "    \"intensity_range_min\": -1000,\n",
    "    \"intensity_range_max\": 400\n",
    "}\n",
    "\n",
    "run = wandb.init(\n",
    "        # Set the project where this run will be logged\n",
    "        project=WANDB_PROJECT_NAME,\n",
    "        # We pass a run name (otherwise it’ll be randomly assigned, like sunshine-lollypop-10)\n",
    "        name=f\"PreprocessData\",\n",
    "        job_type=\"dataset\",\n",
    "        # Track hyperparameters and run metadata\n",
    "        config=run_parameters\n",
    "        )\n",
    "\n",
    "\n",
    "\n",
    "dataset_table = wandb.Table(dataframe=pd.DataFrame(datalist))\n",
    "\n",
    "dataset_artifact = wandb.Artifact(\n",
    "    'datalist_table',\n",
    "    type=\"dataset\"\n",
    "    )\n",
    "\n",
    "dataset_artifact.add(dataset_table, \"datalist_table\")\n",
    "\n",
    "# Log the raw csv file within an artifact to preserve our data\n",
    "dataset_artifact.add_file(os.path.join(run.config.dataset_folder, 'dataset.csv'))\n",
    "\n",
    "# Log the table to visualize with a run...\n",
    "run.log({\"dataset_table\": dataset_table})\n",
    "run.log_artifact(dataset_artifact)\n",
    "\n",
    "\n"
   ]
  },
  {
   "cell_type": "code",
   "execution_count": 22,
   "id": "16a271a5",
   "metadata": {},
   "outputs": [
    {
     "name": "stdout",
     "output_type": "stream",
     "text": [
      "Skipping this image.\n",
      "573\n"
     ]
    }
   ],
   "source": [
    "processed_scans = []\n",
    "unprocessed_scans = []\n",
    "n_processed = 0\n",
    "for p in datalist:\n",
    "    if(p['image'] == '/media/vlermakov/data/UCSDNodules/Metastatic/data/Woroxof__2.25.260876099222205460618271003114894681227/2.25.260876099222205460618271003114894681227/2.25.314316397946104988922756588776690923298'):\n",
    "        print(\"Skipping this image.\")\n",
    "        continue\n",
    "    if p['pre_processed']:\n",
    "        n_processed += 1 \n",
    "        processed_scans.append(p)\n",
    "    else:\n",
    "        unprocessed_scans.append(p)\n",
    "print(len(unprocessed_scans))"
   ]
  },
  {
   "cell_type": "code",
   "execution_count": 18,
   "id": "cf9fbfba",
   "metadata": {},
   "outputs": [
    {
     "data": {
      "text/plain": [
       "{'mask': '/media/vlermakov/data/UCSDNodules/Metastatic/segmentation/Fesaho-1697064513883.json',\n",
       " 'image': '/media/vlermakov/data/UCSDNodules/Metastatic/data/Fesaho__2.25.303573916076522530325854521132938747310/2.25.303573916076522530325854521132938747310/2.25.23160264776699173714896903404928629326',\n",
       " 'label': 2,\n",
       " 'phonetic_id': 'Fesaho',\n",
       " 'patch_id': '652215cc536992ecbb15f106-69c35cad0a8d3c48-1',\n",
       " 'mrn': '211',\n",
       " 'pre_processed': False}"
      ]
     },
     "execution_count": 18,
     "metadata": {},
     "output_type": "execute_result"
    }
   ],
   "source": []
  },
  {
   "cell_type": "code",
   "execution_count": null,
   "id": "2aded594",
   "metadata": {},
   "outputs": [],
   "source": [
    "train_data_list, val_data_list = split_data(datalist)"
   ]
  },
  {
   "cell_type": "code",
   "execution_count": null,
   "id": "c66a9351",
   "metadata": {},
   "outputs": [],
   "source": [
    "def get_data_list_stats(data_list):\n",
    "    n_pos = 0\n",
    "    n_neg = 0\n",
    "    n_total = 0\n",
    "    for l in data_list:\n",
    "        if(l['label'] == 0):\n",
    "            n_neg +=1\n",
    "        elif(l['label'] == 1):\n",
    "            n_pos += 1\n",
    "            \n",
    "        n_total += 1\n",
    "        \n",
    "    print(f\"P:{n_pos} N:{n_neg} T:{n_total} %pos: {n_pos/n_total:.2f}\")\n",
    "\n"
   ]
  },
  {
   "cell_type": "code",
   "execution_count": null,
   "id": "20e31079",
   "metadata": {},
   "outputs": [],
   "source": [
    "get_data_list_stats(train_data_list)"
   ]
  },
  {
   "cell_type": "code",
   "execution_count": null,
   "id": "32e8525d",
   "metadata": {},
   "outputs": [],
   "source": [
    "get_data_list_stats(val_data_list)"
   ]
  },
  {
   "cell_type": "code",
   "execution_count": 23,
   "id": "71190da8",
   "metadata": {},
   "outputs": [
    {
     "name": "stderr",
     "output_type": "stream",
     "text": [
      "\r",
      "Loading dataset:   0%|                                                                                                                                                         | 0/572 [00:00<?, ?it/s]"
     ]
    },
    {
     "name": "stdout",
     "output_type": "stream",
     "text": [
      "2023-10-16 00:39:33,994 INFO image_writer.py:197 - writing: /home/vlermakov/Development/Nodules/Nodule-Detection-LUNA2016/processed_data_full_range_075mm_fixed/Hadaseb__63532b486d8ba20945492871-cea5c802b75e489a-1/Hadaseb__63532b486d8ba20945492871-cea5c802b75e489a-1_image_0.nii.gz\n",
      "2023-10-16 00:39:34,894 INFO image_writer.py:197 - writing: /home/vlermakov/Development/Nodules/Nodule-Detection-LUNA2016/processed_data_full_range_075mm_fixed/Hadaseb__63532b486d8ba20945492871-cea5c802b75e489a-1/Hadaseb__63532b486d8ba20945492871-cea5c802b75e489a-1_mask_0.nii.gz\n",
      "2023-10-16 00:39:47,509 INFO image_writer.py:197 - writing: /home/vlermakov/Development/Nodules/Nodule-Detection-LUNA2016/processed_data_full_range_075mm_fixed/Coofapas__6355a8a4fa791c099aa28b37-d0c28a26af8e2699-3/Coofapas__6355a8a4fa791c099aa28b37-d0c28a26af8e2699-3_image_0.nii.gz\n",
      "2023-10-16 00:39:47,988 INFO image_writer.py:197 - writing: /home/vlermakov/Development/Nodules/Nodule-Detection-LUNA2016/processed_data_full_range_075mm_fixed/Unoonur__6355a7ea8ccb640a52e9458a-1b9d030d032f708f-3/Unoonur__6355a7ea8ccb640a52e9458a-1b9d030d032f708f-3_image_0.nii.gz\n",
      "2023-10-16 00:39:49,542 INFO image_writer.py:197 - writing: /home/vlermakov/Development/Nodules/Nodule-Detection-LUNA2016/processed_data_full_range_075mm_fixed/Unoonur__6355a7ea8ccb640a52e9458a-1b9d030d032f708f-3/Unoonur__6355a7ea8ccb640a52e9458a-1b9d030d032f708f-3_mask_0.nii.gz\n",
      "2023-10-16 00:39:49,630 INFO image_writer.py:197 - writing: /home/vlermakov/Development/Nodules/Nodule-Detection-LUNA2016/processed_data_full_range_075mm_fixed/Coofapas__6355a8a4fa791c099aa28b37-d0c28a26af8e2699-3/Coofapas__6355a8a4fa791c099aa28b37-d0c28a26af8e2699-3_mask_0.nii.gz\n"
     ]
    },
    {
     "name": "stderr",
     "output_type": "stream",
     "text": [
      "\r",
      "Loading dataset:   0%|▎                                                                                                                                              | 1/572 [00:44<7:07:14, 44.89s/it]"
     ]
    },
    {
     "name": "stdout",
     "output_type": "stream",
     "text": [
      "2023-10-16 00:40:08,483 INFO image_writer.py:197 - writing: /home/vlermakov/Development/Nodules/Nodule-Detection-LUNA2016/processed_data_full_range_075mm_fixed/Raswizu__63531192a7e5600a0338d705-a35561487dff4e1c-1/Raswizu__63531192a7e5600a0338d705-a35561487dff4e1c-1_image_0.nii.gz\n",
      "2023-10-16 00:40:08,766 INFO image_writer.py:197 - writing: /home/vlermakov/Development/Nodules/Nodule-Detection-LUNA2016/processed_data_full_range_075mm_fixed/Sufourog__635311d4c0271909c1499bc4-abaf860bda383fc8-1/Sufourog__635311d4c0271909c1499bc4-abaf860bda383fc8-1_image_0.nii.gz\n",
      "2023-10-16 00:40:08,972 INFO image_writer.py:197 - writing: /home/vlermakov/Development/Nodules/Nodule-Detection-LUNA2016/processed_data_full_range_075mm_fixed/Raswizu__63531192a7e5600a0338d705-a35561487dff4e1c-1/Raswizu__63531192a7e5600a0338d705-a35561487dff4e1c-1_mask_0.nii.gz\n",
      "2023-10-16 00:40:09,014 INFO image_writer.py:197 - writing: /home/vlermakov/Development/Nodules/Nodule-Detection-LUNA2016/processed_data_full_range_075mm_fixed/Phukrezee__63532c73e6c80f09b2414b92-8c65ba4e5ff96ad4-1/Phukrezee__63532c73e6c80f09b2414b92-8c65ba4e5ff96ad4-1_image_0.nii.gz\n",
      "2023-10-16 00:40:09,037 INFO image_writer.py:197 - writing: /home/vlermakov/Development/Nodules/Nodule-Detection-LUNA2016/processed_data_full_range_075mm_fixed/Quecuge__6355a89d95024c09500a02cd-8d0b514601b6dd5f-2/Quecuge__6355a89d95024c09500a02cd-8d0b514601b6dd5f-2_image_0.nii.gz\n",
      "2023-10-16 00:40:09,073 INFO image_writer.py:197 - writing: /home/vlermakov/Development/Nodules/Nodule-Detection-LUNA2016/processed_data_full_range_075mm_fixed/Frakapbad__63530fc5eb8f6009ab0fb1ce-49aaf835d941fba4-2/Frakapbad__63530fc5eb8f6009ab0fb1ce-49aaf835d941fba4-2_image_0.nii.gz\n",
      "2023-10-16 00:40:09,088 INFO image_writer.py:197 - writing: /home/vlermakov/Development/Nodules/Nodule-Detection-LUNA2016/processed_data_full_range_075mm_fixed/Sufourog__635311d4c0271909c1499bc4-abaf860bda383fc8-1/Sufourog__635311d4c0271909c1499bc4-abaf860bda383fc8-1_mask_0.nii.gz\n",
      "2023-10-16 00:40:29,080 INFO image_writer.py:197 - writing: /home/vlermakov/Development/Nodules/Nodule-Detection-LUNA2016/processed_data_full_range_075mm_fixed/Phukrezee__63532c73e6c80f09b2414b92-8c65ba4e5ff96ad4-1/Phukrezee__63532c73e6c80f09b2414b92-8c65ba4e5ff96ad4-1_mask_0.nii.gz\n",
      "2023-10-16 00:40:29,120 INFO image_writer.py:197 - writing: /home/vlermakov/Development/Nodules/Nodule-Detection-LUNA2016/processed_data_full_range_075mm_fixed/Quecuge__6355a89d95024c09500a02cd-8d0b514601b6dd5f-2/Quecuge__6355a89d95024c09500a02cd-8d0b514601b6dd5f-2_mask_0.nii.gz\n",
      "2023-10-16 00:40:29,129 INFO image_writer.py:197 - writing: /home/vlermakov/Development/Nodules/Nodule-Detection-LUNA2016/processed_data_full_range_075mm_fixed/Frakapbad__63530fc5eb8f6009ab0fb1ce-49aaf835d941fba4-2/Frakapbad__63530fc5eb8f6009ab0fb1ce-49aaf835d941fba4-2_mask_0.nii.gz\n"
     ]
    },
    {
     "name": "stderr",
     "output_type": "stream",
     "text": [
      "Loading dataset:   1%|▊                                                                                                                                              | 3/572 [01:33<4:24:28, 27.89s/it]"
     ]
    },
    {
     "name": "stdout",
     "output_type": "stream",
     "text": [
      "2023-10-16 00:41:27,056 INFO image_writer.py:197 - writing: /home/vlermakov/Development/Nodules/Nodule-Detection-LUNA2016/processed_data_full_range_075mm_fixed/Frakapbad__63530fc5eb8f6009ab0fb1ce-49aaf835d941fba4-7/Frakapbad__63530fc5eb8f6009ab0fb1ce-49aaf835d941fba4-7_image_0.nii.gz\n",
      "2023-10-16 00:41:27,194 INFO image_writer.py:197 - writing: /home/vlermakov/Development/Nodules/Nodule-Detection-LUNA2016/processed_data_full_range_075mm_fixed/Frakapbad__63530fc5eb8f6009ab0fb1ce-49aaf835d941fba4-7/Frakapbad__63530fc5eb8f6009ab0fb1ce-49aaf835d941fba4-7_mask_0.nii.gz\n"
     ]
    },
    {
     "name": "stderr",
     "output_type": "stream",
     "text": [
      "\r",
      "Loading dataset:   2%|██▎                                                                                                                                            | 9/572 [02:12<1:41:41, 10.84s/it]"
     ]
    },
    {
     "name": "stdout",
     "output_type": "stream",
     "text": [
      "2023-10-16 00:41:36,572 INFO image_writer.py:197 - writing: /home/vlermakov/Development/Nodules/Nodule-Detection-LUNA2016/processed_data_full_range_075mm_fixed/Afomid__63530d7c597a240925ac2548-875f2eacbe3313c0-1/Afomid__63530d7c597a240925ac2548-875f2eacbe3313c0-1_image_0.nii.gz\n",
      "2023-10-16 00:41:36,600 INFO image_writer.py:197 - writing: /home/vlermakov/Development/Nodules/Nodule-Detection-LUNA2016/processed_data_full_range_075mm_fixed/Jeyaros__635310212de2980a3869a005-ab09b7e07fc358a5-1/Jeyaros__635310212de2980a3869a005-ab09b7e07fc358a5-1_image_0.nii.gz\n",
      "2023-10-16 00:41:36,649 INFO image_writer.py:197 - writing: /home/vlermakov/Development/Nodules/Nodule-Detection-LUNA2016/processed_data_full_range_075mm_fixed/Froluju__63530e4fc0271909c1499bc1-e5d07572adebbdf3-1/Froluju__63530e4fc0271909c1499bc1-e5d07572adebbdf3-1_image_0.nii.gz\n",
      "2023-10-16 00:41:36,943 INFO image_writer.py:197 - writing: /home/vlermakov/Development/Nodules/Nodule-Detection-LUNA2016/processed_data_full_range_075mm_fixed/Afomid__63530d7c597a240925ac2548-875f2eacbe3313c0-1/Afomid__63530d7c597a240925ac2548-875f2eacbe3313c0-1_mask_0.nii.gz\n",
      "2023-10-16 00:41:37,075 INFO image_writer.py:197 - writing: /home/vlermakov/Development/Nodules/Nodule-Detection-LUNA2016/processed_data_full_range_075mm_fixed/Etolut__63530d246d8ba20945492860-19e395f543b91db5-1/Etolut__63530d246d8ba20945492860-19e395f543b91db5-1_image_0.nii.gz\n",
      "2023-10-16 00:41:37,316 INFO image_writer.py:197 - writing: /home/vlermakov/Development/Nodules/Nodule-Detection-LUNA2016/processed_data_full_range_075mm_fixed/Jeyaros__635310212de2980a3869a005-ab09b7e07fc358a5-1/Jeyaros__635310212de2980a3869a005-ab09b7e07fc358a5-1_mask_0.nii.gz\n",
      "2023-10-16 00:41:37,498 INFO image_writer.py:197 - writing: /home/vlermakov/Development/Nodules/Nodule-Detection-LUNA2016/processed_data_full_range_075mm_fixed/Froluju__63530e4fc0271909c1499bc1-e5d07572adebbdf3-1/Froluju__63530e4fc0271909c1499bc1-e5d07572adebbdf3-1_mask_0.nii.gz\n",
      "2023-10-16 00:41:37,603 INFO image_writer.py:197 - writing: /home/vlermakov/Development/Nodules/Nodule-Detection-LUNA2016/processed_data_full_range_075mm_fixed/Etolut__63530d246d8ba20945492860-19e395f543b91db5-1/Etolut__63530d246d8ba20945492860-19e395f543b91db5-1_mask_0.nii.gz\n"
     ]
    },
    {
     "name": "stderr",
     "output_type": "stream",
     "text": [
      "Loading dataset:   2%|██▋                                                                                                                                           | 11/572 [02:45<1:52:27, 12.03s/it]"
     ]
    },
    {
     "name": "stdout",
     "output_type": "stream",
     "text": [
      "2023-10-16 00:42:03,340 INFO image_writer.py:197 - writing: /home/vlermakov/Development/Nodules/Nodule-Detection-LUNA2016/processed_data_full_range_075mm_fixed/Dooflaho__63530f806d8ba20945492862-072689b5ca85d0a2-1/Dooflaho__63530f806d8ba20945492862-072689b5ca85d0a2-1_image_0.nii.gz\n",
      "2023-10-16 00:42:03,440 INFO image_writer.py:197 - writing: /home/vlermakov/Development/Nodules/Nodule-Detection-LUNA2016/processed_data_full_range_075mm_fixed/Ulekep__63530f19c0271909c1499bc2-e79e9a6918ae41c1-1/Ulekep__63530f19c0271909c1499bc2-e79e9a6918ae41c1-1_image_0.nii.gz\n",
      "2023-10-16 00:42:03,661 INFO image_writer.py:197 - writing: /home/vlermakov/Development/Nodules/Nodule-Detection-LUNA2016/processed_data_full_range_075mm_fixed/Dooflaho__63530f806d8ba20945492862-072689b5ca85d0a2-1/Dooflaho__63530f806d8ba20945492862-072689b5ca85d0a2-1_mask_0.nii.gz\n",
      "2023-10-16 00:42:03,743 INFO image_writer.py:197 - writing: /home/vlermakov/Development/Nodules/Nodule-Detection-LUNA2016/processed_data_full_range_075mm_fixed/Eyookir__63530ec56d8ba20945492861-de328763596a11a8-1/Eyookir__63530ec56d8ba20945492861-de328763596a11a8-1_image_0.nii.gz\n",
      "2023-10-16 00:42:03,761 INFO image_writer.py:197 - writing: /home/vlermakov/Development/Nodules/Nodule-Detection-LUNA2016/processed_data_full_range_075mm_fixed/Ulekep__63530f19c0271909c1499bc2-e79e9a6918ae41c1-1/Ulekep__63530f19c0271909c1499bc2-e79e9a6918ae41c1-1_mask_0.nii.gz\n",
      "2023-10-16 00:42:03,857 INFO image_writer.py:197 - writing: /home/vlermakov/Development/Nodules/Nodule-Detection-LUNA2016/processed_data_full_range_075mm_fixed/Eyookir__63530ec56d8ba20945492861-de328763596a11a8-1/Eyookir__63530ec56d8ba20945492861-de328763596a11a8-1_mask_0.nii.gz\n"
     ]
    },
    {
     "name": "stderr",
     "output_type": "stream",
     "text": [
      "Loading dataset:   3%|███▋                                                                                                                                          | 15/572 [03:11<1:26:31,  9.32s/it]"
     ]
    },
    {
     "name": "stdout",
     "output_type": "stream",
     "text": [
      "2023-10-16 00:42:36,766 INFO image_writer.py:197 - writing: /home/vlermakov/Development/Nodules/Nodule-Detection-LUNA2016/processed_data_full_range_075mm_fixed/Rabili__63530d11eb8f6009ab0fb1cb-2cb41eefc5bc161b-1/Rabili__63530d11eb8f6009ab0fb1cb-2cb41eefc5bc161b-1_image_0.nii.gz\n",
      "2023-10-16 00:42:37,310 INFO image_writer.py:197 - writing: /home/vlermakov/Development/Nodules/Nodule-Detection-LUNA2016/processed_data_full_range_075mm_fixed/Rabili__63530d11eb8f6009ab0fb1cb-2cb41eefc5bc161b-1/Rabili__63530d11eb8f6009ab0fb1cb-2cb41eefc5bc161b-1_mask_0.nii.gz\n"
     ]
    },
    {
     "name": "stderr",
     "output_type": "stream",
     "text": [
      "\r",
      "Loading dataset:   3%|████▏                                                                                                                                         | 17/572 [03:23<1:15:58,  8.21s/it]"
     ]
    },
    {
     "name": "stdout",
     "output_type": "stream",
     "text": [
      "2023-10-16 00:42:43,851 INFO image_writer.py:197 - writing: /home/vlermakov/Development/Nodules/Nodule-Detection-LUNA2016/processed_data_full_range_075mm_fixed/Erielep__63530843dfcb030a164b26ab-c84ec9a2a390303e-2/Erielep__63530843dfcb030a164b26ab-c84ec9a2a390303e-2_image_0.nii.gz\n",
      "2023-10-16 00:42:44,017 INFO image_writer.py:197 - writing: /home/vlermakov/Development/Nodules/Nodule-Detection-LUNA2016/processed_data_full_range_075mm_fixed/Erielep__63530843dfcb030a164b26ab-c84ec9a2a390303e-2/Erielep__63530843dfcb030a164b26ab-c84ec9a2a390303e-2_mask_0.nii.gz\n",
      "2023-10-16 00:43:14,893 INFO image_writer.py:197 - writing: /home/vlermakov/Development/Nodules/Nodule-Detection-LUNA2016/processed_data_full_range_075mm_fixed/Boyofem__635307ebe95b41097bc09ada-dd3073766f9fe17f-3/Boyofem__635307ebe95b41097bc09ada-dd3073766f9fe17f-3_image_0.nii.gz\n",
      "2023-10-16 00:43:15,762 INFO image_writer.py:197 - writing: /home/vlermakov/Development/Nodules/Nodule-Detection-LUNA2016/processed_data_full_range_075mm_fixed/Boyofem__635307ebe95b41097bc09ada-dd3073766f9fe17f-3/Boyofem__635307ebe95b41097bc09ada-dd3073766f9fe17f-3_mask_0.nii.gz\n",
      "2023-10-16 00:43:25,309 INFO image_writer.py:197 - writing: /home/vlermakov/Development/Nodules/Nodule-Detection-LUNA2016/processed_data_full_range_075mm_fixed/Gacueru__635307d33382f209c06bb2cd-3a8219982131dade-2/Gacueru__635307d33382f209c06bb2cd-3a8219982131dade-2_image_0.nii.gz\n",
      "2023-10-16 00:43:25,680 INFO image_writer.py:197 - writing: /home/vlermakov/Development/Nodules/Nodule-Detection-LUNA2016/processed_data_full_range_075mm_fixed/Jokeglie__63530b98e95b41097bc09adb-d41431a43b2da981-18/Jokeglie__63530b98e95b41097bc09adb-d41431a43b2da981-18_image_0.nii.gz\n",
      "2023-10-16 00:43:25,729 INFO image_writer.py:197 - writing: /home/vlermakov/Development/Nodules/Nodule-Detection-LUNA2016/processed_data_full_range_075mm_fixed/Jokeglie__63530b98e95b41097bc09adb-d41431a43b2da981-100/Jokeglie__63530b98e95b41097bc09adb-d41431a43b2da981-100_image_0.nii.gz\n",
      "2023-10-16 00:43:25,854 INFO image_writer.py:197 - writing: /home/vlermakov/Development/Nodules/Nodule-Detection-LUNA2016/processed_data_full_range_075mm_fixed/Rafosur__63530b62c0271909c1499bbf-5a89e35f08f37727-21/Rafosur__63530b62c0271909c1499bbf-5a89e35f08f37727-21_image_0.nii.gz\n",
      "2023-10-16 00:43:26,024 INFO image_writer.py:197 - writing: /home/vlermakov/Development/Nodules/Nodule-Detection-LUNA2016/processed_data_full_range_075mm_fixed/Gacueru__635307d33382f209c06bb2cd-3a8219982131dade-2/Gacueru__635307d33382f209c06bb2cd-3a8219982131dade-2_mask_0.nii.gz\n",
      "2023-10-16 00:43:26,305 INFO image_writer.py:197 - writing: /home/vlermakov/Development/Nodules/Nodule-Detection-LUNA2016/processed_data_full_range_075mm_fixed/Jokeglie__63530b98e95b41097bc09adb-d41431a43b2da981-18/Jokeglie__63530b98e95b41097bc09adb-d41431a43b2da981-18_mask_0.nii.gz\n",
      "2023-10-16 00:43:26,476 INFO image_writer.py:197 - writing: /home/vlermakov/Development/Nodules/Nodule-Detection-LUNA2016/processed_data_full_range_075mm_fixed/Jokeglie__63530b98e95b41097bc09adb-d41431a43b2da981-100/Jokeglie__63530b98e95b41097bc09adb-d41431a43b2da981-100_mask_0.nii.gz\n",
      "2023-10-16 00:43:26,962 INFO image_writer.py:197 - writing: /home/vlermakov/Development/Nodules/Nodule-Detection-LUNA2016/processed_data_full_range_075mm_fixed/Rafosur__63530b62c0271909c1499bbf-5a89e35f08f37727-21/Rafosur__63530b62c0271909c1499bbf-5a89e35f08f37727-21_mask_0.nii.gz\n"
     ]
    },
    {
     "name": "stderr",
     "output_type": "stream",
     "text": [
      "Loading dataset:   3%|████▋                                                                                                                                         | 19/572 [04:31<2:21:26, 15.35s/it]"
     ]
    },
    {
     "name": "stdout",
     "output_type": "stream",
     "text": [
      "2023-10-16 00:43:53,071 INFO image_writer.py:197 - writing: /home/vlermakov/Development/Nodules/Nodule-Detection-LUNA2016/processed_data_full_range_075mm_fixed/Legakjop__63530c033382f209c06bb2d0-dc6221634618c972-10/Legakjop__63530c033382f209c06bb2d0-dc6221634618c972-10_image_0.nii.gz\n",
      "2023-10-16 00:43:53,119 INFO image_writer.py:197 - writing: /home/vlermakov/Development/Nodules/Nodule-Detection-LUNA2016/processed_data_full_range_075mm_fixed/Legakjop__63530c033382f209c06bb2d0-dc6221634618c972-16/Legakjop__63530c033382f209c06bb2d0-dc6221634618c972-16_image_0.nii.gz\n",
      "2023-10-16 00:43:53,395 INFO image_writer.py:197 - writing: /home/vlermakov/Development/Nodules/Nodule-Detection-LUNA2016/processed_data_full_range_075mm_fixed/Legakjop__63530c033382f209c06bb2d0-dc6221634618c972-10/Legakjop__63530c033382f209c06bb2d0-dc6221634618c972-10_mask_0.nii.gz\n",
      "2023-10-16 00:43:53,557 INFO image_writer.py:197 - writing: /home/vlermakov/Development/Nodules/Nodule-Detection-LUNA2016/processed_data_full_range_075mm_fixed/Legakjop__63530c033382f209c06bb2d0-dc6221634618c972-16/Legakjop__63530c033382f209c06bb2d0-dc6221634618c972-16_mask_0.nii.gz\n"
     ]
    },
    {
     "name": "stderr",
     "output_type": "stream",
     "text": [
      "Loading dataset:   4%|█████▏                                                                                                                                        | 21/572 [04:48<1:53:00, 12.30s/it]"
     ]
    },
    {
     "name": "stdout",
     "output_type": "stream",
     "text": [
      "2023-10-16 00:44:06,938 INFO image_writer.py:197 - writing: /home/vlermakov/Development/Nodules/Nodule-Detection-LUNA2016/processed_data_full_range_075mm_fixed/Datenu__6353091e3382f209c06bb2cf-be0f0957e0355444-2/Datenu__6353091e3382f209c06bb2cf-be0f0957e0355444-2_image_0.nii.gz\n",
      "2023-10-16 00:44:07,495 INFO image_writer.py:197 - writing: /home/vlermakov/Development/Nodules/Nodule-Detection-LUNA2016/processed_data_full_range_075mm_fixed/Datenu__6353091e3382f209c06bb2cf-be0f0957e0355444-2/Datenu__6353091e3382f209c06bb2cf-be0f0957e0355444-2_mask_0.nii.gz\n"
     ]
    },
    {
     "name": "stderr",
     "output_type": "stream",
     "text": [
      "\r",
      "Loading dataset:   5%|██████▌                                                                                                                                         | 26/572 [04:59<52:47,  5.80s/it]"
     ]
    },
    {
     "name": "stdout",
     "output_type": "stream",
     "text": [
      "2023-10-16 00:44:29,406 INFO image_writer.py:197 - writing: /home/vlermakov/Development/Nodules/Nodule-Detection-LUNA2016/processed_data_full_range_075mm_fixed/Nulogo__6353040ddfcb030a164b26a9-da54974f0e64a44e-1/Nulogo__6353040ddfcb030a164b26a9-da54974f0e64a44e-1_image_0.nii.gz\n",
      "2023-10-16 00:44:29,519 INFO image_writer.py:197 - writing: /home/vlermakov/Development/Nodules/Nodule-Detection-LUNA2016/processed_data_full_range_075mm_fixed/Nulogo__6353040ddfcb030a164b26a9-da54974f0e64a44e-1/Nulogo__6353040ddfcb030a164b26a9-da54974f0e64a44e-1_mask_0.nii.gz\n",
      "2023-10-16 00:44:37,318 INFO image_writer.py:197 - writing: /home/vlermakov/Development/Nodules/Nodule-Detection-LUNA2016/processed_data_full_range_075mm_fixed/Traluga__635303194ea5be09b7ad9637-d8a908c2ebf0eea6-1/Traluga__635303194ea5be09b7ad9637-d8a908c2ebf0eea6-1_image_0.nii.gz\n",
      "2023-10-16 00:44:37,403 INFO image_writer.py:197 - writing: /home/vlermakov/Development/Nodules/Nodule-Detection-LUNA2016/processed_data_full_range_075mm_fixed/Rofoote__635304efeb8f6009ab0fb1ca-7a55bfc2e2a1b9d9-1/Rofoote__635304efeb8f6009ab0fb1ca-7a55bfc2e2a1b9d9-1_image_0.nii.gz\n",
      "2023-10-16 00:44:37,548 INFO image_writer.py:197 - writing: /home/vlermakov/Development/Nodules/Nodule-Detection-LUNA2016/processed_data_full_range_075mm_fixed/Amuxos__63531925eb8f6009ab0fb1da-8de248c7c2d2292f-1/Amuxos__63531925eb8f6009ab0fb1da-8de248c7c2d2292f-1_image_0.nii.gz\n",
      "2023-10-16 00:44:37,687 INFO image_writer.py:197 - writing: /home/vlermakov/Development/Nodules/Nodule-Detection-LUNA2016/processed_data_full_range_075mm_fixed/Pumeque__635305c2dfcb030a164b26aa-451ba555abecf74f-1/Pumeque__635305c2dfcb030a164b26aa-451ba555abecf74f-1_image_0.nii.gz\n",
      "2023-10-16 00:44:38,470 INFO image_writer.py:197 - writing: /home/vlermakov/Development/Nodules/Nodule-Detection-LUNA2016/processed_data_full_range_075mm_fixed/Traluga__635303194ea5be09b7ad9637-d8a908c2ebf0eea6-1/Traluga__635303194ea5be09b7ad9637-d8a908c2ebf0eea6-1_mask_0.nii.gz\n",
      "2023-10-16 00:44:38,551 INFO image_writer.py:197 - writing: /home/vlermakov/Development/Nodules/Nodule-Detection-LUNA2016/processed_data_full_range_075mm_fixed/Amuxos__63531925eb8f6009ab0fb1da-8de248c7c2d2292f-1/Amuxos__63531925eb8f6009ab0fb1da-8de248c7c2d2292f-1_mask_0.nii.gz\n",
      "2023-10-16 00:44:38,561 INFO image_writer.py:197 - writing: /home/vlermakov/Development/Nodules/Nodule-Detection-LUNA2016/processed_data_full_range_075mm_fixed/Pumeque__635305c2dfcb030a164b26aa-451ba555abecf74f-1/Pumeque__635305c2dfcb030a164b26aa-451ba555abecf74f-1_mask_0.nii.gz\n",
      "2023-10-16 00:44:38,663 INFO image_writer.py:197 - writing: /home/vlermakov/Development/Nodules/Nodule-Detection-LUNA2016/processed_data_full_range_075mm_fixed/Rofoote__635304efeb8f6009ab0fb1ca-7a55bfc2e2a1b9d9-1/Rofoote__635304efeb8f6009ab0fb1ca-7a55bfc2e2a1b9d9-1_mask_0.nii.gz\n"
     ]
    },
    {
     "name": "stderr",
     "output_type": "stream",
     "text": [
      "Loading dataset:   5%|██████▉                                                                                                                                       | 28/572 [05:45<1:40:13, 11.05s/it]"
     ]
    },
    {
     "name": "stdout",
     "output_type": "stream",
     "text": [
      "2023-10-16 00:45:02,471 INFO image_writer.py:197 - writing: /home/vlermakov/Development/Nodules/Nodule-Detection-LUNA2016/processed_data_full_range_075mm_fixed/Bokrofa__619d85afd33cd60d09d141e1-3dd48176fb2fb9dc-1/Bokrofa__619d85afd33cd60d09d141e1-3dd48176fb2fb9dc-1_image_0.nii.gz\n",
      "2023-10-16 00:45:02,509 INFO image_writer.py:197 - writing: /home/vlermakov/Development/Nodules/Nodule-Detection-LUNA2016/processed_data_full_range_075mm_fixed/Pigalu__6109a4ca6583e70a166a4639-ce8335541f4473b3-1/Pigalu__6109a4ca6583e70a166a4639-ce8335541f4473b3-1_image_0.nii.gz\n",
      "2023-10-16 00:45:02,768 INFO image_writer.py:197 - writing: /home/vlermakov/Development/Nodules/Nodule-Detection-LUNA2016/processed_data_full_range_075mm_fixed/Bokrofa__619d85afd33cd60d09d141e1-3dd48176fb2fb9dc-1/Bokrofa__619d85afd33cd60d09d141e1-3dd48176fb2fb9dc-1_mask_0.nii.gz\n",
      "2023-10-16 00:45:02,953 INFO image_writer.py:197 - writing: /home/vlermakov/Development/Nodules/Nodule-Detection-LUNA2016/processed_data_full_range_075mm_fixed/Pigalu__6109a4ca6583e70a166a4639-ce8335541f4473b3-1/Pigalu__6109a4ca6583e70a166a4639-ce8335541f4473b3-1_mask_0.nii.gz\n"
     ]
    },
    {
     "name": "stderr",
     "output_type": "stream",
     "text": [
      "Loading dataset:   6%|████████▎                                                                                                                                       | 33/572 [06:00<59:52,  6.67s/it]"
     ]
    },
    {
     "name": "stdout",
     "output_type": "stream",
     "text": [
      "2023-10-16 00:45:30,900 INFO image_writer.py:197 - writing: /home/vlermakov/Development/Nodules/Nodule-Detection-LUNA2016/processed_data_full_range_075mm_fixed/Rajife__635319b84d61f4090341aa4a-4d678da916261284-1/Rajife__635319b84d61f4090341aa4a-4d678da916261284-1_image_0.nii.gz\n",
      "2023-10-16 00:45:31,044 INFO image_writer.py:197 - writing: /home/vlermakov/Development/Nodules/Nodule-Detection-LUNA2016/processed_data_full_range_075mm_fixed/Rajife__635319b84d61f4090341aa4a-4d678da916261284-1/Rajife__635319b84d61f4090341aa4a-4d678da916261284-1_mask_0.nii.gz\n"
     ]
    },
    {
     "name": "stderr",
     "output_type": "stream",
     "text": [
      "\r",
      "Loading dataset:   6%|████████▍                                                                                                                                     | 34/572 [06:15<1:13:29,  8.20s/it]"
     ]
    },
    {
     "name": "stdout",
     "output_type": "stream",
     "text": [
      "2023-10-16 00:45:40,333 INFO image_writer.py:197 - writing: /home/vlermakov/Development/Nodules/Nodule-Detection-LUNA2016/processed_data_full_range_075mm_fixed/Gatusoup__5d2d10eb5a72dad59db78ac8-dbbdccecbd92530b-1/Gatusoup__5d2d10eb5a72dad59db78ac8-dbbdccecbd92530b-1_image_0.nii.gz\n",
      "2023-10-16 00:45:41,067 INFO image_writer.py:197 - writing: /home/vlermakov/Development/Nodules/Nodule-Detection-LUNA2016/processed_data_full_range_075mm_fixed/Gatusoup__5d2d10eb5a72dad59db78ac8-dbbdccecbd92530b-1/Gatusoup__5d2d10eb5a72dad59db78ac8-dbbdccecbd92530b-1_mask_0.nii.gz\n",
      "2023-10-16 00:45:54,419 INFO image_writer.py:197 - writing: /home/vlermakov/Development/Nodules/Nodule-Detection-LUNA2016/processed_data_full_range_075mm_fixed/Rapuha__6353194a4d61f4090341aa49-92e3696a19e65554-1/Rapuha__6353194a4d61f4090341aa49-92e3696a19e65554-1_image_0.nii.gz\n",
      "2023-10-16 00:45:54,444 INFO image_writer.py:197 - writing: /home/vlermakov/Development/Nodules/Nodule-Detection-LUNA2016/processed_data_full_range_075mm_fixed/Dupana__6353165c4746f609d601948f-eeb1565dc0696a3a-3/Dupana__6353165c4746f609d601948f-eeb1565dc0696a3a-3_image_0.nii.gz\n",
      "2023-10-16 00:45:54,739 INFO image_writer.py:197 - writing: /home/vlermakov/Development/Nodules/Nodule-Detection-LUNA2016/processed_data_full_range_075mm_fixed/Nestunesk__635316474d61f4090341aa45-2ba4cbc1a511a401-5/Nestunesk__635316474d61f4090341aa45-2ba4cbc1a511a401-5_image_0.nii.gz\n",
      "2023-10-16 00:45:55,364 INFO image_writer.py:197 - writing: /home/vlermakov/Development/Nodules/Nodule-Detection-LUNA2016/processed_data_full_range_075mm_fixed/Rapuha__6353194a4d61f4090341aa49-92e3696a19e65554-1/Rapuha__6353194a4d61f4090341aa49-92e3696a19e65554-1_mask_0.nii.gz\n",
      "2023-10-16 00:45:55,493 INFO image_writer.py:197 - writing: /home/vlermakov/Development/Nodules/Nodule-Detection-LUNA2016/processed_data_full_range_075mm_fixed/Dupana__6353165c4746f609d601948f-eeb1565dc0696a3a-3/Dupana__6353165c4746f609d601948f-eeb1565dc0696a3a-3_mask_0.nii.gz\n",
      "2023-10-16 00:45:56,004 INFO image_writer.py:197 - writing: /home/vlermakov/Development/Nodules/Nodule-Detection-LUNA2016/processed_data_full_range_075mm_fixed/Nestunesk__635316474d61f4090341aa45-2ba4cbc1a511a401-5/Nestunesk__635316474d61f4090341aa45-2ba4cbc1a511a401-5_mask_0.nii.gz\n",
      "2023-10-16 00:46:15,483 INFO image_writer.py:197 - writing: /home/vlermakov/Development/Nodules/Nodule-Detection-LUNA2016/processed_data_full_range_075mm_fixed/Dulakip__635318b34d61f4090341aa48-a6d7ca8c0ab352c5-1/Dulakip__635318b34d61f4090341aa48-a6d7ca8c0ab352c5-1_image_0.nii.gz\n",
      "2023-10-16 00:46:16,554 INFO image_writer.py:197 - writing: /home/vlermakov/Development/Nodules/Nodule-Detection-LUNA2016/processed_data_full_range_075mm_fixed/Dulakip__635318b34d61f4090341aa48-a6d7ca8c0ab352c5-1/Dulakip__635318b34d61f4090341aa48-a6d7ca8c0ab352c5-1_mask_0.nii.gz\n"
     ]
    },
    {
     "name": "stderr",
     "output_type": "stream",
     "text": [
      "Loading dataset:   6%|████████▉                                                                                                                                     | 36/572 [07:09<2:03:24, 13.82s/it]"
     ]
    },
    {
     "name": "stdout",
     "output_type": "stream",
     "text": [
      "2023-10-16 00:46:34,588 INFO image_writer.py:197 - writing: /home/vlermakov/Development/Nodules/Nodule-Detection-LUNA2016/processed_data_full_range_075mm_fixed/Tagoulu__635316674d61f4090341aa46-5900b4e91f18ebc6-1/Tagoulu__635316674d61f4090341aa46-5900b4e91f18ebc6-1_image_0.nii.gz\n",
      "2023-10-16 00:46:35,314 INFO image_writer.py:197 - writing: /home/vlermakov/Development/Nodules/Nodule-Detection-LUNA2016/processed_data_full_range_075mm_fixed/Tagoulu__635316674d61f4090341aa46-5900b4e91f18ebc6-1/Tagoulu__635316674d61f4090341aa46-5900b4e91f18ebc6-1_mask_0.nii.gz\n",
      "2023-10-16 00:46:35,346 INFO image_writer.py:197 - writing: /home/vlermakov/Development/Nodules/Nodule-Detection-LUNA2016/processed_data_full_range_075mm_fixed/Muesemgeen__635316b451652c09fa1a3dd2-81686b1cfd9472fe-1/Muesemgeen__635316b451652c09fa1a3dd2-81686b1cfd9472fe-1_image_0.nii.gz\n",
      "2023-10-16 00:46:35,572 INFO image_writer.py:197 - writing: /home/vlermakov/Development/Nodules/Nodule-Detection-LUNA2016/processed_data_full_range_075mm_fixed/Muesemgeen__635316b451652c09fa1a3dd2-81686b1cfd9472fe-1/Muesemgeen__635316b451652c09fa1a3dd2-81686b1cfd9472fe-1_mask_0.nii.gz\n"
     ]
    },
    {
     "name": "stderr",
     "output_type": "stream",
     "text": [
      "Loading dataset:   7%|██████████▏                                                                                                                                   | 41/572 [07:25<1:02:31,  7.07s/it]"
     ]
    },
    {
     "name": "stdout",
     "output_type": "stream",
     "text": [
      "2023-10-16 00:46:48,572 INFO image_writer.py:197 - writing: /home/vlermakov/Development/Nodules/Nodule-Detection-LUNA2016/processed_data_full_range_075mm_fixed/Akofek__635311c1d3196809e23acb40-de7f55c2692c043e-1/Akofek__635311c1d3196809e23acb40-de7f55c2692c043e-1_image_0.nii.gz\n",
      "2023-10-16 00:46:50,651 INFO image_writer.py:197 - writing: /home/vlermakov/Development/Nodules/Nodule-Detection-LUNA2016/processed_data_full_range_075mm_fixed/Akofek__635311c1d3196809e23acb40-de7f55c2692c043e-1/Akofek__635311c1d3196809e23acb40-de7f55c2692c043e-1_mask_0.nii.gz\n"
     ]
    },
    {
     "name": "stderr",
     "output_type": "stream",
     "text": [
      "\r",
      "Loading dataset:   7%|██████████▍                                                                                                                                   | 42/572 [07:35<1:07:53,  7.69s/it]"
     ]
    },
    {
     "name": "stdout",
     "output_type": "stream",
     "text": [
      "2023-10-16 00:46:59,652 INFO image_writer.py:197 - writing: /home/vlermakov/Development/Nodules/Nodule-Detection-LUNA2016/processed_data_full_range_075mm_fixed/Gehienes__62c10f288b78c508ff535992-15f75695855943ff-1/Gehienes__62c10f288b78c508ff535992-15f75695855943ff-1_image_0.nii.gz\n",
      "2023-10-16 00:46:59,673 INFO image_writer.py:197 - writing: /home/vlermakov/Development/Nodules/Nodule-Detection-LUNA2016/processed_data_full_range_075mm_fixed/Prutigu__62c10f05d4ca3408fb0fcfde-c42a3d86110532f3-1/Prutigu__62c10f05d4ca3408fb0fcfde-c42a3d86110532f3-1_image_0.nii.gz\n",
      "2023-10-16 00:46:59,777 INFO image_writer.py:197 - writing: /home/vlermakov/Development/Nodules/Nodule-Detection-LUNA2016/processed_data_full_range_075mm_fixed/Ofudil__5cfe92421402981327718830-915bf499772afeb2-4/Ofudil__5cfe92421402981327718830-915bf499772afeb2-4_image_0.nii.gz\n",
      "2023-10-16 00:46:59,897 INFO image_writer.py:197 - writing: /home/vlermakov/Development/Nodules/Nodule-Detection-LUNA2016/processed_data_full_range_075mm_fixed/Akofek__635311c1d3196809e23acb40-de7f55c2692c043e-2/Akofek__635311c1d3196809e23acb40-de7f55c2692c043e-2_image_0.nii.gz\n",
      "2023-10-16 00:46:59,927 INFO image_writer.py:197 - writing: /home/vlermakov/Development/Nodules/Nodule-Detection-LUNA2016/processed_data_full_range_075mm_fixed/Gehienes__62c10f288b78c508ff535992-15f75695855943ff-1/Gehienes__62c10f288b78c508ff535992-15f75695855943ff-1_mask_0.nii.gz\n",
      "2023-10-16 00:47:00,008 INFO image_writer.py:197 - writing: /home/vlermakov/Development/Nodules/Nodule-Detection-LUNA2016/processed_data_full_range_075mm_fixed/Prutigu__62c10f05d4ca3408fb0fcfde-c42a3d86110532f3-1/Prutigu__62c10f05d4ca3408fb0fcfde-c42a3d86110532f3-1_mask_0.nii.gz\n",
      "2023-10-16 00:47:00,034 INFO image_writer.py:197 - writing: /home/vlermakov/Development/Nodules/Nodule-Detection-LUNA2016/processed_data_full_range_075mm_fixed/Ofudil__5cfe92421402981327718830-915bf499772afeb2-4/Ofudil__5cfe92421402981327718830-915bf499772afeb2-4_mask_0.nii.gz\n",
      "2023-10-16 00:47:00,091 INFO image_writer.py:197 - writing: /home/vlermakov/Development/Nodules/Nodule-Detection-LUNA2016/processed_data_full_range_075mm_fixed/Akofek__635311c1d3196809e23acb40-de7f55c2692c043e-2/Akofek__635311c1d3196809e23acb40-de7f55c2692c043e-2_mask_0.nii.gz\n"
     ]
    },
    {
     "name": "stderr",
     "output_type": "stream",
     "text": [
      "Loading dataset:   8%|███████████▏                                                                                                                                  | 45/572 [08:08<1:12:31,  8.26s/it]"
     ]
    },
    {
     "name": "stdout",
     "output_type": "stream",
     "text": [
      "2023-10-16 00:47:47,324 INFO image_writer.py:197 - writing: /home/vlermakov/Development/Nodules/Nodule-Detection-LUNA2016/processed_data_full_range_075mm_fixed/Hobonug__6350a6ea05afd609fb663423-e683c3e63e67c134-1/Hobonug__6350a6ea05afd609fb663423-e683c3e63e67c134-1_image_0.nii.gz\n",
      "2023-10-16 00:47:47,794 INFO image_writer.py:197 - writing: /home/vlermakov/Development/Nodules/Nodule-Detection-LUNA2016/processed_data_full_range_075mm_fixed/Hobonug__6350a6ea05afd609fb663423-e683c3e63e67c134-1/Hobonug__6350a6ea05afd609fb663423-e683c3e63e67c134-1_mask_0.nii.gz\n",
      "2023-10-16 00:47:54,520 INFO image_writer.py:197 - writing: /home/vlermakov/Development/Nodules/Nodule-Detection-LUNA2016/processed_data_full_range_075mm_fixed/Kejieru__5cfe861614029813277187f7-c008801bc60fab4c-3/Kejieru__5cfe861614029813277187f7-c008801bc60fab4c-3_image_0.nii.gz\n",
      "2023-10-16 00:47:54,623 INFO image_writer.py:197 - writing: /home/vlermakov/Development/Nodules/Nodule-Detection-LUNA2016/processed_data_full_range_075mm_fixed/Kejieru__5cfe861614029813277187f7-c008801bc60fab4c-3/Kejieru__5cfe861614029813277187f7-c008801bc60fab4c-3_mask_0.nii.gz\n",
      "2023-10-16 00:48:00,836 INFO image_writer.py:197 - writing: /home/vlermakov/Development/Nodules/Nodule-Detection-LUNA2016/processed_data_full_range_075mm_fixed/Leponup__5cfe91d6140298132771882c-b97da66701efde46-3/Leponup__5cfe91d6140298132771882c-b97da66701efde46-3_image_0.nii.gz\n",
      "2023-10-16 00:48:01,527 INFO image_writer.py:197 - writing: /home/vlermakov/Development/Nodules/Nodule-Detection-LUNA2016/processed_data_full_range_075mm_fixed/Leponup__5cfe91d6140298132771882c-b97da66701efde46-3/Leponup__5cfe91d6140298132771882c-b97da66701efde46-3_mask_0.nii.gz\n",
      "2023-10-16 00:48:01,889 INFO image_writer.py:197 - writing: /home/vlermakov/Development/Nodules/Nodule-Detection-LUNA2016/processed_data_full_range_075mm_fixed/Rehoule__62c10c3f2baab10936a5184e-d0365fcb13ed8ed1-4/Rehoule__62c10c3f2baab10936a5184e-d0365fcb13ed8ed1-4_image_0.nii.gz\n",
      "2023-10-16 00:48:02,015 INFO image_writer.py:197 - writing: /home/vlermakov/Development/Nodules/Nodule-Detection-LUNA2016/processed_data_full_range_075mm_fixed/Rehoule__62c10c3f2baab10936a5184e-d0365fcb13ed8ed1-4/Rehoule__62c10c3f2baab10936a5184e-d0365fcb13ed8ed1-4_mask_0.nii.gz\n",
      "2023-10-16 00:48:11,266 INFO image_writer.py:197 - writing: /home/vlermakov/Development/Nodules/Nodule-Detection-LUNA2016/processed_data_full_range_075mm_fixed/Fatatu__62ab903ab8e1e609f6b236ad-5a650b18b17b48a6-1/Fatatu__62ab903ab8e1e609f6b236ad-5a650b18b17b48a6-1_image_0.nii.gz\n",
      "2023-10-16 00:48:11,363 INFO image_writer.py:197 - writing: /home/vlermakov/Development/Nodules/Nodule-Detection-LUNA2016/processed_data_full_range_075mm_fixed/Fatatu__62ab903ab8e1e609f6b236ad-5a650b18b17b48a6-1/Fatatu__62ab903ab8e1e609f6b236ad-5a650b18b17b48a6-1_mask_0.nii.gz\n"
     ]
    },
    {
     "name": "stderr",
     "output_type": "stream",
     "text": [
      "Loading dataset:   8%|███████████▉                                                                                                                                  | 48/572 [09:06<2:00:22, 13.78s/it]"
     ]
    },
    {
     "name": "stdout",
     "output_type": "stream",
     "text": [
      "2023-10-16 00:48:23,757 INFO image_writer.py:197 - writing: /home/vlermakov/Development/Nodules/Nodule-Detection-LUNA2016/processed_data_full_range_075mm_fixed/Ragili__62ab91e9348f6e09c2dc6203-37ce927bda060d16-1/Ragili__62ab91e9348f6e09c2dc6203-37ce927bda060d16-1_image_0.nii.gz\n",
      "2023-10-16 00:48:23,859 INFO image_writer.py:197 - writing: /home/vlermakov/Development/Nodules/Nodule-Detection-LUNA2016/processed_data_full_range_075mm_fixed/Torotob__62aac56028be8e0a3b91c1e8-dcf759681f032ec2-1/Torotob__62aac56028be8e0a3b91c1e8-dcf759681f032ec2-1_image_0.nii.gz\n",
      "2023-10-16 00:48:24,065 INFO image_writer.py:197 - writing: /home/vlermakov/Development/Nodules/Nodule-Detection-LUNA2016/processed_data_full_range_075mm_fixed/Ragili__62ab91e9348f6e09c2dc6203-37ce927bda060d16-1/Ragili__62ab91e9348f6e09c2dc6203-37ce927bda060d16-1_mask_0.nii.gz\n",
      "2023-10-16 00:48:24,067 INFO image_writer.py:197 - writing: /home/vlermakov/Development/Nodules/Nodule-Detection-LUNA2016/processed_data_full_range_075mm_fixed/Nebofe__62ab8e5847dfa609e4d4a338-11c7c5d8f35a65c0-2/Nebofe__62ab8e5847dfa609e4d4a338-11c7c5d8f35a65c0-2_image_0.nii.gz\n",
      "2023-10-16 00:48:24,281 INFO image_writer.py:197 - writing: /home/vlermakov/Development/Nodules/Nodule-Detection-LUNA2016/processed_data_full_range_075mm_fixed/Torotob__62aac56028be8e0a3b91c1e8-dcf759681f032ec2-1/Torotob__62aac56028be8e0a3b91c1e8-dcf759681f032ec2-1_mask_0.nii.gz\n"
     ]
    },
    {
     "name": "stderr",
     "output_type": "stream",
     "text": [
      "\r",
      "Loading dataset:   9%|████████████▉                                                                                                                                 | 52/572 [09:14<1:01:00,  7.04s/it]"
     ]
    },
    {
     "name": "stdout",
     "output_type": "stream",
     "text": [
      "2023-10-16 00:48:36,600 INFO image_writer.py:197 - writing: /home/vlermakov/Development/Nodules/Nodule-Detection-LUNA2016/processed_data_full_range_075mm_fixed/Nebofe__62ab8e5847dfa609e4d4a338-11c7c5d8f35a65c0-2/Nebofe__62ab8e5847dfa609e4d4a338-11c7c5d8f35a65c0-2_mask_0.nii.gz\n"
     ]
    },
    {
     "name": "stderr",
     "output_type": "stream",
     "text": [
      "Loading dataset:   9%|█████████████▍                                                                                                                                | 54/572 [09:28<1:00:48,  7.04s/it]"
     ]
    },
    {
     "name": "stdout",
     "output_type": "stream",
     "text": [
      "2023-10-16 00:48:45,694 INFO image_writer.py:197 - writing: /home/vlermakov/Development/Nodules/Nodule-Detection-LUNA2016/processed_data_full_range_075mm_fixed/Wihotog__62aac543f620a60a313cb09e-a231b39ef10456cc-1/Wihotog__62aac543f620a60a313cb09e-a231b39ef10456cc-1_image_0.nii.gz\n",
      "2023-10-16 00:48:46,068 INFO image_writer.py:197 - writing: /home/vlermakov/Development/Nodules/Nodule-Detection-LUNA2016/processed_data_full_range_075mm_fixed/Wihotog__62aac543f620a60a313cb09e-a231b39ef10456cc-1/Wihotog__62aac543f620a60a313cb09e-a231b39ef10456cc-1_mask_0.nii.gz\n"
     ]
    },
    {
     "name": "stderr",
     "output_type": "stream",
     "text": [
      "\r",
      "Loading dataset:  10%|█████████████▊                                                                                                                                  | 55/572 [09:30<51:36,  5.99s/it]"
     ]
    },
    {
     "name": "stdout",
     "output_type": "stream",
     "text": [
      "2023-10-16 00:49:04,396 INFO image_writer.py:197 - writing: /home/vlermakov/Development/Nodules/Nodule-Detection-LUNA2016/processed_data_full_range_075mm_fixed/Pafuku__62aac5599bb9b909a02710fd-4e153b7fff319e05-1/Pafuku__62aac5599bb9b909a02710fd-4e153b7fff319e05-1_image_0.nii.gz\n",
      "2023-10-16 00:49:04,525 INFO image_writer.py:197 - writing: /home/vlermakov/Development/Nodules/Nodule-Detection-LUNA2016/processed_data_full_range_075mm_fixed/Pafuku__62aac5599bb9b909a02710fd-4e153b7fff319e05-1/Pafuku__62aac5599bb9b909a02710fd-4e153b7fff319e05-1_mask_0.nii.gz\n"
     ]
    },
    {
     "name": "stderr",
     "output_type": "stream",
     "text": [
      "\r",
      "Loading dataset:  10%|█████████████▉                                                                                                                                | 56/572 [09:49<1:16:40,  8.92s/it]"
     ]
    },
    {
     "name": "stdout",
     "output_type": "stream",
     "text": [
      "2023-10-16 00:49:24,373 INFO image_writer.py:197 - writing: /home/vlermakov/Development/Nodules/Nodule-Detection-LUNA2016/processed_data_full_range_075mm_fixed/Quicubli__62ab8613b8e1e609f6b2369f-b5fc329511c7b724-1/Quicubli__62ab8613b8e1e609f6b2369f-b5fc329511c7b724-1_image_0.nii.gz\n",
      "2023-10-16 00:49:24,645 INFO image_writer.py:197 - writing: /home/vlermakov/Development/Nodules/Nodule-Detection-LUNA2016/processed_data_full_range_075mm_fixed/Cugaju__62ab877e87a66f0a549f8085-6cb6f1d6391e29e0-1/Cugaju__62ab877e87a66f0a549f8085-6cb6f1d6391e29e0-1_image_0.nii.gz\n",
      "2023-10-16 00:49:24,651 INFO image_writer.py:197 - writing: /home/vlermakov/Development/Nodules/Nodule-Detection-LUNA2016/processed_data_full_range_075mm_fixed/Quicubli__62ab8613b8e1e609f6b2369f-b5fc329511c7b724-1/Quicubli__62ab8613b8e1e609f6b2369f-b5fc329511c7b724-1_mask_0.nii.gz\n",
      "2023-10-16 00:49:24,707 INFO image_writer.py:197 - writing: /home/vlermakov/Development/Nodules/Nodule-Detection-LUNA2016/processed_data_full_range_075mm_fixed/Swikrusu__62ab8778cdf7fa099d0a5a69-55140a50f81c82bc-1/Swikrusu__62ab8778cdf7fa099d0a5a69-55140a50f81c82bc-1_image_0.nii.gz\n",
      "2023-10-16 00:49:24,948 INFO image_writer.py:197 - writing: /home/vlermakov/Development/Nodules/Nodule-Detection-LUNA2016/processed_data_full_range_075mm_fixed/Cugaju__62ab877e87a66f0a549f8085-6cb6f1d6391e29e0-1/Cugaju__62ab877e87a66f0a549f8085-6cb6f1d6391e29e0-1_mask_0.nii.gz\n",
      "2023-10-16 00:49:30,479 INFO image_writer.py:197 - writing: /home/vlermakov/Development/Nodules/Nodule-Detection-LUNA2016/processed_data_full_range_075mm_fixed/Swikrusu__62ab8778cdf7fa099d0a5a69-55140a50f81c82bc-1/Swikrusu__62ab8778cdf7fa099d0a5a69-55140a50f81c82bc-1_mask_0.nii.gz\n",
      "2023-10-16 00:49:42,047 INFO image_writer.py:197 - writing: /home/vlermakov/Development/Nodules/Nodule-Detection-LUNA2016/processed_data_full_range_075mm_fixed/Emangiet__62ab877cc23026090ba2701c-7de99c4c27c682b8-1/Emangiet__62ab877cc23026090ba2701c-7de99c4c27c682b8-1_image_0.nii.gz\n",
      "2023-10-16 00:49:42,049 INFO image_writer.py:197 - writing: /home/vlermakov/Development/Nodules/Nodule-Detection-LUNA2016/processed_data_full_range_075mm_fixed/Quosapu__62ab873ecbcf9009d753abb8-53b09a81fa4152bb-1/Quosapu__62ab873ecbcf9009d753abb8-53b09a81fa4152bb-1_image_0.nii.gz\n",
      "2023-10-16 00:49:42,152 INFO image_writer.py:197 - writing: /home/vlermakov/Development/Nodules/Nodule-Detection-LUNA2016/processed_data_full_range_075mm_fixed/Isutes__62ab874459b7ae094e7ac477-bc3f64b8ad4a60c9-1/Isutes__62ab874459b7ae094e7ac477-bc3f64b8ad4a60c9-1_image_0.nii.gz\n",
      "2023-10-16 00:49:42,424 INFO image_writer.py:197 - writing: /home/vlermakov/Development/Nodules/Nodule-Detection-LUNA2016/processed_data_full_range_075mm_fixed/Emangiet__62ab877cc23026090ba2701c-7de99c4c27c682b8-1/Emangiet__62ab877cc23026090ba2701c-7de99c4c27c682b8-1_mask_0.nii.gz\n",
      "2023-10-16 00:49:42,597 INFO image_writer.py:197 - writing: /home/vlermakov/Development/Nodules/Nodule-Detection-LUNA2016/processed_data_full_range_075mm_fixed/Quosapu__62ab873ecbcf9009d753abb8-53b09a81fa4152bb-1/Quosapu__62ab873ecbcf9009d753abb8-53b09a81fa4152bb-1_mask_0.nii.gz\n",
      "2023-10-16 00:49:42,644 INFO image_writer.py:197 - writing: /home/vlermakov/Development/Nodules/Nodule-Detection-LUNA2016/processed_data_full_range_075mm_fixed/Isutes__62ab874459b7ae094e7ac477-bc3f64b8ad4a60c9-1/Isutes__62ab874459b7ae094e7ac477-bc3f64b8ad4a60c9-1_mask_0.nii.gz\n"
     ]
    },
    {
     "name": "stderr",
     "output_type": "stream",
     "text": [
      "Loading dataset:  10%|██████████████▍                                                                                                                               | 58/572 [10:45<2:18:04, 16.12s/it]"
     ]
    },
    {
     "name": "stdout",
     "output_type": "stream",
     "text": [
      "2023-10-16 00:50:02,532 INFO image_writer.py:197 - writing: /home/vlermakov/Development/Nodules/Nodule-Detection-LUNA2016/processed_data_full_range_075mm_fixed/Reneebus__62ab6d239c4c44093167ff1b-034dc9e99af9e677-1/Reneebus__62ab6d239c4c44093167ff1b-034dc9e99af9e677-1_image_0.nii.gz\n",
      "2023-10-16 00:50:02,691 INFO image_writer.py:197 - writing: /home/vlermakov/Development/Nodules/Nodule-Detection-LUNA2016/processed_data_full_range_075mm_fixed/Reneebus__62ab6d239c4c44093167ff1b-034dc9e99af9e677-1/Reneebus__62ab6d239c4c44093167ff1b-034dc9e99af9e677-1_mask_0.nii.gz\n"
     ]
    },
    {
     "name": "stderr",
     "output_type": "stream",
     "text": [
      "\r",
      "Loading dataset:  11%|███████████████▊                                                                                                                                | 63/572 [10:50<52:41,  6.21s/it]"
     ]
    },
    {
     "name": "stdout",
     "output_type": "stream",
     "text": [
      "2023-10-16 00:50:24,913 INFO image_writer.py:197 - writing: /home/vlermakov/Development/Nodules/Nodule-Detection-LUNA2016/processed_data_full_range_075mm_fixed/Caroutey__62ab6151b8e1e609f6b23693-5c4a074820a87023-1/Caroutey__62ab6151b8e1e609f6b23693-5c4a074820a87023-1_image_0.nii.gz\n",
      "2023-10-16 00:50:25,161 INFO image_writer.py:197 - writing: /home/vlermakov/Development/Nodules/Nodule-Detection-LUNA2016/processed_data_full_range_075mm_fixed/Caroutey__62ab6151b8e1e609f6b23693-5c4a074820a87023-1/Caroutey__62ab6151b8e1e609f6b23693-5c4a074820a87023-1_mask_0.nii.gz\n",
      "2023-10-16 00:50:34,010 INFO image_writer.py:197 - writing: /home/vlermakov/Development/Nodules/Nodule-Detection-LUNA2016/processed_data_full_range_075mm_fixed/Kukunab__62ab6d5287a66f0a549f8077-d394a50fc98d11b8-1/Kukunab__62ab6d5287a66f0a549f8077-d394a50fc98d11b8-1_image_0.nii.gz\n",
      "2023-10-16 00:50:36,764 INFO image_writer.py:197 - writing: /home/vlermakov/Development/Nodules/Nodule-Detection-LUNA2016/processed_data_full_range_075mm_fixed/Kukunab__62ab6d5287a66f0a549f8077-d394a50fc98d11b8-1/Kukunab__62ab6d5287a66f0a549f8077-d394a50fc98d11b8-1_mask_0.nii.gz\n",
      "2023-10-16 00:50:46,425 INFO image_writer.py:197 - writing: /home/vlermakov/Development/Nodules/Nodule-Detection-LUNA2016/processed_data_full_range_075mm_fixed/Ilayif__62aa5d95cf2cdc0a244689ab-da4c48a80cf49126-1/Ilayif__62aa5d95cf2cdc0a244689ab-da4c48a80cf49126-1_image_0.nii.gz\n",
      "2023-10-16 00:50:46,620 INFO image_writer.py:197 - writing: /home/vlermakov/Development/Nodules/Nodule-Detection-LUNA2016/processed_data_full_range_075mm_fixed/Rademan__62aa5da7e3d3d809967a686b-24183a6d742f93ad-1/Rademan__62aa5da7e3d3d809967a686b-24183a6d742f93ad-1_image_0.nii.gz\n",
      "2023-10-16 00:50:46,662 INFO image_writer.py:197 - writing: /home/vlermakov/Development/Nodules/Nodule-Detection-LUNA2016/processed_data_full_range_075mm_fixed/Ilayif__62aa5d95cf2cdc0a244689ab-da4c48a80cf49126-1/Ilayif__62aa5d95cf2cdc0a244689ab-da4c48a80cf49126-1_mask_0.nii.gz\n",
      "2023-10-16 00:50:46,828 INFO image_writer.py:197 - writing: /home/vlermakov/Development/Nodules/Nodule-Detection-LUNA2016/processed_data_full_range_075mm_fixed/Rademan__62aa5da7e3d3d809967a686b-24183a6d742f93ad-1/Rademan__62aa5da7e3d3d809967a686b-24183a6d742f93ad-1_mask_0.nii.gz\n",
      "2023-10-16 00:50:59,350 INFO image_writer.py:197 - writing: /home/vlermakov/Development/Nodules/Nodule-Detection-LUNA2016/processed_data_full_range_075mm_fixed/Jecayap__62ab6d1400a008095d8edc47-e44cf0df98838fa5-1/Jecayap__62ab6d1400a008095d8edc47-e44cf0df98838fa5-1_image_0.nii.gz\n",
      "2023-10-16 00:50:59,411 INFO image_writer.py:197 - writing: /home/vlermakov/Development/Nodules/Nodule-Detection-LUNA2016/processed_data_full_range_075mm_fixed/Bujadup__62aa5e18debfef09ab7bbe46-bbac692d1b2a49a5-1/Bujadup__62aa5e18debfef09ab7bbe46-bbac692d1b2a49a5-1_image_0.nii.gz\n",
      "2023-10-16 00:51:00,133 INFO image_writer.py:197 - writing: /home/vlermakov/Development/Nodules/Nodule-Detection-LUNA2016/processed_data_full_range_075mm_fixed/Jecayap__62ab6d1400a008095d8edc47-e44cf0df98838fa5-1/Jecayap__62ab6d1400a008095d8edc47-e44cf0df98838fa5-1_mask_0.nii.gz\n",
      "2023-10-16 00:51:00,423 INFO image_writer.py:197 - writing: /home/vlermakov/Development/Nodules/Nodule-Detection-LUNA2016/processed_data_full_range_075mm_fixed/Berogo__62ab614d15840609f6bb3e33-1d1b4e84aa8c73fa-1/Berogo__62ab614d15840609f6bb3e33-1d1b4e84aa8c73fa-1_image_0.nii.gz\n",
      "2023-10-16 00:51:00,440 INFO image_writer.py:197 - writing: /home/vlermakov/Development/Nodules/Nodule-Detection-LUNA2016/processed_data_full_range_075mm_fixed/Bujadup__62aa5e18debfef09ab7bbe46-bbac692d1b2a49a5-1/Bujadup__62aa5e18debfef09ab7bbe46-bbac692d1b2a49a5-1_mask_0.nii.gz\n"
     ]
    },
    {
     "name": "stderr",
     "output_type": "stream",
     "text": [
      "Loading dataset:  12%|████████████████▍                                                                                                                             | 66/572 [11:55<1:29:28, 10.61s/it]"
     ]
    },
    {
     "name": "stdout",
     "output_type": "stream",
     "text": [
      "2023-10-16 00:51:10,545 INFO image_writer.py:197 - writing: /home/vlermakov/Development/Nodules/Nodule-Detection-LUNA2016/processed_data_full_range_075mm_fixed/Berogo__62ab614d15840609f6bb3e33-1d1b4e84aa8c73fa-1/Berogo__62ab614d15840609f6bb3e33-1d1b4e84aa8c73fa-1_mask_0.nii.gz\n"
     ]
    },
    {
     "name": "stderr",
     "output_type": "stream",
     "text": [
      "Loading dataset:  12%|████████████████▉                                                                                                                             | 68/572 [12:00<1:00:58,  7.26s/it]"
     ]
    },
    {
     "name": "stdout",
     "output_type": "stream",
     "text": [
      "2023-10-16 00:51:27,862 INFO image_writer.py:197 - writing: /home/vlermakov/Development/Nodules/Nodule-Detection-LUNA2016/processed_data_full_range_075mm_fixed/Lobihef__62aa30b3e632310a28838998-e454482c29f5f427-3/Lobihef__62aa30b3e632310a28838998-e454482c29f5f427-3_image_0.nii.gz\n",
      "2023-10-16 00:51:27,978 INFO image_writer.py:197 - writing: /home/vlermakov/Development/Nodules/Nodule-Detection-LUNA2016/processed_data_full_range_075mm_fixed/Lobihef__62aa30b3e632310a28838998-e454482c29f5f427-3/Lobihef__62aa30b3e632310a28838998-e454482c29f5f427-3_mask_0.nii.gz\n",
      "2023-10-16 00:51:45,400 INFO image_writer.py:197 - writing: /home/vlermakov/Development/Nodules/Nodule-Detection-LUNA2016/processed_data_full_range_075mm_fixed/Efascot__62aa042bc9f07b0a289cf327-2a2c9475a95fff48-1/Efascot__62aa042bc9f07b0a289cf327-2a2c9475a95fff48-1_image_0.nii.gz\n",
      "2023-10-16 00:51:45,410 INFO image_writer.py:197 - writing: /home/vlermakov/Development/Nodules/Nodule-Detection-LUNA2016/processed_data_full_range_075mm_fixed/Jajitue__62aa294319daf2099fa95940-c129895b33019bfb-1/Jajitue__62aa294319daf2099fa95940-c129895b33019bfb-1_image_0.nii.gz\n",
      "2023-10-16 00:51:45,801 INFO image_writer.py:197 - writing: /home/vlermakov/Development/Nodules/Nodule-Detection-LUNA2016/processed_data_full_range_075mm_fixed/Efascot__62aa042bc9f07b0a289cf327-2a2c9475a95fff48-1/Efascot__62aa042bc9f07b0a289cf327-2a2c9475a95fff48-1_mask_0.nii.gz\n",
      "2023-10-16 00:51:45,832 INFO image_writer.py:197 - writing: /home/vlermakov/Development/Nodules/Nodule-Detection-LUNA2016/processed_data_full_range_075mm_fixed/Jajitue__62aa294319daf2099fa95940-c129895b33019bfb-1/Jajitue__62aa294319daf2099fa95940-c129895b33019bfb-1_mask_0.nii.gz\n",
      "2023-10-16 00:51:45,876 INFO image_writer.py:197 - writing: /home/vlermakov/Development/Nodules/Nodule-Detection-LUNA2016/processed_data_full_range_075mm_fixed/Sofupu__62aa3079d705530a2cdce806-fbc1167557cce3dc-2/Sofupu__62aa3079d705530a2cdce806-fbc1167557cce3dc-2_image_0.nii.gz\n",
      "2023-10-16 00:51:45,989 INFO image_writer.py:197 - writing: /home/vlermakov/Development/Nodules/Nodule-Detection-LUNA2016/processed_data_full_range_075mm_fixed/Poojequi__62ab9482cdf7fa099d0a5a81-c528c6b689a8aec1-1/Poojequi__62ab9482cdf7fa099d0a5a81-c528c6b689a8aec1-1_image_0.nii.gz\n",
      "2023-10-16 00:51:46,033 INFO image_writer.py:197 - writing: /home/vlermakov/Development/Nodules/Nodule-Detection-LUNA2016/processed_data_full_range_075mm_fixed/Sofupu__62aa3079d705530a2cdce806-fbc1167557cce3dc-2/Sofupu__62aa3079d705530a2cdce806-fbc1167557cce3dc-2_mask_0.nii.gz\n",
      "2023-10-16 00:52:00,744 INFO image_writer.py:197 - writing: /home/vlermakov/Development/Nodules/Nodule-Detection-LUNA2016/processed_data_full_range_075mm_fixed/Poojequi__62ab9482cdf7fa099d0a5a81-c528c6b689a8aec1-1/Poojequi__62ab9482cdf7fa099d0a5a81-c528c6b689a8aec1-1_mask_0.nii.gz\n",
      "2023-10-16 00:52:07,762 INFO image_writer.py:197 - writing: /home/vlermakov/Development/Nodules/Nodule-Detection-LUNA2016/processed_data_full_range_075mm_fixed/Mabili__62aa2abedebfef09ab7bbe3e-b1f53fc697a8cb40-3/Mabili__62aa2abedebfef09ab7bbe3e-b1f53fc697a8cb40-3_image_0.nii.gz\n",
      "2023-10-16 00:52:07,810 INFO image_writer.py:197 - writing: /home/vlermakov/Development/Nodules/Nodule-Detection-LUNA2016/processed_data_full_range_075mm_fixed/Atiraf__62ab5b40b8e1e609f6b23691-5212264a46aea22b-4/Atiraf__62ab5b40b8e1e609f6b23691-5212264a46aea22b-4_image_0.nii.gz\n",
      "2023-10-16 00:52:08,420 INFO image_writer.py:197 - writing: /home/vlermakov/Development/Nodules/Nodule-Detection-LUNA2016/processed_data_full_range_075mm_fixed/Mabili__62aa2abedebfef09ab7bbe3e-b1f53fc697a8cb40-3/Mabili__62aa2abedebfef09ab7bbe3e-b1f53fc697a8cb40-3_mask_0.nii.gz\n",
      "2023-10-16 00:52:14,291 INFO image_writer.py:197 - writing: /home/vlermakov/Development/Nodules/Nodule-Detection-LUNA2016/processed_data_full_range_075mm_fixed/Atiraf__62ab5b40b8e1e609f6b23691-5212264a46aea22b-4/Atiraf__62ab5b40b8e1e609f6b23691-5212264a46aea22b-4_mask_0.nii.gz\n"
     ]
    },
    {
     "name": "stderr",
     "output_type": "stream",
     "text": [
      "Loading dataset:  13%|█████████████████▊                                                                                                                            | 72/572 [13:04<1:39:50, 11.98s/it]"
     ]
    },
    {
     "name": "stdout",
     "output_type": "stream",
     "text": [
      "2023-10-16 00:52:22,244 INFO image_writer.py:197 - writing: /home/vlermakov/Development/Nodules/Nodule-Detection-LUNA2016/processed_data_full_range_075mm_fixed/Bagobod__62ab94a359b7ae094e7ac48b-3fb477de0dd5dcb6-1/Bagobod__62ab94a359b7ae094e7ac48b-3fb477de0dd5dcb6-1_image_0.nii.gz\n",
      "2023-10-16 00:52:23,311 INFO image_writer.py:197 - writing: /home/vlermakov/Development/Nodules/Nodule-Detection-LUNA2016/processed_data_full_range_075mm_fixed/Bagobod__62ab94a359b7ae094e7ac48b-3fb477de0dd5dcb6-1/Bagobod__62ab94a359b7ae094e7ac48b-3fb477de0dd5dcb6-1_mask_0.nii.gz\n"
     ]
    },
    {
     "name": "stderr",
     "output_type": "stream",
     "text": [
      "\r",
      "Loading dataset:  14%|███████████████████▋                                                                                                                            | 78/572 [13:12<43:06,  5.24s/it]"
     ]
    },
    {
     "name": "stdout",
     "output_type": "stream",
     "text": [
      "2023-10-16 00:52:39,263 INFO image_writer.py:197 - writing: /home/vlermakov/Development/Nodules/Nodule-Detection-LUNA2016/processed_data_full_range_075mm_fixed/Lapraso__62ab94d7b8e1e609f6b236b4-9095817a7fb24f68-1/Lapraso__62ab94d7b8e1e609f6b236b4-9095817a7fb24f68-1_image_0.nii.gz\n",
      "2023-10-16 00:52:39,488 INFO image_writer.py:197 - writing: /home/vlermakov/Development/Nodules/Nodule-Detection-LUNA2016/processed_data_full_range_075mm_fixed/Lapraso__62ab94d7b8e1e609f6b236b4-9095817a7fb24f68-1/Lapraso__62ab94d7b8e1e609f6b236b4-9095817a7fb24f68-1_mask_0.nii.gz\n"
     ]
    },
    {
     "name": "stderr",
     "output_type": "stream",
     "text": [
      "\r",
      "Loading dataset:  14%|███████████████████▉                                                                                                                            | 79/572 [13:28<55:02,  6.70s/it]"
     ]
    },
    {
     "name": "stdout",
     "output_type": "stream",
     "text": [
      "2023-10-16 00:52:54,182 INFO image_writer.py:197 - writing: /home/vlermakov/Development/Nodules/Nodule-Detection-LUNA2016/processed_data_full_range_075mm_fixed/Masati__62ab941ecdf7fa099d0a5a80-c1dc1464449e5409-1/Masati__62ab941ecdf7fa099d0a5a80-c1dc1464449e5409-1_image_0.nii.gz\n",
      "2023-10-16 00:52:55,172 INFO image_writer.py:197 - writing: /home/vlermakov/Development/Nodules/Nodule-Detection-LUNA2016/processed_data_full_range_075mm_fixed/Masati__62ab941ecdf7fa099d0a5a80-c1dc1464449e5409-1/Masati__62ab941ecdf7fa099d0a5a80-c1dc1464449e5409-1_mask_0.nii.gz\n",
      "2023-10-16 00:53:06,942 INFO image_writer.py:197 - writing: /home/vlermakov/Development/Nodules/Nodule-Detection-LUNA2016/processed_data_full_range_075mm_fixed/Coquibe__5cbf8fe722eefe5981bbcb0a-4f575a482eb8ee8d-1/Coquibe__5cbf8fe722eefe5981bbcb0a-4f575a482eb8ee8d-1_image_0.nii.gz\n",
      "2023-10-16 00:53:07,267 INFO image_writer.py:197 - writing: /home/vlermakov/Development/Nodules/Nodule-Detection-LUNA2016/processed_data_full_range_075mm_fixed/Mubukes__62ab944247dfa609e4d4a344-6cc4c1f2253c469d-1/Mubukes__62ab944247dfa609e4d4a344-6cc4c1f2253c469d-1_image_0.nii.gz\n",
      "2023-10-16 00:53:07,300 INFO image_writer.py:197 - writing: /home/vlermakov/Development/Nodules/Nodule-Detection-LUNA2016/processed_data_full_range_075mm_fixed/Snohitu__62ab94f3cbcf9009d753abd0-14a1fcbfb8ec124e-1/Snohitu__62ab94f3cbcf9009d753abd0-14a1fcbfb8ec124e-1_image_0.nii.gz\n",
      "2023-10-16 00:53:07,659 INFO image_writer.py:197 - writing: /home/vlermakov/Development/Nodules/Nodule-Detection-LUNA2016/processed_data_full_range_075mm_fixed/Coquibe__5cbf8fe722eefe5981bbcb0a-4f575a482eb8ee8d-1/Coquibe__5cbf8fe722eefe5981bbcb0a-4f575a482eb8ee8d-1_mask_0.nii.gz\n",
      "2023-10-16 00:53:08,035 INFO image_writer.py:197 - writing: /home/vlermakov/Development/Nodules/Nodule-Detection-LUNA2016/processed_data_full_range_075mm_fixed/Snohitu__62ab94f3cbcf9009d753abd0-14a1fcbfb8ec124e-1/Snohitu__62ab94f3cbcf9009d753abd0-14a1fcbfb8ec124e-1_mask_0.nii.gz\n",
      "2023-10-16 00:53:08,048 INFO image_writer.py:197 - writing: /home/vlermakov/Development/Nodules/Nodule-Detection-LUNA2016/processed_data_full_range_075mm_fixed/Mubukes__62ab944247dfa609e4d4a344-6cc4c1f2253c469d-1/Mubukes__62ab944247dfa609e4d4a344-6cc4c1f2253c469d-1_mask_0.nii.gz\n",
      "2023-10-16 00:53:26,797 INFO image_writer.py:197 - writing: /home/vlermakov/Development/Nodules/Nodule-Detection-LUNA2016/processed_data_full_range_075mm_fixed/Hifebog__62ab94e154f28f09238455a7-a5aa7d83ffec058a-3/Hifebog__62ab94e154f28f09238455a7-a5aa7d83ffec058a-3_image_0.nii.gz\n",
      "2023-10-16 00:53:26,904 INFO image_writer.py:197 - writing: /home/vlermakov/Development/Nodules/Nodule-Detection-LUNA2016/processed_data_full_range_075mm_fixed/Jouhuku__62a800bdd384dc09aee05e69-d627a05012b06530-1/Jouhuku__62a800bdd384dc09aee05e69-d627a05012b06530-1_image_0.nii.gz\n",
      "2023-10-16 00:53:27,112 INFO image_writer.py:197 - writing: /home/vlermakov/Development/Nodules/Nodule-Detection-LUNA2016/processed_data_full_range_075mm_fixed/Jouhuku__62a800bdd384dc09aee05e69-d627a05012b06530-1/Jouhuku__62a800bdd384dc09aee05e69-d627a05012b06530-1_mask_0.nii.gz\n",
      "2023-10-16 00:53:27,155 INFO image_writer.py:197 - writing: /home/vlermakov/Development/Nodules/Nodule-Detection-LUNA2016/processed_data_full_range_075mm_fixed/Hifebog__62ab94e154f28f09238455a7-a5aa7d83ffec058a-3/Hifebog__62ab94e154f28f09238455a7-a5aa7d83ffec058a-3_mask_0.nii.gz\n"
     ]
    },
    {
     "name": "stderr",
     "output_type": "stream",
     "text": [
      "Loading dataset:  14%|████████████████████▎                                                                                                                         | 82/572 [14:26<1:21:30,  9.98s/it]"
     ]
    },
    {
     "name": "stdout",
     "output_type": "stream",
     "text": [
      "2023-10-16 00:53:44,597 INFO image_writer.py:197 - writing: /home/vlermakov/Development/Nodules/Nodule-Detection-LUNA2016/processed_data_full_range_075mm_fixed/Cijife__62a801bf6d5e7208ffb294ef-46352e373d4f516b-1/Cijife__62a801bf6d5e7208ffb294ef-46352e373d4f516b-1_image_0.nii.gz\n",
      "2023-10-16 00:53:45,268 INFO image_writer.py:197 - writing: /home/vlermakov/Development/Nodules/Nodule-Detection-LUNA2016/processed_data_full_range_075mm_fixed/Cijife__62a801bf6d5e7208ffb294ef-46352e373d4f516b-1/Cijife__62a801bf6d5e7208ffb294ef-46352e373d4f516b-1_mask_0.nii.gz\n"
     ]
    },
    {
     "name": "stderr",
     "output_type": "stream",
     "text": [
      "\r",
      "Loading dataset:  15%|█████████████████████▋                                                                                                                          | 86/572 [14:30<41:41,  5.15s/it]"
     ]
    },
    {
     "name": "stdout",
     "output_type": "stream",
     "text": [
      "2023-10-16 00:54:07,599 INFO image_writer.py:197 - writing: /home/vlermakov/Development/Nodules/Nodule-Detection-LUNA2016/processed_data_full_range_075mm_fixed/Lavuzi__5c883abad64ecfd97c055509-75652f6d1d36686c-2/Lavuzi__5c883abad64ecfd97c055509-75652f6d1d36686c-2_image_0.nii.gz\n",
      "2023-10-16 00:54:08,087 INFO image_writer.py:197 - writing: /home/vlermakov/Development/Nodules/Nodule-Detection-LUNA2016/processed_data_full_range_075mm_fixed/Lavuzi__5c883abad64ecfd97c055509-75652f6d1d36686c-2/Lavuzi__5c883abad64ecfd97c055509-75652f6d1d36686c-2_mask_0.nii.gz\n"
     ]
    },
    {
     "name": "stderr",
     "output_type": "stream",
     "text": [
      "\r",
      "Loading dataset:  15%|█████████████████████▌                                                                                                                        | 87/572 [14:56<1:09:35,  8.61s/it]"
     ]
    },
    {
     "name": "stdout",
     "output_type": "stream",
     "text": [
      "2023-10-16 00:54:19,551 INFO image_writer.py:197 - writing: /home/vlermakov/Development/Nodules/Nodule-Detection-LUNA2016/processed_data_full_range_075mm_fixed/Cesuse__62b0a63551a8740a155adbbf-f91c9ad22bd27b43-1/Cesuse__62b0a63551a8740a155adbbf-f91c9ad22bd27b43-1_image_0.nii.gz\n",
      "2023-10-16 00:54:19,614 INFO image_writer.py:197 - writing: /home/vlermakov/Development/Nodules/Nodule-Detection-LUNA2016/processed_data_full_range_075mm_fixed/Emiengum__5c8838ccd64ecfd97c055503-7ec3f07bf4d89dbf-2/Emiengum__5c8838ccd64ecfd97c055503-7ec3f07bf4d89dbf-2_image_0.nii.gz\n",
      "2023-10-16 00:54:19,744 INFO image_writer.py:197 - writing: /home/vlermakov/Development/Nodules/Nodule-Detection-LUNA2016/processed_data_full_range_075mm_fixed/Ukushad__5cc10b2422eefe5981bbcf65-94ff058af30cac36-1/Ukushad__5cc10b2422eefe5981bbcf65-94ff058af30cac36-1_image_0.nii.gz\n",
      "2023-10-16 00:54:20,456 INFO image_writer.py:197 - writing: /home/vlermakov/Development/Nodules/Nodule-Detection-LUNA2016/processed_data_full_range_075mm_fixed/Cesuse__62b0a63551a8740a155adbbf-f91c9ad22bd27b43-1/Cesuse__62b0a63551a8740a155adbbf-f91c9ad22bd27b43-1_mask_0.nii.gz\n",
      "2023-10-16 00:54:20,528 INFO image_writer.py:197 - writing: /home/vlermakov/Development/Nodules/Nodule-Detection-LUNA2016/processed_data_full_range_075mm_fixed/Emiengum__5c8838ccd64ecfd97c055503-7ec3f07bf4d89dbf-2/Emiengum__5c8838ccd64ecfd97c055503-7ec3f07bf4d89dbf-2_mask_0.nii.gz\n",
      "2023-10-16 00:54:20,813 INFO image_writer.py:197 - writing: /home/vlermakov/Development/Nodules/Nodule-Detection-LUNA2016/processed_data_full_range_075mm_fixed/Ukushad__5cc10b2422eefe5981bbcf65-94ff058af30cac36-1/Ukushad__5cc10b2422eefe5981bbcf65-94ff058af30cac36-1_mask_0.nii.gz\n"
     ]
    },
    {
     "name": "stderr",
     "output_type": "stream",
     "text": [
      "Loading dataset:  16%|██████████████████████                                                                                                                        | 89/572 [15:25<1:27:04, 10.82s/it]"
     ]
    },
    {
     "name": "stdout",
     "output_type": "stream",
     "text": [
      "2023-10-16 00:54:42,954 INFO image_writer.py:197 - writing: /home/vlermakov/Development/Nodules/Nodule-Detection-LUNA2016/processed_data_full_range_075mm_fixed/Gunaba__62a7d9cb2c039d09aa6aed59-47d544f796a329a6-1/Gunaba__62a7d9cb2c039d09aa6aed59-47d544f796a329a6-1_image_0.nii.gz\n",
      "2023-10-16 00:54:42,956 INFO image_writer.py:197 - writing: /home/vlermakov/Development/Nodules/Nodule-Detection-LUNA2016/processed_data_full_range_075mm_fixed/Huebrabap__62a7d9c5921bac0ad16fc135-a765174c30e137ee-1/Huebrabap__62a7d9c5921bac0ad16fc135-a765174c30e137ee-1_image_0.nii.gz\n",
      "2023-10-16 00:54:43,253 INFO image_writer.py:197 - writing: /home/vlermakov/Development/Nodules/Nodule-Detection-LUNA2016/processed_data_full_range_075mm_fixed/Douzreley__62a7d9c22a843d099a890404-6a70e5427651e02b-1/Douzreley__62a7d9c22a843d099a890404-6a70e5427651e02b-1_image_0.nii.gz\n",
      "2023-10-16 00:54:43,310 INFO image_writer.py:197 - writing: /home/vlermakov/Development/Nodules/Nodule-Detection-LUNA2016/processed_data_full_range_075mm_fixed/Gunaba__62a7d9cb2c039d09aa6aed59-47d544f796a329a6-1/Gunaba__62a7d9cb2c039d09aa6aed59-47d544f796a329a6-1_mask_0.nii.gz\n",
      "2023-10-16 00:54:43,435 INFO image_writer.py:197 - writing: /home/vlermakov/Development/Nodules/Nodule-Detection-LUNA2016/processed_data_full_range_075mm_fixed/Huebrabap__62a7d9c5921bac0ad16fc135-a765174c30e137ee-1/Huebrabap__62a7d9c5921bac0ad16fc135-a765174c30e137ee-1_mask_0.nii.gz\n",
      "2023-10-16 00:54:43,504 INFO image_writer.py:197 - writing: /home/vlermakov/Development/Nodules/Nodule-Detection-LUNA2016/processed_data_full_range_075mm_fixed/Douzreley__62a7d9c22a843d099a890404-6a70e5427651e02b-1/Douzreley__62a7d9c22a843d099a890404-6a70e5427651e02b-1_mask_0.nii.gz\n"
     ]
    },
    {
     "name": "stderr",
     "output_type": "stream",
     "text": [
      "Loading dataset:  16%|██████████████████████▊                                                                                                                       | 92/572 [15:41<1:04:18,  8.04s/it]"
     ]
    },
    {
     "name": "stdout",
     "output_type": "stream",
     "text": [
      "2023-10-16 00:55:15,874 INFO image_writer.py:197 - writing: /home/vlermakov/Development/Nodules/Nodule-Detection-LUNA2016/processed_data_full_range_075mm_fixed/Wiveda__62a77a983376af0968a69e8e-0a5771ba971c6f80-1/Wiveda__62a77a983376af0968a69e8e-0a5771ba971c6f80-1_image_0.nii.gz\n",
      "2023-10-16 00:55:16,219 INFO image_writer.py:197 - writing: /home/vlermakov/Development/Nodules/Nodule-Detection-LUNA2016/processed_data_full_range_075mm_fixed/Wiveda__62a77a983376af0968a69e8e-0a5771ba971c6f80-1/Wiveda__62a77a983376af0968a69e8e-0a5771ba971c6f80-1_mask_0.nii.gz\n"
     ]
    },
    {
     "name": "stderr",
     "output_type": "stream",
     "text": [
      "\r",
      "Loading dataset:  16%|███████████████████████▎                                                                                                                      | 94/572 [16:03<1:13:29,  9.23s/it]"
     ]
    },
    {
     "name": "stdout",
     "output_type": "stream",
     "text": [
      "2023-10-16 00:55:26,231 INFO image_writer.py:197 - writing: /home/vlermakov/Development/Nodules/Nodule-Detection-LUNA2016/processed_data_full_range_075mm_fixed/Bamoolu__62a7a20cd3ca6309ab7ae9f7-2e8f38e55cb9bef8-1/Bamoolu__62a7a20cd3ca6309ab7ae9f7-2e8f38e55cb9bef8-1_image_0.nii.gz\n",
      "2023-10-16 00:55:28,544 INFO image_writer.py:197 - writing: /home/vlermakov/Development/Nodules/Nodule-Detection-LUNA2016/processed_data_full_range_075mm_fixed/Bamoolu__62a7a20cd3ca6309ab7ae9f7-2e8f38e55cb9bef8-1/Bamoolu__62a7a20cd3ca6309ab7ae9f7-2e8f38e55cb9bef8-1_mask_0.nii.gz\n"
     ]
    },
    {
     "name": "stderr",
     "output_type": "stream",
     "text": [
      "\r",
      "Loading dataset:  17%|███████████████████████▌                                                                                                                      | 95/572 [16:16<1:19:23,  9.99s/it]"
     ]
    },
    {
     "name": "stdout",
     "output_type": "stream",
     "text": [
      "2023-10-16 00:55:39,559 INFO image_writer.py:197 - writing: /home/vlermakov/Development/Nodules/Nodule-Detection-LUNA2016/processed_data_full_range_075mm_fixed/Tenilous__636c4b81885b5809d0ac564d-59b5d7a05419ae71-7/Tenilous__636c4b81885b5809d0ac564d-59b5d7a05419ae71-7_image_0.nii.gz\n",
      "2023-10-16 00:55:39,642 INFO image_writer.py:197 - writing: /home/vlermakov/Development/Nodules/Nodule-Detection-LUNA2016/processed_data_full_range_075mm_fixed/Tenilous__636c4b81885b5809d0ac564d-59b5d7a05419ae71-8/Tenilous__636c4b81885b5809d0ac564d-59b5d7a05419ae71-8_image_0.nii.gz\n",
      "2023-10-16 00:55:39,804 INFO image_writer.py:197 - writing: /home/vlermakov/Development/Nodules/Nodule-Detection-LUNA2016/processed_data_full_range_075mm_fixed/Tenilous__636c4b81885b5809d0ac564d-59b5d7a05419ae71-9/Tenilous__636c4b81885b5809d0ac564d-59b5d7a05419ae71-9_image_0.nii.gz\n",
      "2023-10-16 00:55:40,459 INFO image_writer.py:197 - writing: /home/vlermakov/Development/Nodules/Nodule-Detection-LUNA2016/processed_data_full_range_075mm_fixed/Quorufi__62a7a26adf0edc09ba0a5601-f264c9254e91d858-1/Quorufi__62a7a26adf0edc09ba0a5601-f264c9254e91d858-1_image_0.nii.gz\n",
      "2023-10-16 00:55:40,689 INFO image_writer.py:197 - writing: /home/vlermakov/Development/Nodules/Nodule-Detection-LUNA2016/processed_data_full_range_075mm_fixed/Tenilous__636c4b81885b5809d0ac564d-59b5d7a05419ae71-7/Tenilous__636c4b81885b5809d0ac564d-59b5d7a05419ae71-7_mask_0.nii.gz\n",
      "2023-10-16 00:55:41,037 INFO image_writer.py:197 - writing: /home/vlermakov/Development/Nodules/Nodule-Detection-LUNA2016/processed_data_full_range_075mm_fixed/Tenilous__636c4b81885b5809d0ac564d-59b5d7a05419ae71-8/Tenilous__636c4b81885b5809d0ac564d-59b5d7a05419ae71-8_mask_0.nii.gz\n",
      "2023-10-16 00:55:41,209 INFO image_writer.py:197 - writing: /home/vlermakov/Development/Nodules/Nodule-Detection-LUNA2016/processed_data_full_range_075mm_fixed/Tenilous__636c4b81885b5809d0ac564d-59b5d7a05419ae71-9/Tenilous__636c4b81885b5809d0ac564d-59b5d7a05419ae71-9_mask_0.nii.gz\n",
      "2023-10-16 00:55:41,435 INFO image_writer.py:197 - writing: /home/vlermakov/Development/Nodules/Nodule-Detection-LUNA2016/processed_data_full_range_075mm_fixed/Quorufi__62a7a26adf0edc09ba0a5601-f264c9254e91d858-1/Quorufi__62a7a26adf0edc09ba0a5601-f264c9254e91d858-1_mask_0.nii.gz\n"
     ]
    },
    {
     "name": "stderr",
     "output_type": "stream",
     "text": [
      "Loading dataset:  17%|████████████████████████                                                                                                                      | 97/572 [16:42<1:25:29, 10.80s/it]"
     ]
    },
    {
     "name": "stdout",
     "output_type": "stream",
     "text": [
      "2023-10-16 00:55:59,586 INFO image_writer.py:197 - writing: /home/vlermakov/Development/Nodules/Nodule-Detection-LUNA2016/processed_data_full_range_075mm_fixed/Tenilous__636c4b81885b5809d0ac564d-59b5d7a05419ae71-6/Tenilous__636c4b81885b5809d0ac564d-59b5d7a05419ae71-6_image_0.nii.gz\n",
      "2023-10-16 00:56:00,435 INFO image_writer.py:197 - writing: /home/vlermakov/Development/Nodules/Nodule-Detection-LUNA2016/processed_data_full_range_075mm_fixed/Tenilous__636c4b81885b5809d0ac564d-59b5d7a05419ae71-6/Tenilous__636c4b81885b5809d0ac564d-59b5d7a05419ae71-6_mask_0.nii.gz\n"
     ]
    },
    {
     "name": "stderr",
     "output_type": "stream",
     "text": [
      "\r",
      "Loading dataset:  17%|█████████████████████████                                                                                                                      | 100/572 [16:45<45:17,  5.76s/it]"
     ]
    },
    {
     "name": "stdout",
     "output_type": "stream",
     "text": [
      "2023-10-16 00:56:17,345 INFO image_writer.py:197 - writing: /home/vlermakov/Development/Nodules/Nodule-Detection-LUNA2016/processed_data_full_range_075mm_fixed/Dowohup__63ace9285fdc6008fd6cd77b-134ea6db24b4ed27-5/Dowohup__63ace9285fdc6008fd6cd77b-134ea6db24b4ed27-5_image_0.nii.gz\n",
      "2023-10-16 00:56:17,451 INFO image_writer.py:197 - writing: /home/vlermakov/Development/Nodules/Nodule-Detection-LUNA2016/processed_data_full_range_075mm_fixed/Dowohup__63ace9285fdc6008fd6cd77b-134ea6db24b4ed27-5/Dowohup__63ace9285fdc6008fd6cd77b-134ea6db24b4ed27-5_mask_0.nii.gz\n"
     ]
    },
    {
     "name": "stderr",
     "output_type": "stream",
     "text": [
      "\r",
      "Loading dataset:  18%|████████████████████████▉                                                                                                                    | 101/572 [17:03<1:04:14,  8.18s/it]"
     ]
    },
    {
     "name": "stdout",
     "output_type": "stream",
     "text": [
      "2023-10-16 00:56:37,270 INFO image_writer.py:197 - writing: /home/vlermakov/Development/Nodules/Nodule-Detection-LUNA2016/processed_data_full_range_075mm_fixed/Trakefi__635c07f12ec4180a0bf0fd61-2578f361dd2b8f33-3/Trakefi__635c07f12ec4180a0bf0fd61-2578f361dd2b8f33-3_image_0.nii.gz\n",
      "2023-10-16 00:56:37,308 INFO image_writer.py:197 - writing: /home/vlermakov/Development/Nodules/Nodule-Detection-LUNA2016/processed_data_full_range_075mm_fixed/Trakefi__635c07f12ec4180a0bf0fd61-2578f361dd2b8f33-4/Trakefi__635c07f12ec4180a0bf0fd61-2578f361dd2b8f33-4_image_0.nii.gz\n",
      "2023-10-16 00:56:37,376 INFO image_writer.py:197 - writing: /home/vlermakov/Development/Nodules/Nodule-Detection-LUNA2016/processed_data_full_range_075mm_fixed/Trakefi__635c07f12ec4180a0bf0fd61-2578f361dd2b8f33-1/Trakefi__635c07f12ec4180a0bf0fd61-2578f361dd2b8f33-1_image_0.nii.gz\n",
      "2023-10-16 00:56:37,401 INFO image_writer.py:197 - writing: /home/vlermakov/Development/Nodules/Nodule-Detection-LUNA2016/processed_data_full_range_075mm_fixed/Trakefi__635c07f12ec4180a0bf0fd61-2578f361dd2b8f33-2/Trakefi__635c07f12ec4180a0bf0fd61-2578f361dd2b8f33-2_image_0.nii.gz\n",
      "2023-10-16 00:56:37,436 INFO image_writer.py:197 - writing: /home/vlermakov/Development/Nodules/Nodule-Detection-LUNA2016/processed_data_full_range_075mm_fixed/Trakefi__635c07f12ec4180a0bf0fd61-2578f361dd2b8f33-3/Trakefi__635c07f12ec4180a0bf0fd61-2578f361dd2b8f33-3_mask_0.nii.gz\n",
      "2023-10-16 00:56:37,470 INFO image_writer.py:197 - writing: /home/vlermakov/Development/Nodules/Nodule-Detection-LUNA2016/processed_data_full_range_075mm_fixed/Trakefi__635c07f12ec4180a0bf0fd61-2578f361dd2b8f33-4/Trakefi__635c07f12ec4180a0bf0fd61-2578f361dd2b8f33-4_mask_0.nii.gz\n",
      "2023-10-16 00:56:37,567 INFO image_writer.py:197 - writing: /home/vlermakov/Development/Nodules/Nodule-Detection-LUNA2016/processed_data_full_range_075mm_fixed/Trakefi__635c07f12ec4180a0bf0fd61-2578f361dd2b8f33-2/Trakefi__635c07f12ec4180a0bf0fd61-2578f361dd2b8f33-2_mask_0.nii.gz\n",
      "2023-10-16 00:56:51,980 INFO image_writer.py:197 - writing: /home/vlermakov/Development/Nodules/Nodule-Detection-LUNA2016/processed_data_full_range_075mm_fixed/Trakefi__635c07f12ec4180a0bf0fd61-2578f361dd2b8f33-1/Trakefi__635c07f12ec4180a0bf0fd61-2578f361dd2b8f33-1_mask_0.nii.gz\n",
      "2023-10-16 00:56:57,611 INFO image_writer.py:197 - writing: /home/vlermakov/Development/Nodules/Nodule-Detection-LUNA2016/processed_data_full_range_075mm_fixed/Nedacou__63a0d676ff97f50918961be7-57ba2df121c512d5-1/Nedacou__63a0d676ff97f50918961be7-57ba2df121c512d5-1_image_0.nii.gz\n",
      "2023-10-16 00:56:57,612 INFO image_writer.py:197 - writing: /home/vlermakov/Development/Nodules/Nodule-Detection-LUNA2016/processed_data_full_range_075mm_fixed/Nedacou__63a0d676ff97f50918961be7-57ba2df121c512d5-4/Nedacou__63a0d676ff97f50918961be7-57ba2df121c512d5-4_image_0.nii.gz\n",
      "2023-10-16 00:56:58,401 INFO image_writer.py:197 - writing: /home/vlermakov/Development/Nodules/Nodule-Detection-LUNA2016/processed_data_full_range_075mm_fixed/Nedacou__63a0d676ff97f50918961be7-57ba2df121c512d5-4/Nedacou__63a0d676ff97f50918961be7-57ba2df121c512d5-4_mask_0.nii.gz\n",
      "2023-10-16 00:56:58,445 INFO image_writer.py:197 - writing: /home/vlermakov/Development/Nodules/Nodule-Detection-LUNA2016/processed_data_full_range_075mm_fixed/Nedacou__63a0d676ff97f50918961be7-57ba2df121c512d5-1/Nedacou__63a0d676ff97f50918961be7-57ba2df121c512d5-1_mask_0.nii.gz\n"
     ]
    },
    {
     "name": "stderr",
     "output_type": "stream",
     "text": [
      "Loading dataset:  18%|█████████████████████████▍                                                                                                                   | 103/572 [17:50<1:39:32, 12.73s/it]"
     ]
    },
    {
     "name": "stdout",
     "output_type": "stream",
     "text": [
      "2023-10-16 00:57:06,699 INFO image_writer.py:197 - writing: /home/vlermakov/Development/Nodules/Nodule-Detection-LUNA2016/processed_data_full_range_075mm_fixed/Trakefi__635c07f12ec4180a0bf0fd61-2578f361dd2b8f33-5/Trakefi__635c07f12ec4180a0bf0fd61-2578f361dd2b8f33-5_image_0.nii.gz\n",
      "2023-10-16 00:57:07,062 INFO image_writer.py:197 - writing: /home/vlermakov/Development/Nodules/Nodule-Detection-LUNA2016/processed_data_full_range_075mm_fixed/Trakefi__635c07f12ec4180a0bf0fd61-2578f361dd2b8f33-5/Trakefi__635c07f12ec4180a0bf0fd61-2578f361dd2b8f33-5_mask_0.nii.gz\n"
     ]
    },
    {
     "name": "stderr",
     "output_type": "stream",
     "text": [
      "\r",
      "Loading dataset:  19%|███████████████████████████                                                                                                                    | 108/572 [17:53<38:55,  5.03s/it]"
     ]
    },
    {
     "name": "stdout",
     "output_type": "stream",
     "text": [
      "2023-10-16 00:57:40,490 INFO image_writer.py:197 - writing: /home/vlermakov/Development/Nodules/Nodule-Detection-LUNA2016/processed_data_full_range_075mm_fixed/Foberer__63ae6fcef2ba83097b0cd464-2f666ecc7487d0e4-6/Foberer__63ae6fcef2ba83097b0cd464-2f666ecc7487d0e4-6_image_0.nii.gz\n",
      "2023-10-16 00:57:40,598 INFO image_writer.py:197 - writing: /home/vlermakov/Development/Nodules/Nodule-Detection-LUNA2016/processed_data_full_range_075mm_fixed/Foberer__63ae6fcef2ba83097b0cd464-2f666ecc7487d0e4-6/Foberer__63ae6fcef2ba83097b0cd464-2f666ecc7487d0e4-6_mask_0.nii.gz\n",
      "2023-10-16 00:57:48,446 INFO image_writer.py:197 - writing: /home/vlermakov/Development/Nodules/Nodule-Detection-LUNA2016/processed_data_full_range_075mm_fixed/Srostruesa__636d3ff044015609cd37973f-75b89477458f011a-3/Srostruesa__636d3ff044015609cd37973f-75b89477458f011a-3_image_0.nii.gz\n",
      "2023-10-16 00:57:48,574 INFO image_writer.py:197 - writing: /home/vlermakov/Development/Nodules/Nodule-Detection-LUNA2016/processed_data_full_range_075mm_fixed/Srostruesa__636d3ff044015609cd37973f-75b89477458f011a-1/Srostruesa__636d3ff044015609cd37973f-75b89477458f011a-1_image_0.nii.gz\n",
      "2023-10-16 00:57:48,982 INFO image_writer.py:197 - writing: /home/vlermakov/Development/Nodules/Nodule-Detection-LUNA2016/processed_data_full_range_075mm_fixed/Srostruesa__636d3ff044015609cd37973f-75b89477458f011a-3/Srostruesa__636d3ff044015609cd37973f-75b89477458f011a-3_mask_0.nii.gz\n",
      "2023-10-16 00:57:49,385 INFO image_writer.py:197 - writing: /home/vlermakov/Development/Nodules/Nodule-Detection-LUNA2016/processed_data_full_range_075mm_fixed/Srostruesa__636d3ff044015609cd37973f-75b89477458f011a-4/Srostruesa__636d3ff044015609cd37973f-75b89477458f011a-4_image_0.nii.gz\n",
      "2023-10-16 00:57:49,639 INFO image_writer.py:197 - writing: /home/vlermakov/Development/Nodules/Nodule-Detection-LUNA2016/processed_data_full_range_075mm_fixed/Srostruesa__636d3ff044015609cd37973f-75b89477458f011a-1/Srostruesa__636d3ff044015609cd37973f-75b89477458f011a-1_mask_0.nii.gz\n",
      "2023-10-16 00:57:49,748 INFO image_writer.py:197 - writing: /home/vlermakov/Development/Nodules/Nodule-Detection-LUNA2016/processed_data_full_range_075mm_fixed/Srostruesa__636d3ff044015609cd37973f-75b89477458f011a-4/Srostruesa__636d3ff044015609cd37973f-75b89477458f011a-4_mask_0.nii.gz\n"
     ]
    },
    {
     "name": "stderr",
     "output_type": "stream",
     "text": [
      "Loading dataset:  19%|███████████████████████████▎                                                                                                                 | 111/572 [18:48<1:12:12,  9.40s/it]"
     ]
    },
    {
     "name": "stdout",
     "output_type": "stream",
     "text": [
      "2023-10-16 00:58:04,774 INFO image_writer.py:197 - writing: /home/vlermakov/Development/Nodules/Nodule-Detection-LUNA2016/processed_data_full_range_075mm_fixed/Doduni__635869885d1ede09b73e6a9b-a8f36eddbc7b8c51-7/Doduni__635869885d1ede09b73e6a9b-a8f36eddbc7b8c51-7_image_0.nii.gz\n",
      "2023-10-16 00:58:04,814 INFO image_writer.py:197 - writing: /home/vlermakov/Development/Nodules/Nodule-Detection-LUNA2016/processed_data_full_range_075mm_fixed/Doduni__635869885d1ede09b73e6a9b-a8f36eddbc7b8c51-1/Doduni__635869885d1ede09b73e6a9b-a8f36eddbc7b8c51-1_image_0.nii.gz\n",
      "2023-10-16 00:58:04,856 INFO image_writer.py:197 - writing: /home/vlermakov/Development/Nodules/Nodule-Detection-LUNA2016/processed_data_full_range_075mm_fixed/Doduni__635869885d1ede09b73e6a9b-a8f36eddbc7b8c51-19/Doduni__635869885d1ede09b73e6a9b-a8f36eddbc7b8c51-19_image_0.nii.gz\n",
      "2023-10-16 00:58:05,054 INFO image_writer.py:197 - writing: /home/vlermakov/Development/Nodules/Nodule-Detection-LUNA2016/processed_data_full_range_075mm_fixed/Mibeese__639b759f3a663f09483036b7-e7b6cb8906fcba88-4/Mibeese__639b759f3a663f09483036b7-e7b6cb8906fcba88-4_image_0.nii.gz\n",
      "2023-10-16 00:58:05,094 INFO image_writer.py:197 - writing: /home/vlermakov/Development/Nodules/Nodule-Detection-LUNA2016/processed_data_full_range_075mm_fixed/Doduni__635869885d1ede09b73e6a9b-a8f36eddbc7b8c51-7/Doduni__635869885d1ede09b73e6a9b-a8f36eddbc7b8c51-7_mask_0.nii.gz\n",
      "2023-10-16 00:58:05,134 INFO image_writer.py:197 - writing: /home/vlermakov/Development/Nodules/Nodule-Detection-LUNA2016/processed_data_full_range_075mm_fixed/Doduni__635869885d1ede09b73e6a9b-a8f36eddbc7b8c51-1/Doduni__635869885d1ede09b73e6a9b-a8f36eddbc7b8c51-1_mask_0.nii.gz\n",
      "2023-10-16 00:58:05,156 INFO image_writer.py:197 - writing: /home/vlermakov/Development/Nodules/Nodule-Detection-LUNA2016/processed_data_full_range_075mm_fixed/Doduni__635869885d1ede09b73e6a9b-a8f36eddbc7b8c51-19/Doduni__635869885d1ede09b73e6a9b-a8f36eddbc7b8c51-19_mask_0.nii.gz\n"
     ]
    },
    {
     "name": "stderr",
     "output_type": "stream",
     "text": [
      "Loading dataset:  20%|████████████████████████████▌                                                                                                                  | 114/572 [19:03<59:34,  7.80s/it]"
     ]
    },
    {
     "name": "stdout",
     "output_type": "stream",
     "text": [
      "2023-10-16 00:58:19,039 INFO image_writer.py:197 - writing: /home/vlermakov/Development/Nodules/Nodule-Detection-LUNA2016/processed_data_full_range_075mm_fixed/Mibeese__639b759f3a663f09483036b7-e7b6cb8906fcba88-4/Mibeese__639b759f3a663f09483036b7-e7b6cb8906fcba88-4_mask_0.nii.gz\n"
     ]
    },
    {
     "name": "stderr",
     "output_type": "stream",
     "text": [
      "\r",
      "Loading dataset:  20%|█████████████████████████████                                                                                                                  | 116/572 [19:03<37:44,  4.97s/it]"
     ]
    },
    {
     "name": "stdout",
     "output_type": "stream",
     "text": [
      "2023-10-16 00:58:46,516 INFO image_writer.py:197 - writing: /home/vlermakov/Development/Nodules/Nodule-Detection-LUNA2016/processed_data_full_range_075mm_fixed/Mibeese__639b759f3a663f09483036b7-e7b6cb8906fcba88-1/Mibeese__639b759f3a663f09483036b7-e7b6cb8906fcba88-1_image_0.nii.gz\n",
      "2023-10-16 00:58:46,523 INFO image_writer.py:197 - writing: /home/vlermakov/Development/Nodules/Nodule-Detection-LUNA2016/processed_data_full_range_075mm_fixed/Mibeese__639b759f3a663f09483036b7-e7b6cb8906fcba88-9/Mibeese__639b759f3a663f09483036b7-e7b6cb8906fcba88-9_image_0.nii.gz\n",
      "2023-10-16 00:58:46,907 INFO image_writer.py:197 - writing: /home/vlermakov/Development/Nodules/Nodule-Detection-LUNA2016/processed_data_full_range_075mm_fixed/Mibeese__639b759f3a663f09483036b7-e7b6cb8906fcba88-9/Mibeese__639b759f3a663f09483036b7-e7b6cb8906fcba88-9_mask_0.nii.gz\n",
      "2023-10-16 00:58:47,006 INFO image_writer.py:197 - writing: /home/vlermakov/Development/Nodules/Nodule-Detection-LUNA2016/processed_data_full_range_075mm_fixed/Mibeese__639b759f3a663f09483036b7-e7b6cb8906fcba88-1/Mibeese__639b759f3a663f09483036b7-e7b6cb8906fcba88-1_mask_0.nii.gz\n"
     ]
    },
    {
     "name": "stderr",
     "output_type": "stream",
     "text": [
      "Loading dataset:  21%|█████████████████████████████                                                                                                                | 118/572 [19:39<1:06:30,  8.79s/it]"
     ]
    },
    {
     "name": "stdout",
     "output_type": "stream",
     "text": [
      "2023-10-16 00:58:55,750 INFO image_writer.py:197 - writing: /home/vlermakov/Development/Nodules/Nodule-Detection-LUNA2016/processed_data_full_range_075mm_fixed/Mibeese__639b759f3a663f09483036b7-e7b6cb8906fcba88-8/Mibeese__639b759f3a663f09483036b7-e7b6cb8906fcba88-8_image_0.nii.gz\n",
      "2023-10-16 00:58:56,338 INFO image_writer.py:197 - writing: /home/vlermakov/Development/Nodules/Nodule-Detection-LUNA2016/processed_data_full_range_075mm_fixed/Mibeese__639b759f3a663f09483036b7-e7b6cb8906fcba88-8/Mibeese__639b759f3a663f09483036b7-e7b6cb8906fcba88-8_mask_0.nii.gz\n"
     ]
    },
    {
     "name": "stderr",
     "output_type": "stream",
     "text": [
      "\r",
      "Loading dataset:  21%|█████████████████████████████▎                                                                                                               | 119/572 [19:53<1:16:02, 10.07s/it]"
     ]
    },
    {
     "name": "stdout",
     "output_type": "stream",
     "text": [
      "2023-10-16 00:59:13,208 INFO image_writer.py:197 - writing: /home/vlermakov/Development/Nodules/Nodule-Detection-LUNA2016/processed_data_full_range_075mm_fixed/Golufa__636acd95c5159a09b98884bb-166fa65368579abb-7/Golufa__636acd95c5159a09b98884bb-166fa65368579abb-7_image_0.nii.gz\n",
      "2023-10-16 00:59:13,249 INFO image_writer.py:197 - writing: /home/vlermakov/Development/Nodules/Nodule-Detection-LUNA2016/processed_data_full_range_075mm_fixed/Golufa__636acd95c5159a09b98884bb-166fa65368579abb-5/Golufa__636acd95c5159a09b98884bb-166fa65368579abb-5_image_0.nii.gz\n",
      "2023-10-16 00:59:13,250 INFO image_writer.py:197 - writing: /home/vlermakov/Development/Nodules/Nodule-Detection-LUNA2016/processed_data_full_range_075mm_fixed/Golufa__636acd95c5159a09b98884bb-166fa65368579abb-11/Golufa__636acd95c5159a09b98884bb-166fa65368579abb-11_image_0.nii.gz\n",
      "2023-10-16 00:59:14,672 INFO image_writer.py:197 - writing: /home/vlermakov/Development/Nodules/Nodule-Detection-LUNA2016/processed_data_full_range_075mm_fixed/Golufa__636acd95c5159a09b98884bb-166fa65368579abb-7/Golufa__636acd95c5159a09b98884bb-166fa65368579abb-7_mask_0.nii.gz\n",
      "2023-10-16 00:59:14,693 INFO image_writer.py:197 - writing: /home/vlermakov/Development/Nodules/Nodule-Detection-LUNA2016/processed_data_full_range_075mm_fixed/Golufa__636acd95c5159a09b98884bb-166fa65368579abb-11/Golufa__636acd95c5159a09b98884bb-166fa65368579abb-11_mask_0.nii.gz\n",
      "2023-10-16 00:59:14,704 INFO image_writer.py:197 - writing: /home/vlermakov/Development/Nodules/Nodule-Detection-LUNA2016/processed_data_full_range_075mm_fixed/Golufa__636acd95c5159a09b98884bb-166fa65368579abb-5/Golufa__636acd95c5159a09b98884bb-166fa65368579abb-5_mask_0.nii.gz\n"
     ]
    },
    {
     "name": "stderr",
     "output_type": "stream",
     "text": [
      "Loading dataset:  21%|█████████████████████████████▊                                                                                                               | 121/572 [20:15<1:20:28, 10.71s/it]"
     ]
    },
    {
     "name": "stdout",
     "output_type": "stream",
     "text": [
      "2023-10-16 00:59:32,245 INFO image_writer.py:197 - writing: /home/vlermakov/Development/Nodules/Nodule-Detection-LUNA2016/processed_data_full_range_075mm_fixed/Fagapgak__63a0bbfecc9b3d090b1f71fc-d02eed16252e1877-1/Fagapgak__63a0bbfecc9b3d090b1f71fc-d02eed16252e1877-1_image_0.nii.gz\n",
      "2023-10-16 00:59:32,619 INFO image_writer.py:197 - writing: /home/vlermakov/Development/Nodules/Nodule-Detection-LUNA2016/processed_data_full_range_075mm_fixed/Fagapgak__63a0bbfecc9b3d090b1f71fc-d02eed16252e1877-1/Fagapgak__63a0bbfecc9b3d090b1f71fc-d02eed16252e1877-1_mask_0.nii.gz\n",
      "2023-10-16 00:59:44,441 INFO image_writer.py:197 - writing: /home/vlermakov/Development/Nodules/Nodule-Detection-LUNA2016/processed_data_full_range_075mm_fixed/Golufa__636acd95c5159a09b98884bb-166fa65368579abb-9/Golufa__636acd95c5159a09b98884bb-166fa65368579abb-9_image_0.nii.gz\n",
      "2023-10-16 00:59:45,217 INFO image_writer.py:197 - writing: /home/vlermakov/Development/Nodules/Nodule-Detection-LUNA2016/processed_data_full_range_075mm_fixed/Golufa__636acd95c5159a09b98884bb-166fa65368579abb-9/Golufa__636acd95c5159a09b98884bb-166fa65368579abb-9_mask_0.nii.gz\n"
     ]
    },
    {
     "name": "stderr",
     "output_type": "stream",
     "text": [
      "Loading dataset:  22%|██████████████████████████████▎                                                                                                              | 123/572 [20:31<1:05:35,  8.76s/it]"
     ]
    },
    {
     "name": "stdout",
     "output_type": "stream",
     "text": [
      "2023-10-16 00:59:52,656 INFO image_writer.py:197 - writing: /home/vlermakov/Development/Nodules/Nodule-Detection-LUNA2016/processed_data_full_range_075mm_fixed/Fagapgak__63a0bbfecc9b3d090b1f71fc-d02eed16252e1877-2/Fagapgak__63a0bbfecc9b3d090b1f71fc-d02eed16252e1877-2_image_0.nii.gz\n",
      "2023-10-16 00:59:54,495 INFO image_writer.py:197 - writing: /home/vlermakov/Development/Nodules/Nodule-Detection-LUNA2016/processed_data_full_range_075mm_fixed/Fagapgak__63a0bbfecc9b3d090b1f71fc-d02eed16252e1877-2/Fagapgak__63a0bbfecc9b3d090b1f71fc-d02eed16252e1877-2_mask_0.nii.gz\n"
     ]
    },
    {
     "name": "stderr",
     "output_type": "stream",
     "text": [
      "\r",
      "Loading dataset:  22%|███████████████████████████████▎                                                                                                               | 125/572 [20:39<50:09,  6.73s/it]"
     ]
    },
    {
     "name": "stdout",
     "output_type": "stream",
     "text": [
      "2023-10-16 01:00:03,301 INFO image_writer.py:197 - writing: /home/vlermakov/Development/Nodules/Nodule-Detection-LUNA2016/processed_data_full_range_075mm_fixed/Fagapgak__63a0bbfecc9b3d090b1f71fc-d02eed16252e1877-4/Fagapgak__63a0bbfecc9b3d090b1f71fc-d02eed16252e1877-4_image_0.nii.gz\n",
      "2023-10-16 01:00:03,362 INFO image_writer.py:197 - writing: /home/vlermakov/Development/Nodules/Nodule-Detection-LUNA2016/processed_data_full_range_075mm_fixed/Fagapgak__63a0bbfecc9b3d090b1f71fc-d02eed16252e1877-6/Fagapgak__63a0bbfecc9b3d090b1f71fc-d02eed16252e1877-6_image_0.nii.gz\n",
      "2023-10-16 01:00:04,304 INFO image_writer.py:197 - writing: /home/vlermakov/Development/Nodules/Nodule-Detection-LUNA2016/processed_data_full_range_075mm_fixed/Fagapgak__63a0bbfecc9b3d090b1f71fc-d02eed16252e1877-4/Fagapgak__63a0bbfecc9b3d090b1f71fc-d02eed16252e1877-4_mask_0.nii.gz\n",
      "2023-10-16 01:00:05,018 INFO image_writer.py:197 - writing: /home/vlermakov/Development/Nodules/Nodule-Detection-LUNA2016/processed_data_full_range_075mm_fixed/Fagapgak__63a0bbfecc9b3d090b1f71fc-d02eed16252e1877-6/Fagapgak__63a0bbfecc9b3d090b1f71fc-d02eed16252e1877-6_mask_0.nii.gz\n"
     ]
    },
    {
     "name": "stderr",
     "output_type": "stream",
     "text": [
      "Loading dataset:  22%|███████████████████████████████▊                                                                                                               | 127/572 [20:58<57:55,  7.81s/it]"
     ]
    },
    {
     "name": "stdout",
     "output_type": "stream",
     "text": [
      "2023-10-16 01:00:15,675 INFO image_writer.py:197 - writing: /home/vlermakov/Development/Nodules/Nodule-Detection-LUNA2016/processed_data_full_range_075mm_fixed/Kujidu__63b4d2ca25327108cce00602-2e10145f0a75ac40-6/Kujidu__63b4d2ca25327108cce00602-2e10145f0a75ac40-6_image_0.nii.gz\n",
      "2023-10-16 01:00:15,705 INFO image_writer.py:197 - writing: /home/vlermakov/Development/Nodules/Nodule-Detection-LUNA2016/processed_data_full_range_075mm_fixed/Kujidu__63b4d2ca25327108cce00602-2e10145f0a75ac40-2/Kujidu__63b4d2ca25327108cce00602-2e10145f0a75ac40-2_image_0.nii.gz\n",
      "2023-10-16 01:00:15,881 INFO image_writer.py:197 - writing: /home/vlermakov/Development/Nodules/Nodule-Detection-LUNA2016/processed_data_full_range_075mm_fixed/Kujidu__63b4d2ca25327108cce00602-2e10145f0a75ac40-2/Kujidu__63b4d2ca25327108cce00602-2e10145f0a75ac40-2_mask_0.nii.gz\n",
      "2023-10-16 01:00:15,884 INFO image_writer.py:197 - writing: /home/vlermakov/Development/Nodules/Nodule-Detection-LUNA2016/processed_data_full_range_075mm_fixed/Kujidu__63b4d2ca25327108cce00602-2e10145f0a75ac40-6/Kujidu__63b4d2ca25327108cce00602-2e10145f0a75ac40-6_mask_0.nii.gz\n"
     ]
    },
    {
     "name": "stderr",
     "output_type": "stream",
     "text": [
      "Loading dataset:  23%|████████████████████████████████▎                                                                                                              | 129/572 [21:09<50:15,  6.81s/it]"
     ]
    },
    {
     "name": "stdout",
     "output_type": "stream",
     "text": [
      "2023-10-16 01:00:46,114 INFO image_writer.py:197 - writing: /home/vlermakov/Development/Nodules/Nodule-Detection-LUNA2016/processed_data_full_range_075mm_fixed/Dubeepoo__6359de9b65e98c0944599dfa-e12ffe11a525cfed-1/Dubeepoo__6359de9b65e98c0944599dfa-e12ffe11a525cfed-1_image_0.nii.gz\n",
      "2023-10-16 01:00:46,365 INFO image_writer.py:197 - writing: /home/vlermakov/Development/Nodules/Nodule-Detection-LUNA2016/processed_data_full_range_075mm_fixed/Dubeepoo__6359de9b65e98c0944599dfa-e12ffe11a525cfed-1/Dubeepoo__6359de9b65e98c0944599dfa-e12ffe11a525cfed-1_mask_0.nii.gz\n"
     ]
    },
    {
     "name": "stderr",
     "output_type": "stream",
     "text": [
      "\r",
      "Loading dataset:  23%|████████████████████████████████                                                                                                             | 130/572 [21:31<1:22:23, 11.18s/it]"
     ]
    },
    {
     "name": "stdout",
     "output_type": "stream",
     "text": [
      "2023-10-16 01:00:53,916 INFO image_writer.py:197 - writing: /home/vlermakov/Development/Nodules/Nodule-Detection-LUNA2016/processed_data_full_range_075mm_fixed/Dubeepoo__6359de9b65e98c0944599dfa-e12ffe11a525cfed-13/Dubeepoo__6359de9b65e98c0944599dfa-e12ffe11a525cfed-13_image_0.nii.gz\n",
      "2023-10-16 01:00:53,946 INFO image_writer.py:197 - writing: /home/vlermakov/Development/Nodules/Nodule-Detection-LUNA2016/processed_data_full_range_075mm_fixed/Dubeepoo__6359de9b65e98c0944599dfa-e12ffe11a525cfed-4/Dubeepoo__6359de9b65e98c0944599dfa-e12ffe11a525cfed-4_image_0.nii.gz\n",
      "2023-10-16 01:00:54,024 INFO image_writer.py:197 - writing: /home/vlermakov/Development/Nodules/Nodule-Detection-LUNA2016/processed_data_full_range_075mm_fixed/Dubeepoo__6359de9b65e98c0944599dfa-e12ffe11a525cfed-41/Dubeepoo__6359de9b65e98c0944599dfa-e12ffe11a525cfed-41_image_0.nii.gz\n",
      "2023-10-16 01:00:54,727 INFO image_writer.py:197 - writing: /home/vlermakov/Development/Nodules/Nodule-Detection-LUNA2016/processed_data_full_range_075mm_fixed/Dubeepoo__6359de9b65e98c0944599dfa-e12ffe11a525cfed-13/Dubeepoo__6359de9b65e98c0944599dfa-e12ffe11a525cfed-13_mask_0.nii.gz\n",
      "2023-10-16 01:00:55,150 INFO image_writer.py:197 - writing: /home/vlermakov/Development/Nodules/Nodule-Detection-LUNA2016/processed_data_full_range_075mm_fixed/Dubeepoo__6359de9b65e98c0944599dfa-e12ffe11a525cfed-4/Dubeepoo__6359de9b65e98c0944599dfa-e12ffe11a525cfed-4_mask_0.nii.gz\n",
      "2023-10-16 01:00:59,532 INFO image_writer.py:197 - writing: /home/vlermakov/Development/Nodules/Nodule-Detection-LUNA2016/processed_data_full_range_075mm_fixed/Dubeepoo__6359de9b65e98c0944599dfa-e12ffe11a525cfed-41/Dubeepoo__6359de9b65e98c0944599dfa-e12ffe11a525cfed-41_mask_0.nii.gz\n"
     ]
    },
    {
     "name": "stderr",
     "output_type": "stream",
     "text": [
      "Loading dataset:  23%|████████████████████████████████▌                                                                                                            | 132/572 [21:51<1:12:40,  9.91s/it]"
     ]
    },
    {
     "name": "stdout",
     "output_type": "stream",
     "text": [
      "2023-10-16 01:01:07,263 INFO image_writer.py:197 - writing: /home/vlermakov/Development/Nodules/Nodule-Detection-LUNA2016/processed_data_full_range_075mm_fixed/Dubeepoo__6359de9b65e98c0944599dfa-e12ffe11a525cfed-62/Dubeepoo__6359de9b65e98c0944599dfa-e12ffe11a525cfed-62_image_0.nii.gz\n",
      "2023-10-16 01:01:07,317 INFO image_writer.py:197 - writing: /home/vlermakov/Development/Nodules/Nodule-Detection-LUNA2016/processed_data_full_range_075mm_fixed/Dubeepoo__6359de9b65e98c0944599dfa-e12ffe11a525cfed-60/Dubeepoo__6359de9b65e98c0944599dfa-e12ffe11a525cfed-60_image_0.nii.gz\n",
      "2023-10-16 01:01:07,408 INFO image_writer.py:197 - writing: /home/vlermakov/Development/Nodules/Nodule-Detection-LUNA2016/processed_data_full_range_075mm_fixed/Dubeepoo__6359de9b65e98c0944599dfa-e12ffe11a525cfed-62/Dubeepoo__6359de9b65e98c0944599dfa-e12ffe11a525cfed-62_mask_0.nii.gz\n",
      "2023-10-16 01:01:07,494 INFO image_writer.py:197 - writing: /home/vlermakov/Development/Nodules/Nodule-Detection-LUNA2016/processed_data_full_range_075mm_fixed/Dubeepoo__6359de9b65e98c0944599dfa-e12ffe11a525cfed-60/Dubeepoo__6359de9b65e98c0944599dfa-e12ffe11a525cfed-60_mask_0.nii.gz\n"
     ]
    },
    {
     "name": "stderr",
     "output_type": "stream",
     "text": [
      "Loading dataset:  24%|█████████████████████████████████▊                                                                                                             | 135/572 [22:01<42:27,  5.83s/it]"
     ]
    },
    {
     "name": "stdout",
     "output_type": "stream",
     "text": [
      "2023-10-16 01:01:44,917 INFO image_writer.py:197 - writing: /home/vlermakov/Development/Nodules/Nodule-Detection-LUNA2016/processed_data_full_range_075mm_fixed/Dubeepoo__6359de9b65e98c0944599dfa-e12ffe11a525cfed-67/Dubeepoo__6359de9b65e98c0944599dfa-e12ffe11a525cfed-67_image_0.nii.gz\n",
      "2023-10-16 01:01:45,156 INFO image_writer.py:197 - writing: /home/vlermakov/Development/Nodules/Nodule-Detection-LUNA2016/processed_data_full_range_075mm_fixed/Dubeepoo__6359de9b65e98c0944599dfa-e12ffe11a525cfed-67/Dubeepoo__6359de9b65e98c0944599dfa-e12ffe11a525cfed-67_mask_0.nii.gz\n",
      "2023-10-16 01:01:45,195 INFO image_writer.py:197 - writing: /home/vlermakov/Development/Nodules/Nodule-Detection-LUNA2016/processed_data_full_range_075mm_fixed/Dubeepoo__6359de9b65e98c0944599dfa-e12ffe11a525cfed-64/Dubeepoo__6359de9b65e98c0944599dfa-e12ffe11a525cfed-64_image_0.nii.gz\n",
      "2023-10-16 01:01:45,320 INFO image_writer.py:197 - writing: /home/vlermakov/Development/Nodules/Nodule-Detection-LUNA2016/processed_data_full_range_075mm_fixed/Dubeepoo__6359de9b65e98c0944599dfa-e12ffe11a525cfed-64/Dubeepoo__6359de9b65e98c0944599dfa-e12ffe11a525cfed-64_mask_0.nii.gz\n"
     ]
    },
    {
     "name": "stderr",
     "output_type": "stream",
     "text": [
      "Loading dataset:  24%|█████████████████████████████████▊                                                                                                           | 137/572 [22:38<1:16:05, 10.49s/it]"
     ]
    },
    {
     "name": "stdout",
     "output_type": "stream",
     "text": [
      "2023-10-16 01:01:55,941 INFO image_writer.py:197 - writing: /home/vlermakov/Development/Nodules/Nodule-Detection-LUNA2016/processed_data_full_range_075mm_fixed/Quimuque__63ae43492ceaca096c4c283e-64c7e060be18f0c3-2/Quimuque__63ae43492ceaca096c4c283e-64c7e060be18f0c3-2_image_0.nii.gz\n",
      "2023-10-16 01:01:55,968 INFO image_writer.py:197 - writing: /home/vlermakov/Development/Nodules/Nodule-Detection-LUNA2016/processed_data_full_range_075mm_fixed/Quimuque__63ae43492ceaca096c4c283e-64c7e060be18f0c3-1/Quimuque__63ae43492ceaca096c4c283e-64c7e060be18f0c3-1_image_0.nii.gz\n",
      "2023-10-16 01:01:56,006 INFO image_writer.py:197 - writing: /home/vlermakov/Development/Nodules/Nodule-Detection-LUNA2016/processed_data_full_range_075mm_fixed/Quimuque__63ae43492ceaca096c4c283e-64c7e060be18f0c3-4/Quimuque__63ae43492ceaca096c4c283e-64c7e060be18f0c3-4_image_0.nii.gz\n",
      "2023-10-16 01:01:56,060 INFO image_writer.py:197 - writing: /home/vlermakov/Development/Nodules/Nodule-Detection-LUNA2016/processed_data_full_range_075mm_fixed/Quimuque__63ae43492ceaca096c4c283e-64c7e060be18f0c3-19/Quimuque__63ae43492ceaca096c4c283e-64c7e060be18f0c3-19_image_0.nii.gz\n",
      "2023-10-16 01:01:56,422 INFO image_writer.py:197 - writing: /home/vlermakov/Development/Nodules/Nodule-Detection-LUNA2016/processed_data_full_range_075mm_fixed/Quimuque__63ae43492ceaca096c4c283e-64c7e060be18f0c3-2/Quimuque__63ae43492ceaca096c4c283e-64c7e060be18f0c3-2_mask_0.nii.gz\n",
      "2023-10-16 01:01:56,896 INFO image_writer.py:197 - writing: /home/vlermakov/Development/Nodules/Nodule-Detection-LUNA2016/processed_data_full_range_075mm_fixed/Quimuque__63ae43492ceaca096c4c283e-64c7e060be18f0c3-1/Quimuque__63ae43492ceaca096c4c283e-64c7e060be18f0c3-1_mask_0.nii.gz\n",
      "2023-10-16 01:02:06,703 INFO image_writer.py:197 - writing: /home/vlermakov/Development/Nodules/Nodule-Detection-LUNA2016/processed_data_full_range_075mm_fixed/Quimuque__63ae43492ceaca096c4c283e-64c7e060be18f0c3-19/Quimuque__63ae43492ceaca096c4c283e-64c7e060be18f0c3-19_mask_0.nii.gz\n",
      "2023-10-16 01:02:06,837 INFO image_writer.py:197 - writing: /home/vlermakov/Development/Nodules/Nodule-Detection-LUNA2016/processed_data_full_range_075mm_fixed/Quimuque__63ae43492ceaca096c4c283e-64c7e060be18f0c3-4/Quimuque__63ae43492ceaca096c4c283e-64c7e060be18f0c3-4_mask_0.nii.gz\n"
     ]
    },
    {
     "name": "stderr",
     "output_type": "stream",
     "text": [
      "\r",
      "Loading dataset:  24%|██████████████████████████████████                                                                                                           | 138/572 [22:58<1:36:10, 13.30s/it]"
     ]
    },
    {
     "name": "stdout",
     "output_type": "stream",
     "text": [
      "2023-10-16 01:02:14,442 INFO image_writer.py:197 - writing: /home/vlermakov/Development/Nodules/Nodule-Detection-LUNA2016/processed_data_full_range_075mm_fixed/Quimuque__63ae43492ceaca096c4c283e-64c7e060be18f0c3-8/Quimuque__63ae43492ceaca096c4c283e-64c7e060be18f0c3-8_image_0.nii.gz\n",
      "2023-10-16 01:02:15,250 INFO image_writer.py:197 - writing: /home/vlermakov/Development/Nodules/Nodule-Detection-LUNA2016/processed_data_full_range_075mm_fixed/Quimuque__63ae43492ceaca096c4c283e-64c7e060be18f0c3-8/Quimuque__63ae43492ceaca096c4c283e-64c7e060be18f0c3-8_mask_0.nii.gz\n"
     ]
    },
    {
     "name": "stderr",
     "output_type": "stream",
     "text": [
      "\r",
      "Loading dataset:  25%|███████████████████████████████████▌                                                                                                           | 142/572 [23:01<40:20,  5.63s/it]"
     ]
    },
    {
     "name": "stdout",
     "output_type": "stream",
     "text": [
      "2023-10-16 01:02:37,634 INFO image_writer.py:197 - writing: /home/vlermakov/Development/Nodules/Nodule-Detection-LUNA2016/processed_data_full_range_075mm_fixed/Asuenak__635afe0c30a74e09a7a90a2c-670a0de1058ab138-29/Asuenak__635afe0c30a74e09a7a90a2c-670a0de1058ab138-29_image_0.nii.gz\n",
      "2023-10-16 01:02:37,735 INFO image_writer.py:197 - writing: /home/vlermakov/Development/Nodules/Nodule-Detection-LUNA2016/processed_data_full_range_075mm_fixed/Maguda__636f3e0239f01912fa7dd0ec-2f37b3cbd0667fec-2/Maguda__636f3e0239f01912fa7dd0ec-2f37b3cbd0667fec-2_image_0.nii.gz\n",
      "2023-10-16 01:02:37,938 INFO image_writer.py:197 - writing: /home/vlermakov/Development/Nodules/Nodule-Detection-LUNA2016/processed_data_full_range_075mm_fixed/Asuenak__635afe0c30a74e09a7a90a2c-670a0de1058ab138-29/Asuenak__635afe0c30a74e09a7a90a2c-670a0de1058ab138-29_mask_0.nii.gz\n",
      "2023-10-16 01:02:37,952 INFO image_writer.py:197 - writing: /home/vlermakov/Development/Nodules/Nodule-Detection-LUNA2016/processed_data_full_range_075mm_fixed/Maguda__636f3e0239f01912fa7dd0ec-2f37b3cbd0667fec-3/Maguda__636f3e0239f01912fa7dd0ec-2f37b3cbd0667fec-3_image_0.nii.gz\n",
      "2023-10-16 01:02:37,999 INFO image_writer.py:197 - writing: /home/vlermakov/Development/Nodules/Nodule-Detection-LUNA2016/processed_data_full_range_075mm_fixed/Maguda__636f3e0239f01912fa7dd0ec-2f37b3cbd0667fec-2/Maguda__636f3e0239f01912fa7dd0ec-2f37b3cbd0667fec-2_mask_0.nii.gz\n"
     ]
    },
    {
     "name": "stderr",
     "output_type": "stream",
     "text": [
      "\r",
      "Loading dataset:  25%|███████████████████████████████████▎                                                                                                         | 143/572 [23:24<1:01:49,  8.65s/it]"
     ]
    },
    {
     "name": "stdout",
     "output_type": "stream",
     "text": [
      "2023-10-16 01:02:48,583 INFO image_writer.py:197 - writing: /home/vlermakov/Development/Nodules/Nodule-Detection-LUNA2016/processed_data_full_range_075mm_fixed/Maguda__636f3e0239f01912fa7dd0ec-2f37b3cbd0667fec-3/Maguda__636f3e0239f01912fa7dd0ec-2f37b3cbd0667fec-3_mask_0.nii.gz\n",
      "2023-10-16 01:02:52,536 INFO image_writer.py:197 - writing: /home/vlermakov/Development/Nodules/Nodule-Detection-LUNA2016/processed_data_full_range_075mm_fixed/Maguda__636f3e0239f01912fa7dd0ec-2f37b3cbd0667fec-1/Maguda__636f3e0239f01912fa7dd0ec-2f37b3cbd0667fec-1_image_0.nii.gz\n",
      "2023-10-16 01:02:53,260 INFO image_writer.py:197 - writing: /home/vlermakov/Development/Nodules/Nodule-Detection-LUNA2016/processed_data_full_range_075mm_fixed/Maguda__636f3e0239f01912fa7dd0ec-2f37b3cbd0667fec-1/Maguda__636f3e0239f01912fa7dd0ec-2f37b3cbd0667fec-1_mask_0.nii.gz\n",
      "2023-10-16 01:03:13,609 INFO image_writer.py:197 - writing: /home/vlermakov/Development/Nodules/Nodule-Detection-LUNA2016/processed_data_full_range_075mm_fixed/Asuenak__635afe0c30a74e09a7a90a2c-670a0de1058ab138-9/Asuenak__635afe0c30a74e09a7a90a2c-670a0de1058ab138-9_image_0.nii.gz\n",
      "2023-10-16 01:03:13,652 INFO image_writer.py:197 - writing: /home/vlermakov/Development/Nodules/Nodule-Detection-LUNA2016/processed_data_full_range_075mm_fixed/Asuenak__635afe0c30a74e09a7a90a2c-670a0de1058ab138-1/Asuenak__635afe0c30a74e09a7a90a2c-670a0de1058ab138-1_image_0.nii.gz\n",
      "2023-10-16 01:03:14,006 INFO image_writer.py:197 - writing: /home/vlermakov/Development/Nodules/Nodule-Detection-LUNA2016/processed_data_full_range_075mm_fixed/Asuenak__635afe0c30a74e09a7a90a2c-670a0de1058ab138-9/Asuenak__635afe0c30a74e09a7a90a2c-670a0de1058ab138-9_mask_0.nii.gz\n",
      "2023-10-16 01:03:14,103 INFO image_writer.py:197 - writing: /home/vlermakov/Development/Nodules/Nodule-Detection-LUNA2016/processed_data_full_range_075mm_fixed/Asuenak__635afe0c30a74e09a7a90a2c-670a0de1058ab138-1/Asuenak__635afe0c30a74e09a7a90a2c-670a0de1058ab138-1_mask_0.nii.gz\n"
     ]
    },
    {
     "name": "stderr",
     "output_type": "stream",
     "text": [
      "\r",
      "Loading dataset:  25%|███████████████████████████████████▍                                                                                                         | 144/572 [24:04<1:47:56, 15.13s/it]"
     ]
    },
    {
     "name": "stdout",
     "output_type": "stream",
     "text": [
      "2023-10-16 01:03:24,262 INFO image_writer.py:197 - writing: /home/vlermakov/Development/Nodules/Nodule-Detection-LUNA2016/processed_data_full_range_075mm_fixed/Asuenak__635afe0c30a74e09a7a90a2c-670a0de1058ab138-2/Asuenak__635afe0c30a74e09a7a90a2c-670a0de1058ab138-2_image_0.nii.gz\n",
      "2023-10-16 01:03:24,435 INFO image_writer.py:197 - writing: /home/vlermakov/Development/Nodules/Nodule-Detection-LUNA2016/processed_data_full_range_075mm_fixed/Mosniegu__63ad23e1169c2a0926c89275-07276a5e0aa97b02-11/Mosniegu__63ad23e1169c2a0926c89275-07276a5e0aa97b02-11_image_0.nii.gz\n",
      "2023-10-16 01:03:24,898 INFO image_writer.py:197 - writing: /home/vlermakov/Development/Nodules/Nodule-Detection-LUNA2016/processed_data_full_range_075mm_fixed/Asuenak__635afe0c30a74e09a7a90a2c-670a0de1058ab138-2/Asuenak__635afe0c30a74e09a7a90a2c-670a0de1058ab138-2_mask_0.nii.gz\n",
      "2023-10-16 01:03:25,185 INFO image_writer.py:197 - writing: /home/vlermakov/Development/Nodules/Nodule-Detection-LUNA2016/processed_data_full_range_075mm_fixed/Nekledat__63ae34950203e409471b177f-c5cea3df5116924a-9/Nekledat__63ae34950203e409471b177f-c5cea3df5116924a-9_image_0.nii.gz\n",
      "2023-10-16 01:03:25,185 INFO image_writer.py:197 - writing: /home/vlermakov/Development/Nodules/Nodule-Detection-LUNA2016/processed_data_full_range_075mm_fixed/Mosniegu__63ad23e1169c2a0926c89275-07276a5e0aa97b02-11/Mosniegu__63ad23e1169c2a0926c89275-07276a5e0aa97b02-11_mask_0.nii.gz\n"
     ]
    },
    {
     "name": "stderr",
     "output_type": "stream",
     "text": [
      "Loading dataset:  26%|███████████████████████████████████▉                                                                                                         | 146/572 [24:14<1:16:17, 10.74s/it]"
     ]
    },
    {
     "name": "stdout",
     "output_type": "stream",
     "text": [
      "2023-10-16 01:03:29,797 INFO image_writer.py:197 - writing: /home/vlermakov/Development/Nodules/Nodule-Detection-LUNA2016/processed_data_full_range_075mm_fixed/Nekledat__63ae34950203e409471b177f-c5cea3df5116924a-9/Nekledat__63ae34950203e409471b177f-c5cea3df5116924a-9_mask_0.nii.gz\n",
      "2023-10-16 01:03:36,922 INFO image_writer.py:197 - writing: /home/vlermakov/Development/Nodules/Nodule-Detection-LUNA2016/processed_data_full_range_075mm_fixed/Mosniegu__63ad23e1169c2a0926c89275-07276a5e0aa97b02-5/Mosniegu__63ad23e1169c2a0926c89275-07276a5e0aa97b02-5_image_0.nii.gz\n",
      "2023-10-16 01:03:37,264 INFO image_writer.py:197 - writing: /home/vlermakov/Development/Nodules/Nodule-Detection-LUNA2016/processed_data_full_range_075mm_fixed/Mosniegu__63ad23e1169c2a0926c89275-07276a5e0aa97b02-5/Mosniegu__63ad23e1169c2a0926c89275-07276a5e0aa97b02-5_mask_0.nii.gz\n",
      "2023-10-16 01:03:52,759 INFO image_writer.py:197 - writing: /home/vlermakov/Development/Nodules/Nodule-Detection-LUNA2016/processed_data_full_range_075mm_fixed/Mosniegu__63ad23e1169c2a0926c89275-07276a5e0aa97b02-2/Mosniegu__63ad23e1169c2a0926c89275-07276a5e0aa97b02-2_image_0.nii.gz\n",
      "2023-10-16 01:03:53,130 INFO image_writer.py:197 - writing: /home/vlermakov/Development/Nodules/Nodule-Detection-LUNA2016/processed_data_full_range_075mm_fixed/Mosniegu__63ad23e1169c2a0926c89275-07276a5e0aa97b02-2/Mosniegu__63ad23e1169c2a0926c89275-07276a5e0aa97b02-2_mask_0.nii.gz\n",
      "2023-10-16 01:03:59,982 INFO image_writer.py:197 - writing: /home/vlermakov/Development/Nodules/Nodule-Detection-LUNA2016/processed_data_full_range_075mm_fixed/Mosniegu__63ad23e1169c2a0926c89275-07276a5e0aa97b02-1/Mosniegu__63ad23e1169c2a0926c89275-07276a5e0aa97b02-1_image_0.nii.gz\n",
      "2023-10-16 01:04:01,111 INFO image_writer.py:197 - writing: /home/vlermakov/Development/Nodules/Nodule-Detection-LUNA2016/processed_data_full_range_075mm_fixed/Mosniegu__63ad23e1169c2a0926c89275-07276a5e0aa97b02-1/Mosniegu__63ad23e1169c2a0926c89275-07276a5e0aa97b02-1_mask_0.nii.gz\n",
      "2023-10-16 01:04:07,200 INFO image_writer.py:197 - writing: /home/vlermakov/Development/Nodules/Nodule-Detection-LUNA2016/processed_data_full_range_075mm_fixed/Mosniegu__63ad23e1169c2a0926c89275-07276a5e0aa97b02-7/Mosniegu__63ad23e1169c2a0926c89275-07276a5e0aa97b02-7_image_0.nii.gz\n",
      "2023-10-16 01:04:08,503 INFO image_writer.py:197 - writing: /home/vlermakov/Development/Nodules/Nodule-Detection-LUNA2016/processed_data_full_range_075mm_fixed/Mosniegu__63ad23e1169c2a0926c89275-07276a5e0aa97b02-7/Mosniegu__63ad23e1169c2a0926c89275-07276a5e0aa97b02-7_mask_0.nii.gz\n",
      "2023-10-16 01:04:19,160 INFO image_writer.py:197 - writing: /home/vlermakov/Development/Nodules/Nodule-Detection-LUNA2016/processed_data_full_range_075mm_fixed/Agipkab__6394ae8d4ee9a509bba939e4-b64e22e055657caf-43/Agipkab__6394ae8d4ee9a509bba939e4-b64e22e055657caf-43_image_0.nii.gz\n",
      "2023-10-16 01:04:19,594 INFO image_writer.py:197 - writing: /home/vlermakov/Development/Nodules/Nodule-Detection-LUNA2016/processed_data_full_range_075mm_fixed/Agipkab__6394ae8d4ee9a509bba939e4-b64e22e055657caf-43/Agipkab__6394ae8d4ee9a509bba939e4-b64e22e055657caf-43_mask_0.nii.gz\n"
     ]
    },
    {
     "name": "stderr",
     "output_type": "stream",
     "text": [
      "Loading dataset:  26%|█████████████████████████████████████▏                                                                                                       | 151/572 [25:09<1:12:15, 10.30s/it]"
     ]
    },
    {
     "name": "stdout",
     "output_type": "stream",
     "text": [
      "2023-10-16 01:04:30,860 INFO image_writer.py:197 - writing: /home/vlermakov/Development/Nodules/Nodule-Detection-LUNA2016/processed_data_full_range_075mm_fixed/Bayusha__635ca31e614af409ec8a96f6-498ffb13cfd9426f-1/Bayusha__635ca31e614af409ec8a96f6-498ffb13cfd9426f-1_image_0.nii.gz\n",
      "2023-10-16 01:04:31,117 INFO image_writer.py:197 - writing: /home/vlermakov/Development/Nodules/Nodule-Detection-LUNA2016/processed_data_full_range_075mm_fixed/Bayusha__635ca31e614af409ec8a96f6-498ffb13cfd9426f-1/Bayusha__635ca31e614af409ec8a96f6-498ffb13cfd9426f-1_mask_0.nii.gz\n",
      "2023-10-16 01:04:31,590 INFO image_writer.py:197 - writing: /home/vlermakov/Development/Nodules/Nodule-Detection-LUNA2016/processed_data_full_range_075mm_fixed/Bayusha__635ca31e614af409ec8a96f6-498ffb13cfd9426f-4/Bayusha__635ca31e614af409ec8a96f6-498ffb13cfd9426f-4_image_0.nii.gz\n"
     ]
    },
    {
     "name": "stderr",
     "output_type": "stream",
     "text": [
      "\r",
      "Loading dataset:  27%|███████████████████████████████████████▎                                                                                                       | 157/572 [25:17<34:31,  4.99s/it]"
     ]
    },
    {
     "name": "stdout",
     "output_type": "stream",
     "text": [
      "2023-10-16 01:04:35,970 INFO image_writer.py:197 - writing: /home/vlermakov/Development/Nodules/Nodule-Detection-LUNA2016/processed_data_full_range_075mm_fixed/Bayusha__635ca31e614af409ec8a96f6-498ffb13cfd9426f-4/Bayusha__635ca31e614af409ec8a96f6-498ffb13cfd9426f-4_mask_0.nii.gz\n"
     ]
    },
    {
     "name": "stderr",
     "output_type": "stream",
     "text": [
      "\r",
      "Loading dataset:  28%|███████████████████████████████████████▍                                                                                                       | 158/572 [25:20<33:04,  4.79s/it]"
     ]
    },
    {
     "name": "stdout",
     "output_type": "stream",
     "text": [
      "2023-10-16 01:04:43,184 INFO image_writer.py:197 - writing: /home/vlermakov/Development/Nodules/Nodule-Detection-LUNA2016/processed_data_full_range_075mm_fixed/Bayusha__635ca31e614af409ec8a96f6-498ffb13cfd9426f-25/Bayusha__635ca31e614af409ec8a96f6-498ffb13cfd9426f-25_image_0.nii.gz\n",
      "2023-10-16 01:04:43,351 INFO image_writer.py:197 - writing: /home/vlermakov/Development/Nodules/Nodule-Detection-LUNA2016/processed_data_full_range_075mm_fixed/Snemuti__636aefe92bc40e09a24e84db-745df24d9c1ea430-5/Snemuti__636aefe92bc40e09a24e84db-745df24d9c1ea430-5_image_0.nii.gz\n",
      "2023-10-16 01:04:44,289 INFO image_writer.py:197 - writing: /home/vlermakov/Development/Nodules/Nodule-Detection-LUNA2016/processed_data_full_range_075mm_fixed/Bayusha__635ca31e614af409ec8a96f6-498ffb13cfd9426f-25/Bayusha__635ca31e614af409ec8a96f6-498ffb13cfd9426f-25_mask_0.nii.gz\n",
      "2023-10-16 01:04:44,444 INFO image_writer.py:197 - writing: /home/vlermakov/Development/Nodules/Nodule-Detection-LUNA2016/processed_data_full_range_075mm_fixed/Snemuti__636aefe92bc40e09a24e84db-745df24d9c1ea430-5/Snemuti__636aefe92bc40e09a24e84db-745df24d9c1ea430-5_mask_0.nii.gz\n"
     ]
    },
    {
     "name": "stderr",
     "output_type": "stream",
     "text": [
      "\r",
      "Loading dataset:  28%|███████████████████████████████████████▊                                                                                                       | 159/572 [25:29<37:21,  5.43s/it]"
     ]
    },
    {
     "name": "stdout",
     "output_type": "stream",
     "text": [
      "2023-10-16 01:04:57,349 INFO image_writer.py:197 - writing: /home/vlermakov/Development/Nodules/Nodule-Detection-LUNA2016/processed_data_full_range_075mm_fixed/Humujo__63633dcbc0eb1d0a3d68aec9-a7cdfa772f3c8bbb-6/Humujo__63633dcbc0eb1d0a3d68aec9-a7cdfa772f3c8bbb-6_image_0.nii.gz\n",
      "2023-10-16 01:04:57,508 INFO image_writer.py:197 - writing: /home/vlermakov/Development/Nodules/Nodule-Detection-LUNA2016/processed_data_full_range_075mm_fixed/Snemuti__636aefe92bc40e09a24e84db-745df24d9c1ea430-2/Snemuti__636aefe92bc40e09a24e84db-745df24d9c1ea430-2_image_0.nii.gz\n",
      "2023-10-16 01:04:57,752 INFO image_writer.py:197 - writing: /home/vlermakov/Development/Nodules/Nodule-Detection-LUNA2016/processed_data_full_range_075mm_fixed/Humujo__63633dcbc0eb1d0a3d68aec9-a7cdfa772f3c8bbb-6/Humujo__63633dcbc0eb1d0a3d68aec9-a7cdfa772f3c8bbb-6_mask_0.nii.gz\n",
      "2023-10-16 01:04:58,103 INFO image_writer.py:197 - writing: /home/vlermakov/Development/Nodules/Nodule-Detection-LUNA2016/processed_data_full_range_075mm_fixed/Snemuti__636aefe92bc40e09a24e84db-745df24d9c1ea430-2/Snemuti__636aefe92bc40e09a24e84db-745df24d9c1ea430-2_mask_0.nii.gz\n",
      "2023-10-16 01:05:19,806 INFO image_writer.py:197 - writing: /home/vlermakov/Development/Nodules/Nodule-Detection-LUNA2016/processed_data_full_range_075mm_fixed/Bayusha__635ca31e614af409ec8a96f6-498ffb13cfd9426f-17/Bayusha__635ca31e614af409ec8a96f6-498ffb13cfd9426f-17_image_0.nii.gz\n",
      "2023-10-16 01:05:19,911 INFO image_writer.py:197 - writing: /home/vlermakov/Development/Nodules/Nodule-Detection-LUNA2016/processed_data_full_range_075mm_fixed/Bayusha__635ca31e614af409ec8a96f6-498ffb13cfd9426f-17/Bayusha__635ca31e614af409ec8a96f6-498ffb13cfd9426f-17_mask_0.nii.gz\n"
     ]
    },
    {
     "name": "stderr",
     "output_type": "stream",
     "text": [
      "Loading dataset:  28%|████████████████████████████████████████▌                                                                                                      | 162/572 [26:08<49:30,  7.25s/it]"
     ]
    },
    {
     "name": "stdout",
     "output_type": "stream",
     "text": [
      "2023-10-16 01:05:26,034 INFO image_writer.py:197 - writing: /home/vlermakov/Development/Nodules/Nodule-Detection-LUNA2016/processed_data_full_range_075mm_fixed/Snemuti__636aefe92bc40e09a24e84db-745df24d9c1ea430-1/Snemuti__636aefe92bc40e09a24e84db-745df24d9c1ea430-1_image_0.nii.gz\n",
      "2023-10-16 01:05:26,651 INFO image_writer.py:197 - writing: /home/vlermakov/Development/Nodules/Nodule-Detection-LUNA2016/processed_data_full_range_075mm_fixed/Snemuti__636aefe92bc40e09a24e84db-745df24d9c1ea430-4/Snemuti__636aefe92bc40e09a24e84db-745df24d9c1ea430-4_image_0.nii.gz\n",
      "2023-10-16 01:05:27,251 INFO image_writer.py:197 - writing: /home/vlermakov/Development/Nodules/Nodule-Detection-LUNA2016/processed_data_full_range_075mm_fixed/Snemuti__636aefe92bc40e09a24e84db-745df24d9c1ea430-1/Snemuti__636aefe92bc40e09a24e84db-745df24d9c1ea430-1_mask_0.nii.gz\n",
      "2023-10-16 01:05:28,137 INFO image_writer.py:197 - writing: /home/vlermakov/Development/Nodules/Nodule-Detection-LUNA2016/processed_data_full_range_075mm_fixed/Snemuti__636aefe92bc40e09a24e84db-745df24d9c1ea430-4/Snemuti__636aefe92bc40e09a24e84db-745df24d9c1ea430-4_mask_0.nii.gz\n"
     ]
    },
    {
     "name": "stderr",
     "output_type": "stream",
     "text": [
      "Loading dataset:  29%|█████████████████████████████████████████▏                                                                                                     | 165/572 [26:24<39:19,  5.80s/it]"
     ]
    },
    {
     "name": "stdout",
     "output_type": "stream",
     "text": [
      "2023-10-16 01:05:41,229 INFO image_writer.py:197 - writing: /home/vlermakov/Development/Nodules/Nodule-Detection-LUNA2016/processed_data_full_range_075mm_fixed/Pageled__6345b3f50533e20adaa36f2b-90a5d297f0106a4b-2/Pageled__6345b3f50533e20adaa36f2b-90a5d297f0106a4b-2_image_0.nii.gz\n",
      "2023-10-16 01:05:41,292 INFO image_writer.py:197 - writing: /home/vlermakov/Development/Nodules/Nodule-Detection-LUNA2016/processed_data_full_range_075mm_fixed/Rijokees__636a85765236610902d25c1d-4b3c44624fca84ca-2/Rijokees__636a85765236610902d25c1d-4b3c44624fca84ca-2_image_0.nii.gz\n",
      "2023-10-16 01:05:41,368 INFO image_writer.py:197 - writing: /home/vlermakov/Development/Nodules/Nodule-Detection-LUNA2016/processed_data_full_range_075mm_fixed/Pageled__6345b3f50533e20adaa36f2b-90a5d297f0106a4b-2/Pageled__6345b3f50533e20adaa36f2b-90a5d297f0106a4b-2_mask_0.nii.gz\n",
      "2023-10-16 01:05:41,434 INFO image_writer.py:197 - writing: /home/vlermakov/Development/Nodules/Nodule-Detection-LUNA2016/processed_data_full_range_075mm_fixed/Rijokees__636a85765236610902d25c1d-4b3c44624fca84ca-2/Rijokees__636a85765236610902d25c1d-4b3c44624fca84ca-2_mask_0.nii.gz\n",
      "2023-10-16 01:05:49,640 INFO image_writer.py:197 - writing: /home/vlermakov/Development/Nodules/Nodule-Detection-LUNA2016/processed_data_full_range_075mm_fixed/Rijokees__636a85765236610902d25c1d-4b3c44624fca84ca-4/Rijokees__636a85765236610902d25c1d-4b3c44624fca84ca-4_image_0.nii.gz\n",
      "2023-10-16 01:05:50,462 INFO image_writer.py:197 - writing: /home/vlermakov/Development/Nodules/Nodule-Detection-LUNA2016/processed_data_full_range_075mm_fixed/Rijokees__636a85765236610902d25c1d-4b3c44624fca84ca-4/Rijokees__636a85765236610902d25c1d-4b3c44624fca84ca-4_mask_0.nii.gz\n"
     ]
    },
    {
     "name": "stderr",
     "output_type": "stream",
     "text": [
      "Loading dataset:  29%|█████████████████████████████████████████▊                                                                                                     | 167/572 [26:41<43:26,  6.44s/it]"
     ]
    },
    {
     "name": "stdout",
     "output_type": "stream",
     "text": [
      "2023-10-16 01:06:05,170 INFO image_writer.py:197 - writing: /home/vlermakov/Development/Nodules/Nodule-Detection-LUNA2016/processed_data_full_range_075mm_fixed/Pageled__6345b3f50533e20adaa36f2b-90a5d297f0106a4b-3/Pageled__6345b3f50533e20adaa36f2b-90a5d297f0106a4b-3_image_0.nii.gz\n",
      "2023-10-16 01:06:05,208 INFO image_writer.py:197 - writing: /home/vlermakov/Development/Nodules/Nodule-Detection-LUNA2016/processed_data_full_range_075mm_fixed/Pageled__6345b3f50533e20adaa36f2b-90a5d297f0106a4b-4/Pageled__6345b3f50533e20adaa36f2b-90a5d297f0106a4b-4_image_0.nii.gz\n",
      "2023-10-16 01:06:05,312 INFO image_writer.py:197 - writing: /home/vlermakov/Development/Nodules/Nodule-Detection-LUNA2016/processed_data_full_range_075mm_fixed/Pageled__6345b3f50533e20adaa36f2b-90a5d297f0106a4b-3/Pageled__6345b3f50533e20adaa36f2b-90a5d297f0106a4b-3_mask_0.nii.gz\n",
      "2023-10-16 01:06:05,331 INFO image_writer.py:197 - writing: /home/vlermakov/Development/Nodules/Nodule-Detection-LUNA2016/processed_data_full_range_075mm_fixed/Pageled__6345b3f50533e20adaa36f2b-90a5d297f0106a4b-4/Pageled__6345b3f50533e20adaa36f2b-90a5d297f0106a4b-4_mask_0.nii.gz\n"
     ]
    },
    {
     "name": "stderr",
     "output_type": "stream",
     "text": [
      "Loading dataset:  30%|██████████████████████████████████████████▌                                                                                                    | 170/572 [26:55<36:15,  5.41s/it]"
     ]
    },
    {
     "name": "stdout",
     "output_type": "stream",
     "text": [
      "2023-10-16 01:06:22,577 INFO image_writer.py:197 - writing: /home/vlermakov/Development/Nodules/Nodule-Detection-LUNA2016/processed_data_full_range_075mm_fixed/Pageled__6345b3f50533e20adaa36f2b-90a5d297f0106a4b-5/Pageled__6345b3f50533e20adaa36f2b-90a5d297f0106a4b-5_image_0.nii.gz\n",
      "2023-10-16 01:06:22,771 INFO image_writer.py:197 - writing: /home/vlermakov/Development/Nodules/Nodule-Detection-LUNA2016/processed_data_full_range_075mm_fixed/Pageled__6345b3f50533e20adaa36f2b-90a5d297f0106a4b-1/Pageled__6345b3f50533e20adaa36f2b-90a5d297f0106a4b-1_image_0.nii.gz\n",
      "2023-10-16 01:06:22,809 INFO image_writer.py:197 - writing: /home/vlermakov/Development/Nodules/Nodule-Detection-LUNA2016/processed_data_full_range_075mm_fixed/Pageled__6345b3f50533e20adaa36f2b-90a5d297f0106a4b-5/Pageled__6345b3f50533e20adaa36f2b-90a5d297f0106a4b-5_mask_0.nii.gz\n",
      "2023-10-16 01:06:22,935 INFO image_writer.py:197 - writing: /home/vlermakov/Development/Nodules/Nodule-Detection-LUNA2016/processed_data_full_range_075mm_fixed/Pageled__6345b3f50533e20adaa36f2b-90a5d297f0106a4b-1/Pageled__6345b3f50533e20adaa36f2b-90a5d297f0106a4b-1_mask_0.nii.gz\n"
     ]
    },
    {
     "name": "stderr",
     "output_type": "stream",
     "text": [
      "Loading dataset:  30%|███████████████████████████████████████████                                                                                                    | 172/572 [27:17<49:29,  7.42s/it]"
     ]
    },
    {
     "name": "stdout",
     "output_type": "stream",
     "text": [
      "2023-10-16 01:06:44,095 INFO image_writer.py:197 - writing: /home/vlermakov/Development/Nodules/Nodule-Detection-LUNA2016/processed_data_full_range_075mm_fixed/Febosi__63706ae74f743709f10ede46-ae3ea75861c763d7-2/Febosi__63706ae74f743709f10ede46-ae3ea75861c763d7-2_image_0.nii.gz\n",
      "2023-10-16 01:06:44,443 INFO image_writer.py:197 - writing: /home/vlermakov/Development/Nodules/Nodule-Detection-LUNA2016/processed_data_full_range_075mm_fixed/Febosi__63706ae74f743709f10ede46-ae3ea75861c763d7-2/Febosi__63706ae74f743709f10ede46-ae3ea75861c763d7-2_mask_0.nii.gz\n",
      "2023-10-16 01:07:06,392 INFO image_writer.py:197 - writing: /home/vlermakov/Development/Nodules/Nodule-Detection-LUNA2016/processed_data_full_range_075mm_fixed/Sasigcuk__6393a7357371fa0922d45a25-d490666e0f89e0af-10/Sasigcuk__6393a7357371fa0922d45a25-d490666e0f89e0af-10_image_0.nii.gz\n",
      "2023-10-16 01:07:06,508 INFO image_writer.py:197 - writing: /home/vlermakov/Development/Nodules/Nodule-Detection-LUNA2016/processed_data_full_range_075mm_fixed/Sasigcuk__6393a7357371fa0922d45a25-d490666e0f89e0af-10/Sasigcuk__6393a7357371fa0922d45a25-d490666e0f89e0af-10_mask_0.nii.gz\n",
      "2023-10-16 01:07:13,726 INFO image_writer.py:197 - writing: /home/vlermakov/Development/Nodules/Nodule-Detection-LUNA2016/processed_data_full_range_075mm_fixed/Sasigcuk__6393a7357371fa0922d45a25-d490666e0f89e0af-4/Sasigcuk__6393a7357371fa0922d45a25-d490666e0f89e0af-4_image_0.nii.gz\n",
      "2023-10-16 01:07:14,041 INFO image_writer.py:197 - writing: /home/vlermakov/Development/Nodules/Nodule-Detection-LUNA2016/processed_data_full_range_075mm_fixed/Muklickas__6352f6ac1d2d2109a5d9a28e-47636e5a811ed08e-10/Muklickas__6352f6ac1d2d2109a5d9a28e-47636e5a811ed08e-10_image_0.nii.gz\n",
      "2023-10-16 01:07:14,082 INFO image_writer.py:197 - writing: /home/vlermakov/Development/Nodules/Nodule-Detection-LUNA2016/processed_data_full_range_075mm_fixed/Muklickas__6352f6ac1d2d2109a5d9a28e-47636e5a811ed08e-36/Muklickas__6352f6ac1d2d2109a5d9a28e-47636e5a811ed08e-36_image_0.nii.gz\n",
      "2023-10-16 01:07:14,192 INFO image_writer.py:197 - writing: /home/vlermakov/Development/Nodules/Nodule-Detection-LUNA2016/processed_data_full_range_075mm_fixed/Sasigcuk__6393a7357371fa0922d45a25-d490666e0f89e0af-4/Sasigcuk__6393a7357371fa0922d45a25-d490666e0f89e0af-4_mask_0.nii.gz\n",
      "2023-10-16 01:07:14,368 INFO image_writer.py:197 - writing: /home/vlermakov/Development/Nodules/Nodule-Detection-LUNA2016/processed_data_full_range_075mm_fixed/Muklickas__6352f6ac1d2d2109a5d9a28e-47636e5a811ed08e-42/Muklickas__6352f6ac1d2d2109a5d9a28e-47636e5a811ed08e-42_image_0.nii.gz\n",
      "2023-10-16 01:07:14,820 INFO image_writer.py:197 - writing: /home/vlermakov/Development/Nodules/Nodule-Detection-LUNA2016/processed_data_full_range_075mm_fixed/Muklickas__6352f6ac1d2d2109a5d9a28e-47636e5a811ed08e-10/Muklickas__6352f6ac1d2d2109a5d9a28e-47636e5a811ed08e-10_mask_0.nii.gz\n",
      "2023-10-16 01:07:27,277 INFO image_writer.py:197 - writing: /home/vlermakov/Development/Nodules/Nodule-Detection-LUNA2016/processed_data_full_range_075mm_fixed/Muklickas__6352f6ac1d2d2109a5d9a28e-47636e5a811ed08e-36/Muklickas__6352f6ac1d2d2109a5d9a28e-47636e5a811ed08e-36_mask_0.nii.gz\n",
      "2023-10-16 01:07:27,333 INFO image_writer.py:197 - writing: /home/vlermakov/Development/Nodules/Nodule-Detection-LUNA2016/processed_data_full_range_075mm_fixed/Muklickas__6352f6ac1d2d2109a5d9a28e-47636e5a811ed08e-42/Muklickas__6352f6ac1d2d2109a5d9a28e-47636e5a811ed08e-42_mask_0.nii.gz\n"
     ]
    },
    {
     "name": "stderr",
     "output_type": "stream",
     "text": [
      "Loading dataset:  30%|██████████████████████████████████████████▉                                                                                                  | 174/572 [28:20<1:53:41, 17.14s/it]"
     ]
    },
    {
     "name": "stdout",
     "output_type": "stream",
     "text": [
      "2023-10-16 01:07:37,432 INFO image_writer.py:197 - writing: /home/vlermakov/Development/Nodules/Nodule-Detection-LUNA2016/processed_data_full_range_075mm_fixed/Isudkak__63473afe14ce250ae6a62835-9a9e13266df0ed2d-1/Isudkak__63473afe14ce250ae6a62835-9a9e13266df0ed2d-1_image_0.nii.gz\n",
      "2023-10-16 01:07:37,573 INFO image_writer.py:197 - writing: /home/vlermakov/Development/Nodules/Nodule-Detection-LUNA2016/processed_data_full_range_075mm_fixed/Muklickas__6352f6ac1d2d2109a5d9a28e-47636e5a811ed08e-4/Muklickas__6352f6ac1d2d2109a5d9a28e-47636e5a811ed08e-4_image_0.nii.gz\n",
      "2023-10-16 01:07:38,233 INFO image_writer.py:197 - writing: /home/vlermakov/Development/Nodules/Nodule-Detection-LUNA2016/processed_data_full_range_075mm_fixed/Isudkak__63473afe14ce250ae6a62835-9a9e13266df0ed2d-1/Isudkak__63473afe14ce250ae6a62835-9a9e13266df0ed2d-1_mask_0.nii.gz\n",
      "2023-10-16 01:07:38,578 INFO image_writer.py:197 - writing: /home/vlermakov/Development/Nodules/Nodule-Detection-LUNA2016/processed_data_full_range_075mm_fixed/Muklickas__6352f6ac1d2d2109a5d9a28e-47636e5a811ed08e-4/Muklickas__6352f6ac1d2d2109a5d9a28e-47636e5a811ed08e-4_mask_0.nii.gz\n"
     ]
    },
    {
     "name": "stderr",
     "output_type": "stream",
     "text": [
      "Loading dataset:  31%|███████████████████████████████████████████▋                                                                                                 | 177/572 [28:34<1:05:19,  9.92s/it]"
     ]
    },
    {
     "name": "stdout",
     "output_type": "stream",
     "text": [
      "2023-10-16 01:07:58,759 INFO image_writer.py:197 - writing: /home/vlermakov/Development/Nodules/Nodule-Detection-LUNA2016/processed_data_full_range_075mm_fixed/Isudkak__63473afe14ce250ae6a62835-9a9e13266df0ed2d-4/Isudkak__63473afe14ce250ae6a62835-9a9e13266df0ed2d-4_image_0.nii.gz\n",
      "2023-10-16 01:07:58,894 INFO image_writer.py:197 - writing: /home/vlermakov/Development/Nodules/Nodule-Detection-LUNA2016/processed_data_full_range_075mm_fixed/Isudkak__63473afe14ce250ae6a62835-9a9e13266df0ed2d-4/Isudkak__63473afe14ce250ae6a62835-9a9e13266df0ed2d-4_mask_0.nii.gz\n"
     ]
    },
    {
     "name": "stderr",
     "output_type": "stream",
     "text": [
      "\r",
      "Loading dataset:  32%|█████████████████████████████████████████████▎                                                                                                 | 181/572 [28:44<36:32,  5.61s/it]"
     ]
    },
    {
     "name": "stdout",
     "output_type": "stream",
     "text": [
      "2023-10-16 01:08:14,710 INFO image_writer.py:197 - writing: /home/vlermakov/Development/Nodules/Nodule-Detection-LUNA2016/processed_data_full_range_075mm_fixed/Isudkak__63473afe14ce250ae6a62835-9a9e13266df0ed2d-2/Isudkak__63473afe14ce250ae6a62835-9a9e13266df0ed2d-2_image_0.nii.gz\n",
      "2023-10-16 01:08:14,765 INFO image_writer.py:197 - writing: /home/vlermakov/Development/Nodules/Nodule-Detection-LUNA2016/processed_data_full_range_075mm_fixed/Isudkak__63473afe14ce250ae6a62835-9a9e13266df0ed2d-3/Isudkak__63473afe14ce250ae6a62835-9a9e13266df0ed2d-3_image_0.nii.gz\n",
      "2023-10-16 01:08:15,190 INFO image_writer.py:197 - writing: /home/vlermakov/Development/Nodules/Nodule-Detection-LUNA2016/processed_data_full_range_075mm_fixed/Isudkak__63473afe14ce250ae6a62835-9a9e13266df0ed2d-2/Isudkak__63473afe14ce250ae6a62835-9a9e13266df0ed2d-2_mask_0.nii.gz\n",
      "2023-10-16 01:08:15,253 INFO image_writer.py:197 - writing: /home/vlermakov/Development/Nodules/Nodule-Detection-LUNA2016/processed_data_full_range_075mm_fixed/Isudkak__63473afe14ce250ae6a62835-9a9e13266df0ed2d-3/Isudkak__63473afe14ce250ae6a62835-9a9e13266df0ed2d-3_mask_0.nii.gz\n"
     ]
    },
    {
     "name": "stderr",
     "output_type": "stream",
     "text": [
      "Loading dataset:  32%|█████████████████████████████████████████████▊                                                                                                 | 183/572 [29:09<48:08,  7.43s/it]"
     ]
    },
    {
     "name": "stdout",
     "output_type": "stream",
     "text": [
      "2023-10-16 01:08:36,124 INFO image_writer.py:197 - writing: /home/vlermakov/Development/Nodules/Nodule-Detection-LUNA2016/processed_data_full_range_075mm_fixed/Samatel__636dc41fdbc6e30a082e346d-29fa30ae7de81817-66/Samatel__636dc41fdbc6e30a082e346d-29fa30ae7de81817-66_image_0.nii.gz\n",
      "2023-10-16 01:08:36,352 INFO image_writer.py:197 - writing: /home/vlermakov/Development/Nodules/Nodule-Detection-LUNA2016/processed_data_full_range_075mm_fixed/Samatel__636dc41fdbc6e30a082e346d-29fa30ae7de81817-66/Samatel__636dc41fdbc6e30a082e346d-29fa30ae7de81817-66_mask_0.nii.gz\n"
     ]
    },
    {
     "name": "stderr",
     "output_type": "stream",
     "text": [
      "\r",
      "Loading dataset:  32%|██████████████████████████████████████████████                                                                                                 | 184/572 [29:21<54:34,  8.44s/it]"
     ]
    },
    {
     "name": "stdout",
     "output_type": "stream",
     "text": [
      "2023-10-16 01:08:57,077 INFO image_writer.py:197 - writing: /home/vlermakov/Development/Nodules/Nodule-Detection-LUNA2016/processed_data_full_range_075mm_fixed/Eynoseb__63699f72598a69091c200fa4-b632148cb38a3495-2/Eynoseb__63699f72598a69091c200fa4-b632148cb38a3495-2_image_0.nii.gz\n",
      "2023-10-16 01:08:57,657 INFO image_writer.py:197 - writing: /home/vlermakov/Development/Nodules/Nodule-Detection-LUNA2016/processed_data_full_range_075mm_fixed/Eynoseb__63699f72598a69091c200fa4-b632148cb38a3495-2/Eynoseb__63699f72598a69091c200fa4-b632148cb38a3495-2_mask_0.nii.gz\n",
      "2023-10-16 01:08:58,008 INFO image_writer.py:197 - writing: /home/vlermakov/Development/Nodules/Nodule-Detection-LUNA2016/processed_data_full_range_075mm_fixed/Samatel__636dc41fdbc6e30a082e346d-29fa30ae7de81817-20/Samatel__636dc41fdbc6e30a082e346d-29fa30ae7de81817-20_image_0.nii.gz\n",
      "2023-10-16 01:08:58,075 INFO image_writer.py:197 - writing: /home/vlermakov/Development/Nodules/Nodule-Detection-LUNA2016/processed_data_full_range_075mm_fixed/Eynoseb__63699f72598a69091c200fa4-b632148cb38a3495-3/Eynoseb__63699f72598a69091c200fa4-b632148cb38a3495-3_image_0.nii.gz\n",
      "2023-10-16 01:09:04,217 INFO image_writer.py:197 - writing: /home/vlermakov/Development/Nodules/Nodule-Detection-LUNA2016/processed_data_full_range_075mm_fixed/Samatel__636dc41fdbc6e30a082e346d-29fa30ae7de81817-21/Samatel__636dc41fdbc6e30a082e346d-29fa30ae7de81817-21_image_0.nii.gz\n",
      "2023-10-16 01:09:04,301 INFO image_writer.py:197 - writing: /home/vlermakov/Development/Nodules/Nodule-Detection-LUNA2016/processed_data_full_range_075mm_fixed/Samatel__636dc41fdbc6e30a082e346d-29fa30ae7de81817-2/Samatel__636dc41fdbc6e30a082e346d-29fa30ae7de81817-2_image_0.nii.gz\n",
      "2023-10-16 01:09:04,303 INFO image_writer.py:197 - writing: /home/vlermakov/Development/Nodules/Nodule-Detection-LUNA2016/processed_data_full_range_075mm_fixed/Samatel__636dc41fdbc6e30a082e346d-29fa30ae7de81817-20/Samatel__636dc41fdbc6e30a082e346d-29fa30ae7de81817-20_mask_0.nii.gz\n",
      "2023-10-16 01:09:04,628 INFO image_writer.py:197 - writing: /home/vlermakov/Development/Nodules/Nodule-Detection-LUNA2016/processed_data_full_range_075mm_fixed/Eynoseb__63699f72598a69091c200fa4-b632148cb38a3495-3/Eynoseb__63699f72598a69091c200fa4-b632148cb38a3495-3_mask_0.nii.gz\n",
      "2023-10-16 01:09:04,691 INFO image_writer.py:197 - writing: /home/vlermakov/Development/Nodules/Nodule-Detection-LUNA2016/processed_data_full_range_075mm_fixed/Samatel__636dc41fdbc6e30a082e346d-29fa30ae7de81817-21/Samatel__636dc41fdbc6e30a082e346d-29fa30ae7de81817-21_mask_0.nii.gz\n",
      "2023-10-16 01:09:04,700 INFO image_writer.py:197 - writing: /home/vlermakov/Development/Nodules/Nodule-Detection-LUNA2016/processed_data_full_range_075mm_fixed/Samatel__636dc41fdbc6e30a082e346d-29fa30ae7de81817-2/Samatel__636dc41fdbc6e30a082e346d-29fa30ae7de81817-2_mask_0.nii.gz\n"
     ]
    },
    {
     "name": "stderr",
     "output_type": "stream",
     "text": [
      "Loading dataset:  32%|█████████████████████████████████████████████▌                                                                                               | 185/572 [29:51<1:28:32, 13.73s/it]IOStream.flush timed out\n",
      "Loading dataset:  33%|██████████████████████████████████████████████                                                                                               | 187/572 [30:11<1:11:22, 11.12s/it]"
     ]
    },
    {
     "name": "stdout",
     "output_type": "stream",
     "text": [
      "2023-10-16 01:09:40,762 INFO image_writer.py:197 - writing: /home/vlermakov/Development/Nodules/Nodule-Detection-LUNA2016/processed_data_full_range_075mm_fixed/Kathucu__63a4e8cefbb282091b74ac0b-c7a945a073a02f05-14/Kathucu__63a4e8cefbb282091b74ac0b-c7a945a073a02f05-14_image_0.nii.gz\n",
      "2023-10-16 01:09:41,030 INFO image_writer.py:197 - writing: /home/vlermakov/Development/Nodules/Nodule-Detection-LUNA2016/processed_data_full_range_075mm_fixed/Kathucu__63a4e8cefbb282091b74ac0b-c7a945a073a02f05-7/Kathucu__63a4e8cefbb282091b74ac0b-c7a945a073a02f05-7_image_0.nii.gz\n",
      "2023-10-16 01:09:41,070 INFO image_writer.py:197 - writing: /home/vlermakov/Development/Nodules/Nodule-Detection-LUNA2016/processed_data_full_range_075mm_fixed/Kathucu__63a4e8cefbb282091b74ac0b-c7a945a073a02f05-14/Kathucu__63a4e8cefbb282091b74ac0b-c7a945a073a02f05-14_mask_0.nii.gz\n",
      "2023-10-16 01:09:41,162 INFO image_writer.py:197 - writing: /home/vlermakov/Development/Nodules/Nodule-Detection-LUNA2016/processed_data_full_range_075mm_fixed/Kathucu__63a4e8cefbb282091b74ac0b-c7a945a073a02f05-7/Kathucu__63a4e8cefbb282091b74ac0b-c7a945a073a02f05-7_mask_0.nii.gz\n"
     ]
    },
    {
     "name": "stderr",
     "output_type": "stream",
     "text": [
      "Loading dataset:  33%|███████████████████████████████████████████████▊                                                                                               | 191/572 [30:33<46:02,  7.25s/it]"
     ]
    },
    {
     "name": "stdout",
     "output_type": "stream",
     "text": [
      "2023-10-16 01:10:04,430 INFO image_writer.py:197 - writing: /home/vlermakov/Development/Nodules/Nodule-Detection-LUNA2016/processed_data_full_range_075mm_fixed/Loutupu__6349e812d574340ab06e86f0-eef6e516990bbc4e-2/Loutupu__6349e812d574340ab06e86f0-eef6e516990bbc4e-2_image_0.nii.gz\n",
      "2023-10-16 01:10:04,493 INFO image_writer.py:197 - writing: /home/vlermakov/Development/Nodules/Nodule-Detection-LUNA2016/processed_data_full_range_075mm_fixed/Ogdreyig__6366a662e5820b09e16ff422-e42b049e039f0df6-6/Ogdreyig__6366a662e5820b09e16ff422-e42b049e039f0df6-6_image_0.nii.gz\n",
      "2023-10-16 01:10:04,553 INFO image_writer.py:197 - writing: /home/vlermakov/Development/Nodules/Nodule-Detection-LUNA2016/processed_data_full_range_075mm_fixed/Loutupu__6349e812d574340ab06e86f0-eef6e516990bbc4e-2/Loutupu__6349e812d574340ab06e86f0-eef6e516990bbc4e-2_mask_0.nii.gz\n",
      "2023-10-16 01:10:04,717 INFO image_writer.py:197 - writing: /home/vlermakov/Development/Nodules/Nodule-Detection-LUNA2016/processed_data_full_range_075mm_fixed/Ogdreyig__6366a662e5820b09e16ff422-e42b049e039f0df6-6/Ogdreyig__6366a662e5820b09e16ff422-e42b049e039f0df6-6_mask_0.nii.gz\n"
     ]
    },
    {
     "name": "stderr",
     "output_type": "stream",
     "text": [
      "\r",
      "Loading dataset:  34%|███████████████████████████████████████████████▎                                                                                             | 192/572 [30:52<1:03:42, 10.06s/it]"
     ]
    },
    {
     "name": "stdout",
     "output_type": "stream",
     "text": [
      "2023-10-16 01:10:15,073 INFO image_writer.py:197 - writing: /home/vlermakov/Development/Nodules/Nodule-Detection-LUNA2016/processed_data_full_range_075mm_fixed/Loutupu__6349e812d574340ab06e86f0-eef6e516990bbc4e-4/Loutupu__6349e812d574340ab06e86f0-eef6e516990bbc4e-4_image_0.nii.gz\n",
      "2023-10-16 01:10:15,183 INFO image_writer.py:197 - writing: /home/vlermakov/Development/Nodules/Nodule-Detection-LUNA2016/processed_data_full_range_075mm_fixed/Loutupu__6349e812d574340ab06e86f0-eef6e516990bbc4e-4/Loutupu__6349e812d574340ab06e86f0-eef6e516990bbc4e-4_mask_0.nii.gz\n"
     ]
    },
    {
     "name": "stderr",
     "output_type": "stream",
     "text": [
      "Loading dataset:  34%|████████████████████████████████████████████████▌                                                                                              | 194/572 [31:03<49:00,  7.78s/it]"
     ]
    },
    {
     "name": "stdout",
     "output_type": "stream",
     "text": [
      "2023-10-16 01:10:32,569 INFO image_writer.py:197 - writing: /home/vlermakov/Development/Nodules/Nodule-Detection-LUNA2016/processed_data_full_range_075mm_fixed/Enoyil__63b081db6012a8095bc6549a-185f2f5044fb777a-3/Enoyil__63b081db6012a8095bc6549a-185f2f5044fb777a-3_image_0.nii.gz\n",
      "2023-10-16 01:10:32,764 INFO image_writer.py:197 - writing: /home/vlermakov/Development/Nodules/Nodule-Detection-LUNA2016/processed_data_full_range_075mm_fixed/Enoyil__63b081db6012a8095bc6549a-185f2f5044fb777a-3/Enoyil__63b081db6012a8095bc6549a-185f2f5044fb777a-3_mask_0.nii.gz\n",
      "2023-10-16 01:10:37,986 INFO image_writer.py:197 - writing: /home/vlermakov/Development/Nodules/Nodule-Detection-LUNA2016/processed_data_full_range_075mm_fixed/Ogdreyig__6366a662e5820b09e16ff422-e42b049e039f0df6-4/Ogdreyig__6366a662e5820b09e16ff422-e42b049e039f0df6-4_image_0.nii.gz\n",
      "2023-10-16 01:10:38,686 INFO image_writer.py:197 - writing: /home/vlermakov/Development/Nodules/Nodule-Detection-LUNA2016/processed_data_full_range_075mm_fixed/Sukicuk__6348583863a34a0a3c1da9fb-64d758bb37b661b3-5/Sukicuk__6348583863a34a0a3c1da9fb-64d758bb37b661b3-5_image_0.nii.gz\n",
      "2023-10-16 01:10:38,794 INFO image_writer.py:197 - writing: /home/vlermakov/Development/Nodules/Nodule-Detection-LUNA2016/processed_data_full_range_075mm_fixed/Ogdreyig__6366a662e5820b09e16ff422-e42b049e039f0df6-4/Ogdreyig__6366a662e5820b09e16ff422-e42b049e039f0df6-4_mask_0.nii.gz\n",
      "2023-10-16 01:10:39,074 INFO image_writer.py:197 - writing: /home/vlermakov/Development/Nodules/Nodule-Detection-LUNA2016/processed_data_full_range_075mm_fixed/Sukicuk__6348583863a34a0a3c1da9fb-64d758bb37b661b3-5/Sukicuk__6348583863a34a0a3c1da9fb-64d758bb37b661b3-5_mask_0.nii.gz\n"
     ]
    },
    {
     "name": "stderr",
     "output_type": "stream",
     "text": [
      "\r",
      "Loading dataset:  34%|████████████████████████████████████████████████                                                                                             | 195/572 [31:31<1:23:38, 13.31s/it]"
     ]
    },
    {
     "name": "stdout",
     "output_type": "stream",
     "text": [
      "2023-10-16 01:10:51,104 INFO image_writer.py:197 - writing: /home/vlermakov/Development/Nodules/Nodule-Detection-LUNA2016/processed_data_full_range_075mm_fixed/Hocapar__63b640255d73490a09f3d83a-f47256ea28d6511b-1/Hocapar__63b640255d73490a09f3d83a-f47256ea28d6511b-1_image_0.nii.gz\n",
      "2023-10-16 01:10:51,520 INFO image_writer.py:197 - writing: /home/vlermakov/Development/Nodules/Nodule-Detection-LUNA2016/processed_data_full_range_075mm_fixed/Hocapar__63b640255d73490a09f3d83a-f47256ea28d6511b-1/Hocapar__63b640255d73490a09f3d83a-f47256ea28d6511b-1_mask_0.nii.gz\n"
     ]
    },
    {
     "name": "stderr",
     "output_type": "stream",
     "text": [
      "Loading dataset:  34%|█████████████████████████████████████████████████▎                                                                                             | 197/572 [31:41<57:16,  9.16s/it]"
     ]
    },
    {
     "name": "stdout",
     "output_type": "stream",
     "text": [
      "2023-10-16 01:10:57,616 INFO image_writer.py:197 - writing: /home/vlermakov/Development/Nodules/Nodule-Detection-LUNA2016/processed_data_full_range_075mm_fixed/Enoyil__63b081db6012a8095bc6549a-185f2f5044fb777a-8/Enoyil__63b081db6012a8095bc6549a-185f2f5044fb777a-8_image_0.nii.gz\n",
      "2023-10-16 01:10:57,803 INFO image_writer.py:197 - writing: /home/vlermakov/Development/Nodules/Nodule-Detection-LUNA2016/processed_data_full_range_075mm_fixed/Quaniebuf__63959e38d7944009e2ae23da-6627a3dda50429aa-6/Quaniebuf__63959e38d7944009e2ae23da-6627a3dda50429aa-6_image_0.nii.gz\n",
      "2023-10-16 01:10:58,142 INFO image_writer.py:197 - writing: /home/vlermakov/Development/Nodules/Nodule-Detection-LUNA2016/processed_data_full_range_075mm_fixed/Enoyil__63b081db6012a8095bc6549a-185f2f5044fb777a-8/Enoyil__63b081db6012a8095bc6549a-185f2f5044fb777a-8_mask_0.nii.gz\n",
      "2023-10-16 01:10:58,223 INFO image_writer.py:197 - writing: /home/vlermakov/Development/Nodules/Nodule-Detection-LUNA2016/processed_data_full_range_075mm_fixed/Quaniebuf__63959e38d7944009e2ae23da-6627a3dda50429aa-6/Quaniebuf__63959e38d7944009e2ae23da-6627a3dda50429aa-6_mask_0.nii.gz\n"
     ]
    },
    {
     "name": "stderr",
     "output_type": "stream",
     "text": [
      "\r",
      "Loading dataset:  35%|████████████████████████████████████████████████▊                                                                                            | 198/572 [31:52<1:01:09,  9.81s/it]"
     ]
    },
    {
     "name": "stdout",
     "output_type": "stream",
     "text": [
      "2023-10-16 01:11:08,026 INFO image_writer.py:197 - writing: /home/vlermakov/Development/Nodules/Nodule-Detection-LUNA2016/processed_data_full_range_075mm_fixed/Enoyil__63b081db6012a8095bc6549a-185f2f5044fb777a-2/Enoyil__63b081db6012a8095bc6549a-185f2f5044fb777a-2_image_0.nii.gz\n",
      "2023-10-16 01:11:08,767 INFO image_writer.py:197 - writing: /home/vlermakov/Development/Nodules/Nodule-Detection-LUNA2016/processed_data_full_range_075mm_fixed/Enoyil__63b081db6012a8095bc6549a-185f2f5044fb777a-2/Enoyil__63b081db6012a8095bc6549a-185f2f5044fb777a-2_mask_0.nii.gz\n"
     ]
    },
    {
     "name": "stderr",
     "output_type": "stream",
     "text": [
      "Loading dataset:  35%|██████████████████████████████████████████████████                                                                                             | 200/572 [31:58<37:45,  6.09s/it]"
     ]
    },
    {
     "name": "stdout",
     "output_type": "stream",
     "text": [
      "2023-10-16 01:11:23,598 INFO image_writer.py:197 - writing: /home/vlermakov/Development/Nodules/Nodule-Detection-LUNA2016/processed_data_full_range_075mm_fixed/Sukicuk__6348583863a34a0a3c1da9fb-64d758bb37b661b3-3/Sukicuk__6348583863a34a0a3c1da9fb-64d758bb37b661b3-3_image_0.nii.gz\n",
      "2023-10-16 01:11:24,126 INFO image_writer.py:197 - writing: /home/vlermakov/Development/Nodules/Nodule-Detection-LUNA2016/processed_data_full_range_075mm_fixed/Sukicuk__6348583863a34a0a3c1da9fb-64d758bb37b661b3-3/Sukicuk__6348583863a34a0a3c1da9fb-64d758bb37b661b3-3_mask_0.nii.gz\n"
     ]
    },
    {
     "name": "stderr",
     "output_type": "stream",
     "text": [
      "\r",
      "Loading dataset:  35%|██████████████████████████████████████████████████▌                                                                                            | 202/572 [32:09<35:37,  5.78s/it]"
     ]
    },
    {
     "name": "stdout",
     "output_type": "stream",
     "text": [
      "2023-10-16 01:11:31,344 INFO image_writer.py:197 - writing: /home/vlermakov/Development/Nodules/Nodule-Detection-LUNA2016/processed_data_full_range_075mm_fixed/Sukicuk__6348583863a34a0a3c1da9fb-64d758bb37b661b3-4/Sukicuk__6348583863a34a0a3c1da9fb-64d758bb37b661b3-4_image_0.nii.gz\n",
      "2023-10-16 01:11:32,221 INFO image_writer.py:197 - writing: /home/vlermakov/Development/Nodules/Nodule-Detection-LUNA2016/processed_data_full_range_075mm_fixed/Sukicuk__6348583863a34a0a3c1da9fb-64d758bb37b661b3-4/Sukicuk__6348583863a34a0a3c1da9fb-64d758bb37b661b3-4_mask_0.nii.gz\n"
     ]
    },
    {
     "name": "stderr",
     "output_type": "stream",
     "text": [
      "\r",
      "Loading dataset:  35%|██████████████████████████████████████████████████▊                                                                                            | 203/572 [32:17<39:08,  6.36s/it]"
     ]
    },
    {
     "name": "stdout",
     "output_type": "stream",
     "text": [
      "2023-10-16 01:11:38,587 INFO image_writer.py:197 - writing: /home/vlermakov/Development/Nodules/Nodule-Detection-LUNA2016/processed_data_full_range_075mm_fixed/Delafi__636c200705db0809dbf91912-375db301d7d628f7-1/Delafi__636c200705db0809dbf91912-375db301d7d628f7-1_image_0.nii.gz\n",
      "2023-10-16 01:11:39,003 INFO image_writer.py:197 - writing: /home/vlermakov/Development/Nodules/Nodule-Detection-LUNA2016/processed_data_full_range_075mm_fixed/Delafi__636c200705db0809dbf91912-375db301d7d628f7-1/Delafi__636c200705db0809dbf91912-375db301d7d628f7-1_mask_0.nii.gz\n"
     ]
    },
    {
     "name": "stderr",
     "output_type": "stream",
     "text": [
      "\r",
      "Loading dataset:  36%|███████████████████████████████████████████████████                                                                                            | 204/572 [32:24<40:45,  6.65s/it]"
     ]
    },
    {
     "name": "stdout",
     "output_type": "stream",
     "text": [
      "2023-10-16 01:11:47,581 INFO image_writer.py:197 - writing: /home/vlermakov/Development/Nodules/Nodule-Detection-LUNA2016/processed_data_full_range_075mm_fixed/Delafi__636c200705db0809dbf91912-375db301d7d628f7-2/Delafi__636c200705db0809dbf91912-375db301d7d628f7-2_image_0.nii.gz\n",
      "2023-10-16 01:11:47,609 INFO image_writer.py:197 - writing: /home/vlermakov/Development/Nodules/Nodule-Detection-LUNA2016/processed_data_full_range_075mm_fixed/Delafi__636c200705db0809dbf91912-375db301d7d628f7-3/Delafi__636c200705db0809dbf91912-375db301d7d628f7-3_image_0.nii.gz\n",
      "2023-10-16 01:11:48,208 INFO image_writer.py:197 - writing: /home/vlermakov/Development/Nodules/Nodule-Detection-LUNA2016/processed_data_full_range_075mm_fixed/Delafi__636c200705db0809dbf91912-375db301d7d628f7-2/Delafi__636c200705db0809dbf91912-375db301d7d628f7-2_mask_0.nii.gz\n",
      "2023-10-16 01:11:48,224 INFO image_writer.py:197 - writing: /home/vlermakov/Development/Nodules/Nodule-Detection-LUNA2016/processed_data_full_range_075mm_fixed/Delafi__636c200705db0809dbf91912-375db301d7d628f7-3/Delafi__636c200705db0809dbf91912-375db301d7d628f7-3_mask_0.nii.gz\n",
      "2023-10-16 01:11:48,291 INFO image_writer.py:197 - writing: /home/vlermakov/Development/Nodules/Nodule-Detection-LUNA2016/processed_data_full_range_075mm_fixed/Trasnoque__63a2429d35c1960a20ae725e-7be97e2bdd6ef8cb-5/Trasnoque__63a2429d35c1960a20ae725e-7be97e2bdd6ef8cb-5_image_0.nii.gz\n",
      "2023-10-16 01:11:48,663 INFO image_writer.py:197 - writing: /home/vlermakov/Development/Nodules/Nodule-Detection-LUNA2016/processed_data_full_range_075mm_fixed/Trasnoque__63a2429d35c1960a20ae725e-7be97e2bdd6ef8cb-5/Trasnoque__63a2429d35c1960a20ae725e-7be97e2bdd6ef8cb-5_mask_0.nii.gz\n"
     ]
    },
    {
     "name": "stderr",
     "output_type": "stream",
     "text": [
      "Loading dataset:  36%|███████████████████████████████████████████████████▌                                                                                           | 206/572 [32:45<49:21,  8.09s/it]"
     ]
    },
    {
     "name": "stdout",
     "output_type": "stream",
     "text": [
      "2023-10-16 01:12:02,063 INFO image_writer.py:197 - writing: /home/vlermakov/Development/Nodules/Nodule-Detection-LUNA2016/processed_data_full_range_075mm_fixed/Trasnoque__63a2429d35c1960a20ae725e-7be97e2bdd6ef8cb-3/Trasnoque__63a2429d35c1960a20ae725e-7be97e2bdd6ef8cb-3_image_0.nii.gz\n",
      "2023-10-16 01:12:02,590 INFO image_writer.py:197 - writing: /home/vlermakov/Development/Nodules/Nodule-Detection-LUNA2016/processed_data_full_range_075mm_fixed/Trasnoque__63a2429d35c1960a20ae725e-7be97e2bdd6ef8cb-3/Trasnoque__63a2429d35c1960a20ae725e-7be97e2bdd6ef8cb-3_mask_0.nii.gz\n"
     ]
    },
    {
     "name": "stderr",
     "output_type": "stream",
     "text": [
      "\r",
      "Loading dataset:  36%|████████████████████████████████████████████████████                                                                                           | 208/572 [32:48<31:42,  5.23s/it]"
     ]
    },
    {
     "name": "stdout",
     "output_type": "stream",
     "text": [
      "2023-10-16 01:12:12,101 INFO image_writer.py:197 - writing: /home/vlermakov/Development/Nodules/Nodule-Detection-LUNA2016/processed_data_full_range_075mm_fixed/Trasnoque__63a2429d35c1960a20ae725e-7be97e2bdd6ef8cb-1/Trasnoque__63a2429d35c1960a20ae725e-7be97e2bdd6ef8cb-1_image_0.nii.gz\n",
      "2023-10-16 01:12:12,890 INFO image_writer.py:197 - writing: /home/vlermakov/Development/Nodules/Nodule-Detection-LUNA2016/processed_data_full_range_075mm_fixed/Trasnoque__63a2429d35c1960a20ae725e-7be97e2bdd6ef8cb-1/Trasnoque__63a2429d35c1960a20ae725e-7be97e2bdd6ef8cb-1_mask_0.nii.gz\n"
     ]
    },
    {
     "name": "stderr",
     "output_type": "stream",
     "text": [
      "\r",
      "Loading dataset:  37%|████████████████████████████████████████████████████▎                                                                                          | 209/572 [33:03<45:41,  7.55s/it]"
     ]
    },
    {
     "name": "stdout",
     "output_type": "stream",
     "text": [
      "2023-10-16 01:12:19,825 INFO image_writer.py:197 - writing: /home/vlermakov/Development/Nodules/Nodule-Detection-LUNA2016/processed_data_full_range_075mm_fixed/Trasnoque__63a2429d35c1960a20ae725e-7be97e2bdd6ef8cb-10/Trasnoque__63a2429d35c1960a20ae725e-7be97e2bdd6ef8cb-10_image_0.nii.gz\n",
      "2023-10-16 01:12:19,967 INFO image_writer.py:197 - writing: /home/vlermakov/Development/Nodules/Nodule-Detection-LUNA2016/processed_data_full_range_075mm_fixed/Trasnoque__63a2429d35c1960a20ae725e-7be97e2bdd6ef8cb-10/Trasnoque__63a2429d35c1960a20ae725e-7be97e2bdd6ef8cb-10_mask_0.nii.gz\n"
     ]
    },
    {
     "name": "stderr",
     "output_type": "stream",
     "text": [
      "\r",
      "Loading dataset:  37%|████████████████████████████████████████████████████▌                                                                                          | 210/572 [33:04<36:22,  6.03s/it]"
     ]
    },
    {
     "name": "stdout",
     "output_type": "stream",
     "text": [
      "2023-10-16 01:12:38,028 INFO image_writer.py:197 - writing: /home/vlermakov/Development/Nodules/Nodule-Detection-LUNA2016/processed_data_full_range_075mm_fixed/Trasnoque__63a2429d35c1960a20ae725e-7be97e2bdd6ef8cb-2/Trasnoque__63a2429d35c1960a20ae725e-7be97e2bdd6ef8cb-2_image_0.nii.gz\n",
      "2023-10-16 01:12:38,264 INFO image_writer.py:197 - writing: /home/vlermakov/Development/Nodules/Nodule-Detection-LUNA2016/processed_data_full_range_075mm_fixed/Trasnoque__63a2429d35c1960a20ae725e-7be97e2bdd6ef8cb-2/Trasnoque__63a2429d35c1960a20ae725e-7be97e2bdd6ef8cb-2_mask_0.nii.gz\n"
     ]
    },
    {
     "name": "stderr",
     "output_type": "stream",
     "text": [
      "\r",
      "Loading dataset:  37%|████████████████████████████████████████████████████▊                                                                                          | 211/572 [33:23<56:10,  9.34s/it]"
     ]
    },
    {
     "name": "stdout",
     "output_type": "stream",
     "text": [
      "2023-10-16 01:12:56,133 INFO image_writer.py:197 - writing: /home/vlermakov/Development/Nodules/Nodule-Detection-LUNA2016/processed_data_full_range_075mm_fixed/Umeyat__63b709157d208f0915cbfb01-dd79ea6daf97b8e5-15/Umeyat__63b709157d208f0915cbfb01-dd79ea6daf97b8e5-15_image_0.nii.gz\n",
      "2023-10-16 01:12:56,267 INFO image_writer.py:197 - writing: /home/vlermakov/Development/Nodules/Nodule-Detection-LUNA2016/processed_data_full_range_075mm_fixed/Umeyat__63b709157d208f0915cbfb01-dd79ea6daf97b8e5-1/Umeyat__63b709157d208f0915cbfb01-dd79ea6daf97b8e5-1_image_0.nii.gz\n",
      "2023-10-16 01:12:56,543 INFO image_writer.py:197 - writing: /home/vlermakov/Development/Nodules/Nodule-Detection-LUNA2016/processed_data_full_range_075mm_fixed/Umeyat__63b709157d208f0915cbfb01-dd79ea6daf97b8e5-15/Umeyat__63b709157d208f0915cbfb01-dd79ea6daf97b8e5-15_mask_0.nii.gz\n",
      "2023-10-16 01:12:56,581 INFO image_writer.py:197 - writing: /home/vlermakov/Development/Nodules/Nodule-Detection-LUNA2016/processed_data_full_range_075mm_fixed/Umeyat__63b709157d208f0915cbfb01-dd79ea6daf97b8e5-8/Umeyat__63b709157d208f0915cbfb01-dd79ea6daf97b8e5-8_image_0.nii.gz\n",
      "2023-10-16 01:12:56,611 INFO image_writer.py:197 - writing: /home/vlermakov/Development/Nodules/Nodule-Detection-LUNA2016/processed_data_full_range_075mm_fixed/Umeyat__63b709157d208f0915cbfb01-dd79ea6daf97b8e5-2/Umeyat__63b709157d208f0915cbfb01-dd79ea6daf97b8e5-2_image_0.nii.gz\n",
      "2023-10-16 01:12:56,648 INFO image_writer.py:197 - writing: /home/vlermakov/Development/Nodules/Nodule-Detection-LUNA2016/processed_data_full_range_075mm_fixed/Umeyat__63b709157d208f0915cbfb01-dd79ea6daf97b8e5-1/Umeyat__63b709157d208f0915cbfb01-dd79ea6daf97b8e5-1_mask_0.nii.gz\n",
      "2023-10-16 01:13:05,558 INFO image_writer.py:197 - writing: /home/vlermakov/Development/Nodules/Nodule-Detection-LUNA2016/processed_data_full_range_075mm_fixed/Umeyat__63b709157d208f0915cbfb01-dd79ea6daf97b8e5-8/Umeyat__63b709157d208f0915cbfb01-dd79ea6daf97b8e5-8_mask_0.nii.gz\n",
      "2023-10-16 01:13:05,667 INFO image_writer.py:197 - writing: /home/vlermakov/Development/Nodules/Nodule-Detection-LUNA2016/processed_data_full_range_075mm_fixed/Umeyat__63b709157d208f0915cbfb01-dd79ea6daf97b8e5-2/Umeyat__63b709157d208f0915cbfb01-dd79ea6daf97b8e5-2_mask_0.nii.gz\n"
     ]
    },
    {
     "name": "stderr",
     "output_type": "stream",
     "text": [
      "Loading dataset:  37%|████████████████████████████████████████████████████▊                                                                                        | 214/572 [34:04<1:05:21, 10.95s/it]"
     ]
    },
    {
     "name": "stdout",
     "output_type": "stream",
     "text": [
      "2023-10-16 01:13:20,470 INFO image_writer.py:197 - writing: /home/vlermakov/Development/Nodules/Nodule-Detection-LUNA2016/processed_data_full_range_075mm_fixed/Firadek__634b0e48cbdf0709a84dd309-2c4f36219a249715-21/Firadek__634b0e48cbdf0709a84dd309-2c4f36219a249715-21_image_0.nii.gz\n",
      "2023-10-16 01:13:22,235 INFO image_writer.py:197 - writing: /home/vlermakov/Development/Nodules/Nodule-Detection-LUNA2016/processed_data_full_range_075mm_fixed/Firadek__634b0e48cbdf0709a84dd309-2c4f36219a249715-21/Firadek__634b0e48cbdf0709a84dd309-2c4f36219a249715-21_mask_0.nii.gz\n"
     ]
    },
    {
     "name": "stderr",
     "output_type": "stream",
     "text": [
      "\r",
      "Loading dataset:  38%|██████████████████████████████████████████████████████                                                                                         | 216/572 [34:07<39:52,  6.72s/it]"
     ]
    },
    {
     "name": "stdout",
     "output_type": "stream",
     "text": [
      "2023-10-16 01:13:36,688 INFO image_writer.py:197 - writing: /home/vlermakov/Development/Nodules/Nodule-Detection-LUNA2016/processed_data_full_range_075mm_fixed/Firadek__634b0e48cbdf0709a84dd309-2c4f36219a249715-25/Firadek__634b0e48cbdf0709a84dd309-2c4f36219a249715-25_image_0.nii.gz\n",
      "2023-10-16 01:13:36,855 INFO image_writer.py:197 - writing: /home/vlermakov/Development/Nodules/Nodule-Detection-LUNA2016/processed_data_full_range_075mm_fixed/Firadek__634b0e48cbdf0709a84dd309-2c4f36219a249715-25/Firadek__634b0e48cbdf0709a84dd309-2c4f36219a249715-25_mask_0.nii.gz\n"
     ]
    },
    {
     "name": "stderr",
     "output_type": "stream",
     "text": [
      "\r",
      "Loading dataset:  38%|██████████████████████████████████████████████████████▎                                                                                        | 217/572 [34:21<50:43,  8.57s/it]"
     ]
    },
    {
     "name": "stdout",
     "output_type": "stream",
     "text": [
      "2023-10-16 01:13:45,138 INFO image_writer.py:197 - writing: /home/vlermakov/Development/Nodules/Nodule-Detection-LUNA2016/processed_data_full_range_075mm_fixed/Firadek__634b0e48cbdf0709a84dd309-2c4f36219a249715-20/Firadek__634b0e48cbdf0709a84dd309-2c4f36219a249715-20_image_0.nii.gz\n",
      "2023-10-16 01:13:46,129 INFO image_writer.py:197 - writing: /home/vlermakov/Development/Nodules/Nodule-Detection-LUNA2016/processed_data_full_range_075mm_fixed/Firadek__634b0e48cbdf0709a84dd309-2c4f36219a249715-20/Firadek__634b0e48cbdf0709a84dd309-2c4f36219a249715-20_mask_0.nii.gz\n"
     ]
    },
    {
     "name": "stderr",
     "output_type": "stream",
     "text": [
      "\r",
      "Loading dataset:  38%|██████████████████████████████████████████████████████▍                                                                                        | 218/572 [34:34<56:54,  9.64s/it]"
     ]
    },
    {
     "name": "stdout",
     "output_type": "stream",
     "text": [
      "2023-10-16 01:14:10,215 INFO image_writer.py:197 - writing: /home/vlermakov/Development/Nodules/Nodule-Detection-LUNA2016/processed_data_full_range_075mm_fixed/Firadek__634b0e48cbdf0709a84dd309-2c4f36219a249715-8/Firadek__634b0e48cbdf0709a84dd309-2c4f36219a249715-8_image_0.nii.gz\n",
      "2023-10-16 01:14:10,366 INFO image_writer.py:197 - writing: /home/vlermakov/Development/Nodules/Nodule-Detection-LUNA2016/processed_data_full_range_075mm_fixed/Firadek__634b0e48cbdf0709a84dd309-2c4f36219a249715-10/Firadek__634b0e48cbdf0709a84dd309-2c4f36219a249715-10_image_0.nii.gz\n",
      "2023-10-16 01:14:10,443 INFO image_writer.py:197 - writing: /home/vlermakov/Development/Nodules/Nodule-Detection-LUNA2016/processed_data_full_range_075mm_fixed/Firadek__634b0e48cbdf0709a84dd309-2c4f36219a249715-8/Firadek__634b0e48cbdf0709a84dd309-2c4f36219a249715-8_mask_0.nii.gz\n",
      "2023-10-16 01:14:10,532 INFO image_writer.py:197 - writing: /home/vlermakov/Development/Nodules/Nodule-Detection-LUNA2016/processed_data_full_range_075mm_fixed/Firadek__634b0e48cbdf0709a84dd309-2c4f36219a249715-10/Firadek__634b0e48cbdf0709a84dd309-2c4f36219a249715-10_mask_0.nii.gz\n"
     ]
    },
    {
     "name": "stderr",
     "output_type": "stream",
     "text": [
      "Loading dataset:  38%|██████████████████████████████████████████████████████▏                                                                                      | 220/572 [35:03<1:03:27, 10.82s/it]"
     ]
    },
    {
     "name": "stdout",
     "output_type": "stream",
     "text": [
      "2023-10-16 01:14:22,337 INFO image_writer.py:197 - writing: /home/vlermakov/Development/Nodules/Nodule-Detection-LUNA2016/processed_data_full_range_075mm_fixed/Firadek__634b0e48cbdf0709a84dd309-2c4f36219a249715-9/Firadek__634b0e48cbdf0709a84dd309-2c4f36219a249715-9_image_0.nii.gz\n",
      "2023-10-16 01:14:22,887 INFO image_writer.py:197 - writing: /home/vlermakov/Development/Nodules/Nodule-Detection-LUNA2016/processed_data_full_range_075mm_fixed/Firadek__634b0e48cbdf0709a84dd309-2c4f36219a249715-9/Firadek__634b0e48cbdf0709a84dd309-2c4f36219a249715-9_mask_0.nii.gz\n"
     ]
    },
    {
     "name": "stderr",
     "output_type": "stream",
     "text": [
      "\r",
      "Loading dataset:  39%|███████████████████████████████████████████████████████▎                                                                                       | 221/572 [35:08<53:36,  9.16s/it]"
     ]
    },
    {
     "name": "stdout",
     "output_type": "stream",
     "text": [
      "2023-10-16 01:14:31,752 INFO image_writer.py:197 - writing: /home/vlermakov/Development/Nodules/Nodule-Detection-LUNA2016/processed_data_full_range_075mm_fixed/Nupodu__639fe9a862156208f39054bf-199612c6a509ec9c-6/Nupodu__639fe9a862156208f39054bf-199612c6a509ec9c-6_image_0.nii.gz\n",
      "2023-10-16 01:14:31,849 INFO image_writer.py:197 - writing: /home/vlermakov/Development/Nodules/Nodule-Detection-LUNA2016/processed_data_full_range_075mm_fixed/Nupodu__639fe9a862156208f39054bf-199612c6a509ec9c-6/Nupodu__639fe9a862156208f39054bf-199612c6a509ec9c-6_mask_0.nii.gz\n",
      "2023-10-16 01:14:37,500 INFO image_writer.py:197 - writing: /home/vlermakov/Development/Nodules/Nodule-Detection-LUNA2016/processed_data_full_range_075mm_fixed/Nupodu__639fe9a862156208f39054bf-199612c6a509ec9c-3/Nupodu__639fe9a862156208f39054bf-199612c6a509ec9c-3_image_0.nii.gz\n",
      "2023-10-16 01:14:37,540 INFO image_writer.py:197 - writing: /home/vlermakov/Development/Nodules/Nodule-Detection-LUNA2016/processed_data_full_range_075mm_fixed/Quekuedey__6361968e0f707c0b3815819a-5ec0b8ecb29f3ba4-11/Quekuedey__6361968e0f707c0b3815819a-5ec0b8ecb29f3ba4-11_image_0.nii.gz\n",
      "2023-10-16 01:14:37,665 INFO image_writer.py:197 - writing: /home/vlermakov/Development/Nodules/Nodule-Detection-LUNA2016/processed_data_full_range_075mm_fixed/Firadek__634b0e48cbdf0709a84dd309-2c4f36219a249715-5/Firadek__634b0e48cbdf0709a84dd309-2c4f36219a249715-5_image_0.nii.gz\n",
      "2023-10-16 01:14:37,676 INFO image_writer.py:197 - writing: /home/vlermakov/Development/Nodules/Nodule-Detection-LUNA2016/processed_data_full_range_075mm_fixed/Nupodu__639fe9a862156208f39054bf-199612c6a509ec9c-3/Nupodu__639fe9a862156208f39054bf-199612c6a509ec9c-3_mask_0.nii.gz\n",
      "2023-10-16 01:14:37,722 INFO image_writer.py:197 - writing: /home/vlermakov/Development/Nodules/Nodule-Detection-LUNA2016/processed_data_full_range_075mm_fixed/Quekuedey__6361968e0f707c0b3815819a-5ec0b8ecb29f3ba4-11/Quekuedey__6361968e0f707c0b3815819a-5ec0b8ecb29f3ba4-11_mask_0.nii.gz\n",
      "2023-10-16 01:14:46,283 INFO image_writer.py:197 - writing: /home/vlermakov/Development/Nodules/Nodule-Detection-LUNA2016/processed_data_full_range_075mm_fixed/Firadek__634b0e48cbdf0709a84dd309-2c4f36219a249715-5/Firadek__634b0e48cbdf0709a84dd309-2c4f36219a249715-5_mask_0.nii.gz\n"
     ]
    },
    {
     "name": "stderr",
     "output_type": "stream",
     "text": [
      "Loading dataset:  39%|████████████████████████████████████████████████████████                                                                                       | 224/572 [35:36<46:05,  7.95s/it]"
     ]
    },
    {
     "name": "stdout",
     "output_type": "stream",
     "text": [
      "2023-10-16 01:15:09,405 INFO image_writer.py:197 - writing: /home/vlermakov/Development/Nodules/Nodule-Detection-LUNA2016/processed_data_full_range_075mm_fixed/Hucoshe__634e213e979b4509f9e3a1a5-e759fbbaa1ed6b4b-1/Hucoshe__634e213e979b4509f9e3a1a5-e759fbbaa1ed6b4b-1_image_0.nii.gz\n",
      "2023-10-16 01:15:09,543 INFO image_writer.py:197 - writing: /home/vlermakov/Development/Nodules/Nodule-Detection-LUNA2016/processed_data_full_range_075mm_fixed/Hucoshe__634e213e979b4509f9e3a1a5-e759fbbaa1ed6b4b-1/Hucoshe__634e213e979b4509f9e3a1a5-e759fbbaa1ed6b4b-1_mask_0.nii.gz\n",
      "2023-10-16 01:15:17,308 INFO image_writer.py:197 - writing: /home/vlermakov/Development/Nodules/Nodule-Detection-LUNA2016/processed_data_full_range_075mm_fixed/Quekuedey__6361968e0f707c0b3815819a-5ec0b8ecb29f3ba4-1/Quekuedey__6361968e0f707c0b3815819a-5ec0b8ecb29f3ba4-1_image_0.nii.gz\n",
      "2023-10-16 01:15:18,028 INFO image_writer.py:197 - writing: /home/vlermakov/Development/Nodules/Nodule-Detection-LUNA2016/processed_data_full_range_075mm_fixed/Quekuedey__6361968e0f707c0b3815819a-5ec0b8ecb29f3ba4-1/Quekuedey__6361968e0f707c0b3815819a-5ec0b8ecb29f3ba4-1_mask_0.nii.gz\n"
     ]
    },
    {
     "name": "stderr",
     "output_type": "stream",
     "text": [
      "Loading dataset:  40%|████████████████████████████████████████████████████████▊                                                                                      | 227/572 [36:13<57:09,  9.94s/it]"
     ]
    },
    {
     "name": "stdout",
     "output_type": "stream",
     "text": [
      "2023-10-16 01:15:29,980 INFO image_writer.py:197 - writing: /home/vlermakov/Development/Nodules/Nodule-Detection-LUNA2016/processed_data_full_range_075mm_fixed/Buroufueln__639de30275b6a2097167b17c-77ede34aaf37df2d-4/Buroufueln__639de30275b6a2097167b17c-77ede34aaf37df2d-4_image_0.nii.gz\n",
      "2023-10-16 01:15:30,201 INFO image_writer.py:197 - writing: /home/vlermakov/Development/Nodules/Nodule-Detection-LUNA2016/processed_data_full_range_075mm_fixed/Buroufueln__639de30275b6a2097167b17c-77ede34aaf37df2d-4/Buroufueln__639de30275b6a2097167b17c-77ede34aaf37df2d-4_mask_0.nii.gz\n",
      "2023-10-16 01:15:37,185 INFO image_writer.py:197 - writing: /home/vlermakov/Development/Nodules/Nodule-Detection-LUNA2016/processed_data_full_range_075mm_fixed/Buroufueln__639de30275b6a2097167b17c-77ede34aaf37df2d-2/Buroufueln__639de30275b6a2097167b17c-77ede34aaf37df2d-2_image_0.nii.gz\n",
      "2023-10-16 01:15:37,210 INFO image_writer.py:197 - writing: /home/vlermakov/Development/Nodules/Nodule-Detection-LUNA2016/processed_data_full_range_075mm_fixed/Buroufueln__639de30275b6a2097167b17c-77ede34aaf37df2d-9/Buroufueln__639de30275b6a2097167b17c-77ede34aaf37df2d-9_image_0.nii.gz\n",
      "2023-10-16 01:15:37,252 INFO image_writer.py:197 - writing: /home/vlermakov/Development/Nodules/Nodule-Detection-LUNA2016/processed_data_full_range_075mm_fixed/Buroufueln__639de30275b6a2097167b17c-77ede34aaf37df2d-12/Buroufueln__639de30275b6a2097167b17c-77ede34aaf37df2d-12_image_0.nii.gz\n",
      "2023-10-16 01:15:37,355 INFO image_writer.py:197 - writing: /home/vlermakov/Development/Nodules/Nodule-Detection-LUNA2016/processed_data_full_range_075mm_fixed/Buroufueln__639de30275b6a2097167b17c-77ede34aaf37df2d-8/Buroufueln__639de30275b6a2097167b17c-77ede34aaf37df2d-8_image_0.nii.gz\n",
      "2023-10-16 01:15:37,476 INFO image_writer.py:197 - writing: /home/vlermakov/Development/Nodules/Nodule-Detection-LUNA2016/processed_data_full_range_075mm_fixed/Buroufueln__639de30275b6a2097167b17c-77ede34aaf37df2d-2/Buroufueln__639de30275b6a2097167b17c-77ede34aaf37df2d-2_mask_0.nii.gz\n",
      "2023-10-16 01:15:37,796 INFO image_writer.py:197 - writing: /home/vlermakov/Development/Nodules/Nodule-Detection-LUNA2016/processed_data_full_range_075mm_fixed/Buroufueln__639de30275b6a2097167b17c-77ede34aaf37df2d-9/Buroufueln__639de30275b6a2097167b17c-77ede34aaf37df2d-9_mask_0.nii.gz\n",
      "2023-10-16 01:15:37,921 INFO image_writer.py:197 - writing: /home/vlermakov/Development/Nodules/Nodule-Detection-LUNA2016/processed_data_full_range_075mm_fixed/Buroufueln__639de30275b6a2097167b17c-77ede34aaf37df2d-12/Buroufueln__639de30275b6a2097167b17c-77ede34aaf37df2d-12_mask_0.nii.gz\n"
     ]
    },
    {
     "name": "stderr",
     "output_type": "stream",
     "text": [
      "Loading dataset:  40%|████████████████████████████████████████████████████████▍                                                                                    | 229/572 [36:36<1:01:26, 10.75s/it]"
     ]
    },
    {
     "name": "stdout",
     "output_type": "stream",
     "text": [
      "2023-10-16 01:15:51,690 INFO image_writer.py:197 - writing: /home/vlermakov/Development/Nodules/Nodule-Detection-LUNA2016/processed_data_full_range_075mm_fixed/Buroufueln__639de30275b6a2097167b17c-77ede34aaf37df2d-8/Buroufueln__639de30275b6a2097167b17c-77ede34aaf37df2d-8_mask_0.nii.gz\n"
     ]
    },
    {
     "name": "stderr",
     "output_type": "stream",
     "text": [
      "Loading dataset:  40%|█████████████████████████████████████████████████████████▊                                                                                     | 231/572 [36:40<38:17,  6.74s/it]"
     ]
    },
    {
     "name": "stdout",
     "output_type": "stream",
     "text": [
      "2023-10-16 01:16:10,762 INFO image_writer.py:197 - writing: /home/vlermakov/Development/Nodules/Nodule-Detection-LUNA2016/processed_data_full_range_075mm_fixed/Grujoli__63982cc76d702b09bbb9d959-98004da4452fa2e6-6/Grujoli__63982cc76d702b09bbb9d959-98004da4452fa2e6-6_image_0.nii.gz\n",
      "2023-10-16 01:16:11,121 INFO image_writer.py:197 - writing: /home/vlermakov/Development/Nodules/Nodule-Detection-LUNA2016/processed_data_full_range_075mm_fixed/Grujoli__63982cc76d702b09bbb9d959-98004da4452fa2e6-6/Grujoli__63982cc76d702b09bbb9d959-98004da4452fa2e6-6_mask_0.nii.gz\n",
      "2023-10-16 01:16:18,319 INFO image_writer.py:197 - writing: /home/vlermakov/Development/Nodules/Nodule-Detection-LUNA2016/processed_data_full_range_075mm_fixed/Puhufub__63ab93c6d5121109d50d4f68-80c285e471db0c45-1/Puhufub__63ab93c6d5121109d50d4f68-80c285e471db0c45-1_image_0.nii.gz\n",
      "2023-10-16 01:16:19,034 INFO image_writer.py:197 - writing: /home/vlermakov/Development/Nodules/Nodule-Detection-LUNA2016/processed_data_full_range_075mm_fixed/Puhufub__63ab93c6d5121109d50d4f68-80c285e471db0c45-1/Puhufub__63ab93c6d5121109d50d4f68-80c285e471db0c45-1_mask_0.nii.gz\n",
      "2023-10-16 01:16:28,796 INFO image_writer.py:197 - writing: /home/vlermakov/Development/Nodules/Nodule-Detection-LUNA2016/processed_data_full_range_075mm_fixed/Puhufub__63ab93c6d5121109d50d4f68-80c285e471db0c45-2/Puhufub__63ab93c6d5121109d50d4f68-80c285e471db0c45-2_image_0.nii.gz\n",
      "2023-10-16 01:16:28,828 INFO image_writer.py:197 - writing: /home/vlermakov/Development/Nodules/Nodule-Detection-LUNA2016/processed_data_full_range_075mm_fixed/Puhufub__63ab93c6d5121109d50d4f68-80c285e471db0c45-3/Puhufub__63ab93c6d5121109d50d4f68-80c285e471db0c45-3_image_0.nii.gz\n",
      "2023-10-16 01:16:29,008 INFO image_writer.py:197 - writing: /home/vlermakov/Development/Nodules/Nodule-Detection-LUNA2016/processed_data_full_range_075mm_fixed/Quebutout__63b47cb4e32643091cd764b0-08004216ffa44f00-5/Quebutout__63b47cb4e32643091cd764b0-08004216ffa44f00-5_image_0.nii.gz\n",
      "2023-10-16 01:16:29,087 INFO image_writer.py:197 - writing: /home/vlermakov/Development/Nodules/Nodule-Detection-LUNA2016/processed_data_full_range_075mm_fixed/Quebutout__63b47cb4e32643091cd764b0-08004216ffa44f00-7/Quebutout__63b47cb4e32643091cd764b0-08004216ffa44f00-7_image_0.nii.gz\n",
      "2023-10-16 01:16:29,138 INFO image_writer.py:197 - writing: /home/vlermakov/Development/Nodules/Nodule-Detection-LUNA2016/processed_data_full_range_075mm_fixed/Puhufub__63ab93c6d5121109d50d4f68-80c285e471db0c45-2/Puhufub__63ab93c6d5121109d50d4f68-80c285e471db0c45-2_mask_0.nii.gz\n",
      "2023-10-16 01:16:29,202 INFO image_writer.py:197 - writing: /home/vlermakov/Development/Nodules/Nodule-Detection-LUNA2016/processed_data_full_range_075mm_fixed/Puhufub__63ab93c6d5121109d50d4f68-80c285e471db0c45-3/Puhufub__63ab93c6d5121109d50d4f68-80c285e471db0c45-3_mask_0.nii.gz\n",
      "2023-10-16 01:16:32,584 INFO image_writer.py:197 - writing: /home/vlermakov/Development/Nodules/Nodule-Detection-LUNA2016/processed_data_full_range_075mm_fixed/Quebutout__63b47cb4e32643091cd764b0-08004216ffa44f00-5/Quebutout__63b47cb4e32643091cd764b0-08004216ffa44f00-5_mask_0.nii.gz\n",
      "2023-10-16 01:16:32,602 INFO image_writer.py:197 - writing: /home/vlermakov/Development/Nodules/Nodule-Detection-LUNA2016/processed_data_full_range_075mm_fixed/Quebutout__63b47cb4e32643091cd764b0-08004216ffa44f00-7/Quebutout__63b47cb4e32643091cd764b0-08004216ffa44f00-7_mask_0.nii.gz\n",
      "2023-10-16 01:16:54,720 INFO image_writer.py:197 - writing: /home/vlermakov/Development/Nodules/Nodule-Detection-LUNA2016/processed_data_full_range_075mm_fixed/Quebutout__63b47cb4e32643091cd764b0-08004216ffa44f00-9/Quebutout__63b47cb4e32643091cd764b0-08004216ffa44f00-9_image_0.nii.gz\n",
      "2023-10-16 01:16:54,965 INFO image_writer.py:197 - writing: /home/vlermakov/Development/Nodules/Nodule-Detection-LUNA2016/processed_data_full_range_075mm_fixed/Quebutout__63b47cb4e32643091cd764b0-08004216ffa44f00-9/Quebutout__63b47cb4e32643091cd764b0-08004216ffa44f00-9_mask_0.nii.gz\n",
      "2023-10-16 01:17:00,414 INFO image_writer.py:197 - writing: /home/vlermakov/Development/Nodules/Nodule-Detection-LUNA2016/processed_data_full_range_075mm_fixed/Leeklinum__639df0788e0456092589d72d-88e7c1a628f6080c-2/Leeklinum__639df0788e0456092589d72d-88e7c1a628f6080c-2_image_0.nii.gz\n",
      "2023-10-16 01:17:01,619 INFO image_writer.py:197 - writing: /home/vlermakov/Development/Nodules/Nodule-Detection-LUNA2016/processed_data_full_range_075mm_fixed/Leeklinum__639df0788e0456092589d72d-88e7c1a628f6080c-2/Leeklinum__639df0788e0456092589d72d-88e7c1a628f6080c-2_mask_0.nii.gz\n",
      "2023-10-16 01:17:08,677 INFO image_writer.py:197 - writing: /home/vlermakov/Development/Nodules/Nodule-Detection-LUNA2016/processed_data_full_range_075mm_fixed/Leeklinum__639df0788e0456092589d72d-88e7c1a628f6080c-4/Leeklinum__639df0788e0456092589d72d-88e7c1a628f6080c-4_image_0.nii.gz\n",
      "2023-10-16 01:17:08,692 INFO image_writer.py:197 - writing: /home/vlermakov/Development/Nodules/Nodule-Detection-LUNA2016/processed_data_full_range_075mm_fixed/Leeklinum__639df0788e0456092589d72d-88e7c1a628f6080c-3/Leeklinum__639df0788e0456092589d72d-88e7c1a628f6080c-3_image_0.nii.gz\n",
      "2023-10-16 01:17:08,751 INFO image_writer.py:197 - writing: /home/vlermakov/Development/Nodules/Nodule-Detection-LUNA2016/processed_data_full_range_075mm_fixed/Leeklinum__639df0788e0456092589d72d-88e7c1a628f6080c-5/Leeklinum__639df0788e0456092589d72d-88e7c1a628f6080c-5_image_0.nii.gz\n",
      "2023-10-16 01:17:08,957 INFO image_writer.py:197 - writing: /home/vlermakov/Development/Nodules/Nodule-Detection-LUNA2016/processed_data_full_range_075mm_fixed/Leeklinum__639df0788e0456092589d72d-88e7c1a628f6080c-4/Leeklinum__639df0788e0456092589d72d-88e7c1a628f6080c-4_mask_0.nii.gz\n",
      "2023-10-16 01:17:09,023 INFO image_writer.py:197 - writing: /home/vlermakov/Development/Nodules/Nodule-Detection-LUNA2016/processed_data_full_range_075mm_fixed/Leeklinum__639df0788e0456092589d72d-88e7c1a628f6080c-3/Leeklinum__639df0788e0456092589d72d-88e7c1a628f6080c-3_mask_0.nii.gz\n",
      "2023-10-16 01:17:09,026 INFO image_writer.py:197 - writing: /home/vlermakov/Development/Nodules/Nodule-Detection-LUNA2016/processed_data_full_range_075mm_fixed/Ulekod__634ef318ddae5a0918affb75-c4d0d94b3a5650aa-10/Ulekod__634ef318ddae5a0918affb75-c4d0d94b3a5650aa-10_image_0.nii.gz\n",
      "2023-10-16 01:17:09,103 INFO image_writer.py:197 - writing: /home/vlermakov/Development/Nodules/Nodule-Detection-LUNA2016/processed_data_full_range_075mm_fixed/Leeklinum__639df0788e0456092589d72d-88e7c1a628f6080c-5/Leeklinum__639df0788e0456092589d72d-88e7c1a628f6080c-5_mask_0.nii.gz\n",
      "2023-10-16 01:17:24,618 INFO image_writer.py:197 - writing: /home/vlermakov/Development/Nodules/Nodule-Detection-LUNA2016/processed_data_full_range_075mm_fixed/Ulekod__634ef318ddae5a0918affb75-c4d0d94b3a5650aa-10/Ulekod__634ef318ddae5a0918affb75-c4d0d94b3a5650aa-10_mask_0.nii.gz\n"
     ]
    },
    {
     "name": "stderr",
     "output_type": "stream",
     "text": [
      "Loading dataset:  41%|█████████████████████████████████████████████████████████▋                                                                                   | 234/572 [38:14<1:46:00, 18.82s/it]"
     ]
    },
    {
     "name": "stdout",
     "output_type": "stream",
     "text": [
      "2023-10-16 01:17:43,290 INFO image_writer.py:197 - writing: /home/vlermakov/Development/Nodules/Nodule-Detection-LUNA2016/processed_data_full_range_075mm_fixed/Leeklinum__639df0788e0456092589d72d-88e7c1a628f6080c-6/Leeklinum__639df0788e0456092589d72d-88e7c1a628f6080c-6_image_0.nii.gz\n",
      "2023-10-16 01:17:43,693 INFO image_writer.py:197 - writing: /home/vlermakov/Development/Nodules/Nodule-Detection-LUNA2016/processed_data_full_range_075mm_fixed/Leeklinum__639df0788e0456092589d72d-88e7c1a628f6080c-7/Leeklinum__639df0788e0456092589d72d-88e7c1a628f6080c-7_image_0.nii.gz\n",
      "2023-10-16 01:17:43,952 INFO image_writer.py:197 - writing: /home/vlermakov/Development/Nodules/Nodule-Detection-LUNA2016/processed_data_full_range_075mm_fixed/Leeklinum__639df0788e0456092589d72d-88e7c1a628f6080c-6/Leeklinum__639df0788e0456092589d72d-88e7c1a628f6080c-6_mask_0.nii.gz\n",
      "2023-10-16 01:17:44,055 INFO image_writer.py:197 - writing: /home/vlermakov/Development/Nodules/Nodule-Detection-LUNA2016/processed_data_full_range_075mm_fixed/Leeklinum__639df0788e0456092589d72d-88e7c1a628f6080c-7/Leeklinum__639df0788e0456092589d72d-88e7c1a628f6080c-7_mask_0.nii.gz\n"
     ]
    },
    {
     "name": "stderr",
     "output_type": "stream",
     "text": [
      "Loading dataset:  43%|█████████████████████████████████████████████████████████████▌                                                                                 | 246/572 [38:32<26:07,  4.81s/it]"
     ]
    },
    {
     "name": "stdout",
     "output_type": "stream",
     "text": [
      "2023-10-16 01:17:53,448 INFO image_writer.py:197 - writing: /home/vlermakov/Development/Nodules/Nodule-Detection-LUNA2016/processed_data_full_range_075mm_fixed/Leeklinum__639df0788e0456092589d72d-88e7c1a628f6080c-8/Leeklinum__639df0788e0456092589d72d-88e7c1a628f6080c-8_image_0.nii.gz\n",
      "2023-10-16 01:17:54,586 INFO image_writer.py:197 - writing: /home/vlermakov/Development/Nodules/Nodule-Detection-LUNA2016/processed_data_full_range_075mm_fixed/Leeklinum__639df0788e0456092589d72d-88e7c1a628f6080c-8/Leeklinum__639df0788e0456092589d72d-88e7c1a628f6080c-8_mask_0.nii.gz\n"
     ]
    },
    {
     "name": "stderr",
     "output_type": "stream",
     "text": [
      "\r",
      "Loading dataset:  43%|█████████████████████████████████████████████████████████████▊                                                                                 | 247/572 [38:39<27:41,  5.11s/it]"
     ]
    },
    {
     "name": "stdout",
     "output_type": "stream",
     "text": [
      "2023-10-16 01:18:04,934 INFO image_writer.py:197 - writing: /home/vlermakov/Development/Nodules/Nodule-Detection-LUNA2016/processed_data_full_range_075mm_fixed/Leeklinum__639df0788e0456092589d72d-88e7c1a628f6080c-9/Leeklinum__639df0788e0456092589d72d-88e7c1a628f6080c-9_image_0.nii.gz\n",
      "2023-10-16 01:18:05,386 INFO image_writer.py:197 - writing: /home/vlermakov/Development/Nodules/Nodule-Detection-LUNA2016/processed_data_full_range_075mm_fixed/Jemorug__63489a65cc4e4c0afa55a3cd-edbfb106ee649e27-1/Jemorug__63489a65cc4e4c0afa55a3cd-edbfb106ee649e27-1_image_0.nii.gz\n",
      "2023-10-16 01:18:05,528 INFO image_writer.py:197 - writing: /home/vlermakov/Development/Nodules/Nodule-Detection-LUNA2016/processed_data_full_range_075mm_fixed/Leeklinum__639df0788e0456092589d72d-88e7c1a628f6080c-9/Leeklinum__639df0788e0456092589d72d-88e7c1a628f6080c-9_mask_0.nii.gz\n",
      "2023-10-16 01:18:05,557 INFO image_writer.py:197 - writing: /home/vlermakov/Development/Nodules/Nodule-Detection-LUNA2016/processed_data_full_range_075mm_fixed/Roujinok__63ab8d14a87923093a43bb45-636f01f778400ae7-2/Roujinok__63ab8d14a87923093a43bb45-636f01f778400ae7-2_image_0.nii.gz\n",
      "2023-10-16 01:18:05,611 INFO image_writer.py:197 - writing: /home/vlermakov/Development/Nodules/Nodule-Detection-LUNA2016/processed_data_full_range_075mm_fixed/Roujinok__63ab8d14a87923093a43bb45-636f01f778400ae7-1/Roujinok__63ab8d14a87923093a43bb45-636f01f778400ae7-1_image_0.nii.gz\n",
      "2023-10-16 01:18:05,713 INFO image_writer.py:197 - writing: /home/vlermakov/Development/Nodules/Nodule-Detection-LUNA2016/processed_data_full_range_075mm_fixed/Jemorug__63489a65cc4e4c0afa55a3cd-edbfb106ee649e27-1/Jemorug__63489a65cc4e4c0afa55a3cd-edbfb106ee649e27-1_mask_0.nii.gz\n"
     ]
    },
    {
     "name": "stderr",
     "output_type": "stream",
     "text": [
      "\r",
      "Loading dataset:  43%|█████████████████████████████████████████████████████████████▉                                                                                 | 248/572 [38:52<33:09,  6.14s/it]"
     ]
    },
    {
     "name": "stdout",
     "output_type": "stream",
     "text": [
      "2023-10-16 01:18:11,193 INFO image_writer.py:197 - writing: /home/vlermakov/Development/Nodules/Nodule-Detection-LUNA2016/processed_data_full_range_075mm_fixed/Roujinok__63ab8d14a87923093a43bb45-636f01f778400ae7-2/Roujinok__63ab8d14a87923093a43bb45-636f01f778400ae7-2_mask_0.nii.gz\n",
      "2023-10-16 01:18:16,334 INFO image_writer.py:197 - writing: /home/vlermakov/Development/Nodules/Nodule-Detection-LUNA2016/processed_data_full_range_075mm_fixed/Roujinok__63ab8d14a87923093a43bb45-636f01f778400ae7-1/Roujinok__63ab8d14a87923093a43bb45-636f01f778400ae7-1_mask_0.nii.gz\n"
     ]
    },
    {
     "name": "stderr",
     "output_type": "stream",
     "text": [
      "Loading dataset:  44%|██████████████████████████████████████████████████████████████▌                                                                                | 250/572 [39:11<38:10,  7.11s/it]"
     ]
    },
    {
     "name": "stdout",
     "output_type": "stream",
     "text": [
      "2023-10-16 01:18:28,562 INFO image_writer.py:197 - writing: /home/vlermakov/Development/Nodules/Nodule-Detection-LUNA2016/processed_data_full_range_075mm_fixed/Jemorug__63489a65cc4e4c0afa55a3cd-edbfb106ee649e27-2/Jemorug__63489a65cc4e4c0afa55a3cd-edbfb106ee649e27-2_image_0.nii.gz\n",
      "2023-10-16 01:18:29,518 INFO image_writer.py:197 - writing: /home/vlermakov/Development/Nodules/Nodule-Detection-LUNA2016/processed_data_full_range_075mm_fixed/Jemorug__63489a65cc4e4c0afa55a3cd-edbfb106ee649e27-2/Jemorug__63489a65cc4e4c0afa55a3cd-edbfb106ee649e27-2_mask_0.nii.gz\n"
     ]
    },
    {
     "name": "stderr",
     "output_type": "stream",
     "text": [
      "\r",
      "Loading dataset:  44%|███████████████████████████████████████████████████████████████                                                                                | 252/572 [39:14<26:56,  5.05s/it]"
     ]
    },
    {
     "name": "stdout",
     "output_type": "stream",
     "text": [
      "2023-10-16 01:18:48,798 INFO image_writer.py:197 - writing: /home/vlermakov/Development/Nodules/Nodule-Detection-LUNA2016/processed_data_full_range_075mm_fixed/Jemorug__63489a65cc4e4c0afa55a3cd-edbfb106ee649e27-4/Jemorug__63489a65cc4e4c0afa55a3cd-edbfb106ee649e27-4_image_0.nii.gz\n",
      "2023-10-16 01:18:49,295 INFO image_writer.py:197 - writing: /home/vlermakov/Development/Nodules/Nodule-Detection-LUNA2016/processed_data_full_range_075mm_fixed/Jemorug__63489a65cc4e4c0afa55a3cd-edbfb106ee649e27-4/Jemorug__63489a65cc4e4c0afa55a3cd-edbfb106ee649e27-4_mask_0.nii.gz\n",
      "2023-10-16 01:18:56,912 INFO image_writer.py:197 - writing: /home/vlermakov/Development/Nodules/Nodule-Detection-LUNA2016/processed_data_full_range_075mm_fixed/Jemorug__63489a65cc4e4c0afa55a3cd-edbfb106ee649e27-3/Jemorug__63489a65cc4e4c0afa55a3cd-edbfb106ee649e27-3_image_0.nii.gz\n",
      "2023-10-16 01:18:57,021 INFO image_writer.py:197 - writing: /home/vlermakov/Development/Nodules/Nodule-Detection-LUNA2016/processed_data_full_range_075mm_fixed/Jemorug__63489a65cc4e4c0afa55a3cd-edbfb106ee649e27-3/Jemorug__63489a65cc4e4c0afa55a3cd-edbfb106ee649e27-3_mask_0.nii.gz\n"
     ]
    },
    {
     "name": "stderr",
     "output_type": "stream",
     "text": [
      "Loading dataset:  44%|███████████████████████████████████████████████████████████████▌                                                                               | 254/572 [39:45<43:49,  8.27s/it]"
     ]
    },
    {
     "name": "stdout",
     "output_type": "stream",
     "text": [
      "2023-10-16 01:19:02,700 INFO image_writer.py:197 - writing: /home/vlermakov/Development/Nodules/Nodule-Detection-LUNA2016/processed_data_full_range_075mm_fixed/Jemorug__63489a65cc4e4c0afa55a3cd-edbfb106ee649e27-5/Jemorug__63489a65cc4e4c0afa55a3cd-edbfb106ee649e27-5_image_0.nii.gz\n",
      "2023-10-16 01:19:02,789 INFO image_writer.py:197 - writing: /home/vlermakov/Development/Nodules/Nodule-Detection-LUNA2016/processed_data_full_range_075mm_fixed/Neyakbray__63504cd166c41709abccd379-5769b5c17b3d3ce9-1/Neyakbray__63504cd166c41709abccd379-5769b5c17b3d3ce9-1_image_0.nii.gz\n",
      "2023-10-16 01:19:02,911 INFO image_writer.py:197 - writing: /home/vlermakov/Development/Nodules/Nodule-Detection-LUNA2016/processed_data_full_range_075mm_fixed/Tagoobam__63b4858ddde35f09102ff9a1-021a919af627ed6d-3/Tagoobam__63b4858ddde35f09102ff9a1-021a919af627ed6d-3_image_0.nii.gz\n",
      "2023-10-16 01:19:03,757 INFO image_writer.py:197 - writing: /home/vlermakov/Development/Nodules/Nodule-Detection-LUNA2016/processed_data_full_range_075mm_fixed/Neyakbray__63504cd166c41709abccd379-5769b5c17b3d3ce9-1/Neyakbray__63504cd166c41709abccd379-5769b5c17b3d3ce9-1_mask_0.nii.gz\n",
      "2023-10-16 01:19:03,976 INFO image_writer.py:197 - writing: /home/vlermakov/Development/Nodules/Nodule-Detection-LUNA2016/processed_data_full_range_075mm_fixed/Jemorug__63489a65cc4e4c0afa55a3cd-edbfb106ee649e27-5/Jemorug__63489a65cc4e4c0afa55a3cd-edbfb106ee649e27-5_mask_0.nii.gz\n",
      "2023-10-16 01:19:04,370 INFO image_writer.py:197 - writing: /home/vlermakov/Development/Nodules/Nodule-Detection-LUNA2016/processed_data_full_range_075mm_fixed/Tagoobam__63b4858ddde35f09102ff9a1-021a919af627ed6d-3/Tagoobam__63b4858ddde35f09102ff9a1-021a919af627ed6d-3_mask_0.nii.gz\n"
     ]
    },
    {
     "name": "stderr",
     "output_type": "stream",
     "text": [
      "Loading dataset:  45%|████████████████████████████████████████████████████████████████▎                                                                              | 257/572 [40:04<35:59,  6.86s/it]"
     ]
    },
    {
     "name": "stdout",
     "output_type": "stream",
     "text": [
      "2023-10-16 01:19:21,242 INFO image_writer.py:197 - writing: /home/vlermakov/Development/Nodules/Nodule-Detection-LUNA2016/processed_data_full_range_075mm_fixed/Neyakbray__63504cd166c41709abccd379-5769b5c17b3d3ce9-2/Neyakbray__63504cd166c41709abccd379-5769b5c17b3d3ce9-2_image_0.nii.gz\n",
      "2023-10-16 01:19:21,576 INFO image_writer.py:197 - writing: /home/vlermakov/Development/Nodules/Nodule-Detection-LUNA2016/processed_data_full_range_075mm_fixed/Neyakbray__63504cd166c41709abccd379-5769b5c17b3d3ce9-2/Neyakbray__63504cd166c41709abccd379-5769b5c17b3d3ce9-2_mask_0.nii.gz\n"
     ]
    },
    {
     "name": "stderr",
     "output_type": "stream",
     "text": [
      "\r",
      "Loading dataset:  45%|████████████████████████████████████████████████████████████████▌                                                                              | 258/572 [40:11<36:06,  6.90s/it]"
     ]
    },
    {
     "name": "stdout",
     "output_type": "stream",
     "text": [
      "2023-10-16 01:19:28,638 INFO image_writer.py:197 - writing: /home/vlermakov/Development/Nodules/Nodule-Detection-LUNA2016/processed_data_full_range_075mm_fixed/Rumegud__6399edd1a332880990fb194c-3ea420ba383d61dd-32/Rumegud__6399edd1a332880990fb194c-3ea420ba383d61dd-32_image_0.nii.gz\n",
      "2023-10-16 01:19:28,969 INFO image_writer.py:197 - writing: /home/vlermakov/Development/Nodules/Nodule-Detection-LUNA2016/processed_data_full_range_075mm_fixed/Rumegud__6399edd1a332880990fb194c-3ea420ba383d61dd-32/Rumegud__6399edd1a332880990fb194c-3ea420ba383d61dd-32_mask_0.nii.gz\n"
     ]
    },
    {
     "name": "stderr",
     "output_type": "stream",
     "text": [
      "\r",
      "Loading dataset:  45%|████████████████████████████████████████████████████████████████▊                                                                              | 259/572 [40:18<36:37,  7.02s/it]"
     ]
    },
    {
     "name": "stdout",
     "output_type": "stream",
     "text": [
      "2023-10-16 01:19:44,604 INFO image_writer.py:197 - writing: /home/vlermakov/Development/Nodules/Nodule-Detection-LUNA2016/processed_data_full_range_075mm_fixed/Bluplugu__6356a12c9846c7098da55273-2820719388ad13c0-2/Bluplugu__6356a12c9846c7098da55273-2820719388ad13c0-2_image_0.nii.gz\n",
      "2023-10-16 01:19:44,976 INFO image_writer.py:197 - writing: /home/vlermakov/Development/Nodules/Nodule-Detection-LUNA2016/processed_data_full_range_075mm_fixed/Bluplugu__6356a12c9846c7098da55273-2820719388ad13c0-2/Bluplugu__6356a12c9846c7098da55273-2820719388ad13c0-2_mask_0.nii.gz\n",
      "2023-10-16 01:19:59,100 INFO image_writer.py:197 - writing: /home/vlermakov/Development/Nodules/Nodule-Detection-LUNA2016/processed_data_full_range_075mm_fixed/Latuque__63a5e9bc1c6c060977cfb03f-e525c52f29f25102-2/Latuque__63a5e9bc1c6c060977cfb03f-e525c52f29f25102-2_image_0.nii.gz\n",
      "2023-10-16 01:19:59,125 INFO image_writer.py:197 - writing: /home/vlermakov/Development/Nodules/Nodule-Detection-LUNA2016/processed_data_full_range_075mm_fixed/Latuque__63a5e9bc1c6c060977cfb03f-e525c52f29f25102-16/Latuque__63a5e9bc1c6c060977cfb03f-e525c52f29f25102-16_image_0.nii.gz\n",
      "2023-10-16 01:19:59,235 INFO image_writer.py:197 - writing: /home/vlermakov/Development/Nodules/Nodule-Detection-LUNA2016/processed_data_full_range_075mm_fixed/Latuque__63a5e9bc1c6c060977cfb03f-e525c52f29f25102-2/Latuque__63a5e9bc1c6c060977cfb03f-e525c52f29f25102-2_mask_0.nii.gz\n",
      "2023-10-16 01:19:59,356 INFO image_writer.py:197 - writing: /home/vlermakov/Development/Nodules/Nodule-Detection-LUNA2016/processed_data_full_range_075mm_fixed/Latuque__63a5e9bc1c6c060977cfb03f-e525c52f29f25102-16/Latuque__63a5e9bc1c6c060977cfb03f-e525c52f29f25102-16_mask_0.nii.gz\n",
      "2023-10-16 01:20:04,264 INFO image_writer.py:197 - writing: /home/vlermakov/Development/Nodules/Nodule-Detection-LUNA2016/processed_data_full_range_075mm_fixed/Bluplugu__6356a12c9846c7098da55273-2820719388ad13c0-1/Bluplugu__6356a12c9846c7098da55273-2820719388ad13c0-1_image_0.nii.gz\n",
      "2023-10-16 01:20:07,964 INFO image_writer.py:197 - writing: /home/vlermakov/Development/Nodules/Nodule-Detection-LUNA2016/processed_data_full_range_075mm_fixed/Nadiefi__63b5f737889c670962f585ec-b6f1a36cef14e6d3-1/Nadiefi__63b5f737889c670962f585ec-b6f1a36cef14e6d3-1_image_0.nii.gz\n",
      "2023-10-16 01:20:07,995 INFO image_writer.py:197 - writing: /home/vlermakov/Development/Nodules/Nodule-Detection-LUNA2016/processed_data_full_range_075mm_fixed/Bluplugu__6356a12c9846c7098da55273-2820719388ad13c0-1/Bluplugu__6356a12c9846c7098da55273-2820719388ad13c0-1_mask_0.nii.gz\n",
      "2023-10-16 01:20:08,060 INFO image_writer.py:197 - writing: /home/vlermakov/Development/Nodules/Nodule-Detection-LUNA2016/processed_data_full_range_075mm_fixed/Nadiefi__63b5f737889c670962f585ec-b6f1a36cef14e6d3-1/Nadiefi__63b5f737889c670962f585ec-b6f1a36cef14e6d3-1_mask_0.nii.gz\n",
      "2023-10-16 01:20:15,134 INFO image_writer.py:197 - writing: /home/vlermakov/Development/Nodules/Nodule-Detection-LUNA2016/processed_data_full_range_075mm_fixed/Nadiefi__63b5f737889c670962f585ec-b6f1a36cef14e6d3-2/Nadiefi__63b5f737889c670962f585ec-b6f1a36cef14e6d3-2_image_0.nii.gz\n",
      "2023-10-16 01:20:15,408 INFO image_writer.py:197 - writing: /home/vlermakov/Development/Nodules/Nodule-Detection-LUNA2016/processed_data_full_range_075mm_fixed/Rumegud__6399edd1a332880990fb194c-3ea420ba383d61dd-26/Rumegud__6399edd1a332880990fb194c-3ea420ba383d61dd-26_image_0.nii.gz\n",
      "2023-10-16 01:20:16,123 INFO image_writer.py:197 - writing: /home/vlermakov/Development/Nodules/Nodule-Detection-LUNA2016/processed_data_full_range_075mm_fixed/Nadiefi__63b5f737889c670962f585ec-b6f1a36cef14e6d3-2/Nadiefi__63b5f737889c670962f585ec-b6f1a36cef14e6d3-2_mask_0.nii.gz\n",
      "2023-10-16 01:20:16,294 INFO image_writer.py:197 - writing: /home/vlermakov/Development/Nodules/Nodule-Detection-LUNA2016/processed_data_full_range_075mm_fixed/Rumegud__6399edd1a332880990fb194c-3ea420ba383d61dd-26/Rumegud__6399edd1a332880990fb194c-3ea420ba383d61dd-26_mask_0.nii.gz\n"
     ]
    },
    {
     "name": "stderr",
     "output_type": "stream",
     "text": [
      "Loading dataset:  46%|████████████████████████████████████████████████████████████████▎                                                                            | 261/572 [41:10<1:13:31, 14.18s/it]"
     ]
    },
    {
     "name": "stdout",
     "output_type": "stream",
     "text": [
      "2023-10-16 01:20:28,314 INFO image_writer.py:197 - writing: /home/vlermakov/Development/Nodules/Nodule-Detection-LUNA2016/processed_data_full_range_075mm_fixed/Latuque__63a5e9bc1c6c060977cfb03f-e525c52f29f25102-14/Latuque__63a5e9bc1c6c060977cfb03f-e525c52f29f25102-14_image_0.nii.gz\n",
      "2023-10-16 01:20:28,510 INFO image_writer.py:197 - writing: /home/vlermakov/Development/Nodules/Nodule-Detection-LUNA2016/processed_data_full_range_075mm_fixed/Latuque__63a5e9bc1c6c060977cfb03f-e525c52f29f25102-14/Latuque__63a5e9bc1c6c060977cfb03f-e525c52f29f25102-14_mask_0.nii.gz\n"
     ]
    },
    {
     "name": "stderr",
     "output_type": "stream",
     "text": [
      "\r",
      "Loading dataset:  47%|██████████████████████████████████████████████████████████████████▊                                                                            | 267/572 [41:13<22:32,  4.44s/it]"
     ]
    },
    {
     "name": "stdout",
     "output_type": "stream",
     "text": [
      "2023-10-16 01:20:48,015 INFO image_writer.py:197 - writing: /home/vlermakov/Development/Nodules/Nodule-Detection-LUNA2016/processed_data_full_range_075mm_fixed/Latuque__63a5e9bc1c6c060977cfb03f-e525c52f29f25102-5/Latuque__63a5e9bc1c6c060977cfb03f-e525c52f29f25102-5_image_0.nii.gz\n",
      "2023-10-16 01:20:48,041 INFO image_writer.py:197 - writing: /home/vlermakov/Development/Nodules/Nodule-Detection-LUNA2016/processed_data_full_range_075mm_fixed/Latuque__63a5e9bc1c6c060977cfb03f-e525c52f29f25102-12/Latuque__63a5e9bc1c6c060977cfb03f-e525c52f29f25102-12_image_0.nii.gz\n",
      "2023-10-16 01:20:48,228 INFO image_writer.py:197 - writing: /home/vlermakov/Development/Nodules/Nodule-Detection-LUNA2016/processed_data_full_range_075mm_fixed/Latuque__63a5e9bc1c6c060977cfb03f-e525c52f29f25102-5/Latuque__63a5e9bc1c6c060977cfb03f-e525c52f29f25102-5_mask_0.nii.gz\n",
      "2023-10-16 01:20:48,244 INFO image_writer.py:197 - writing: /home/vlermakov/Development/Nodules/Nodule-Detection-LUNA2016/processed_data_full_range_075mm_fixed/Latuque__63a5e9bc1c6c060977cfb03f-e525c52f29f25102-12/Latuque__63a5e9bc1c6c060977cfb03f-e525c52f29f25102-12_mask_0.nii.gz\n",
      "2023-10-16 01:20:48,264 INFO image_writer.py:197 - writing: /home/vlermakov/Development/Nodules/Nodule-Detection-LUNA2016/processed_data_full_range_075mm_fixed/Latuque__63a5e9bc1c6c060977cfb03f-e525c52f29f25102-3/Latuque__63a5e9bc1c6c060977cfb03f-e525c52f29f25102-3_image_0.nii.gz\n",
      "2023-10-16 01:20:54,419 INFO image_writer.py:197 - writing: /home/vlermakov/Development/Nodules/Nodule-Detection-LUNA2016/processed_data_full_range_075mm_fixed/Latuque__63a5e9bc1c6c060977cfb03f-e525c52f29f25102-3/Latuque__63a5e9bc1c6c060977cfb03f-e525c52f29f25102-3_mask_0.nii.gz\n",
      "2023-10-16 01:21:03,460 INFO image_writer.py:197 - writing: /home/vlermakov/Development/Nodules/Nodule-Detection-LUNA2016/processed_data_full_range_075mm_fixed/Latuque__63a5e9bc1c6c060977cfb03f-e525c52f29f25102-6/Latuque__63a5e9bc1c6c060977cfb03f-e525c52f29f25102-6_image_0.nii.gz\n",
      "2023-10-16 01:21:03,470 INFO image_writer.py:197 - writing: /home/vlermakov/Development/Nodules/Nodule-Detection-LUNA2016/processed_data_full_range_075mm_fixed/Latuque__63a5e9bc1c6c060977cfb03f-e525c52f29f25102-10/Latuque__63a5e9bc1c6c060977cfb03f-e525c52f29f25102-10_image_0.nii.gz\n",
      "2023-10-16 01:21:03,688 INFO image_writer.py:197 - writing: /home/vlermakov/Development/Nodules/Nodule-Detection-LUNA2016/processed_data_full_range_075mm_fixed/Latuque__63a5e9bc1c6c060977cfb03f-e525c52f29f25102-6/Latuque__63a5e9bc1c6c060977cfb03f-e525c52f29f25102-6_mask_0.nii.gz\n",
      "2023-10-16 01:21:03,690 INFO image_writer.py:197 - writing: /home/vlermakov/Development/Nodules/Nodule-Detection-LUNA2016/processed_data_full_range_075mm_fixed/Latuque__63a5e9bc1c6c060977cfb03f-e525c52f29f25102-10/Latuque__63a5e9bc1c6c060977cfb03f-e525c52f29f25102-10_mask_0.nii.gz\n"
     ]
    },
    {
     "name": "stderr",
     "output_type": "stream",
     "text": [
      "Loading dataset:  47%|███████████████████████████████████████████████████████████████████▎                                                                           | 269/572 [41:56<43:03,  8.53s/it]"
     ]
    },
    {
     "name": "stdout",
     "output_type": "stream",
     "text": [
      "2023-10-16 01:21:45,269 INFO image_writer.py:197 - writing: /home/vlermakov/Development/Nodules/Nodule-Detection-LUNA2016/processed_data_full_range_075mm_fixed/Tobikod__6397c11ecd336609a6555a68-2947be13ce08a651-5/Tobikod__6397c11ecd336609a6555a68-2947be13ce08a651-5_image_0.nii.gz\n",
      "2023-10-16 01:21:45,629 INFO image_writer.py:197 - writing: /home/vlermakov/Development/Nodules/Nodule-Detection-LUNA2016/processed_data_full_range_075mm_fixed/Tobikod__6397c11ecd336609a6555a68-2947be13ce08a651-5/Tobikod__6397c11ecd336609a6555a68-2947be13ce08a651-5_mask_0.nii.gz\n",
      "2023-10-16 01:21:45,876 INFO image_writer.py:197 - writing: /home/vlermakov/Development/Nodules/Nodule-Detection-LUNA2016/processed_data_full_range_075mm_fixed/Tobikod__6397c11ecd336609a6555a68-2947be13ce08a651-1/Tobikod__6397c11ecd336609a6555a68-2947be13ce08a651-1_image_0.nii.gz\n",
      "2023-10-16 01:21:46,041 INFO image_writer.py:197 - writing: /home/vlermakov/Development/Nodules/Nodule-Detection-LUNA2016/processed_data_full_range_075mm_fixed/Tobikod__6397c11ecd336609a6555a68-2947be13ce08a651-1/Tobikod__6397c11ecd336609a6555a68-2947be13ce08a651-1_mask_0.nii.gz\n"
     ]
    },
    {
     "name": "stderr",
     "output_type": "stream",
     "text": [
      "Loading dataset:  48%|████████████████████████████████████████████████████████████████████▌                                                                          | 274/572 [42:36<40:00,  8.05s/it]"
     ]
    },
    {
     "name": "stdout",
     "output_type": "stream",
     "text": [
      "2023-10-16 01:21:58,049 INFO image_writer.py:197 - writing: /home/vlermakov/Development/Nodules/Nodule-Detection-LUNA2016/processed_data_full_range_075mm_fixed/Jablomi__63703b5bf3dfc10a08168731-f9267d1ecbafd8ec-3/Jablomi__63703b5bf3dfc10a08168731-f9267d1ecbafd8ec-3_image_0.nii.gz\n",
      "2023-10-16 01:21:58,123 INFO image_writer.py:197 - writing: /home/vlermakov/Development/Nodules/Nodule-Detection-LUNA2016/processed_data_full_range_075mm_fixed/Jablomi__63703b5bf3dfc10a08168731-f9267d1ecbafd8ec-6/Jablomi__63703b5bf3dfc10a08168731-f9267d1ecbafd8ec-6_image_0.nii.gz\n",
      "2023-10-16 01:21:58,300 INFO image_writer.py:197 - writing: /home/vlermakov/Development/Nodules/Nodule-Detection-LUNA2016/processed_data_full_range_075mm_fixed/Jablomi__63703b5bf3dfc10a08168731-f9267d1ecbafd8ec-1/Jablomi__63703b5bf3dfc10a08168731-f9267d1ecbafd8ec-1_image_0.nii.gz\n",
      "2023-10-16 01:21:58,582 INFO image_writer.py:197 - writing: /home/vlermakov/Development/Nodules/Nodule-Detection-LUNA2016/processed_data_full_range_075mm_fixed/Jablomi__63703b5bf3dfc10a08168731-f9267d1ecbafd8ec-3/Jablomi__63703b5bf3dfc10a08168731-f9267d1ecbafd8ec-3_mask_0.nii.gz\n",
      "2023-10-16 01:21:59,684 INFO image_writer.py:197 - writing: /home/vlermakov/Development/Nodules/Nodule-Detection-LUNA2016/processed_data_full_range_075mm_fixed/Jablomi__63703b5bf3dfc10a08168731-f9267d1ecbafd8ec-1/Jablomi__63703b5bf3dfc10a08168731-f9267d1ecbafd8ec-1_mask_0.nii.gz\n",
      "2023-10-16 01:21:59,786 INFO image_writer.py:197 - writing: /home/vlermakov/Development/Nodules/Nodule-Detection-LUNA2016/processed_data_full_range_075mm_fixed/Jablomi__63703b5bf3dfc10a08168731-f9267d1ecbafd8ec-6/Jablomi__63703b5bf3dfc10a08168731-f9267d1ecbafd8ec-6_mask_0.nii.gz\n",
      "2023-10-16 01:22:18,324 INFO image_writer.py:197 - writing: /home/vlermakov/Development/Nodules/Nodule-Detection-LUNA2016/processed_data_full_range_075mm_fixed/Tobikod__6397c11ecd336609a6555a68-2947be13ce08a651-3/Tobikod__6397c11ecd336609a6555a68-2947be13ce08a651-3_image_0.nii.gz\n",
      "2023-10-16 01:22:18,371 INFO image_writer.py:197 - writing: /home/vlermakov/Development/Nodules/Nodule-Detection-LUNA2016/processed_data_full_range_075mm_fixed/Pokasol__63a361ddb7173909c54c2132-5d701ce098b9a018-3/Pokasol__63a361ddb7173909c54c2132-5d701ce098b9a018-3_image_0.nii.gz\n",
      "2023-10-16 01:22:18,440 INFO image_writer.py:197 - writing: /home/vlermakov/Development/Nodules/Nodule-Detection-LUNA2016/processed_data_full_range_075mm_fixed/Pokasol__63a361ddb7173909c54c2132-5d701ce098b9a018-14/Pokasol__63a361ddb7173909c54c2132-5d701ce098b9a018-14_image_0.nii.gz\n",
      "2023-10-16 01:22:18,508 INFO image_writer.py:197 - writing: /home/vlermakov/Development/Nodules/Nodule-Detection-LUNA2016/processed_data_full_range_075mm_fixed/Tobikod__6397c11ecd336609a6555a68-2947be13ce08a651-3/Tobikod__6397c11ecd336609a6555a68-2947be13ce08a651-3_mask_0.nii.gz\n",
      "2023-10-16 01:22:18,564 INFO image_writer.py:197 - writing: /home/vlermakov/Development/Nodules/Nodule-Detection-LUNA2016/processed_data_full_range_075mm_fixed/Pokasol__63a361ddb7173909c54c2132-5d701ce098b9a018-3/Pokasol__63a361ddb7173909c54c2132-5d701ce098b9a018-3_mask_0.nii.gz\n",
      "2023-10-16 01:22:18,617 INFO image_writer.py:197 - writing: /home/vlermakov/Development/Nodules/Nodule-Detection-LUNA2016/processed_data_full_range_075mm_fixed/Pokasol__63a361ddb7173909c54c2132-5d701ce098b9a018-14/Pokasol__63a361ddb7173909c54c2132-5d701ce098b9a018-14_mask_0.nii.gz\n"
     ]
    },
    {
     "name": "stderr",
     "output_type": "stream",
     "text": [
      "Loading dataset:  48%|█████████████████████████████████████████████████████████████████████▎                                                                         | 277/572 [43:17<48:20,  9.83s/it]"
     ]
    },
    {
     "name": "stdout",
     "output_type": "stream",
     "text": [
      "2023-10-16 01:22:59,159 INFO image_writer.py:197 - writing: /home/vlermakov/Development/Nodules/Nodule-Detection-LUNA2016/processed_data_full_range_075mm_fixed/Abirief__639509265dd6b409c81ccbc9-fbfa15ed1f7b14ea-10/Abirief__639509265dd6b409c81ccbc9-fbfa15ed1f7b14ea-10_image_0.nii.gz\n",
      "2023-10-16 01:22:59,315 INFO image_writer.py:197 - writing: /home/vlermakov/Development/Nodules/Nodule-Detection-LUNA2016/processed_data_full_range_075mm_fixed/Abirief__639509265dd6b409c81ccbc9-fbfa15ed1f7b14ea-10/Abirief__639509265dd6b409c81ccbc9-fbfa15ed1f7b14ea-10_mask_0.nii.gz\n",
      "2023-10-16 01:23:04,205 INFO image_writer.py:197 - writing: /home/vlermakov/Development/Nodules/Nodule-Detection-LUNA2016/processed_data_full_range_075mm_fixed/Ibapquif__63995fcb65341909bf8fb3c7-f9c6948151cf1a05-1/Ibapquif__63995fcb65341909bf8fb3c7-f9c6948151cf1a05-1_image_0.nii.gz\n",
      "2023-10-16 01:23:04,571 INFO image_writer.py:197 - writing: /home/vlermakov/Development/Nodules/Nodule-Detection-LUNA2016/processed_data_full_range_075mm_fixed/Ibapquif__63995fcb65341909bf8fb3c7-f9c6948151cf1a05-1/Ibapquif__63995fcb65341909bf8fb3c7-f9c6948151cf1a05-1_mask_0.nii.gz\n",
      "2023-10-16 01:23:09,156 INFO image_writer.py:197 - writing: /home/vlermakov/Development/Nodules/Nodule-Detection-LUNA2016/processed_data_full_range_075mm_fixed/Reetosee__636abfe5f5121d09858b501b-30bfc1407ff6db2d-3/Reetosee__636abfe5f5121d09858b501b-30bfc1407ff6db2d-3_image_0.nii.gz\n",
      "2023-10-16 01:23:09,177 INFO image_writer.py:197 - writing: /home/vlermakov/Development/Nodules/Nodule-Detection-LUNA2016/processed_data_full_range_075mm_fixed/Reetosee__636abfe5f5121d09858b501b-30bfc1407ff6db2d-10/Reetosee__636abfe5f5121d09858b501b-30bfc1407ff6db2d-10_image_0.nii.gz\n",
      "2023-10-16 01:23:09,252 INFO image_writer.py:197 - writing: /home/vlermakov/Development/Nodules/Nodule-Detection-LUNA2016/processed_data_full_range_075mm_fixed/Ibapquif__63995fcb65341909bf8fb3c7-f9c6948151cf1a05-3/Ibapquif__63995fcb65341909bf8fb3c7-f9c6948151cf1a05-3_image_0.nii.gz\n",
      "2023-10-16 01:23:09,334 INFO image_writer.py:197 - writing: /home/vlermakov/Development/Nodules/Nodule-Detection-LUNA2016/processed_data_full_range_075mm_fixed/Pokasol__63a361ddb7173909c54c2132-5d701ce098b9a018-7/Pokasol__63a361ddb7173909c54c2132-5d701ce098b9a018-7_image_0.nii.gz\n",
      "2023-10-16 01:23:09,407 INFO image_writer.py:197 - writing: /home/vlermakov/Development/Nodules/Nodule-Detection-LUNA2016/processed_data_full_range_075mm_fixed/Reetosee__636abfe5f5121d09858b501b-30bfc1407ff6db2d-10/Reetosee__636abfe5f5121d09858b501b-30bfc1407ff6db2d-10_mask_0.nii.gz\n",
      "2023-10-16 01:23:09,408 INFO image_writer.py:197 - writing: /home/vlermakov/Development/Nodules/Nodule-Detection-LUNA2016/processed_data_full_range_075mm_fixed/Reetosee__636abfe5f5121d09858b501b-30bfc1407ff6db2d-3/Reetosee__636abfe5f5121d09858b501b-30bfc1407ff6db2d-3_mask_0.nii.gz\n",
      "2023-10-16 01:23:09,469 INFO image_writer.py:197 - writing: /home/vlermakov/Development/Nodules/Nodule-Detection-LUNA2016/processed_data_full_range_075mm_fixed/Ibapquif__63995fcb65341909bf8fb3c7-f9c6948151cf1a05-3/Ibapquif__63995fcb65341909bf8fb3c7-f9c6948151cf1a05-3_mask_0.nii.gz\n",
      "2023-10-16 01:23:09,541 INFO image_writer.py:197 - writing: /home/vlermakov/Development/Nodules/Nodule-Detection-LUNA2016/processed_data_full_range_075mm_fixed/Pokasol__63a361ddb7173909c54c2132-5d701ce098b9a018-7/Pokasol__63a361ddb7173909c54c2132-5d701ce098b9a018-7_mask_0.nii.gz\n"
     ]
    },
    {
     "name": "stderr",
     "output_type": "stream",
     "text": [
      "Loading dataset:  49%|██████████████████████████████████████████████████████████████████████▊                                                                        | 283/572 [44:08<38:39,  8.03s/it]"
     ]
    },
    {
     "name": "stdout",
     "output_type": "stream",
     "text": [
      "2023-10-16 01:23:55,221 INFO image_writer.py:197 - writing: /home/vlermakov/Development/Nodules/Nodule-Detection-LUNA2016/processed_data_full_range_075mm_fixed/Ceeporu__639d1d420a684d09fd8b2b10-d1543343abaf3866-1/Ceeporu__639d1d420a684d09fd8b2b10-d1543343abaf3866-1_image_0.nii.gz\n",
      "2023-10-16 01:23:55,773 INFO image_writer.py:197 - writing: /home/vlermakov/Development/Nodules/Nodule-Detection-LUNA2016/processed_data_full_range_075mm_fixed/Ceeporu__639d1d420a684d09fd8b2b10-d1543343abaf3866-1/Ceeporu__639d1d420a684d09fd8b2b10-d1543343abaf3866-1_mask_0.nii.gz\n",
      "2023-10-16 01:24:01,305 INFO image_writer.py:197 - writing: /home/vlermakov/Development/Nodules/Nodule-Detection-LUNA2016/processed_data_full_range_075mm_fixed/Helistbrey__634f41931f5d7a09bb888fae-3dc8c0b9f8d95a2f-8/Helistbrey__634f41931f5d7a09bb888fae-3dc8c0b9f8d95a2f-8_image_0.nii.gz\n",
      "2023-10-16 01:24:02,189 INFO image_writer.py:197 - writing: /home/vlermakov/Development/Nodules/Nodule-Detection-LUNA2016/processed_data_full_range_075mm_fixed/Helistbrey__634f41931f5d7a09bb888fae-3dc8c0b9f8d95a2f-8/Helistbrey__634f41931f5d7a09bb888fae-3dc8c0b9f8d95a2f-8_mask_0.nii.gz\n"
     ]
    },
    {
     "name": "stderr",
     "output_type": "stream",
     "text": [
      "\r",
      "Loading dataset:  50%|███████████████████████████████████████████████████████████████████████▊                                                                       | 287/572 [44:47<42:21,  8.92s/it]"
     ]
    },
    {
     "name": "stdout",
     "output_type": "stream",
     "text": [
      "2023-10-16 01:24:06,246 INFO image_writer.py:197 - writing: /home/vlermakov/Development/Nodules/Nodule-Detection-LUNA2016/processed_data_full_range_075mm_fixed/Helistbrey__634f41931f5d7a09bb888fae-3dc8c0b9f8d95a2f-19/Helistbrey__634f41931f5d7a09bb888fae-3dc8c0b9f8d95a2f-19_image_0.nii.gz\n",
      "2023-10-16 01:24:06,799 INFO image_writer.py:197 - writing: /home/vlermakov/Development/Nodules/Nodule-Detection-LUNA2016/processed_data_full_range_075mm_fixed/Ceeporu__639d1d420a684d09fd8b2b10-d1543343abaf3866-3/Ceeporu__639d1d420a684d09fd8b2b10-d1543343abaf3866-3_image_0.nii.gz\n",
      "2023-10-16 01:24:06,811 INFO image_writer.py:197 - writing: /home/vlermakov/Development/Nodules/Nodule-Detection-LUNA2016/processed_data_full_range_075mm_fixed/Helistbrey__634f41931f5d7a09bb888fae-3dc8c0b9f8d95a2f-19/Helistbrey__634f41931f5d7a09bb888fae-3dc8c0b9f8d95a2f-19_mask_0.nii.gz\n",
      "2023-10-16 01:24:06,900 INFO image_writer.py:197 - writing: /home/vlermakov/Development/Nodules/Nodule-Detection-LUNA2016/processed_data_full_range_075mm_fixed/Ceeporu__639d1d420a684d09fd8b2b10-d1543343abaf3866-5/Ceeporu__639d1d420a684d09fd8b2b10-d1543343abaf3866-5_image_0.nii.gz\n",
      "2023-10-16 01:24:06,901 INFO image_writer.py:197 - writing: /home/vlermakov/Development/Nodules/Nodule-Detection-LUNA2016/processed_data_full_range_075mm_fixed/Ceeporu__639d1d420a684d09fd8b2b10-d1543343abaf3866-4/Ceeporu__639d1d420a684d09fd8b2b10-d1543343abaf3866-4_image_0.nii.gz\n",
      "2023-10-16 01:24:06,902 INFO image_writer.py:197 - writing: /home/vlermakov/Development/Nodules/Nodule-Detection-LUNA2016/processed_data_full_range_075mm_fixed/Jezoni__634a0b722845520d526c8893-d2fcfb4c589c59ec-1/Jezoni__634a0b722845520d526c8893-d2fcfb4c589c59ec-1_image_0.nii.gz\n",
      "2023-10-16 01:24:06,925 INFO image_writer.py:197 - writing: /home/vlermakov/Development/Nodules/Nodule-Detection-LUNA2016/processed_data_full_range_075mm_fixed/Ceeporu__639d1d420a684d09fd8b2b10-d1543343abaf3866-7/Ceeporu__639d1d420a684d09fd8b2b10-d1543343abaf3866-7_image_0.nii.gz\n",
      "2023-10-16 01:24:07,027 INFO image_writer.py:197 - writing: /home/vlermakov/Development/Nodules/Nodule-Detection-LUNA2016/processed_data_full_range_075mm_fixed/Ceeporu__639d1d420a684d09fd8b2b10-d1543343abaf3866-4/Ceeporu__639d1d420a684d09fd8b2b10-d1543343abaf3866-4_mask_0.nii.gz\n",
      "2023-10-16 01:24:07,032 INFO image_writer.py:197 - writing: /home/vlermakov/Development/Nodules/Nodule-Detection-LUNA2016/processed_data_full_range_075mm_fixed/Ceeporu__639d1d420a684d09fd8b2b10-d1543343abaf3866-7/Ceeporu__639d1d420a684d09fd8b2b10-d1543343abaf3866-7_mask_0.nii.gz\n",
      "2023-10-16 01:24:07,041 INFO image_writer.py:197 - writing: /home/vlermakov/Development/Nodules/Nodule-Detection-LUNA2016/processed_data_full_range_075mm_fixed/Ceeporu__639d1d420a684d09fd8b2b10-d1543343abaf3866-3/Ceeporu__639d1d420a684d09fd8b2b10-d1543343abaf3866-3_mask_0.nii.gz\n",
      "2023-10-16 01:24:07,046 INFO image_writer.py:197 - writing: /home/vlermakov/Development/Nodules/Nodule-Detection-LUNA2016/processed_data_full_range_075mm_fixed/Ceeporu__639d1d420a684d09fd8b2b10-d1543343abaf3866-5/Ceeporu__639d1d420a684d09fd8b2b10-d1543343abaf3866-5_mask_0.nii.gz\n"
     ]
    },
    {
     "name": "stderr",
     "output_type": "stream",
     "text": [
      "Loading dataset:  51%|████████████████████████████████████████████████████████████████████████▎                                                                      | 289/572 [44:55<34:27,  7.31s/it]"
     ]
    },
    {
     "name": "stdout",
     "output_type": "stream",
     "text": [
      "2023-10-16 01:24:10,408 INFO image_writer.py:197 - writing: /home/vlermakov/Development/Nodules/Nodule-Detection-LUNA2016/processed_data_full_range_075mm_fixed/Jezoni__634a0b722845520d526c8893-d2fcfb4c589c59ec-1/Jezoni__634a0b722845520d526c8893-d2fcfb4c589c59ec-1_mask_0.nii.gz\n"
     ]
    },
    {
     "name": "stderr",
     "output_type": "stream",
     "text": [
      "Loading dataset:  51%|█████████████████████████████████████████████████████████████████████████▌                                                                     | 294/572 [45:17<20:58,  4.53s/it]"
     ]
    },
    {
     "name": "stdout",
     "output_type": "stream",
     "text": [
      "2023-10-16 01:25:00,810 INFO image_writer.py:197 - writing: /home/vlermakov/Development/Nodules/Nodule-Detection-LUNA2016/processed_data_full_range_075mm_fixed/Jezoni__634a0b722845520d526c8893-d2fcfb4c589c59ec-3/Jezoni__634a0b722845520d526c8893-d2fcfb4c589c59ec-3_image_0.nii.gz\n",
      "2023-10-16 01:25:01,550 INFO image_writer.py:197 - writing: /home/vlermakov/Development/Nodules/Nodule-Detection-LUNA2016/processed_data_full_range_075mm_fixed/Jezoni__634a0b722845520d526c8893-d2fcfb4c589c59ec-5/Jezoni__634a0b722845520d526c8893-d2fcfb4c589c59ec-5_image_0.nii.gz\n",
      "2023-10-16 01:25:02,041 INFO image_writer.py:197 - writing: /home/vlermakov/Development/Nodules/Nodule-Detection-LUNA2016/processed_data_full_range_075mm_fixed/Jezoni__634a0b722845520d526c8893-d2fcfb4c589c59ec-3/Jezoni__634a0b722845520d526c8893-d2fcfb4c589c59ec-3_mask_0.nii.gz\n",
      "2023-10-16 01:25:02,295 INFO image_writer.py:197 - writing: /home/vlermakov/Development/Nodules/Nodule-Detection-LUNA2016/processed_data_full_range_075mm_fixed/Jezoni__634a0b722845520d526c8893-d2fcfb4c589c59ec-5/Jezoni__634a0b722845520d526c8893-d2fcfb4c589c59ec-5_mask_0.nii.gz\n"
     ]
    },
    {
     "name": "stderr",
     "output_type": "stream",
     "text": [
      "Loading dataset:  52%|██████████████████████████████████████████████████████████████████████████                                                                     | 296/572 [45:58<42:59,  9.35s/it]"
     ]
    },
    {
     "name": "stdout",
     "output_type": "stream",
     "text": [
      "2023-10-16 01:25:16,119 INFO image_writer.py:197 - writing: /home/vlermakov/Development/Nodules/Nodule-Detection-LUNA2016/processed_data_full_range_075mm_fixed/Jezoni__634a0b722845520d526c8893-d2fcfb4c589c59ec-2/Jezoni__634a0b722845520d526c8893-d2fcfb4c589c59ec-2_image_0.nii.gz\n",
      "2023-10-16 01:25:16,227 INFO image_writer.py:197 - writing: /home/vlermakov/Development/Nodules/Nodule-Detection-LUNA2016/processed_data_full_range_075mm_fixed/Jezoni__634a0b722845520d526c8893-d2fcfb4c589c59ec-4/Jezoni__634a0b722845520d526c8893-d2fcfb4c589c59ec-4_image_0.nii.gz\n",
      "2023-10-16 01:25:17,342 INFO image_writer.py:197 - writing: /home/vlermakov/Development/Nodules/Nodule-Detection-LUNA2016/processed_data_full_range_075mm_fixed/Cibami__635ab5b3cf95cd0a0267742d-cd900e4ec572b468-3/Cibami__635ab5b3cf95cd0a0267742d-cd900e4ec572b468-3_image_0.nii.gz\n",
      "2023-10-16 01:25:17,406 INFO image_writer.py:197 - writing: /home/vlermakov/Development/Nodules/Nodule-Detection-LUNA2016/processed_data_full_range_075mm_fixed/Jezoni__634a0b722845520d526c8893-d2fcfb4c589c59ec-2/Jezoni__634a0b722845520d526c8893-d2fcfb4c589c59ec-2_mask_0.nii.gz\n",
      "2023-10-16 01:25:17,426 INFO image_writer.py:197 - writing: /home/vlermakov/Development/Nodules/Nodule-Detection-LUNA2016/processed_data_full_range_075mm_fixed/Jezoni__634a0b722845520d526c8893-d2fcfb4c589c59ec-4/Jezoni__634a0b722845520d526c8893-d2fcfb4c589c59ec-4_mask_0.nii.gz\n",
      "2023-10-16 01:25:17,723 INFO image_writer.py:197 - writing: /home/vlermakov/Development/Nodules/Nodule-Detection-LUNA2016/processed_data_full_range_075mm_fixed/Cibami__635ab5b3cf95cd0a0267742d-cd900e4ec572b468-1/Cibami__635ab5b3cf95cd0a0267742d-cd900e4ec572b468-1_image_0.nii.gz\n"
     ]
    },
    {
     "name": "stderr",
     "output_type": "stream",
     "text": [
      "Loading dataset:  52%|██████████████████████████████████████████████████████████████████████████▌                                                                    | 298/572 [46:13<38:58,  8.53s/it]"
     ]
    },
    {
     "name": "stdout",
     "output_type": "stream",
     "text": [
      "2023-10-16 01:25:28,760 INFO image_writer.py:197 - writing: /home/vlermakov/Development/Nodules/Nodule-Detection-LUNA2016/processed_data_full_range_075mm_fixed/Cibami__635ab5b3cf95cd0a0267742d-cd900e4ec572b468-1/Cibami__635ab5b3cf95cd0a0267742d-cd900e4ec572b468-1_mask_0.nii.gz\n",
      "2023-10-16 01:25:28,760 INFO image_writer.py:197 - writing: /home/vlermakov/Development/Nodules/Nodule-Detection-LUNA2016/processed_data_full_range_075mm_fixed/Cibami__635ab5b3cf95cd0a0267742d-cd900e4ec572b468-3/Cibami__635ab5b3cf95cd0a0267742d-cd900e4ec572b468-3_mask_0.nii.gz\n"
     ]
    },
    {
     "name": "stderr",
     "output_type": "stream",
     "text": [
      "Loading dataset:  52%|███████████████████████████████████████████████████████████████████████████                                                                    | 300/572 [46:21<28:22,  6.26s/it]"
     ]
    },
    {
     "name": "stdout",
     "output_type": "stream",
     "text": [
      "2023-10-16 01:25:38,265 INFO image_writer.py:197 - writing: /home/vlermakov/Development/Nodules/Nodule-Detection-LUNA2016/processed_data_full_range_075mm_fixed/Hekkletub__636740a4a53f0e097775353c-64532eae9addf3cf-7/Hekkletub__636740a4a53f0e097775353c-64532eae9addf3cf-7_image_0.nii.gz\n",
      "2023-10-16 01:25:38,267 INFO image_writer.py:197 - writing: /home/vlermakov/Development/Nodules/Nodule-Detection-LUNA2016/processed_data_full_range_075mm_fixed/Bitikek__634dbdce2dbb1b09a5b051d8-669391d6f6592d55-5/Bitikek__634dbdce2dbb1b09a5b051d8-669391d6f6592d55-5_image_0.nii.gz\n",
      "2023-10-16 01:25:38,523 INFO image_writer.py:197 - writing: /home/vlermakov/Development/Nodules/Nodule-Detection-LUNA2016/processed_data_full_range_075mm_fixed/Hekkletub__636740a4a53f0e097775353c-64532eae9addf3cf-7/Hekkletub__636740a4a53f0e097775353c-64532eae9addf3cf-7_mask_0.nii.gz\n",
      "2023-10-16 01:25:38,539 INFO image_writer.py:197 - writing: /home/vlermakov/Development/Nodules/Nodule-Detection-LUNA2016/processed_data_full_range_075mm_fixed/Bitikek__634dbdce2dbb1b09a5b051d8-669391d6f6592d55-5/Bitikek__634dbdce2dbb1b09a5b051d8-669391d6f6592d55-5_mask_0.nii.gz\n"
     ]
    },
    {
     "name": "stderr",
     "output_type": "stream",
     "text": [
      "Loading dataset:  53%|███████████████████████████████████████████████████████████████████████████▌                                                                   | 302/572 [46:29<23:10,  5.15s/it]"
     ]
    },
    {
     "name": "stdout",
     "output_type": "stream",
     "text": [
      "2023-10-16 01:25:59,919 INFO image_writer.py:197 - writing: /home/vlermakov/Development/Nodules/Nodule-Detection-LUNA2016/processed_data_full_range_075mm_fixed/Bitikek__634dbdce2dbb1b09a5b051d8-669391d6f6592d55-1/Bitikek__634dbdce2dbb1b09a5b051d8-669391d6f6592d55-1_image_0.nii.gz\n",
      "2023-10-16 01:26:00,065 INFO image_writer.py:197 - writing: /home/vlermakov/Development/Nodules/Nodule-Detection-LUNA2016/processed_data_full_range_075mm_fixed/Bitikek__634dbdce2dbb1b09a5b051d8-669391d6f6592d55-1/Bitikek__634dbdce2dbb1b09a5b051d8-669391d6f6592d55-1_mask_0.nii.gz\n"
     ]
    },
    {
     "name": "stderr",
     "output_type": "stream",
     "text": [
      "\r",
      "Loading dataset:  53%|███████████████████████████████████████████████████████████████████████████▊                                                                   | 303/572 [46:45<37:23,  8.34s/it]"
     ]
    },
    {
     "name": "stdout",
     "output_type": "stream",
     "text": [
      "2023-10-16 01:26:15,352 INFO image_writer.py:197 - writing: /home/vlermakov/Development/Nodules/Nodule-Detection-LUNA2016/processed_data_full_range_075mm_fixed/Sesohi__6349fe832845520d526c888b-f0be251376613eae-1/Sesohi__6349fe832845520d526c888b-f0be251376613eae-1_image_0.nii.gz\n",
      "2023-10-16 01:26:15,636 INFO image_writer.py:197 - writing: /home/vlermakov/Development/Nodules/Nodule-Detection-LUNA2016/processed_data_full_range_075mm_fixed/Sesohi__6349fe832845520d526c888b-f0be251376613eae-1/Sesohi__6349fe832845520d526c888b-f0be251376613eae-1_mask_0.nii.gz\n",
      "2023-10-16 01:26:15,648 INFO image_writer.py:197 - writing: /home/vlermakov/Development/Nodules/Nodule-Detection-LUNA2016/processed_data_full_range_075mm_fixed/Alueroof__63618a171442a409c89dd26e-ce8afefe698e7611-1/Alueroof__63618a171442a409c89dd26e-ce8afefe698e7611-1_image_0.nii.gz\n",
      "2023-10-16 01:26:15,679 INFO image_writer.py:197 - writing: /home/vlermakov/Development/Nodules/Nodule-Detection-LUNA2016/processed_data_full_range_075mm_fixed/Alueroof__63618a171442a409c89dd26e-ce8afefe698e7611-2/Alueroof__63618a171442a409c89dd26e-ce8afefe698e7611-2_image_0.nii.gz\n",
      "2023-10-16 01:26:15,909 INFO image_writer.py:197 - writing: /home/vlermakov/Development/Nodules/Nodule-Detection-LUNA2016/processed_data_full_range_075mm_fixed/Alueroof__63618a171442a409c89dd26e-ce8afefe698e7611-1/Alueroof__63618a171442a409c89dd26e-ce8afefe698e7611-1_mask_0.nii.gz\n",
      "2023-10-16 01:26:19,170 INFO image_writer.py:197 - writing: /home/vlermakov/Development/Nodules/Nodule-Detection-LUNA2016/processed_data_full_range_075mm_fixed/Alueroof__63618a171442a409c89dd26e-ce8afefe698e7611-5/Alueroof__63618a171442a409c89dd26e-ce8afefe698e7611-5_image_0.nii.gz\n",
      "2023-10-16 01:26:19,206 INFO image_writer.py:197 - writing: /home/vlermakov/Development/Nodules/Nodule-Detection-LUNA2016/processed_data_full_range_075mm_fixed/Alueroof__63618a171442a409c89dd26e-ce8afefe698e7611-2/Alueroof__63618a171442a409c89dd26e-ce8afefe698e7611-2_mask_0.nii.gz\n",
      "2023-10-16 01:26:19,358 INFO image_writer.py:197 - writing: /home/vlermakov/Development/Nodules/Nodule-Detection-LUNA2016/processed_data_full_range_075mm_fixed/Alueroof__63618a171442a409c89dd26e-ce8afefe698e7611-5/Alueroof__63618a171442a409c89dd26e-ce8afefe698e7611-5_mask_0.nii.gz\n",
      "2023-10-16 01:26:25,756 INFO image_writer.py:197 - writing: /home/vlermakov/Development/Nodules/Nodule-Detection-LUNA2016/processed_data_full_range_075mm_fixed/Bitikek__634dbdce2dbb1b09a5b051d8-669391d6f6592d55-4/Bitikek__634dbdce2dbb1b09a5b051d8-669391d6f6592d55-4_image_0.nii.gz\n",
      "2023-10-16 01:26:25,794 INFO image_writer.py:197 - writing: /home/vlermakov/Development/Nodules/Nodule-Detection-LUNA2016/processed_data_full_range_075mm_fixed/Bitikek__634dbdce2dbb1b09a5b051d8-669391d6f6592d55-9/Bitikek__634dbdce2dbb1b09a5b051d8-669391d6f6592d55-9_image_0.nii.gz\n",
      "2023-10-16 01:26:29,475 INFO image_writer.py:197 - writing: /home/vlermakov/Development/Nodules/Nodule-Detection-LUNA2016/processed_data_full_range_075mm_fixed/Bitikek__634dbdce2dbb1b09a5b051d8-669391d6f6592d55-4/Bitikek__634dbdce2dbb1b09a5b051d8-669391d6f6592d55-4_mask_0.nii.gz\n",
      "2023-10-16 01:26:29,607 INFO image_writer.py:197 - writing: /home/vlermakov/Development/Nodules/Nodule-Detection-LUNA2016/processed_data_full_range_075mm_fixed/Bitikek__634dbdce2dbb1b09a5b051d8-669391d6f6592d55-9/Bitikek__634dbdce2dbb1b09a5b051d8-669391d6f6592d55-9_mask_0.nii.gz\n"
     ]
    },
    {
     "name": "stderr",
     "output_type": "stream",
     "text": [
      "Loading dataset:  53%|████████████████████████████████████████████████████████████████████████████▎                                                                  | 305/572 [47:24<58:23, 13.12s/it]"
     ]
    },
    {
     "name": "stdout",
     "output_type": "stream",
     "text": [
      "2023-10-16 01:26:41,185 INFO image_writer.py:197 - writing: /home/vlermakov/Development/Nodules/Nodule-Detection-LUNA2016/processed_data_full_range_075mm_fixed/Sesohi__6349fe832845520d526c888b-f0be251376613eae-2/Sesohi__6349fe832845520d526c888b-f0be251376613eae-2_image_0.nii.gz\n",
      "2023-10-16 01:26:41,536 INFO image_writer.py:197 - writing: /home/vlermakov/Development/Nodules/Nodule-Detection-LUNA2016/processed_data_full_range_075mm_fixed/Sesohi__6349fe832845520d526c888b-f0be251376613eae-2/Sesohi__6349fe832845520d526c888b-f0be251376613eae-2_mask_0.nii.gz\n"
     ]
    },
    {
     "name": "stderr",
     "output_type": "stream",
     "text": [
      "\r",
      "Loading dataset:  54%|█████████████████████████████████████████████████████████████████████████████▌                                                                 | 310/572 [47:26<19:22,  4.44s/it]"
     ]
    },
    {
     "name": "stdout",
     "output_type": "stream",
     "text": [
      "2023-10-16 01:27:04,908 INFO image_writer.py:197 - writing: /home/vlermakov/Development/Nodules/Nodule-Detection-LUNA2016/processed_data_full_range_075mm_fixed/Sesohi__6349fe832845520d526c888b-f0be251376613eae-5/Sesohi__6349fe832845520d526c888b-f0be251376613eae-5_image_0.nii.gz\n",
      "2023-10-16 01:27:04,972 INFO image_writer.py:197 - writing: /home/vlermakov/Development/Nodules/Nodule-Detection-LUNA2016/processed_data_full_range_075mm_fixed/Sesohi__6349fe832845520d526c888b-f0be251376613eae-3/Sesohi__6349fe832845520d526c888b-f0be251376613eae-3_image_0.nii.gz\n",
      "2023-10-16 01:27:05,150 INFO image_writer.py:197 - writing: /home/vlermakov/Development/Nodules/Nodule-Detection-LUNA2016/processed_data_full_range_075mm_fixed/Sesohi__6349fe832845520d526c888b-f0be251376613eae-5/Sesohi__6349fe832845520d526c888b-f0be251376613eae-5_mask_0.nii.gz\n",
      "2023-10-16 01:27:05,193 INFO image_writer.py:197 - writing: /home/vlermakov/Development/Nodules/Nodule-Detection-LUNA2016/processed_data_full_range_075mm_fixed/Sesohi__6349fe832845520d526c888b-f0be251376613eae-6/Sesohi__6349fe832845520d526c888b-f0be251376613eae-6_image_0.nii.gz\n",
      "2023-10-16 01:27:05,207 INFO image_writer.py:197 - writing: /home/vlermakov/Development/Nodules/Nodule-Detection-LUNA2016/processed_data_full_range_075mm_fixed/Sesohi__6349fe832845520d526c888b-f0be251376613eae-10/Sesohi__6349fe832845520d526c888b-f0be251376613eae-10_image_0.nii.gz\n"
     ]
    },
    {
     "name": "stderr",
     "output_type": "stream",
     "text": [
      "\r",
      "Loading dataset:  54%|█████████████████████████████████████████████████████████████████████████████▊                                                                 | 311/572 [47:54<35:43,  8.21s/it]"
     ]
    },
    {
     "name": "stdout",
     "output_type": "stream",
     "text": [
      "2023-10-16 01:27:09,644 INFO image_writer.py:197 - writing: /home/vlermakov/Development/Nodules/Nodule-Detection-LUNA2016/processed_data_full_range_075mm_fixed/Sesohi__6349fe832845520d526c888b-f0be251376613eae-3/Sesohi__6349fe832845520d526c888b-f0be251376613eae-3_mask_0.nii.gz\n",
      "2023-10-16 01:27:09,749 INFO image_writer.py:197 - writing: /home/vlermakov/Development/Nodules/Nodule-Detection-LUNA2016/processed_data_full_range_075mm_fixed/Sesohi__6349fe832845520d526c888b-f0be251376613eae-6/Sesohi__6349fe832845520d526c888b-f0be251376613eae-6_mask_0.nii.gz\n",
      "2023-10-16 01:27:09,780 INFO image_writer.py:197 - writing: /home/vlermakov/Development/Nodules/Nodule-Detection-LUNA2016/processed_data_full_range_075mm_fixed/Sesohi__6349fe832845520d526c888b-f0be251376613eae-10/Sesohi__6349fe832845520d526c888b-f0be251376613eae-10_mask_0.nii.gz\n"
     ]
    },
    {
     "name": "stderr",
     "output_type": "stream",
     "text": [
      "Loading dataset:  55%|██████████████████████████████████████████████████████████████████████████████▎                                                                | 313/572 [48:07<32:36,  7.55s/it]"
     ]
    },
    {
     "name": "stdout",
     "output_type": "stream",
     "text": [
      "2023-10-16 01:27:24,074 INFO image_writer.py:197 - writing: /home/vlermakov/Development/Nodules/Nodule-Detection-LUNA2016/processed_data_full_range_075mm_fixed/Sesohi__6349fe832845520d526c888b-f0be251376613eae-8/Sesohi__6349fe832845520d526c888b-f0be251376613eae-8_image_0.nii.gz\n",
      "2023-10-16 01:27:24,818 INFO image_writer.py:197 - writing: /home/vlermakov/Development/Nodules/Nodule-Detection-LUNA2016/processed_data_full_range_075mm_fixed/Sesohi__6349fe832845520d526c888b-f0be251376613eae-8/Sesohi__6349fe832845520d526c888b-f0be251376613eae-8_mask_0.nii.gz\n"
     ]
    },
    {
     "name": "stderr",
     "output_type": "stream",
     "text": [
      "\r",
      "Loading dataset:  55%|██████████████████████████████████████████████████████████████████████████████▊                                                                | 315/572 [48:10<22:02,  5.15s/it]"
     ]
    },
    {
     "name": "stdout",
     "output_type": "stream",
     "text": [
      "2023-10-16 01:27:33,727 INFO image_writer.py:197 - writing: /home/vlermakov/Development/Nodules/Nodule-Detection-LUNA2016/processed_data_full_range_075mm_fixed/Operil__63b6eff47ee6e2094cef706c-754dbf7fc997b340-4/Operil__63b6eff47ee6e2094cef706c-754dbf7fc997b340-4_image_0.nii.gz\n",
      "2023-10-16 01:27:33,953 INFO image_writer.py:197 - writing: /home/vlermakov/Development/Nodules/Nodule-Detection-LUNA2016/processed_data_full_range_075mm_fixed/Operil__63b6eff47ee6e2094cef706c-754dbf7fc997b340-4/Operil__63b6eff47ee6e2094cef706c-754dbf7fc997b340-4_mask_0.nii.gz\n",
      "2023-10-16 01:27:40,743 INFO image_writer.py:197 - writing: /home/vlermakov/Development/Nodules/Nodule-Detection-LUNA2016/processed_data_full_range_075mm_fixed/Operil__63b6eff47ee6e2094cef706c-754dbf7fc997b340-5/Operil__63b6eff47ee6e2094cef706c-754dbf7fc997b340-5_image_0.nii.gz\n",
      "2023-10-16 01:27:41,633 INFO image_writer.py:197 - writing: /home/vlermakov/Development/Nodules/Nodule-Detection-LUNA2016/processed_data_full_range_075mm_fixed/Operil__63b6eff47ee6e2094cef706c-754dbf7fc997b340-5/Operil__63b6eff47ee6e2094cef706c-754dbf7fc997b340-5_mask_0.nii.gz\n"
     ]
    },
    {
     "name": "stderr",
     "output_type": "stream",
     "text": [
      "\r",
      "Loading dataset:  55%|██████████████████████████████████████████████████████████████████████████████▉                                                                | 316/572 [48:32<37:19,  8.75s/it]"
     ]
    },
    {
     "name": "stdout",
     "output_type": "stream",
     "text": [
      "2023-10-16 01:28:02,506 INFO image_writer.py:197 - writing: /home/vlermakov/Development/Nodules/Nodule-Detection-LUNA2016/processed_data_full_range_075mm_fixed/Operil__63b6eff47ee6e2094cef706c-754dbf7fc997b340-6/Operil__63b6eff47ee6e2094cef706c-754dbf7fc997b340-6_image_0.nii.gz\n",
      "2023-10-16 01:28:02,739 INFO image_writer.py:197 - writing: /home/vlermakov/Development/Nodules/Nodule-Detection-LUNA2016/processed_data_full_range_075mm_fixed/Operil__63b6eff47ee6e2094cef706c-754dbf7fc997b340-6/Operil__63b6eff47ee6e2094cef706c-754dbf7fc997b340-6_mask_0.nii.gz\n",
      "2023-10-16 01:28:02,768 INFO image_writer.py:197 - writing: /home/vlermakov/Development/Nodules/Nodule-Detection-LUNA2016/processed_data_full_range_075mm_fixed/Operil__63b6eff47ee6e2094cef706c-754dbf7fc997b340-8/Operil__63b6eff47ee6e2094cef706c-754dbf7fc997b340-8_image_0.nii.gz\n",
      "2023-10-16 01:28:02,859 INFO image_writer.py:197 - writing: /home/vlermakov/Development/Nodules/Nodule-Detection-LUNA2016/processed_data_full_range_075mm_fixed/Operil__63b6eff47ee6e2094cef706c-754dbf7fc997b340-8/Operil__63b6eff47ee6e2094cef706c-754dbf7fc997b340-8_mask_0.nii.gz\n"
     ]
    },
    {
     "name": "stderr",
     "output_type": "stream",
     "text": [
      "Loading dataset:  56%|███████████████████████████████████████████████████████████████████████████████▊                                                               | 319/572 [48:52<31:51,  7.56s/it]"
     ]
    },
    {
     "name": "stdout",
     "output_type": "stream",
     "text": [
      "2023-10-16 01:28:27,490 INFO image_writer.py:197 - writing: /home/vlermakov/Development/Nodules/Nodule-Detection-LUNA2016/processed_data_full_range_075mm_fixed/Operil__63b6eff47ee6e2094cef706c-754dbf7fc997b340-11/Operil__63b6eff47ee6e2094cef706c-754dbf7fc997b340-11_image_0.nii.gz\n",
      "2023-10-16 01:28:27,802 INFO image_writer.py:197 - writing: /home/vlermakov/Development/Nodules/Nodule-Detection-LUNA2016/processed_data_full_range_075mm_fixed/Operil__63b6eff47ee6e2094cef706c-754dbf7fc997b340-2/Operil__63b6eff47ee6e2094cef706c-754dbf7fc997b340-2_image_0.nii.gz\n",
      "2023-10-16 01:28:27,901 INFO image_writer.py:197 - writing: /home/vlermakov/Development/Nodules/Nodule-Detection-LUNA2016/processed_data_full_range_075mm_fixed/Operil__63b6eff47ee6e2094cef706c-754dbf7fc997b340-11/Operil__63b6eff47ee6e2094cef706c-754dbf7fc997b340-11_mask_0.nii.gz\n",
      "2023-10-16 01:28:27,919 INFO image_writer.py:197 - writing: /home/vlermakov/Development/Nodules/Nodule-Detection-LUNA2016/processed_data_full_range_075mm_fixed/Operil__63b6eff47ee6e2094cef706c-754dbf7fc997b340-7/Operil__63b6eff47ee6e2094cef706c-754dbf7fc997b340-7_image_0.nii.gz\n",
      "2023-10-16 01:28:28,098 INFO image_writer.py:197 - writing: /home/vlermakov/Development/Nodules/Nodule-Detection-LUNA2016/processed_data_full_range_075mm_fixed/Operil__63b6eff47ee6e2094cef706c-754dbf7fc997b340-2/Operil__63b6eff47ee6e2094cef706c-754dbf7fc997b340-2_mask_0.nii.gz\n",
      "2023-10-16 01:28:28,099 INFO image_writer.py:197 - writing: /home/vlermakov/Development/Nodules/Nodule-Detection-LUNA2016/processed_data_full_range_075mm_fixed/Inafom__636437190e8c650908ce83da-6241368516c25566-4/Inafom__636437190e8c650908ce83da-6241368516c25566-4_image_0.nii.gz\n",
      "2023-10-16 01:28:28,114 INFO image_writer.py:197 - writing: /home/vlermakov/Development/Nodules/Nodule-Detection-LUNA2016/processed_data_full_range_075mm_fixed/Operil__63b6eff47ee6e2094cef706c-754dbf7fc997b340-7/Operil__63b6eff47ee6e2094cef706c-754dbf7fc997b340-7_mask_0.nii.gz\n"
     ]
    },
    {
     "name": "stderr",
     "output_type": "stream",
     "text": [
      "\r",
      "Loading dataset:  56%|████████████████████████████████████████████████████████████████████████████████                                                               | 320/572 [49:12<44:25, 10.58s/it]"
     ]
    },
    {
     "name": "stdout",
     "output_type": "stream",
     "text": [
      "2023-10-16 01:28:32,792 INFO image_writer.py:197 - writing: /home/vlermakov/Development/Nodules/Nodule-Detection-LUNA2016/processed_data_full_range_075mm_fixed/Inafom__636437190e8c650908ce83da-6241368516c25566-1/Inafom__636437190e8c650908ce83da-6241368516c25566-1_image_0.nii.gz\n",
      "2023-10-16 01:28:32,857 INFO image_writer.py:197 - writing: /home/vlermakov/Development/Nodules/Nodule-Detection-LUNA2016/processed_data_full_range_075mm_fixed/Inafom__636437190e8c650908ce83da-6241368516c25566-4/Inafom__636437190e8c650908ce83da-6241368516c25566-4_mask_0.nii.gz\n"
     ]
    },
    {
     "name": "stderr",
     "output_type": "stream",
     "text": [
      "Loading dataset:  56%|████████████████████████████████████████████████████████████████████████████████▌                                                              | 322/572 [49:20<31:46,  7.63s/it]"
     ]
    },
    {
     "name": "stdout",
     "output_type": "stream",
     "text": [
      "2023-10-16 01:28:39,711 INFO image_writer.py:197 - writing: /home/vlermakov/Development/Nodules/Nodule-Detection-LUNA2016/processed_data_full_range_075mm_fixed/Inafom__636437190e8c650908ce83da-6241368516c25566-1/Inafom__636437190e8c650908ce83da-6241368516c25566-1_mask_0.nii.gz\n"
     ]
    },
    {
     "name": "stderr",
     "output_type": "stream",
     "text": [
      "Loading dataset:  57%|█████████████████████████████████████████████████████████████████████████████████                                                              | 324/572 [49:34<28:52,  6.99s/it]"
     ]
    },
    {
     "name": "stdout",
     "output_type": "stream",
     "text": [
      "2023-10-16 01:28:53,772 INFO image_writer.py:197 - writing: /home/vlermakov/Development/Nodules/Nodule-Detection-LUNA2016/processed_data_full_range_075mm_fixed/Inafom__636437190e8c650908ce83da-6241368516c25566-5/Inafom__636437190e8c650908ce83da-6241368516c25566-5_image_0.nii.gz\n",
      "2023-10-16 01:28:53,988 INFO image_writer.py:197 - writing: /home/vlermakov/Development/Nodules/Nodule-Detection-LUNA2016/processed_data_full_range_075mm_fixed/Inafom__636437190e8c650908ce83da-6241368516c25566-5/Inafom__636437190e8c650908ce83da-6241368516c25566-5_mask_0.nii.gz\n"
     ]
    },
    {
     "name": "stderr",
     "output_type": "stream",
     "text": [
      "\r",
      "Loading dataset:  57%|█████████████████████████████████████████████████████████████████████████████████▎                                                             | 325/572 [49:40<27:19,  6.64s/it]"
     ]
    },
    {
     "name": "stdout",
     "output_type": "stream",
     "text": [
      "2023-10-16 01:28:59,292 INFO image_writer.py:197 - writing: /home/vlermakov/Development/Nodules/Nodule-Detection-LUNA2016/processed_data_full_range_075mm_fixed/Inafom__636437190e8c650908ce83da-6241368516c25566-7/Inafom__636437190e8c650908ce83da-6241368516c25566-7_image_0.nii.gz\n",
      "2023-10-16 01:28:59,643 INFO image_writer.py:197 - writing: /home/vlermakov/Development/Nodules/Nodule-Detection-LUNA2016/processed_data_full_range_075mm_fixed/Inafom__636437190e8c650908ce83da-6241368516c25566-7/Inafom__636437190e8c650908ce83da-6241368516c25566-7_mask_0.nii.gz\n"
     ]
    },
    {
     "name": "stderr",
     "output_type": "stream",
     "text": [
      "\r",
      "Loading dataset:  57%|█████████████████████████████████████████████████████████████████████████████████▌                                                             | 326/572 [49:44<24:10,  5.90s/it]"
     ]
    },
    {
     "name": "stdout",
     "output_type": "stream",
     "text": [
      "2023-10-16 01:29:17,725 INFO image_writer.py:197 - writing: /home/vlermakov/Development/Nodules/Nodule-Detection-LUNA2016/processed_data_full_range_075mm_fixed/Inafom__636437190e8c650908ce83da-6241368516c25566-10/Inafom__636437190e8c650908ce83da-6241368516c25566-10_image_0.nii.gz\n",
      "2023-10-16 01:29:18,624 INFO image_writer.py:197 - writing: /home/vlermakov/Development/Nodules/Nodule-Detection-LUNA2016/processed_data_full_range_075mm_fixed/Inafom__636437190e8c650908ce83da-6241368516c25566-10/Inafom__636437190e8c650908ce83da-6241368516c25566-10_mask_0.nii.gz\n"
     ]
    },
    {
     "name": "stderr",
     "output_type": "stream",
     "text": [
      "\r",
      "Loading dataset:  57%|█████████████████████████████████████████████████████████████████████████████████▊                                                             | 327/572 [50:03<39:51,  9.76s/it]"
     ]
    },
    {
     "name": "stdout",
     "output_type": "stream",
     "text": [
      "2023-10-16 01:29:26,752 INFO image_writer.py:197 - writing: /home/vlermakov/Development/Nodules/Nodule-Detection-LUNA2016/processed_data_full_range_075mm_fixed/Lebsuneln__6366c0e3a7f60e0b5f531a3b-0e40ec6935c8b09f-10/Lebsuneln__6366c0e3a7f60e0b5f531a3b-0e40ec6935c8b09f-10_image_0.nii.gz\n",
      "2023-10-16 01:29:26,887 INFO image_writer.py:197 - writing: /home/vlermakov/Development/Nodules/Nodule-Detection-LUNA2016/processed_data_full_range_075mm_fixed/Lebsuneln__6366c0e3a7f60e0b5f531a3b-0e40ec6935c8b09f-4/Lebsuneln__6366c0e3a7f60e0b5f531a3b-0e40ec6935c8b09f-4_image_0.nii.gz\n",
      "2023-10-16 01:29:28,239 INFO image_writer.py:197 - writing: /home/vlermakov/Development/Nodules/Nodule-Detection-LUNA2016/processed_data_full_range_075mm_fixed/Lebsuneln__6366c0e3a7f60e0b5f531a3b-0e40ec6935c8b09f-10/Lebsuneln__6366c0e3a7f60e0b5f531a3b-0e40ec6935c8b09f-10_mask_0.nii.gz\n",
      "2023-10-16 01:29:28,650 INFO image_writer.py:197 - writing: /home/vlermakov/Development/Nodules/Nodule-Detection-LUNA2016/processed_data_full_range_075mm_fixed/Lebsuneln__6366c0e3a7f60e0b5f531a3b-0e40ec6935c8b09f-4/Lebsuneln__6366c0e3a7f60e0b5f531a3b-0e40ec6935c8b09f-4_mask_0.nii.gz\n",
      "2023-10-16 01:29:40,176 INFO image_writer.py:197 - writing: /home/vlermakov/Development/Nodules/Nodule-Detection-LUNA2016/processed_data_full_range_075mm_fixed/Lebsuneln__6366c0e3a7f60e0b5f531a3b-0e40ec6935c8b09f-22/Lebsuneln__6366c0e3a7f60e0b5f531a3b-0e40ec6935c8b09f-22_image_0.nii.gz\n",
      "2023-10-16 01:29:40,358 INFO image_writer.py:197 - writing: /home/vlermakov/Development/Nodules/Nodule-Detection-LUNA2016/processed_data_full_range_075mm_fixed/Lebsuneln__6366c0e3a7f60e0b5f531a3b-0e40ec6935c8b09f-3/Lebsuneln__6366c0e3a7f60e0b5f531a3b-0e40ec6935c8b09f-3_image_0.nii.gz\n",
      "2023-10-16 01:29:40,472 INFO image_writer.py:197 - writing: /home/vlermakov/Development/Nodules/Nodule-Detection-LUNA2016/processed_data_full_range_075mm_fixed/Lebsuneln__6366c0e3a7f60e0b5f531a3b-0e40ec6935c8b09f-15/Lebsuneln__6366c0e3a7f60e0b5f531a3b-0e40ec6935c8b09f-15_image_0.nii.gz\n",
      "2023-10-16 01:29:40,512 INFO image_writer.py:197 - writing: /home/vlermakov/Development/Nodules/Nodule-Detection-LUNA2016/processed_data_full_range_075mm_fixed/Lebsuneln__6366c0e3a7f60e0b5f531a3b-0e40ec6935c8b09f-16/Lebsuneln__6366c0e3a7f60e0b5f531a3b-0e40ec6935c8b09f-16_image_0.nii.gz\n",
      "2023-10-16 01:29:40,588 INFO image_writer.py:197 - writing: /home/vlermakov/Development/Nodules/Nodule-Detection-LUNA2016/processed_data_full_range_075mm_fixed/Lebsuneln__6366c0e3a7f60e0b5f531a3b-0e40ec6935c8b09f-22/Lebsuneln__6366c0e3a7f60e0b5f531a3b-0e40ec6935c8b09f-22_mask_0.nii.gz\n",
      "2023-10-16 01:29:40,691 INFO image_writer.py:197 - writing: /home/vlermakov/Development/Nodules/Nodule-Detection-LUNA2016/processed_data_full_range_075mm_fixed/Lebsuneln__6366c0e3a7f60e0b5f531a3b-0e40ec6935c8b09f-3/Lebsuneln__6366c0e3a7f60e0b5f531a3b-0e40ec6935c8b09f-3_mask_0.nii.gz\n",
      "2023-10-16 01:29:40,724 INFO image_writer.py:197 - writing: /home/vlermakov/Development/Nodules/Nodule-Detection-LUNA2016/processed_data_full_range_075mm_fixed/Lebsuneln__6366c0e3a7f60e0b5f531a3b-0e40ec6935c8b09f-15/Lebsuneln__6366c0e3a7f60e0b5f531a3b-0e40ec6935c8b09f-15_mask_0.nii.gz\n"
     ]
    },
    {
     "name": "stderr",
     "output_type": "stream",
     "text": [
      "Loading dataset:  58%|██████████████████████████████████████████████████████████████████████████████████▍                                                            | 330/572 [50:40<39:03,  9.68s/it]"
     ]
    },
    {
     "name": "stdout",
     "output_type": "stream",
     "text": [
      "2023-10-16 01:29:56,235 INFO image_writer.py:197 - writing: /home/vlermakov/Development/Nodules/Nodule-Detection-LUNA2016/processed_data_full_range_075mm_fixed/Lebsuneln__6366c0e3a7f60e0b5f531a3b-0e40ec6935c8b09f-16/Lebsuneln__6366c0e3a7f60e0b5f531a3b-0e40ec6935c8b09f-16_mask_0.nii.gz\n"
     ]
    },
    {
     "name": "stderr",
     "output_type": "stream",
     "text": [
      "\r",
      "Loading dataset:  58%|███████████████████████████████████████████████████████████████████████████████████▎                                                           | 333/572 [50:41<17:06,  4.29s/it]"
     ]
    },
    {
     "name": "stdout",
     "output_type": "stream",
     "text": [
      "2023-10-16 01:30:20,288 INFO image_writer.py:197 - writing: /home/vlermakov/Development/Nodules/Nodule-Detection-LUNA2016/processed_data_full_range_075mm_fixed/Lebsuneln__6366c0e3a7f60e0b5f531a3b-0e40ec6935c8b09f-2/Lebsuneln__6366c0e3a7f60e0b5f531a3b-0e40ec6935c8b09f-2_image_0.nii.gz\n",
      "2023-10-16 01:30:20,426 INFO image_writer.py:197 - writing: /home/vlermakov/Development/Nodules/Nodule-Detection-LUNA2016/processed_data_full_range_075mm_fixed/Lebsuneln__6366c0e3a7f60e0b5f531a3b-0e40ec6935c8b09f-2/Lebsuneln__6366c0e3a7f60e0b5f531a3b-0e40ec6935c8b09f-2_mask_0.nii.gz\n"
     ]
    },
    {
     "name": "stderr",
     "output_type": "stream",
     "text": [
      "\r",
      "Loading dataset:  58%|███████████████████████████████████████████████████████████████████████████████████▌                                                           | 334/572 [51:05<33:53,  8.55s/it]"
     ]
    },
    {
     "name": "stdout",
     "output_type": "stream",
     "text": [
      "2023-10-16 01:30:27,086 INFO image_writer.py:197 - writing: /home/vlermakov/Development/Nodules/Nodule-Detection-LUNA2016/processed_data_full_range_075mm_fixed/Lomubroy__63518eef39ed0a09aea74943-dbedb9e5d8f6f18d-3/Lomubroy__63518eef39ed0a09aea74943-dbedb9e5d8f6f18d-3_image_0.nii.gz\n",
      "2023-10-16 01:30:27,298 INFO image_writer.py:197 - writing: /home/vlermakov/Development/Nodules/Nodule-Detection-LUNA2016/processed_data_full_range_075mm_fixed/Pibugon__6345d37e143e690af7bfb444-a50c5072fdc377f3-2/Pibugon__6345d37e143e690af7bfb444-a50c5072fdc377f3-2_image_0.nii.gz\n",
      "2023-10-16 01:30:27,505 INFO image_writer.py:197 - writing: /home/vlermakov/Development/Nodules/Nodule-Detection-LUNA2016/processed_data_full_range_075mm_fixed/Lomubroy__63518eef39ed0a09aea74943-dbedb9e5d8f6f18d-3/Lomubroy__63518eef39ed0a09aea74943-dbedb9e5d8f6f18d-3_mask_0.nii.gz\n",
      "2023-10-16 01:30:29,226 INFO image_writer.py:197 - writing: /home/vlermakov/Development/Nodules/Nodule-Detection-LUNA2016/processed_data_full_range_075mm_fixed/Pibugon__6345d37e143e690af7bfb444-a50c5072fdc377f3-2/Pibugon__6345d37e143e690af7bfb444-a50c5072fdc377f3-2_mask_0.nii.gz\n"
     ]
    },
    {
     "name": "stderr",
     "output_type": "stream",
     "text": [
      "Loading dataset:  59%|████████████████████████████████████████████████████████████████████████████████████                                                           | 336/572 [51:21<32:26,  8.25s/it]"
     ]
    },
    {
     "name": "stdout",
     "output_type": "stream",
     "text": [
      "2023-10-16 01:30:42,116 INFO image_writer.py:197 - writing: /home/vlermakov/Development/Nodules/Nodule-Detection-LUNA2016/processed_data_full_range_075mm_fixed/Pibugon__6345d37e143e690af7bfb444-a50c5072fdc377f3-1/Pibugon__6345d37e143e690af7bfb444-a50c5072fdc377f3-1_image_0.nii.gz\n",
      "2023-10-16 01:30:42,139 INFO image_writer.py:197 - writing: /home/vlermakov/Development/Nodules/Nodule-Detection-LUNA2016/processed_data_full_range_075mm_fixed/Oyisok__6358666125643909d0d3215b-f7ab8d3fe9f14deb-4/Oyisok__6358666125643909d0d3215b-f7ab8d3fe9f14deb-4_image_0.nii.gz\n",
      "2023-10-16 01:30:42,205 INFO image_writer.py:197 - writing: /home/vlermakov/Development/Nodules/Nodule-Detection-LUNA2016/processed_data_full_range_075mm_fixed/Oyisok__6358666125643909d0d3215b-f7ab8d3fe9f14deb-1/Oyisok__6358666125643909d0d3215b-f7ab8d3fe9f14deb-1_image_0.nii.gz\n",
      "2023-10-16 01:30:42,256 INFO image_writer.py:197 - writing: /home/vlermakov/Development/Nodules/Nodule-Detection-LUNA2016/processed_data_full_range_075mm_fixed/Keralud__63695ce3476a8c0923afd4df-e6de3c43e62ae678-1/Keralud__63695ce3476a8c0923afd4df-e6de3c43e62ae678-1_image_0.nii.gz\n",
      "2023-10-16 01:30:42,400 INFO image_writer.py:197 - writing: /home/vlermakov/Development/Nodules/Nodule-Detection-LUNA2016/processed_data_full_range_075mm_fixed/Pibugon__6345d37e143e690af7bfb444-a50c5072fdc377f3-1/Pibugon__6345d37e143e690af7bfb444-a50c5072fdc377f3-1_mask_0.nii.gz\n",
      "2023-10-16 01:30:42,413 INFO image_writer.py:197 - writing: /home/vlermakov/Development/Nodules/Nodule-Detection-LUNA2016/processed_data_full_range_075mm_fixed/Oyisok__6358666125643909d0d3215b-f7ab8d3fe9f14deb-4/Oyisok__6358666125643909d0d3215b-f7ab8d3fe9f14deb-4_mask_0.nii.gz\n",
      "2023-10-16 01:30:42,545 INFO image_writer.py:197 - writing: /home/vlermakov/Development/Nodules/Nodule-Detection-LUNA2016/processed_data_full_range_075mm_fixed/Oyisok__6358666125643909d0d3215b-f7ab8d3fe9f14deb-1/Oyisok__6358666125643909d0d3215b-f7ab8d3fe9f14deb-1_mask_0.nii.gz\n"
     ]
    },
    {
     "name": "stderr",
     "output_type": "stream",
     "text": [
      "Loading dataset:  59%|████████████████████████████████████████████████████████████████████████████████████▌                                                          | 338/572 [51:41<36:58,  9.48s/it]"
     ]
    },
    {
     "name": "stdout",
     "output_type": "stream",
     "text": [
      "2023-10-16 01:30:57,150 INFO image_writer.py:197 - writing: /home/vlermakov/Development/Nodules/Nodule-Detection-LUNA2016/processed_data_full_range_075mm_fixed/Keralud__63695ce3476a8c0923afd4df-e6de3c43e62ae678-1/Keralud__63695ce3476a8c0923afd4df-e6de3c43e62ae678-1_mask_0.nii.gz\n"
     ]
    },
    {
     "name": "stderr",
     "output_type": "stream",
     "text": [
      "\r",
      "Loading dataset:  59%|█████████████████████████████████████████████████████████████████████████████████████                                                          | 340/572 [51:42<21:01,  5.44s/it]"
     ]
    },
    {
     "name": "stdout",
     "output_type": "stream",
     "text": [
      "2023-10-16 01:31:27,813 INFO image_writer.py:197 - writing: /home/vlermakov/Development/Nodules/Nodule-Detection-LUNA2016/processed_data_full_range_075mm_fixed/Keralud__63695ce3476a8c0923afd4df-e6de3c43e62ae678-2/Keralud__63695ce3476a8c0923afd4df-e6de3c43e62ae678-2_image_0.nii.gz\n",
      "2023-10-16 01:31:28,054 INFO image_writer.py:197 - writing: /home/vlermakov/Development/Nodules/Nodule-Detection-LUNA2016/processed_data_full_range_075mm_fixed/Keralud__63695ce3476a8c0923afd4df-e6de3c43e62ae678-2/Keralud__63695ce3476a8c0923afd4df-e6de3c43e62ae678-2_mask_0.nii.gz\n"
     ]
    },
    {
     "name": "stderr",
     "output_type": "stream",
     "text": [
      "\r",
      "Loading dataset:  60%|█████████████████████████████████████████████████████████████████████████████████████▎                                                         | 341/572 [52:14<45:40, 11.86s/it]"
     ]
    },
    {
     "name": "stdout",
     "output_type": "stream",
     "text": [
      "2023-10-16 01:31:36,391 INFO image_writer.py:197 - writing: /home/vlermakov/Development/Nodules/Nodule-Detection-LUNA2016/processed_data_full_range_075mm_fixed/Bupekuet__63acf26b8266cc0972498835-57b9113858dfa0de-7/Bupekuet__63acf26b8266cc0972498835-57b9113858dfa0de-7_image_0.nii.gz\n",
      "2023-10-16 01:31:36,530 INFO image_writer.py:197 - writing: /home/vlermakov/Development/Nodules/Nodule-Detection-LUNA2016/processed_data_full_range_075mm_fixed/Puetsoybad__63b6f27d2cb36d09226854d1-cfc2e668209c9703-3/Puetsoybad__63b6f27d2cb36d09226854d1-cfc2e668209c9703-3_image_0.nii.gz\n",
      "2023-10-16 01:31:36,613 INFO image_writer.py:197 - writing: /home/vlermakov/Development/Nodules/Nodule-Detection-LUNA2016/processed_data_full_range_075mm_fixed/Puetsoybad__63b6f27d2cb36d09226854d1-cfc2e668209c9703-2/Puetsoybad__63b6f27d2cb36d09226854d1-cfc2e668209c9703-2_image_0.nii.gz\n",
      "2023-10-16 01:31:36,775 INFO image_writer.py:197 - writing: /home/vlermakov/Development/Nodules/Nodule-Detection-LUNA2016/processed_data_full_range_075mm_fixed/Keralud__63695ce3476a8c0923afd4df-e6de3c43e62ae678-4/Keralud__63695ce3476a8c0923afd4df-e6de3c43e62ae678-4_image_0.nii.gz\n",
      "2023-10-16 01:31:37,090 INFO image_writer.py:197 - writing: /home/vlermakov/Development/Nodules/Nodule-Detection-LUNA2016/processed_data_full_range_075mm_fixed/Bupekuet__63acf26b8266cc0972498835-57b9113858dfa0de-7/Bupekuet__63acf26b8266cc0972498835-57b9113858dfa0de-7_mask_0.nii.gz\n",
      "2023-10-16 01:31:37,305 INFO image_writer.py:197 - writing: /home/vlermakov/Development/Nodules/Nodule-Detection-LUNA2016/processed_data_full_range_075mm_fixed/Keralud__63695ce3476a8c0923afd4df-e6de3c43e62ae678-3/Keralud__63695ce3476a8c0923afd4df-e6de3c43e62ae678-3_image_0.nii.gz\n",
      "2023-10-16 01:31:37,633 INFO image_writer.py:197 - writing: /home/vlermakov/Development/Nodules/Nodule-Detection-LUNA2016/processed_data_full_range_075mm_fixed/Puetsoybad__63b6f27d2cb36d09226854d1-cfc2e668209c9703-3/Puetsoybad__63b6f27d2cb36d09226854d1-cfc2e668209c9703-3_mask_0.nii.gz\n",
      "2023-10-16 01:31:37,946 INFO image_writer.py:197 - writing: /home/vlermakov/Development/Nodules/Nodule-Detection-LUNA2016/processed_data_full_range_075mm_fixed/Puetsoybad__63b6f27d2cb36d09226854d1-cfc2e668209c9703-2/Puetsoybad__63b6f27d2cb36d09226854d1-cfc2e668209c9703-2_mask_0.nii.gz\n",
      "2023-10-16 01:31:42,556 INFO image_writer.py:197 - writing: /home/vlermakov/Development/Nodules/Nodule-Detection-LUNA2016/processed_data_full_range_075mm_fixed/Keralud__63695ce3476a8c0923afd4df-e6de3c43e62ae678-4/Keralud__63695ce3476a8c0923afd4df-e6de3c43e62ae678-4_mask_0.nii.gz\n",
      "2023-10-16 01:31:46,169 INFO image_writer.py:197 - writing: /home/vlermakov/Development/Nodules/Nodule-Detection-LUNA2016/processed_data_full_range_075mm_fixed/Keralud__63695ce3476a8c0923afd4df-e6de3c43e62ae678-3/Keralud__63695ce3476a8c0923afd4df-e6de3c43e62ae678-3_mask_0.nii.gz\n"
     ]
    },
    {
     "name": "stderr",
     "output_type": "stream",
     "text": [
      "Loading dataset:  60%|█████████████████████████████████████████████████████████████████████████████████████▊                                                         | 343/572 [52:44<46:56, 12.30s/it]"
     ]
    },
    {
     "name": "stdout",
     "output_type": "stream",
     "text": [
      "2023-10-16 01:32:00,258 INFO image_writer.py:197 - writing: /home/vlermakov/Development/Nodules/Nodule-Detection-LUNA2016/processed_data_full_range_075mm_fixed/Scentagack__6346f09244ad990a25e02b29-42516c0c3f6c8086-3/Scentagack__6346f09244ad990a25e02b29-42516c0c3f6c8086-3_image_0.nii.gz\n",
      "2023-10-16 01:32:00,378 INFO image_writer.py:197 - writing: /home/vlermakov/Development/Nodules/Nodule-Detection-LUNA2016/processed_data_full_range_075mm_fixed/Keralud__63695ce3476a8c0923afd4df-e6de3c43e62ae678-9/Keralud__63695ce3476a8c0923afd4df-e6de3c43e62ae678-9_image_0.nii.gz\n",
      "2023-10-16 01:32:00,470 INFO image_writer.py:197 - writing: /home/vlermakov/Development/Nodules/Nodule-Detection-LUNA2016/processed_data_full_range_075mm_fixed/Scentagack__6346f09244ad990a25e02b29-42516c0c3f6c8086-3/Scentagack__6346f09244ad990a25e02b29-42516c0c3f6c8086-3_mask_0.nii.gz\n",
      "2023-10-16 01:32:00,576 INFO image_writer.py:197 - writing: /home/vlermakov/Development/Nodules/Nodule-Detection-LUNA2016/processed_data_full_range_075mm_fixed/Keralud__63695ce3476a8c0923afd4df-e6de3c43e62ae678-9/Keralud__63695ce3476a8c0923afd4df-e6de3c43e62ae678-9_mask_0.nii.gz\n"
     ]
    },
    {
     "name": "stderr",
     "output_type": "stream",
     "text": [
      "Loading dataset:  60%|██████████████████████████████████████████████████████████████████████████████████████▎                                                        | 345/572 [52:53<32:29,  8.59s/it]"
     ]
    },
    {
     "name": "stdout",
     "output_type": "stream",
     "text": [
      "2023-10-16 01:32:27,189 INFO image_writer.py:197 - writing: /home/vlermakov/Development/Nodules/Nodule-Detection-LUNA2016/processed_data_full_range_075mm_fixed/Scentagack__6346f09244ad990a25e02b29-42516c0c3f6c8086-7/Scentagack__6346f09244ad990a25e02b29-42516c0c3f6c8086-7_image_0.nii.gz\n",
      "2023-10-16 01:32:27,308 INFO image_writer.py:197 - writing: /home/vlermakov/Development/Nodules/Nodule-Detection-LUNA2016/processed_data_full_range_075mm_fixed/Scentagack__6346f09244ad990a25e02b29-42516c0c3f6c8086-9/Scentagack__6346f09244ad990a25e02b29-42516c0c3f6c8086-9_image_0.nii.gz\n",
      "2023-10-16 01:32:27,432 INFO image_writer.py:197 - writing: /home/vlermakov/Development/Nodules/Nodule-Detection-LUNA2016/processed_data_full_range_075mm_fixed/Scentagack__6346f09244ad990a25e02b29-42516c0c3f6c8086-4/Scentagack__6346f09244ad990a25e02b29-42516c0c3f6c8086-4_image_0.nii.gz\n",
      "2023-10-16 01:32:27,532 INFO image_writer.py:197 - writing: /home/vlermakov/Development/Nodules/Nodule-Detection-LUNA2016/processed_data_full_range_075mm_fixed/Scentagack__6346f09244ad990a25e02b29-42516c0c3f6c8086-7/Scentagack__6346f09244ad990a25e02b29-42516c0c3f6c8086-7_mask_0.nii.gz\n",
      "2023-10-16 01:32:27,561 INFO image_writer.py:197 - writing: /home/vlermakov/Development/Nodules/Nodule-Detection-LUNA2016/processed_data_full_range_075mm_fixed/Scentagack__6346f09244ad990a25e02b29-42516c0c3f6c8086-9/Scentagack__6346f09244ad990a25e02b29-42516c0c3f6c8086-9_mask_0.nii.gz\n",
      "2023-10-16 01:32:27,676 INFO image_writer.py:197 - writing: /home/vlermakov/Development/Nodules/Nodule-Detection-LUNA2016/processed_data_full_range_075mm_fixed/Scentagack__6346f09244ad990a25e02b29-42516c0c3f6c8086-4/Scentagack__6346f09244ad990a25e02b29-42516c0c3f6c8086-4_mask_0.nii.gz\n"
     ]
    },
    {
     "name": "stderr",
     "output_type": "stream",
     "text": [
      "\r",
      "Loading dataset:  61%|███████████████████████████████████████████████████████████████████████████████████████▎                                                       | 349/572 [53:12<22:52,  6.16s/it]"
     ]
    },
    {
     "name": "stdout",
     "output_type": "stream",
     "text": [
      "2023-10-16 01:32:40,293 INFO image_writer.py:197 - writing: /home/vlermakov/Development/Nodules/Nodule-Detection-LUNA2016/processed_data_full_range_075mm_fixed/Scentagack__6346f09244ad990a25e02b29-42516c0c3f6c8086-13/Scentagack__6346f09244ad990a25e02b29-42516c0c3f6c8086-13_image_0.nii.gz\n",
      "2023-10-16 01:32:40,694 INFO image_writer.py:197 - writing: /home/vlermakov/Development/Nodules/Nodule-Detection-LUNA2016/processed_data_full_range_075mm_fixed/Scentagack__6346f09244ad990a25e02b29-42516c0c3f6c8086-13/Scentagack__6346f09244ad990a25e02b29-42516c0c3f6c8086-13_mask_0.nii.gz\n"
     ]
    },
    {
     "name": "stderr",
     "output_type": "stream",
     "text": [
      "Loading dataset:  62%|████████████████████████████████████████████████████████████████████████████████████████                                                       | 352/572 [53:30<19:33,  5.34s/it]"
     ]
    },
    {
     "name": "stdout",
     "output_type": "stream",
     "text": [
      "2023-10-16 01:32:57,061 INFO image_writer.py:197 - writing: /home/vlermakov/Development/Nodules/Nodule-Detection-LUNA2016/processed_data_full_range_075mm_fixed/Negoquof__639c0414668b9d08de9ff5a2-e4950f84c0405373-23/Negoquof__639c0414668b9d08de9ff5a2-e4950f84c0405373-23_image_0.nii.gz\n",
      "2023-10-16 01:32:57,232 INFO image_writer.py:197 - writing: /home/vlermakov/Development/Nodules/Nodule-Detection-LUNA2016/processed_data_full_range_075mm_fixed/Negoquof__639c0414668b9d08de9ff5a2-e4950f84c0405373-23/Negoquof__639c0414668b9d08de9ff5a2-e4950f84c0405373-23_mask_0.nii.gz\n"
     ]
    },
    {
     "name": "stderr",
     "output_type": "stream",
     "text": [
      "\r",
      "Loading dataset:  62%|████████████████████████████████████████████████████████████████████████████████████████▏                                                      | 353/572 [53:46<28:36,  7.84s/it]"
     ]
    },
    {
     "name": "stdout",
     "output_type": "stream",
     "text": [
      "2023-10-16 01:33:16,820 INFO image_writer.py:197 - writing: /home/vlermakov/Development/Nodules/Nodule-Detection-LUNA2016/processed_data_full_range_075mm_fixed/Negoquof__639c0414668b9d08de9ff5a2-e4950f84c0405373-32/Negoquof__639c0414668b9d08de9ff5a2-e4950f84c0405373-32_image_0.nii.gz\n",
      "2023-10-16 01:33:17,023 INFO image_writer.py:197 - writing: /home/vlermakov/Development/Nodules/Nodule-Detection-LUNA2016/processed_data_full_range_075mm_fixed/Negoquof__639c0414668b9d08de9ff5a2-e4950f84c0405373-32/Negoquof__639c0414668b9d08de9ff5a2-e4950f84c0405373-32_mask_0.nii.gz\n"
     ]
    },
    {
     "name": "stderr",
     "output_type": "stream",
     "text": [
      "\r",
      "Loading dataset:  62%|████████████████████████████████████████████████████████████████████████████████████████▌                                                      | 354/572 [54:01<35:36,  9.80s/it]"
     ]
    },
    {
     "name": "stdout",
     "output_type": "stream",
     "text": [
      "2023-10-16 01:33:22,560 INFO image_writer.py:197 - writing: /home/vlermakov/Development/Nodules/Nodule-Detection-LUNA2016/processed_data_full_range_075mm_fixed/Negoquof__639c0414668b9d08de9ff5a2-e4950f84c0405373-1/Negoquof__639c0414668b9d08de9ff5a2-e4950f84c0405373-1_image_0.nii.gz\n",
      "2023-10-16 01:33:22,664 INFO image_writer.py:197 - writing: /home/vlermakov/Development/Nodules/Nodule-Detection-LUNA2016/processed_data_full_range_075mm_fixed/Negoquof__639c0414668b9d08de9ff5a2-e4950f84c0405373-1/Negoquof__639c0414668b9d08de9ff5a2-e4950f84c0405373-1_mask_0.nii.gz\n"
     ]
    },
    {
     "name": "stderr",
     "output_type": "stream",
     "text": [
      "\r",
      "Loading dataset:  62%|████████████████████████████████████████████████████████████████████████████████████████▊                                                      | 355/572 [54:07<31:30,  8.71s/it]"
     ]
    },
    {
     "name": "stdout",
     "output_type": "stream",
     "text": [
      "2023-10-16 01:33:34,220 INFO image_writer.py:197 - writing: /home/vlermakov/Development/Nodules/Nodule-Detection-LUNA2016/processed_data_full_range_075mm_fixed/Beprequi__6363155dd8eaa50923c133e8-818b86a23baa186a-47/Beprequi__6363155dd8eaa50923c133e8-818b86a23baa186a-47_image_0.nii.gz\n",
      "2023-10-16 01:33:34,343 INFO image_writer.py:197 - writing: /home/vlermakov/Development/Nodules/Nodule-Detection-LUNA2016/processed_data_full_range_075mm_fixed/Beprequi__6363155dd8eaa50923c133e8-818b86a23baa186a-47/Beprequi__6363155dd8eaa50923c133e8-818b86a23baa186a-47_mask_0.nii.gz\n"
     ]
    },
    {
     "name": "stderr",
     "output_type": "stream",
     "text": [
      "\r",
      "Loading dataset:  62%|█████████████████████████████████████████████████████████████████████████████████████████                                                      | 356/572 [54:19<34:27,  9.57s/it]"
     ]
    },
    {
     "name": "stdout",
     "output_type": "stream",
     "text": [
      "2023-10-16 01:33:40,089 INFO image_writer.py:197 - writing: /home/vlermakov/Development/Nodules/Nodule-Detection-LUNA2016/processed_data_full_range_075mm_fixed/Beprequi__6363155dd8eaa50923c133e8-818b86a23baa186a-4/Beprequi__6363155dd8eaa50923c133e8-818b86a23baa186a-4_image_0.nii.gz\n",
      "2023-10-16 01:33:40,217 INFO image_writer.py:197 - writing: /home/vlermakov/Development/Nodules/Nodule-Detection-LUNA2016/processed_data_full_range_075mm_fixed/Beprequi__6363155dd8eaa50923c133e8-818b86a23baa186a-18/Beprequi__6363155dd8eaa50923c133e8-818b86a23baa186a-18_image_0.nii.gz\n",
      "2023-10-16 01:33:40,313 INFO image_writer.py:197 - writing: /home/vlermakov/Development/Nodules/Nodule-Detection-LUNA2016/processed_data_full_range_075mm_fixed/Beprequi__6363155dd8eaa50923c133e8-818b86a23baa186a-4/Beprequi__6363155dd8eaa50923c133e8-818b86a23baa186a-4_mask_0.nii.gz\n",
      "2023-10-16 01:33:40,561 INFO image_writer.py:197 - writing: /home/vlermakov/Development/Nodules/Nodule-Detection-LUNA2016/processed_data_full_range_075mm_fixed/Beprequi__6363155dd8eaa50923c133e8-818b86a23baa186a-18/Beprequi__6363155dd8eaa50923c133e8-818b86a23baa186a-18_mask_0.nii.gz\n",
      "2023-10-16 01:33:40,578 INFO image_writer.py:197 - writing: /home/vlermakov/Development/Nodules/Nodule-Detection-LUNA2016/processed_data_full_range_075mm_fixed/Beprequi__6363155dd8eaa50923c133e8-818b86a23baa186a-64/Beprequi__6363155dd8eaa50923c133e8-818b86a23baa186a-64_image_0.nii.gz\n",
      "2023-10-16 01:33:49,366 INFO image_writer.py:197 - writing: /home/vlermakov/Development/Nodules/Nodule-Detection-LUNA2016/processed_data_full_range_075mm_fixed/Beprequi__6363155dd8eaa50923c133e8-818b86a23baa186a-64/Beprequi__6363155dd8eaa50923c133e8-818b86a23baa186a-64_mask_0.nii.gz\n"
     ]
    },
    {
     "name": "stderr",
     "output_type": "stream",
     "text": [
      "Loading dataset:  63%|█████████████████████████████████████████████████████████████████████████████████████████▊                                                     | 359/572 [54:39<23:18,  6.57s/it]"
     ]
    },
    {
     "name": "stdout",
     "output_type": "stream",
     "text": [
      "2023-10-16 01:34:06,387 INFO image_writer.py:197 - writing: /home/vlermakov/Development/Nodules/Nodule-Detection-LUNA2016/processed_data_full_range_075mm_fixed/Beprequi__6363155dd8eaa50923c133e8-818b86a23baa186a-1/Beprequi__6363155dd8eaa50923c133e8-818b86a23baa186a-1_image_0.nii.gz\n",
      "2023-10-16 01:34:06,827 INFO image_writer.py:197 - writing: /home/vlermakov/Development/Nodules/Nodule-Detection-LUNA2016/processed_data_full_range_075mm_fixed/Beprequi__6363155dd8eaa50923c133e8-818b86a23baa186a-1/Beprequi__6363155dd8eaa50923c133e8-818b86a23baa186a-1_mask_0.nii.gz\n"
     ]
    },
    {
     "name": "stderr",
     "output_type": "stream",
     "text": [
      "\r",
      "Loading dataset:  63%|██████████████████████████████████████████████████████████████████████████████████████████                                                     | 360/572 [54:56<33:51,  9.58s/it]"
     ]
    },
    {
     "name": "stdout",
     "output_type": "stream",
     "text": [
      "2023-10-16 01:34:26,147 INFO image_writer.py:197 - writing: /home/vlermakov/Development/Nodules/Nodule-Detection-LUNA2016/processed_data_full_range_075mm_fixed/Bedisi__6349e9e60729640d01850aa3-f778a93bacec4124-1/Bedisi__6349e9e60729640d01850aa3-f778a93bacec4124-1_image_0.nii.gz\n",
      "2023-10-16 01:34:26,476 INFO image_writer.py:197 - writing: /home/vlermakov/Development/Nodules/Nodule-Detection-LUNA2016/processed_data_full_range_075mm_fixed/Bedisi__6349e9e60729640d01850aa3-f778a93bacec4124-1/Bedisi__6349e9e60729640d01850aa3-f778a93bacec4124-1_mask_0.nii.gz\n",
      "2023-10-16 01:34:26,704 INFO image_writer.py:197 - writing: /home/vlermakov/Development/Nodules/Nodule-Detection-LUNA2016/processed_data_full_range_075mm_fixed/Caquirib__635059a1a5c9ac091275fb42-a39a2ca509a42b23-3/Caquirib__635059a1a5c9ac091275fb42-a39a2ca509a42b23-3_image_0.nii.gz\n",
      "2023-10-16 01:34:32,766 INFO image_writer.py:197 - writing: /home/vlermakov/Development/Nodules/Nodule-Detection-LUNA2016/processed_data_full_range_075mm_fixed/Caquirib__635059a1a5c9ac091275fb42-a39a2ca509a42b23-3/Caquirib__635059a1a5c9ac091275fb42-a39a2ca509a42b23-3_mask_0.nii.gz\n",
      "2023-10-16 01:34:32,799 INFO image_writer.py:197 - writing: /home/vlermakov/Development/Nodules/Nodule-Detection-LUNA2016/processed_data_full_range_075mm_fixed/Caquirib__635059a1a5c9ac091275fb42-a39a2ca509a42b23-5/Caquirib__635059a1a5c9ac091275fb42-a39a2ca509a42b23-5_image_0.nii.gz\n",
      "2023-10-16 01:34:32,963 INFO image_writer.py:197 - writing: /home/vlermakov/Development/Nodules/Nodule-Detection-LUNA2016/processed_data_full_range_075mm_fixed/Caquirib__635059a1a5c9ac091275fb42-a39a2ca509a42b23-5/Caquirib__635059a1a5c9ac091275fb42-a39a2ca509a42b23-5_mask_0.nii.gz\n",
      "2023-10-16 01:34:41,182 INFO image_writer.py:197 - writing: /home/vlermakov/Development/Nodules/Nodule-Detection-LUNA2016/processed_data_full_range_075mm_fixed/Caquirib__635059a1a5c9ac091275fb42-a39a2ca509a42b23-2/Caquirib__635059a1a5c9ac091275fb42-a39a2ca509a42b23-2_image_0.nii.gz\n",
      "2023-10-16 01:34:42,171 INFO image_writer.py:197 - writing: /home/vlermakov/Development/Nodules/Nodule-Detection-LUNA2016/processed_data_full_range_075mm_fixed/Caquirib__635059a1a5c9ac091275fb42-a39a2ca509a42b23-2/Caquirib__635059a1a5c9ac091275fb42-a39a2ca509a42b23-2_mask_0.nii.gz\n",
      "2023-10-16 01:34:42,346 INFO image_writer.py:197 - writing: /home/vlermakov/Development/Nodules/Nodule-Detection-LUNA2016/processed_data_full_range_075mm_fixed/Bedisi__6349e9e60729640d01850aa3-f778a93bacec4124-13/Bedisi__6349e9e60729640d01850aa3-f778a93bacec4124-13_image_0.nii.gz\n",
      "2023-10-16 01:34:43,503 INFO image_writer.py:197 - writing: /home/vlermakov/Development/Nodules/Nodule-Detection-LUNA2016/processed_data_full_range_075mm_fixed/Bedisi__6349e9e60729640d01850aa3-f778a93bacec4124-13/Bedisi__6349e9e60729640d01850aa3-f778a93bacec4124-13_mask_0.nii.gz\n",
      "2023-10-16 01:34:54,075 INFO image_writer.py:197 - writing: /home/vlermakov/Development/Nodules/Nodule-Detection-LUNA2016/processed_data_full_range_075mm_fixed/Beprequi__6363155dd8eaa50923c133e8-818b86a23baa186a-7/Beprequi__6363155dd8eaa50923c133e8-818b86a23baa186a-7_image_0.nii.gz\n",
      "2023-10-16 01:34:54,132 INFO image_writer.py:197 - writing: /home/vlermakov/Development/Nodules/Nodule-Detection-LUNA2016/processed_data_full_range_075mm_fixed/Bedisi__6349e9e60729640d01850aa3-f778a93bacec4124-10/Bedisi__6349e9e60729640d01850aa3-f778a93bacec4124-10_image_0.nii.gz\n",
      "2023-10-16 01:34:54,239 INFO image_writer.py:197 - writing: /home/vlermakov/Development/Nodules/Nodule-Detection-LUNA2016/processed_data_full_range_075mm_fixed/Beprequi__6363155dd8eaa50923c133e8-818b86a23baa186a-7/Beprequi__6363155dd8eaa50923c133e8-818b86a23baa186a-7_mask_0.nii.gz\n",
      "2023-10-16 01:34:54,303 INFO image_writer.py:197 - writing: /home/vlermakov/Development/Nodules/Nodule-Detection-LUNA2016/processed_data_full_range_075mm_fixed/Bedisi__6349e9e60729640d01850aa3-f778a93bacec4124-10/Bedisi__6349e9e60729640d01850aa3-f778a93bacec4124-10_mask_0.nii.gz\n"
     ]
    },
    {
     "name": "stderr",
     "output_type": "stream",
     "text": [
      "Loading dataset:  63%|██████████████████████████████████████████████████████████████████████████████████████████▌                                                    | 362/572 [55:47<56:19, 16.09s/it]"
     ]
    },
    {
     "name": "stdout",
     "output_type": "stream",
     "text": [
      "2023-10-16 01:35:26,707 INFO image_writer.py:197 - writing: /home/vlermakov/Development/Nodules/Nodule-Detection-LUNA2016/processed_data_full_range_075mm_fixed/Bedisi__6349e9e60729640d01850aa3-f778a93bacec4124-9/Bedisi__6349e9e60729640d01850aa3-f778a93bacec4124-9_image_0.nii.gz\n",
      "2023-10-16 01:35:26,888 INFO image_writer.py:197 - writing: /home/vlermakov/Development/Nodules/Nodule-Detection-LUNA2016/processed_data_full_range_075mm_fixed/Bedisi__6349e9e60729640d01850aa3-f778a93bacec4124-9/Bedisi__6349e9e60729640d01850aa3-f778a93bacec4124-9_mask_0.nii.gz\n"
     ]
    },
    {
     "name": "stderr",
     "output_type": "stream",
     "text": [
      "\r",
      "Loading dataset:  64%|████████████████████████████████████████████████████████████████████████████████████████████                                                   | 368/572 [56:11<25:22,  7.46s/it]"
     ]
    },
    {
     "name": "stdout",
     "output_type": "stream",
     "text": [
      "2023-10-16 01:35:58,234 INFO image_writer.py:197 - writing: /home/vlermakov/Development/Nodules/Nodule-Detection-LUNA2016/processed_data_full_range_075mm_fixed/Izeyag__63a3402b167c5d09157b26a2-18ca029921401196-25/Izeyag__63a3402b167c5d09157b26a2-18ca029921401196-25_image_0.nii.gz\n",
      "2023-10-16 01:35:58,422 INFO image_writer.py:197 - writing: /home/vlermakov/Development/Nodules/Nodule-Detection-LUNA2016/processed_data_full_range_075mm_fixed/Izeyag__63a3402b167c5d09157b26a2-18ca029921401196-2/Izeyag__63a3402b167c5d09157b26a2-18ca029921401196-2_image_0.nii.gz\n",
      "2023-10-16 01:35:58,583 INFO image_writer.py:197 - writing: /home/vlermakov/Development/Nodules/Nodule-Detection-LUNA2016/processed_data_full_range_075mm_fixed/Izeyag__63a3402b167c5d09157b26a2-18ca029921401196-25/Izeyag__63a3402b167c5d09157b26a2-18ca029921401196-25_mask_0.nii.gz\n",
      "2023-10-16 01:35:58,780 INFO image_writer.py:197 - writing: /home/vlermakov/Development/Nodules/Nodule-Detection-LUNA2016/processed_data_full_range_075mm_fixed/Izeyag__63a3402b167c5d09157b26a2-18ca029921401196-2/Izeyag__63a3402b167c5d09157b26a2-18ca029921401196-2_mask_0.nii.gz\n"
     ]
    },
    {
     "name": "stderr",
     "output_type": "stream",
     "text": [
      "Loading dataset:  65%|████████████████████████████████████████████████████████████████████████████████████████████▌                                                  | 370/572 [56:47<32:53,  9.77s/it]"
     ]
    },
    {
     "name": "stdout",
     "output_type": "stream",
     "text": [
      "2023-10-16 01:36:05,641 INFO image_writer.py:197 - writing: /home/vlermakov/Development/Nodules/Nodule-Detection-LUNA2016/processed_data_full_range_075mm_fixed/Izeyag__63a3402b167c5d09157b26a2-18ca029921401196-1/Izeyag__63a3402b167c5d09157b26a2-18ca029921401196-1_image_0.nii.gz\n",
      "2023-10-16 01:36:05,755 INFO image_writer.py:197 - writing: /home/vlermakov/Development/Nodules/Nodule-Detection-LUNA2016/processed_data_full_range_075mm_fixed/Izeyag__63a3402b167c5d09157b26a2-18ca029921401196-8/Izeyag__63a3402b167c5d09157b26a2-18ca029921401196-8_image_0.nii.gz\n",
      "2023-10-16 01:36:06,106 INFO image_writer.py:197 - writing: /home/vlermakov/Development/Nodules/Nodule-Detection-LUNA2016/processed_data_full_range_075mm_fixed/Izeyag__63a3402b167c5d09157b26a2-18ca029921401196-1/Izeyag__63a3402b167c5d09157b26a2-18ca029921401196-1_mask_0.nii.gz\n",
      "2023-10-16 01:36:06,126 INFO image_writer.py:197 - writing: /home/vlermakov/Development/Nodules/Nodule-Detection-LUNA2016/processed_data_full_range_075mm_fixed/Izeyag__63a3402b167c5d09157b26a2-18ca029921401196-8/Izeyag__63a3402b167c5d09157b26a2-18ca029921401196-8_mask_0.nii.gz\n"
     ]
    },
    {
     "name": "stderr",
     "output_type": "stream",
     "text": [
      "Loading dataset:  65%|█████████████████████████████████████████████████████████████████████████████████████████████                                                  | 372/572 [56:59<27:26,  8.23s/it]"
     ]
    },
    {
     "name": "stdout",
     "output_type": "stream",
     "text": [
      "2023-10-16 01:36:15,648 INFO image_writer.py:197 - writing: /home/vlermakov/Development/Nodules/Nodule-Detection-LUNA2016/processed_data_full_range_075mm_fixed/Gruguka__6358b1e189f9070a39696bac-02bb99915a3c1f8c-51/Gruguka__6358b1e189f9070a39696bac-02bb99915a3c1f8c-51_image_0.nii.gz\n",
      "2023-10-16 01:36:15,757 INFO image_writer.py:197 - writing: /home/vlermakov/Development/Nodules/Nodule-Detection-LUNA2016/processed_data_full_range_075mm_fixed/Izeyag__63a3402b167c5d09157b26a2-18ca029921401196-7/Izeyag__63a3402b167c5d09157b26a2-18ca029921401196-7_image_0.nii.gz\n",
      "2023-10-16 01:36:15,812 INFO image_writer.py:197 - writing: /home/vlermakov/Development/Nodules/Nodule-Detection-LUNA2016/processed_data_full_range_075mm_fixed/Gruguka__6358b1e189f9070a39696bac-02bb99915a3c1f8c-51/Gruguka__6358b1e189f9070a39696bac-02bb99915a3c1f8c-51_mask_0.nii.gz\n",
      "2023-10-16 01:36:15,824 INFO image_writer.py:197 - writing: /home/vlermakov/Development/Nodules/Nodule-Detection-LUNA2016/processed_data_full_range_075mm_fixed/Izeyag__63a3402b167c5d09157b26a2-18ca029921401196-29/Izeyag__63a3402b167c5d09157b26a2-18ca029921401196-29_image_0.nii.gz\n",
      "2023-10-16 01:36:21,293 INFO image_writer.py:197 - writing: /home/vlermakov/Development/Nodules/Nodule-Detection-LUNA2016/processed_data_full_range_075mm_fixed/Izeyag__63a3402b167c5d09157b26a2-18ca029921401196-7/Izeyag__63a3402b167c5d09157b26a2-18ca029921401196-7_mask_0.nii.gz\n",
      "2023-10-16 01:36:21,441 INFO image_writer.py:197 - writing: /home/vlermakov/Development/Nodules/Nodule-Detection-LUNA2016/processed_data_full_range_075mm_fixed/Izeyag__63a3402b167c5d09157b26a2-18ca029921401196-29/Izeyag__63a3402b167c5d09157b26a2-18ca029921401196-29_mask_0.nii.gz\n"
     ]
    },
    {
     "name": "stderr",
     "output_type": "stream",
     "text": [
      "Loading dataset:  66%|█████████████████████████████████████████████████████████████████████████████████████████████▊                                                 | 375/572 [57:14<19:58,  6.08s/it]"
     ]
    },
    {
     "name": "stdout",
     "output_type": "stream",
     "text": [
      "2023-10-16 01:36:49,197 INFO image_writer.py:197 - writing: /home/vlermakov/Development/Nodules/Nodule-Detection-LUNA2016/processed_data_full_range_075mm_fixed/Quakuro__6362d776697c1b0908491ff4-4d7deecb53db0e14-1/Quakuro__6362d776697c1b0908491ff4-4d7deecb53db0e14-1_image_0.nii.gz\n",
      "2023-10-16 01:36:49,344 INFO image_writer.py:197 - writing: /home/vlermakov/Development/Nodules/Nodule-Detection-LUNA2016/processed_data_full_range_075mm_fixed/Quakuro__6362d776697c1b0908491ff4-4d7deecb53db0e14-1/Quakuro__6362d776697c1b0908491ff4-4d7deecb53db0e14-1_mask_0.nii.gz\n",
      "2023-10-16 01:36:55,009 INFO image_writer.py:197 - writing: /home/vlermakov/Development/Nodules/Nodule-Detection-LUNA2016/processed_data_full_range_075mm_fixed/Quakuro__6362d776697c1b0908491ff4-4d7deecb53db0e14-3/Quakuro__6362d776697c1b0908491ff4-4d7deecb53db0e14-3_image_0.nii.gz\n",
      "2023-10-16 01:36:55,108 INFO image_writer.py:197 - writing: /home/vlermakov/Development/Nodules/Nodule-Detection-LUNA2016/processed_data_full_range_075mm_fixed/Quakuro__6362d776697c1b0908491ff4-4d7deecb53db0e14-3/Quakuro__6362d776697c1b0908491ff4-4d7deecb53db0e14-3_mask_0.nii.gz\n",
      "2023-10-16 01:37:02,404 INFO image_writer.py:197 - writing: /home/vlermakov/Development/Nodules/Nodule-Detection-LUNA2016/processed_data_full_range_075mm_fixed/Gruguka__6358b1e189f9070a39696bac-02bb99915a3c1f8c-7/Gruguka__6358b1e189f9070a39696bac-02bb99915a3c1f8c-7_image_0.nii.gz\n",
      "2023-10-16 01:37:04,184 INFO image_writer.py:197 - writing: /home/vlermakov/Development/Nodules/Nodule-Detection-LUNA2016/processed_data_full_range_075mm_fixed/Gruguka__6358b1e189f9070a39696bac-02bb99915a3c1f8c-7/Gruguka__6358b1e189f9070a39696bac-02bb99915a3c1f8c-7_mask_0.nii.gz\n"
     ]
    },
    {
     "name": "stderr",
     "output_type": "stream",
     "text": [
      "\r",
      "Loading dataset:  66%|█████████████████████████████████████████████████████████████████████████████████████████████▉                                                 | 376/572 [57:51<47:53, 14.66s/it]"
     ]
    },
    {
     "name": "stdout",
     "output_type": "stream",
     "text": [
      "2023-10-16 01:37:12,480 INFO image_writer.py:197 - writing: /home/vlermakov/Development/Nodules/Nodule-Detection-LUNA2016/processed_data_full_range_075mm_fixed/Lolaru__63a083b1d6468309ee278d3d-c1c3413da4e0107a-1/Lolaru__63a083b1d6468309ee278d3d-c1c3413da4e0107a-1_image_0.nii.gz\n",
      "2023-10-16 01:37:12,603 INFO image_writer.py:197 - writing: /home/vlermakov/Development/Nodules/Nodule-Detection-LUNA2016/processed_data_full_range_075mm_fixed/Gruguka__6358b1e189f9070a39696bac-02bb99915a3c1f8c-37/Gruguka__6358b1e189f9070a39696bac-02bb99915a3c1f8c-37_image_0.nii.gz\n",
      "2023-10-16 01:37:12,655 INFO image_writer.py:197 - writing: /home/vlermakov/Development/Nodules/Nodule-Detection-LUNA2016/processed_data_full_range_075mm_fixed/Gruguka__6358b1e189f9070a39696bac-02bb99915a3c1f8c-3/Gruguka__6358b1e189f9070a39696bac-02bb99915a3c1f8c-3_image_0.nii.gz\n",
      "2023-10-16 01:37:12,745 INFO image_writer.py:197 - writing: /home/vlermakov/Development/Nodules/Nodule-Detection-LUNA2016/processed_data_full_range_075mm_fixed/Lolaru__63a083b1d6468309ee278d3d-c1c3413da4e0107a-2/Lolaru__63a083b1d6468309ee278d3d-c1c3413da4e0107a-2_image_0.nii.gz\n",
      "2023-10-16 01:37:12,898 INFO image_writer.py:197 - writing: /home/vlermakov/Development/Nodules/Nodule-Detection-LUNA2016/processed_data_full_range_075mm_fixed/Lolaru__63a083b1d6468309ee278d3d-c1c3413da4e0107a-1/Lolaru__63a083b1d6468309ee278d3d-c1c3413da4e0107a-1_mask_0.nii.gz\n",
      "2023-10-16 01:37:13,145 INFO image_writer.py:197 - writing: /home/vlermakov/Development/Nodules/Nodule-Detection-LUNA2016/processed_data_full_range_075mm_fixed/Gruguka__6358b1e189f9070a39696bac-02bb99915a3c1f8c-37/Gruguka__6358b1e189f9070a39696bac-02bb99915a3c1f8c-37_mask_0.nii.gz\n",
      "2023-10-16 01:37:13,289 INFO image_writer.py:197 - writing: /home/vlermakov/Development/Nodules/Nodule-Detection-LUNA2016/processed_data_full_range_075mm_fixed/Gruguka__6358b1e189f9070a39696bac-02bb99915a3c1f8c-3/Gruguka__6358b1e189f9070a39696bac-02bb99915a3c1f8c-3_mask_0.nii.gz\n",
      "2023-10-16 01:37:13,477 INFO image_writer.py:197 - writing: /home/vlermakov/Development/Nodules/Nodule-Detection-LUNA2016/processed_data_full_range_075mm_fixed/Lolaru__63a083b1d6468309ee278d3d-c1c3413da4e0107a-2/Lolaru__63a083b1d6468309ee278d3d-c1c3413da4e0107a-2_mask_0.nii.gz\n"
     ]
    },
    {
     "name": "stderr",
     "output_type": "stream",
     "text": [
      "Loading dataset:  66%|██████████████████████████████████████████████████████████████████████████████████████████████▌                                                | 378/572 [58:15<42:21, 13.10s/it]"
     ]
    },
    {
     "name": "stdout",
     "output_type": "stream",
     "text": [
      "2023-10-16 01:37:40,117 INFO image_writer.py:197 - writing: /home/vlermakov/Development/Nodules/Nodule-Detection-LUNA2016/processed_data_full_range_075mm_fixed/Lolaru__63a083b1d6468309ee278d3d-c1c3413da4e0107a-3/Lolaru__63a083b1d6468309ee278d3d-c1c3413da4e0107a-3_image_0.nii.gz\n",
      "2023-10-16 01:37:40,208 INFO image_writer.py:197 - writing: /home/vlermakov/Development/Nodules/Nodule-Detection-LUNA2016/processed_data_full_range_075mm_fixed/Lolaru__63a083b1d6468309ee278d3d-c1c3413da4e0107a-3/Lolaru__63a083b1d6468309ee278d3d-c1c3413da4e0107a-3_mask_0.nii.gz\n"
     ]
    },
    {
     "name": "stderr",
     "output_type": "stream",
     "text": [
      "\r",
      "Loading dataset:  67%|███████████████████████████████████████████████████████████████████████████████████████████████▊                                               | 383/572 [58:25<17:30,  5.56s/it]"
     ]
    },
    {
     "name": "stdout",
     "output_type": "stream",
     "text": [
      "2023-10-16 01:37:58,030 INFO image_writer.py:197 - writing: /home/vlermakov/Development/Nodules/Nodule-Detection-LUNA2016/processed_data_full_range_075mm_fixed/Lolaru__63a083b1d6468309ee278d3d-c1c3413da4e0107a-4/Lolaru__63a083b1d6468309ee278d3d-c1c3413da4e0107a-4_image_0.nii.gz\n",
      "2023-10-16 01:37:58,087 INFO image_writer.py:197 - writing: /home/vlermakov/Development/Nodules/Nodule-Detection-LUNA2016/processed_data_full_range_075mm_fixed/Lolaru__63a083b1d6468309ee278d3d-c1c3413da4e0107a-5/Lolaru__63a083b1d6468309ee278d3d-c1c3413da4e0107a-5_image_0.nii.gz\n",
      "2023-10-16 01:37:58,240 INFO image_writer.py:197 - writing: /home/vlermakov/Development/Nodules/Nodule-Detection-LUNA2016/processed_data_full_range_075mm_fixed/Lolaru__63a083b1d6468309ee278d3d-c1c3413da4e0107a-4/Lolaru__63a083b1d6468309ee278d3d-c1c3413da4e0107a-4_mask_0.nii.gz\n",
      "2023-10-16 01:37:58,349 INFO image_writer.py:197 - writing: /home/vlermakov/Development/Nodules/Nodule-Detection-LUNA2016/processed_data_full_range_075mm_fixed/Lolaru__63a083b1d6468309ee278d3d-c1c3413da4e0107a-5/Lolaru__63a083b1d6468309ee278d3d-c1c3413da4e0107a-5_mask_0.nii.gz\n"
     ]
    },
    {
     "name": "stderr",
     "output_type": "stream",
     "text": [
      "Loading dataset:  67%|████████████████████████████████████████████████████████████████████████████████████████████████▎                                              | 385/572 [58:48<22:26,  7.20s/it]"
     ]
    },
    {
     "name": "stdout",
     "output_type": "stream",
     "text": [
      "2023-10-16 01:38:19,133 INFO image_writer.py:197 - writing: /home/vlermakov/Development/Nodules/Nodule-Detection-LUNA2016/processed_data_full_range_075mm_fixed/Dibafug__63b5f75903d1fe08ee2c8a10-c790619240b48a78-2/Dibafug__63b5f75903d1fe08ee2c8a10-c790619240b48a78-2_image_0.nii.gz\n",
      "2023-10-16 01:38:19,274 INFO image_writer.py:197 - writing: /home/vlermakov/Development/Nodules/Nodule-Detection-LUNA2016/processed_data_full_range_075mm_fixed/Dibafug__63b5f75903d1fe08ee2c8a10-c790619240b48a78-2/Dibafug__63b5f75903d1fe08ee2c8a10-c790619240b48a78-2_mask_0.nii.gz\n",
      "2023-10-16 01:38:26,932 INFO image_writer.py:197 - writing: /home/vlermakov/Development/Nodules/Nodule-Detection-LUNA2016/processed_data_full_range_075mm_fixed/Gaqueque__6365f98a1669b90a81dec415-5038988cad8a01c7-10/Gaqueque__6365f98a1669b90a81dec415-5038988cad8a01c7-10_image_0.nii.gz\n",
      "2023-10-16 01:38:27,203 INFO image_writer.py:197 - writing: /home/vlermakov/Development/Nodules/Nodule-Detection-LUNA2016/processed_data_full_range_075mm_fixed/Gaqueque__6365f98a1669b90a81dec415-5038988cad8a01c7-4/Gaqueque__6365f98a1669b90a81dec415-5038988cad8a01c7-4_image_0.nii.gz\n",
      "2023-10-16 01:38:27,410 INFO image_writer.py:197 - writing: /home/vlermakov/Development/Nodules/Nodule-Detection-LUNA2016/processed_data_full_range_075mm_fixed/Gaqueque__6365f98a1669b90a81dec415-5038988cad8a01c7-1/Gaqueque__6365f98a1669b90a81dec415-5038988cad8a01c7-1_image_0.nii.gz\n",
      "2023-10-16 01:38:27,553 INFO image_writer.py:197 - writing: /home/vlermakov/Development/Nodules/Nodule-Detection-LUNA2016/processed_data_full_range_075mm_fixed/Gaqueque__6365f98a1669b90a81dec415-5038988cad8a01c7-10/Gaqueque__6365f98a1669b90a81dec415-5038988cad8a01c7-10_mask_0.nii.gz\n",
      "2023-10-16 01:38:27,845 INFO image_writer.py:197 - writing: /home/vlermakov/Development/Nodules/Nodule-Detection-LUNA2016/processed_data_full_range_075mm_fixed/Gaqueque__6365f98a1669b90a81dec415-5038988cad8a01c7-4/Gaqueque__6365f98a1669b90a81dec415-5038988cad8a01c7-4_mask_0.nii.gz\n",
      "2023-10-16 01:38:27,948 INFO image_writer.py:197 - writing: /home/vlermakov/Development/Nodules/Nodule-Detection-LUNA2016/processed_data_full_range_075mm_fixed/Gaqueque__6365f98a1669b90a81dec415-5038988cad8a01c7-1/Gaqueque__6365f98a1669b90a81dec415-5038988cad8a01c7-1_mask_0.nii.gz\n",
      "2023-10-16 01:38:45,763 INFO image_writer.py:197 - writing: /home/vlermakov/Development/Nodules/Nodule-Detection-LUNA2016/processed_data_full_range_075mm_fixed/Otifnul__639c9413c8f93e08dd3aefe8-9c3eecbac4237a2c-1/Otifnul__639c9413c8f93e08dd3aefe8-9c3eecbac4237a2c-1_image_0.nii.gz\n",
      "2023-10-16 01:38:46,025 INFO image_writer.py:197 - writing: /home/vlermakov/Development/Nodules/Nodule-Detection-LUNA2016/processed_data_full_range_075mm_fixed/Fajafu__6352c10e2aae5609f03b4717-a2c3cea203d456a9-18/Fajafu__6352c10e2aae5609f03b4717-a2c3cea203d456a9-18_image_0.nii.gz\n",
      "2023-10-16 01:38:46,884 INFO image_writer.py:197 - writing: /home/vlermakov/Development/Nodules/Nodule-Detection-LUNA2016/processed_data_full_range_075mm_fixed/Otifnul__639c9413c8f93e08dd3aefe8-9c3eecbac4237a2c-1/Otifnul__639c9413c8f93e08dd3aefe8-9c3eecbac4237a2c-1_mask_0.nii.gz\n",
      "2023-10-16 01:38:47,262 INFO image_writer.py:197 - writing: /home/vlermakov/Development/Nodules/Nodule-Detection-LUNA2016/processed_data_full_range_075mm_fixed/Fajafu__6352c10e2aae5609f03b4717-a2c3cea203d456a9-18/Fajafu__6352c10e2aae5609f03b4717-a2c3cea203d456a9-18_mask_0.nii.gz\n"
     ]
    },
    {
     "name": "stderr",
     "output_type": "stream",
     "text": [
      "Loading dataset:  68%|████████████████████████████████████████████████████████████████████████████████████████████████▊                                              | 387/572 [59:41<40:27, 13.12s/it]"
     ]
    },
    {
     "name": "stdout",
     "output_type": "stream",
     "text": [
      "2023-10-16 01:39:06,241 INFO image_writer.py:197 - writing: /home/vlermakov/Development/Nodules/Nodule-Detection-LUNA2016/processed_data_full_range_075mm_fixed/Otifnul__639c9413c8f93e08dd3aefe8-9c3eecbac4237a2c-3/Otifnul__639c9413c8f93e08dd3aefe8-9c3eecbac4237a2c-3_image_0.nii.gz\n",
      "2023-10-16 01:39:06,470 INFO image_writer.py:197 - writing: /home/vlermakov/Development/Nodules/Nodule-Detection-LUNA2016/processed_data_full_range_075mm_fixed/Otifnul__639c9413c8f93e08dd3aefe8-9c3eecbac4237a2c-3/Otifnul__639c9413c8f93e08dd3aefe8-9c3eecbac4237a2c-3_mask_0.nii.gz\n",
      "2023-10-16 01:39:06,566 INFO image_writer.py:197 - writing: /home/vlermakov/Development/Nodules/Nodule-Detection-LUNA2016/processed_data_full_range_075mm_fixed/Otifnul__639c9413c8f93e08dd3aefe8-9c3eecbac4237a2c-2/Otifnul__639c9413c8f93e08dd3aefe8-9c3eecbac4237a2c-2_image_0.nii.gz\n",
      "2023-10-16 01:39:11,729 INFO image_writer.py:197 - writing: /home/vlermakov/Development/Nodules/Nodule-Detection-LUNA2016/processed_data_full_range_075mm_fixed/Otifnul__639c9413c8f93e08dd3aefe8-9c3eecbac4237a2c-2/Otifnul__639c9413c8f93e08dd3aefe8-9c3eecbac4237a2c-2_mask_0.nii.gz\n"
     ]
    },
    {
     "name": "stderr",
     "output_type": "stream",
     "text": [
      "Loading dataset:  69%|████████████████████████████████████████████████████████████████████████████████████████████████▉                                            | 393/572 [1:00:01<19:25,  6.51s/it]"
     ]
    },
    {
     "name": "stdout",
     "output_type": "stream",
     "text": [
      "2023-10-16 01:39:27,002 INFO image_writer.py:197 - writing: /home/vlermakov/Development/Nodules/Nodule-Detection-LUNA2016/processed_data_full_range_075mm_fixed/Otifnul__639c9413c8f93e08dd3aefe8-9c3eecbac4237a2c-4/Otifnul__639c9413c8f93e08dd3aefe8-9c3eecbac4237a2c-4_image_0.nii.gz\n",
      "2023-10-16 01:39:27,209 INFO image_writer.py:197 - writing: /home/vlermakov/Development/Nodules/Nodule-Detection-LUNA2016/processed_data_full_range_075mm_fixed/Otifnul__639c9413c8f93e08dd3aefe8-9c3eecbac4237a2c-4/Otifnul__639c9413c8f93e08dd3aefe8-9c3eecbac4237a2c-4_mask_0.nii.gz\n"
     ]
    },
    {
     "name": "stderr",
     "output_type": "stream",
     "text": [
      "\r",
      "Loading dataset:  69%|█████████████████████████████████████████████████████████████████████████████████████████████████                                            | 394/572 [1:00:12<21:40,  7.31s/it]"
     ]
    },
    {
     "name": "stdout",
     "output_type": "stream",
     "text": [
      "2023-10-16 01:39:35,730 INFO image_writer.py:197 - writing: /home/vlermakov/Development/Nodules/Nodule-Detection-LUNA2016/processed_data_full_range_075mm_fixed/Romemud__63a0d6b2fae9df0903a7ff80-ea2169468bf63e30-4/Romemud__63a0d6b2fae9df0903a7ff80-ea2169468bf63e30-4_image_0.nii.gz\n",
      "2023-10-16 01:39:36,528 INFO image_writer.py:197 - writing: /home/vlermakov/Development/Nodules/Nodule-Detection-LUNA2016/processed_data_full_range_075mm_fixed/Romemud__63a0d6b2fae9df0903a7ff80-ea2169468bf63e30-4/Romemud__63a0d6b2fae9df0903a7ff80-ea2169468bf63e30-4_mask_0.nii.gz\n",
      "2023-10-16 01:39:36,642 INFO image_writer.py:197 - writing: /home/vlermakov/Development/Nodules/Nodule-Detection-LUNA2016/processed_data_full_range_075mm_fixed/Finudouth__6366171865912609e6b25e31-9c894693436a6e08-2/Finudouth__6366171865912609e6b25e31-9c894693436a6e08-2_image_0.nii.gz\n",
      "2023-10-16 01:39:46,061 INFO image_writer.py:197 - writing: /home/vlermakov/Development/Nodules/Nodule-Detection-LUNA2016/processed_data_full_range_075mm_fixed/Finudouth__6366171865912609e6b25e31-9c894693436a6e08-2/Finudouth__6366171865912609e6b25e31-9c894693436a6e08-2_mask_0.nii.gz\n"
     ]
    },
    {
     "name": "stderr",
     "output_type": "stream",
     "text": [
      "\r",
      "Loading dataset:  69%|█████████████████████████████████████████████████████████████████████████████████████████████████▎                                           | 395/572 [1:00:31<28:30,  9.66s/it]"
     ]
    },
    {
     "name": "stdout",
     "output_type": "stream",
     "text": [
      "2023-10-16 01:39:52,656 INFO image_writer.py:197 - writing: /home/vlermakov/Development/Nodules/Nodule-Detection-LUNA2016/processed_data_full_range_075mm_fixed/Likalo__634879c547a4350af93788fb-e80898b53c66d12b-3/Likalo__634879c547a4350af93788fb-e80898b53c66d12b-3_image_0.nii.gz\n",
      "2023-10-16 01:39:52,693 INFO image_writer.py:197 - writing: /home/vlermakov/Development/Nodules/Nodule-Detection-LUNA2016/processed_data_full_range_075mm_fixed/Likalo__634879c547a4350af93788fb-e80898b53c66d12b-2/Likalo__634879c547a4350af93788fb-e80898b53c66d12b-2_image_0.nii.gz\n",
      "2023-10-16 01:39:52,767 INFO image_writer.py:197 - writing: /home/vlermakov/Development/Nodules/Nodule-Detection-LUNA2016/processed_data_full_range_075mm_fixed/Likalo__634879c547a4350af93788fb-e80898b53c66d12b-1/Likalo__634879c547a4350af93788fb-e80898b53c66d12b-1_image_0.nii.gz\n",
      "2023-10-16 01:39:53,435 INFO image_writer.py:197 - writing: /home/vlermakov/Development/Nodules/Nodule-Detection-LUNA2016/processed_data_full_range_075mm_fixed/Likalo__634879c547a4350af93788fb-e80898b53c66d12b-3/Likalo__634879c547a4350af93788fb-e80898b53c66d12b-3_mask_0.nii.gz\n",
      "2023-10-16 01:39:53,702 INFO image_writer.py:197 - writing: /home/vlermakov/Development/Nodules/Nodule-Detection-LUNA2016/processed_data_full_range_075mm_fixed/Likalo__634879c547a4350af93788fb-e80898b53c66d12b-2/Likalo__634879c547a4350af93788fb-e80898b53c66d12b-2_mask_0.nii.gz\n",
      "2023-10-16 01:39:53,717 INFO image_writer.py:197 - writing: /home/vlermakov/Development/Nodules/Nodule-Detection-LUNA2016/processed_data_full_range_075mm_fixed/Likalo__634879c547a4350af93788fb-e80898b53c66d12b-1/Likalo__634879c547a4350af93788fb-e80898b53c66d12b-1_mask_0.nii.gz\n"
     ]
    },
    {
     "name": "stderr",
     "output_type": "stream",
     "text": [
      "Loading dataset:  70%|██████████████████████████████████████████████████████████████████████████████████████████████████                                           | 398/572 [1:00:49<22:31,  7.77s/it]"
     ]
    },
    {
     "name": "stdout",
     "output_type": "stream",
     "text": [
      "2023-10-16 01:40:06,298 INFO image_writer.py:197 - writing: /home/vlermakov/Development/Nodules/Nodule-Detection-LUNA2016/processed_data_full_range_075mm_fixed/Likalo__634879c547a4350af93788fb-e80898b53c66d12b-7/Likalo__634879c547a4350af93788fb-e80898b53c66d12b-7_image_0.nii.gz\n",
      "2023-10-16 01:40:06,495 INFO image_writer.py:197 - writing: /home/vlermakov/Development/Nodules/Nodule-Detection-LUNA2016/processed_data_full_range_075mm_fixed/Likalo__634879c547a4350af93788fb-e80898b53c66d12b-7/Likalo__634879c547a4350af93788fb-e80898b53c66d12b-7_mask_0.nii.gz\n"
     ]
    },
    {
     "name": "stderr",
     "output_type": "stream",
     "text": [
      "\r",
      "Loading dataset:  70%|██████████████████████████████████████████████████████████████████████████████████████████████████▌                                          | 400/572 [1:00:51<14:56,  5.21s/it]"
     ]
    },
    {
     "name": "stdout",
     "output_type": "stream",
     "text": [
      "2023-10-16 01:40:24,444 INFO image_writer.py:197 - writing: /home/vlermakov/Development/Nodules/Nodule-Detection-LUNA2016/processed_data_full_range_075mm_fixed/Likalo__634879c547a4350af93788fb-e80898b53c66d12b-13/Likalo__634879c547a4350af93788fb-e80898b53c66d12b-13_image_0.nii.gz\n",
      "2023-10-16 01:40:24,881 INFO image_writer.py:197 - writing: /home/vlermakov/Development/Nodules/Nodule-Detection-LUNA2016/processed_data_full_range_075mm_fixed/Likalo__634879c547a4350af93788fb-e80898b53c66d12b-13/Likalo__634879c547a4350af93788fb-e80898b53c66d12b-13_mask_0.nii.gz\n"
     ]
    },
    {
     "name": "stderr",
     "output_type": "stream",
     "text": [
      "\r",
      "Loading dataset:  70%|██████████████████████████████████████████████████████████████████████████████████████████████████▊                                          | 401/572 [1:01:10<22:55,  8.05s/it]"
     ]
    },
    {
     "name": "stdout",
     "output_type": "stream",
     "text": [
      "2023-10-16 01:40:41,145 INFO image_writer.py:197 - writing: /home/vlermakov/Development/Nodules/Nodule-Detection-LUNA2016/processed_data_full_range_075mm_fixed/Jametey__63b71d162176ab0918829214-1f06b7e0dad05d8d-3/Jametey__63b71d162176ab0918829214-1f06b7e0dad05d8d-3_image_0.nii.gz\n",
      "2023-10-16 01:40:41,650 INFO image_writer.py:197 - writing: /home/vlermakov/Development/Nodules/Nodule-Detection-LUNA2016/processed_data_full_range_075mm_fixed/Jametey__63b71d162176ab0918829214-1f06b7e0dad05d8d-3/Jametey__63b71d162176ab0918829214-1f06b7e0dad05d8d-3_mask_0.nii.gz\n"
     ]
    },
    {
     "name": "stderr",
     "output_type": "stream",
     "text": [
      "\r",
      "Loading dataset:  70%|███████████████████████████████████████████████████████████████████████████████████████████████████                                          | 402/572 [1:01:27<28:41, 10.13s/it]"
     ]
    },
    {
     "name": "stdout",
     "output_type": "stream",
     "text": [
      "2023-10-16 01:40:49,255 INFO image_writer.py:197 - writing: /home/vlermakov/Development/Nodules/Nodule-Detection-LUNA2016/processed_data_full_range_075mm_fixed/Quobosoo__63b71a8b2176ab0918829213-f8187597f182dfe2-12/Quobosoo__63b71a8b2176ab0918829213-f8187597f182dfe2-12_image_0.nii.gz\n",
      "2023-10-16 01:40:49,541 INFO image_writer.py:197 - writing: /home/vlermakov/Development/Nodules/Nodule-Detection-LUNA2016/processed_data_full_range_075mm_fixed/Quobosoo__63b71a8b2176ab0918829213-f8187597f182dfe2-7/Quobosoo__63b71a8b2176ab0918829213-f8187597f182dfe2-7_image_0.nii.gz\n",
      "2023-10-16 01:40:50,152 INFO image_writer.py:197 - writing: /home/vlermakov/Development/Nodules/Nodule-Detection-LUNA2016/processed_data_full_range_075mm_fixed/Quobosoo__63b71a8b2176ab0918829213-f8187597f182dfe2-12/Quobosoo__63b71a8b2176ab0918829213-f8187597f182dfe2-12_mask_0.nii.gz\n",
      "2023-10-16 01:40:50,423 INFO image_writer.py:197 - writing: /home/vlermakov/Development/Nodules/Nodule-Detection-LUNA2016/processed_data_full_range_075mm_fixed/Quobosoo__63b71a8b2176ab0918829213-f8187597f182dfe2-7/Quobosoo__63b71a8b2176ab0918829213-f8187597f182dfe2-7_mask_0.nii.gz\n",
      "2023-10-16 01:41:04,222 INFO image_writer.py:197 - writing: /home/vlermakov/Development/Nodules/Nodule-Detection-LUNA2016/processed_data_full_range_075mm_fixed/Quobosoo__63b71a8b2176ab0918829213-f8187597f182dfe2-10/Quobosoo__63b71a8b2176ab0918829213-f8187597f182dfe2-10_image_0.nii.gz\n",
      "2023-10-16 01:41:04,273 INFO image_writer.py:197 - writing: /home/vlermakov/Development/Nodules/Nodule-Detection-LUNA2016/processed_data_full_range_075mm_fixed/Busikor__6398a4fe346dc809c056d549-5e477d68497b3342-20/Busikor__6398a4fe346dc809c056d549-5e477d68497b3342-20_image_0.nii.gz\n",
      "2023-10-16 01:41:04,369 INFO image_writer.py:197 - writing: /home/vlermakov/Development/Nodules/Nodule-Detection-LUNA2016/processed_data_full_range_075mm_fixed/Jametey__63b71d162176ab0918829214-1f06b7e0dad05d8d-10/Jametey__63b71d162176ab0918829214-1f06b7e0dad05d8d-10_image_0.nii.gz\n",
      "2023-10-16 01:41:04,428 INFO image_writer.py:197 - writing: /home/vlermakov/Development/Nodules/Nodule-Detection-LUNA2016/processed_data_full_range_075mm_fixed/Quobosoo__63b71a8b2176ab0918829213-f8187597f182dfe2-26/Quobosoo__63b71a8b2176ab0918829213-f8187597f182dfe2-26_image_0.nii.gz\n",
      "2023-10-16 01:41:04,460 INFO image_writer.py:197 - writing: /home/vlermakov/Development/Nodules/Nodule-Detection-LUNA2016/processed_data_full_range_075mm_fixed/Quobosoo__63b71a8b2176ab0918829213-f8187597f182dfe2-10/Quobosoo__63b71a8b2176ab0918829213-f8187597f182dfe2-10_mask_0.nii.gz\n",
      "2023-10-16 01:41:04,471 INFO image_writer.py:197 - writing: /home/vlermakov/Development/Nodules/Nodule-Detection-LUNA2016/processed_data_full_range_075mm_fixed/Busikor__6398a4fe346dc809c056d549-5e477d68497b3342-20/Busikor__6398a4fe346dc809c056d549-5e477d68497b3342-20_mask_0.nii.gz\n",
      "2023-10-16 01:41:04,643 INFO image_writer.py:197 - writing: /home/vlermakov/Development/Nodules/Nodule-Detection-LUNA2016/processed_data_full_range_075mm_fixed/Jametey__63b71d162176ab0918829214-1f06b7e0dad05d8d-10/Jametey__63b71d162176ab0918829214-1f06b7e0dad05d8d-10_mask_0.nii.gz\n"
     ]
    },
    {
     "name": "stderr",
     "output_type": "stream",
     "text": [
      "Loading dataset:  71%|███████████████████████████████████████████████████████████████████████████████████████████████████▌                                         | 404/572 [1:02:03<35:23, 12.64s/it]"
     ]
    },
    {
     "name": "stdout",
     "output_type": "stream",
     "text": [
      "2023-10-16 01:41:19,269 INFO image_writer.py:197 - writing: /home/vlermakov/Development/Nodules/Nodule-Detection-LUNA2016/processed_data_full_range_075mm_fixed/Quobosoo__63b71a8b2176ab0918829213-f8187597f182dfe2-26/Quobosoo__63b71a8b2176ab0918829213-f8187597f182dfe2-26_mask_0.nii.gz\n"
     ]
    },
    {
     "name": "stderr",
     "output_type": "stream",
     "text": [
      "Loading dataset:  71%|████████████████████████████████████████████████████████████████████████████████████████████████████▎                                        | 407/572 [1:02:08<18:01,  6.56s/it]"
     ]
    },
    {
     "name": "stdout",
     "output_type": "stream",
     "text": [
      "2023-10-16 01:41:54,284 INFO image_writer.py:197 - writing: /home/vlermakov/Development/Nodules/Nodule-Detection-LUNA2016/processed_data_full_range_075mm_fixed/Busikor__6398a4fe346dc809c056d549-5e477d68497b3342-3/Busikor__6398a4fe346dc809c056d549-5e477d68497b3342-3_image_0.nii.gz\n",
      "2023-10-16 01:41:54,345 INFO image_writer.py:197 - writing: /home/vlermakov/Development/Nodules/Nodule-Detection-LUNA2016/processed_data_full_range_075mm_fixed/Oduprug__6398b20a190f7d09dfeb4cd2-57d0161faab3f2c4-1/Oduprug__6398b20a190f7d09dfeb4cd2-57d0161faab3f2c4-1_image_0.nii.gz\n",
      "2023-10-16 01:41:54,422 INFO image_writer.py:197 - writing: /home/vlermakov/Development/Nodules/Nodule-Detection-LUNA2016/processed_data_full_range_075mm_fixed/Busikor__6398a4fe346dc809c056d549-5e477d68497b3342-3/Busikor__6398a4fe346dc809c056d549-5e477d68497b3342-3_mask_0.nii.gz\n",
      "2023-10-16 01:41:54,500 INFO image_writer.py:197 - writing: /home/vlermakov/Development/Nodules/Nodule-Detection-LUNA2016/processed_data_full_range_075mm_fixed/Oduprug__6398b20a190f7d09dfeb4cd2-57d0161faab3f2c4-1/Oduprug__6398b20a190f7d09dfeb4cd2-57d0161faab3f2c4-1_mask_0.nii.gz\n"
     ]
    },
    {
     "name": "stderr",
     "output_type": "stream",
     "text": [
      "\r",
      "Loading dataset:  72%|████████████████████████████████████████████████████████████████████████████████████████████████████▊                                        | 409/572 [1:02:39<27:18, 10.05s/it]"
     ]
    },
    {
     "name": "stdout",
     "output_type": "stream",
     "text": [
      "2023-10-16 01:42:04,463 INFO image_writer.py:197 - writing: /home/vlermakov/Development/Nodules/Nodule-Detection-LUNA2016/processed_data_full_range_075mm_fixed/Umkleegneg__6345eded5d2d1d0ae1157d50-9b0f52e4b4545675-2/Umkleegneg__6345eded5d2d1d0ae1157d50-9b0f52e4b4545675-2_image_0.nii.gz\n",
      "2023-10-16 01:42:04,508 INFO image_writer.py:197 - writing: /home/vlermakov/Development/Nodules/Nodule-Detection-LUNA2016/processed_data_full_range_075mm_fixed/Oduprug__6398b20a190f7d09dfeb4cd2-57d0161faab3f2c4-2/Oduprug__6398b20a190f7d09dfeb4cd2-57d0161faab3f2c4-2_image_0.nii.gz\n",
      "2023-10-16 01:42:04,542 INFO image_writer.py:197 - writing: /home/vlermakov/Development/Nodules/Nodule-Detection-LUNA2016/processed_data_full_range_075mm_fixed/Umkleegneg__6345eded5d2d1d0ae1157d50-9b0f52e4b4545675-1/Umkleegneg__6345eded5d2d1d0ae1157d50-9b0f52e4b4545675-1_image_0.nii.gz\n",
      "2023-10-16 01:42:04,704 INFO image_writer.py:197 - writing: /home/vlermakov/Development/Nodules/Nodule-Detection-LUNA2016/processed_data_full_range_075mm_fixed/Busikor__6398a4fe346dc809c056d549-5e477d68497b3342-5/Busikor__6398a4fe346dc809c056d549-5e477d68497b3342-5_image_0.nii.gz\n",
      "2023-10-16 01:42:04,804 INFO image_writer.py:197 - writing: /home/vlermakov/Development/Nodules/Nodule-Detection-LUNA2016/processed_data_full_range_075mm_fixed/Umkleegneg__6345eded5d2d1d0ae1157d50-9b0f52e4b4545675-2/Umkleegneg__6345eded5d2d1d0ae1157d50-9b0f52e4b4545675-2_mask_0.nii.gz\n",
      "2023-10-16 01:42:05,259 INFO image_writer.py:197 - writing: /home/vlermakov/Development/Nodules/Nodule-Detection-LUNA2016/processed_data_full_range_075mm_fixed/Oduprug__6398b20a190f7d09dfeb4cd2-57d0161faab3f2c4-2/Oduprug__6398b20a190f7d09dfeb4cd2-57d0161faab3f2c4-2_mask_0.nii.gz\n",
      "2023-10-16 01:42:05,267 INFO image_writer.py:197 - writing: /home/vlermakov/Development/Nodules/Nodule-Detection-LUNA2016/processed_data_full_range_075mm_fixed/Oduprug__6398b20a190f7d09dfeb4cd2-57d0161faab3f2c4-3/Oduprug__6398b20a190f7d09dfeb4cd2-57d0161faab3f2c4-3_image_0.nii.gz\n",
      "2023-10-16 01:42:14,873 INFO image_writer.py:197 - writing: /home/vlermakov/Development/Nodules/Nodule-Detection-LUNA2016/processed_data_full_range_075mm_fixed/Umkleegneg__6345eded5d2d1d0ae1157d50-9b0f52e4b4545675-1/Umkleegneg__6345eded5d2d1d0ae1157d50-9b0f52e4b4545675-1_mask_0.nii.gz\n",
      "2023-10-16 01:42:14,992 INFO image_writer.py:197 - writing: /home/vlermakov/Development/Nodules/Nodule-Detection-LUNA2016/processed_data_full_range_075mm_fixed/Busikor__6398a4fe346dc809c056d549-5e477d68497b3342-5/Busikor__6398a4fe346dc809c056d549-5e477d68497b3342-5_mask_0.nii.gz\n",
      "2023-10-16 01:42:15,104 INFO image_writer.py:197 - writing: /home/vlermakov/Development/Nodules/Nodule-Detection-LUNA2016/processed_data_full_range_075mm_fixed/Oduprug__6398b20a190f7d09dfeb4cd2-57d0161faab3f2c4-3/Oduprug__6398b20a190f7d09dfeb4cd2-57d0161faab3f2c4-3_mask_0.nii.gz\n"
     ]
    },
    {
     "name": "stderr",
     "output_type": "stream",
     "text": [
      "Loading dataset:  72%|█████████████████████████████████████████████████████████████████████████████████████████████████████▎                                       | 411/572 [1:03:11<31:52, 11.88s/it]"
     ]
    },
    {
     "name": "stdout",
     "output_type": "stream",
     "text": [
      "2023-10-16 01:42:28,061 INFO image_writer.py:197 - writing: /home/vlermakov/Development/Nodules/Nodule-Detection-LUNA2016/processed_data_full_range_075mm_fixed/Eyuepen__63581104c9c11e0a188fd449-28ee6a1ae8fb9f9a-1/Eyuepen__63581104c9c11e0a188fd449-28ee6a1ae8fb9f9a-1_image_0.nii.gz\n",
      "2023-10-16 01:42:28,377 INFO image_writer.py:197 - writing: /home/vlermakov/Development/Nodules/Nodule-Detection-LUNA2016/processed_data_full_range_075mm_fixed/Eyuepen__63581104c9c11e0a188fd449-28ee6a1ae8fb9f9a-1/Eyuepen__63581104c9c11e0a188fd449-28ee6a1ae8fb9f9a-1_mask_0.nii.gz\n"
     ]
    },
    {
     "name": "stderr",
     "output_type": "stream",
     "text": [
      "\r",
      "Loading dataset:  73%|██████████████████████████████████████████████████████████████████████████████████████████████████████▌                                      | 416/572 [1:03:13<12:00,  4.62s/it]"
     ]
    },
    {
     "name": "stdout",
     "output_type": "stream",
     "text": [
      "2023-10-16 01:42:47,202 INFO image_writer.py:197 - writing: /home/vlermakov/Development/Nodules/Nodule-Detection-LUNA2016/processed_data_full_range_075mm_fixed/Eyuepen__63581104c9c11e0a188fd449-28ee6a1ae8fb9f9a-2/Eyuepen__63581104c9c11e0a188fd449-28ee6a1ae8fb9f9a-2_image_0.nii.gz\n",
      "2023-10-16 01:42:47,320 INFO image_writer.py:197 - writing: /home/vlermakov/Development/Nodules/Nodule-Detection-LUNA2016/processed_data_full_range_075mm_fixed/Eyuepen__63581104c9c11e0a188fd449-28ee6a1ae8fb9f9a-2/Eyuepen__63581104c9c11e0a188fd449-28ee6a1ae8fb9f9a-2_mask_0.nii.gz\n"
     ]
    },
    {
     "name": "stderr",
     "output_type": "stream",
     "text": [
      "\r",
      "Loading dataset:  73%|██████████████████████████████████████████████████████████████████████████████████████████████████████▊                                      | 417/572 [1:03:35<18:51,  7.30s/it]"
     ]
    },
    {
     "name": "stdout",
     "output_type": "stream",
     "text": [
      "2023-10-16 01:42:53,970 INFO image_writer.py:197 - writing: /home/vlermakov/Development/Nodules/Nodule-Detection-LUNA2016/processed_data_full_range_075mm_fixed/Eyuepen__63581104c9c11e0a188fd449-28ee6a1ae8fb9f9a-3/Eyuepen__63581104c9c11e0a188fd449-28ee6a1ae8fb9f9a-3_image_0.nii.gz\n",
      "2023-10-16 01:42:55,367 INFO image_writer.py:197 - writing: /home/vlermakov/Development/Nodules/Nodule-Detection-LUNA2016/processed_data_full_range_075mm_fixed/Eyuepen__63581104c9c11e0a188fd449-28ee6a1ae8fb9f9a-3/Eyuepen__63581104c9c11e0a188fd449-28ee6a1ae8fb9f9a-3_mask_0.nii.gz\n"
     ]
    },
    {
     "name": "stderr",
     "output_type": "stream",
     "text": [
      "\r",
      "Loading dataset:  73%|███████████████████████████████████████████████████████████████████████████████████████████████████████                                      | 418/572 [1:03:41<18:00,  7.02s/it]"
     ]
    },
    {
     "name": "stdout",
     "output_type": "stream",
     "text": [
      "2023-10-16 01:43:07,479 INFO image_writer.py:197 - writing: /home/vlermakov/Development/Nodules/Nodule-Detection-LUNA2016/processed_data_full_range_075mm_fixed/Quefiko__6370841bc41c42091ba564d2-981bef99c6fb7283-1/Quefiko__6370841bc41c42091ba564d2-981bef99c6fb7283-1_image_0.nii.gz\n",
      "2023-10-16 01:43:07,544 INFO image_writer.py:197 - writing: /home/vlermakov/Development/Nodules/Nodule-Detection-LUNA2016/processed_data_full_range_075mm_fixed/Quefiko__6370841bc41c42091ba564d2-981bef99c6fb7283-5/Quefiko__6370841bc41c42091ba564d2-981bef99c6fb7283-5_image_0.nii.gz\n",
      "2023-10-16 01:43:07,612 INFO image_writer.py:197 - writing: /home/vlermakov/Development/Nodules/Nodule-Detection-LUNA2016/processed_data_full_range_075mm_fixed/Quefiko__6370841bc41c42091ba564d2-981bef99c6fb7283-1/Quefiko__6370841bc41c42091ba564d2-981bef99c6fb7283-1_mask_0.nii.gz\n",
      "2023-10-16 01:43:07,695 INFO image_writer.py:197 - writing: /home/vlermakov/Development/Nodules/Nodule-Detection-LUNA2016/processed_data_full_range_075mm_fixed/Quefiko__6370841bc41c42091ba564d2-981bef99c6fb7283-5/Quefiko__6370841bc41c42091ba564d2-981bef99c6fb7283-5_mask_0.nii.gz\n"
     ]
    },
    {
     "name": "stderr",
     "output_type": "stream",
     "text": [
      "\r",
      "Loading dataset:  73%|███████████████████████████████████████████████████████████████████████████████████████████████████████▎                                     | 419/572 [1:03:57<22:34,  8.85s/it]"
     ]
    },
    {
     "name": "stdout",
     "output_type": "stream",
     "text": [
      "2023-10-16 01:43:18,097 INFO image_writer.py:197 - writing: /home/vlermakov/Development/Nodules/Nodule-Detection-LUNA2016/processed_data_full_range_075mm_fixed/Quefiko__6370841bc41c42091ba564d2-981bef99c6fb7283-2/Quefiko__6370841bc41c42091ba564d2-981bef99c6fb7283-2_image_0.nii.gz\n",
      "2023-10-16 01:43:19,059 INFO image_writer.py:197 - writing: /home/vlermakov/Development/Nodules/Nodule-Detection-LUNA2016/processed_data_full_range_075mm_fixed/Quefiko__6370841bc41c42091ba564d2-981bef99c6fb7283-2/Quefiko__6370841bc41c42091ba564d2-981bef99c6fb7283-2_mask_0.nii.gz\n"
     ]
    },
    {
     "name": "stderr",
     "output_type": "stream",
     "text": [
      "\r",
      "Loading dataset:  74%|███████████████████████████████████████████████████████████████████████████████████████████████████████▊                                     | 421/572 [1:04:03<17:11,  6.83s/it]"
     ]
    },
    {
     "name": "stdout",
     "output_type": "stream",
     "text": [
      "2023-10-16 01:43:24,530 INFO image_writer.py:197 - writing: /home/vlermakov/Development/Nodules/Nodule-Detection-LUNA2016/processed_data_full_range_075mm_fixed/Gireka__635c46f1f32c3409fd451ac3-628f238e04a2f13a-2/Gireka__635c46f1f32c3409fd451ac3-628f238e04a2f13a-2_image_0.nii.gz\n",
      "2023-10-16 01:43:24,803 INFO image_writer.py:197 - writing: /home/vlermakov/Development/Nodules/Nodule-Detection-LUNA2016/processed_data_full_range_075mm_fixed/Gireka__635c46f1f32c3409fd451ac3-628f238e04a2f13a-2/Gireka__635c46f1f32c3409fd451ac3-628f238e04a2f13a-2_mask_0.nii.gz\n",
      "2023-10-16 01:43:30,006 INFO image_writer.py:197 - writing: /home/vlermakov/Development/Nodules/Nodule-Detection-LUNA2016/processed_data_full_range_075mm_fixed/Gireka__635c46f1f32c3409fd451ac3-628f238e04a2f13a-1/Gireka__635c46f1f32c3409fd451ac3-628f238e04a2f13a-1_image_0.nii.gz\n",
      "2023-10-16 01:43:30,359 INFO image_writer.py:197 - writing: /home/vlermakov/Development/Nodules/Nodule-Detection-LUNA2016/processed_data_full_range_075mm_fixed/Gireka__635c46f1f32c3409fd451ac3-628f238e04a2f13a-1/Gireka__635c46f1f32c3409fd451ac3-628f238e04a2f13a-1_mask_0.nii.gz\n"
     ]
    },
    {
     "name": "stderr",
     "output_type": "stream",
     "text": [
      "Loading dataset:  74%|████████████████████████████████████████████████████████████████████████████████████████████████████████▎                                    | 423/572 [1:04:20<18:06,  7.29s/it]"
     ]
    },
    {
     "name": "stdout",
     "output_type": "stream",
     "text": [
      "2023-10-16 01:43:46,941 INFO image_writer.py:197 - writing: /home/vlermakov/Development/Nodules/Nodule-Detection-LUNA2016/processed_data_full_range_075mm_fixed/Gireka__635c46f1f32c3409fd451ac3-628f238e04a2f13a-3/Gireka__635c46f1f32c3409fd451ac3-628f238e04a2f13a-3_image_0.nii.gz\n",
      "2023-10-16 01:43:47,566 INFO image_writer.py:197 - writing: /home/vlermakov/Development/Nodules/Nodule-Detection-LUNA2016/processed_data_full_range_075mm_fixed/Gireka__635c46f1f32c3409fd451ac3-628f238e04a2f13a-3/Gireka__635c46f1f32c3409fd451ac3-628f238e04a2f13a-3_mask_0.nii.gz\n"
     ]
    },
    {
     "name": "stderr",
     "output_type": "stream",
     "text": [
      "\r",
      "Loading dataset:  74%|████████████████████████████████████████████████████████████████████████████████████████████████████████▌                                    | 424/572 [1:04:32<20:41,  8.39s/it]"
     ]
    },
    {
     "name": "stdout",
     "output_type": "stream",
     "text": [
      "2023-10-16 01:43:53,920 INFO image_writer.py:197 - writing: /home/vlermakov/Development/Nodules/Nodule-Detection-LUNA2016/processed_data_full_range_075mm_fixed/Gireka__635c46f1f32c3409fd451ac3-628f238e04a2f13a-5/Gireka__635c46f1f32c3409fd451ac3-628f238e04a2f13a-5_image_0.nii.gz\n",
      "2023-10-16 01:43:54,106 INFO image_writer.py:197 - writing: /home/vlermakov/Development/Nodules/Nodule-Detection-LUNA2016/processed_data_full_range_075mm_fixed/Gireka__635c46f1f32c3409fd451ac3-628f238e04a2f13a-5/Gireka__635c46f1f32c3409fd451ac3-628f238e04a2f13a-5_mask_0.nii.gz\n"
     ]
    },
    {
     "name": "stderr",
     "output_type": "stream",
     "text": [
      "\r",
      "Loading dataset:  74%|████████████████████████████████████████████████████████████████████████████████████████████████████████▊                                    | 425/572 [1:04:39<19:15,  7.86s/it]"
     ]
    },
    {
     "name": "stdout",
     "output_type": "stream",
     "text": [
      "2023-10-16 01:44:23,546 INFO image_writer.py:197 - writing: /home/vlermakov/Development/Nodules/Nodule-Detection-LUNA2016/processed_data_full_range_075mm_fixed/Pumosue__6352b5ed5f5df308fca86f85-b2cb34796bc7190e-3/Pumosue__6352b5ed5f5df308fca86f85-b2cb34796bc7190e-3_image_0.nii.gz\n",
      "2023-10-16 01:44:23,814 INFO image_writer.py:197 - writing: /home/vlermakov/Development/Nodules/Nodule-Detection-LUNA2016/processed_data_full_range_075mm_fixed/Pumosue__6352b5ed5f5df308fca86f85-b2cb34796bc7190e-3/Pumosue__6352b5ed5f5df308fca86f85-b2cb34796bc7190e-3_mask_0.nii.gz\n",
      "2023-10-16 01:44:31,636 INFO image_writer.py:197 - writing: /home/vlermakov/Development/Nodules/Nodule-Detection-LUNA2016/processed_data_full_range_075mm_fixed/Pumosue__6352b5ed5f5df308fca86f85-b2cb34796bc7190e-6/Pumosue__6352b5ed5f5df308fca86f85-b2cb34796bc7190e-6_image_0.nii.gz\n",
      "2023-10-16 01:44:31,795 INFO image_writer.py:197 - writing: /home/vlermakov/Development/Nodules/Nodule-Detection-LUNA2016/processed_data_full_range_075mm_fixed/Pumosue__6352b5ed5f5df308fca86f85-b2cb34796bc7190e-6/Pumosue__6352b5ed5f5df308fca86f85-b2cb34796bc7190e-6_mask_0.nii.gz\n",
      "2023-10-16 01:45:09,171 INFO image_writer.py:197 - writing: /home/vlermakov/Development/Nodules/Nodule-Detection-LUNA2016/processed_data_full_range_075mm_fixed/Bomima__63adb5ff260d28093c203105-8ba5c33318bcd4de-3/Bomima__63adb5ff260d28093c203105-8ba5c33318bcd4de-3_image_0.nii.gz\n",
      "2023-10-16 01:45:09,266 INFO image_writer.py:197 - writing: /home/vlermakov/Development/Nodules/Nodule-Detection-LUNA2016/processed_data_full_range_075mm_fixed/Bomima__63adb5ff260d28093c203105-8ba5c33318bcd4de-3/Bomima__63adb5ff260d28093c203105-8ba5c33318bcd4de-3_mask_0.nii.gz\n",
      "2023-10-16 01:45:14,646 INFO image_writer.py:197 - writing: /home/vlermakov/Development/Nodules/Nodule-Detection-LUNA2016/processed_data_full_range_075mm_fixed/Bomima__63adb5ff260d28093c203105-8ba5c33318bcd4de-1/Bomima__63adb5ff260d28093c203105-8ba5c33318bcd4de-1_image_0.nii.gz\n",
      "2023-10-16 01:45:14,842 INFO image_writer.py:197 - writing: /home/vlermakov/Development/Nodules/Nodule-Detection-LUNA2016/processed_data_full_range_075mm_fixed/Bomima__63adb5ff260d28093c203105-8ba5c33318bcd4de-1/Bomima__63adb5ff260d28093c203105-8ba5c33318bcd4de-1_mask_0.nii.gz\n",
      "2023-10-16 01:45:24,550 INFO image_writer.py:197 - writing: /home/vlermakov/Development/Nodules/Nodule-Detection-LUNA2016/processed_data_full_range_075mm_fixed/Tedaque__634da01b13eba109fca48ec1-5d3f1f79c6d8bf73-18/Tedaque__634da01b13eba109fca48ec1-5d3f1f79c6d8bf73-18_image_0.nii.gz\n",
      "2023-10-16 01:45:24,674 INFO image_writer.py:197 - writing: /home/vlermakov/Development/Nodules/Nodule-Detection-LUNA2016/processed_data_full_range_075mm_fixed/Tedaque__634da01b13eba109fca48ec1-5d3f1f79c6d8bf73-32/Tedaque__634da01b13eba109fca48ec1-5d3f1f79c6d8bf73-32_image_0.nii.gz\n",
      "2023-10-16 01:45:24,863 INFO image_writer.py:197 - writing: /home/vlermakov/Development/Nodules/Nodule-Detection-LUNA2016/processed_data_full_range_075mm_fixed/Tedaque__634da01b13eba109fca48ec1-5d3f1f79c6d8bf73-5/Tedaque__634da01b13eba109fca48ec1-5d3f1f79c6d8bf73-5_image_0.nii.gz\n",
      "2023-10-16 01:45:25,790 INFO image_writer.py:197 - writing: /home/vlermakov/Development/Nodules/Nodule-Detection-LUNA2016/processed_data_full_range_075mm_fixed/Tedaque__634da01b13eba109fca48ec1-5d3f1f79c6d8bf73-18/Tedaque__634da01b13eba109fca48ec1-5d3f1f79c6d8bf73-18_mask_0.nii.gz\n",
      "2023-10-16 01:45:25,860 INFO image_writer.py:197 - writing: /home/vlermakov/Development/Nodules/Nodule-Detection-LUNA2016/processed_data_full_range_075mm_fixed/Tedaque__634da01b13eba109fca48ec1-5d3f1f79c6d8bf73-32/Tedaque__634da01b13eba109fca48ec1-5d3f1f79c6d8bf73-32_mask_0.nii.gz\n",
      "2023-10-16 01:45:26,163 INFO image_writer.py:197 - writing: /home/vlermakov/Development/Nodules/Nodule-Detection-LUNA2016/processed_data_full_range_075mm_fixed/Tedaque__634da01b13eba109fca48ec1-5d3f1f79c6d8bf73-5/Tedaque__634da01b13eba109fca48ec1-5d3f1f79c6d8bf73-5_mask_0.nii.gz\n"
     ]
    },
    {
     "name": "stderr",
     "output_type": "stream",
     "text": [
      "Loading dataset:  75%|███████████████████████████████████████████████████████████████████████████████████████████████████████▊                                   | 427/572 [1:06:26<1:01:40, 25.52s/it]"
     ]
    },
    {
     "name": "stdout",
     "output_type": "stream",
     "text": [
      "2023-10-16 01:45:43,410 INFO image_writer.py:197 - writing: /home/vlermakov/Development/Nodules/Nodule-Detection-LUNA2016/processed_data_full_range_075mm_fixed/Bomima__63adb5ff260d28093c203105-8ba5c33318bcd4de-2/Bomima__63adb5ff260d28093c203105-8ba5c33318bcd4de-2_image_0.nii.gz\n",
      "2023-10-16 01:45:43,753 INFO image_writer.py:197 - writing: /home/vlermakov/Development/Nodules/Nodule-Detection-LUNA2016/processed_data_full_range_075mm_fixed/Tedaque__634da01b13eba109fca48ec1-5d3f1f79c6d8bf73-2/Tedaque__634da01b13eba109fca48ec1-5d3f1f79c6d8bf73-2_image_0.nii.gz\n",
      "2023-10-16 01:45:43,903 INFO image_writer.py:197 - writing: /home/vlermakov/Development/Nodules/Nodule-Detection-LUNA2016/processed_data_full_range_075mm_fixed/Tedaque__634da01b13eba109fca48ec1-5d3f1f79c6d8bf73-4/Tedaque__634da01b13eba109fca48ec1-5d3f1f79c6d8bf73-4_image_0.nii.gz\n",
      "2023-10-16 01:45:44,153 INFO image_writer.py:197 - writing: /home/vlermakov/Development/Nodules/Nodule-Detection-LUNA2016/processed_data_full_range_075mm_fixed/Bomima__63adb5ff260d28093c203105-8ba5c33318bcd4de-2/Bomima__63adb5ff260d28093c203105-8ba5c33318bcd4de-2_mask_0.nii.gz\n",
      "2023-10-16 01:45:44,272 INFO image_writer.py:197 - writing: /home/vlermakov/Development/Nodules/Nodule-Detection-LUNA2016/processed_data_full_range_075mm_fixed/Tedaque__634da01b13eba109fca48ec1-5d3f1f79c6d8bf73-2/Tedaque__634da01b13eba109fca48ec1-5d3f1f79c6d8bf73-2_mask_0.nii.gz\n",
      "2023-10-16 01:45:44,404 INFO image_writer.py:197 - writing: /home/vlermakov/Development/Nodules/Nodule-Detection-LUNA2016/processed_data_full_range_075mm_fixed/Tedaque__634da01b13eba109fca48ec1-5d3f1f79c6d8bf73-4/Tedaque__634da01b13eba109fca48ec1-5d3f1f79c6d8bf73-4_mask_0.nii.gz\n"
     ]
    },
    {
     "name": "stderr",
     "output_type": "stream",
     "text": [
      "Loading dataset:  75%|█████████████████████████████████████████████████████████████████████████████████████████████████████████▉                                   | 430/572 [1:06:43<32:53, 13.90s/it]"
     ]
    },
    {
     "name": "stdout",
     "output_type": "stream",
     "text": [
      "2023-10-16 01:46:03,808 INFO image_writer.py:197 - writing: /home/vlermakov/Development/Nodules/Nodule-Detection-LUNA2016/processed_data_full_range_075mm_fixed/Bomima__63adb5ff260d28093c203105-8ba5c33318bcd4de-6/Bomima__63adb5ff260d28093c203105-8ba5c33318bcd4de-6_image_0.nii.gz\n",
      "2023-10-16 01:46:03,978 INFO image_writer.py:197 - writing: /home/vlermakov/Development/Nodules/Nodule-Detection-LUNA2016/processed_data_full_range_075mm_fixed/Bomima__63adb5ff260d28093c203105-8ba5c33318bcd4de-6/Bomima__63adb5ff260d28093c203105-8ba5c33318bcd4de-6_mask_0.nii.gz\n"
     ]
    },
    {
     "name": "stderr",
     "output_type": "stream",
     "text": [
      "\r",
      "Loading dataset:  76%|███████████████████████████████████████████████████████████████████████████████████████████████████████████▍                                 | 436/572 [1:06:49<11:43,  5.17s/it]"
     ]
    },
    {
     "name": "stdout",
     "output_type": "stream",
     "text": [
      "2023-10-16 01:46:39,750 INFO image_writer.py:197 - writing: /home/vlermakov/Development/Nodules/Nodule-Detection-LUNA2016/processed_data_full_range_075mm_fixed/Riqueno__63594fab818afa09d12ea932-78b9b57a5179bccc-1/Riqueno__63594fab818afa09d12ea932-78b9b57a5179bccc-1_image_0.nii.gz\n",
      "2023-10-16 01:46:39,898 INFO image_writer.py:197 - writing: /home/vlermakov/Development/Nodules/Nodule-Detection-LUNA2016/processed_data_full_range_075mm_fixed/Riqueno__63594fab818afa09d12ea932-78b9b57a5179bccc-1/Riqueno__63594fab818afa09d12ea932-78b9b57a5179bccc-1_mask_0.nii.gz\n",
      "2023-10-16 01:46:46,764 INFO image_writer.py:197 - writing: /home/vlermakov/Development/Nodules/Nodule-Detection-LUNA2016/processed_data_full_range_075mm_fixed/Riqueno__63594fab818afa09d12ea932-78b9b57a5179bccc-4/Riqueno__63594fab818afa09d12ea932-78b9b57a5179bccc-4_image_0.nii.gz\n",
      "2023-10-16 01:46:46,855 INFO image_writer.py:197 - writing: /home/vlermakov/Development/Nodules/Nodule-Detection-LUNA2016/processed_data_full_range_075mm_fixed/Riqueno__63594fab818afa09d12ea932-78b9b57a5179bccc-4/Riqueno__63594fab818afa09d12ea932-78b9b57a5179bccc-4_mask_0.nii.gz\n",
      "2023-10-16 01:46:51,788 INFO image_writer.py:197 - writing: /home/vlermakov/Development/Nodules/Nodule-Detection-LUNA2016/processed_data_full_range_075mm_fixed/Nuquesra__635c78291c136209dc64e818-946cdc532c28e6cb-2/Nuquesra__635c78291c136209dc64e818-946cdc532c28e6cb-2_image_0.nii.gz\n",
      "2023-10-16 01:46:52,273 INFO image_writer.py:197 - writing: /home/vlermakov/Development/Nodules/Nodule-Detection-LUNA2016/processed_data_full_range_075mm_fixed/Nuquesra__635c78291c136209dc64e818-946cdc532c28e6cb-2/Nuquesra__635c78291c136209dc64e818-946cdc532c28e6cb-2_mask_0.nii.gz\n",
      "2023-10-16 01:46:58,702 INFO image_writer.py:197 - writing: /home/vlermakov/Development/Nodules/Nodule-Detection-LUNA2016/processed_data_full_range_075mm_fixed/Nuquesra__635c78291c136209dc64e818-946cdc532c28e6cb-5/Nuquesra__635c78291c136209dc64e818-946cdc532c28e6cb-5_image_0.nii.gz\n",
      "2023-10-16 01:46:58,725 INFO image_writer.py:197 - writing: /home/vlermakov/Development/Nodules/Nodule-Detection-LUNA2016/processed_data_full_range_075mm_fixed/Nuquesra__635c78291c136209dc64e818-946cdc532c28e6cb-4/Nuquesra__635c78291c136209dc64e818-946cdc532c28e6cb-4_image_0.nii.gz\n",
      "2023-10-16 01:46:58,758 INFO image_writer.py:197 - writing: /home/vlermakov/Development/Nodules/Nodule-Detection-LUNA2016/processed_data_full_range_075mm_fixed/Nuquesra__635c78291c136209dc64e818-946cdc532c28e6cb-3/Nuquesra__635c78291c136209dc64e818-946cdc532c28e6cb-3_image_0.nii.gz\n",
      "2023-10-16 01:46:58,858 INFO image_writer.py:197 - writing: /home/vlermakov/Development/Nodules/Nodule-Detection-LUNA2016/processed_data_full_range_075mm_fixed/Nuquesra__635c78291c136209dc64e818-946cdc532c28e6cb-1/Nuquesra__635c78291c136209dc64e818-946cdc532c28e6cb-1_image_0.nii.gz\n",
      "2023-10-16 01:46:58,881 INFO image_writer.py:197 - writing: /home/vlermakov/Development/Nodules/Nodule-Detection-LUNA2016/processed_data_full_range_075mm_fixed/Nuquesra__635c78291c136209dc64e818-946cdc532c28e6cb-5/Nuquesra__635c78291c136209dc64e818-946cdc532c28e6cb-5_mask_0.nii.gz\n",
      "2023-10-16 01:46:58,936 INFO image_writer.py:197 - writing: /home/vlermakov/Development/Nodules/Nodule-Detection-LUNA2016/processed_data_full_range_075mm_fixed/Nuquesra__635c78291c136209dc64e818-946cdc532c28e6cb-4/Nuquesra__635c78291c136209dc64e818-946cdc532c28e6cb-4_mask_0.nii.gz\n",
      "2023-10-16 01:46:59,052 INFO image_writer.py:197 - writing: /home/vlermakov/Development/Nodules/Nodule-Detection-LUNA2016/processed_data_full_range_075mm_fixed/Nuquesra__635c78291c136209dc64e818-946cdc532c28e6cb-1/Nuquesra__635c78291c136209dc64e818-946cdc532c28e6cb-1_mask_0.nii.gz\n"
     ]
    },
    {
     "name": "stderr",
     "output_type": "stream",
     "text": [
      "Loading dataset:  77%|███████████████████████████████████████████████████████████████████████████████████████████████████████████▉                                 | 438/572 [1:07:55<25:56, 11.62s/it]"
     ]
    },
    {
     "name": "stdout",
     "output_type": "stream",
     "text": [
      "2023-10-16 01:47:11,194 INFO image_writer.py:197 - writing: /home/vlermakov/Development/Nodules/Nodule-Detection-LUNA2016/processed_data_full_range_075mm_fixed/Nuquesra__635c78291c136209dc64e818-946cdc532c28e6cb-3/Nuquesra__635c78291c136209dc64e818-946cdc532c28e6cb-3_mask_0.nii.gz\n"
     ]
    },
    {
     "name": "stderr",
     "output_type": "stream",
     "text": [
      "\r",
      "Loading dataset:  77%|████████████████████████████████████████████████████████████████████████████████████████████████████████████▏                                | 439/572 [1:07:55<20:54,  9.43s/it]"
     ]
    },
    {
     "name": "stdout",
     "output_type": "stream",
     "text": [
      "2023-10-16 01:47:16,296 INFO image_writer.py:197 - writing: /home/vlermakov/Development/Nodules/Nodule-Detection-LUNA2016/processed_data_full_range_075mm_fixed/Riqueno__63594fab818afa09d12ea932-78b9b57a5179bccc-5/Riqueno__63594fab818afa09d12ea932-78b9b57a5179bccc-5_image_0.nii.gz\n",
      "2023-10-16 01:47:16,687 INFO image_writer.py:197 - writing: /home/vlermakov/Development/Nodules/Nodule-Detection-LUNA2016/processed_data_full_range_075mm_fixed/Riqueno__63594fab818afa09d12ea932-78b9b57a5179bccc-5/Riqueno__63594fab818afa09d12ea932-78b9b57a5179bccc-5_mask_0.nii.gz\n"
     ]
    },
    {
     "name": "stderr",
     "output_type": "stream",
     "text": [
      "\r",
      "Loading dataset:  78%|█████████████████████████████████████████████████████████████████████████████████████████████████████████████▍                               | 444/572 [1:08:01<09:57,  4.67s/it]"
     ]
    },
    {
     "name": "stdout",
     "output_type": "stream",
     "text": [
      "2023-10-16 01:47:35,068 INFO image_writer.py:197 - writing: /home/vlermakov/Development/Nodules/Nodule-Detection-LUNA2016/processed_data_full_range_075mm_fixed/Tidona__63b5f19da68aaf092ce477e6-755091a8ee94936e-1/Tidona__63b5f19da68aaf092ce477e6-755091a8ee94936e-1_image_0.nii.gz\n",
      "2023-10-16 01:47:35,762 INFO image_writer.py:197 - writing: /home/vlermakov/Development/Nodules/Nodule-Detection-LUNA2016/processed_data_full_range_075mm_fixed/Tidona__63b5f19da68aaf092ce477e6-755091a8ee94936e-1/Tidona__63b5f19da68aaf092ce477e6-755091a8ee94936e-1_mask_0.nii.gz\n",
      "2023-10-16 01:48:06,288 INFO image_writer.py:197 - writing: /home/vlermakov/Development/Nodules/Nodule-Detection-LUNA2016/processed_data_full_range_075mm_fixed/Tidona__63b5f19da68aaf092ce477e6-755091a8ee94936e-2/Tidona__63b5f19da68aaf092ce477e6-755091a8ee94936e-2_image_0.nii.gz\n",
      "2023-10-16 01:48:06,468 INFO image_writer.py:197 - writing: /home/vlermakov/Development/Nodules/Nodule-Detection-LUNA2016/processed_data_full_range_075mm_fixed/Tidona__63b5f19da68aaf092ce477e6-755091a8ee94936e-2/Tidona__63b5f19da68aaf092ce477e6-755091a8ee94936e-2_mask_0.nii.gz\n",
      "2023-10-16 01:48:16,497 INFO image_writer.py:197 - writing: /home/vlermakov/Development/Nodules/Nodule-Detection-LUNA2016/processed_data_full_range_075mm_fixed/Diplooreg__6398ba8a5b4c5209c019280c-d72ac9d8d8154150-87/Diplooreg__6398ba8a5b4c5209c019280c-d72ac9d8d8154150-87_image_0.nii.gz\n",
      "2023-10-16 01:48:16,519 INFO image_writer.py:197 - writing: /home/vlermakov/Development/Nodules/Nodule-Detection-LUNA2016/processed_data_full_range_075mm_fixed/Diplooreg__6398ba8a5b4c5209c019280c-d72ac9d8d8154150-12/Diplooreg__6398ba8a5b4c5209c019280c-d72ac9d8d8154150-12_image_0.nii.gz\n",
      "2023-10-16 01:48:16,536 INFO image_writer.py:197 - writing: /home/vlermakov/Development/Nodules/Nodule-Detection-LUNA2016/processed_data_full_range_075mm_fixed/Diplooreg__6398ba8a5b4c5209c019280c-d72ac9d8d8154150-33/Diplooreg__6398ba8a5b4c5209c019280c-d72ac9d8d8154150-33_image_0.nii.gz\n",
      "2023-10-16 01:48:16,556 INFO image_writer.py:197 - writing: /home/vlermakov/Development/Nodules/Nodule-Detection-LUNA2016/processed_data_full_range_075mm_fixed/Diplooreg__6398ba8a5b4c5209c019280c-d72ac9d8d8154150-83/Diplooreg__6398ba8a5b4c5209c019280c-d72ac9d8d8154150-83_image_0.nii.gz\n",
      "2023-10-16 01:48:16,600 INFO image_writer.py:197 - writing: /home/vlermakov/Development/Nodules/Nodule-Detection-LUNA2016/processed_data_full_range_075mm_fixed/Diplooreg__6398ba8a5b4c5209c019280c-d72ac9d8d8154150-4/Diplooreg__6398ba8a5b4c5209c019280c-d72ac9d8d8154150-4_image_0.nii.gz\n",
      "2023-10-16 01:48:16,665 INFO image_writer.py:197 - writing: /home/vlermakov/Development/Nodules/Nodule-Detection-LUNA2016/processed_data_full_range_075mm_fixed/Diplooreg__6398ba8a5b4c5209c019280c-d72ac9d8d8154150-18/Diplooreg__6398ba8a5b4c5209c019280c-d72ac9d8d8154150-18_image_0.nii.gz\n",
      "2023-10-16 01:48:16,800 INFO image_writer.py:197 - writing: /home/vlermakov/Development/Nodules/Nodule-Detection-LUNA2016/processed_data_full_range_075mm_fixed/Diplooreg__6398ba8a5b4c5209c019280c-d72ac9d8d8154150-87/Diplooreg__6398ba8a5b4c5209c019280c-d72ac9d8d8154150-87_mask_0.nii.gz\n",
      "2023-10-16 01:48:16,992 INFO image_writer.py:197 - writing: /home/vlermakov/Development/Nodules/Nodule-Detection-LUNA2016/processed_data_full_range_075mm_fixed/Diplooreg__6398ba8a5b4c5209c019280c-d72ac9d8d8154150-12/Diplooreg__6398ba8a5b4c5209c019280c-d72ac9d8d8154150-12_mask_0.nii.gz\n",
      "2023-10-16 01:48:17,008 INFO image_writer.py:197 - writing: /home/vlermakov/Development/Nodules/Nodule-Detection-LUNA2016/processed_data_full_range_075mm_fixed/Diplooreg__6398ba8a5b4c5209c019280c-d72ac9d8d8154150-83/Diplooreg__6398ba8a5b4c5209c019280c-d72ac9d8d8154150-83_mask_0.nii.gz\n",
      "2023-10-16 01:48:17,017 INFO image_writer.py:197 - writing: /home/vlermakov/Development/Nodules/Nodule-Detection-LUNA2016/processed_data_full_range_075mm_fixed/Diplooreg__6398ba8a5b4c5209c019280c-d72ac9d8d8154150-33/Diplooreg__6398ba8a5b4c5209c019280c-d72ac9d8d8154150-33_mask_0.nii.gz\n"
     ]
    },
    {
     "name": "stderr",
     "output_type": "stream",
     "text": [
      "\r",
      "Loading dataset:  78%|█████████████████████████████████████████████████████████████████████████████████████████████████████████████▋                               | 445/572 [1:09:01<26:28, 12.51s/it]"
     ]
    },
    {
     "name": "stdout",
     "output_type": "stream",
     "text": [
      "2023-10-16 01:48:29,708 INFO image_writer.py:197 - writing: /home/vlermakov/Development/Nodules/Nodule-Detection-LUNA2016/processed_data_full_range_075mm_fixed/Diplooreg__6398ba8a5b4c5209c019280c-d72ac9d8d8154150-4/Diplooreg__6398ba8a5b4c5209c019280c-d72ac9d8d8154150-4_mask_0.nii.gz\n",
      "2023-10-16 01:48:29,768 INFO image_writer.py:197 - writing: /home/vlermakov/Development/Nodules/Nodule-Detection-LUNA2016/processed_data_full_range_075mm_fixed/Diplooreg__6398ba8a5b4c5209c019280c-d72ac9d8d8154150-18/Diplooreg__6398ba8a5b4c5209c019280c-d72ac9d8d8154150-18_mask_0.nii.gz\n"
     ]
    },
    {
     "name": "stderr",
     "output_type": "stream",
     "text": [
      "Loading dataset:  78%|██████████████████████████████████████████████████████████████████████████████████████████████████████████████▏                              | 447/572 [1:09:22<24:20, 11.68s/it]"
     ]
    },
    {
     "name": "stdout",
     "output_type": "stream",
     "text": [
      "2023-10-16 01:48:48,135 INFO image_writer.py:197 - writing: /home/vlermakov/Development/Nodules/Nodule-Detection-LUNA2016/processed_data_full_range_075mm_fixed/Tidona__63b5f19da68aaf092ce477e6-755091a8ee94936e-6/Tidona__63b5f19da68aaf092ce477e6-755091a8ee94936e-6_image_0.nii.gz\n",
      "2023-10-16 01:48:48,236 INFO image_writer.py:197 - writing: /home/vlermakov/Development/Nodules/Nodule-Detection-LUNA2016/processed_data_full_range_075mm_fixed/Tidona__63b5f19da68aaf092ce477e6-755091a8ee94936e-6/Tidona__63b5f19da68aaf092ce477e6-755091a8ee94936e-6_mask_0.nii.gz\n"
     ]
    },
    {
     "name": "stderr",
     "output_type": "stream",
     "text": [
      "\r",
      "Loading dataset:  79%|███████████████████████████████████████████████████████████████████████████████████████████████████████████████▋                             | 453/572 [1:09:33<10:58,  5.53s/it]"
     ]
    },
    {
     "name": "stdout",
     "output_type": "stream",
     "text": [
      "2023-10-16 01:49:16,888 INFO image_writer.py:197 - writing: /home/vlermakov/Development/Nodules/Nodule-Detection-LUNA2016/processed_data_full_range_075mm_fixed/Kesuci__636da0766237ce09a1193e6d-89b9604376531827-24/Kesuci__636da0766237ce09a1193e6d-89b9604376531827-24_image_0.nii.gz\n",
      "2023-10-16 01:49:16,932 INFO image_writer.py:197 - writing: /home/vlermakov/Development/Nodules/Nodule-Detection-LUNA2016/processed_data_full_range_075mm_fixed/Kesuci__636da0766237ce09a1193e6d-89b9604376531827-7/Kesuci__636da0766237ce09a1193e6d-89b9604376531827-7_image_0.nii.gz\n",
      "2023-10-16 01:49:17,035 INFO image_writer.py:197 - writing: /home/vlermakov/Development/Nodules/Nodule-Detection-LUNA2016/processed_data_full_range_075mm_fixed/Kesuci__636da0766237ce09a1193e6d-89b9604376531827-24/Kesuci__636da0766237ce09a1193e6d-89b9604376531827-24_mask_0.nii.gz\n",
      "2023-10-16 01:49:17,101 INFO image_writer.py:197 - writing: /home/vlermakov/Development/Nodules/Nodule-Detection-LUNA2016/processed_data_full_range_075mm_fixed/Kesuci__636da0766237ce09a1193e6d-89b9604376531827-7/Kesuci__636da0766237ce09a1193e6d-89b9604376531827-7_mask_0.nii.gz\n",
      "2023-10-16 01:49:26,980 INFO image_writer.py:197 - writing: /home/vlermakov/Development/Nodules/Nodule-Detection-LUNA2016/processed_data_full_range_075mm_fixed/Kesuci__636da0766237ce09a1193e6d-89b9604376531827-13/Kesuci__636da0766237ce09a1193e6d-89b9604376531827-13_image_0.nii.gz\n",
      "2023-10-16 01:49:27,625 INFO image_writer.py:197 - writing: /home/vlermakov/Development/Nodules/Nodule-Detection-LUNA2016/processed_data_full_range_075mm_fixed/Kesuci__636da0766237ce09a1193e6d-89b9604376531827-13/Kesuci__636da0766237ce09a1193e6d-89b9604376531827-13_mask_0.nii.gz\n",
      "2023-10-16 01:49:27,770 INFO image_writer.py:197 - writing: /home/vlermakov/Development/Nodules/Nodule-Detection-LUNA2016/processed_data_full_range_075mm_fixed/Kesuci__636da0766237ce09a1193e6d-89b9604376531827-9/Kesuci__636da0766237ce09a1193e6d-89b9604376531827-9_image_0.nii.gz\n",
      "2023-10-16 01:49:28,329 INFO image_writer.py:197 - writing: /home/vlermakov/Development/Nodules/Nodule-Detection-LUNA2016/processed_data_full_range_075mm_fixed/Kesuci__636da0766237ce09a1193e6d-89b9604376531827-9/Kesuci__636da0766237ce09a1193e6d-89b9604376531827-9_mask_0.nii.gz\n"
     ]
    },
    {
     "name": "stderr",
     "output_type": "stream",
     "text": [
      "Loading dataset:  80%|████████████████████████████████████████████████████████████████████████████████████████████████████████████████▏                            | 455/572 [1:10:23<19:29,  9.99s/it]"
     ]
    },
    {
     "name": "stdout",
     "output_type": "stream",
     "text": [
      "2023-10-16 01:49:40,700 INFO image_writer.py:197 - writing: /home/vlermakov/Development/Nodules/Nodule-Detection-LUNA2016/processed_data_full_range_075mm_fixed/Masede__63a4a470d58e2309eb5255be-6f138f8dc9262964-3/Masede__63a4a470d58e2309eb5255be-6f138f8dc9262964-3_image_0.nii.gz\n",
      "2023-10-16 01:49:40,905 INFO image_writer.py:197 - writing: /home/vlermakov/Development/Nodules/Nodule-Detection-LUNA2016/processed_data_full_range_075mm_fixed/Kesuci__636da0766237ce09a1193e6d-89b9604376531827-2/Kesuci__636da0766237ce09a1193e6d-89b9604376531827-2_image_0.nii.gz\n",
      "2023-10-16 01:49:40,948 INFO image_writer.py:197 - writing: /home/vlermakov/Development/Nodules/Nodule-Detection-LUNA2016/processed_data_full_range_075mm_fixed/Kesuci__636da0766237ce09a1193e6d-89b9604376531827-1/Kesuci__636da0766237ce09a1193e6d-89b9604376531827-1_image_0.nii.gz\n",
      "2023-10-16 01:49:41,066 INFO image_writer.py:197 - writing: /home/vlermakov/Development/Nodules/Nodule-Detection-LUNA2016/processed_data_full_range_075mm_fixed/Masede__63a4a470d58e2309eb5255be-6f138f8dc9262964-3/Masede__63a4a470d58e2309eb5255be-6f138f8dc9262964-3_mask_0.nii.gz\n",
      "2023-10-16 01:49:41,138 INFO image_writer.py:197 - writing: /home/vlermakov/Development/Nodules/Nodule-Detection-LUNA2016/processed_data_full_range_075mm_fixed/Kesuci__636da0766237ce09a1193e6d-89b9604376531827-2/Kesuci__636da0766237ce09a1193e6d-89b9604376531827-2_mask_0.nii.gz\n"
     ]
    },
    {
     "name": "stderr",
     "output_type": "stream",
     "text": [
      "\r",
      "Loading dataset:  80%|████████████████████████████████████████████████████████████████████████████████████████████████████████████████▉                            | 458/572 [1:10:31<13:19,  7.01s/it]"
     ]
    },
    {
     "name": "stdout",
     "output_type": "stream",
     "text": [
      "2023-10-16 01:49:50,784 INFO image_writer.py:197 - writing: /home/vlermakov/Development/Nodules/Nodule-Detection-LUNA2016/processed_data_full_range_075mm_fixed/Kesuci__636da0766237ce09a1193e6d-89b9604376531827-1/Kesuci__636da0766237ce09a1193e6d-89b9604376531827-1_mask_0.nii.gz\n"
     ]
    },
    {
     "name": "stderr",
     "output_type": "stream",
     "text": [
      "Loading dataset:  80%|█████████████████████████████████████████████████████████████████████████████████████████████████████████████████▍                           | 460/572 [1:10:40<11:30,  6.16s/it]"
     ]
    },
    {
     "name": "stdout",
     "output_type": "stream",
     "text": [
      "2023-10-16 01:50:04,477 INFO image_writer.py:197 - writing: /home/vlermakov/Development/Nodules/Nodule-Detection-LUNA2016/processed_data_full_range_075mm_fixed/Hukliley__636d23df4d8eaa09f2bbd622-20ebb456d139291a-1/Hukliley__636d23df4d8eaa09f2bbd622-20ebb456d139291a-1_image_0.nii.gz\n",
      "2023-10-16 01:50:05,742 INFO image_writer.py:197 - writing: /home/vlermakov/Development/Nodules/Nodule-Detection-LUNA2016/processed_data_full_range_075mm_fixed/Hukliley__636d23df4d8eaa09f2bbd622-20ebb456d139291a-1/Hukliley__636d23df4d8eaa09f2bbd622-20ebb456d139291a-1_mask_0.nii.gz\n",
      "2023-10-16 01:50:22,340 INFO image_writer.py:197 - writing: /home/vlermakov/Development/Nodules/Nodule-Detection-LUNA2016/processed_data_full_range_075mm_fixed/Masede__63a4a470d58e2309eb5255be-6f138f8dc9262964-19/Masede__63a4a470d58e2309eb5255be-6f138f8dc9262964-19_image_0.nii.gz\n",
      "2023-10-16 01:50:22,550 INFO image_writer.py:197 - writing: /home/vlermakov/Development/Nodules/Nodule-Detection-LUNA2016/processed_data_full_range_075mm_fixed/Masede__63a4a470d58e2309eb5255be-6f138f8dc9262964-19/Masede__63a4a470d58e2309eb5255be-6f138f8dc9262964-19_mask_0.nii.gz\n"
     ]
    },
    {
     "name": "stderr",
     "output_type": "stream",
     "text": [
      "\r",
      "Loading dataset:  81%|█████████████████████████████████████████████████████████████████████████████████████████████████████████████████▋                           | 461/572 [1:11:07<19:35, 10.59s/it]"
     ]
    },
    {
     "name": "stdout",
     "output_type": "stream",
     "text": [
      "2023-10-16 01:50:31,825 INFO image_writer.py:197 - writing: /home/vlermakov/Development/Nodules/Nodule-Detection-LUNA2016/processed_data_full_range_075mm_fixed/Hesora__636ce03a6dc45409b0d40b01-9f3e7b64b9696b29-11/Hesora__636ce03a6dc45409b0d40b01-9f3e7b64b9696b29-11_image_0.nii.gz\n",
      "2023-10-16 01:50:31,950 INFO image_writer.py:197 - writing: /home/vlermakov/Development/Nodules/Nodule-Detection-LUNA2016/processed_data_full_range_075mm_fixed/Hesora__636ce03a6dc45409b0d40b01-9f3e7b64b9696b29-2/Hesora__636ce03a6dc45409b0d40b01-9f3e7b64b9696b29-2_image_0.nii.gz\n",
      "2023-10-16 01:50:32,081 INFO image_writer.py:197 - writing: /home/vlermakov/Development/Nodules/Nodule-Detection-LUNA2016/processed_data_full_range_075mm_fixed/Hesora__636ce03a6dc45409b0d40b01-9f3e7b64b9696b29-3/Hesora__636ce03a6dc45409b0d40b01-9f3e7b64b9696b29-3_image_0.nii.gz\n",
      "2023-10-16 01:50:33,728 INFO image_writer.py:197 - writing: /home/vlermakov/Development/Nodules/Nodule-Detection-LUNA2016/processed_data_full_range_075mm_fixed/Hesora__636ce03a6dc45409b0d40b01-9f3e7b64b9696b29-11/Hesora__636ce03a6dc45409b0d40b01-9f3e7b64b9696b29-11_mask_0.nii.gz\n",
      "2023-10-16 01:50:34,335 INFO image_writer.py:197 - writing: /home/vlermakov/Development/Nodules/Nodule-Detection-LUNA2016/processed_data_full_range_075mm_fixed/Hesora__636ce03a6dc45409b0d40b01-9f3e7b64b9696b29-2/Hesora__636ce03a6dc45409b0d40b01-9f3e7b64b9696b29-2_mask_0.nii.gz\n",
      "2023-10-16 01:50:45,203 INFO image_writer.py:197 - writing: /home/vlermakov/Development/Nodules/Nodule-Detection-LUNA2016/processed_data_full_range_075mm_fixed/Hesora__636ce03a6dc45409b0d40b01-9f3e7b64b9696b29-3/Hesora__636ce03a6dc45409b0d40b01-9f3e7b64b9696b29-3_mask_0.nii.gz\n",
      "2023-10-16 01:50:50,082 INFO image_writer.py:197 - writing: /home/vlermakov/Development/Nodules/Nodule-Detection-LUNA2016/processed_data_full_range_075mm_fixed/Masede__63a4a470d58e2309eb5255be-6f138f8dc9262964-6/Masede__63a4a470d58e2309eb5255be-6f138f8dc9262964-6_image_0.nii.gz\n",
      "2023-10-16 01:50:50,969 INFO image_writer.py:197 - writing: /home/vlermakov/Development/Nodules/Nodule-Detection-LUNA2016/processed_data_full_range_075mm_fixed/Masede__63a4a470d58e2309eb5255be-6f138f8dc9262964-6/Masede__63a4a470d58e2309eb5255be-6f138f8dc9262964-6_mask_0.nii.gz\n",
      "2023-10-16 01:50:50,996 INFO image_writer.py:197 - writing: /home/vlermakov/Development/Nodules/Nodule-Detection-LUNA2016/processed_data_full_range_075mm_fixed/Kajalol__6361874fa8b6a00997fefe86-6ab193bc23e7f852-4/Kajalol__6361874fa8b6a00997fefe86-6ab193bc23e7f852-4_image_0.nii.gz\n",
      "2023-10-16 01:50:51,055 INFO image_writer.py:197 - writing: /home/vlermakov/Development/Nodules/Nodule-Detection-LUNA2016/processed_data_full_range_075mm_fixed/Kajalol__6361874fa8b6a00997fefe86-6ab193bc23e7f852-1/Kajalol__6361874fa8b6a00997fefe86-6ab193bc23e7f852-1_image_0.nii.gz\n",
      "2023-10-16 01:50:51,463 INFO image_writer.py:197 - writing: /home/vlermakov/Development/Nodules/Nodule-Detection-LUNA2016/processed_data_full_range_075mm_fixed/Kajalol__6361874fa8b6a00997fefe86-6ab193bc23e7f852-1/Kajalol__6361874fa8b6a00997fefe86-6ab193bc23e7f852-1_mask_0.nii.gz\n"
     ]
    },
    {
     "name": "stderr",
     "output_type": "stream",
     "text": [
      "\r",
      "Loading dataset:  81%|█████████████████████████████████████████████████████████████████████████████████████████████████████████████████▉                           | 462/572 [1:11:36<27:03, 14.76s/it]"
     ]
    },
    {
     "name": "stdout",
     "output_type": "stream",
     "text": [
      "2023-10-16 01:50:57,388 INFO image_writer.py:197 - writing: /home/vlermakov/Development/Nodules/Nodule-Detection-LUNA2016/processed_data_full_range_075mm_fixed/Kajalol__6361874fa8b6a00997fefe86-6ab193bc23e7f852-4/Kajalol__6361874fa8b6a00997fefe86-6ab193bc23e7f852-4_mask_0.nii.gz\n"
     ]
    },
    {
     "name": "stderr",
     "output_type": "stream",
     "text": [
      "Loading dataset:  82%|███████████████████████████████████████████████████████████████████████████████████████████████████████████████████▎                         | 468/572 [1:11:46<10:22,  5.98s/it]"
     ]
    },
    {
     "name": "stdout",
     "output_type": "stream",
     "text": [
      "2023-10-16 01:51:16,000 INFO image_writer.py:197 - writing: /home/vlermakov/Development/Nodules/Nodule-Detection-LUNA2016/processed_data_full_range_075mm_fixed/Kajalol__6361874fa8b6a00997fefe86-6ab193bc23e7f852-2/Kajalol__6361874fa8b6a00997fefe86-6ab193bc23e7f852-2_image_0.nii.gz\n",
      "2023-10-16 01:51:16,220 INFO image_writer.py:197 - writing: /home/vlermakov/Development/Nodules/Nodule-Detection-LUNA2016/processed_data_full_range_075mm_fixed/Kajalol__6361874fa8b6a00997fefe86-6ab193bc23e7f852-2/Kajalol__6361874fa8b6a00997fefe86-6ab193bc23e7f852-2_mask_0.nii.gz\n"
     ]
    },
    {
     "name": "stderr",
     "output_type": "stream",
     "text": [
      "\r",
      "Loading dataset:  82%|███████████████████████████████████████████████████████████████████████████████████████████████████████████████████▌                         | 469/572 [1:12:01<12:54,  7.52s/it]"
     ]
    },
    {
     "name": "stdout",
     "output_type": "stream",
     "text": [
      "2023-10-16 01:51:30,601 INFO image_writer.py:197 - writing: /home/vlermakov/Development/Nodules/Nodule-Detection-LUNA2016/processed_data_full_range_075mm_fixed/Jugaso__63b72f191c45af091cd59b07-8b6d9d13ee798805-2/Jugaso__63b72f191c45af091cd59b07-8b6d9d13ee798805-2_image_0.nii.gz\n",
      "2023-10-16 01:51:31,522 INFO image_writer.py:197 - writing: /home/vlermakov/Development/Nodules/Nodule-Detection-LUNA2016/processed_data_full_range_075mm_fixed/Jugaso__63b72f191c45af091cd59b07-8b6d9d13ee798805-2/Jugaso__63b72f191c45af091cd59b07-8b6d9d13ee798805-2_mask_0.nii.gz\n"
     ]
    },
    {
     "name": "stderr",
     "output_type": "stream",
     "text": [
      "\r",
      "Loading dataset:  82%|███████████████████████████████████████████████████████████████████████████████████████████████████████████████████▊                         | 470/572 [1:12:18<16:04,  9.45s/it]"
     ]
    },
    {
     "name": "stdout",
     "output_type": "stream",
     "text": [
      "2023-10-16 01:51:39,617 INFO image_writer.py:197 - writing: /home/vlermakov/Development/Nodules/Nodule-Detection-LUNA2016/processed_data_full_range_075mm_fixed/Jesbernan__6398b75cf8bb2309b6ba2fdd-e08370d10c0030e5-19/Jesbernan__6398b75cf8bb2309b6ba2fdd-e08370d10c0030e5-19_image_0.nii.gz\n",
      "2023-10-16 01:51:39,629 INFO image_writer.py:197 - writing: /home/vlermakov/Development/Nodules/Nodule-Detection-LUNA2016/processed_data_full_range_075mm_fixed/Jesbernan__6398b75cf8bb2309b6ba2fdd-e08370d10c0030e5-2/Jesbernan__6398b75cf8bb2309b6ba2fdd-e08370d10c0030e5-2_image_0.nii.gz\n",
      "2023-10-16 01:51:41,589 INFO image_writer.py:197 - writing: /home/vlermakov/Development/Nodules/Nodule-Detection-LUNA2016/processed_data_full_range_075mm_fixed/Jesbernan__6398b75cf8bb2309b6ba2fdd-e08370d10c0030e5-19/Jesbernan__6398b75cf8bb2309b6ba2fdd-e08370d10c0030e5-19_mask_0.nii.gz\n",
      "2023-10-16 01:51:41,794 INFO image_writer.py:197 - writing: /home/vlermakov/Development/Nodules/Nodule-Detection-LUNA2016/processed_data_full_range_075mm_fixed/Jesbernan__6398b75cf8bb2309b6ba2fdd-e08370d10c0030e5-2/Jesbernan__6398b75cf8bb2309b6ba2fdd-e08370d10c0030e5-2_mask_0.nii.gz\n"
     ]
    },
    {
     "name": "stderr",
     "output_type": "stream",
     "text": [
      "Loading dataset:  83%|████████████████████████████████████████████████████████████████████████████████████████████████████████████████████▎                        | 472/572 [1:12:33<14:25,  8.65s/it]"
     ]
    },
    {
     "name": "stdout",
     "output_type": "stream",
     "text": [
      "2023-10-16 01:51:54,730 INFO image_writer.py:197 - writing: /home/vlermakov/Development/Nodules/Nodule-Detection-LUNA2016/processed_data_full_range_075mm_fixed/Jesbernan__6398b75cf8bb2309b6ba2fdd-e08370d10c0030e5-32/Jesbernan__6398b75cf8bb2309b6ba2fdd-e08370d10c0030e5-32_image_0.nii.gz\n",
      "2023-10-16 01:51:57,095 INFO image_writer.py:197 - writing: /home/vlermakov/Development/Nodules/Nodule-Detection-LUNA2016/processed_data_full_range_075mm_fixed/Jesbernan__6398b75cf8bb2309b6ba2fdd-e08370d10c0030e5-32/Jesbernan__6398b75cf8bb2309b6ba2fdd-e08370d10c0030e5-32_mask_0.nii.gz\n"
     ]
    },
    {
     "name": "stderr",
     "output_type": "stream",
     "text": [
      "\r",
      "Loading dataset:  83%|████████████████████████████████████████████████████████████████████████████████████████████████████████████████████▌                        | 473/572 [1:12:42<14:26,  8.75s/it]"
     ]
    },
    {
     "name": "stdout",
     "output_type": "stream",
     "text": [
      "2023-10-16 01:52:05,737 INFO image_writer.py:197 - writing: /home/vlermakov/Development/Nodules/Nodule-Detection-LUNA2016/processed_data_full_range_075mm_fixed/Lihamu__63aba3d3973f3c0907870ef2-ae24dc30402edae8-2/Lihamu__63aba3d3973f3c0907870ef2-ae24dc30402edae8-2_image_0.nii.gz\n",
      "2023-10-16 01:52:05,864 INFO image_writer.py:197 - writing: /home/vlermakov/Development/Nodules/Nodule-Detection-LUNA2016/processed_data_full_range_075mm_fixed/Lihamu__63aba3d3973f3c0907870ef2-ae24dc30402edae8-2/Lihamu__63aba3d3973f3c0907870ef2-ae24dc30402edae8-2_mask_0.nii.gz\n"
     ]
    },
    {
     "name": "stderr",
     "output_type": "stream",
     "text": [
      "\r",
      "Loading dataset:  83%|████████████████████████████████████████████████████████████████████████████████████████████████████████████████████▊                        | 474/572 [1:12:50<14:01,  8.59s/it]"
     ]
    },
    {
     "name": "stdout",
     "output_type": "stream",
     "text": [
      "2023-10-16 01:52:11,712 INFO image_writer.py:197 - writing: /home/vlermakov/Development/Nodules/Nodule-Detection-LUNA2016/processed_data_full_range_075mm_fixed/Lihamu__63aba3d3973f3c0907870ef2-ae24dc30402edae8-1/Lihamu__63aba3d3973f3c0907870ef2-ae24dc30402edae8-1_image_0.nii.gz\n",
      "2023-10-16 01:52:11,780 INFO image_writer.py:197 - writing: /home/vlermakov/Development/Nodules/Nodule-Detection-LUNA2016/processed_data_full_range_075mm_fixed/Lorique__635b71a787a98d0a0cb13f40-9a489ba16be03eb3-1/Lorique__635b71a787a98d0a0cb13f40-9a489ba16be03eb3-1_image_0.nii.gz\n",
      "2023-10-16 01:52:11,915 INFO image_writer.py:197 - writing: /home/vlermakov/Development/Nodules/Nodule-Detection-LUNA2016/processed_data_full_range_075mm_fixed/Lihamu__63aba3d3973f3c0907870ef2-ae24dc30402edae8-1/Lihamu__63aba3d3973f3c0907870ef2-ae24dc30402edae8-1_mask_0.nii.gz\n",
      "2023-10-16 01:52:12,015 INFO image_writer.py:197 - writing: /home/vlermakov/Development/Nodules/Nodule-Detection-LUNA2016/processed_data_full_range_075mm_fixed/Lorique__635b71a787a98d0a0cb13f40-9a489ba16be03eb3-1/Lorique__635b71a787a98d0a0cb13f40-9a489ba16be03eb3-1_mask_0.nii.gz\n"
     ]
    },
    {
     "name": "stderr",
     "output_type": "stream",
     "text": [
      "Loading dataset:  83%|█████████████████████████████████████████████████████████████████████████████████████████████████████████████████████▎                       | 476/572 [1:13:04<12:30,  7.82s/it]"
     ]
    },
    {
     "name": "stdout",
     "output_type": "stream",
     "text": [
      "2023-10-16 01:52:43,860 INFO image_writer.py:197 - writing: /home/vlermakov/Development/Nodules/Nodule-Detection-LUNA2016/processed_data_full_range_075mm_fixed/Gojequa__63ab3b8cce2962090bbf7e6c-6dce6de3decf286f-1/Gojequa__63ab3b8cce2962090bbf7e6c-6dce6de3decf286f-1_image_0.nii.gz\n",
      "2023-10-16 01:52:44,123 INFO image_writer.py:197 - writing: /home/vlermakov/Development/Nodules/Nodule-Detection-LUNA2016/processed_data_full_range_075mm_fixed/Gojequa__63ab3b8cce2962090bbf7e6c-6dce6de3decf286f-1/Gojequa__63ab3b8cce2962090bbf7e6c-6dce6de3decf286f-1_mask_0.nii.gz\n",
      "2023-10-16 01:52:53,531 INFO image_writer.py:197 - writing: /home/vlermakov/Development/Nodules/Nodule-Detection-LUNA2016/processed_data_full_range_075mm_fixed/Gojequa__63ab3b8cce2962090bbf7e6c-6dce6de3decf286f-6/Gojequa__63ab3b8cce2962090bbf7e6c-6dce6de3decf286f-6_image_0.nii.gz\n",
      "2023-10-16 01:52:54,011 INFO image_writer.py:197 - writing: /home/vlermakov/Development/Nodules/Nodule-Detection-LUNA2016/processed_data_full_range_075mm_fixed/Gojequa__63ab3b8cce2962090bbf7e6c-6dce6de3decf286f-6/Gojequa__63ab3b8cce2962090bbf7e6c-6dce6de3decf286f-6_mask_0.nii.gz\n",
      "2023-10-16 01:52:54,097 INFO image_writer.py:197 - writing: /home/vlermakov/Development/Nodules/Nodule-Detection-LUNA2016/processed_data_full_range_075mm_fixed/Lorique__635b71a787a98d0a0cb13f40-9a489ba16be03eb3-5/Lorique__635b71a787a98d0a0cb13f40-9a489ba16be03eb3-5_image_0.nii.gz\n",
      "2023-10-16 01:52:54,255 INFO image_writer.py:197 - writing: /home/vlermakov/Development/Nodules/Nodule-Detection-LUNA2016/processed_data_full_range_075mm_fixed/Lorique__635b71a787a98d0a0cb13f40-9a489ba16be03eb3-2/Lorique__635b71a787a98d0a0cb13f40-9a489ba16be03eb3-2_image_0.nii.gz\n",
      "2023-10-16 01:52:54,574 INFO image_writer.py:197 - writing: /home/vlermakov/Development/Nodules/Nodule-Detection-LUNA2016/processed_data_full_range_075mm_fixed/Lorique__635b71a787a98d0a0cb13f40-9a489ba16be03eb3-5/Lorique__635b71a787a98d0a0cb13f40-9a489ba16be03eb3-5_mask_0.nii.gz\n",
      "2023-10-16 01:53:02,841 INFO image_writer.py:197 - writing: /home/vlermakov/Development/Nodules/Nodule-Detection-LUNA2016/processed_data_full_range_075mm_fixed/Lorique__635b71a787a98d0a0cb13f40-9a489ba16be03eb3-2/Lorique__635b71a787a98d0a0cb13f40-9a489ba16be03eb3-2_mask_0.nii.gz\n"
     ]
    },
    {
     "name": "stderr",
     "output_type": "stream",
     "text": [
      "Loading dataset:  84%|█████████████████████████████████████████████████████████████████████████████████████████████████████████████████████▊                       | 478/572 [1:13:53<22:00, 14.05s/it]"
     ]
    },
    {
     "name": "stdout",
     "output_type": "stream",
     "text": [
      "2023-10-16 01:53:14,102 INFO image_writer.py:197 - writing: /home/vlermakov/Development/Nodules/Nodule-Detection-LUNA2016/processed_data_full_range_075mm_fixed/Gojequa__63ab3b8cce2962090bbf7e6c-6dce6de3decf286f-5/Gojequa__63ab3b8cce2962090bbf7e6c-6dce6de3decf286f-5_image_0.nii.gz\n",
      "2023-10-16 01:53:14,250 INFO image_writer.py:197 - writing: /home/vlermakov/Development/Nodules/Nodule-Detection-LUNA2016/processed_data_full_range_075mm_fixed/Gojequa__63ab3b8cce2962090bbf7e6c-6dce6de3decf286f-3/Gojequa__63ab3b8cce2962090bbf7e6c-6dce6de3decf286f-3_image_0.nii.gz\n",
      "2023-10-16 01:53:14,300 INFO image_writer.py:197 - writing: /home/vlermakov/Development/Nodules/Nodule-Detection-LUNA2016/processed_data_full_range_075mm_fixed/Lorique__635b71a787a98d0a0cb13f40-9a489ba16be03eb3-3/Lorique__635b71a787a98d0a0cb13f40-9a489ba16be03eb3-3_image_0.nii.gz\n",
      "2023-10-16 01:53:14,348 INFO image_writer.py:197 - writing: /home/vlermakov/Development/Nodules/Nodule-Detection-LUNA2016/processed_data_full_range_075mm_fixed/Lorique__635b71a787a98d0a0cb13f40-9a489ba16be03eb3-4/Lorique__635b71a787a98d0a0cb13f40-9a489ba16be03eb3-4_image_0.nii.gz\n",
      "2023-10-16 01:53:14,447 INFO image_writer.py:197 - writing: /home/vlermakov/Development/Nodules/Nodule-Detection-LUNA2016/processed_data_full_range_075mm_fixed/Gojequa__63ab3b8cce2962090bbf7e6c-6dce6de3decf286f-5/Gojequa__63ab3b8cce2962090bbf7e6c-6dce6de3decf286f-5_mask_0.nii.gz\n",
      "2023-10-16 01:53:14,627 INFO image_writer.py:197 - writing: /home/vlermakov/Development/Nodules/Nodule-Detection-LUNA2016/processed_data_full_range_075mm_fixed/Lorique__635b71a787a98d0a0cb13f40-9a489ba16be03eb3-3/Lorique__635b71a787a98d0a0cb13f40-9a489ba16be03eb3-3_mask_0.nii.gz\n",
      "2023-10-16 01:53:14,629 INFO image_writer.py:197 - writing: /home/vlermakov/Development/Nodules/Nodule-Detection-LUNA2016/processed_data_full_range_075mm_fixed/Gojequa__63ab3b8cce2962090bbf7e6c-6dce6de3decf286f-3/Gojequa__63ab3b8cce2962090bbf7e6c-6dce6de3decf286f-3_mask_0.nii.gz\n"
     ]
    },
    {
     "name": "stderr",
     "output_type": "stream",
     "text": [
      "\r",
      "Loading dataset:  84%|██████████████████████████████████████████████████████████████████████████████████████████████████████████████████████                       | 479/572 [1:14:06<21:10, 13.66s/it]"
     ]
    },
    {
     "name": "stdout",
     "output_type": "stream",
     "text": [
      "2023-10-16 01:53:24,756 INFO image_writer.py:197 - writing: /home/vlermakov/Development/Nodules/Nodule-Detection-LUNA2016/processed_data_full_range_075mm_fixed/Lorique__635b71a787a98d0a0cb13f40-9a489ba16be03eb3-4/Lorique__635b71a787a98d0a0cb13f40-9a489ba16be03eb3-4_mask_0.nii.gz\n"
     ]
    },
    {
     "name": "stderr",
     "output_type": "stream",
     "text": [
      "Loading dataset:  84%|██████████████████████████████████████████████████████████████████████████████████████████████████████████████████████▌                      | 481/572 [1:14:12<12:52,  8.49s/it]"
     ]
    },
    {
     "name": "stdout",
     "output_type": "stream",
     "text": [
      "2023-10-16 01:53:44,662 INFO image_writer.py:197 - writing: /home/vlermakov/Development/Nodules/Nodule-Detection-LUNA2016/processed_data_full_range_075mm_fixed/Frequalad__639a973d8cd370094ba5327f-ad6d500e3658fd69-5/Frequalad__639a973d8cd370094ba5327f-ad6d500e3658fd69-5_image_0.nii.gz\n",
      "2023-10-16 01:53:44,734 INFO image_writer.py:197 - writing: /home/vlermakov/Development/Nodules/Nodule-Detection-LUNA2016/processed_data_full_range_075mm_fixed/Frequalad__639a973d8cd370094ba5327f-ad6d500e3658fd69-4/Frequalad__639a973d8cd370094ba5327f-ad6d500e3658fd69-4_image_0.nii.gz\n",
      "2023-10-16 01:53:44,895 INFO image_writer.py:197 - writing: /home/vlermakov/Development/Nodules/Nodule-Detection-LUNA2016/processed_data_full_range_075mm_fixed/Frequalad__639a973d8cd370094ba5327f-ad6d500e3658fd69-2/Frequalad__639a973d8cd370094ba5327f-ad6d500e3658fd69-2_image_0.nii.gz\n",
      "2023-10-16 01:53:44,919 INFO image_writer.py:197 - writing: /home/vlermakov/Development/Nodules/Nodule-Detection-LUNA2016/processed_data_full_range_075mm_fixed/Frequalad__639a973d8cd370094ba5327f-ad6d500e3658fd69-5/Frequalad__639a973d8cd370094ba5327f-ad6d500e3658fd69-5_mask_0.nii.gz\n",
      "2023-10-16 01:53:44,989 INFO image_writer.py:197 - writing: /home/vlermakov/Development/Nodules/Nodule-Detection-LUNA2016/processed_data_full_range_075mm_fixed/Frequalad__639a973d8cd370094ba5327f-ad6d500e3658fd69-4/Frequalad__639a973d8cd370094ba5327f-ad6d500e3658fd69-4_mask_0.nii.gz\n",
      "2023-10-16 01:53:45,079 INFO image_writer.py:197 - writing: /home/vlermakov/Development/Nodules/Nodule-Detection-LUNA2016/processed_data_full_range_075mm_fixed/Frequalad__639a973d8cd370094ba5327f-ad6d500e3658fd69-2/Frequalad__639a973d8cd370094ba5327f-ad6d500e3658fd69-2_mask_0.nii.gz\n",
      "2023-10-16 01:54:00,488 INFO image_writer.py:197 - writing: /home/vlermakov/Development/Nodules/Nodule-Detection-LUNA2016/processed_data_full_range_075mm_fixed/Frequalad__639a973d8cd370094ba5327f-ad6d500e3658fd69-9/Frequalad__639a973d8cd370094ba5327f-ad6d500e3658fd69-9_image_0.nii.gz\n",
      "2023-10-16 01:54:01,107 INFO image_writer.py:197 - writing: /home/vlermakov/Development/Nodules/Nodule-Detection-LUNA2016/processed_data_full_range_075mm_fixed/Frequalad__639a973d8cd370094ba5327f-ad6d500e3658fd69-9/Frequalad__639a973d8cd370094ba5327f-ad6d500e3658fd69-9_mask_0.nii.gz\n",
      "2023-10-16 01:54:19,339 INFO image_writer.py:197 - writing: /home/vlermakov/Development/Nodules/Nodule-Detection-LUNA2016/processed_data_full_range_075mm_fixed/Frequalad__639a973d8cd370094ba5327f-ad6d500e3658fd69-7/Frequalad__639a973d8cd370094ba5327f-ad6d500e3658fd69-7_image_0.nii.gz\n",
      "2023-10-16 01:54:20,175 INFO image_writer.py:197 - writing: /home/vlermakov/Development/Nodules/Nodule-Detection-LUNA2016/processed_data_full_range_075mm_fixed/Frequalad__639a973d8cd370094ba5327f-ad6d500e3658fd69-7/Frequalad__639a973d8cd370094ba5327f-ad6d500e3658fd69-7_mask_0.nii.gz\n",
      "2023-10-16 01:54:29,163 INFO image_writer.py:197 - writing: /home/vlermakov/Development/Nodules/Nodule-Detection-LUNA2016/processed_data_full_range_075mm_fixed/Hehuji__6392026756acb209ebd5bff0-6fb12e3cd42670f2-30/Hehuji__6392026756acb209ebd5bff0-6fb12e3cd42670f2-30_image_0.nii.gz\n",
      "2023-10-16 01:54:31,977 INFO image_writer.py:197 - writing: /home/vlermakov/Development/Nodules/Nodule-Detection-LUNA2016/processed_data_full_range_075mm_fixed/Hehuji__6392026756acb209ebd5bff0-6fb12e3cd42670f2-30/Hehuji__6392026756acb209ebd5bff0-6fb12e3cd42670f2-30_mask_0.nii.gz\n"
     ]
    },
    {
     "name": "stderr",
     "output_type": "stream",
     "text": [
      "\r",
      "Loading dataset:  85%|███████████████████████████████████████████████████████████████████████████████████████████████████████████████████████▌                     | 485/572 [1:15:22<20:26, 14.10s/it]"
     ]
    },
    {
     "name": "stdout",
     "output_type": "stream",
     "text": [
      "2023-10-16 01:54:39,254 INFO image_writer.py:197 - writing: /home/vlermakov/Development/Nodules/Nodule-Detection-LUNA2016/processed_data_full_range_075mm_fixed/Hehuji__6392026756acb209ebd5bff0-6fb12e3cd42670f2-55/Hehuji__6392026756acb209ebd5bff0-6fb12e3cd42670f2-55_image_0.nii.gz\n",
      "2023-10-16 01:54:39,326 INFO image_writer.py:197 - writing: /home/vlermakov/Development/Nodules/Nodule-Detection-LUNA2016/processed_data_full_range_075mm_fixed/Nuborif__634f39759b64a8098e3728de-00809d65299fc510-33/Nuborif__634f39759b64a8098e3728de-00809d65299fc510-33_image_0.nii.gz\n",
      "2023-10-16 01:54:39,518 INFO image_writer.py:197 - writing: /home/vlermakov/Development/Nodules/Nodule-Detection-LUNA2016/processed_data_full_range_075mm_fixed/Hehuji__6392026756acb209ebd5bff0-6fb12e3cd42670f2-55/Hehuji__6392026756acb209ebd5bff0-6fb12e3cd42670f2-55_mask_0.nii.gz\n",
      "2023-10-16 01:54:39,610 INFO image_writer.py:197 - writing: /home/vlermakov/Development/Nodules/Nodule-Detection-LUNA2016/processed_data_full_range_075mm_fixed/Nuborif__634f39759b64a8098e3728de-00809d65299fc510-33/Nuborif__634f39759b64a8098e3728de-00809d65299fc510-33_mask_0.nii.gz\n",
      "2023-10-16 01:54:50,077 INFO image_writer.py:197 - writing: /home/vlermakov/Development/Nodules/Nodule-Detection-LUNA2016/processed_data_full_range_075mm_fixed/Hehuji__6392026756acb209ebd5bff0-6fb12e3cd42670f2-28/Hehuji__6392026756acb209ebd5bff0-6fb12e3cd42670f2-28_image_0.nii.gz\n",
      "2023-10-16 01:54:50,478 INFO image_writer.py:197 - writing: /home/vlermakov/Development/Nodules/Nodule-Detection-LUNA2016/processed_data_full_range_075mm_fixed/Hehuji__6392026756acb209ebd5bff0-6fb12e3cd42670f2-28/Hehuji__6392026756acb209ebd5bff0-6fb12e3cd42670f2-28_mask_0.nii.gz\n",
      "2023-10-16 01:54:50,643 INFO image_writer.py:197 - writing: /home/vlermakov/Development/Nodules/Nodule-Detection-LUNA2016/processed_data_full_range_075mm_fixed/Nuborif__634f39759b64a8098e3728de-00809d65299fc510-51/Nuborif__634f39759b64a8098e3728de-00809d65299fc510-51_image_0.nii.gz\n",
      "2023-10-16 01:54:50,711 INFO image_writer.py:197 - writing: /home/vlermakov/Development/Nodules/Nodule-Detection-LUNA2016/processed_data_full_range_075mm_fixed/Figooso__639a65a687b85209d3e6b589-ce202533fa3580c2-6/Figooso__639a65a687b85209d3e6b589-ce202533fa3580c2-6_image_0.nii.gz\n",
      "2023-10-16 01:54:51,041 INFO image_writer.py:197 - writing: /home/vlermakov/Development/Nodules/Nodule-Detection-LUNA2016/processed_data_full_range_075mm_fixed/Nuborif__634f39759b64a8098e3728de-00809d65299fc510-51/Nuborif__634f39759b64a8098e3728de-00809d65299fc510-51_mask_0.nii.gz\n"
     ]
    },
    {
     "name": "stderr",
     "output_type": "stream",
     "text": [
      "Loading dataset:  86%|█████████████████████████████████████████████████████████████████████████████████████████████████████████████████████████▊                   | 494/572 [1:15:44<06:41,  5.15s/it]"
     ]
    },
    {
     "name": "stdout",
     "output_type": "stream",
     "text": [
      "2023-10-16 01:54:59,612 INFO image_writer.py:197 - writing: /home/vlermakov/Development/Nodules/Nodule-Detection-LUNA2016/processed_data_full_range_075mm_fixed/Figooso__639a65a687b85209d3e6b589-ce202533fa3580c2-6/Figooso__639a65a687b85209d3e6b589-ce202533fa3580c2-6_mask_0.nii.gz\n"
     ]
    },
    {
     "name": "stderr",
     "output_type": "stream",
     "text": [
      "\r",
      "Loading dataset:  87%|██████████████████████████████████████████████████████████████████████████████████████████████████████████████████████████                   | 495/572 [1:15:44<05:45,  4.48s/it]"
     ]
    },
    {
     "name": "stdout",
     "output_type": "stream",
     "text": [
      "2023-10-16 01:55:14,100 INFO image_writer.py:197 - writing: /home/vlermakov/Development/Nodules/Nodule-Detection-LUNA2016/processed_data_full_range_075mm_fixed/Figooso__639a65a687b85209d3e6b589-ce202533fa3580c2-2/Figooso__639a65a687b85209d3e6b589-ce202533fa3580c2-2_image_0.nii.gz\n",
      "2023-10-16 01:55:14,241 INFO image_writer.py:197 - writing: /home/vlermakov/Development/Nodules/Nodule-Detection-LUNA2016/processed_data_full_range_075mm_fixed/Figooso__639a65a687b85209d3e6b589-ce202533fa3580c2-2/Figooso__639a65a687b85209d3e6b589-ce202533fa3580c2-2_mask_0.nii.gz\n"
     ]
    },
    {
     "name": "stderr",
     "output_type": "stream",
     "text": [
      "\r",
      "Loading dataset:  87%|██████████████████████████████████████████████████████████████████████████████████████████████████████████████████████████▎                  | 496/572 [1:16:02<08:32,  6.74s/it]"
     ]
    },
    {
     "name": "stdout",
     "output_type": "stream",
     "text": [
      "2023-10-16 01:55:30,152 INFO image_writer.py:197 - writing: /home/vlermakov/Development/Nodules/Nodule-Detection-LUNA2016/processed_data_full_range_075mm_fixed/Fabacou__63489701cc4e4c0afa55a3c9-1f1d94b82720a83d-1/Fabacou__63489701cc4e4c0afa55a3c9-1f1d94b82720a83d-1_image_0.nii.gz\n",
      "2023-10-16 01:55:30,183 INFO image_writer.py:197 - writing: /home/vlermakov/Development/Nodules/Nodule-Detection-LUNA2016/processed_data_full_range_075mm_fixed/Fabacou__63489701cc4e4c0afa55a3c9-1f1d94b82720a83d-2/Fabacou__63489701cc4e4c0afa55a3c9-1f1d94b82720a83d-2_image_0.nii.gz\n",
      "2023-10-16 01:55:30,276 INFO image_writer.py:197 - writing: /home/vlermakov/Development/Nodules/Nodule-Detection-LUNA2016/processed_data_full_range_075mm_fixed/Fabacou__63489701cc4e4c0afa55a3c9-1f1d94b82720a83d-1/Fabacou__63489701cc4e4c0afa55a3c9-1f1d94b82720a83d-1_mask_0.nii.gz\n",
      "2023-10-16 01:55:30,319 INFO image_writer.py:197 - writing: /home/vlermakov/Development/Nodules/Nodule-Detection-LUNA2016/processed_data_full_range_075mm_fixed/Fabacou__63489701cc4e4c0afa55a3c9-1f1d94b82720a83d-2/Fabacou__63489701cc4e4c0afa55a3c9-1f1d94b82720a83d-2_mask_0.nii.gz\n",
      "2023-10-16 01:55:43,548 INFO image_writer.py:197 - writing: /home/vlermakov/Development/Nodules/Nodule-Detection-LUNA2016/processed_data_full_range_075mm_fixed/Figooso__639a65a687b85209d3e6b589-ce202533fa3580c2-1/Figooso__639a65a687b85209d3e6b589-ce202533fa3580c2-1_image_0.nii.gz\n",
      "2023-10-16 01:55:43,838 INFO image_writer.py:197 - writing: /home/vlermakov/Development/Nodules/Nodule-Detection-LUNA2016/processed_data_full_range_075mm_fixed/Figooso__639a65a687b85209d3e6b589-ce202533fa3580c2-5/Figooso__639a65a687b85209d3e6b589-ce202533fa3580c2-5_image_0.nii.gz\n",
      "2023-10-16 01:55:45,208 INFO image_writer.py:197 - writing: /home/vlermakov/Development/Nodules/Nodule-Detection-LUNA2016/processed_data_full_range_075mm_fixed/Figooso__639a65a687b85209d3e6b589-ce202533fa3580c2-1/Figooso__639a65a687b85209d3e6b589-ce202533fa3580c2-1_mask_0.nii.gz\n",
      "2023-10-16 01:55:45,365 INFO image_writer.py:197 - writing: /home/vlermakov/Development/Nodules/Nodule-Detection-LUNA2016/processed_data_full_range_075mm_fixed/Figooso__639a65a687b85209d3e6b589-ce202533fa3580c2-5/Figooso__639a65a687b85209d3e6b589-ce202533fa3580c2-5_mask_0.nii.gz\n"
     ]
    },
    {
     "name": "stderr",
     "output_type": "stream",
     "text": [
      "Loading dataset:  87%|██████████████████████████████████████████████████████████████████████████████████████████████████████████████████████████▊                  | 498/572 [1:16:34<11:37,  9.42s/it]"
     ]
    },
    {
     "name": "stdout",
     "output_type": "stream",
     "text": [
      "2023-10-16 01:55:56,037 INFO image_writer.py:197 - writing: /home/vlermakov/Development/Nodules/Nodule-Detection-LUNA2016/processed_data_full_range_075mm_fixed/Hilescuet__636a7af7f14ec60bf5d0cd39-867016c8501a13d6-42/Hilescuet__636a7af7f14ec60bf5d0cd39-867016c8501a13d6-42_image_0.nii.gz\n",
      "2023-10-16 01:55:56,079 INFO image_writer.py:197 - writing: /home/vlermakov/Development/Nodules/Nodule-Detection-LUNA2016/processed_data_full_range_075mm_fixed/Fabacou__63489701cc4e4c0afa55a3c9-1f1d94b82720a83d-4/Fabacou__63489701cc4e4c0afa55a3c9-1f1d94b82720a83d-4_image_0.nii.gz\n",
      "2023-10-16 01:55:56,218 INFO image_writer.py:197 - writing: /home/vlermakov/Development/Nodules/Nodule-Detection-LUNA2016/processed_data_full_range_075mm_fixed/Hilescuet__636a7af7f14ec60bf5d0cd39-867016c8501a13d6-4/Hilescuet__636a7af7f14ec60bf5d0cd39-867016c8501a13d6-4_image_0.nii.gz\n",
      "2023-10-16 01:55:56,392 INFO image_writer.py:197 - writing: /home/vlermakov/Development/Nodules/Nodule-Detection-LUNA2016/processed_data_full_range_075mm_fixed/Hilescuet__636a7af7f14ec60bf5d0cd39-867016c8501a13d6-42/Hilescuet__636a7af7f14ec60bf5d0cd39-867016c8501a13d6-42_mask_0.nii.gz\n",
      "2023-10-16 01:55:56,692 INFO image_writer.py:197 - writing: /home/vlermakov/Development/Nodules/Nodule-Detection-LUNA2016/processed_data_full_range_075mm_fixed/Hilescuet__636a7af7f14ec60bf5d0cd39-867016c8501a13d6-4/Hilescuet__636a7af7f14ec60bf5d0cd39-867016c8501a13d6-4_mask_0.nii.gz\n",
      "2023-10-16 01:55:56,702 INFO image_writer.py:197 - writing: /home/vlermakov/Development/Nodules/Nodule-Detection-LUNA2016/processed_data_full_range_075mm_fixed/Fabacou__63489701cc4e4c0afa55a3c9-1f1d94b82720a83d-4/Fabacou__63489701cc4e4c0afa55a3c9-1f1d94b82720a83d-4_mask_0.nii.gz\n"
     ]
    },
    {
     "name": "stderr",
     "output_type": "stream",
     "text": [
      "Loading dataset:  88%|███████████████████████████████████████████████████████████████████████████████████████████████████████████████████████████▍                 | 501/572 [1:16:54<08:26,  7.13s/it]"
     ]
    },
    {
     "name": "stdout",
     "output_type": "stream",
     "text": [
      "2023-10-16 01:56:19,962 INFO image_writer.py:197 - writing: /home/vlermakov/Development/Nodules/Nodule-Detection-LUNA2016/processed_data_full_range_075mm_fixed/Fabacou__63489701cc4e4c0afa55a3c9-1f1d94b82720a83d-6/Fabacou__63489701cc4e4c0afa55a3c9-1f1d94b82720a83d-6_image_0.nii.gz\n",
      "2023-10-16 01:56:20,525 INFO image_writer.py:197 - writing: /home/vlermakov/Development/Nodules/Nodule-Detection-LUNA2016/processed_data_full_range_075mm_fixed/Fabacou__63489701cc4e4c0afa55a3c9-1f1d94b82720a83d-6/Fabacou__63489701cc4e4c0afa55a3c9-1f1d94b82720a83d-6_mask_0.nii.gz\n"
     ]
    },
    {
     "name": "stderr",
     "output_type": "stream",
     "text": [
      "\r",
      "Loading dataset:  88%|████████████████████████████████████████████████████████████████████████████████████████████████████████████████████████████▏                | 504/572 [1:17:05<05:57,  5.26s/it]"
     ]
    },
    {
     "name": "stdout",
     "output_type": "stream",
     "text": [
      "2023-10-16 01:56:28,555 INFO image_writer.py:197 - writing: /home/vlermakov/Development/Nodules/Nodule-Detection-LUNA2016/processed_data_full_range_075mm_fixed/Pokuemo__6348a963004b070db768786b-20bbabab099ef565-1/Pokuemo__6348a963004b070db768786b-20bbabab099ef565-1_image_0.nii.gz\n",
      "2023-10-16 01:56:29,265 INFO image_writer.py:197 - writing: /home/vlermakov/Development/Nodules/Nodule-Detection-LUNA2016/processed_data_full_range_075mm_fixed/Pokuemo__6348a963004b070db768786b-20bbabab099ef565-1/Pokuemo__6348a963004b070db768786b-20bbabab099ef565-1_mask_0.nii.gz\n"
     ]
    },
    {
     "name": "stderr",
     "output_type": "stream",
     "text": [
      "\r",
      "Loading dataset:  88%|████████████████████████████████████████████████████████████████████████████████████████████████████████████████████████████▍                | 505/572 [1:17:14<06:42,  6.01s/it]"
     ]
    },
    {
     "name": "stdout",
     "output_type": "stream",
     "text": [
      "2023-10-16 01:56:39,938 INFO image_writer.py:197 - writing: /home/vlermakov/Development/Nodules/Nodule-Detection-LUNA2016/processed_data_full_range_075mm_fixed/Sracaqua__63a2590a35c1960a20ae7267-58dc95391afae226-7/Sracaqua__63a2590a35c1960a20ae7267-58dc95391afae226-7_image_0.nii.gz\n",
      "2023-10-16 01:56:40,227 INFO image_writer.py:197 - writing: /home/vlermakov/Development/Nodules/Nodule-Detection-LUNA2016/processed_data_full_range_075mm_fixed/Sracaqua__63a2590a35c1960a20ae7267-58dc95391afae226-2/Sracaqua__63a2590a35c1960a20ae7267-58dc95391afae226-2_image_0.nii.gz\n",
      "2023-10-16 01:56:40,329 INFO image_writer.py:197 - writing: /home/vlermakov/Development/Nodules/Nodule-Detection-LUNA2016/processed_data_full_range_075mm_fixed/Sracaqua__63a2590a35c1960a20ae7267-58dc95391afae226-7/Sracaqua__63a2590a35c1960a20ae7267-58dc95391afae226-7_mask_0.nii.gz\n",
      "2023-10-16 01:56:40,476 INFO image_writer.py:197 - writing: /home/vlermakov/Development/Nodules/Nodule-Detection-LUNA2016/processed_data_full_range_075mm_fixed/Sracaqua__63a2590a35c1960a20ae7267-58dc95391afae226-2/Sracaqua__63a2590a35c1960a20ae7267-58dc95391afae226-2_mask_0.nii.gz\n"
     ]
    },
    {
     "name": "stderr",
     "output_type": "stream",
     "text": [
      "\r",
      "Loading dataset:  88%|████████████████████████████████████████████████████████████████████████████████████████████████████████████████████████████▋                | 506/572 [1:17:25<07:46,  7.08s/it]"
     ]
    },
    {
     "name": "stdout",
     "output_type": "stream",
     "text": [
      "2023-10-16 01:56:52,121 INFO image_writer.py:197 - writing: /home/vlermakov/Development/Nodules/Nodule-Detection-LUNA2016/processed_data_full_range_075mm_fixed/Sracaqua__63a2590a35c1960a20ae7267-58dc95391afae226-4/Sracaqua__63a2590a35c1960a20ae7267-58dc95391afae226-4_image_0.nii.gz\n",
      "2023-10-16 01:56:52,225 INFO image_writer.py:197 - writing: /home/vlermakov/Development/Nodules/Nodule-Detection-LUNA2016/processed_data_full_range_075mm_fixed/Sracaqua__63a2590a35c1960a20ae7267-58dc95391afae226-4/Sracaqua__63a2590a35c1960a20ae7267-58dc95391afae226-4_mask_0.nii.gz\n",
      "2023-10-16 01:56:59,248 INFO image_writer.py:197 - writing: /home/vlermakov/Development/Nodules/Nodule-Detection-LUNA2016/processed_data_full_range_075mm_fixed/Sracaqua__63a2590a35c1960a20ae7267-58dc95391afae226-3/Sracaqua__63a2590a35c1960a20ae7267-58dc95391afae226-3_image_0.nii.gz\n",
      "2023-10-16 01:56:59,834 INFO image_writer.py:197 - writing: /home/vlermakov/Development/Nodules/Nodule-Detection-LUNA2016/processed_data_full_range_075mm_fixed/Sracaqua__63a2590a35c1960a20ae7267-58dc95391afae226-3/Sracaqua__63a2590a35c1960a20ae7267-58dc95391afae226-3_mask_0.nii.gz\n"
     ]
    },
    {
     "name": "stderr",
     "output_type": "stream",
     "text": [
      "\r",
      "Loading dataset:  89%|████████████████████████████████████████████████████████████████████████████████████████████████████████████████████████████▉                | 507/572 [1:17:45<10:58, 10.13s/it]"
     ]
    },
    {
     "name": "stdout",
     "output_type": "stream",
     "text": [
      "2023-10-16 01:57:08,153 INFO image_writer.py:197 - writing: /home/vlermakov/Development/Nodules/Nodule-Detection-LUNA2016/processed_data_full_range_075mm_fixed/Sracaqua__63a2590a35c1960a20ae7267-58dc95391afae226-9/Sracaqua__63a2590a35c1960a20ae7267-58dc95391afae226-9_image_0.nii.gz\n",
      "2023-10-16 01:57:08,272 INFO image_writer.py:197 - writing: /home/vlermakov/Development/Nodules/Nodule-Detection-LUNA2016/processed_data_full_range_075mm_fixed/Sracaqua__63a2590a35c1960a20ae7267-58dc95391afae226-12/Sracaqua__63a2590a35c1960a20ae7267-58dc95391afae226-12_image_0.nii.gz\n",
      "2023-10-16 01:57:08,948 INFO image_writer.py:197 - writing: /home/vlermakov/Development/Nodules/Nodule-Detection-LUNA2016/processed_data_full_range_075mm_fixed/Sracaqua__63a2590a35c1960a20ae7267-58dc95391afae226-9/Sracaqua__63a2590a35c1960a20ae7267-58dc95391afae226-9_mask_0.nii.gz\n",
      "2023-10-16 01:57:09,128 INFO image_writer.py:197 - writing: /home/vlermakov/Development/Nodules/Nodule-Detection-LUNA2016/processed_data_full_range_075mm_fixed/Sracaqua__63a2590a35c1960a20ae7267-58dc95391afae226-12/Sracaqua__63a2590a35c1960a20ae7267-58dc95391afae226-12_mask_0.nii.gz\n"
     ]
    },
    {
     "name": "stderr",
     "output_type": "stream",
     "text": [
      "Loading dataset:  89%|█████████████████████████████████████████████████████████████████████████████████████████████████████████████████████████████▉               | 511/572 [1:18:00<06:33,  6.44s/it]"
     ]
    },
    {
     "name": "stdout",
     "output_type": "stream",
     "text": [
      "2023-10-16 01:57:22,429 INFO image_writer.py:197 - writing: /home/vlermakov/Development/Nodules/Nodule-Detection-LUNA2016/processed_data_full_range_075mm_fixed/Sracaqua__63a2590a35c1960a20ae7267-58dc95391afae226-15/Sracaqua__63a2590a35c1960a20ae7267-58dc95391afae226-15_image_0.nii.gz\n",
      "2023-10-16 01:57:23,389 INFO image_writer.py:197 - writing: /home/vlermakov/Development/Nodules/Nodule-Detection-LUNA2016/processed_data_full_range_075mm_fixed/Sracaqua__63a2590a35c1960a20ae7267-58dc95391afae226-15/Sracaqua__63a2590a35c1960a20ae7267-58dc95391afae226-15_mask_0.nii.gz\n"
     ]
    },
    {
     "name": "stderr",
     "output_type": "stream",
     "text": [
      "\r",
      "Loading dataset:  90%|██████████████████████████████████████████████████████████████████████████████████████████████████████████████████████████████▏              | 512/572 [1:18:12<07:44,  7.74s/it]"
     ]
    },
    {
     "name": "stdout",
     "output_type": "stream",
     "text": [
      "2023-10-16 01:57:42,808 INFO image_writer.py:197 - writing: /home/vlermakov/Development/Nodules/Nodule-Detection-LUNA2016/processed_data_full_range_075mm_fixed/Sracaqua__63a2590a35c1960a20ae7267-58dc95391afae226-16/Sracaqua__63a2590a35c1960a20ae7267-58dc95391afae226-16_image_0.nii.gz\n",
      "2023-10-16 01:57:43,090 INFO image_writer.py:197 - writing: /home/vlermakov/Development/Nodules/Nodule-Detection-LUNA2016/processed_data_full_range_075mm_fixed/Sracaqua__63a2590a35c1960a20ae7267-58dc95391afae226-16/Sracaqua__63a2590a35c1960a20ae7267-58dc95391afae226-16_mask_0.nii.gz\n"
     ]
    },
    {
     "name": "stderr",
     "output_type": "stream",
     "text": [
      "\r",
      "Loading dataset:  90%|██████████████████████████████████████████████████████████████████████████████████████████████████████████████████████████████▍              | 513/572 [1:18:28<09:24,  9.57s/it]"
     ]
    },
    {
     "name": "stdout",
     "output_type": "stream",
     "text": [
      "2023-10-16 01:57:50,428 INFO image_writer.py:197 - writing: /home/vlermakov/Development/Nodules/Nodule-Detection-LUNA2016/processed_data_full_range_075mm_fixed/Hakingques__63ab9e53eac577093e72750f-bc45f1bc3c72596f-2/Hakingques__63ab9e53eac577093e72750f-bc45f1bc3c72596f-2_image_0.nii.gz\n",
      "2023-10-16 01:57:50,736 INFO image_writer.py:197 - writing: /home/vlermakov/Development/Nodules/Nodule-Detection-LUNA2016/processed_data_full_range_075mm_fixed/Hakingques__63ab9e53eac577093e72750f-bc45f1bc3c72596f-3/Hakingques__63ab9e53eac577093e72750f-bc45f1bc3c72596f-3_image_0.nii.gz\n",
      "2023-10-16 01:57:50,910 INFO image_writer.py:197 - writing: /home/vlermakov/Development/Nodules/Nodule-Detection-LUNA2016/processed_data_full_range_075mm_fixed/Hakingques__63ab9e53eac577093e72750f-bc45f1bc3c72596f-1/Hakingques__63ab9e53eac577093e72750f-bc45f1bc3c72596f-1_image_0.nii.gz\n",
      "2023-10-16 01:57:51,807 INFO image_writer.py:197 - writing: /home/vlermakov/Development/Nodules/Nodule-Detection-LUNA2016/processed_data_full_range_075mm_fixed/Hakingques__63ab9e53eac577093e72750f-bc45f1bc3c72596f-2/Hakingques__63ab9e53eac577093e72750f-bc45f1bc3c72596f-2_mask_0.nii.gz\n",
      "2023-10-16 01:57:52,320 INFO image_writer.py:197 - writing: /home/vlermakov/Development/Nodules/Nodule-Detection-LUNA2016/processed_data_full_range_075mm_fixed/Hakingques__63ab9e53eac577093e72750f-bc45f1bc3c72596f-3/Hakingques__63ab9e53eac577093e72750f-bc45f1bc3c72596f-3_mask_0.nii.gz\n",
      "2023-10-16 01:57:52,403 INFO image_writer.py:197 - writing: /home/vlermakov/Development/Nodules/Nodule-Detection-LUNA2016/processed_data_full_range_075mm_fixed/Hakingques__63ab9e53eac577093e72750f-bc45f1bc3c72596f-1/Hakingques__63ab9e53eac577093e72750f-bc45f1bc3c72596f-1_mask_0.nii.gz\n"
     ]
    },
    {
     "name": "stderr",
     "output_type": "stream",
     "text": [
      "Loading dataset:  90%|███████████████████████████████████████████████████████████████████████████████████████████████████████████████████████████████▏             | 516/572 [1:18:50<06:34,  7.05s/it]"
     ]
    },
    {
     "name": "stdout",
     "output_type": "stream",
     "text": [
      "2023-10-16 01:58:07,055 INFO image_writer.py:197 - writing: /home/vlermakov/Development/Nodules/Nodule-Detection-LUNA2016/processed_data_full_range_075mm_fixed/Tuerekom__6398de01880d6509ab81113a-ebe7fd1520882b2a-1/Tuerekom__6398de01880d6509ab81113a-ebe7fd1520882b2a-1_image_0.nii.gz\n",
      "2023-10-16 01:58:07,080 INFO image_writer.py:197 - writing: /home/vlermakov/Development/Nodules/Nodule-Detection-LUNA2016/processed_data_full_range_075mm_fixed/Ridine__6356ce11082a7209e4cc413e-424ba96559bd619a-2/Ridine__6356ce11082a7209e4cc413e-424ba96559bd619a-2_image_0.nii.gz\n",
      "2023-10-16 01:58:07,126 INFO image_writer.py:197 - writing: /home/vlermakov/Development/Nodules/Nodule-Detection-LUNA2016/processed_data_full_range_075mm_fixed/Swofeku__63497e5b37d35c0b08218363-394918f06c4dfb49-1/Swofeku__63497e5b37d35c0b08218363-394918f06c4dfb49-1_image_0.nii.gz\n",
      "2023-10-16 01:58:07,222 INFO image_writer.py:197 - writing: /home/vlermakov/Development/Nodules/Nodule-Detection-LUNA2016/processed_data_full_range_075mm_fixed/Tuerekom__6398de01880d6509ab81113a-ebe7fd1520882b2a-1/Tuerekom__6398de01880d6509ab81113a-ebe7fd1520882b2a-1_mask_0.nii.gz\n",
      "2023-10-16 01:58:07,260 INFO image_writer.py:197 - writing: /home/vlermakov/Development/Nodules/Nodule-Detection-LUNA2016/processed_data_full_range_075mm_fixed/Ridine__6356ce11082a7209e4cc413e-424ba96559bd619a-2/Ridine__6356ce11082a7209e4cc413e-424ba96559bd619a-2_mask_0.nii.gz\n",
      "2023-10-16 01:58:07,323 INFO image_writer.py:197 - writing: /home/vlermakov/Development/Nodules/Nodule-Detection-LUNA2016/processed_data_full_range_075mm_fixed/Swofeku__63497e5b37d35c0b08218363-394918f06c4dfb49-1/Swofeku__63497e5b37d35c0b08218363-394918f06c4dfb49-1_mask_0.nii.gz\n"
     ]
    },
    {
     "name": "stderr",
     "output_type": "stream",
     "text": [
      "Loading dataset:  91%|███████████████████████████████████████████████████████████████████████████████████████████████████████████████████████████████▉             | 519/572 [1:19:05<04:52,  5.52s/it]"
     ]
    },
    {
     "name": "stdout",
     "output_type": "stream",
     "text": [
      "2023-10-16 01:58:44,405 INFO image_writer.py:197 - writing: /home/vlermakov/Development/Nodules/Nodule-Detection-LUNA2016/processed_data_full_range_075mm_fixed/Mohuteg__635da13e20a87a09e9c7f4e5-20cf4fd4a848af48-2/Mohuteg__635da13e20a87a09e9c7f4e5-20cf4fd4a848af48-2_image_0.nii.gz\n",
      "2023-10-16 01:58:44,591 INFO image_writer.py:197 - writing: /home/vlermakov/Development/Nodules/Nodule-Detection-LUNA2016/processed_data_full_range_075mm_fixed/Ridine__6356ce11082a7209e4cc413e-424ba96559bd619a-3/Ridine__6356ce11082a7209e4cc413e-424ba96559bd619a-3_image_0.nii.gz\n",
      "2023-10-16 01:58:45,327 INFO image_writer.py:197 - writing: /home/vlermakov/Development/Nodules/Nodule-Detection-LUNA2016/processed_data_full_range_075mm_fixed/Ridine__6356ce11082a7209e4cc413e-424ba96559bd619a-3/Ridine__6356ce11082a7209e4cc413e-424ba96559bd619a-3_mask_0.nii.gz\n",
      "2023-10-16 01:58:45,522 INFO image_writer.py:197 - writing: /home/vlermakov/Development/Nodules/Nodule-Detection-LUNA2016/processed_data_full_range_075mm_fixed/Mohuteg__635da13e20a87a09e9c7f4e5-20cf4fd4a848af48-2/Mohuteg__635da13e20a87a09e9c7f4e5-20cf4fd4a848af48-2_mask_0.nii.gz\n"
     ]
    },
    {
     "name": "stderr",
     "output_type": "stream",
     "text": [
      "\r",
      "Loading dataset:  91%|████████████████████████████████████████████████████████████████████████████████████████████████████████████████████████████████▏            | 520/572 [1:19:30<09:42, 11.21s/it]"
     ]
    },
    {
     "name": "stdout",
     "output_type": "stream",
     "text": [
      "2023-10-16 01:58:50,372 INFO image_writer.py:197 - writing: /home/vlermakov/Development/Nodules/Nodule-Detection-LUNA2016/processed_data_full_range_075mm_fixed/Mohuteg__635da13e20a87a09e9c7f4e5-20cf4fd4a848af48-3/Mohuteg__635da13e20a87a09e9c7f4e5-20cf4fd4a848af48-3_image_0.nii.gz\n",
      "2023-10-16 01:58:50,468 INFO image_writer.py:197 - writing: /home/vlermakov/Development/Nodules/Nodule-Detection-LUNA2016/processed_data_full_range_075mm_fixed/Mohuteg__635da13e20a87a09e9c7f4e5-20cf4fd4a848af48-3/Mohuteg__635da13e20a87a09e9c7f4e5-20cf4fd4a848af48-3_mask_0.nii.gz\n",
      "2023-10-16 01:58:59,936 INFO image_writer.py:197 - writing: /home/vlermakov/Development/Nodules/Nodule-Detection-LUNA2016/processed_data_full_range_075mm_fixed/Rakajid__634734d423189d0d837fa1e5-b543170c298db5fe-2/Rakajid__634734d423189d0d837fa1e5-b543170c298db5fe-2_image_0.nii.gz\n",
      "2023-10-16 01:59:00,009 INFO image_writer.py:197 - writing: /home/vlermakov/Development/Nodules/Nodule-Detection-LUNA2016/processed_data_full_range_075mm_fixed/Ridine__6356ce11082a7209e4cc413e-424ba96559bd619a-4/Ridine__6356ce11082a7209e4cc413e-424ba96559bd619a-4_image_0.nii.gz\n",
      "2023-10-16 01:59:00,073 INFO image_writer.py:197 - writing: /home/vlermakov/Development/Nodules/Nodule-Detection-LUNA2016/processed_data_full_range_075mm_fixed/Ridine__6356ce11082a7209e4cc413e-424ba96559bd619a-12/Ridine__6356ce11082a7209e4cc413e-424ba96559bd619a-12_image_0.nii.gz\n",
      "2023-10-16 01:59:01,535 INFO image_writer.py:197 - writing: /home/vlermakov/Development/Nodules/Nodule-Detection-LUNA2016/processed_data_full_range_075mm_fixed/Ridine__6356ce11082a7209e4cc413e-424ba96559bd619a-4/Ridine__6356ce11082a7209e4cc413e-424ba96559bd619a-4_mask_0.nii.gz\n",
      "2023-10-16 01:59:01,560 INFO image_writer.py:197 - writing: /home/vlermakov/Development/Nodules/Nodule-Detection-LUNA2016/processed_data_full_range_075mm_fixed/Rakajid__634734d423189d0d837fa1e5-b543170c298db5fe-2/Rakajid__634734d423189d0d837fa1e5-b543170c298db5fe-2_mask_0.nii.gz\n",
      "2023-10-16 01:59:01,728 INFO image_writer.py:197 - writing: /home/vlermakov/Development/Nodules/Nodule-Detection-LUNA2016/processed_data_full_range_075mm_fixed/Ridine__6356ce11082a7209e4cc413e-424ba96559bd619a-12/Ridine__6356ce11082a7209e4cc413e-424ba96559bd619a-12_mask_0.nii.gz\n"
     ]
    },
    {
     "name": "stderr",
     "output_type": "stream",
     "text": [
      "Loading dataset:  91%|████████████████████████████████████████████████████████████████████████████████████████████████████████████████████████████████▋            | 522/572 [1:19:56<09:35, 11.51s/it]"
     ]
    },
    {
     "name": "stdout",
     "output_type": "stream",
     "text": [
      "2023-10-16 01:59:13,638 INFO image_writer.py:197 - writing: /home/vlermakov/Development/Nodules/Nodule-Detection-LUNA2016/processed_data_full_range_075mm_fixed/Rakajid__634734d423189d0d837fa1e5-b543170c298db5fe-10/Rakajid__634734d423189d0d837fa1e5-b543170c298db5fe-10_image_0.nii.gz\n",
      "2023-10-16 01:59:13,764 INFO image_writer.py:197 - writing: /home/vlermakov/Development/Nodules/Nodule-Detection-LUNA2016/processed_data_full_range_075mm_fixed/Rakajid__634734d423189d0d837fa1e5-b543170c298db5fe-6/Rakajid__634734d423189d0d837fa1e5-b543170c298db5fe-6_image_0.nii.gz\n",
      "2023-10-16 01:59:13,960 INFO image_writer.py:197 - writing: /home/vlermakov/Development/Nodules/Nodule-Detection-LUNA2016/processed_data_full_range_075mm_fixed/Rakajid__634734d423189d0d837fa1e5-b543170c298db5fe-10/Rakajid__634734d423189d0d837fa1e5-b543170c298db5fe-10_mask_0.nii.gz\n",
      "2023-10-16 01:59:14,125 INFO image_writer.py:197 - writing: /home/vlermakov/Development/Nodules/Nodule-Detection-LUNA2016/processed_data_full_range_075mm_fixed/Rakajid__634734d423189d0d837fa1e5-b543170c298db5fe-6/Rakajid__634734d423189d0d837fa1e5-b543170c298db5fe-6_mask_0.nii.gz\n"
     ]
    },
    {
     "name": "stderr",
     "output_type": "stream",
     "text": [
      "Loading dataset:  92%|█████████████████████████████████████████████████████████████████████████████████████████████████████████████████████████████████▉           | 527/572 [1:20:05<03:34,  4.76s/it]"
     ]
    },
    {
     "name": "stdout",
     "output_type": "stream",
     "text": [
      "2023-10-16 01:59:29,581 INFO image_writer.py:197 - writing: /home/vlermakov/Development/Nodules/Nodule-Detection-LUNA2016/processed_data_full_range_075mm_fixed/Rakajid__634734d423189d0d837fa1e5-b543170c298db5fe-4/Rakajid__634734d423189d0d837fa1e5-b543170c298db5fe-4_image_0.nii.gz\n",
      "2023-10-16 01:59:29,805 INFO image_writer.py:197 - writing: /home/vlermakov/Development/Nodules/Nodule-Detection-LUNA2016/processed_data_full_range_075mm_fixed/Rakajid__634734d423189d0d837fa1e5-b543170c298db5fe-4/Rakajid__634734d423189d0d837fa1e5-b543170c298db5fe-4_mask_0.nii.gz\n",
      "2023-10-16 01:59:42,349 INFO image_writer.py:197 - writing: /home/vlermakov/Development/Nodules/Nodule-Detection-LUNA2016/processed_data_full_range_075mm_fixed/Jaquesif__635c0883f0d71409e69ab6ee-2614ffcc9569efdb-16/Jaquesif__635c0883f0d71409e69ab6ee-2614ffcc9569efdb-16_image_0.nii.gz\n",
      "2023-10-16 01:59:42,526 INFO image_writer.py:197 - writing: /home/vlermakov/Development/Nodules/Nodule-Detection-LUNA2016/processed_data_full_range_075mm_fixed/Jaquesif__635c0883f0d71409e69ab6ee-2614ffcc9569efdb-16/Jaquesif__635c0883f0d71409e69ab6ee-2614ffcc9569efdb-16_mask_0.nii.gz\n",
      "2023-10-16 01:59:45,745 INFO image_writer.py:197 - writing: /home/vlermakov/Development/Nodules/Nodule-Detection-LUNA2016/processed_data_full_range_075mm_fixed/Jaquesif__635c0883f0d71409e69ab6ee-2614ffcc9569efdb-30/Jaquesif__635c0883f0d71409e69ab6ee-2614ffcc9569efdb-30_image_0.nii.gz\n",
      "2023-10-16 01:59:45,931 INFO image_writer.py:197 - writing: /home/vlermakov/Development/Nodules/Nodule-Detection-LUNA2016/processed_data_full_range_075mm_fixed/Jaquesif__635c0883f0d71409e69ab6ee-2614ffcc9569efdb-30/Jaquesif__635c0883f0d71409e69ab6ee-2614ffcc9569efdb-30_mask_0.nii.gz\n",
      "2023-10-16 01:59:53,315 INFO image_writer.py:197 - writing: /home/vlermakov/Development/Nodules/Nodule-Detection-LUNA2016/processed_data_full_range_075mm_fixed/Rakajid__634734d423189d0d837fa1e5-b543170c298db5fe-9/Rakajid__634734d423189d0d837fa1e5-b543170c298db5fe-9_image_0.nii.gz\n",
      "2023-10-16 01:59:53,434 INFO image_writer.py:197 - writing: /home/vlermakov/Development/Nodules/Nodule-Detection-LUNA2016/processed_data_full_range_075mm_fixed/Rakajid__634734d423189d0d837fa1e5-b543170c298db5fe-11/Rakajid__634734d423189d0d837fa1e5-b543170c298db5fe-11_image_0.nii.gz\n",
      "2023-10-16 01:59:54,053 INFO image_writer.py:197 - writing: /home/vlermakov/Development/Nodules/Nodule-Detection-LUNA2016/processed_data_full_range_075mm_fixed/Rakajid__634734d423189d0d837fa1e5-b543170c298db5fe-9/Rakajid__634734d423189d0d837fa1e5-b543170c298db5fe-9_mask_0.nii.gz\n",
      "2023-10-16 01:59:54,391 INFO image_writer.py:197 - writing: /home/vlermakov/Development/Nodules/Nodule-Detection-LUNA2016/processed_data_full_range_075mm_fixed/Jaquesif__635c0883f0d71409e69ab6ee-2614ffcc9569efdb-10/Jaquesif__635c0883f0d71409e69ab6ee-2614ffcc9569efdb-10_image_0.nii.gz\n",
      "2023-10-16 01:59:54,436 INFO image_writer.py:197 - writing: /home/vlermakov/Development/Nodules/Nodule-Detection-LUNA2016/processed_data_full_range_075mm_fixed/Rakajid__634734d423189d0d837fa1e5-b543170c298db5fe-11/Rakajid__634734d423189d0d837fa1e5-b543170c298db5fe-11_mask_0.nii.gz\n"
     ]
    },
    {
     "name": "stderr",
     "output_type": "stream",
     "text": [
      "Loading dataset:  92%|██████████████████████████████████████████████████████████████████████████████████████████████████████████████████████████████████▍          | 529/572 [1:20:49<07:24, 10.35s/it]"
     ]
    },
    {
     "name": "stdout",
     "output_type": "stream",
     "text": [
      "2023-10-16 02:00:05,098 INFO image_writer.py:197 - writing: /home/vlermakov/Development/Nodules/Nodule-Detection-LUNA2016/processed_data_full_range_075mm_fixed/Jaquesif__635c0883f0d71409e69ab6ee-2614ffcc9569efdb-10/Jaquesif__635c0883f0d71409e69ab6ee-2614ffcc9569efdb-10_mask_0.nii.gz\n",
      "2023-10-16 02:00:11,421 INFO image_writer.py:197 - writing: /home/vlermakov/Development/Nodules/Nodule-Detection-LUNA2016/processed_data_full_range_075mm_fixed/Jaquesif__635c0883f0d71409e69ab6ee-2614ffcc9569efdb-38/Jaquesif__635c0883f0d71409e69ab6ee-2614ffcc9569efdb-38_image_0.nii.gz\n",
      "2023-10-16 02:00:11,813 INFO image_writer.py:197 - writing: /home/vlermakov/Development/Nodules/Nodule-Detection-LUNA2016/processed_data_full_range_075mm_fixed/Jaquesif__635c0883f0d71409e69ab6ee-2614ffcc9569efdb-38/Jaquesif__635c0883f0d71409e69ab6ee-2614ffcc9569efdb-38_mask_0.nii.gz\n"
     ]
    },
    {
     "name": "stderr",
     "output_type": "stream",
     "text": [
      "\r",
      "Loading dataset:  93%|███████████████████████████████████████████████████████████████████████████████████████████████████████████████████████████████████▍         | 533/572 [1:20:56<03:34,  5.49s/it]"
     ]
    },
    {
     "name": "stdout",
     "output_type": "stream",
     "text": [
      "2023-10-16 02:00:23,783 INFO image_writer.py:197 - writing: /home/vlermakov/Development/Nodules/Nodule-Detection-LUNA2016/processed_data_full_range_075mm_fixed/Jaquesif__635c0883f0d71409e69ab6ee-2614ffcc9569efdb-24/Jaquesif__635c0883f0d71409e69ab6ee-2614ffcc9569efdb-24_image_0.nii.gz\n",
      "2023-10-16 02:00:25,455 INFO image_writer.py:197 - writing: /home/vlermakov/Development/Nodules/Nodule-Detection-LUNA2016/processed_data_full_range_075mm_fixed/Jaquesif__635c0883f0d71409e69ab6ee-2614ffcc9569efdb-24/Jaquesif__635c0883f0d71409e69ab6ee-2614ffcc9569efdb-24_mask_0.nii.gz\n"
     ]
    },
    {
     "name": "stderr",
     "output_type": "stream",
     "text": [
      "\r",
      "Loading dataset:  94%|███████████████████████████████████████████████████████████████████████████████████████████████████████████████████████████████████▉         | 535/572 [1:21:10<03:40,  5.95s/it]"
     ]
    },
    {
     "name": "stdout",
     "output_type": "stream",
     "text": [
      "2023-10-16 02:00:39,753 INFO image_writer.py:197 - writing: /home/vlermakov/Development/Nodules/Nodule-Detection-LUNA2016/processed_data_full_range_075mm_fixed/Agunit__635c5d82411cc509bbd4adb1-285bd90aae01c143-2/Agunit__635c5d82411cc509bbd4adb1-285bd90aae01c143-2_image_0.nii.gz\n",
      "2023-10-16 02:00:39,802 INFO image_writer.py:197 - writing: /home/vlermakov/Development/Nodules/Nodule-Detection-LUNA2016/processed_data_full_range_075mm_fixed/Jaquesif__635c0883f0d71409e69ab6ee-2614ffcc9569efdb-6/Jaquesif__635c0883f0d71409e69ab6ee-2614ffcc9569efdb-6_image_0.nii.gz\n",
      "2023-10-16 02:00:40,153 INFO image_writer.py:197 - writing: /home/vlermakov/Development/Nodules/Nodule-Detection-LUNA2016/processed_data_full_range_075mm_fixed/Agunit__635c5d82411cc509bbd4adb1-285bd90aae01c143-2/Agunit__635c5d82411cc509bbd4adb1-285bd90aae01c143-2_mask_0.nii.gz\n",
      "2023-10-16 02:00:40,189 INFO image_writer.py:197 - writing: /home/vlermakov/Development/Nodules/Nodule-Detection-LUNA2016/processed_data_full_range_075mm_fixed/Nidogek__6365bdfc0dee27099135d96a-c364fa6109e8e920-1/Nidogek__6365bdfc0dee27099135d96a-c364fa6109e8e920-1_image_0.nii.gz\n",
      "2023-10-16 02:00:40,260 INFO image_writer.py:197 - writing: /home/vlermakov/Development/Nodules/Nodule-Detection-LUNA2016/processed_data_full_range_075mm_fixed/Jaquesif__635c0883f0d71409e69ab6ee-2614ffcc9569efdb-6/Jaquesif__635c0883f0d71409e69ab6ee-2614ffcc9569efdb-6_mask_0.nii.gz\n",
      "2023-10-16 02:00:47,629 INFO image_writer.py:197 - writing: /home/vlermakov/Development/Nodules/Nodule-Detection-LUNA2016/processed_data_full_range_075mm_fixed/Nidogek__6365bdfc0dee27099135d96a-c364fa6109e8e920-1/Nidogek__6365bdfc0dee27099135d96a-c364fa6109e8e920-1_mask_0.nii.gz\n",
      "2023-10-16 02:00:52,089 INFO image_writer.py:197 - writing: /home/vlermakov/Development/Nodules/Nodule-Detection-LUNA2016/processed_data_full_range_075mm_fixed/Jaquesif__635c0883f0d71409e69ab6ee-2614ffcc9569efdb-3/Jaquesif__635c0883f0d71409e69ab6ee-2614ffcc9569efdb-3_image_0.nii.gz\n",
      "2023-10-16 02:00:54,580 INFO image_writer.py:197 - writing: /home/vlermakov/Development/Nodules/Nodule-Detection-LUNA2016/processed_data_full_range_075mm_fixed/Jaquesif__635c0883f0d71409e69ab6ee-2614ffcc9569efdb-3/Jaquesif__635c0883f0d71409e69ab6ee-2614ffcc9569efdb-3_mask_0.nii.gz\n"
     ]
    },
    {
     "name": "stderr",
     "output_type": "stream",
     "text": [
      "\r",
      "Loading dataset:  94%|████████████████████████████████████████████████████████████████████████████████████████████████████████████████████████████████████▏        | 536/572 [1:21:39<05:54,  9.85s/it]"
     ]
    },
    {
     "name": "stdout",
     "output_type": "stream",
     "text": [
      "2023-10-16 02:01:04,409 INFO image_writer.py:197 - writing: /home/vlermakov/Development/Nodules/Nodule-Detection-LUNA2016/processed_data_full_range_075mm_fixed/Bekubo__63b458eee4a5ca0a6692aabc-962fc29302464333-10/Bekubo__63b458eee4a5ca0a6692aabc-962fc29302464333-10_image_0.nii.gz\n",
      "2023-10-16 02:01:04,615 INFO image_writer.py:197 - writing: /home/vlermakov/Development/Nodules/Nodule-Detection-LUNA2016/processed_data_full_range_075mm_fixed/Bekubo__63b458eee4a5ca0a6692aabc-962fc29302464333-3/Bekubo__63b458eee4a5ca0a6692aabc-962fc29302464333-3_image_0.nii.gz\n",
      "2023-10-16 02:01:04,787 INFO image_writer.py:197 - writing: /home/vlermakov/Development/Nodules/Nodule-Detection-LUNA2016/processed_data_full_range_075mm_fixed/Bekubo__63b458eee4a5ca0a6692aabc-962fc29302464333-10/Bekubo__63b458eee4a5ca0a6692aabc-962fc29302464333-10_mask_0.nii.gz\n",
      "2023-10-16 02:01:04,933 INFO image_writer.py:197 - writing: /home/vlermakov/Development/Nodules/Nodule-Detection-LUNA2016/processed_data_full_range_075mm_fixed/Bekubo__63b458eee4a5ca0a6692aabc-962fc29302464333-3/Bekubo__63b458eee4a5ca0a6692aabc-962fc29302464333-3_mask_0.nii.gz\n"
     ]
    },
    {
     "name": "stderr",
     "output_type": "stream",
     "text": [
      "Loading dataset:  94%|████████████████████████████████████████████████████████████████████████████████████████████████████████████████████████████████████▊        | 539/572 [1:21:57<04:21,  7.93s/it]"
     ]
    },
    {
     "name": "stdout",
     "output_type": "stream",
     "text": [
      "2023-10-16 02:01:21,307 INFO image_writer.py:197 - writing: /home/vlermakov/Development/Nodules/Nodule-Detection-LUNA2016/processed_data_full_range_075mm_fixed/Lorutink__63a5d070e433dc09846b1cae-7fa14ee9b10204f2-1/Lorutink__63a5d070e433dc09846b1cae-7fa14ee9b10204f2-1_image_0.nii.gz\n",
      "2023-10-16 02:01:22,219 INFO image_writer.py:197 - writing: /home/vlermakov/Development/Nodules/Nodule-Detection-LUNA2016/processed_data_full_range_075mm_fixed/Lorutink__63a5d070e433dc09846b1cae-7fa14ee9b10204f2-1/Lorutink__63a5d070e433dc09846b1cae-7fa14ee9b10204f2-1_mask_0.nii.gz\n"
     ]
    },
    {
     "name": "stderr",
     "output_type": "stream",
     "text": [
      "\r",
      "Loading dataset:  95%|█████████████████████████████████████████████████████████████████████████████████████████████████████████████████████████████████████▌       | 542/572 [1:22:07<02:52,  5.75s/it]"
     ]
    },
    {
     "name": "stdout",
     "output_type": "stream",
     "text": [
      "2023-10-16 02:01:35,896 INFO image_writer.py:197 - writing: /home/vlermakov/Development/Nodules/Nodule-Detection-LUNA2016/processed_data_full_range_075mm_fixed/Lorutink__63a5d070e433dc09846b1cae-7fa14ee9b10204f2-20/Lorutink__63a5d070e433dc09846b1cae-7fa14ee9b10204f2-20_image_0.nii.gz\n",
      "2023-10-16 02:01:36,128 INFO image_writer.py:197 - writing: /home/vlermakov/Development/Nodules/Nodule-Detection-LUNA2016/processed_data_full_range_075mm_fixed/Lorutink__63a5d070e433dc09846b1cae-7fa14ee9b10204f2-22/Lorutink__63a5d070e433dc09846b1cae-7fa14ee9b10204f2-22_image_0.nii.gz\n",
      "2023-10-16 02:01:36,540 INFO image_writer.py:197 - writing: /home/vlermakov/Development/Nodules/Nodule-Detection-LUNA2016/processed_data_full_range_075mm_fixed/Lorutink__63a5d070e433dc09846b1cae-7fa14ee9b10204f2-20/Lorutink__63a5d070e433dc09846b1cae-7fa14ee9b10204f2-20_mask_0.nii.gz\n",
      "2023-10-16 02:01:36,665 INFO image_writer.py:197 - writing: /home/vlermakov/Development/Nodules/Nodule-Detection-LUNA2016/processed_data_full_range_075mm_fixed/Lorutink__63a5d070e433dc09846b1cae-7fa14ee9b10204f2-22/Lorutink__63a5d070e433dc09846b1cae-7fa14ee9b10204f2-22_mask_0.nii.gz\n"
     ]
    },
    {
     "name": "stderr",
     "output_type": "stream",
     "text": [
      "\r",
      "Loading dataset:  95%|█████████████████████████████████████████████████████████████████████████████████████████████████████████████████████████████████████▊       | 543/572 [1:22:25<03:52,  8.03s/it]"
     ]
    },
    {
     "name": "stdout",
     "output_type": "stream",
     "text": [
      "2023-10-16 02:01:49,263 INFO image_writer.py:197 - writing: /home/vlermakov/Development/Nodules/Nodule-Detection-LUNA2016/processed_data_full_range_075mm_fixed/Lorutink__63a5d070e433dc09846b1cae-7fa14ee9b10204f2-45/Lorutink__63a5d070e433dc09846b1cae-7fa14ee9b10204f2-45_image_0.nii.gz\n",
      "2023-10-16 02:01:51,146 INFO image_writer.py:197 - writing: /home/vlermakov/Development/Nodules/Nodule-Detection-LUNA2016/processed_data_full_range_075mm_fixed/Lorutink__63a5d070e433dc09846b1cae-7fa14ee9b10204f2-45/Lorutink__63a5d070e433dc09846b1cae-7fa14ee9b10204f2-45_mask_0.nii.gz\n"
     ]
    },
    {
     "name": "stderr",
     "output_type": "stream",
     "text": [
      "\r",
      "Loading dataset:  95%|██████████████████████████████████████████████████████████████████████████████████████████████████████████████████████████████████████▎      | 545/572 [1:22:38<03:21,  7.47s/it]"
     ]
    },
    {
     "name": "stdout",
     "output_type": "stream",
     "text": [
      "2023-10-16 02:01:59,172 INFO image_writer.py:197 - writing: /home/vlermakov/Development/Nodules/Nodule-Detection-LUNA2016/processed_data_full_range_075mm_fixed/Socaba__634f75973d4cd80a563b3648-5058755badbc1fdb-2/Socaba__634f75973d4cd80a563b3648-5058755badbc1fdb-2_image_0.nii.gz\n",
      "2023-10-16 02:01:59,574 INFO image_writer.py:197 - writing: /home/vlermakov/Development/Nodules/Nodule-Detection-LUNA2016/processed_data_full_range_075mm_fixed/Socaba__634f75973d4cd80a563b3648-5058755badbc1fdb-2/Socaba__634f75973d4cd80a563b3648-5058755badbc1fdb-2_mask_0.nii.gz\n",
      "2023-10-16 02:02:04,687 INFO image_writer.py:197 - writing: /home/vlermakov/Development/Nodules/Nodule-Detection-LUNA2016/processed_data_full_range_075mm_fixed/Dihudi__6364ef416c3bc909b9dd7a4d-70420073126caf60-1/Dihudi__6364ef416c3bc909b9dd7a4d-70420073126caf60-1_image_0.nii.gz\n",
      "2023-10-16 02:02:04,902 INFO image_writer.py:197 - writing: /home/vlermakov/Development/Nodules/Nodule-Detection-LUNA2016/processed_data_full_range_075mm_fixed/Dihudi__6364ef416c3bc909b9dd7a4d-70420073126caf60-1/Dihudi__6364ef416c3bc909b9dd7a4d-70420073126caf60-1_mask_0.nii.gz\n",
      "2023-10-16 02:02:10,893 INFO image_writer.py:197 - writing: /home/vlermakov/Development/Nodules/Nodule-Detection-LUNA2016/processed_data_full_range_075mm_fixed/Socaba__634f75973d4cd80a563b3648-5058755badbc1fdb-26/Socaba__634f75973d4cd80a563b3648-5058755badbc1fdb-26_image_0.nii.gz\n",
      "2023-10-16 02:02:11,260 INFO image_writer.py:197 - writing: /home/vlermakov/Development/Nodules/Nodule-Detection-LUNA2016/processed_data_full_range_075mm_fixed/Lorutink__63a5d070e433dc09846b1cae-7fa14ee9b10204f2-5/Lorutink__63a5d070e433dc09846b1cae-7fa14ee9b10204f2-5_image_0.nii.gz\n",
      "2023-10-16 02:02:11,551 INFO image_writer.py:197 - writing: /home/vlermakov/Development/Nodules/Nodule-Detection-LUNA2016/processed_data_full_range_075mm_fixed/Socaba__634f75973d4cd80a563b3648-5058755badbc1fdb-26/Socaba__634f75973d4cd80a563b3648-5058755badbc1fdb-26_mask_0.nii.gz\n",
      "2023-10-16 02:02:11,758 INFO image_writer.py:197 - writing: /home/vlermakov/Development/Nodules/Nodule-Detection-LUNA2016/processed_data_full_range_075mm_fixed/Lorutink__63a5d070e433dc09846b1cae-7fa14ee9b10204f2-5/Lorutink__63a5d070e433dc09846b1cae-7fa14ee9b10204f2-5_mask_0.nii.gz\n"
     ]
    },
    {
     "name": "stderr",
     "output_type": "stream",
     "text": [
      "Loading dataset:  96%|██████████████████████████████████████████████████████████████████████████████████████████████████████████████████████████████████████▊      | 547/572 [1:23:14<04:27, 10.70s/it]"
     ]
    },
    {
     "name": "stdout",
     "output_type": "stream",
     "text": [
      "2023-10-16 02:02:41,356 INFO image_writer.py:197 - writing: /home/vlermakov/Development/Nodules/Nodule-Detection-LUNA2016/processed_data_full_range_075mm_fixed/Ukebjiem__635fdb2ff274cb09b785cf7d-252336a4cd0f589a-3/Ukebjiem__635fdb2ff274cb09b785cf7d-252336a4cd0f589a-3_image_0.nii.gz\n",
      "2023-10-16 02:02:41,603 INFO image_writer.py:197 - writing: /home/vlermakov/Development/Nodules/Nodule-Detection-LUNA2016/processed_data_full_range_075mm_fixed/Ukebjiem__635fdb2ff274cb09b785cf7d-252336a4cd0f589a-3/Ukebjiem__635fdb2ff274cb09b785cf7d-252336a4cd0f589a-3_mask_0.nii.gz\n",
      "2023-10-16 02:02:58,370 INFO image_writer.py:197 - writing: /home/vlermakov/Development/Nodules/Nodule-Detection-LUNA2016/processed_data_full_range_075mm_fixed/Socaba__634f75973d4cd80a563b3648-5058755badbc1fdb-27/Socaba__634f75973d4cd80a563b3648-5058755badbc1fdb-27_image_0.nii.gz\n",
      "2023-10-16 02:02:58,558 INFO image_writer.py:197 - writing: /home/vlermakov/Development/Nodules/Nodule-Detection-LUNA2016/processed_data_full_range_075mm_fixed/Socaba__634f75973d4cd80a563b3648-5058755badbc1fdb-10/Socaba__634f75973d4cd80a563b3648-5058755badbc1fdb-10_image_0.nii.gz\n",
      "2023-10-16 02:02:58,585 INFO image_writer.py:197 - writing: /home/vlermakov/Development/Nodules/Nodule-Detection-LUNA2016/processed_data_full_range_075mm_fixed/Socaba__634f75973d4cd80a563b3648-5058755badbc1fdb-27/Socaba__634f75973d4cd80a563b3648-5058755badbc1fdb-27_mask_0.nii.gz\n",
      "2023-10-16 02:02:58,717 INFO image_writer.py:197 - writing: /home/vlermakov/Development/Nodules/Nodule-Detection-LUNA2016/processed_data_full_range_075mm_fixed/Socaba__634f75973d4cd80a563b3648-5058755badbc1fdb-10/Socaba__634f75973d4cd80a563b3648-5058755badbc1fdb-10_mask_0.nii.gz\n"
     ]
    },
    {
     "name": "stderr",
     "output_type": "stream",
     "text": [
      "Loading dataset:  97%|████████████████████████████████████████████████████████████████████████████████████████████████████████████████████████████████████████     | 552/572 [1:23:53<02:47,  8.38s/it]"
     ]
    },
    {
     "name": "stdout",
     "output_type": "stream",
     "text": [
      "2023-10-16 02:03:10,158 INFO image_writer.py:197 - writing: /home/vlermakov/Development/Nodules/Nodule-Detection-LUNA2016/processed_data_full_range_075mm_fixed/Olcisof__637168b46ff93909bff3b504-92d60ae0d61b1ede-5/Olcisof__637168b46ff93909bff3b504-92d60ae0d61b1ede-5_image_0.nii.gz\n",
      "2023-10-16 02:03:10,328 INFO image_writer.py:197 - writing: /home/vlermakov/Development/Nodules/Nodule-Detection-LUNA2016/processed_data_full_range_075mm_fixed/Ukebjiem__635fdb2ff274cb09b785cf7d-252336a4cd0f589a-4/Ukebjiem__635fdb2ff274cb09b785cf7d-252336a4cd0f589a-4_image_0.nii.gz\n",
      "2023-10-16 02:03:10,460 INFO image_writer.py:197 - writing: /home/vlermakov/Development/Nodules/Nodule-Detection-LUNA2016/processed_data_full_range_075mm_fixed/Ukebjiem__635fdb2ff274cb09b785cf7d-252336a4cd0f589a-5/Ukebjiem__635fdb2ff274cb09b785cf7d-252336a4cd0f589a-5_image_0.nii.gz\n",
      "2023-10-16 02:03:10,606 INFO image_writer.py:197 - writing: /home/vlermakov/Development/Nodules/Nodule-Detection-LUNA2016/processed_data_full_range_075mm_fixed/Olcisof__637168b46ff93909bff3b504-92d60ae0d61b1ede-5/Olcisof__637168b46ff93909bff3b504-92d60ae0d61b1ede-5_mask_0.nii.gz\n",
      "2023-10-16 02:03:10,659 INFO image_writer.py:197 - writing: /home/vlermakov/Development/Nodules/Nodule-Detection-LUNA2016/processed_data_full_range_075mm_fixed/Ukebjiem__635fdb2ff274cb09b785cf7d-252336a4cd0f589a-4/Ukebjiem__635fdb2ff274cb09b785cf7d-252336a4cd0f589a-4_mask_0.nii.gz\n",
      "2023-10-16 02:03:10,754 INFO image_writer.py:197 - writing: /home/vlermakov/Development/Nodules/Nodule-Detection-LUNA2016/processed_data_full_range_075mm_fixed/Ukebjiem__635fdb2ff274cb09b785cf7d-252336a4cd0f589a-5/Ukebjiem__635fdb2ff274cb09b785cf7d-252336a4cd0f589a-5_mask_0.nii.gz\n"
     ]
    },
    {
     "name": "stderr",
     "output_type": "stream",
     "text": [
      "Loading dataset:  97%|████████████████████████████████████████████████████████████████████████████████████████████████████████████████████████████████████████▌    | 554/572 [1:24:07<02:21,  7.84s/it]"
     ]
    },
    {
     "name": "stdout",
     "output_type": "stream",
     "text": [
      "2023-10-16 02:03:38,671 INFO image_writer.py:197 - writing: /home/vlermakov/Development/Nodules/Nodule-Detection-LUNA2016/processed_data_full_range_075mm_fixed/Jasnuflo__6397c2e2cd336609a6555a6a-4dd9c1cba146dfb4-3/Jasnuflo__6397c2e2cd336609a6555a6a-4dd9c1cba146dfb4-3_image_0.nii.gz\n",
      "2023-10-16 02:03:38,863 INFO image_writer.py:197 - writing: /home/vlermakov/Development/Nodules/Nodule-Detection-LUNA2016/processed_data_full_range_075mm_fixed/Jasnuflo__6397c2e2cd336609a6555a6a-4dd9c1cba146dfb4-3/Jasnuflo__6397c2e2cd336609a6555a6a-4dd9c1cba146dfb4-3_mask_0.nii.gz\n",
      "2023-10-16 02:03:58,189 INFO image_writer.py:197 - writing: /home/vlermakov/Development/Nodules/Nodule-Detection-LUNA2016/processed_data_full_range_075mm_fixed/Jebeemu__635d55d2437ad10a1985c268-050545ecfa7512b4-2/Jebeemu__635d55d2437ad10a1985c268-050545ecfa7512b4-2_image_0.nii.gz\n",
      "2023-10-16 02:03:58,610 INFO image_writer.py:197 - writing: /home/vlermakov/Development/Nodules/Nodule-Detection-LUNA2016/processed_data_full_range_075mm_fixed/Jebeemu__635d55d2437ad10a1985c268-050545ecfa7512b4-2/Jebeemu__635d55d2437ad10a1985c268-050545ecfa7512b4-2_mask_0.nii.gz\n",
      "2023-10-16 02:03:58,656 INFO image_writer.py:197 - writing: /home/vlermakov/Development/Nodules/Nodule-Detection-LUNA2016/processed_data_full_range_075mm_fixed/Jebeemu__635d55d2437ad10a1985c268-050545ecfa7512b4-3/Jebeemu__635d55d2437ad10a1985c268-050545ecfa7512b4-3_image_0.nii.gz\n"
     ]
    },
    {
     "name": "stderr",
     "output_type": "stream",
     "text": [
      "\r",
      "Loading dataset:  97%|█████████████████████████████████████████████████████████████████████████████████████████████████████████████████████████████████████████    | 556/572 [1:24:43<03:12, 12.05s/it]"
     ]
    },
    {
     "name": "stdout",
     "output_type": "stream",
     "text": [
      "2023-10-16 02:04:02,196 INFO image_writer.py:197 - writing: /home/vlermakov/Development/Nodules/Nodule-Detection-LUNA2016/processed_data_full_range_075mm_fixed/Gunifa__636b3a60f9a65d09d5dbe1f2-e5b414d812e2abbf-3/Gunifa__636b3a60f9a65d09d5dbe1f2-e5b414d812e2abbf-3_image_0.nii.gz\n",
      "2023-10-16 02:04:02,220 INFO image_writer.py:197 - writing: /home/vlermakov/Development/Nodules/Nodule-Detection-LUNA2016/processed_data_full_range_075mm_fixed/Jebeemu__635d55d2437ad10a1985c268-050545ecfa7512b4-3/Jebeemu__635d55d2437ad10a1985c268-050545ecfa7512b4-3_mask_0.nii.gz\n",
      "2023-10-16 02:04:02,283 INFO image_writer.py:197 - writing: /home/vlermakov/Development/Nodules/Nodule-Detection-LUNA2016/processed_data_full_range_075mm_fixed/Gunifa__636b3a60f9a65d09d5dbe1f2-e5b414d812e2abbf-4/Gunifa__636b3a60f9a65d09d5dbe1f2-e5b414d812e2abbf-4_image_0.nii.gz\n",
      "2023-10-16 02:04:02,313 INFO image_writer.py:197 - writing: /home/vlermakov/Development/Nodules/Nodule-Detection-LUNA2016/processed_data_full_range_075mm_fixed/Gunifa__636b3a60f9a65d09d5dbe1f2-e5b414d812e2abbf-3/Gunifa__636b3a60f9a65d09d5dbe1f2-e5b414d812e2abbf-3_mask_0.nii.gz\n"
     ]
    },
    {
     "name": "stderr",
     "output_type": "stream",
     "text": [
      "\r",
      "Loading dataset:  97%|█████████████████████████████████████████████████████████████████████████████████████████████████████████████████████████████████████████▎   | 557/572 [1:24:47<02:33, 10.20s/it]"
     ]
    },
    {
     "name": "stdout",
     "output_type": "stream",
     "text": [
      "2023-10-16 02:04:05,998 INFO image_writer.py:197 - writing: /home/vlermakov/Development/Nodules/Nodule-Detection-LUNA2016/processed_data_full_range_075mm_fixed/Gunifa__636b3a60f9a65d09d5dbe1f2-e5b414d812e2abbf-4/Gunifa__636b3a60f9a65d09d5dbe1f2-e5b414d812e2abbf-4_mask_0.nii.gz\n",
      "2023-10-16 02:04:21,313 INFO image_writer.py:197 - writing: /home/vlermakov/Development/Nodules/Nodule-Detection-LUNA2016/processed_data_full_range_075mm_fixed/Gunifa__636b3a60f9a65d09d5dbe1f2-e5b414d812e2abbf-1/Gunifa__636b3a60f9a65d09d5dbe1f2-e5b414d812e2abbf-1_image_0.nii.gz\n",
      "2023-10-16 02:04:21,363 INFO image_writer.py:197 - writing: /home/vlermakov/Development/Nodules/Nodule-Detection-LUNA2016/processed_data_full_range_075mm_fixed/Gunifa__636b3a60f9a65d09d5dbe1f2-e5b414d812e2abbf-2/Gunifa__636b3a60f9a65d09d5dbe1f2-e5b414d812e2abbf-2_image_0.nii.gz\n",
      "2023-10-16 02:04:21,465 INFO image_writer.py:197 - writing: /home/vlermakov/Development/Nodules/Nodule-Detection-LUNA2016/processed_data_full_range_075mm_fixed/Gunifa__636b3a60f9a65d09d5dbe1f2-e5b414d812e2abbf-1/Gunifa__636b3a60f9a65d09d5dbe1f2-e5b414d812e2abbf-1_mask_0.nii.gz\n",
      "2023-10-16 02:04:21,510 INFO image_writer.py:197 - writing: /home/vlermakov/Development/Nodules/Nodule-Detection-LUNA2016/processed_data_full_range_075mm_fixed/Gunifa__636b3a60f9a65d09d5dbe1f2-e5b414d812e2abbf-2/Gunifa__636b3a60f9a65d09d5dbe1f2-e5b414d812e2abbf-2_mask_0.nii.gz\n",
      "2023-10-16 02:04:30,156 INFO image_writer.py:197 - writing: /home/vlermakov/Development/Nodules/Nodule-Detection-LUNA2016/processed_data_full_range_075mm_fixed/Jebeemu__635d55d2437ad10a1985c268-050545ecfa7512b4-43/Jebeemu__635d55d2437ad10a1985c268-050545ecfa7512b4-43_image_0.nii.gz\n",
      "2023-10-16 02:04:30,384 INFO image_writer.py:197 - writing: /home/vlermakov/Development/Nodules/Nodule-Detection-LUNA2016/processed_data_full_range_075mm_fixed/Jebeemu__635d55d2437ad10a1985c268-050545ecfa7512b4-43/Jebeemu__635d55d2437ad10a1985c268-050545ecfa7512b4-43_mask_0.nii.gz\n"
     ]
    },
    {
     "name": "stderr",
     "output_type": "stream",
     "text": [
      "Loading dataset:  98%|█████████████████████████████████████████████████████████████████████████████████████████████████████████████████████████████████████████▊   | 559/572 [1:25:19<02:32, 11.74s/it]"
     ]
    },
    {
     "name": "stdout",
     "output_type": "stream",
     "text": [
      "2023-10-16 02:04:58,344 INFO image_writer.py:197 - writing: /home/vlermakov/Development/Nodules/Nodule-Detection-LUNA2016/processed_data_full_range_075mm_fixed/Sopoopra__63979710b75a1a0997e54f40-5f10b4917eccbda0-12/Sopoopra__63979710b75a1a0997e54f40-5f10b4917eccbda0-12_image_0.nii.gz\n",
      "2023-10-16 02:04:58,404 INFO image_writer.py:197 - writing: /home/vlermakov/Development/Nodules/Nodule-Detection-LUNA2016/processed_data_full_range_075mm_fixed/Sopoopra__63979710b75a1a0997e54f40-5f10b4917eccbda0-3/Sopoopra__63979710b75a1a0997e54f40-5f10b4917eccbda0-3_image_0.nii.gz\n",
      "2023-10-16 02:04:58,621 INFO image_writer.py:197 - writing: /home/vlermakov/Development/Nodules/Nodule-Detection-LUNA2016/processed_data_full_range_075mm_fixed/Sopoopra__63979710b75a1a0997e54f40-5f10b4917eccbda0-3/Sopoopra__63979710b75a1a0997e54f40-5f10b4917eccbda0-3_mask_0.nii.gz\n",
      "2023-10-16 02:04:58,645 INFO image_writer.py:197 - writing: /home/vlermakov/Development/Nodules/Nodule-Detection-LUNA2016/processed_data_full_range_075mm_fixed/Sopoopra__63979710b75a1a0997e54f40-5f10b4917eccbda0-12/Sopoopra__63979710b75a1a0997e54f40-5f10b4917eccbda0-12_mask_0.nii.gz\n",
      "2023-10-16 02:05:06,087 INFO image_writer.py:197 - writing: /home/vlermakov/Development/Nodules/Nodule-Detection-LUNA2016/processed_data_full_range_075mm_fixed/Tusliblu__639d0eea65dc5409534a9682-ed7d5ece31464573-4/Tusliblu__639d0eea65dc5409534a9682-ed7d5ece31464573-4_image_0.nii.gz\n",
      "2023-10-16 02:05:06,122 INFO image_writer.py:197 - writing: /home/vlermakov/Development/Nodules/Nodule-Detection-LUNA2016/processed_data_full_range_075mm_fixed/Tusliblu__639d0eea65dc5409534a9682-ed7d5ece31464573-16/Tusliblu__639d0eea65dc5409534a9682-ed7d5ece31464573-16_image_0.nii.gz\n",
      "2023-10-16 02:05:06,216 INFO image_writer.py:197 - writing: /home/vlermakov/Development/Nodules/Nodule-Detection-LUNA2016/processed_data_full_range_075mm_fixed/Tusliblu__639d0eea65dc5409534a9682-ed7d5ece31464573-1/Tusliblu__639d0eea65dc5409534a9682-ed7d5ece31464573-1_image_0.nii.gz\n",
      "2023-10-16 02:05:06,611 INFO image_writer.py:197 - writing: /home/vlermakov/Development/Nodules/Nodule-Detection-LUNA2016/processed_data_full_range_075mm_fixed/Sopoopra__63979710b75a1a0997e54f40-5f10b4917eccbda0-1/Sopoopra__63979710b75a1a0997e54f40-5f10b4917eccbda0-1_image_0.nii.gz\n",
      "2023-10-16 02:05:07,241 INFO image_writer.py:197 - writing: /home/vlermakov/Development/Nodules/Nodule-Detection-LUNA2016/processed_data_full_range_075mm_fixed/Tusliblu__639d0eea65dc5409534a9682-ed7d5ece31464573-16/Tusliblu__639d0eea65dc5409534a9682-ed7d5ece31464573-16_mask_0.nii.gz\n",
      "2023-10-16 02:05:07,332 INFO image_writer.py:197 - writing: /home/vlermakov/Development/Nodules/Nodule-Detection-LUNA2016/processed_data_full_range_075mm_fixed/Tusliblu__639d0eea65dc5409534a9682-ed7d5ece31464573-4/Tusliblu__639d0eea65dc5409534a9682-ed7d5ece31464573-4_mask_0.nii.gz\n",
      "2023-10-16 02:05:07,521 INFO image_writer.py:197 - writing: /home/vlermakov/Development/Nodules/Nodule-Detection-LUNA2016/processed_data_full_range_075mm_fixed/Tusliblu__639d0eea65dc5409534a9682-ed7d5ece31464573-1/Tusliblu__639d0eea65dc5409534a9682-ed7d5ece31464573-1_mask_0.nii.gz\n",
      "2023-10-16 02:05:07,561 INFO image_writer.py:197 - writing: /home/vlermakov/Development/Nodules/Nodule-Detection-LUNA2016/processed_data_full_range_075mm_fixed/Sopoopra__63979710b75a1a0997e54f40-5f10b4917eccbda0-1/Sopoopra__63979710b75a1a0997e54f40-5f10b4917eccbda0-1_mask_0.nii.gz\n"
     ]
    },
    {
     "name": "stderr",
     "output_type": "stream",
     "text": [
      "\r",
      "Loading dataset:  99%|███████████████████████████████████████████████████████████████████████████████████████████████████████████████████████████████████████████  | 564/572 [1:25:52<01:07,  8.42s/it]"
     ]
    },
    {
     "name": "stdout",
     "output_type": "stream",
     "text": [
      "2023-10-16 02:05:10,016 INFO image_writer.py:197 - writing: /home/vlermakov/Development/Nodules/Nodule-Detection-LUNA2016/processed_data_full_range_075mm_fixed/Tusliblu__639d0eea65dc5409534a9682-ed7d5ece31464573-7/Tusliblu__639d0eea65dc5409534a9682-ed7d5ece31464573-7_image_0.nii.gz\n",
      "2023-10-16 02:05:10,035 INFO image_writer.py:197 - writing: /home/vlermakov/Development/Nodules/Nodule-Detection-LUNA2016/processed_data_full_range_075mm_fixed/Sopoopra__63979710b75a1a0997e54f40-5f10b4917eccbda0-2/Sopoopra__63979710b75a1a0997e54f40-5f10b4917eccbda0-2_image_0.nii.gz\n",
      "2023-10-16 02:05:10,107 INFO image_writer.py:197 - writing: /home/vlermakov/Development/Nodules/Nodule-Detection-LUNA2016/processed_data_full_range_075mm_fixed/Tusliblu__639d0eea65dc5409534a9682-ed7d5ece31464573-7/Tusliblu__639d0eea65dc5409534a9682-ed7d5ece31464573-7_mask_0.nii.gz\n",
      "2023-10-16 02:05:10,136 INFO image_writer.py:197 - writing: /home/vlermakov/Development/Nodules/Nodule-Detection-LUNA2016/processed_data_full_range_075mm_fixed/Sopoopra__63979710b75a1a0997e54f40-5f10b4917eccbda0-2/Sopoopra__63979710b75a1a0997e54f40-5f10b4917eccbda0-2_mask_0.nii.gz\n"
     ]
    },
    {
     "name": "stderr",
     "output_type": "stream",
     "text": [
      "\r",
      "Loading dataset:  99%|███████████████████████████████████████████████████████████████████████████████████████████████████████████████████████████████████████████▊ | 567/572 [1:25:54<00:28,  5.71s/it]"
     ]
    },
    {
     "name": "stdout",
     "output_type": "stream",
     "text": [
      "2023-10-16 02:05:17,214 INFO image_writer.py:197 - writing: /home/vlermakov/Development/Nodules/Nodule-Detection-LUNA2016/processed_data_full_range_075mm_fixed/Minfirag__639e23cbea9f2a08f65eef42-7be7b2798d23ebf2-3/Minfirag__639e23cbea9f2a08f65eef42-7be7b2798d23ebf2-3_image_0.nii.gz\n",
      "2023-10-16 02:05:17,308 INFO image_writer.py:197 - writing: /home/vlermakov/Development/Nodules/Nodule-Detection-LUNA2016/processed_data_full_range_075mm_fixed/Minfirag__639e23cbea9f2a08f65eef42-7be7b2798d23ebf2-3/Minfirag__639e23cbea9f2a08f65eef42-7be7b2798d23ebf2-3_mask_0.nii.gz\n"
     ]
    },
    {
     "name": "stderr",
     "output_type": "stream",
     "text": [
      "Loading dataset: 100%|█████████████████████████████████████████████████████████████████████████████████████████████████████████████████████████████████████████████| 572/572 [1:26:02<00:00,  9.02s/it]\n"
     ]
    }
   ],
   "source": [
    "def file_name_formatter(metadict: dict, saver) -> dict:\n",
    "    return {\"subject\": metadict['phonetic_id'] + \"__\" + metadict['patch_id'], \"idx\": 0}\n",
    "    \n",
    "    \n",
    "if(len(unprocessed_scans) > 0):\n",
    "    pre_process_transforms = Compose(\n",
    "        [\n",
    "            LoadImaged(keys=[\"image\"], ensure_channel_first=True, image_only=False),\n",
    "            LoadArterysMaskd(keys=[\"mask\"], ensure_channel_first=True),\n",
    "            AddCustomerMetadatad(keys=[\"image\",\"mask\"],meta_keys=[\"mrn\",\"phonetic_id\",\"patch_id\"]),\n",
    "            ScaleIntensityRanged(\n",
    "                keys=[\"image\"],\n",
    "                a_min=run.config.intensity_range_min,\n",
    "                a_max=run.config.intensity_range_max,\n",
    "                b_min=0.0,\n",
    "                b_max=1.0,\n",
    "                clip=True,\n",
    "            ),\n",
    "            Spacingd(\n",
    "                keys=[\"image\",\"mask\"],\n",
    "                pixdim=(run.config.resample_resolution, run.config.resample_resolution, run.config.resample_resolution),\n",
    "                mode=(\"bilinear\",\"nearest\"),\n",
    "            ),\n",
    "            CropToNoduled(keys=[\"image\",\"mask\"]),\n",
    "            SaveImaged(keys=[\"image\"], output_name_formatter=file_name_formatter ,output_dir=PRE_PROCESSED_DIRECTORY, output_postfix=\"image\", output_ext=\".nii.gz\", resample=False),\n",
    "            SaveImaged(keys=[\"mask\"], output_name_formatter=file_name_formatter, output_dir=PRE_PROCESSED_DIRECTORY, output_postfix=\"mask\", output_ext=\".nii.gz\", resample=False)\n",
    "        ]\n",
    "    )\n",
    "\n",
    "    train_ds = CacheDataset(\n",
    "        data=unprocessed_scans[1:],\n",
    "        transform=pre_process_transforms,\n",
    "        cache_num=len(unprocessed_scans[1:]),\n",
    "        cache_rate=1.0,\n",
    "        num_workers=8,\n",
    "    )\n",
    "\n"
   ]
  },
  {
   "cell_type": "code",
   "execution_count": 24,
   "id": "aebb8e7d",
   "metadata": {},
   "outputs": [
    {
     "name": "stderr",
     "output_type": "stream",
     "text": [
      "\u001b[34m\u001b[1mwandb\u001b[0m: Adding directory to artifact (/home/vlermakov/Development/Nodules/Nodule-Detection-LUNA2016/processed_data_full_range_075mm_fixed)... Done. 0.7s\n"
     ]
    },
    {
     "data": {
      "text/plain": [
       "<Artifact nodules_and_masks_dataset>"
      ]
     },
     "execution_count": 24,
     "metadata": {},
     "output_type": "execute_result"
    }
   ],
   "source": [
    "\n",
    "nodules_dataset_artifact = wandb.Artifact(\n",
    "    'nodules_and_masks_dataset',\n",
    "    type=\"dataset\"\n",
    "    )\n",
    "\n",
    "# Log the raw csv file within an artifact to preserve our data\n",
    "nodules_dataset_artifact.add_dir(run.config.pre_processed_folder)\n",
    "\n",
    "run.log_artifact(nodules_dataset_artifact)\n"
   ]
  },
  {
   "cell_type": "code",
   "execution_count": 25,
   "id": "44e6640f",
   "metadata": {},
   "outputs": [
    {
     "data": {
      "text/html": [
       "Waiting for W&B process to finish... <strong style=\"color:green\">(success).</strong>"
      ],
      "text/plain": [
       "<IPython.core.display.HTML object>"
      ]
     },
     "metadata": {},
     "output_type": "display_data"
    },
    {
     "data": {
      "text/html": [
       " View run <strong style=\"color:#cdcd00\">PreprocessData</strong> at: <a href='https://wandb.ai/vladimire/NoduleClassification/runs/bl9ir4zj' target=\"_blank\">https://wandb.ai/vladimire/NoduleClassification/runs/bl9ir4zj</a><br/> View job at <a href='https://wandb.ai/vladimire/NoduleClassification/jobs/QXJ0aWZhY3RDb2xsZWN0aW9uOjEwNzEwNjkxNg==/version_details/v0' target=\"_blank\">https://wandb.ai/vladimire/NoduleClassification/jobs/QXJ0aWZhY3RDb2xsZWN0aW9uOjEwNzEwNjkxNg==/version_details/v0</a><br/>Synced 6 W&B file(s), 1 media file(s), 1213 artifact file(s) and 0 other file(s)"
      ],
      "text/plain": [
       "<IPython.core.display.HTML object>"
      ]
     },
     "metadata": {},
     "output_type": "display_data"
    },
    {
     "data": {
      "text/html": [
       "Find logs at: <code>./wandb/run-20231016_002020-bl9ir4zj/logs</code>"
      ],
      "text/plain": [
       "<IPython.core.display.HTML object>"
      ]
     },
     "metadata": {},
     "output_type": "display_data"
    }
   ],
   "source": [
    "run.finish()"
   ]
  },
  {
   "cell_type": "code",
   "execution_count": null,
   "id": "8f9c93c3",
   "metadata": {},
   "outputs": [],
   "source": [
    "fname = '/media/vlermakov/data/UCSDNodules/Metastatic/data/Sukicuk__2.25.113743471811282083585069081717620800044/2.25.113743471811282083585069081717620800044/2.25.326808598846151585390527901137079074435'"
   ]
  },
  {
   "cell_type": "code",
   "execution_count": null,
   "id": "3f218352",
   "metadata": {},
   "outputs": [],
   "source": [
    "import re\n",
    "\n",
    "\n",
    "match = re.search(r'/(\\w+__)\\d+\\.\\d+\\.\\d+/\\d+\\.\\d+\\.(\\d+)/\\d+\\.\\d+\\.(\\d+)', fname)\n",
    "\n",
    "if match:\n",
    "    result = match.group(1) + match.group(3)\n",
    "    print(result)"
   ]
  },
  {
   "cell_type": "code",
   "execution_count": null,
   "id": "14d8aa4f",
   "metadata": {},
   "outputs": [],
   "source": [
    "unprocessed_scans"
   ]
  },
  {
   "cell_type": "code",
   "execution_count": null,
   "id": "26d45f41",
   "metadata": {},
   "outputs": [],
   "source": []
  }
 ],
 "metadata": {
  "kernelspec": {
   "display_name": "Python 3 (ipykernel)",
   "language": "python",
   "name": "python3"
  },
  "language_info": {
   "codemirror_mode": {
    "name": "ipython",
    "version": 3
   },
   "file_extension": ".py",
   "mimetype": "text/x-python",
   "name": "python",
   "nbconvert_exporter": "python",
   "pygments_lexer": "ipython3",
   "version": "3.11.5"
  }
 },
 "nbformat": 4,
 "nbformat_minor": 5
}
